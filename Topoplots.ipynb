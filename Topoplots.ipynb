{
 "cells": [
  {
   "cell_type": "code",
   "execution_count": null,
   "metadata": {},
   "outputs": [],
   "source": [
    "import scipy.io as sio\n",
    "import numpy as np\n",
    "from matplotlib.colors import ListedColormap\n",
    "from scipy.stats import pearsonr\n",
    "import seaborn as sn\n",
    "import mne\n",
    "import matplotlib.pyplot as plt\n",
    "%matplotlib qt\n",
    "%gui qt\n",
    "\n",
    "# File names for the baseline and signal files\n",
    "str_FileName_R = 'Sujeto35_R_processed.fif'  # Name of the baseline file\n",
    "str_FileName_MF = 'Sujeto35_MF_processed.fif'  # Name of the signal file\n",
    "fileR = mne.read_epochs(str_FileName_R)  \n",
    "fileMF = mne.read_epochs(str_FileName_MF)\n",
    "\n",
    "# Get the data \n",
    "data_R = fileR.get_data()  # Shape: (n_epochs, n_channels, n_times)\n",
    "data_MF = fileMF.get_data()\n",
    "normalized_data = np.zeros_like(data_MF)\n",
    "\n",
    "# Randomly select an epoch from the data (you can use np.random.choice to pick a random index)\n",
    "random_epoch_index_R = np.random.randint(data_R.shape[0])  # Random index for fileR\n",
    "random_epoch_index_MF = np.random.randint(data_MF.shape[0])  # Random index for fileMF\n",
    "\n",
    "# Get the selected epoch\n",
    "random_epoch_R = data_R[random_epoch_index_R]  # Shape: (n_channels, n_times)\n",
    "random_epoch_MF = data_MF[random_epoch_index_MF]  # Shape: (n_channels, n_times)\n",
    "\n",
    "# Get the number of time points for the random epoch\n",
    "n_times_random_R = random_epoch_R.shape[1]  # Number of time points in the selected epoch\n",
    "n_times_random_MF = random_epoch_MF.shape[1]  # Number of time points in the selected epoch\n",
    "\n",
    "# Print the number of time points for each random epoch\n",
    "print(f\"Number of time points in the randomly selected epoch from fileR: {n_times_random_R}\")\n",
    "print(f\"Number of time points in the randomly selected epoch from fileMF: {n_times_random_MF}\")"
   ]
  },
  {
   "cell_type": "markdown",
   "metadata": {},
   "source": [
    "## PSD in two different ways "
   ]
  },
  {
   "cell_type": "code",
   "execution_count": null,
   "metadata": {},
   "outputs": [],
   "source": [
    "###Plot signal and PSD\n",
    "\n",
    "import numpy as np\n",
    "import mne\n",
    "import matplotlib.pyplot as plt\n",
    "\n",
    "#fileR.plot(n_epochs=1, picks=\"eeg\")\n",
    "# fileMF.plot(n_epochs=1, picks=\"eeg\", scalings=\"auto\")\n",
    "\n",
    "# Get the PSD data for both conditions\n",
    "psd_R, freqs_R = fileR.compute_psd(method='welch', fmin=0.5, fmax=50 ).get_data(return_freqs=True)\n",
    "psd_MF, freqs_MF = fileMF.compute_psd(method='welch', fmin=0.5, fmax=50).get_data(return_freqs=True)\n",
    "\n",
    "# Number of channels\n",
    "n_epochs_R, n_channels_R, _ = psd_R.shape\n",
    "n_epochs_MF, n_channels_MF, _ = psd_MF.shape\n",
    "\n",
    "# Plotting\n",
    "fig, axs = plt.subplots(2, 1, figsize=(12, 8), sharex=True)\n",
    "\n",
    "channel_names = fileR.ch_names\n",
    "# Plot averaged PSD for each channel in the Resting condition\n",
    "for ch in range(n_channels_R):  # Only first 4 channels for better visualization\n",
    "    avg_psd_R = np.mean(psd_R[:, ch, :], axis=0)/1e-12  # Average across epochs\n",
    "    axs[0].plot(freqs_R, avg_psd_R, label=channel_names[ch])\n",
    "\n",
    "# Plot averaged PSD for each channel in the MF condition\n",
    "for ch in range(n_channels_MF):  # Only first 4 channels for better visualization\n",
    "    avg_psd_MF = np.mean(psd_MF[:, ch, :], axis=0)/1e-12  # Average across epochs\n",
    "    axs[1].plot(freqs_MF, avg_psd_MF, label=channel_names[ch])\n",
    "\n",
    "axs[0].set_title(\"PSD - Resting Condition\")\n",
    "axs[1].set_title(\"PSD - MF Condition\")\n",
    "axs[1].set_xlabel(\"Frequency (Hz)\")\n",
    "axs[0].set_ylabel(\"Power Spectral Density (dB)\")\n",
    "axs[1].set_ylabel(\"Power Spectral Density (dB)\")\n",
    "\n",
    "# Show legend with channel names\n",
    "axs[0].legend(loc=\"upper right\", fontsize=8)\n",
    "axs[1].legend(loc=\"upper right\", fontsize=8)\n",
    "\n",
    "plt.tight_layout()\n",
    "plt.show()"
   ]
  },
  {
   "cell_type": "code",
   "execution_count": null,
   "metadata": {},
   "outputs": [],
   "source": [
    "##Testing fft\n",
    "\n",
    "import numpy as np\n",
    "import matplotlib.pyplot as plt\n",
    "from scipy.fft import fft\n",
    "\n",
    "# Assuming fileR.get_data() returns a 3D array (epochs, channels, time)\n",
    "data = fileMF.get_data()  # 3D array of shape (epochs, channels, time)\n",
    "\n",
    "# Extract the first channel across all epochs (shape: epochs, time)\n",
    "data = data[:, 7, :]  \n",
    "\n",
    "# Number of samples (time points) in each epoch\n",
    "N = data.shape[1]  # Assuming the second dimension is the time (shape: epochs, time)\n",
    "sampling_rate = 1024  # Sampling frequency in Hz\n",
    "\n",
    "# Initialize a list to store the PSDs of each epoch\n",
    "psds = []\n",
    "\n",
    "# Iterate over each epoch\n",
    "for epoch_data in data:\n",
    "    # Perform the FFT for each epoch (only the first channel, which is already extracted)\n",
    "    fft_result = fft(epoch_data)\n",
    "\n",
    "    # Calculate the Power Spectral Density (PSD) as the squared magnitude of the FFT result\n",
    "    psd = np.abs(fft_result) ** 2\n",
    "\n",
    "    # Append the PSD to the list\n",
    "    psds.append(psd)\n",
    "\n",
    "# Convert the list of PSDs to a numpy array (shape: epochs, frequency bins)\n",
    "psds = np.array(psds)\n",
    "\n",
    "# Average the PSDs across all epochs\n",
    "averaged_psd = np.mean(psds, axis=0)\n",
    "\n",
    "# Calculate the corresponding frequency values\n",
    "frequencies = np.fft.fftfreq(N, 1 / sampling_rate)\n",
    "\n",
    "# Plot the averaged PSD (only positive frequencies)\n",
    "plt.figure(figsize=(10, 6))\n",
    "plt.plot(frequencies[:N // 2], averaged_psd[:N // 2])  # Plot the positive frequencies\n",
    "plt.xlabel('Frequency (Hz)')\n",
    "plt.ylabel('Average Power Spectral Density')\n",
    "plt.title('Averaged PSD for First Channel Across Epochs')\n",
    "plt.grid(True)\n",
    "plt.xlim(0,50)\n",
    "plt.show()"
   ]
  },
  {
   "cell_type": "markdown",
   "metadata": {},
   "source": [
    "### Topomaps"
   ]
  },
  {
   "cell_type": "code",
   "execution_count": null,
   "metadata": {},
   "outputs": [],
   "source": [
    "import numpy as np\n",
    "import mne\n",
    "import matplotlib.pyplot as plt\n",
    "\n",
    "# Compute PSDs using Welch's method\n",
    "psd_R, freqs_R = fileR.compute_psd(method='welch', fmin=0.5, fmax=30).get_data(return_freqs=True)\n",
    "psd_MF, freqs_MF = fileMF.compute_psd(method='welch', fmin=0.5, fmax=30).get_data(return_freqs=True)\n",
    "\n",
    "# Average PSD across all epochs\n",
    "avg_psd_R = np.mean(psd_R, axis=0)  # Shape: (n_channels, n_freqs)\n",
    "avg_psd_MF = np.mean(psd_MF, axis=0)  # Shape: (n_channels, n_freqs)\n",
    "\n",
    "# Define frequency bands\n",
    "frequency_bands = {\n",
    "    'Delta': (0.5, 4),\n",
    "    'Theta': (4, 8),\n",
    "    'Alpha': (8, 12),\n",
    "    'Beta': (12, 18),\n",
    "    'Fast Beta': (18, 30),\n",
    "}\n",
    "\n",
    "# Plot topomaps for resting state\n",
    "info = fileR.info  # Use the baseline's info for channel locations\n",
    "n_bands = len(frequency_bands)\n",
    "fig, axes = plt.subplots(1, n_bands, figsize=(15, 5))  # Create a row of subplots\n",
    "\n",
    "for ax, (band, (fmin, fmax)) in zip(axes, frequency_bands.items()):\n",
    "    # Find indices for the current band\n",
    "    band_idx = np.logical_and(freqs_R >= fmin, freqs_R <= fmax)\n",
    "    \n",
    "    # Average the power across the band\n",
    "    band_power_R = np.mean(avg_psd_R[:, band_idx], axis=1)  # Mean over the frequency axis\n",
    "    \n",
    "    # Plot the topomap\n",
    "    im, _ = mne.viz.plot_topomap(\n",
    "        band_power_R, \n",
    "        info, \n",
    "        axes=ax, \n",
    "        cmap='jet', \n",
    "        show=False  # Disable immediate showing to allow subplot arrangement\n",
    "    )\n",
    "    ax.set_title(f'{band} Band (Resting)')\n",
    "    cbar = plt.colorbar(im, ax=ax, shrink=0.6, orientation='horizontal', pad=0.1)\n",
    "    cbar.set_label('Power')\n",
    "    \n",
    "plt.suptitle(\"Resting State Topomap\", fontsize=16)\n",
    "plt.tight_layout()\n",
    "plt.show()\n",
    "\n",
    "# Plot topomaps for mindfulness state\n",
    "fig, axes = plt.subplots(1, n_bands, figsize=(15, 5))  # Create a row of subplots\n",
    "\n",
    "for ax, (band, (fmin, fmax)) in zip(axes, frequency_bands.items()):\n",
    "    # Find indices for the current band\n",
    "    band_idx = np.logical_and(freqs_MF >= fmin, freqs_MF <= fmax)\n",
    "    \n",
    "    # Average the power across the band\n",
    "    band_power_MF = np.mean(avg_psd_MF[:, band_idx], axis=1)  # Mean over the frequency axis\n",
    "    \n",
    "    # Plot the topomap\n",
    "    im, _ = mne.viz.plot_topomap(\n",
    "        band_power_MF, \n",
    "        info, \n",
    "        axes=ax, \n",
    "        cmap='jet', \n",
    "        show=False  # Disable immediate showing to allow subplot arrangement\n",
    "    )\n",
    "    ax.set_title(f'{band} Band (Mindfulness)')\n",
    "    cbar = plt.colorbar(im, ax=ax, shrink=0.6, orientation='horizontal', pad=0.1)\n",
    "    cbar.set_label('Power')\n",
    "\n",
    "plt.suptitle(\"Mindfulness State Topomap\", fontsize=16)\n",
    "plt.tight_layout()\n",
    "plt.show()"
   ]
  },
  {
   "cell_type": "code",
   "execution_count": null,
   "metadata": {},
   "outputs": [],
   "source": [
    "#Testing other function\n",
    "\n",
    "import mne\n",
    "import numpy as np\n",
    "import matplotlib.pyplot as plt\n",
    "\n",
    "# Define frequency range and FFT parameters\n",
    "fmin, fmax = 0.5, 50  # Frequency range\n",
    "n_fft = 256  # FFT length\n",
    "tmax = 2.0  # Maximum time window for epochs\n",
    "bands = [(1, 4, \"Delta\"), (4, 8, \"Theta\"), (8, 12, \"Alpha\"), (12, 18, \"Beta slow\"),(18, 30, \"Beta fast\"), (30, 50, \"Gammma\")]  # Frequency bands\n",
    "\n",
    "# --- 1. PSD Plot for Raw Data ---\n",
    "psd_R = fileR.compute_psd(method='welch',fmin=fmin, fmax=fmax)\n",
    "psd_R.plot(dB=True, ci=\"std\")\n",
    "\n",
    "psd_MF = fileMF.compute_psd(method='welch',fmin=fmin, fmax=fmax)\n",
    "psd_MF.plot(dB=True, ci=\"std\")\n",
    "\n",
    "\n",
    "# ####\n",
    "# fig, axs = plt.subplots(3, 1)\n",
    "\n",
    "# # Plot for psd_values_R in the first subplot (top left)\n",
    "# psd_values_R, freqs = psd_R.get_data(return_freqs=True)\n",
    "# for psd_value in psd_values_R:\n",
    "#     axs[0].plot(freqs, 10 * np.log10(psd_value.mean(axis=0) / 1e-12))  # Plot the mean PSD across channels\n",
    "# axs[0].set_xlabel(\"Frequency (Hz)\")\n",
    "# axs[0].set_ylabel(\"PSD (dB)\")\n",
    "# axs[0].set_title(\"PSD for psd_R\")\n",
    "\n",
    "# # Plot for psd_values_MF in the second subplot (top right)\n",
    "# psd_values_MF, freqs = psd_MF.get_data(return_freqs=True)\n",
    "# for psd_value in psd_values_MF:\n",
    "#     axs[1].plot(freqs, 10 * np.log10(psd_value.mean(axis=0) / 1e-12))  # Plot the mean PSD across channels\n",
    "# axs[1].set_xlabel(\"Frequency (Hz)\")\n",
    "# axs[1].set_ylabel(\"PSD (dB)\")\n",
    "# axs[1].set_title(\"PSD for psd_MF\")\n",
    "\n",
    "# # Calculate the difference (MF - R) and plot it in the third subplot (bottom left)\n",
    "# for psd_value_R, psd_value_MF in zip(psd_values_R, psd_values_MF):\n",
    "#     difference = 10 * np.log10(psd_value_MF.mean(axis=0) / 1e-12) - 10 * np.log10(psd_value_R.mean(axis=0) / 1e-12)\n",
    "#     axs[2].plot(freqs, difference)  # Plot the difference in PSD (dB)\n",
    "# axs[2].set_xlabel(\"Frequency (Hz)\")\n",
    "# axs[2].set_ylabel(\"Difference (dB)\")\n",
    "# axs[2].set_title(\"Difference (MF - R)\")\n",
    "\n",
    "# plt.tight_layout()\n",
    "# plt.show()\n",
    "# ###\n",
    "\n",
    "\n",
    "# --- 2. Topomap of PSD for Epochs ---\n",
    "# print(epochs_psd_R.get_data())\n",
    "psd_R.plot_topomap(bands=bands, normalize=True, cmap='jet')\n",
    "psd_MF.plot_topomap(bands=bands, normalize=True, cmap='jet')\n",
    "\n",
    "\n",
    "# Get PSD data\n",
    "psd_values_R, freqs = psd_R.get_data(return_freqs=True)\n",
    "psd_values_MF, _ = psd_MF.get_data(return_freqs=True)\n",
    "\n",
    "# Compute mean PSD across trials\n",
    "mean_psd_R = np.mean(psd_values_R, axis=0)  # Shape: (n_channels, n_freqs)\n",
    "mean_psd_MF = np.mean(psd_values_MF, axis=0)\n",
    "\n",
    "# Compute the difference in (MF - R)\n",
    "psd_diff = (mean_psd_MF / 1e-12) \n",
    "\n",
    "# Define frequency bands\n",
    "bands = [(1, 4, \"Delta\"), (4, 8, \"Theta\"), (8, 12, \"Alpha\"),\n",
    "         (12, 18, \"Beta slow\"), (18, 30, \"Beta fast\"), (30, 50, \"Gamma\")]\n",
    "\n",
    "# Create topoplots for each band\n",
    "fig, axes = plt.subplots(1, 6)  # Adjust grid for 6 plots\n",
    "\n",
    "\n",
    "for ax, (fmin, fmax, name) in zip(axes.flatten(), bands):\n",
    "    freq_idx = np.where((freqs >= fmin) & (freqs <= fmax))[0]\n",
    "    psd_diff_band = psd_diff[:, freq_idx].mean(axis=1)  # Average over selected frequencies\n",
    "    \n",
    "    # Plot topomap\n",
    "    im, _ = mne.viz.plot_topomap(psd_diff_band, psd_R.info, axes=ax, show=False, cmap=\"jet\")\n",
    "    ax.set_title(f\"{name} [{fmin}-{fmax} Hz]\")\n",
    "\n",
    "# Add colorbar\n",
    "fig.colorbar(im, ax=axes.ravel().tolist(), shrink=0.5)\n",
    "plt.tight_layout()\n",
    "plt.show()"
   ]
  },
  {
   "cell_type": "code",
   "execution_count": null,
   "metadata": {},
   "outputs": [],
   "source": [
    "import numpy as np\n",
    "import mne\n",
    "import matplotlib.pyplot as plt\n",
    "\n",
    "# Compute PSDs using Welch's method\n",
    "psd_R, freqs_R = fileR.compute_psd(method='multitaper', fmin=0.5, fmax=50).get_data(return_freqs=True)\n",
    "psd_MF, freqs_MF = fileMF.compute_psd(method='multitaper', fmin=0.5, fmax=50).get_data(return_freqs=True)\n",
    "\n",
    "# Average PSD across all windows (mean over epochs axis, axis=0)\n",
    "avg_psd_R = np.mean(psd_R, axis=0)  # Shape: (n_channels, n_freqs)\n",
    "avg_psd_MF = np.mean(psd_MF, axis=0)  # Shape: (n_channels, n_freqs)\n",
    "\n",
    "# Calculate the difference\n",
    "difference_psd = (avg_psd_MF - avg_psd_R)/1e-12  # Shape: (n_channels, n_freqs)\n",
    "\n",
    "# Define frequency bands\n",
    "frequency_bands = {\n",
    "    'Delta': (0.5, 4),\n",
    "    'Theta': (4, 8),\n",
    "    'Alpha': (8, 12),\n",
    "    'Beta': (12, 18),\n",
    "    'Fast Beta': (18, 30),\n",
    "    'Gamma': (30, 50)\n",
    "}\n",
    "\n",
    "# Calculate global min and max across all bands\n",
    "global_min = np.inf\n",
    "global_max = -np.inf\n",
    "\n",
    "for fmin, fmax in frequency_bands.values():\n",
    "    band_idx = np.logical_and(freqs_R >= fmin, freqs_R <= fmax)\n",
    "    band_power_difference = np.mean(difference_psd[:, band_idx], axis=1)  # Mean over frequencies\n",
    "    global_min = min(global_min, band_power_difference.min())\n",
    "    global_max = max(global_max, band_power_difference.max())\n",
    "\n",
    "# Extract band-specific differences and prepare the figure\n",
    "info = fileR.info  # Use the baseline's info for channel locations\n",
    "n_bands = len(frequency_bands)\n",
    "fig, axes = plt.subplots(1, n_bands, figsize=(15, 5))  # Create a row of subplots\n",
    "\n",
    "for ax, (band, (fmin, fmax)) in zip(axes, frequency_bands.items()):\n",
    "    # Find indices for the current band\n",
    "    band_idx = np.logical_and(freqs_R >= fmin, freqs_R <= fmax)\n",
    "    \n",
    "    # Average the difference across the band\n",
    "    band_power_difference = np.mean(difference_psd[:, band_idx], axis=1)  # Mean over the frequency axis\n",
    "    \n",
    "    # Plot the topomap with consistent vlim\n",
    "    im, _ = mne.viz.plot_topomap(\n",
    "        band_power_difference, \n",
    "        info, \n",
    "        axes=ax, \n",
    "        cmap='jet', \n",
    "        show=False,  # Disable immediate showing to allow subplot arrangement\n",
    "        names=fileR.ch_names,\n",
    "    #   vlim=(global_min, global_max)  # Use global min and max\n",
    "    )\n",
    "    ax.set_title(f\"{band} Band\")\n",
    "    # Add a colorbar for the subplot\n",
    "    cbar = plt.colorbar(im, ax=ax, shrink=0.6, orientation='horizontal', pad=0.1)\n",
    "    cbar.set_label('Power Difference')\n",
    "\n",
    "# Finalize and display the figure\n",
    "plt.suptitle(\"Mindfulness Difference\", fontsize=16)\n",
    "plt.tight_layout()\n",
    "plt.show()"
   ]
  },
  {
   "cell_type": "code",
   "execution_count": null,
   "metadata": {},
   "outputs": [],
   "source": [
    "# import numpy as np\n",
    "# import mne\n",
    "# import matplotlib.pyplot as plt\n",
    "\n",
    "# # Compute PSDs using Welch's method\n",
    "# psd_R, freqs_R = fileR.compute_psd(method='welch', fmin=0.5, fmax=30).get_data(return_freqs=True)\n",
    "# psd_MF, freqs_MF = fileMF.compute_psd(method='welch', fmin=0.5, fmax=30).get_data(return_freqs=True)\n",
    "\n",
    "# # Normalize PSDs (relative power for each channel)\n",
    "# total_power_R = np.sum(psd_R, axis=2, keepdims=True)  # Total power across frequencies per channel for R\n",
    "# total_power_MF = np.sum(psd_MF, axis=2, keepdims=True)  # Total power across frequencies per channel for MF\n",
    "# relative_psd_R = psd_R / total_power_R  # Shape: (n_epochs, n_channels, n_freqs)\n",
    "# relative_psd_MF = psd_MF / total_power_MF\n",
    "\n",
    "# # Average relative PSDs across epochs\n",
    "# avg_relative_psd_R = np.mean(relative_psd_R, axis=0)  # Shape: (n_channels, n_freqs)\n",
    "# avg_relative_psd_MF = np.mean(relative_psd_MF, axis=0)  # Shape: (n_channels, n_freqs)\n",
    "\n",
    "# # Compute the relative power difference\n",
    "# relative_power_difference = avg_relative_psd_MF - avg_relative_psd_R  # Shape: (n_channels, n_freqs)\n",
    "\n",
    "# # Define frequency bands\n",
    "# frequency_bands = {\n",
    "#     'Delta': (0.5, 4),\n",
    "#     'Theta': (4, 8),\n",
    "#     'Alpha': (8, 12),\n",
    "#     'Beta': (12, 18),\n",
    "#     'FastBeta': (18, 30),\n",
    "# }\n",
    "\n",
    "# # Prepare the figure for topomaps\n",
    "# info = fileR.info  # Use the baseline's info for channel locations\n",
    "# n_bands = len(frequency_bands)\n",
    "# fig, axes = plt.subplots(1, n_bands, figsize=(15, 5))  # Create a row of subplots\n",
    "\n",
    "# for ax, (band, (fmin, fmax)) in zip(axes, frequency_bands.items()):\n",
    "#     # Find indices for the current band\n",
    "#     band_idx = np.logical_and(freqs_R >= fmin, freqs_R <= fmax)\n",
    "    \n",
    "#     # Average the relative power difference across the band\n",
    "#     band_relative_power_diff = np.mean(relative_power_difference[:, band_idx], axis=1)  # Mean over frequencies\n",
    "   \n",
    "#     # Plot the topomap with a colorbar\n",
    "#     im, _ = mne.viz.plot_topomap(\n",
    "#         band_relative_power_diff, \n",
    "#         info, \n",
    "#         axes=ax, \n",
    "#         cmap='jet', \n",
    "#         show=False  # Disable immediate showing to allow subplot arrangement\n",
    "#     )\n",
    "#     ax.set_title(f'{band} Band')\n",
    "    \n",
    "#     # Add a colorbar for the subplot\n",
    "#     cbar = plt.colorbar(im, ax=ax, shrink=0.6, orientation='horizontal', pad=0.1)\n",
    "#     cbar.set_label('Relative Power Difference')\n",
    "\n",
    "# # Finalize and display the figure\n",
    "# plt.tight_layout()\n",
    "# plt.show()"
   ]
  },
  {
   "cell_type": "markdown",
   "metadata": {},
   "source": [
    "## Resting, Mind, DiffNormalized"
   ]
  },
  {
   "cell_type": "code",
   "execution_count": null,
   "metadata": {},
   "outputs": [],
   "source": [
    "import numpy as np\n",
    "import mne\n",
    "import matplotlib.pyplot as plt\n",
    "\n",
    "# Compute PSDs using Welch's method\n",
    "psd_R, freqs_R = fileR.compute_psd(method='welch', fmin=0.5, fmax=50).get_data(return_freqs=True)\n",
    "psd_MF, freqs_MF = fileMF.compute_psd(method='welch', fmin=0.5, fmax=50).get_data(return_freqs=True)\n",
    "\n",
    "# Normalize PSDs (relative power for each channel)\n",
    "total_power_R = np.sum(psd_R, axis=2, keepdims=True)  # Total power across frequencies per channel for R\n",
    "total_power_MF = np.sum(psd_MF, axis=2, keepdims=True)  # Total power across frequencies per channel for MF\n",
    "relative_psd_R = psd_R / total_power_R  # Shape: (n_epochs, n_channels, n_freqs)\n",
    "relative_psd_MF = psd_MF / total_power_MF\n",
    "\n",
    "# Average relative PSDs across epochs\n",
    "avg_relative_psd_R = np.mean(relative_psd_R, axis=0)   # Shape: (n_channels, n_freqs)\n",
    "avg_relative_psd_MF = np.mean(relative_psd_MF, axis=0)   # Shape: (n_channels, n_freqs)\n",
    "\n",
    "# Compute the relative power difference\n",
    "relative_power_difference = avg_relative_psd_MF - avg_relative_psd_R  # Shape: (n_channels, n_freqs)\n",
    "\n",
    "# Define frequency bands\n",
    "frequency_bands = {\n",
    "    'Delta': (0.5, 4),\n",
    "    'Theta': (4, 8),\n",
    "    'Alpha': (8, 12),\n",
    "    'Beta': (12, 18),\n",
    "    'FastBeta': (18, 30),\n",
    "    'Gamma': (30, 50)\n",
    "}\n",
    "\n",
    "# Prepare the figure for topomaps\n",
    "info = fileR.info  # Use the baseline's info for channel locations\n",
    "n_bands = len(frequency_bands)\n",
    "fig, axes = plt.subplots(3, n_bands, figsize=(11, 12),gridspec_kw={'wspace': 0.0001, 'hspace': 0.0001})  # Adjust spacing  # Create a grid of subplots\n",
    "\n",
    "for row, data, title in zip(\n",
    "    range(3),\n",
    "    [avg_relative_psd_R, avg_relative_psd_MF, relative_power_difference],\n",
    "    ['Resting', 'Mindfulness', 'Normalized Difference']\n",
    "):\n",
    "    for ax, (band, (fmin, fmax)) in zip(axes[row], frequency_bands.items()):\n",
    "        # Find indices for the current band\n",
    "        band_idx = np.logical_and(freqs_R >= fmin, freqs_R <= fmax)\n",
    "        \n",
    "        # Average the data across the band\n",
    "        band_data = np.mean(data[:, band_idx], axis=1)  # Mean over frequencies\n",
    "        \n",
    "        # Plot the topomap with a colorbar\n",
    "        im, _ = mne.viz.plot_topomap(\n",
    "            band_data, \n",
    "            info, \n",
    "            axes=ax, \n",
    "            cmap='jet', \n",
    "            show=False,  # Disable immediate showing to allow subplot arrangement\n",
    "        )\n",
    "        ax.set_title(f'{band} Band' if row == 0 else '')\n",
    "        \n",
    "        # Add a colorbar for the subplot\n",
    "        cbar = plt.colorbar(im, ax=ax, shrink=0.6, orientation='horizontal', pad=0.1)\n",
    "        if row == 2:  # Label the colorbar only for the last row\n",
    "            cbar.set_label(title)\n",
    "\n",
    "# Add row titles\n",
    "for ax, title in zip(axes[:, 0], ['Resting', 'Mindfulness', 'Normalized Difference']):\n",
    "    ax.annotate(\n",
    "        title, \n",
    "        xy=(0, 0.5), \n",
    "        xytext=(-ax.yaxis.labelpad - 5, 0),\n",
    "        xycoords=ax.yaxis.label, \n",
    "        textcoords='offset points',\n",
    "        size='large', ha='right', va='center', rotation=90\n",
    "    )\n",
    "\n",
    "# Finalize and display the figure\n",
    "plt.tight_layout()\n",
    "plt.show()"
   ]
  },
  {
   "cell_type": "markdown",
   "metadata": {},
   "source": [
    "## For Several files (relative)"
   ]
  },
  {
   "cell_type": "code",
   "execution_count": null,
   "metadata": {},
   "outputs": [],
   "source": [
    "def topoplotsAverage(file_pairs, fmin=0.5, fmax=50):\n",
    "    \"\"\"\n",
    "    Compute and plot the average PSDs and their differences for multiple pairs of EEG files,\n",
    "    ensuring each row has the same color scale while different rows have different scales.\n",
    "\n",
    "    Parameters:\n",
    "    - file_pairs: List of tuples [(fileR1, fileMF1), (fileR2, fileMF2), ...]\n",
    "                  Each tuple contains a resting state file and a mindfulness state file.\n",
    "    - fmin: Minimum frequency for PSD calculation (default: 0.5 Hz).\n",
    "    - fmax: Maximum frequency for PSD calculation (default: 30 Hz).\n",
    "\n",
    "    Returns:\n",
    "    - None (plots the results).\n",
    "    \"\"\"\n",
    "    avg_psd_R_all = []\n",
    "    avg_psd_MF_all = []\n",
    "\n",
    "    for str_FileName_R, str_FileName_MF in file_pairs:\n",
    "        fileR = mne.read_epochs(str_FileName_R)  \n",
    "        fileMF = mne.read_epochs(str_FileName_MF)\n",
    "\n",
    "        print(\"######################################Shape of file R:\", np.shape(fileR))\n",
    "        print(\"######################################Shape of file MF:\", np.shape(fileMF))\n",
    "        # fileR.compute_psd(fmax=50, picks=['eeg']).plot()\n",
    "        # fileMF.compute_psd(fmax=50, picks=['eeg']).plot()\n",
    "        \n",
    "        # Compute PSDs using Welch's method\n",
    "        psd_R, freqs_R = fileR.compute_psd(method='welch', fmin=fmin, fmax=fmax).get_data(return_freqs=True)\n",
    "        psd_MF, freqs_MF = fileMF.compute_psd(method='welch', fmin=fmin, fmax=fmax).get_data(return_freqs=True)\n",
    "\n",
    "        # Normalize PSDs (relative power for each channel)\n",
    "        total_power_R = np.sum(psd_R, axis=2, keepdims=True)\n",
    "        total_power_MF = np.sum(psd_MF, axis=2, keepdims=True)\n",
    "        # relative_psd_R = psd_R / total_power_R #add for for relative power\n",
    "        # relative_psd_MF = psd_MF / total_power_MF #\n",
    "\n",
    "        relative_psd_R = psd_R / 1e-12 ## For total power\n",
    "        relative_psd_MF = psd_MF / 1e-12 # For total power\n",
    "\n",
    "        # Average relative PSDs across epochs\n",
    "        avg_relative_psd_R = np.mean(relative_psd_R, axis=0)\n",
    "        avg_relative_psd_MF = np.mean(relative_psd_MF, axis=0)\n",
    "\n",
    "        avg_psd_R_all.append(avg_relative_psd_R)\n",
    "        avg_psd_MF_all.append(avg_relative_psd_MF)\n",
    "\n",
    "        print(\"######################################Shape of file MF:\", np.shape(avg_relative_psd_R))\n",
    "        print(\"######################################Shape of file MF:\", np.shape(avg_relative_psd_MF))\n",
    "\n",
    "    # Compute grand averages across all pairs\n",
    "    avg_psd_R_all = np.mean(avg_psd_R_all, axis=0)\n",
    "    avg_psd_MF_all = np.mean(avg_psd_MF_all, axis=0)\n",
    "\n",
    "    # Compute the relative power difference\n",
    "    relative_power_difference = avg_psd_MF_all - avg_psd_R_all\n",
    "\n",
    "    # Define frequency bands\n",
    "    frequency_bands = {\n",
    "        'Delta': (0.5, 4),\n",
    "        'Theta': (4, 8),\n",
    "        'Alpha': (8, 12),\n",
    "        'Beta': (12, 18),\n",
    "        'FastBeta': (18, 30),\n",
    "        'Gamma': (30, 50)\n",
    "    }\n",
    "\n",
    "    # Prepare the figure for topomaps\n",
    "    info = mne.read_epochs(file_pairs[0][0]).info  # Use the info from the first resting state file\n",
    "    n_bands = len(frequency_bands)\n",
    "    fig, axes = plt.subplots(3, n_bands, figsize=(11, 12), gridspec_kw={'wspace': 0.001, 'hspace': 0.001})\n",
    "\n",
    "    for row, data, title in zip(\n",
    "        range(3),\n",
    "        [avg_psd_R_all, avg_psd_MF_all, relative_power_difference],\n",
    "        ['Resting', 'Mindfulness', 'Normalized Difference']\n",
    "    ):\n",
    "        # Initialize lists to store the min and max values across the row\n",
    "        row_min = []\n",
    "        row_max = []\n",
    "        \n",
    "        for ax, (band, (fmin, fmax)) in zip(axes[row], frequency_bands.items()):\n",
    "            # Find indices for the current band\n",
    "            band_idx = np.logical_and(freqs_R >= fmin, freqs_R <= fmax)\n",
    "\n",
    "            # Average the data across the band\n",
    "            band_data = np.mean(data[:, band_idx], axis=1)\n",
    "\n",
    "            # Find the min and max values for the current band\n",
    "            band_min = band_data.min()\n",
    "            band_max = band_data.max()\n",
    "\n",
    "            # Store the min and max for the row\n",
    "            row_min.append(band_min)\n",
    "            row_max.append(band_max)\n",
    "\n",
    "            # Plot the topomap without setting vlim yet\n",
    "            im, _ = mne.viz.plot_topomap(\n",
    "                band_data,\n",
    "                info,\n",
    "                axes=ax,\n",
    "                cmap='jet',\n",
    "                show=False,\n",
    "            )\n",
    "            ax.set_title(f'{band} Band' if row == 0 else '')\n",
    "\n",
    "            # Add a colorbar for the subplot\n",
    "            cbar = plt.colorbar(im, ax=ax, shrink=0.6, orientation='horizontal', pad=0.1)\n",
    "            if row == 2:\n",
    "                cbar.set_label(title)\n",
    "\n",
    "        # After collecting all min and max values for the row, set the vlim for each subplot\n",
    "        row_vmin = min(row_min)\n",
    "        row_vmax = max(row_max)\n",
    "\n",
    "        # Apply the same vlim for all subplots in the current row\n",
    "        # for ax in axes[row]:\n",
    "        #     im = ax.images[0]\n",
    "        #     im.set_clim(vmin=row_vmin, vmax=row_vmax) #set the colorbar\n",
    "\n",
    "    # Add row titles\n",
    "    for ax, title in zip(axes[:, 0], ['Resting', 'Mindfulness', 'Normalized Difference']):\n",
    "        ax.annotate(\n",
    "            title,\n",
    "            xy=(0, 0.5),\n",
    "            xytext=(-ax.yaxis.labelpad - 5, 0),\n",
    "            xycoords=ax.yaxis.label,\n",
    "            textcoords='offset points',\n",
    "            size='large', ha='right', va='center', rotation=90\n",
    "        )\n",
    "\n",
    "    # Finalize and display the figure\n",
    "    plt.tight_layout()\n",
    "    plt.show()\n",
    "\n",
    "file_pairs = [\n",
    "    ('Sujeto1_R_processed.fif', 'Sujeto1_MF_processed.fif'),\n",
    "    ('Sujeto2_R_processed.fif', 'Sujeto2_MF_processed.fif'),\n",
    "    ('Sujeto3_R_processed.fif', 'Sujeto3_MF_processed.fif'),\n",
    "    ('Sujeto4_R_processed.fif', 'Sujeto4_MF_processed.fif'),\n",
    "    ('Sujeto5_R_processed.fif', 'Sujeto5_MF_processed.fif'),\n",
    "    ('Sujeto6_R_processed.fif', 'Sujeto6_MF_processed.fif'),\n",
    "    ('Sujeto7_R_processed.fif', 'Sujeto7_MF_processed.fif'),\n",
    "    ('Sujeto8_R_processed.fif', 'Sujeto8_MF_processed.fif'),\n",
    "    ('Sujeto9_R_processed.fif', 'Sujeto9_MF_processed.fif'),\n",
    "    ('Sujeto10_R_processed.fif', 'Sujeto10_MF_processed.fif'),\n",
    "    ('Sujeto11_R_processed.fif', 'Sujeto11_MF_processed.fif'),\n",
    "    # ('Sujeto12_R_processed.fif', 'Sujeto12_MF_processed.fif'),\n",
    "    ('Sujeto13_R_processed.fif', 'Sujeto13_MF_processed.fif'),\n",
    "    ('Sujeto14_R_processed.fif', 'Sujeto14_MF_processed.fif'),\n",
    "    ('Sujeto15_R_processed.fif', 'Sujeto15_MF_processed.fif'),\n",
    "    ('Sujeto16_R_processed.fif', 'Sujeto16_MF_processed.fif'),\n",
    "    ('Sujeto17_R_processed.fif', 'Sujeto17_MF_processed.fif'),    \n",
    "    ('Sujeto18_R_processed.fif', 'Sujeto18_MF_processed.fif'),\n",
    "    ('Sujeto19_R_processed.fif', 'Sujeto19_MF_processed.fif'),\n",
    "    ('Sujeto20_R_processed.fif', 'Sujeto20_MF_processed.fif'),\n",
    "    ('Sujeto21_R_processed.fif', 'Sujeto21_MF_processed.fif'),\n",
    "    ('Sujeto22_R_processed.fif', 'Sujeto22_MF_processed.fif'),\n",
    "    ('Sujeto23_R_processed.fif', 'Sujeto23_MF_processed.fif'),\n",
    "    ('Sujeto24_R_processed.fif', 'Sujeto24_MF_processed.fif'),\n",
    "    ('Sujeto25_R_processed.fif', 'Sujeto25_MF_processed.fif'),\n",
    "    ('Sujeto26_R_processed.fif', 'Sujeto26_MF_processed.fif'),\n",
    "    ('Sujeto27_R_processed.fif', 'Sujeto27_MF_processed.fif'),\n",
    "    ('Sujeto28_R_processed.fif', 'Sujeto28_MF_processed.fif'),\n",
    "    ('Sujeto29_R_processed.fif', 'Sujeto29_MF_processed.fif'),\n",
    "    ('Sujeto30_R_processed.fif', 'Sujeto30_MF_processed.fif'),\n",
    "    ('Sujeto31_R_processed.fif', 'Sujeto31_MF_processed.fif'),\n",
    "    ('Sujeto32_R_processed.fif', 'Sujeto32_MF_processed.fif'),\n",
    "    ('Sujeto33_R_processed.fif', 'Sujeto33_MF_processed.fif'),\n",
    "    ('Sujeto34_R_processed.fif', 'Sujeto34_MF_processed.fif'),\n",
    "    #('Sujeto35_R_processed.fif', 'Sujeto35_MF_processed.fif'),\n",
    "    ('Sujeto36_R_processed.fif', 'Sujeto36_MF_processed.fif'),\n",
    "    ('Sujeto37_R_processed.fif', 'Sujeto37_MF_processed.fif')\n",
    "]\n",
    "\n",
    "topoplotsAverage(file_pairs)"
   ]
  },
  {
   "cell_type": "markdown",
   "metadata": {},
   "source": [
    "## Topoplots with significance"
   ]
  },
  {
   "cell_type": "code",
   "execution_count": 18,
   "metadata": {},
   "outputs": [
    {
     "name": "stdout",
     "output_type": "stream",
     "text": [
      "Reading c:\\Users\\afcad\\Downloads\\Sujeto1_R_processed.fif ...\n"
     ]
    },
    {
     "name": "stdout",
     "output_type": "stream",
     "text": [
      "    Found the data of interest:\n",
      "        t =   -2500.00 ...    2500.00 ms\n",
      "        0 CTF compensation matrices available\n"
     ]
    },
    {
     "name": "stderr",
     "output_type": "stream",
     "text": [
      "C:\\Users\\afcad\\AppData\\Local\\Temp\\ipykernel_1044\\2668377417.py:34: RuntimeWarning: This filename (Sujeto1_R_processed.fif) does not conform to MNE naming conventions. All epochs files should end with -epo.fif, -epo.fif.gz, _epo.fif or _epo.fif.gz\n",
      "  info = mne.read_epochs(file_pairs[0][0]).info\n"
     ]
    },
    {
     "name": "stdout",
     "output_type": "stream",
     "text": [
      "Not setting metadata\n",
      "68 matching events found\n",
      "No baseline correction applied\n",
      "0 projection items activated\n",
      "Reading c:\\Users\\afcad\\Downloads\\Sujeto1_R_processed.fif ...\n",
      "    Found the data of interest:\n"
     ]
    },
    {
     "name": "stderr",
     "output_type": "stream",
     "text": [
      "C:\\Users\\afcad\\AppData\\Local\\Temp\\ipykernel_1044\\2668377417.py:41: RuntimeWarning: This filename (Sujeto1_R_processed.fif) does not conform to MNE naming conventions. All epochs files should end with -epo.fif, -epo.fif.gz, _epo.fif or _epo.fif.gz\n",
      "  epochs_R = mne.read_epochs(file_R)\n"
     ]
    },
    {
     "name": "stdout",
     "output_type": "stream",
     "text": [
      "        t =   -2500.00 ...    2500.00 ms\n",
      "        0 CTF compensation matrices available\n",
      "Not setting metadata\n",
      "68 matching events found\n",
      "No baseline correction applied\n",
      "0 projection items activated\n",
      "Reading c:\\Users\\afcad\\Downloads\\Sujeto1_MF_processed.fif ...\n"
     ]
    },
    {
     "name": "stderr",
     "output_type": "stream",
     "text": [
      "C:\\Users\\afcad\\AppData\\Local\\Temp\\ipykernel_1044\\2668377417.py:42: RuntimeWarning: This filename (Sujeto1_MF_processed.fif) does not conform to MNE naming conventions. All epochs files should end with -epo.fif, -epo.fif.gz, _epo.fif or _epo.fif.gz\n",
      "  epochs_MF = mne.read_epochs(file_MF)\n"
     ]
    },
    {
     "name": "stdout",
     "output_type": "stream",
     "text": [
      "    Found the data of interest:\n",
      "        t =   -2500.00 ...    2500.00 ms\n",
      "        0 CTF compensation matrices available\n",
      "Not setting metadata\n",
      "145 matching events found\n",
      "No baseline correction applied\n",
      "0 projection items activated\n",
      "Effective window size : 0.250 (s)\n",
      "Effective window size : 0.250 (s)\n",
      "Reading c:\\Users\\afcad\\Downloads\\Sujeto2_R_processed.fif ...\n",
      "    Found the data of interest:\n",
      "        t =   -2500.00 ...    2500.00 ms\n",
      "        0 CTF compensation matrices available\n"
     ]
    },
    {
     "name": "stderr",
     "output_type": "stream",
     "text": [
      "C:\\Users\\afcad\\AppData\\Local\\Temp\\ipykernel_1044\\2668377417.py:41: RuntimeWarning: This filename (Sujeto2_R_processed.fif) does not conform to MNE naming conventions. All epochs files should end with -epo.fif, -epo.fif.gz, _epo.fif or _epo.fif.gz\n",
      "  epochs_R = mne.read_epochs(file_R)\n"
     ]
    },
    {
     "name": "stdout",
     "output_type": "stream",
     "text": [
      "Not setting metadata\n",
      "58 matching events found\n",
      "No baseline correction applied\n",
      "0 projection items activated\n",
      "Reading c:\\Users\\afcad\\Downloads\\Sujeto2_MF_processed.fif ...\n"
     ]
    },
    {
     "name": "stderr",
     "output_type": "stream",
     "text": [
      "C:\\Users\\afcad\\AppData\\Local\\Temp\\ipykernel_1044\\2668377417.py:42: RuntimeWarning: This filename (Sujeto2_MF_processed.fif) does not conform to MNE naming conventions. All epochs files should end with -epo.fif, -epo.fif.gz, _epo.fif or _epo.fif.gz\n",
      "  epochs_MF = mne.read_epochs(file_MF)\n"
     ]
    },
    {
     "name": "stdout",
     "output_type": "stream",
     "text": [
      "    Found the data of interest:\n",
      "        t =   -2500.00 ...    2500.00 ms\n",
      "        0 CTF compensation matrices available\n",
      "Not setting metadata\n",
      "138 matching events found\n",
      "No baseline correction applied\n",
      "0 projection items activated\n",
      "Effective window size : 0.250 (s)\n",
      "Effective window size : 0.250 (s)\n",
      "Reading c:\\Users\\afcad\\Downloads\\Sujeto3_R_processed.fif ...\n",
      "    Found the data of interest:\n",
      "        t =   -2500.00 ...    2500.00 ms\n",
      "        0 CTF compensation matrices available\n"
     ]
    },
    {
     "name": "stderr",
     "output_type": "stream",
     "text": [
      "C:\\Users\\afcad\\AppData\\Local\\Temp\\ipykernel_1044\\2668377417.py:41: RuntimeWarning: This filename (Sujeto3_R_processed.fif) does not conform to MNE naming conventions. All epochs files should end with -epo.fif, -epo.fif.gz, _epo.fif or _epo.fif.gz\n",
      "  epochs_R = mne.read_epochs(file_R)\n"
     ]
    },
    {
     "name": "stdout",
     "output_type": "stream",
     "text": [
      "Not setting metadata\n",
      "61 matching events found\n",
      "No baseline correction applied\n",
      "0 projection items activated\n",
      "Reading c:\\Users\\afcad\\Downloads\\Sujeto3_MF_processed.fif ...\n",
      "    Found the data of interest:\n",
      "        t =   -2500.00 ...    2500.00 ms\n",
      "        0 CTF compensation matrices available\n"
     ]
    },
    {
     "name": "stderr",
     "output_type": "stream",
     "text": [
      "C:\\Users\\afcad\\AppData\\Local\\Temp\\ipykernel_1044\\2668377417.py:42: RuntimeWarning: This filename (Sujeto3_MF_processed.fif) does not conform to MNE naming conventions. All epochs files should end with -epo.fif, -epo.fif.gz, _epo.fif or _epo.fif.gz\n",
      "  epochs_MF = mne.read_epochs(file_MF)\n"
     ]
    },
    {
     "name": "stdout",
     "output_type": "stream",
     "text": [
      "Not setting metadata\n",
      "131 matching events found\n",
      "No baseline correction applied\n",
      "0 projection items activated\n",
      "Effective window size : 0.250 (s)\n",
      "Effective window size : 0.250 (s)\n",
      "Reading c:\\Users\\afcad\\Downloads\\Sujeto4_R_processed.fif ...\n",
      "    Found the data of interest:\n",
      "        t =   -2500.00 ...    2500.00 ms\n",
      "        0 CTF compensation matrices available\n"
     ]
    },
    {
     "name": "stderr",
     "output_type": "stream",
     "text": [
      "C:\\Users\\afcad\\AppData\\Local\\Temp\\ipykernel_1044\\2668377417.py:41: RuntimeWarning: This filename (Sujeto4_R_processed.fif) does not conform to MNE naming conventions. All epochs files should end with -epo.fif, -epo.fif.gz, _epo.fif or _epo.fif.gz\n",
      "  epochs_R = mne.read_epochs(file_R)\n"
     ]
    },
    {
     "name": "stdout",
     "output_type": "stream",
     "text": [
      "Not setting metadata\n",
      "60 matching events found\n",
      "No baseline correction applied\n",
      "0 projection items activated\n",
      "Reading c:\\Users\\afcad\\Downloads\\Sujeto4_MF_processed.fif ...\n",
      "    Found the data of interest:\n"
     ]
    },
    {
     "name": "stderr",
     "output_type": "stream",
     "text": [
      "C:\\Users\\afcad\\AppData\\Local\\Temp\\ipykernel_1044\\2668377417.py:42: RuntimeWarning: This filename (Sujeto4_MF_processed.fif) does not conform to MNE naming conventions. All epochs files should end with -epo.fif, -epo.fif.gz, _epo.fif or _epo.fif.gz\n",
      "  epochs_MF = mne.read_epochs(file_MF)\n"
     ]
    },
    {
     "name": "stdout",
     "output_type": "stream",
     "text": [
      "        t =   -2500.00 ...    2500.00 ms\n",
      "        0 CTF compensation matrices available\n",
      "Not setting metadata\n",
      "143 matching events found\n",
      "No baseline correction applied\n",
      "0 projection items activated\n",
      "Effective window size : 0.250 (s)\n",
      "Effective window size : 0.250 (s)\n"
     ]
    }
   ],
   "source": [
    "import numpy as np\n",
    "import matplotlib.pyplot as plt\n",
    "import mne\n",
    "from scipy.stats import permutation_test\n",
    "\n",
    "def topoplots_with_significance(file_pairs, fmin=0.5, fmax=50, n_permutations=1000):\n",
    "    \"\"\"\n",
    "    Compute and plot average PSD topomaps and significance maps using permutation tests.\n",
    "\n",
    "    Parameters:\n",
    "    - file_pairs: List of (resting_file, mindfulness_file) .fif epochs.\n",
    "    - fmin, fmax: Frequency range for Welch PSD.\n",
    "    - n_permutations: Number of permutations for significance test.\n",
    "\n",
    "    Returns:\n",
    "    - None (plots topomaps and significance results).\n",
    "    \"\"\"\n",
    "    all_diff = []  # To store per-subject differences for all bands\n",
    "\n",
    "    # Define frequency bands\n",
    "    frequency_bands = {\n",
    "        'Delta': (0.5, 4),\n",
    "        'Theta': (4, 8),\n",
    "        'Alpha': (8, 12),\n",
    "        'Beta': (12, 18),\n",
    "        'FastBeta': (18, 30),\n",
    "        'Gamma': (30, 50)\n",
    "    }\n",
    "\n",
    "    band_names = list(frequency_bands.keys())\n",
    "    n_bands = len(frequency_bands)\n",
    "\n",
    "    # Use the info of the first file for plotting\n",
    "    info = mne.read_epochs(file_pairs[0][0]).info\n",
    "\n",
    "    # Initialize structure for all subjects and all bands\n",
    "    n_channels = len(info['ch_names'])\n",
    "    band_differences = {band: [] for band in band_names}\n",
    "\n",
    "    for file_R, file_MF in file_pairs:\n",
    "        epochs_R = mne.read_epochs(file_R)\n",
    "        epochs_MF = mne.read_epochs(file_MF)\n",
    "\n",
    "        psd_R, freqs = epochs_R.compute_psd(method='welch', fmin=fmin, fmax=fmax).get_data(return_freqs=True)\n",
    "        psd_MF, _ = epochs_MF.compute_psd(method='welch', fmin=fmin, fmax=fmax).get_data(return_freqs=True)\n",
    "\n",
    "        rel_R = psd_R / 1e-12\n",
    "        rel_MF = psd_MF / 1e-12\n",
    "\n",
    "        avg_rel_R = np.mean(rel_R, axis=0)\n",
    "        avg_rel_MF = np.mean(rel_MF, axis=0)\n",
    "\n",
    "        for band in band_names:\n",
    "            band_min, band_max = frequency_bands[band]\n",
    "            idx = np.logical_and(freqs >= band_min, freqs <= band_max)\n",
    "\n",
    "            mean_band_R = np.mean(avg_rel_R[:, idx], axis=1)  # (n_channels,)\n",
    "            mean_band_MF = np.mean(avg_rel_MF[:, idx], axis=1)\n",
    "\n",
    "            diff = mean_band_MF - mean_band_R\n",
    "            band_differences[band].append(diff)  # Append to band-specific list\n",
    "\n",
    "    # Prepare plots\n",
    "    fig, axes = plt.subplots(nrows=3, ncols=n_bands, figsize=(3 * n_bands, 9))\n",
    "\n",
    "    for i, band in enumerate(band_names):\n",
    "        data = np.array(band_differences[band])  # shape (n_subjects, n_channels)\n",
    "        mean_diff = data.mean(axis=0)\n",
    "\n",
    "        # Permutation test per channel\n",
    "        p_vals = np.array([\n",
    "            permutation_test((data[:, ch], np.zeros(data.shape[0])), \n",
    "                             statistic=lambda x, y: np.mean(x), \n",
    "                             n_resamples=n_permutations,\n",
    "                             alternative='two-sided').pvalue\n",
    "            for ch in range(n_channels)\n",
    "        ])\n",
    "\n",
    "        # Significance mask\n",
    "        sig_mask = p_vals < 0.05\n",
    "        sig_data = np.where(sig_mask, mean_diff, np.nan)\n",
    "\n",
    "        # Plot 1: Difference\n",
    "        im1, _ = mne.viz.plot_topomap(mean_diff, info, axes=axes[0, i], show=False, cmap='jet')\n",
    "        axes[0, i].set_title(f\"{band} diff\")\n",
    "        plt.colorbar(im1, ax=axes[0, i], orientation='horizontal', shrink=0.6)\n",
    "\n",
    "        # Plot 2: p-value map\n",
    "        im2, _ = mne.viz.plot_topomap(p_vals, info, axes=axes[1, i], show=False, cmap='magma_r')\n",
    "        axes[1, i].set_title(f\"{band} p-values\")\n",
    "        plt.colorbar(im2, ax=axes[1, i], orientation='horizontal', shrink=0.6)\n",
    "\n",
    "        # Plot 3: Significant only\n",
    "        im3, _ = mne.viz.plot_topomap(p_vals, info, axes=axes[2, i], show=False, cmap='seismic', vlim=(0,0.1))\n",
    "        axes[2, i].set_title(f\"{band} p<0.05\")\n",
    "        plt.colorbar(im3, ax=axes[2, i], orientation='horizontal', shrink=0.6)\n",
    "\n",
    "    # Row labels\n",
    "    for ax, label in zip(axes[:, 0], ['Mean Diff', 'P-value', 'Significant']):\n",
    "        ax.annotate(label, xy=(-0.15, 0.5), xycoords='axes fraction', va='center', ha='right', rotation=90, fontsize=12)\n",
    "\n",
    "    plt.tight_layout()\n",
    "    plt.show()\n",
    "\n",
    "file_pairs = [\n",
    "    ('Sujeto1_R_processed.fif', 'Sujeto1_MF_processed.fif'),\n",
    "    ('Sujeto2_R_processed.fif', 'Sujeto2_MF_processed.fif'),\n",
    "    ('Sujeto3_R_processed.fif', 'Sujeto3_MF_processed.fif'),\n",
    "    ('Sujeto4_R_processed.fif', 'Sujeto4_MF_processed.fif'),\n",
    "    # ('Sujeto5_R_processed.fif', 'Sujeto5_MF_processed.fif'),\n",
    "    # ('Sujeto6_R_processed.fif', 'Sujeto6_MF_processed.fif'),\n",
    "    # ('Sujeto7_R_processed.fif', 'Sujeto7_MF_processed.fif'),\n",
    "    # ('Sujeto8_R_processed.fif', 'Sujeto8_MF_processed.fif'),\n",
    "    # ('Sujeto9_R_processed.fif', 'Sujeto9_MF_processed.fif'),\n",
    "    # ('Sujeto10_R_processed.fif', 'Sujeto10_MF_processed.fif'),\n",
    "    # ('Sujeto11_R_processed.fif', 'Sujeto11_MF_processed.fif'),\n",
    "    # #('Sujeto12_R_processed.fif', 'Sujeto12_MF_processed.fif'),\n",
    "    # ('Sujeto13_R_processed.fif', 'Sujeto13_MF_processed.fif'),\n",
    "    # ('Sujeto14_R_processed.fif', 'Sujeto14_MF_processed.fif'),\n",
    "    # ('Sujeto15_R_processed.fif', 'Sujeto15_MF_processed.fif'),\n",
    "    # ('Sujeto16_R_processed.fif', 'Sujeto16_MF_processed.fif'),\n",
    "    # ('Sujeto17_R_processed.fif', 'Sujeto17_MF_processed.fif'),    \n",
    "    # ('Sujeto18_R_processed.fif', 'Sujeto18_MF_processed.fif'),\n",
    "    # ('Sujeto19_R_processed.fif', 'Sujeto19_MF_processed.fif'),\n",
    "    # ('Sujeto20_R_processed.fif', 'Sujeto20_MF_processed.fif'),\n",
    "    # ('Sujeto21_R_processed.fif', 'Sujeto21_MF_processed.fif'),\n",
    "    # ('Sujeto22_R_processed.fif', 'Sujeto22_MF_processed.fif'),\n",
    "    # ('Sujeto23_R_processed.fif', 'Sujeto23_MF_processed.fif'),\n",
    "    # ('Sujeto24_R_processed.fif', 'Sujeto24_MF_processed.fif'),\n",
    "    # ('Sujeto25_R_processed.fif', 'Sujeto25_MF_processed.fif'),\n",
    "    # ('Sujeto26_R_processed.fif', 'Sujeto26_MF_processed.fif'),\n",
    "    # ('Sujeto27_R_processed.fif', 'Sujeto27_MF_processed.fif'),\n",
    "    # ('Sujeto28_R_processed.fif', 'Sujeto28_MF_processed.fif'),\n",
    "    # ('Sujeto29_R_processed.fif', 'Sujeto29_MF_processed.fif'),\n",
    "    # ('Sujeto30_R_processed.fif', 'Sujeto30_MF_processed.fif'),\n",
    "    # ('Sujeto31_R_processed.fif', 'Sujeto31_MF_processed.fif'),\n",
    "    # ('Sujeto32_R_processed.fif', 'Sujeto32_MF_processed.fif'),\n",
    "    # ('Sujeto33_R_processed.fif', 'Sujeto33_MF_processed.fif'),\n",
    "    # ('Sujeto34_R_processed.fif', 'Sujeto34_MF_processed.fif'),\n",
    "    # #('Sujeto35_R_processed.fif', 'Sujeto35_MF_processed.fif'),\n",
    "    # ('Sujeto36_R_processed.fif', 'Sujeto36_MF_processed.fif'),\n",
    "    # ('Sujeto37_R_processed.fif', 'Sujeto37_MF_processed.fif')\n",
    "]\n",
    "\n",
    "topoplots_with_significance(file_pairs)"
   ]
  },
  {
   "cell_type": "code",
   "execution_count": null,
   "metadata": {},
   "outputs": [],
   "source": [
    "import random\n",
    "\n",
    "# Generate 10 random combinations of 5 pairs\n",
    "random_combinations = [random.sample(file_pairs, 20) for _ in range(20)]\n",
    "\n",
    "# Print the combinations\n",
    "for i, combination in enumerate(random_combinations, 1):\n",
    "    print(f\"Combination {i}: {combination}\")\n",
    "    topoplots_with_significance(combination)"
   ]
  },
  {
   "cell_type": "markdown",
   "metadata": {},
   "source": [
    "## Z-score"
   ]
  },
  {
   "cell_type": "code",
   "execution_count": null,
   "metadata": {},
   "outputs": [
    {
     "name": "stdout",
     "output_type": "stream",
     "text": [
      "Reading c:\\Users\\afcad\\Downloads\\Sujeto1_R_processed.fif ...\n"
     ]
    },
    {
     "name": "stderr",
     "output_type": "stream",
     "text": [
      "C:\\Users\\afcad\\AppData\\Local\\Temp\\ipykernel_1044\\2732955412.py:24: RuntimeWarning: This filename (Sujeto1_R_processed.fif) does not conform to MNE naming conventions. All epochs files should end with -epo.fif, -epo.fif.gz, _epo.fif or _epo.fif.gz\n",
      "  info = mne.read_epochs(file_pairs[0][0]).info\n"
     ]
    },
    {
     "name": "stdout",
     "output_type": "stream",
     "text": [
      "    Found the data of interest:\n",
      "        t =   -2500.00 ...    2500.00 ms\n",
      "        0 CTF compensation matrices available\n",
      "Not setting metadata\n",
      "68 matching events found\n",
      "No baseline correction applied\n",
      "0 projection items activated\n",
      "Reading c:\\Users\\afcad\\Downloads\\Sujeto1_R_processed.fif ...\n"
     ]
    },
    {
     "name": "stderr",
     "output_type": "stream",
     "text": [
      "C:\\Users\\afcad\\AppData\\Local\\Temp\\ipykernel_1044\\2732955412.py:32: RuntimeWarning: This filename (Sujeto1_R_processed.fif) does not conform to MNE naming conventions. All epochs files should end with -epo.fif, -epo.fif.gz, _epo.fif or _epo.fif.gz\n",
      "  epochs_R = mne.read_epochs(file_R)\n"
     ]
    },
    {
     "name": "stdout",
     "output_type": "stream",
     "text": [
      "    Found the data of interest:\n",
      "        t =   -2500.00 ...    2500.00 ms\n",
      "        0 CTF compensation matrices available\n",
      "Not setting metadata\n",
      "68 matching events found\n",
      "No baseline correction applied\n",
      "0 projection items activated\n",
      "Reading c:\\Users\\afcad\\Downloads\\Sujeto1_MF_processed.fif ...\n"
     ]
    },
    {
     "name": "stderr",
     "output_type": "stream",
     "text": [
      "C:\\Users\\afcad\\AppData\\Local\\Temp\\ipykernel_1044\\2732955412.py:33: RuntimeWarning: This filename (Sujeto1_MF_processed.fif) does not conform to MNE naming conventions. All epochs files should end with -epo.fif, -epo.fif.gz, _epo.fif or _epo.fif.gz\n",
      "  epochs_MF = mne.read_epochs(file_MF)\n"
     ]
    },
    {
     "name": "stdout",
     "output_type": "stream",
     "text": [
      "    Found the data of interest:\n",
      "        t =   -2500.00 ...    2500.00 ms\n",
      "        0 CTF compensation matrices available\n",
      "Not setting metadata\n",
      "145 matching events found\n",
      "No baseline correction applied\n",
      "0 projection items activated\n",
      "Effective window size : 0.250 (s)\n",
      "Effective window size : 0.250 (s)\n",
      "Reading c:\\Users\\afcad\\Downloads\\Sujeto2_R_processed.fif ...\n",
      "    Found the data of interest:\n",
      "        t =   -2500.00 ...    2500.00 ms\n",
      "        0 CTF compensation matrices available\n"
     ]
    },
    {
     "name": "stderr",
     "output_type": "stream",
     "text": [
      "C:\\Users\\afcad\\AppData\\Local\\Temp\\ipykernel_1044\\2732955412.py:32: RuntimeWarning: This filename (Sujeto2_R_processed.fif) does not conform to MNE naming conventions. All epochs files should end with -epo.fif, -epo.fif.gz, _epo.fif or _epo.fif.gz\n",
      "  epochs_R = mne.read_epochs(file_R)\n"
     ]
    },
    {
     "name": "stdout",
     "output_type": "stream",
     "text": [
      "Not setting metadata\n",
      "58 matching events found\n",
      "No baseline correction applied\n",
      "0 projection items activated\n",
      "Reading c:\\Users\\afcad\\Downloads\\Sujeto2_MF_processed.fif ...\n"
     ]
    },
    {
     "name": "stderr",
     "output_type": "stream",
     "text": [
      "C:\\Users\\afcad\\AppData\\Local\\Temp\\ipykernel_1044\\2732955412.py:33: RuntimeWarning: This filename (Sujeto2_MF_processed.fif) does not conform to MNE naming conventions. All epochs files should end with -epo.fif, -epo.fif.gz, _epo.fif or _epo.fif.gz\n",
      "  epochs_MF = mne.read_epochs(file_MF)\n"
     ]
    },
    {
     "name": "stdout",
     "output_type": "stream",
     "text": [
      "    Found the data of interest:\n",
      "        t =   -2500.00 ...    2500.00 ms\n",
      "        0 CTF compensation matrices available\n",
      "Not setting metadata\n",
      "138 matching events found\n",
      "No baseline correction applied\n",
      "0 projection items activated\n",
      "Effective window size : 0.250 (s)\n",
      "Effective window size : 0.250 (s)\n",
      "Reading c:\\Users\\afcad\\Downloads\\Sujeto3_R_processed.fif ...\n",
      "    Found the data of interest:\n"
     ]
    },
    {
     "name": "stderr",
     "output_type": "stream",
     "text": [
      "C:\\Users\\afcad\\AppData\\Local\\Temp\\ipykernel_1044\\2732955412.py:32: RuntimeWarning: This filename (Sujeto3_R_processed.fif) does not conform to MNE naming conventions. All epochs files should end with -epo.fif, -epo.fif.gz, _epo.fif or _epo.fif.gz\n",
      "  epochs_R = mne.read_epochs(file_R)\n"
     ]
    },
    {
     "name": "stdout",
     "output_type": "stream",
     "text": [
      "        t =   -2500.00 ...    2500.00 ms\n",
      "        0 CTF compensation matrices available\n",
      "Not setting metadata\n",
      "61 matching events found\n",
      "No baseline correction applied\n",
      "0 projection items activated\n",
      "Reading c:\\Users\\afcad\\Downloads\\Sujeto3_MF_processed.fif ...\n"
     ]
    },
    {
     "name": "stderr",
     "output_type": "stream",
     "text": [
      "C:\\Users\\afcad\\AppData\\Local\\Temp\\ipykernel_1044\\2732955412.py:33: RuntimeWarning: This filename (Sujeto3_MF_processed.fif) does not conform to MNE naming conventions. All epochs files should end with -epo.fif, -epo.fif.gz, _epo.fif or _epo.fif.gz\n",
      "  epochs_MF = mne.read_epochs(file_MF)\n"
     ]
    },
    {
     "name": "stdout",
     "output_type": "stream",
     "text": [
      "    Found the data of interest:\n",
      "        t =   -2500.00 ...    2500.00 ms\n",
      "        0 CTF compensation matrices available\n",
      "Not setting metadata\n",
      "131 matching events found\n",
      "No baseline correction applied\n",
      "0 projection items activated\n",
      "Effective window size : 0.250 (s)\n",
      "Effective window size : 0.250 (s)\n",
      "Reading c:\\Users\\afcad\\Downloads\\Sujeto4_R_processed.fif ...\n",
      "    Found the data of interest:\n",
      "        t =   -2500.00 ...    2500.00 ms\n",
      "        0 CTF compensation matrices available\n"
     ]
    },
    {
     "name": "stderr",
     "output_type": "stream",
     "text": [
      "C:\\Users\\afcad\\AppData\\Local\\Temp\\ipykernel_1044\\2732955412.py:32: RuntimeWarning: This filename (Sujeto4_R_processed.fif) does not conform to MNE naming conventions. All epochs files should end with -epo.fif, -epo.fif.gz, _epo.fif or _epo.fif.gz\n",
      "  epochs_R = mne.read_epochs(file_R)\n"
     ]
    },
    {
     "name": "stdout",
     "output_type": "stream",
     "text": [
      "Not setting metadata\n",
      "60 matching events found\n",
      "No baseline correction applied\n",
      "0 projection items activated\n",
      "Reading c:\\Users\\afcad\\Downloads\\Sujeto4_MF_processed.fif ...\n"
     ]
    },
    {
     "name": "stderr",
     "output_type": "stream",
     "text": [
      "C:\\Users\\afcad\\AppData\\Local\\Temp\\ipykernel_1044\\2732955412.py:33: RuntimeWarning: This filename (Sujeto4_MF_processed.fif) does not conform to MNE naming conventions. All epochs files should end with -epo.fif, -epo.fif.gz, _epo.fif or _epo.fif.gz\n",
      "  epochs_MF = mne.read_epochs(file_MF)\n"
     ]
    },
    {
     "name": "stdout",
     "output_type": "stream",
     "text": [
      "    Found the data of interest:\n",
      "        t =   -2500.00 ...    2500.00 ms\n",
      "        0 CTF compensation matrices available\n",
      "Not setting metadata\n",
      "143 matching events found\n",
      "No baseline correction applied\n",
      "0 projection items activated\n",
      "Effective window size : 0.250 (s)\n",
      "Effective window size : 0.250 (s)\n",
      "Reading c:\\Users\\afcad\\Downloads\\Sujeto5_R_processed.fif ...\n",
      "    Found the data of interest:\n",
      "        t =   -2500.00 ...    2500.00 ms\n",
      "        0 CTF compensation matrices available\n"
     ]
    },
    {
     "name": "stderr",
     "output_type": "stream",
     "text": [
      "C:\\Users\\afcad\\AppData\\Local\\Temp\\ipykernel_1044\\2732955412.py:32: RuntimeWarning: This filename (Sujeto5_R_processed.fif) does not conform to MNE naming conventions. All epochs files should end with -epo.fif, -epo.fif.gz, _epo.fif or _epo.fif.gz\n",
      "  epochs_R = mne.read_epochs(file_R)\n"
     ]
    },
    {
     "name": "stdout",
     "output_type": "stream",
     "text": [
      "Not setting metadata\n",
      "63 matching events found\n",
      "No baseline correction applied\n",
      "0 projection items activated\n",
      "Reading c:\\Users\\afcad\\Downloads\\Sujeto5_MF_processed.fif ...\n"
     ]
    },
    {
     "name": "stderr",
     "output_type": "stream",
     "text": [
      "C:\\Users\\afcad\\AppData\\Local\\Temp\\ipykernel_1044\\2732955412.py:33: RuntimeWarning: This filename (Sujeto5_MF_processed.fif) does not conform to MNE naming conventions. All epochs files should end with -epo.fif, -epo.fif.gz, _epo.fif or _epo.fif.gz\n",
      "  epochs_MF = mne.read_epochs(file_MF)\n"
     ]
    },
    {
     "name": "stdout",
     "output_type": "stream",
     "text": [
      "    Found the data of interest:\n",
      "        t =   -2500.00 ...    2500.00 ms\n",
      "        0 CTF compensation matrices available\n",
      "Not setting metadata\n",
      "141 matching events found\n",
      "No baseline correction applied\n",
      "0 projection items activated\n",
      "Effective window size : 0.250 (s)\n",
      "Effective window size : 0.250 (s)\n",
      "Reading c:\\Users\\afcad\\Downloads\\Sujeto6_R_processed.fif ...\n",
      "    Found the data of interest:\n",
      "        t =   -2500.00 ...    2500.00 ms\n",
      "        0 CTF compensation matrices available\n"
     ]
    },
    {
     "name": "stderr",
     "output_type": "stream",
     "text": [
      "C:\\Users\\afcad\\AppData\\Local\\Temp\\ipykernel_1044\\2732955412.py:32: RuntimeWarning: This filename (Sujeto6_R_processed.fif) does not conform to MNE naming conventions. All epochs files should end with -epo.fif, -epo.fif.gz, _epo.fif or _epo.fif.gz\n",
      "  epochs_R = mne.read_epochs(file_R)\n"
     ]
    },
    {
     "name": "stdout",
     "output_type": "stream",
     "text": [
      "Not setting metadata\n",
      "72 matching events found\n",
      "No baseline correction applied\n",
      "0 projection items activated\n",
      "Reading c:\\Users\\afcad\\Downloads\\Sujeto6_MF_processed.fif ...\n"
     ]
    },
    {
     "name": "stderr",
     "output_type": "stream",
     "text": [
      "C:\\Users\\afcad\\AppData\\Local\\Temp\\ipykernel_1044\\2732955412.py:33: RuntimeWarning: This filename (Sujeto6_MF_processed.fif) does not conform to MNE naming conventions. All epochs files should end with -epo.fif, -epo.fif.gz, _epo.fif or _epo.fif.gz\n",
      "  epochs_MF = mne.read_epochs(file_MF)\n"
     ]
    },
    {
     "name": "stdout",
     "output_type": "stream",
     "text": [
      "    Found the data of interest:\n",
      "        t =   -2500.00 ...    2500.00 ms\n",
      "        0 CTF compensation matrices available\n",
      "Not setting metadata\n",
      "107 matching events found\n",
      "No baseline correction applied\n",
      "0 projection items activated\n",
      "Effective window size : 0.250 (s)\n",
      "Effective window size : 0.250 (s)\n",
      "Reading c:\\Users\\afcad\\Downloads\\Sujeto7_R_processed.fif ...\n",
      "    Found the data of interest:\n",
      "        t =   -2500.00 ...    2500.00 ms\n",
      "        0 CTF compensation matrices available\n"
     ]
    },
    {
     "name": "stderr",
     "output_type": "stream",
     "text": [
      "C:\\Users\\afcad\\AppData\\Local\\Temp\\ipykernel_1044\\2732955412.py:32: RuntimeWarning: This filename (Sujeto7_R_processed.fif) does not conform to MNE naming conventions. All epochs files should end with -epo.fif, -epo.fif.gz, _epo.fif or _epo.fif.gz\n",
      "  epochs_R = mne.read_epochs(file_R)\n"
     ]
    },
    {
     "name": "stdout",
     "output_type": "stream",
     "text": [
      "Not setting metadata\n",
      "55 matching events found\n",
      "No baseline correction applied\n",
      "0 projection items activated\n",
      "Reading c:\\Users\\afcad\\Downloads\\Sujeto7_MF_processed.fif ...\n",
      "    Found the data of interest:\n"
     ]
    },
    {
     "name": "stderr",
     "output_type": "stream",
     "text": [
      "C:\\Users\\afcad\\AppData\\Local\\Temp\\ipykernel_1044\\2732955412.py:33: RuntimeWarning: This filename (Sujeto7_MF_processed.fif) does not conform to MNE naming conventions. All epochs files should end with -epo.fif, -epo.fif.gz, _epo.fif or _epo.fif.gz\n",
      "  epochs_MF = mne.read_epochs(file_MF)\n"
     ]
    },
    {
     "name": "stdout",
     "output_type": "stream",
     "text": [
      "        t =   -2500.00 ...    2500.00 ms\n",
      "        0 CTF compensation matrices available\n",
      "Not setting metadata\n",
      "130 matching events found\n",
      "No baseline correction applied\n",
      "0 projection items activated\n",
      "Effective window size : 0.250 (s)\n",
      "Effective window size : 0.250 (s)\n",
      "Reading c:\\Users\\afcad\\Downloads\\Sujeto8_R_processed.fif ...\n",
      "    Found the data of interest:\n",
      "        t =   -2500.00 ...    2500.00 ms\n",
      "        0 CTF compensation matrices available\n"
     ]
    },
    {
     "name": "stderr",
     "output_type": "stream",
     "text": [
      "C:\\Users\\afcad\\AppData\\Local\\Temp\\ipykernel_1044\\2732955412.py:32: RuntimeWarning: This filename (Sujeto8_R_processed.fif) does not conform to MNE naming conventions. All epochs files should end with -epo.fif, -epo.fif.gz, _epo.fif or _epo.fif.gz\n",
      "  epochs_R = mne.read_epochs(file_R)\n"
     ]
    },
    {
     "name": "stdout",
     "output_type": "stream",
     "text": [
      "Not setting metadata\n",
      "63 matching events found\n",
      "No baseline correction applied\n",
      "0 projection items activated\n",
      "Reading c:\\Users\\afcad\\Downloads\\Sujeto8_MF_processed.fif ...\n"
     ]
    },
    {
     "name": "stderr",
     "output_type": "stream",
     "text": [
      "C:\\Users\\afcad\\AppData\\Local\\Temp\\ipykernel_1044\\2732955412.py:33: RuntimeWarning: This filename (Sujeto8_MF_processed.fif) does not conform to MNE naming conventions. All epochs files should end with -epo.fif, -epo.fif.gz, _epo.fif or _epo.fif.gz\n",
      "  epochs_MF = mne.read_epochs(file_MF)\n"
     ]
    },
    {
     "name": "stdout",
     "output_type": "stream",
     "text": [
      "    Found the data of interest:\n",
      "        t =   -2500.00 ...    2500.00 ms\n",
      "        0 CTF compensation matrices available\n",
      "Not setting metadata\n",
      "138 matching events found\n",
      "No baseline correction applied\n",
      "0 projection items activated\n",
      "Effective window size : 0.250 (s)\n",
      "Effective window size : 0.250 (s)\n",
      "Reading c:\\Users\\afcad\\Downloads\\Sujeto9_R_processed.fif ...\n",
      "    Found the data of interest:\n",
      "        t =   -2500.00 ...    2500.00 ms\n",
      "        0 CTF compensation matrices available\n"
     ]
    },
    {
     "name": "stderr",
     "output_type": "stream",
     "text": [
      "C:\\Users\\afcad\\AppData\\Local\\Temp\\ipykernel_1044\\2732955412.py:32: RuntimeWarning: This filename (Sujeto9_R_processed.fif) does not conform to MNE naming conventions. All epochs files should end with -epo.fif, -epo.fif.gz, _epo.fif or _epo.fif.gz\n",
      "  epochs_R = mne.read_epochs(file_R)\n"
     ]
    },
    {
     "name": "stdout",
     "output_type": "stream",
     "text": [
      "Not setting metadata\n",
      "60 matching events found\n",
      "No baseline correction applied\n",
      "0 projection items activated\n",
      "Reading c:\\Users\\afcad\\Downloads\\Sujeto9_MF_processed.fif ...\n"
     ]
    },
    {
     "name": "stderr",
     "output_type": "stream",
     "text": [
      "C:\\Users\\afcad\\AppData\\Local\\Temp\\ipykernel_1044\\2732955412.py:33: RuntimeWarning: This filename (Sujeto9_MF_processed.fif) does not conform to MNE naming conventions. All epochs files should end with -epo.fif, -epo.fif.gz, _epo.fif or _epo.fif.gz\n",
      "  epochs_MF = mne.read_epochs(file_MF)\n"
     ]
    },
    {
     "name": "stdout",
     "output_type": "stream",
     "text": [
      "    Found the data of interest:\n",
      "        t =   -2500.00 ...    2500.00 ms\n",
      "        0 CTF compensation matrices available\n",
      "Not setting metadata\n",
      "143 matching events found\n",
      "No baseline correction applied\n",
      "0 projection items activated\n",
      "Effective window size : 0.250 (s)\n",
      "Effective window size : 0.250 (s)\n",
      "Reading c:\\Users\\afcad\\Downloads\\Sujeto10_R_processed.fif ...\n",
      "    Found the data of interest:\n",
      "        t =   -2500.00 ...    2500.00 ms\n",
      "        0 CTF compensation matrices available\n"
     ]
    },
    {
     "name": "stderr",
     "output_type": "stream",
     "text": [
      "C:\\Users\\afcad\\AppData\\Local\\Temp\\ipykernel_1044\\2732955412.py:32: RuntimeWarning: This filename (Sujeto10_R_processed.fif) does not conform to MNE naming conventions. All epochs files should end with -epo.fif, -epo.fif.gz, _epo.fif or _epo.fif.gz\n",
      "  epochs_R = mne.read_epochs(file_R)\n"
     ]
    },
    {
     "name": "stdout",
     "output_type": "stream",
     "text": [
      "Not setting metadata\n",
      "64 matching events found\n",
      "No baseline correction applied\n",
      "0 projection items activated\n",
      "Reading c:\\Users\\afcad\\Downloads\\Sujeto10_MF_processed.fif ...\n"
     ]
    },
    {
     "name": "stderr",
     "output_type": "stream",
     "text": [
      "C:\\Users\\afcad\\AppData\\Local\\Temp\\ipykernel_1044\\2732955412.py:33: RuntimeWarning: This filename (Sujeto10_MF_processed.fif) does not conform to MNE naming conventions. All epochs files should end with -epo.fif, -epo.fif.gz, _epo.fif or _epo.fif.gz\n",
      "  epochs_MF = mne.read_epochs(file_MF)\n"
     ]
    },
    {
     "name": "stdout",
     "output_type": "stream",
     "text": [
      "    Found the data of interest:\n",
      "        t =   -2500.00 ...    2500.00 ms\n",
      "        0 CTF compensation matrices available\n",
      "Not setting metadata\n",
      "137 matching events found\n",
      "No baseline correction applied\n",
      "0 projection items activated\n",
      "Effective window size : 0.250 (s)\n",
      "Effective window size : 0.250 (s)\n",
      "Reading c:\\Users\\afcad\\Downloads\\Sujeto11_R_processed.fif ...\n",
      "    Found the data of interest:\n",
      "        t =   -2500.00 ...    2500.00 ms\n",
      "        0 CTF compensation matrices available\n"
     ]
    },
    {
     "name": "stderr",
     "output_type": "stream",
     "text": [
      "C:\\Users\\afcad\\AppData\\Local\\Temp\\ipykernel_1044\\2732955412.py:32: RuntimeWarning: This filename (Sujeto11_R_processed.fif) does not conform to MNE naming conventions. All epochs files should end with -epo.fif, -epo.fif.gz, _epo.fif or _epo.fif.gz\n",
      "  epochs_R = mne.read_epochs(file_R)\n"
     ]
    },
    {
     "name": "stdout",
     "output_type": "stream",
     "text": [
      "Not setting metadata\n",
      "53 matching events found\n",
      "No baseline correction applied\n",
      "0 projection items activated\n",
      "Reading c:\\Users\\afcad\\Downloads\\Sujeto11_MF_processed.fif ...\n"
     ]
    },
    {
     "name": "stderr",
     "output_type": "stream",
     "text": [
      "C:\\Users\\afcad\\AppData\\Local\\Temp\\ipykernel_1044\\2732955412.py:33: RuntimeWarning: This filename (Sujeto11_MF_processed.fif) does not conform to MNE naming conventions. All epochs files should end with -epo.fif, -epo.fif.gz, _epo.fif or _epo.fif.gz\n",
      "  epochs_MF = mne.read_epochs(file_MF)\n"
     ]
    },
    {
     "name": "stdout",
     "output_type": "stream",
     "text": [
      "    Found the data of interest:\n",
      "        t =   -2500.00 ...    2500.00 ms\n",
      "        0 CTF compensation matrices available\n",
      "Not setting metadata\n",
      "107 matching events found\n",
      "No baseline correction applied\n",
      "0 projection items activated\n",
      "Effective window size : 0.250 (s)\n",
      "Effective window size : 0.250 (s)\n",
      "Reading c:\\Users\\afcad\\Downloads\\Sujeto13_R_processed.fif ...\n",
      "    Found the data of interest:\n",
      "        t =   -2500.00 ...    2500.00 ms\n",
      "        0 CTF compensation matrices available\n"
     ]
    },
    {
     "name": "stderr",
     "output_type": "stream",
     "text": [
      "C:\\Users\\afcad\\AppData\\Local\\Temp\\ipykernel_1044\\2732955412.py:32: RuntimeWarning: This filename (Sujeto13_R_processed.fif) does not conform to MNE naming conventions. All epochs files should end with -epo.fif, -epo.fif.gz, _epo.fif or _epo.fif.gz\n",
      "  epochs_R = mne.read_epochs(file_R)\n"
     ]
    },
    {
     "name": "stdout",
     "output_type": "stream",
     "text": [
      "Not setting metadata\n",
      "63 matching events found\n",
      "No baseline correction applied\n",
      "0 projection items activated\n",
      "Reading c:\\Users\\afcad\\Downloads\\Sujeto13_MF_processed.fif ...\n"
     ]
    },
    {
     "name": "stderr",
     "output_type": "stream",
     "text": [
      "C:\\Users\\afcad\\AppData\\Local\\Temp\\ipykernel_1044\\2732955412.py:33: RuntimeWarning: This filename (Sujeto13_MF_processed.fif) does not conform to MNE naming conventions. All epochs files should end with -epo.fif, -epo.fif.gz, _epo.fif or _epo.fif.gz\n",
      "  epochs_MF = mne.read_epochs(file_MF)\n"
     ]
    },
    {
     "name": "stdout",
     "output_type": "stream",
     "text": [
      "    Found the data of interest:\n",
      "        t =   -2500.00 ...    2500.00 ms\n",
      "        0 CTF compensation matrices available\n",
      "Not setting metadata\n",
      "141 matching events found\n",
      "No baseline correction applied\n",
      "0 projection items activated\n",
      "Effective window size : 0.250 (s)\n",
      "Effective window size : 0.250 (s)\n",
      "Reading c:\\Users\\afcad\\Downloads\\Sujeto14_R_processed.fif ...\n",
      "    Found the data of interest:\n",
      "        t =   -2500.00 ...    2500.00 ms\n",
      "        0 CTF compensation matrices available\n"
     ]
    },
    {
     "name": "stderr",
     "output_type": "stream",
     "text": [
      "C:\\Users\\afcad\\AppData\\Local\\Temp\\ipykernel_1044\\2732955412.py:32: RuntimeWarning: This filename (Sujeto14_R_processed.fif) does not conform to MNE naming conventions. All epochs files should end with -epo.fif, -epo.fif.gz, _epo.fif or _epo.fif.gz\n",
      "  epochs_R = mne.read_epochs(file_R)\n"
     ]
    },
    {
     "name": "stdout",
     "output_type": "stream",
     "text": [
      "Not setting metadata\n",
      "71 matching events found\n",
      "No baseline correction applied\n",
      "0 projection items activated\n",
      "Reading c:\\Users\\afcad\\Downloads\\Sujeto14_MF_processed.fif ...\n"
     ]
    },
    {
     "name": "stderr",
     "output_type": "stream",
     "text": [
      "C:\\Users\\afcad\\AppData\\Local\\Temp\\ipykernel_1044\\2732955412.py:33: RuntimeWarning: This filename (Sujeto14_MF_processed.fif) does not conform to MNE naming conventions. All epochs files should end with -epo.fif, -epo.fif.gz, _epo.fif or _epo.fif.gz\n",
      "  epochs_MF = mne.read_epochs(file_MF)\n"
     ]
    },
    {
     "name": "stdout",
     "output_type": "stream",
     "text": [
      "    Found the data of interest:\n",
      "        t =   -2500.00 ...    2500.00 ms\n",
      "        0 CTF compensation matrices available\n",
      "Not setting metadata\n",
      "141 matching events found\n",
      "No baseline correction applied\n",
      "0 projection items activated\n",
      "Effective window size : 0.250 (s)\n",
      "Effective window size : 0.250 (s)\n",
      "Reading c:\\Users\\afcad\\Downloads\\Sujeto15_R_processed.fif ...\n",
      "    Found the data of interest:\n",
      "        t =   -2500.00 ...    2500.00 ms\n",
      "        0 CTF compensation matrices available\n"
     ]
    },
    {
     "name": "stderr",
     "output_type": "stream",
     "text": [
      "C:\\Users\\afcad\\AppData\\Local\\Temp\\ipykernel_1044\\2732955412.py:32: RuntimeWarning: This filename (Sujeto15_R_processed.fif) does not conform to MNE naming conventions. All epochs files should end with -epo.fif, -epo.fif.gz, _epo.fif or _epo.fif.gz\n",
      "  epochs_R = mne.read_epochs(file_R)\n"
     ]
    },
    {
     "name": "stdout",
     "output_type": "stream",
     "text": [
      "Not setting metadata\n",
      "69 matching events found\n",
      "No baseline correction applied\n",
      "0 projection items activated\n",
      "Reading c:\\Users\\afcad\\Downloads\\Sujeto15_MF_processed.fif ...\n"
     ]
    },
    {
     "name": "stderr",
     "output_type": "stream",
     "text": [
      "C:\\Users\\afcad\\AppData\\Local\\Temp\\ipykernel_1044\\2732955412.py:33: RuntimeWarning: This filename (Sujeto15_MF_processed.fif) does not conform to MNE naming conventions. All epochs files should end with -epo.fif, -epo.fif.gz, _epo.fif or _epo.fif.gz\n",
      "  epochs_MF = mne.read_epochs(file_MF)\n"
     ]
    },
    {
     "name": "stdout",
     "output_type": "stream",
     "text": [
      "    Found the data of interest:\n",
      "        t =   -2500.00 ...    2500.00 ms\n",
      "        0 CTF compensation matrices available\n",
      "Not setting metadata\n",
      "141 matching events found\n",
      "No baseline correction applied\n",
      "0 projection items activated\n",
      "Effective window size : 0.250 (s)\n",
      "Effective window size : 0.250 (s)\n",
      "Reading c:\\Users\\afcad\\Downloads\\Sujeto16_R_processed.fif ...\n",
      "    Found the data of interest:\n"
     ]
    },
    {
     "name": "stderr",
     "output_type": "stream",
     "text": [
      "C:\\Users\\afcad\\AppData\\Local\\Temp\\ipykernel_1044\\2732955412.py:32: RuntimeWarning: This filename (Sujeto16_R_processed.fif) does not conform to MNE naming conventions. All epochs files should end with -epo.fif, -epo.fif.gz, _epo.fif or _epo.fif.gz\n",
      "  epochs_R = mne.read_epochs(file_R)\n"
     ]
    },
    {
     "name": "stdout",
     "output_type": "stream",
     "text": [
      "        t =   -2500.00 ...    2500.00 ms\n",
      "        0 CTF compensation matrices available\n",
      "Not setting metadata\n",
      "52 matching events found\n",
      "No baseline correction applied\n",
      "0 projection items activated\n",
      "Reading c:\\Users\\afcad\\Downloads\\Sujeto16_MF_processed.fif ...\n"
     ]
    },
    {
     "name": "stderr",
     "output_type": "stream",
     "text": [
      "C:\\Users\\afcad\\AppData\\Local\\Temp\\ipykernel_1044\\2732955412.py:33: RuntimeWarning: This filename (Sujeto16_MF_processed.fif) does not conform to MNE naming conventions. All epochs files should end with -epo.fif, -epo.fif.gz, _epo.fif or _epo.fif.gz\n",
      "  epochs_MF = mne.read_epochs(file_MF)\n"
     ]
    },
    {
     "name": "stdout",
     "output_type": "stream",
     "text": [
      "    Found the data of interest:\n",
      "        t =   -2500.00 ...    2500.00 ms\n",
      "        0 CTF compensation matrices available\n",
      "Not setting metadata\n",
      "106 matching events found\n",
      "No baseline correction applied\n",
      "0 projection items activated\n",
      "Effective window size : 0.250 (s)\n",
      "Effective window size : 0.250 (s)\n",
      "Reading c:\\Users\\afcad\\Downloads\\Sujeto17_R_processed.fif ...\n",
      "    Found the data of interest:\n"
     ]
    },
    {
     "name": "stderr",
     "output_type": "stream",
     "text": [
      "C:\\Users\\afcad\\AppData\\Local\\Temp\\ipykernel_1044\\2732955412.py:32: RuntimeWarning: This filename (Sujeto17_R_processed.fif) does not conform to MNE naming conventions. All epochs files should end with -epo.fif, -epo.fif.gz, _epo.fif or _epo.fif.gz\n",
      "  epochs_R = mne.read_epochs(file_R)\n"
     ]
    },
    {
     "name": "stdout",
     "output_type": "stream",
     "text": [
      "        t =   -2500.00 ...    2500.00 ms\n",
      "        0 CTF compensation matrices available\n",
      "Not setting metadata\n",
      "72 matching events found\n",
      "No baseline correction applied\n",
      "0 projection items activated\n",
      "Reading c:\\Users\\afcad\\Downloads\\Sujeto17_MF_processed.fif ...\n"
     ]
    },
    {
     "name": "stderr",
     "output_type": "stream",
     "text": [
      "C:\\Users\\afcad\\AppData\\Local\\Temp\\ipykernel_1044\\2732955412.py:33: RuntimeWarning: This filename (Sujeto17_MF_processed.fif) does not conform to MNE naming conventions. All epochs files should end with -epo.fif, -epo.fif.gz, _epo.fif or _epo.fif.gz\n",
      "  epochs_MF = mne.read_epochs(file_MF)\n"
     ]
    },
    {
     "name": "stdout",
     "output_type": "stream",
     "text": [
      "    Found the data of interest:\n",
      "        t =   -2500.00 ...    2500.00 ms\n",
      "        0 CTF compensation matrices available\n",
      "Not setting metadata\n",
      "145 matching events found\n",
      "No baseline correction applied\n",
      "0 projection items activated\n",
      "Effective window size : 0.250 (s)\n",
      "Effective window size : 0.250 (s)\n",
      "Reading c:\\Users\\afcad\\Downloads\\Sujeto18_R_processed.fif ...\n",
      "    Found the data of interest:\n",
      "        t =   -2500.00 ...    2500.00 ms\n",
      "        0 CTF compensation matrices available\n"
     ]
    },
    {
     "name": "stderr",
     "output_type": "stream",
     "text": [
      "C:\\Users\\afcad\\AppData\\Local\\Temp\\ipykernel_1044\\2732955412.py:32: RuntimeWarning: This filename (Sujeto18_R_processed.fif) does not conform to MNE naming conventions. All epochs files should end with -epo.fif, -epo.fif.gz, _epo.fif or _epo.fif.gz\n",
      "  epochs_R = mne.read_epochs(file_R)\n"
     ]
    },
    {
     "name": "stdout",
     "output_type": "stream",
     "text": [
      "Not setting metadata\n",
      "44 matching events found\n",
      "No baseline correction applied\n",
      "0 projection items activated\n",
      "Reading c:\\Users\\afcad\\Downloads\\Sujeto18_MF_processed.fif ...\n"
     ]
    },
    {
     "name": "stderr",
     "output_type": "stream",
     "text": [
      "C:\\Users\\afcad\\AppData\\Local\\Temp\\ipykernel_1044\\2732955412.py:33: RuntimeWarning: This filename (Sujeto18_MF_processed.fif) does not conform to MNE naming conventions. All epochs files should end with -epo.fif, -epo.fif.gz, _epo.fif or _epo.fif.gz\n",
      "  epochs_MF = mne.read_epochs(file_MF)\n"
     ]
    },
    {
     "name": "stdout",
     "output_type": "stream",
     "text": [
      "    Found the data of interest:\n",
      "        t =   -2500.00 ...    2500.00 ms\n",
      "        0 CTF compensation matrices available\n",
      "Not setting metadata\n",
      "137 matching events found\n",
      "No baseline correction applied\n",
      "0 projection items activated\n",
      "Effective window size : 0.250 (s)\n",
      "Effective window size : 0.250 (s)\n",
      "Reading c:\\Users\\afcad\\Downloads\\Sujeto19_R_processed.fif ...\n",
      "    Found the data of interest:\n",
      "        t =   -2500.00 ...    2500.00 ms\n",
      "        0 CTF compensation matrices available\n"
     ]
    },
    {
     "name": "stderr",
     "output_type": "stream",
     "text": [
      "C:\\Users\\afcad\\AppData\\Local\\Temp\\ipykernel_1044\\2732955412.py:32: RuntimeWarning: This filename (Sujeto19_R_processed.fif) does not conform to MNE naming conventions. All epochs files should end with -epo.fif, -epo.fif.gz, _epo.fif or _epo.fif.gz\n",
      "  epochs_R = mne.read_epochs(file_R)\n"
     ]
    },
    {
     "name": "stdout",
     "output_type": "stream",
     "text": [
      "Not setting metadata\n",
      "68 matching events found\n",
      "No baseline correction applied\n",
      "0 projection items activated\n",
      "Reading c:\\Users\\afcad\\Downloads\\Sujeto19_MF_processed.fif ...\n"
     ]
    },
    {
     "name": "stderr",
     "output_type": "stream",
     "text": [
      "C:\\Users\\afcad\\AppData\\Local\\Temp\\ipykernel_1044\\2732955412.py:33: RuntimeWarning: This filename (Sujeto19_MF_processed.fif) does not conform to MNE naming conventions. All epochs files should end with -epo.fif, -epo.fif.gz, _epo.fif or _epo.fif.gz\n",
      "  epochs_MF = mne.read_epochs(file_MF)\n"
     ]
    },
    {
     "name": "stdout",
     "output_type": "stream",
     "text": [
      "    Found the data of interest:\n",
      "        t =   -2500.00 ...    2500.00 ms\n",
      "        0 CTF compensation matrices available\n",
      "Not setting metadata\n",
      "143 matching events found\n",
      "No baseline correction applied\n",
      "0 projection items activated\n",
      "Effective window size : 0.250 (s)\n",
      "Effective window size : 0.250 (s)\n",
      "Reading c:\\Users\\afcad\\Downloads\\Sujeto20_R_processed.fif ...\n",
      "    Found the data of interest:\n",
      "        t =   -2500.00 ...    2500.00 ms\n",
      "        0 CTF compensation matrices available\n"
     ]
    },
    {
     "name": "stderr",
     "output_type": "stream",
     "text": [
      "C:\\Users\\afcad\\AppData\\Local\\Temp\\ipykernel_1044\\2732955412.py:32: RuntimeWarning: This filename (Sujeto20_R_processed.fif) does not conform to MNE naming conventions. All epochs files should end with -epo.fif, -epo.fif.gz, _epo.fif or _epo.fif.gz\n",
      "  epochs_R = mne.read_epochs(file_R)\n"
     ]
    },
    {
     "name": "stdout",
     "output_type": "stream",
     "text": [
      "Not setting metadata\n",
      "71 matching events found\n",
      "No baseline correction applied\n",
      "0 projection items activated\n",
      "Reading c:\\Users\\afcad\\Downloads\\Sujeto20_MF_processed.fif ...\n"
     ]
    },
    {
     "name": "stderr",
     "output_type": "stream",
     "text": [
      "C:\\Users\\afcad\\AppData\\Local\\Temp\\ipykernel_1044\\2732955412.py:33: RuntimeWarning: This filename (Sujeto20_MF_processed.fif) does not conform to MNE naming conventions. All epochs files should end with -epo.fif, -epo.fif.gz, _epo.fif or _epo.fif.gz\n",
      "  epochs_MF = mne.read_epochs(file_MF)\n"
     ]
    },
    {
     "name": "stdout",
     "output_type": "stream",
     "text": [
      "    Found the data of interest:\n",
      "        t =   -2500.00 ...    2500.00 ms\n",
      "        0 CTF compensation matrices available\n",
      "Not setting metadata\n",
      "141 matching events found\n",
      "No baseline correction applied\n",
      "0 projection items activated\n",
      "Effective window size : 0.250 (s)\n",
      "Effective window size : 0.250 (s)\n",
      "Reading c:\\Users\\afcad\\Downloads\\Sujeto21_R_processed.fif ...\n",
      "    Found the data of interest:\n",
      "        t =   -2500.00 ...    2500.00 ms\n",
      "        0 CTF compensation matrices available\n"
     ]
    },
    {
     "name": "stderr",
     "output_type": "stream",
     "text": [
      "C:\\Users\\afcad\\AppData\\Local\\Temp\\ipykernel_1044\\2732955412.py:32: RuntimeWarning: This filename (Sujeto21_R_processed.fif) does not conform to MNE naming conventions. All epochs files should end with -epo.fif, -epo.fif.gz, _epo.fif or _epo.fif.gz\n",
      "  epochs_R = mne.read_epochs(file_R)\n"
     ]
    },
    {
     "name": "stdout",
     "output_type": "stream",
     "text": [
      "Not setting metadata\n",
      "47 matching events found\n",
      "No baseline correction applied\n",
      "0 projection items activated\n",
      "Reading c:\\Users\\afcad\\Downloads\\Sujeto21_MF_processed.fif ...\n"
     ]
    },
    {
     "name": "stderr",
     "output_type": "stream",
     "text": [
      "C:\\Users\\afcad\\AppData\\Local\\Temp\\ipykernel_1044\\2732955412.py:33: RuntimeWarning: This filename (Sujeto21_MF_processed.fif) does not conform to MNE naming conventions. All epochs files should end with -epo.fif, -epo.fif.gz, _epo.fif or _epo.fif.gz\n",
      "  epochs_MF = mne.read_epochs(file_MF)\n"
     ]
    },
    {
     "name": "stdout",
     "output_type": "stream",
     "text": [
      "    Found the data of interest:\n",
      "        t =   -2500.00 ...    2500.00 ms\n",
      "        0 CTF compensation matrices available\n",
      "Not setting metadata\n",
      "106 matching events found\n",
      "No baseline correction applied\n",
      "0 projection items activated\n",
      "Effective window size : 0.250 (s)\n",
      "Effective window size : 0.250 (s)\n",
      "Reading c:\\Users\\afcad\\Downloads\\Sujeto22_R_processed.fif ...\n",
      "    Found the data of interest:\n",
      "        t =   -2500.00 ...    2500.00 ms\n",
      "        0 CTF compensation matrices available\n"
     ]
    },
    {
     "name": "stderr",
     "output_type": "stream",
     "text": [
      "C:\\Users\\afcad\\AppData\\Local\\Temp\\ipykernel_1044\\2732955412.py:32: RuntimeWarning: This filename (Sujeto22_R_processed.fif) does not conform to MNE naming conventions. All epochs files should end with -epo.fif, -epo.fif.gz, _epo.fif or _epo.fif.gz\n",
      "  epochs_R = mne.read_epochs(file_R)\n"
     ]
    },
    {
     "name": "stdout",
     "output_type": "stream",
     "text": [
      "Not setting metadata\n",
      "67 matching events found\n",
      "No baseline correction applied\n",
      "0 projection items activated\n",
      "Reading c:\\Users\\afcad\\Downloads\\Sujeto22_MF_processed.fif ...\n"
     ]
    },
    {
     "name": "stderr",
     "output_type": "stream",
     "text": [
      "C:\\Users\\afcad\\AppData\\Local\\Temp\\ipykernel_1044\\2732955412.py:33: RuntimeWarning: This filename (Sujeto22_MF_processed.fif) does not conform to MNE naming conventions. All epochs files should end with -epo.fif, -epo.fif.gz, _epo.fif or _epo.fif.gz\n",
      "  epochs_MF = mne.read_epochs(file_MF)\n"
     ]
    },
    {
     "name": "stdout",
     "output_type": "stream",
     "text": [
      "    Found the data of interest:\n",
      "        t =   -2500.00 ...    2500.00 ms\n",
      "        0 CTF compensation matrices available\n",
      "Not setting metadata\n",
      "138 matching events found\n",
      "No baseline correction applied\n",
      "0 projection items activated\n",
      "Effective window size : 0.250 (s)\n",
      "Effective window size : 0.250 (s)\n",
      "Reading c:\\Users\\afcad\\Downloads\\Sujeto23_R_processed.fif ...\n",
      "    Found the data of interest:\n",
      "        t =   -2500.00 ...    2500.00 ms\n",
      "        0 CTF compensation matrices available\n",
      "Not setting metadata\n",
      "11 matching events found\n",
      "No baseline correction applied\n",
      "0 projection items activated\n",
      "Reading c:\\Users\\afcad\\Downloads\\Sujeto23_MF_processed.fif ...\n"
     ]
    },
    {
     "name": "stderr",
     "output_type": "stream",
     "text": [
      "C:\\Users\\afcad\\AppData\\Local\\Temp\\ipykernel_1044\\2732955412.py:32: RuntimeWarning: This filename (Sujeto23_R_processed.fif) does not conform to MNE naming conventions. All epochs files should end with -epo.fif, -epo.fif.gz, _epo.fif or _epo.fif.gz\n",
      "  epochs_R = mne.read_epochs(file_R)\n",
      "C:\\Users\\afcad\\AppData\\Local\\Temp\\ipykernel_1044\\2732955412.py:33: RuntimeWarning: This filename (Sujeto23_MF_processed.fif) does not conform to MNE naming conventions. All epochs files should end with -epo.fif, -epo.fif.gz, _epo.fif or _epo.fif.gz\n",
      "  epochs_MF = mne.read_epochs(file_MF)\n"
     ]
    },
    {
     "name": "stdout",
     "output_type": "stream",
     "text": [
      "    Found the data of interest:\n",
      "        t =   -2500.00 ...    2500.00 ms\n",
      "        0 CTF compensation matrices available\n",
      "Not setting metadata\n",
      "125 matching events found\n",
      "No baseline correction applied\n",
      "0 projection items activated\n",
      "Effective window size : 0.250 (s)\n",
      "Effective window size : 0.250 (s)\n",
      "Reading c:\\Users\\afcad\\Downloads\\Sujeto24_R_processed.fif ...\n",
      "    Found the data of interest:\n",
      "        t =   -2500.00 ...    2500.00 ms\n",
      "        0 CTF compensation matrices available\n"
     ]
    },
    {
     "name": "stderr",
     "output_type": "stream",
     "text": [
      "C:\\Users\\afcad\\AppData\\Local\\Temp\\ipykernel_1044\\2732955412.py:32: RuntimeWarning: This filename (Sujeto24_R_processed.fif) does not conform to MNE naming conventions. All epochs files should end with -epo.fif, -epo.fif.gz, _epo.fif or _epo.fif.gz\n",
      "  epochs_R = mne.read_epochs(file_R)\n"
     ]
    },
    {
     "name": "stdout",
     "output_type": "stream",
     "text": [
      "Not setting metadata\n",
      "61 matching events found\n",
      "No baseline correction applied\n",
      "0 projection items activated\n",
      "Reading c:\\Users\\afcad\\Downloads\\Sujeto24_MF_processed.fif ...\n"
     ]
    },
    {
     "name": "stderr",
     "output_type": "stream",
     "text": [
      "C:\\Users\\afcad\\AppData\\Local\\Temp\\ipykernel_1044\\2732955412.py:33: RuntimeWarning: This filename (Sujeto24_MF_processed.fif) does not conform to MNE naming conventions. All epochs files should end with -epo.fif, -epo.fif.gz, _epo.fif or _epo.fif.gz\n",
      "  epochs_MF = mne.read_epochs(file_MF)\n"
     ]
    },
    {
     "name": "stdout",
     "output_type": "stream",
     "text": [
      "    Found the data of interest:\n",
      "        t =   -2500.00 ...    2500.00 ms\n",
      "        0 CTF compensation matrices available\n",
      "Not setting metadata\n",
      "132 matching events found\n",
      "No baseline correction applied\n",
      "0 projection items activated\n",
      "Effective window size : 0.250 (s)\n",
      "Effective window size : 0.250 (s)\n",
      "Reading c:\\Users\\afcad\\Downloads\\Sujeto25_R_processed.fif ...\n"
     ]
    },
    {
     "name": "stderr",
     "output_type": "stream",
     "text": [
      "C:\\Users\\afcad\\AppData\\Local\\Temp\\ipykernel_1044\\2732955412.py:32: RuntimeWarning: This filename (Sujeto25_R_processed.fif) does not conform to MNE naming conventions. All epochs files should end with -epo.fif, -epo.fif.gz, _epo.fif or _epo.fif.gz\n",
      "  epochs_R = mne.read_epochs(file_R)\n"
     ]
    },
    {
     "name": "stdout",
     "output_type": "stream",
     "text": [
      "    Found the data of interest:\n",
      "        t =   -2500.00 ...    2500.00 ms\n",
      "        0 CTF compensation matrices available\n",
      "Not setting metadata\n",
      "70 matching events found\n",
      "No baseline correction applied\n",
      "0 projection items activated\n",
      "Reading c:\\Users\\afcad\\Downloads\\Sujeto25_MF_processed.fif ...\n"
     ]
    },
    {
     "name": "stderr",
     "output_type": "stream",
     "text": [
      "C:\\Users\\afcad\\AppData\\Local\\Temp\\ipykernel_1044\\2732955412.py:33: RuntimeWarning: This filename (Sujeto25_MF_processed.fif) does not conform to MNE naming conventions. All epochs files should end with -epo.fif, -epo.fif.gz, _epo.fif or _epo.fif.gz\n",
      "  epochs_MF = mne.read_epochs(file_MF)\n"
     ]
    },
    {
     "name": "stdout",
     "output_type": "stream",
     "text": [
      "    Found the data of interest:\n",
      "        t =   -2500.00 ...    2500.00 ms\n",
      "        0 CTF compensation matrices available\n",
      "Not setting metadata\n",
      "140 matching events found\n",
      "No baseline correction applied\n",
      "0 projection items activated\n",
      "Effective window size : 0.250 (s)\n",
      "Effective window size : 0.250 (s)\n",
      "Reading c:\\Users\\afcad\\Downloads\\Sujeto26_R_processed.fif ...\n",
      "    Found the data of interest:\n",
      "        t =   -2500.00 ...    2500.00 ms\n",
      "        0 CTF compensation matrices available\n"
     ]
    },
    {
     "name": "stderr",
     "output_type": "stream",
     "text": [
      "C:\\Users\\afcad\\AppData\\Local\\Temp\\ipykernel_1044\\2732955412.py:32: RuntimeWarning: This filename (Sujeto26_R_processed.fif) does not conform to MNE naming conventions. All epochs files should end with -epo.fif, -epo.fif.gz, _epo.fif or _epo.fif.gz\n",
      "  epochs_R = mne.read_epochs(file_R)\n"
     ]
    },
    {
     "name": "stdout",
     "output_type": "stream",
     "text": [
      "Not setting metadata\n",
      "63 matching events found\n",
      "No baseline correction applied\n",
      "0 projection items activated\n",
      "Reading c:\\Users\\afcad\\Downloads\\Sujeto26_MF_processed.fif ...\n",
      "    Found the data of interest:\n"
     ]
    },
    {
     "name": "stderr",
     "output_type": "stream",
     "text": [
      "C:\\Users\\afcad\\AppData\\Local\\Temp\\ipykernel_1044\\2732955412.py:33: RuntimeWarning: This filename (Sujeto26_MF_processed.fif) does not conform to MNE naming conventions. All epochs files should end with -epo.fif, -epo.fif.gz, _epo.fif or _epo.fif.gz\n",
      "  epochs_MF = mne.read_epochs(file_MF)\n"
     ]
    },
    {
     "name": "stdout",
     "output_type": "stream",
     "text": [
      "        t =   -2500.00 ...    2500.00 ms\n",
      "        0 CTF compensation matrices available\n",
      "Not setting metadata\n",
      "74 matching events found\n",
      "No baseline correction applied\n",
      "0 projection items activated\n",
      "Effective window size : 0.250 (s)\n",
      "Effective window size : 0.250 (s)\n",
      "Reading c:\\Users\\afcad\\Downloads\\Sujeto27_R_processed.fif ...\n"
     ]
    },
    {
     "name": "stderr",
     "output_type": "stream",
     "text": [
      "C:\\Users\\afcad\\AppData\\Local\\Temp\\ipykernel_1044\\2732955412.py:32: RuntimeWarning: This filename (Sujeto27_R_processed.fif) does not conform to MNE naming conventions. All epochs files should end with -epo.fif, -epo.fif.gz, _epo.fif or _epo.fif.gz\n",
      "  epochs_R = mne.read_epochs(file_R)\n"
     ]
    },
    {
     "name": "stdout",
     "output_type": "stream",
     "text": [
      "    Found the data of interest:\n",
      "        t =   -2500.00 ...    2500.00 ms\n",
      "        0 CTF compensation matrices available\n",
      "Not setting metadata\n",
      "64 matching events found\n",
      "No baseline correction applied\n",
      "0 projection items activated\n",
      "Reading c:\\Users\\afcad\\Downloads\\Sujeto27_MF_processed.fif ...\n"
     ]
    },
    {
     "name": "stderr",
     "output_type": "stream",
     "text": [
      "C:\\Users\\afcad\\AppData\\Local\\Temp\\ipykernel_1044\\2732955412.py:33: RuntimeWarning: This filename (Sujeto27_MF_processed.fif) does not conform to MNE naming conventions. All epochs files should end with -epo.fif, -epo.fif.gz, _epo.fif or _epo.fif.gz\n",
      "  epochs_MF = mne.read_epochs(file_MF)\n"
     ]
    },
    {
     "name": "stdout",
     "output_type": "stream",
     "text": [
      "    Found the data of interest:\n",
      "        t =   -2500.00 ...    2500.00 ms\n",
      "        0 CTF compensation matrices available\n",
      "Not setting metadata\n",
      "70 matching events found\n",
      "No baseline correction applied\n",
      "0 projection items activated\n",
      "Effective window size : 0.250 (s)\n",
      "Effective window size : 0.250 (s)\n",
      "Reading c:\\Users\\afcad\\Downloads\\Sujeto28_R_processed.fif ...\n"
     ]
    },
    {
     "name": "stderr",
     "output_type": "stream",
     "text": [
      "C:\\Users\\afcad\\AppData\\Local\\Temp\\ipykernel_1044\\2732955412.py:32: RuntimeWarning: This filename (Sujeto28_R_processed.fif) does not conform to MNE naming conventions. All epochs files should end with -epo.fif, -epo.fif.gz, _epo.fif or _epo.fif.gz\n",
      "  epochs_R = mne.read_epochs(file_R)\n"
     ]
    },
    {
     "name": "stdout",
     "output_type": "stream",
     "text": [
      "    Found the data of interest:\n",
      "        t =   -2500.00 ...    2500.00 ms\n",
      "        0 CTF compensation matrices available\n",
      "Not setting metadata\n",
      "55 matching events found\n",
      "No baseline correction applied\n",
      "0 projection items activated\n",
      "Reading c:\\Users\\afcad\\Downloads\\Sujeto28_MF_processed.fif ...\n"
     ]
    },
    {
     "name": "stderr",
     "output_type": "stream",
     "text": [
      "C:\\Users\\afcad\\AppData\\Local\\Temp\\ipykernel_1044\\2732955412.py:33: RuntimeWarning: This filename (Sujeto28_MF_processed.fif) does not conform to MNE naming conventions. All epochs files should end with -epo.fif, -epo.fif.gz, _epo.fif or _epo.fif.gz\n",
      "  epochs_MF = mne.read_epochs(file_MF)\n"
     ]
    },
    {
     "name": "stdout",
     "output_type": "stream",
     "text": [
      "    Found the data of interest:\n",
      "        t =   -2500.00 ...    2500.00 ms\n",
      "        0 CTF compensation matrices available\n",
      "Not setting metadata\n",
      "114 matching events found\n",
      "No baseline correction applied\n",
      "0 projection items activated\n",
      "Effective window size : 0.250 (s)\n",
      "Effective window size : 0.250 (s)\n",
      "Reading c:\\Users\\afcad\\Downloads\\Sujeto29_R_processed.fif ...\n",
      "    Found the data of interest:\n",
      "        t =   -2500.00 ...    2500.00 ms\n",
      "        0 CTF compensation matrices available\n"
     ]
    },
    {
     "name": "stderr",
     "output_type": "stream",
     "text": [
      "C:\\Users\\afcad\\AppData\\Local\\Temp\\ipykernel_1044\\2732955412.py:32: RuntimeWarning: This filename (Sujeto29_R_processed.fif) does not conform to MNE naming conventions. All epochs files should end with -epo.fif, -epo.fif.gz, _epo.fif or _epo.fif.gz\n",
      "  epochs_R = mne.read_epochs(file_R)\n"
     ]
    },
    {
     "name": "stdout",
     "output_type": "stream",
     "text": [
      "Not setting metadata\n",
      "68 matching events found\n",
      "No baseline correction applied\n",
      "0 projection items activated\n",
      "Reading c:\\Users\\afcad\\Downloads\\Sujeto29_MF_processed.fif ...\n"
     ]
    },
    {
     "name": "stderr",
     "output_type": "stream",
     "text": [
      "C:\\Users\\afcad\\AppData\\Local\\Temp\\ipykernel_1044\\2732955412.py:33: RuntimeWarning: This filename (Sujeto29_MF_processed.fif) does not conform to MNE naming conventions. All epochs files should end with -epo.fif, -epo.fif.gz, _epo.fif or _epo.fif.gz\n",
      "  epochs_MF = mne.read_epochs(file_MF)\n"
     ]
    },
    {
     "name": "stdout",
     "output_type": "stream",
     "text": [
      "    Found the data of interest:\n",
      "        t =   -2500.00 ...    2500.00 ms\n",
      "        0 CTF compensation matrices available\n",
      "Not setting metadata\n",
      "145 matching events found\n",
      "No baseline correction applied\n",
      "0 projection items activated\n",
      "Effective window size : 0.250 (s)\n",
      "Effective window size : 0.250 (s)\n",
      "Reading c:\\Users\\afcad\\Downloads\\Sujeto30_R_processed.fif ...\n",
      "    Found the data of interest:\n",
      "        t =   -2500.00 ...    2500.00 ms\n",
      "        0 CTF compensation matrices available\n"
     ]
    },
    {
     "name": "stderr",
     "output_type": "stream",
     "text": [
      "C:\\Users\\afcad\\AppData\\Local\\Temp\\ipykernel_1044\\2732955412.py:32: RuntimeWarning: This filename (Sujeto30_R_processed.fif) does not conform to MNE naming conventions. All epochs files should end with -epo.fif, -epo.fif.gz, _epo.fif or _epo.fif.gz\n",
      "  epochs_R = mne.read_epochs(file_R)\n"
     ]
    },
    {
     "name": "stdout",
     "output_type": "stream",
     "text": [
      "Not setting metadata\n",
      "69 matching events found\n",
      "No baseline correction applied\n",
      "0 projection items activated\n",
      "Reading c:\\Users\\afcad\\Downloads\\Sujeto30_MF_processed.fif ...\n"
     ]
    },
    {
     "name": "stderr",
     "output_type": "stream",
     "text": [
      "C:\\Users\\afcad\\AppData\\Local\\Temp\\ipykernel_1044\\2732955412.py:33: RuntimeWarning: This filename (Sujeto30_MF_processed.fif) does not conform to MNE naming conventions. All epochs files should end with -epo.fif, -epo.fif.gz, _epo.fif or _epo.fif.gz\n",
      "  epochs_MF = mne.read_epochs(file_MF)\n"
     ]
    },
    {
     "name": "stdout",
     "output_type": "stream",
     "text": [
      "    Found the data of interest:\n",
      "        t =   -2500.00 ...    2500.00 ms\n",
      "        0 CTF compensation matrices available\n",
      "Not setting metadata\n",
      "124 matching events found\n",
      "No baseline correction applied\n",
      "0 projection items activated\n",
      "Effective window size : 0.250 (s)\n",
      "Effective window size : 0.250 (s)\n",
      "Reading c:\\Users\\afcad\\Downloads\\Sujeto31_R_processed.fif ...\n",
      "    Found the data of interest:\n",
      "        t =   -2500.00 ...    2500.00 ms\n",
      "        0 CTF compensation matrices available\n"
     ]
    },
    {
     "name": "stderr",
     "output_type": "stream",
     "text": [
      "C:\\Users\\afcad\\AppData\\Local\\Temp\\ipykernel_1044\\2732955412.py:32: RuntimeWarning: This filename (Sujeto31_R_processed.fif) does not conform to MNE naming conventions. All epochs files should end with -epo.fif, -epo.fif.gz, _epo.fif or _epo.fif.gz\n",
      "  epochs_R = mne.read_epochs(file_R)\n"
     ]
    },
    {
     "name": "stdout",
     "output_type": "stream",
     "text": [
      "Not setting metadata\n",
      "61 matching events found\n",
      "No baseline correction applied\n",
      "0 projection items activated\n",
      "Reading c:\\Users\\afcad\\Downloads\\Sujeto31_MF_processed.fif ...\n"
     ]
    },
    {
     "name": "stderr",
     "output_type": "stream",
     "text": [
      "C:\\Users\\afcad\\AppData\\Local\\Temp\\ipykernel_1044\\2732955412.py:33: RuntimeWarning: This filename (Sujeto31_MF_processed.fif) does not conform to MNE naming conventions. All epochs files should end with -epo.fif, -epo.fif.gz, _epo.fif or _epo.fif.gz\n",
      "  epochs_MF = mne.read_epochs(file_MF)\n"
     ]
    },
    {
     "name": "stdout",
     "output_type": "stream",
     "text": [
      "    Found the data of interest:\n",
      "        t =   -2500.00 ...    2500.00 ms\n",
      "        0 CTF compensation matrices available\n",
      "Not setting metadata\n",
      "140 matching events found\n",
      "No baseline correction applied\n",
      "0 projection items activated\n",
      "Effective window size : 0.250 (s)\n",
      "Effective window size : 0.250 (s)\n",
      "Reading c:\\Users\\afcad\\Downloads\\Sujeto32_R_processed.fif ...\n"
     ]
    },
    {
     "name": "stderr",
     "output_type": "stream",
     "text": [
      "C:\\Users\\afcad\\AppData\\Local\\Temp\\ipykernel_1044\\2732955412.py:32: RuntimeWarning: This filename (Sujeto32_R_processed.fif) does not conform to MNE naming conventions. All epochs files should end with -epo.fif, -epo.fif.gz, _epo.fif or _epo.fif.gz\n",
      "  epochs_R = mne.read_epochs(file_R)\n"
     ]
    },
    {
     "name": "stdout",
     "output_type": "stream",
     "text": [
      "    Found the data of interest:\n",
      "        t =   -2500.00 ...    2500.00 ms\n",
      "        0 CTF compensation matrices available\n",
      "Not setting metadata\n",
      "70 matching events found\n",
      "No baseline correction applied\n",
      "0 projection items activated\n",
      "Reading c:\\Users\\afcad\\Downloads\\Sujeto32_MF_processed.fif ...\n"
     ]
    },
    {
     "name": "stderr",
     "output_type": "stream",
     "text": [
      "C:\\Users\\afcad\\AppData\\Local\\Temp\\ipykernel_1044\\2732955412.py:33: RuntimeWarning: This filename (Sujeto32_MF_processed.fif) does not conform to MNE naming conventions. All epochs files should end with -epo.fif, -epo.fif.gz, _epo.fif or _epo.fif.gz\n",
      "  epochs_MF = mne.read_epochs(file_MF)\n"
     ]
    },
    {
     "name": "stdout",
     "output_type": "stream",
     "text": [
      "    Found the data of interest:\n",
      "        t =   -2500.00 ...    2500.00 ms\n",
      "        0 CTF compensation matrices available\n",
      "Not setting metadata\n",
      "127 matching events found\n",
      "No baseline correction applied\n",
      "0 projection items activated\n",
      "Effective window size : 0.250 (s)\n",
      "Effective window size : 0.250 (s)\n",
      "Reading c:\\Users\\afcad\\Downloads\\Sujeto33_R_processed.fif ...\n"
     ]
    },
    {
     "name": "stderr",
     "output_type": "stream",
     "text": [
      "C:\\Users\\afcad\\AppData\\Local\\Temp\\ipykernel_1044\\2732955412.py:32: RuntimeWarning: This filename (Sujeto33_R_processed.fif) does not conform to MNE naming conventions. All epochs files should end with -epo.fif, -epo.fif.gz, _epo.fif or _epo.fif.gz\n",
      "  epochs_R = mne.read_epochs(file_R)\n"
     ]
    },
    {
     "name": "stdout",
     "output_type": "stream",
     "text": [
      "    Found the data of interest:\n",
      "        t =   -2500.00 ...    2500.00 ms\n",
      "        0 CTF compensation matrices available\n",
      "Not setting metadata\n",
      "72 matching events found\n",
      "No baseline correction applied\n",
      "0 projection items activated\n",
      "Reading c:\\Users\\afcad\\Downloads\\Sujeto33_MF_processed.fif ...\n"
     ]
    },
    {
     "name": "stderr",
     "output_type": "stream",
     "text": [
      "C:\\Users\\afcad\\AppData\\Local\\Temp\\ipykernel_1044\\2732955412.py:33: RuntimeWarning: This filename (Sujeto33_MF_processed.fif) does not conform to MNE naming conventions. All epochs files should end with -epo.fif, -epo.fif.gz, _epo.fif or _epo.fif.gz\n",
      "  epochs_MF = mne.read_epochs(file_MF)\n"
     ]
    },
    {
     "name": "stdout",
     "output_type": "stream",
     "text": [
      "    Found the data of interest:\n",
      "        t =   -2500.00 ...    2500.00 ms\n",
      "        0 CTF compensation matrices available\n",
      "Not setting metadata\n",
      "88 matching events found\n",
      "No baseline correction applied\n",
      "0 projection items activated\n",
      "Effective window size : 0.250 (s)\n",
      "Effective window size : 0.250 (s)\n",
      "Reading c:\\Users\\afcad\\Downloads\\Sujeto34_R_processed.fif ...\n"
     ]
    },
    {
     "name": "stderr",
     "output_type": "stream",
     "text": [
      "C:\\Users\\afcad\\AppData\\Local\\Temp\\ipykernel_1044\\2732955412.py:32: RuntimeWarning: This filename (Sujeto34_R_processed.fif) does not conform to MNE naming conventions. All epochs files should end with -epo.fif, -epo.fif.gz, _epo.fif or _epo.fif.gz\n",
      "  epochs_R = mne.read_epochs(file_R)\n"
     ]
    },
    {
     "name": "stdout",
     "output_type": "stream",
     "text": [
      "    Found the data of interest:\n",
      "        t =   -2500.00 ...    2500.00 ms\n",
      "        0 CTF compensation matrices available\n",
      "Not setting metadata\n",
      "67 matching events found\n",
      "No baseline correction applied\n",
      "0 projection items activated\n",
      "Reading c:\\Users\\afcad\\Downloads\\Sujeto34_MF_processed.fif ...\n"
     ]
    },
    {
     "name": "stderr",
     "output_type": "stream",
     "text": [
      "C:\\Users\\afcad\\AppData\\Local\\Temp\\ipykernel_1044\\2732955412.py:33: RuntimeWarning: This filename (Sujeto34_MF_processed.fif) does not conform to MNE naming conventions. All epochs files should end with -epo.fif, -epo.fif.gz, _epo.fif or _epo.fif.gz\n",
      "  epochs_MF = mne.read_epochs(file_MF)\n"
     ]
    },
    {
     "name": "stdout",
     "output_type": "stream",
     "text": [
      "    Found the data of interest:\n",
      "        t =   -2500.00 ...    2500.00 ms\n",
      "        0 CTF compensation matrices available\n",
      "Not setting metadata\n",
      "142 matching events found\n",
      "No baseline correction applied\n",
      "0 projection items activated\n",
      "Effective window size : 0.250 (s)\n",
      "Effective window size : 0.250 (s)\n",
      "Reading c:\\Users\\afcad\\Downloads\\Sujeto36_R_processed.fif ...\n",
      "    Found the data of interest:\n",
      "        t =   -2500.00 ...    2500.00 ms\n",
      "        0 CTF compensation matrices available\n"
     ]
    },
    {
     "name": "stderr",
     "output_type": "stream",
     "text": [
      "C:\\Users\\afcad\\AppData\\Local\\Temp\\ipykernel_1044\\2732955412.py:32: RuntimeWarning: This filename (Sujeto36_R_processed.fif) does not conform to MNE naming conventions. All epochs files should end with -epo.fif, -epo.fif.gz, _epo.fif or _epo.fif.gz\n",
      "  epochs_R = mne.read_epochs(file_R)\n"
     ]
    },
    {
     "name": "stdout",
     "output_type": "stream",
     "text": [
      "Not setting metadata\n",
      "61 matching events found\n",
      "No baseline correction applied\n",
      "0 projection items activated\n",
      "Reading c:\\Users\\afcad\\Downloads\\Sujeto36_MF_processed.fif ...\n"
     ]
    },
    {
     "name": "stderr",
     "output_type": "stream",
     "text": [
      "C:\\Users\\afcad\\AppData\\Local\\Temp\\ipykernel_1044\\2732955412.py:33: RuntimeWarning: This filename (Sujeto36_MF_processed.fif) does not conform to MNE naming conventions. All epochs files should end with -epo.fif, -epo.fif.gz, _epo.fif or _epo.fif.gz\n",
      "  epochs_MF = mne.read_epochs(file_MF)\n"
     ]
    },
    {
     "name": "stdout",
     "output_type": "stream",
     "text": [
      "    Found the data of interest:\n",
      "        t =   -2500.00 ...    2500.00 ms\n",
      "        0 CTF compensation matrices available\n",
      "Not setting metadata\n",
      "133 matching events found\n",
      "No baseline correction applied\n",
      "0 projection items activated\n",
      "Effective window size : 0.250 (s)\n",
      "Effective window size : 0.250 (s)\n",
      "Reading c:\\Users\\afcad\\Downloads\\Sujeto37_R_processed.fif ...\n",
      "    Found the data of interest:\n",
      "        t =   -2500.00 ...    2500.00 ms\n",
      "        0 CTF compensation matrices available\n"
     ]
    },
    {
     "name": "stderr",
     "output_type": "stream",
     "text": [
      "C:\\Users\\afcad\\AppData\\Local\\Temp\\ipykernel_1044\\2732955412.py:32: RuntimeWarning: This filename (Sujeto37_R_processed.fif) does not conform to MNE naming conventions. All epochs files should end with -epo.fif, -epo.fif.gz, _epo.fif or _epo.fif.gz\n",
      "  epochs_R = mne.read_epochs(file_R)\n"
     ]
    },
    {
     "name": "stdout",
     "output_type": "stream",
     "text": [
      "Not setting metadata\n",
      "71 matching events found\n",
      "No baseline correction applied\n",
      "0 projection items activated\n",
      "Reading c:\\Users\\afcad\\Downloads\\Sujeto37_MF_processed.fif ...\n"
     ]
    },
    {
     "name": "stderr",
     "output_type": "stream",
     "text": [
      "C:\\Users\\afcad\\AppData\\Local\\Temp\\ipykernel_1044\\2732955412.py:33: RuntimeWarning: This filename (Sujeto37_MF_processed.fif) does not conform to MNE naming conventions. All epochs files should end with -epo.fif, -epo.fif.gz, _epo.fif or _epo.fif.gz\n",
      "  epochs_MF = mne.read_epochs(file_MF)\n"
     ]
    },
    {
     "name": "stdout",
     "output_type": "stream",
     "text": [
      "    Found the data of interest:\n",
      "        t =   -2500.00 ...    2500.00 ms\n",
      "        0 CTF compensation matrices available\n",
      "Not setting metadata\n",
      "141 matching events found\n",
      "No baseline correction applied\n",
      "0 projection items activated\n",
      "Effective window size : 0.250 (s)\n",
      "Effective window size : 0.250 (s)\n"
     ]
    }
   ],
   "source": [
    "# import numpy as np\n",
    "# import matplotlib.pyplot as plt\n",
    "# import mne\n",
    "# from scipy.stats import permutation_test, zscore\n",
    "\n",
    "# def topoplots_with_zscore_and_significance(file_pairs, fmin=0.5, fmax=50, n_permutations=1000):\n",
    "#     \"\"\"\n",
    "#     Compute and plot z-score topomaps with significant electrodes marked (p < 0.05)\n",
    "#     \"\"\"\n",
    "#     # Define frequency bands\n",
    "#     frequency_bands = {\n",
    "#         'Delta': (0.5, 4),\n",
    "#         'Theta': (4, 8),\n",
    "#         'Alpha': (8, 12),\n",
    "#         'Beta': (12, 18),\n",
    "#         'FastBeta': (18, 30),\n",
    "#         'Gamma': (30, 50)\n",
    "#     }\n",
    "\n",
    "#     band_names = list(frequency_bands.keys())\n",
    "#     n_bands = len(frequency_bands)\n",
    "\n",
    "#     # Load info from first file\n",
    "#     info = mne.read_epochs(file_pairs[0][0]).info\n",
    "#     n_channels = len(info['ch_names'])\n",
    "\n",
    "#     # Initialize data storage\n",
    "#     band_data = {band: {'rest': [], 'mind': []} for band in band_names}\n",
    "\n",
    "#     # Process all files\n",
    "#     for file_R, file_MF in file_pairs:\n",
    "#         epochs_R = mne.read_epochs(file_R)\n",
    "#         epochs_MF = mne.read_epochs(file_MF)\n",
    "\n",
    "#         # Compute PSD\n",
    "#         psd_R, freqs = epochs_R.compute_psd(method='welch', fmin=fmin, fmax=fmax).get_data(return_freqs=True)\n",
    "#         psd_MF, _ = epochs_MF.compute_psd(method='welch', fmin=fmin, fmax=fmax).get_data(return_freqs=True)\n",
    "\n",
    "#         # Convert to relative power\n",
    "#         rel_R = psd_R / 1e-12\n",
    "#         rel_MF = psd_MF / 1e-12\n",
    "\n",
    "#         # Average across epochs\n",
    "#         avg_rel_R = np.mean(rel_R, axis=0)\n",
    "#         avg_rel_MF = np.mean(rel_MF, axis=0)\n",
    "\n",
    "#         # Process each band\n",
    "#         for band in band_names:\n",
    "#             band_min, band_max = frequency_bands[band]\n",
    "#             idx = np.logical_and(freqs >= band_min, freqs <= band_max)\n",
    "\n",
    "#             mean_band_R = np.mean(avg_rel_R[:, idx], axis=1)\n",
    "#             mean_band_MF = np.mean(avg_rel_MF[:, idx], axis=1)\n",
    "\n",
    "#             band_data[band]['rest'].append(mean_band_R)\n",
    "#             band_data[band]['mind'].append(mean_band_MF)\n",
    "\n",
    "#     # Create figure\n",
    "#     fig, axes = plt.subplots(2, n_bands, figsize=(3*n_bands, 6))\n",
    "#     plt.suptitle(\"Z-scores with significant electrodes (p < 0.05) marked\", y=1.02)\n",
    "\n",
    "#     # Plot each band\n",
    "#     for i, band in enumerate(band_names):\n",
    "#         rest_data = np.array(band_data[band]['rest'])\n",
    "#         mind_data = np.array(band_data[band]['mind'])\n",
    "\n",
    "#         # Calculate z-scores\n",
    "#         rest_z = zscore(rest_data, axis=0)\n",
    "#         mind_z = (mind_data - np.mean(rest_data, axis=0)) / np.std(rest_data, axis=0, ddof=1)\n",
    "\n",
    "#         # Average across subjects\n",
    "#         mean_rest_z = np.mean(rest_z, axis=0)\n",
    "#         mean_mind_z = np.mean(mind_z, axis=0)\n",
    "\n",
    "#         # Permutation test\n",
    "#         p_vals = np.array([\n",
    "#             permutation_test(\n",
    "#                 (rest_data[:, ch], mind_data[:, ch]),\n",
    "#                 statistic=lambda x, y: np.mean(y) - np.mean(x),\n",
    "#                 n_resamples=n_permutations,\n",
    "#                 alternative='two-sided'\n",
    "#             ).pvalue\n",
    "#             for ch in range(n_channels)\n",
    "#         ])\n",
    "\n",
    "#         # Get significant channels\n",
    "#         sig_mask = p_vals < 0.05\n",
    "#         sig_ch_names = [info['ch_names'][i] for i in np.where(sig_mask)[0]]\n",
    "\n",
    "#         # Plot resting state\n",
    "#         im = mne.viz.plot_topomap(\n",
    "#             mean_rest_z, info, axes=axes[0,i], show=False, \n",
    "#             cmap='RdBu_r'\n",
    "#         )\n",
    "#         axes[0,i].set_title(f\"{band}\\nResting Z\")\n",
    "#         plt.colorbar(im[0], ax=axes[0,i], orientation='horizontal', shrink=0.6)\n",
    "\n",
    "#         # Plot mindfulness state\n",
    "#         im = mne.viz.plot_topomap(\n",
    "#             mean_mind_z, info, axes=axes[1,i], show=False, \n",
    "#             cmap='RdBu_r'\n",
    "#         )\n",
    "#         axes[1,i].set_title(f\"{band}\\nMindfulness Z\")\n",
    "#         plt.colorbar(im[0], ax=axes[1,i], orientation='horizontal', shrink=0.6)\n",
    "\n",
    "#         # Mark significant electrodes on both plots\n",
    "#         if len(sig_ch_names) > 0:\n",
    "#             # Get positions of significant channels\n",
    "#             pos = mne.viz.topomap._prepare_topomap_plot(info, 'eeg')[0]\n",
    "#             sig_idx = [i for i, ch in enumerate(info['ch_names']) if ch in sig_ch_names]\n",
    "#             x, y = pos[sig_idx, 0], pos[sig_idx, 1]\n",
    "\n",
    "#             # Add markers\n",
    "#             for ax in [axes[0,i], axes[1,i]]:\n",
    "#                 ax.scatter(x, y, s=100, facecolors='none', edgecolors='k', linewidths=1.5)\n",
    "#                 ax.scatter(x, y, s=30, c='k', alpha=0.7)\n",
    "\n",
    "#     # Add row labels\n",
    "#     for ax, label in zip(axes[:,0], ['Resting Z', 'Mindfulness Z']):\n",
    "#         ax.annotate(\n",
    "#             label, xy=(-0.2, 0.5), xycoords='axes fraction',\n",
    "#             va='center', ha='right', rotation=90, fontsize=12\n",
    "#         )\n",
    "\n",
    "#     plt.tight_layout()\n",
    "#     plt.show()\n",
    "\n",
    "# # Example usage\n",
    "# file_pairs = [\n",
    "#     ('Sujeto1_R_processed.fif', 'Sujeto1_MF_processed.fif'),\n",
    "#     ('Sujeto2_R_processed.fif', 'Sujeto2_MF_processed.fif'),\n",
    "#     ('Sujeto3_R_processed.fif', 'Sujeto3_MF_processed.fif'),\n",
    "#     ('Sujeto4_R_processed.fif', 'Sujeto4_MF_processed.fif'),\n",
    "#     ('Sujeto5_R_processed.fif', 'Sujeto5_MF_processed.fif'),\n",
    "#     ('Sujeto6_R_processed.fif', 'Sujeto6_MF_processed.fif'),\n",
    "#     ('Sujeto7_R_processed.fif', 'Sujeto7_MF_processed.fif'),\n",
    "#     ('Sujeto8_R_processed.fif', 'Sujeto8_MF_processed.fif'),\n",
    "#     ('Sujeto9_R_processed.fif', 'Sujeto9_MF_processed.fif'),\n",
    "#     ('Sujeto10_R_processed.fif', 'Sujeto10_MF_processed.fif'),\n",
    "#     ('Sujeto11_R_processed.fif', 'Sujeto11_MF_processed.fif'),\n",
    "#     #('Sujeto12_R_processed.fif', 'Sujeto12_MF_processed.fif'),\n",
    "#     ('Sujeto13_R_processed.fif', 'Sujeto13_MF_processed.fif'),\n",
    "#     ('Sujeto14_R_processed.fif', 'Sujeto14_MF_processed.fif'),\n",
    "#     ('Sujeto15_R_processed.fif', 'Sujeto15_MF_processed.fif'),\n",
    "#     ('Sujeto16_R_processed.fif', 'Sujeto16_MF_processed.fif'),\n",
    "#     ('Sujeto17_R_processed.fif', 'Sujeto17_MF_processed.fif'),    \n",
    "#     ('Sujeto18_R_processed.fif', 'Sujeto18_MF_processed.fif'),\n",
    "#     ('Sujeto19_R_processed.fif', 'Sujeto19_MF_processed.fif'),\n",
    "#     ('Sujeto20_R_processed.fif', 'Sujeto20_MF_processed.fif'),\n",
    "#     ('Sujeto21_R_processed.fif', 'Sujeto21_MF_processed.fif'),\n",
    "#     ('Sujeto22_R_processed.fif', 'Sujeto22_MF_processed.fif'),\n",
    "#     ('Sujeto23_R_processed.fif', 'Sujeto23_MF_processed.fif'),\n",
    "#     ('Sujeto24_R_processed.fif', 'Sujeto24_MF_processed.fif'),\n",
    "#     ('Sujeto25_R_processed.fif', 'Sujeto25_MF_processed.fif'),\n",
    "#     ('Sujeto26_R_processed.fif', 'Sujeto26_MF_processed.fif'),\n",
    "#     ('Sujeto27_R_processed.fif', 'Sujeto27_MF_processed.fif'),\n",
    "#     ('Sujeto28_R_processed.fif', 'Sujeto28_MF_processed.fif'),\n",
    "#     ('Sujeto29_R_processed.fif', 'Sujeto29_MF_processed.fif'),\n",
    "#     ('Sujeto30_R_processed.fif', 'Sujeto30_MF_processed.fif'),\n",
    "#     ('Sujeto31_R_processed.fif', 'Sujeto31_MF_processed.fif'),\n",
    "#     ('Sujeto32_R_processed.fif', 'Sujeto32_MF_processed.fif'),\n",
    "#     ('Sujeto33_R_processed.fif', 'Sujeto33_MF_processed.fif'),\n",
    "#     ('Sujeto34_R_processed.fif', 'Sujeto34_MF_processed.fif'),\n",
    "#     #('Sujeto35_R_processed.fif', 'Sujeto35_MF_processed.fif'),\n",
    "#     ('Sujeto36_R_processed.fif', 'Sujeto36_MF_processed.fif'),\n",
    "#     ('Sujeto37_R_processed.fif', 'Sujeto37_MF_processed.fif')\n",
    "# ]\n",
    "\n",
    "# topoplots_with_zscore_and_significance(file_pairs)\n"
   ]
  },
  {
   "cell_type": "markdown",
   "metadata": {},
   "source": [
    "## Flattenizado"
   ]
  },
  {
   "cell_type": "code",
   "execution_count": null,
   "metadata": {},
   "outputs": [],
   "source": [
    "import mne\n",
    "import numpy as np\n",
    "import matplotlib.pyplot as plt\n",
    "\n",
    "# Extract data\n",
    "dataR = fileR.get_data()  # Shape: (n_epochs, n_channels, n_times)\n",
    "dataMF = fileMF.get_data()  # Shape: (n_epochs, n_channels, n_times)\n",
    "\n",
    "# Sampling frequency\n",
    "sfreq = fileR.info['sfreq']  # Sampling frequency (Hz)\n",
    "n_times_to_keep = int(dataR.shape[2] - 0.5 * sfreq)  # Time points to keep\n",
    "\n",
    "# Trim the last 0.5 seconds\n",
    "dataR_trimmed = dataR[:, :, :n_times_to_keep]\n",
    "dataMF_trimmed = dataMF[:, :, :n_times_to_keep]\n",
    "\n",
    "# print(dataR[:, 1, :])\n",
    "\n",
    "# Compute mean and standard deviation of the trimmed resting signal\n",
    "mean_R = np.mean(dataR_trimmed, axis=(0, 2))  # Mean across epochs and time\n",
    "std_R = np.std(dataR_trimmed, axis=(0, 2))    # Std across epochs and time\n",
    "\n",
    "# Concatenate both signals along epochs\n",
    "data_combined = np.concatenate([dataR_trimmed, dataMF_trimmed], axis=0)\n",
    "\n",
    "# Normalize the concatenated signal\n",
    "#data_normalized = (data_combined)\n",
    "data_normalized = (data_combined - mean_R[None, :, None]) / std_R[None, :, None] #Z score\n",
    "\n",
    "# Concatenate all epochs along the time axis for each channel\n",
    "data_normalized_ch = np.hstack(data_normalized)\n",
    "\n",
    "# print(np.shape(data_normalized_ch))\n",
    "\n",
    "# Assuming data_normalized_ch has shape (n_channels, total_time)\n",
    "n_channels, total_time = data_normalized_ch.shape\n",
    "time = np.linspace(0, total_time / sfreq, total_time)  # Generate time axis based on sampling frequency\n",
    "electrode_names = fileR.ch_names  # List of electrode names\n",
    "\n",
    "concat_point = dataR_trimmed.shape[0] * dataR_trimmed.shape[2] / sfreq  # Total time of dataR_trimmed\n",
    "# Create the heatmap\n",
    "plt.figure(figsize=(12, 6))\n",
    "plt.imshow(data_normalized_ch, aspect='auto', cmap='viridis', \n",
    "           extent=[time[0], time[-1], n_channels, 0],vmin=-1,vmax=3)  # - 1e-5 , 1e-5\n",
    "\n",
    "# Add a vertical line at the concatenation point\n",
    "plt.axvline(x=concat_point, color='black', linestyle='--', label='Concatenation Point')\n",
    "\n",
    "# Add labels and colorbar\n",
    "plt.colorbar(label='Z-score')\n",
    "plt.xlabel('Time (s)')\n",
    "plt.ylabel('Electrodes')\n",
    "plt.title('Heatmap of Normalized Signal Amplitudes')\n",
    "plt.yticks(ticks=np.arange(len(electrode_names)), labels=electrode_names)\n",
    "plt.show()"
   ]
  },
  {
   "cell_type": "code",
   "execution_count": null,
   "metadata": {},
   "outputs": [],
   "source": [
    "# Slice the data to include only the first 5 electrodes\n",
    "data_subset = data_normalized_ch[:5, :]  # Shape: (5, total_time)\n",
    "\n",
    "# Create a figure with subplots for heatmap and signals\n",
    "fig, axes = plt.subplots(6, 1, figsize=(12, 12), gridspec_kw={'height_ratios': [5, 1, 1, 1, 1, 1]}, sharex=True)\n",
    "\n",
    "# Plot the heatmap in the first subplot\n",
    "im = axes[0].imshow(data_subset, aspect='auto', cmap='viridis',\n",
    "                    extent=[time[0], time[-1], 5, 0],vmin=-1,vmax=3)\n",
    "# Add a vertical line at the concatenation point\n",
    "axes[0].axvline(x=concat_point, color='black', linestyle='--', label='Concatenation Point')\n",
    "\n",
    "axes[0].set_ylabel('Electrodes')\n",
    "axes[0].set_title('Heatmap of Normalized Signal Amplitudes (First 5 Electrodes)')\n",
    "axes[0].yaxis.set_ticks(range(5))\n",
    "axes[0].set_yticklabels([f'Electrode {i+1}' for i in range(5)])\n",
    "plt.colorbar(im, ax=axes[0], orientation='horizontal', fraction=0.05, pad=0.1, label='Amplitude (normalized)')\n",
    "\n",
    "# Plot signals in the next 5 subplots (one for each electrode)\n",
    "for i in range(5):\n",
    "    axes[i + 1].plot(time, data_subset[i], label=f'Electrode {i+1}')\n",
    "    axes[i + 1].set_ylabel('Amplitude')\n",
    "    axes[i + 1].legend(loc='upper right')\n",
    "\n",
    "# Set the x-axis label for the last subplot\n",
    "axes[-1].set_xlabel('Time (s)')\n",
    "\n",
    "plt.tight_layout()\n",
    "plt.show()\n"
   ]
  },
  {
   "cell_type": "markdown",
   "metadata": {},
   "source": [
    "## For several Files signal vs time"
   ]
  },
  {
   "cell_type": "code",
   "execution_count": null,
   "metadata": {},
   "outputs": [],
   "source": [
    "import mne\n",
    "import numpy as np\n",
    "import matplotlib.pyplot as plt\n",
    "\n",
    "def process_and_visualize_eeg(file_R, file_MF):\n",
    "    \"\"\"\n",
    "    Process two EEG files (resting and MF signals), normalize them, and create a heatmap.\n",
    "    \n",
    "    Parameters:\n",
    "        file_R (str): Filepath to the resting signal (.fif).\n",
    "        file_MF (str): Filepath to the MF signal (.fif).\n",
    "        \n",
    "    Returns:\n",
    "        np.ndarray: Normalized concatenated matrix of shape (n_channels, total_time).\n",
    "    \"\"\"\n",
    "    # Load files\n",
    "    fileR = mne.read_epochs(file_R)  \n",
    "    fileMF = mne.read_epochs(file_MF)\n",
    "\n",
    "    # Extract data\n",
    "    dataR = fileR.get_data()  # Shape: (n_epochs, n_channels, n_times)\n",
    "    dataMF = fileMF.get_data()  # Shape: (n_epochs, n_channels, n_times)\n",
    "    \n",
    "    # Sampling frequency\n",
    "    sfreq = fileR.info['sfreq']  # Sampling frequency (Hz)\n",
    "    n_times_to_keep = int(dataR.shape[2] - 0.5 * sfreq)  # Time points to keep\n",
    "\n",
    "    # Trim the last 0.5 seconds\n",
    "    dataR_trimmed = dataR[:, :, :n_times_to_keep]\n",
    "    dataMF_trimmed = dataMF[:, :, :n_times_to_keep]\n",
    "\n",
    "    # Compute mean and standard deviation of the trimmed resting signal\n",
    "    mean_R = np.mean(dataR_trimmed, axis=(0, 2))  # Mean across epochs and time\n",
    "    std_R = np.std(dataR_trimmed, axis=(0, 2))    # Std across epochs and time\n",
    "\n",
    "    # Concatenate both signals along epochs\n",
    "    data_combined = np.concatenate([dataR_trimmed, dataMF_trimmed], axis=0)\n",
    "\n",
    "    # Normalize the concatenated signal\n",
    "    data_normalized = (data_combined - mean_R[None, :, None]) / std_R[None, :, None]\n",
    "\n",
    "    # Concatenate all epochs along the time axis for each channel\n",
    "    data_normalized_ch = np.hstack(data_normalized)\n",
    "\n",
    "    # Visualization\n",
    "    n_channels, total_time = data_normalized_ch.shape\n",
    "    time = np.linspace(0, total_time / sfreq, total_time)  # Generate time axis based on sampling frequency\n",
    "    electrode_names = fileR.ch_names  # List of electrode names\n",
    "\n",
    "    # Compute concatenation point in seconds\n",
    "    concat_point = dataR_trimmed.shape[0] * dataR_trimmed.shape[2] / sfreq  # Total time of dataR_trimmed\n",
    "\n",
    "    # # Create the heatmap\n",
    "    # plt.figure(figsize=(12, 6))\n",
    "    # plt.imshow(data_normalized_ch, aspect='auto', cmap='viridis', \n",
    "    #            extent=[time[0], time[-1], n_channels, 0],vmin=-1,vmax=3)  # Extent flips the y-axis to show the first channel at the top\n",
    "\n",
    "    # # Add a vertical line at the concatenation point\n",
    "    # plt.axvline(x=concat_point, color='black', linestyle='--', label='Concatenation Point')\n",
    "\n",
    "    # # Add labels and colorbar\n",
    "    # plt.colorbar(label='Z-score')\n",
    "    # plt.xlabel('Time (s)')\n",
    "    # plt.ylabel('Electrodes')\n",
    "    # plt.title('Heatmap of Normalized Signal Amplitudes')\n",
    "    # plt.yticks(ticks=np.arange(len(electrode_names)), labels=electrode_names)\n",
    "    # plt.legend()\n",
    "    # plt.show()\n",
    "\n",
    "    return data_normalized_ch\n",
    "\n",
    "file_pairs = [\n",
    "    ('Sujeto4_R_processed.fif', 'Sujeto4_MF_processed.fif'),\n",
    "    ('Sujeto5_R_processed.fif', 'Sujeto5_MF_processed.fif'),\n",
    "    ('Sujeto6_R_processed.fif', 'Sujeto6_MF_processed.fif'),\n",
    "    ('Sujeto7_R_processed.fif', 'Sujeto7_MF_processed.fif'),\n",
    "    ('Sujeto8_R_processed.fif', 'Sujeto8_MF_processed.fif'),\n",
    "    ('Sujeto9_R_processed.fif', 'Sujeto9_MF_processed.fif'),\n",
    "    ('Sujeto10_R_processed.fif', 'Sujeto10_MF_processed.fif'),\n",
    "    ('Sujeto11_R_processed.fif', 'Sujeto11_MF_processed.fif'),\n",
    "    ('Sujeto12_R_processed.fif', 'Sujeto12_MF_processed.fif'),\n",
    "    ('Sujeto13_R_processed.fif', 'Sujeto13_MF_processed.fif'),\n",
    "    ('Sujeto14_R_processed.fif', 'Sujeto14_MF_processed.fif'),\n",
    "    ('Sujeto15_R_processed.fif', 'Sujeto15_MF_processed.fif'),\n",
    "    ('Sujeto16_R_processed.fif', 'Sujeto16_MF_processed.fif'),\n",
    "    ('Sujeto18_R_processed.fif', 'Sujeto18_MF_processed.fif'),\n",
    "    ('Sujeto19_R_processed.fif', 'Sujeto19_MF_processed.fif'),\n",
    "    ('Sujeto20_R_processed.fif', 'Sujeto20_MF_processed.fif'),\n",
    "    ('Sujeto21_R_processed.fif', 'Sujeto21_MF_processed.fif'),\n",
    "    ('Sujeto22_R_processed.fif', 'Sujeto22_MF_processed.fif'),\n",
    "    ('Sujeto23_R_processed.fif', 'Sujeto23_MF_processed.fif'),\n",
    "    ('Sujeto24_R_processed.fif', 'Sujeto24_MF_processed.fif'),\n",
    "    ('Sujeto25_R_processed.fif', 'Sujeto25_MF_processed.fif'),\n",
    "    ('Sujeto26_R_processed.fif', 'Sujeto26_MF_processed.fif'),\n",
    "    ('Sujeto27_R_processed.fif', 'Sujeto27_MF_processed.fif'),\n",
    "    ('Sujeto28_R_processed.fif', 'Sujeto28_MF_processed.fif'),\n",
    "    ('Sujeto29_R_processed.fif', 'Sujeto29_MF_processed.fif')\n",
    "]\n",
    "\n",
    "# Initialize list to store the matrices\n",
    "normalized_matrices = []\n",
    "\n",
    "# Process each pair of files\n",
    "for file_R, file_MF in file_pairs:\n",
    "    normalized_matrix = process_and_visualize_eeg(file_R, file_MF)\n",
    "    normalized_matrices.append(normalized_matrix)\n",
    "\n",
    "# Now calculate the average matrix\n",
    "# To ensure that all matrices are the same shape, we trim them to the smallest one\n",
    "min_shape = min([matrix.shape[1] for matrix in normalized_matrices])  # Smallest time dimension\n",
    "normalized_matrices_trimmed = [matrix[:, :min_shape] for matrix in normalized_matrices]\n",
    "\n",
    "# Calculate the average across all matrices\n",
    "average_matrix = np.mean(np.array(normalized_matrices_trimmed), axis=0)\n",
    "\n",
    "# Create the heatmap for the average matrix\n",
    "plt.figure(figsize=(12, 6))\n",
    "plt.imshow(average_matrix, aspect='auto', cmap='viridis', \n",
    "            vmin=-1, vmax=1)  # Extent flips the y-axis to show the first channel at the top\n",
    "plt.colorbar(label='Z-score')\n",
    "plt.xlabel('Time (s)')\n",
    "plt.ylabel('Electrodes')\n",
    "plt.title('Heatmap of Average Normalized Signal Amplitudes')\n",
    "plt.show()"
   ]
  },
  {
   "cell_type": "markdown",
   "metadata": {},
   "source": [
    "# For several files PSD"
   ]
  },
  {
   "cell_type": "code",
   "execution_count": null,
   "metadata": {},
   "outputs": [],
   "source": [
    "import mne\n",
    "import numpy as np\n",
    "import matplotlib.pyplot as plt\n",
    "\n",
    "def calculate_average_psd(file_pairs, fmin, fmax):\n",
    "    all_psd_R = []\n",
    "    all_psd_MF = []\n",
    "    freqs = None\n",
    "    electrode_names = None\n",
    "\n",
    "    for file_R, file_MF in file_pairs:\n",
    "        # Load files\n",
    "        fileR = mne.read_epochs(file_R)\n",
    "        fileMF = mne.read_epochs(file_MF)\n",
    "\n",
    "        # Get electrode names (only once)\n",
    "        if electrode_names is None:\n",
    "            electrode_names = fileR.ch_names\n",
    "\n",
    "        # Compute PSD\n",
    "        psd_R = fileR.compute_psd(method='welch', fmin=fmin, fmax=fmax)\n",
    "        psd_MF = fileMF.compute_psd(method='welch', fmin=fmin, fmax=fmax)\n",
    "\n",
    "        # Get PSD values and frequencies\n",
    "        psd_values_R, freqs = psd_R.get_data(return_freqs=True)\n",
    "        psd_values_MF, _ = psd_MF.get_data(return_freqs=True)\n",
    "\n",
    "        # Append PSD values to the list\n",
    "        all_psd_R.append(psd_values_R)\n",
    "        all_psd_MF.append(psd_values_MF)\n",
    "\n",
    "    # Calculate average PSD across all files\n",
    "    avg_psd_R = np.mean(np.concatenate(all_psd_R, axis=0), axis=0)  # Shape: (61, 99)\n",
    "    avg_psd_MF = np.mean(np.concatenate(all_psd_MF, axis=0), axis=0)  # Shape: (61, 99)\n",
    "\n",
    "    # Plot the results\n",
    "    fig, axs = plt.subplots(3, 1, figsize=(10, 12))\n",
    "\n",
    "    # Plot for average psd_R (all channels)\n",
    "    for channel, name in enumerate(electrode_names):\n",
    "        axs[0].plot(freqs, 10 * np.log10(avg_psd_R[channel] / 1e-12), label=name)\n",
    "    axs[0].set_xlabel(\"Frequency (Hz)\")\n",
    "    axs[0].set_ylabel(\"PSD (dB)\")\n",
    "    axs[0].set_title(\"Average PSD Resting\")\n",
    "\n",
    "    # Plot for average psd_MF (all channels)\n",
    "    for channel, name in enumerate(electrode_names):\n",
    "        axs[1].plot(freqs, 10 * np.log10(avg_psd_MF[channel] / 1e-12), label=name)\n",
    "    axs[1].set_xlabel(\"Frequency (Hz)\")\n",
    "    axs[1].set_ylabel(\"PSD (dB)\")\n",
    "    axs[1].set_title(\"Average PSD Mindfulness\")\n",
    "\n",
    "    # Calculate the difference (MF - R) and plot it (all channels)\n",
    "    for channel, name in enumerate(electrode_names):\n",
    "        difference = 10 * np.log10(avg_psd_MF[channel] / 1e-12) - 10 * np.log10(avg_psd_R[channel] / 1e-12)\n",
    "        axs[2].plot(freqs, difference, label=name)\n",
    "    axs[2].set_xlabel(\"Frequency (Hz)\")\n",
    "    axs[2].set_ylabel(\"Difference (dB)\")\n",
    "    axs[2].set_title(\"Average Difference (MF - R)\")\n",
    "\n",
    "    # Create a single legend for all subplots\n",
    "    handles, labels = axs[0].get_legend_handles_labels()\n",
    "    fig.legend(handles, labels, fontsize='small')\n",
    "\n",
    "    plt.tight_layout()\n",
    "    plt.show()\n",
    "\n",
    "file_pairs = [\n",
    "    ('Sujeto1_R_processed.fif', 'Sujeto1_MF_processed.fif'),\n",
    "    ('Sujeto2_R_processed.fif', 'Sujeto2_MF_processed.fif'),\n",
    "    ('Sujeto3_R_processed.fif', 'Sujeto3_MF_processed.fif'),\n",
    "    ('Sujeto4_R_processed.fif', 'Sujeto4_MF_processed.fif'),\n",
    "    ('Sujeto5_R_processed.fif', 'Sujeto5_MF_processed.fif'),\n",
    "    ('Sujeto6_R_processed.fif', 'Sujeto6_MF_processed.fif'),\n",
    "    ('Sujeto7_R_processed.fif', 'Sujeto7_MF_processed.fif'),\n",
    "    ('Sujeto8_R_processed.fif', 'Sujeto8_MF_processed.fif'),\n",
    "    ('Sujeto9_R_processed.fif', 'Sujeto9_MF_processed.fif'),\n",
    "    ('Sujeto10_R_processed.fif', 'Sujeto10_MF_processed.fif'),\n",
    "    ('Sujeto11_R_processed.fif', 'Sujeto11_MF_processed.fif'),\n",
    "    # ('Sujeto12_R_processed.fif', 'Sujeto12_MF_processed.fif'),\n",
    "    ('Sujeto13_R_processed.fif', 'Sujeto13_MF_processed.fif'),\n",
    "    ('Sujeto14_R_processed.fif', 'Sujeto14_MF_processed.fif'),\n",
    "    ('Sujeto15_R_processed.fif', 'Sujeto15_MF_processed.fif'),\n",
    "    ('Sujeto16_R_processed.fif', 'Sujeto16_MF_processed.fif'),\n",
    "    ('Sujeto17_R_processed.fif', 'Sujeto17_MF_processed.fif'),\n",
    "    ('Sujeto18_R_processed.fif', 'Sujeto18_MF_processed.fif'),\n",
    "    ('Sujeto19_R_processed.fif', 'Sujeto19_MF_processed.fif'),\n",
    "    ('Sujeto20_R_processed.fif', 'Sujeto20_MF_processed.fif'),\n",
    "    ('Sujeto21_R_processed.fif', 'Sujeto21_MF_processed.fif'),\n",
    "    ('Sujeto22_R_processed.fif', 'Sujeto22_MF_processed.fif'),\n",
    "    ('Sujeto23_R_processed.fif', 'Sujeto23_MF_processed.fif'),\n",
    "    ('Sujeto24_R_processed.fif', 'Sujeto24_MF_processed.fif'),\n",
    "    ('Sujeto25_R_processed.fif', 'Sujeto25_MF_processed.fif'),\n",
    "    ('Sujeto26_R_processed.fif', 'Sujeto26_MF_processed.fif'),\n",
    "    ('Sujeto27_R_processed.fif', 'Sujeto27_MF_processed.fif'),\n",
    "    ('Sujeto28_R_processed.fif', 'Sujeto28_MF_processed.fif'),\n",
    "    ('Sujeto29_R_processed.fif', 'Sujeto29_MF_processed.fif'),\n",
    "    ('Sujeto30_R_processed.fif', 'Sujeto30_MF_processed.fif'),\n",
    "    ('Sujeto31_R_processed.fif', 'Sujeto31_MF_processed.fif'),\n",
    "    ('Sujeto32_R_processed.fif', 'Sujeto32_MF_processed.fif'),\n",
    "    ('Sujeto33_R_processed.fif', 'Sujeto33_MF_processed.fif'),\n",
    "    ('Sujeto34_R_processed.fif', 'Sujeto34_MF_processed.fif'),\n",
    "    #('Sujeto35_R_processed.fif', 'Sujeto35_MF_processed.fif'),\n",
    "    ('Sujeto36_R_processed.fif', 'Sujeto36_MF_processed.fif'),\n",
    "    ('Sujeto37_R_processed.fif', 'Sujeto37_MF_processed.fif')\n",
    "]\n",
    "\n",
    "fmin = 0.5  # Minimum frequency\n",
    "fmax = 50  # Maximum frequency\n",
    "\n",
    "# Run the function\n",
    "calculate_average_psd(file_pairs, fmin, fmax)\n"
   ]
  },
  {
   "cell_type": "code",
   "execution_count": null,
   "metadata": {},
   "outputs": [],
   "source": [
    "import random\n",
    "\n",
    "file_pairs = [\n",
    "    ('Sujeto1_R_processed.fif', 'Sujeto1_MF_processed.fif'),\n",
    "    ('Sujeto2_R_processed.fif', 'Sujeto2_MF_processed.fif'),\n",
    "    ('Sujeto3_R_processed.fif', 'Sujeto3_MF_processed.fif'),\n",
    "    ('Sujeto4_R_processed.fif', 'Sujeto4_MF_processed.fif'),\n",
    "    ('Sujeto5_R_processed.fif', 'Sujeto5_MF_processed.fif'),\n",
    "    ('Sujeto6_R_processed.fif', 'Sujeto6_MF_processed.fif'),\n",
    "    ('Sujeto7_R_processed.fif', 'Sujeto7_MF_processed.fif'),\n",
    "    ('Sujeto8_R_processed.fif', 'Sujeto8_MF_processed.fif'),\n",
    "    ('Sujeto9_R_processed.fif', 'Sujeto9_MF_processed.fif'),\n",
    "    ('Sujeto10_R_processed.fif', 'Sujeto10_MF_processed.fif'),\n",
    "    ('Sujeto12_R_processed.fif', 'Sujeto12_MF_processed.fif'),\n",
    "    ('Sujeto11_R_processed.fif', 'Sujeto11_MF_processed.fif'),\n",
    "    # ('Sujeto12_R_processed.fif', 'Sujeto12_MF_processed.fif'),\n",
    "    ('Sujeto13_R_processed.fif', 'Sujeto13_MF_processed.fif'),\n",
    "    ('Sujeto14_R_processed.fif', 'Sujeto14_MF_processed.fif'),\n",
    "    ('Sujeto15_R_processed.fif', 'Sujeto15_MF_processed.fif'),\n",
    "    ('Sujeto16_R_processed.fif', 'Sujeto16_MF_processed.fif'),\n",
    "    ('Sujeto17_R_processed.fif', 'Sujeto17_MF_processed.fif'),\n",
    "    ('Sujeto18_R_processed.fif', 'Sujeto18_MF_processed.fif'),\n",
    "    ('Sujeto19_R_processed.fif', 'Sujeto19_MF_processed.fif'),\n",
    "    ('Sujeto20_R_processed.fif', 'Sujeto20_MF_processed.fif'),\n",
    "    ('Sujeto21_R_processed.fif', 'Sujeto21_MF_processed.fif'),\n",
    "    ('Sujeto22_R_processed.fif', 'Sujeto22_MF_processed.fif'),\n",
    "    ('Sujeto23_R_processed.fif', 'Sujeto23_MF_processed.fif'),\n",
    "    ('Sujeto24_R_processed.fif', 'Sujeto24_MF_processed.fif'),\n",
    "    ('Sujeto25_R_processed.fif', 'Sujeto25_MF_processed.fif'),\n",
    "    ('Sujeto26_R_processed.fif', 'Sujeto26_MF_processed.fif'),\n",
    "    ('Sujeto27_R_processed.fif', 'Sujeto27_MF_processed.fif'),\n",
    "    ('Sujeto28_R_processed.fif', 'Sujeto28_MF_processed.fif'),\n",
    "    ('Sujeto29_R_processed.fif', 'Sujeto29_MF_processed.fif'),\n",
    "    ('Sujeto30_R_processed.fif', 'Sujeto30_MF_processed.fif'),\n",
    "    ('Sujeto31_R_processed.fif', 'Sujeto31_MF_processed.fif'),\n",
    "    ('Sujeto32_R_processed.fif', 'Sujeto32_MF_processed.fif'),\n",
    "    ('Sujeto33_R_processed.fif', 'Sujeto33_MF_processed.fif'),\n",
    "    ('Sujeto34_R_processed.fif', 'Sujeto34_MF_processed.fif'),\n",
    "    #('Sujeto35_R_processed.fif', 'Sujeto35_MF_processed.fif'),\n",
    "    ('Sujeto36_R_processed.fif', 'Sujeto36_MF_processed.fif'),\n",
    "    ('Sujeto37_R_processed.fif', 'Sujeto37_MF_processed.fif')\n",
    "]\n",
    "\n",
    "# Generate 10 random combinations of 5 pairs\n",
    "random_combinations = [random.sample(file_pairs, 10) for _ in range(10)]\n",
    "\n",
    "fmin=0.5\n",
    "fmax=50\n",
    "\n",
    "# Print the combinations\n",
    "for i, combination in enumerate(random_combinations, 1):\n",
    "    print(f\"Combination {i}: {combination}\")\n",
    "    calculate_average_psd(file_pairs, fmin, fmax)"
   ]
  },
  {
   "cell_type": "markdown",
   "metadata": {},
   "source": [
    "#### Correlation Data- Questionary..."
   ]
  },
  {
   "cell_type": "code",
   "execution_count": null,
   "metadata": {},
   "outputs": [],
   "source": [
    "import numpy as np\n",
    "import mne\n",
    "import matplotlib.pyplot as plt\n",
    "from scipy.stats import pearsonr\n",
    "\n",
    "file_pairs = [\n",
    "    ('Sujeto1_R_processed.fif', 'Sujeto1_MF_processed.fif'),\n",
    "    ('Sujeto2_R_processed.fif', 'Sujeto2_MF_processed.fif'),\n",
    "    ('Sujeto3_R_processed.fif', 'Sujeto3_MF_processed.fif')\n",
    "]\n",
    "\n",
    "# Questionnaire responses (adjust based on participant order)\n",
    "responses = np.array([4, 4, 6])  \n",
    "\n",
    "# Extract EEG power differences from `topoplotsAverage`\n",
    "relative_power_difference_all = []  \n",
    "\n",
    "for str_FileName_R, str_FileName_MF in file_pairs:\n",
    "    fileR = mne.read_epochs(str_FileName_R)  \n",
    "    fileMF = mne.read_epochs(str_FileName_MF)\n",
    "\n",
    "    psd_R, _ = fileR.compute_psd(method='welch', fmin=8, fmax=12).get_data(return_freqs=True)\n",
    "    psd_MF, _ = fileMF.compute_psd(method='welch', fmin=8, fmax=12).get_data(return_freqs=True)\n",
    "    \n",
    "    # Average across epochs and frequencies\n",
    "    relative_psd_R = np.mean(psd_R, axis=(0, 2))  \n",
    "    relative_psd_MF = np.mean(psd_MF, axis=(0, 2))  \n",
    "\n",
    "    relative_power_difference_all.append(relative_psd_MF - relative_psd_R)  \n",
    "\n",
    "relative_power_difference_all = np.array(relative_power_difference_all)  # Shape: (Participants, Electrodes)\n",
    "\n",
    "# Compute correlation per electrode\n",
    "correlations = np.array([pearsonr(relative_power_difference_all[:, i], responses)[0] for i in range(relative_power_difference_all.shape[1])])\n",
    "\n",
    "# Load electrode locations\n",
    "info = mne.read_epochs(file_pairs[0][0]).info  \n",
    "\n",
    "fig, ax = plt.subplots(figsize=(6, 5))\n",
    "\n",
    "# Generate the topomap\n",
    "im, _ = mne.viz.plot_topomap(correlations, info, axes=ax, cmap='coolwarm', show=False)\n",
    "\n",
    "# Add colorbar using the image object from the topomap\n",
    "cbar = plt.colorbar(im, ax=ax, shrink=0.6, label='Correlation (r)')\n",
    "cbar.ax.tick_params(labelsize=10)  # Adjust tick labels for readability\n",
    "\n",
    "plt.title('Correlation Between EEG and Questionnaire Scores')\n",
    "plt.show()\n"
   ]
  },
  {
   "cell_type": "code",
   "execution_count": null,
   "metadata": {},
   "outputs": [],
   "source": [
    "import pandas as pd\n",
    "import numpy as np\n",
    "\n",
    "# df = pd.read_excel('Analisis conductuales - Datos conductuales.xlsx')\n",
    "df = pd.read_excel('EEG-Datos conductuales.xlsx')\n",
    "#print(df.head())\n",
    "\n",
    "sujeto_column = df['Sujeto']\n",
    "data_column = df['MWQT'] #Auto-regulación Confianza Valencia positiva Valencia Negativa\n",
    "\n",
    "print(f\"Initial counts - Sujetos: {len(sujeto_column)}, Responses: {len(data_column)}\")\n",
    "\n",
    "# Create a mask where both columns are not NaN\n",
    "mask = sujeto_column.notna() & data_column.notna()\n",
    "\n",
    "eliminate_mask = sujeto_column.isna() | data_column.isna()\n",
    "# Get the Sujeto values that will be removed\n",
    "eliminated_sujetos = sujeto_column[eliminate_mask]\n",
    "\n",
    "print(\"\\nEliminated due to NaN values:\")\n",
    "print(eliminated_sujetos.to_string())  # to_string() shows all values\n",
    "\n",
    "# Apply the initial mask to both columns\n",
    "sujeto_clean = sujeto_column[mask]\n",
    "data_clean = data_column[mask]\n",
    "\n",
    "# Now exclude specific subjects\n",
    "subjects_to_exclude = ['SUJ_12', 'SUJ_35']  # Add more as needed\n",
    "additional_elim_mask = sujeto_clean.isin(subjects_to_exclude)\n",
    "\n",
    "print(f\"\\nAdditional subjects being excluded: {subjects_to_exclude}\")\n",
    "print(\"These subjects will be removed:\")\n",
    "print(sujeto_clean[additional_elim_mask].to_string())\n",
    "\n",
    "# Final clean mask\n",
    "final_mask = ~additional_elim_mask\n",
    "sujeto_final = sujeto_clean[final_mask]\n",
    "data_final = data_clean[final_mask]\n",
    "\n",
    "print(f\"\\nFinal counts - Sujetos: {len(sujeto_final)}, Responses: {len(data_final)}\")\n",
    "print(\"\\nCleaned Sujetos:\")\n",
    "print(sujeto_final.to_string())\n",
    "print(\"\\nCleaned Data (first 10 values):\")\n",
    "print(data_final.head(10).to_string())\n",
    "\n",
    "# Convert to numpy array\n",
    "responses_array = data_final.to_numpy()\n",
    "print(f\"\\nNumPy array shape: {responses_array.shape}\")\n",
    "print(f\"First 5 array values: {responses_array[:5]}\")"
   ]
  },
  {
   "cell_type": "markdown",
   "metadata": {},
   "source": [
    "### Questionary for all files in all band frequencies"
   ]
  },
  {
   "cell_type": "code",
   "execution_count": null,
   "metadata": {},
   "outputs": [],
   "source": [
    "import numpy as np\n",
    "import mne\n",
    "import matplotlib.pyplot as plt\n",
    "from scipy.stats import pearsonr\n",
    "\n",
    "# Define frequency bands\n",
    "frequency_bands = {\n",
    "    'Delta (0.5-4 Hz)': (0.5, 4),\n",
    "    'Theta (4-8 Hz)': (4, 8),\n",
    "    'Alpha (8-12 Hz)': (8, 12),\n",
    "    'Beta (12-18 Hz)': (12, 18),\n",
    "    'Fast Beta (18-30 Hz)': (18, 30)\n",
    "}\n",
    "\n",
    "file_pairs = [\n",
    "    ('Sujeto1_R_processed.fif', 'Sujeto1_MF_processed.fif'),\n",
    "    ('Sujeto2_R_processed.fif', 'Sujeto2_MF_processed.fif'),\n",
    "    ('Sujeto3_R_processed.fif', 'Sujeto3_MF_processed.fif'),\n",
    "    ('Sujeto4_R_processed.fif', 'Sujeto4_MF_processed.fif'),\n",
    "    ('Sujeto5_R_processed.fif', 'Sujeto5_MF_processed.fif'),\n",
    "    ('Sujeto6_R_processed.fif', 'Sujeto6_MF_processed.fif'),\n",
    "    ('Sujeto7_R_processed.fif', 'Sujeto7_MF_processed.fif'),\n",
    "    ('Sujeto8_R_processed.fif', 'Sujeto8_MF_processed.fif'),\n",
    "    ('Sujeto9_R_processed.fif', 'Sujeto9_MF_processed.fif'),\n",
    "    ('Sujeto10_R_processed.fif', 'Sujeto10_MF_processed.fif'),\n",
    "    ('Sujeto11_R_processed.fif', 'Sujeto11_MF_processed.fif'),\n",
    "    #('Sujeto12_R_processed.fif', 'Sujeto12_MF_processed.fif'), #always excluded\n",
    "    ('Sujeto13_R_processed.fif', 'Sujeto13_MF_processed.fif'),\n",
    "    ('Sujeto14_R_processed.fif', 'Sujeto14_MF_processed.fif'),\n",
    "    ('Sujeto15_R_processed.fif', 'Sujeto15_MF_processed.fif'),\n",
    "    ('Sujeto16_R_processed.fif', 'Sujeto16_MF_processed.fif'),\n",
    "    ('Sujeto17_R_processed.fif', 'Sujeto17_MF_processed.fif'),\n",
    "    ('Sujeto18_R_processed.fif', 'Sujeto18_MF_processed.fif'),\n",
    "    ('Sujeto19_R_processed.fif', 'Sujeto19_MF_processed.fif'),\n",
    "    ('Sujeto20_R_processed.fif', 'Sujeto20_MF_processed.fif'),\n",
    "    ('Sujeto21_R_processed.fif', 'Sujeto21_MF_processed.fif'),\n",
    "    ('Sujeto22_R_processed.fif', 'Sujeto22_MF_processed.fif'),\n",
    "    ('Sujeto23_R_processed.fif', 'Sujeto23_MF_processed.fif'),\n",
    "    ('Sujeto24_R_processed.fif', 'Sujeto24_MF_processed.fif'),\n",
    "    ('Sujeto25_R_processed.fif', 'Sujeto25_MF_processed.fif'),\n",
    "    ('Sujeto26_R_processed.fif', 'Sujeto26_MF_processed.fif'),\n",
    "    ('Sujeto27_R_processed.fif', 'Sujeto27_MF_processed.fif'),\n",
    "    ('Sujeto28_R_processed.fif', 'Sujeto28_MF_processed.fif'),\n",
    "    ('Sujeto29_R_processed.fif', 'Sujeto29_MF_processed.fif'),\n",
    "    ('Sujeto30_R_processed.fif', 'Sujeto30_MF_processed.fif'),\n",
    "    ('Sujeto31_R_processed.fif', 'Sujeto31_MF_processed.fif'),\n",
    "    ('Sujeto32_R_processed.fif', 'Sujeto32_MF_processed.fif'),\n",
    "    ('Sujeto33_R_processed.fif', 'Sujeto33_MF_processed.fif'),\n",
    "    ('Sujeto34_R_processed.fif', 'Sujeto34_MF_processed.fif'),\n",
    "    #('Sujeto35_R_processed.fif', 'Sujeto35_MF_processed.fif'),  #always excluded\n",
    "    ('Sujeto36_R_processed.fif', 'Sujeto36_MF_processed.fif'),\n",
    "    ('Sujeto37_R_processed.fif', 'Sujeto37_MF_processed.fif')\n",
    "]\n",
    "\n",
    "# Questionnaire responses\n",
    "#responses = np.array([4, 4, 6, 7, 7, 1, 8, 7, 9, 2, 5, 7, 4, 6, 8, 6, 7, 7, 6, 8, 8, 4, 8, 9, 7, 8, 5, 7, 5, 4, 7, 4, 7, 6])  #AR2-MF\n",
    "#responses = np.array([0, 3, 6, 1, 2, 4, 5, 6, 7, 1, 5, 8, 3, 1, 7, 4, 7, 8, 4, 4, 5, 1, 5, 2, 5, 6, 4, 1, 2, 1, 4, 0, 8, 1])  #AR3-MF\n",
    "# responses = np.array([2, 5, 5, 5, 5, 3, 5, 6, 7, 1, 6, 4, 2, 7, 7, 3, 6, 4, 7, 5, 6, 3, 8, 9, 6, 5, 7, 5, 4, 3, 5, 1, 7, 6])  #AR4-MF\n",
    "responses = np.array(responses_array.tolist())\n",
    "\n",
    "# Load electrode locations (use first file)\n",
    "info = mne.read_epochs(file_pairs[0][0]).info  \n",
    "\n",
    "# Create figure with subplots\n",
    "fig, axes = plt.subplots(1, len(frequency_bands), figsize=(15, 4))\n",
    "\n",
    "for ax, (band_name, (fmin, fmax)) in zip(axes, frequency_bands.items()):\n",
    "    relative_power_difference_all = []\n",
    "\n",
    "    # Compute PSD differences for each subject\n",
    "    for str_FileName_R, str_FileName_MF in file_pairs:\n",
    "        fileR = mne.read_epochs(str_FileName_R)  \n",
    "        fileMF = mne.read_epochs(str_FileName_MF)\n",
    "\n",
    "        psd_R, _ = fileR.compute_psd(method='welch', fmin=fmin, fmax=fmax).get_data(return_freqs=True)\n",
    "        psd_MF, _ = fileMF.compute_psd(method='welch', fmin=fmin, fmax=fmax).get_data(return_freqs=True)\n",
    "\n",
    "        avg_psd_R = np.mean(psd_R, axis=(0, 2))  # Mean across epochs\n",
    "        avg_psd_MF = np.mean(psd_MF, axis=(0, 2))  \n",
    "        relative_power_difference_all.append(avg_psd_MF - avg_psd_R)  \n",
    "\n",
    "    relative_power_difference_all = np.array(relative_power_difference_all)  # Shape: (Participants, Electrodes)\n",
    "\n",
    "    # Compute correlation per electrode\n",
    "    correlations = np.array([\n",
    "        pearsonr(relative_power_difference_all[:, i], responses)[0] \n",
    "        for i in range(relative_power_difference_all.shape[1])\n",
    "    ])\n",
    "\n",
    "    # Plot topomap\n",
    "    im, _ = mne.viz.plot_topomap(correlations, info, axes=ax, cmap='jet', show=False)\n",
    "    \n",
    "    ax.set_title(band_name, fontsize=10)\n",
    "\n",
    "# Adjust layout and add colorbar\n",
    "cbar = plt.colorbar(im, ax=axes.ravel().tolist(), shrink=0.6, label='Correlation (r)')\n",
    "plt.suptitle('Correlation Between EEG Power and Questionnaire Scores', fontsize=12)\n",
    "plt.tight_layout()\n",
    "plt.show()"
   ]
  },
  {
   "cell_type": "markdown",
   "metadata": {},
   "source": [
    "# Questionaries with significance"
   ]
  },
  {
   "cell_type": "code",
   "execution_count": null,
   "metadata": {},
   "outputs": [],
   "source": [
    "import numpy as np\n",
    "import mne\n",
    "import matplotlib.pyplot as plt\n",
    "from scipy.stats import pearsonr\n",
    "\n",
    "def topomap_correlation_with_questionnaire(file_pairs, responses, frequency_bands, title='Correlation with Questionnaire'):\n",
    "    \"\"\"\n",
    "    Plot EEG power–questionnaire correlation per frequency band:\n",
    "    - Pearson r\n",
    "    - p-values\n",
    "    - Significant r (p < 0.05)\n",
    "\n",
    "    Parameters:\n",
    "    - file_pairs: list of (R, MF) file tuples\n",
    "    - responses: array of questionnaire responses\n",
    "    - frequency_bands: dict of frequency band names to (fmin, fmax)\n",
    "    - title: plot title\n",
    "    \"\"\"\n",
    "    info = mne.read_epochs(file_pairs[0][0]).info\n",
    "    n_bands = len(frequency_bands)\n",
    "    n_channels = len(info['ch_names'])\n",
    "\n",
    "    fig, axes = plt.subplots(3, n_bands, figsize=(3.5 * n_bands, 9))\n",
    "\n",
    "    for col, (band_name, (fmin, fmax)) in enumerate(frequency_bands.items()):\n",
    "        rel_power_diff_all = []\n",
    "\n",
    "        # Collect power differences for all subjects\n",
    "        for file_R, file_MF in file_pairs:\n",
    "            epochs_R = mne.read_epochs(file_R)\n",
    "            epochs_MF = mne.read_epochs(file_MF)\n",
    "\n",
    "            psd_R, freqs = epochs_R.compute_psd(method='welch', fmin=fmin, fmax=fmax).get_data(return_freqs=True)\n",
    "            psd_MF, _ = epochs_MF.compute_psd(method='welch', fmin=fmin, fmax=fmax).get_data(return_freqs=True)\n",
    "\n",
    "            avg_psd_R = np.mean(psd_R, axis=(0, 2))  # (n_channels,)\n",
    "            avg_psd_MF = np.mean(psd_MF, axis=(0, 2))\n",
    "\n",
    "            rel_power_diff_all.append(avg_psd_MF - avg_psd_R)\n",
    "\n",
    "        rel_power_diff_all = np.array(rel_power_diff_all)  # shape (n_subjects, n_channels)\n",
    "\n",
    "        # Compute Pearson r and p-values\n",
    "        r_vals = []\n",
    "        p_vals = []\n",
    "        for ch in range(n_channels):\n",
    "            r, p = pearsonr(rel_power_diff_all[:, ch], responses)\n",
    "            r_vals.append(r)\n",
    "            p_vals.append(p)\n",
    "        r_vals = np.array(r_vals)\n",
    "        p_vals = np.array(p_vals)\n",
    "        sig_mask = p_vals < 0.05\n",
    "        r_sig = np.where(sig_mask, r_vals, 0)  # Use 0 instead of NaN\n",
    "\n",
    "        # Plotting\n",
    "        # First row: Pearson r values\n",
    "        im, _ = mne.viz.plot_topomap(r_vals, info, axes=axes[0, col], cmap='coolwarm', show=False)\n",
    "        axes[0, col].set_title(f'{band_name}\\nr', fontsize=10)\n",
    "        plt.colorbar(im, ax=axes[0, col], orientation='horizontal', shrink=0.6)\n",
    "\n",
    "        # Second row: p-values\n",
    "        im, _ = mne.viz.plot_topomap(p_vals, info, axes=axes[1, col], cmap='magma_r', show=False)\n",
    "        axes[1, col].set_title('p-values', fontsize=10)\n",
    "        plt.colorbar(im, ax=axes[1, col], orientation='horizontal', shrink=0.6)\n",
    "\n",
    "        # Third row: Significant correlations only\n",
    "        im = mne.viz.plot_topomap(\n",
    "            p_vals, \n",
    "            info, \n",
    "            axes=axes[2, col], \n",
    "            cmap='jet', \n",
    "            show=False,\n",
    "            #mask=sig_mask.reshape(-1, 1),\n",
    "            #mask_params=dict(markersize=0),\n",
    "            vlim=(0,0.1)\n",
    "        )[0]  # Get just the image part of the tuple\n",
    "        axes[2, col].set_title('r (p<0.05)', fontsize=10)\n",
    "        plt.colorbar(im, ax=axes[2, col], orientation='horizontal', shrink=0.6)\n",
    "\n",
    "    # Add row labels\n",
    "    for ax, label in zip(axes[:, 0], ['Pearson r', 'p-value', 'Significant r']):\n",
    "        ax.annotate(label, xy=(-0.2, 0.5), xycoords='axes fraction', va='center', ha='right', rotation=90, fontsize=12)\n",
    "\n",
    "    plt.suptitle(title, fontsize=14)\n",
    "    plt.tight_layout()\n",
    "    plt.show()\n",
    "\n",
    "# Your frequency bands\n",
    "frequency_bands = {\n",
    "    'Delta (0.5–4 Hz)': (0.5, 4),\n",
    "    'Theta (4–8 Hz)': (4, 8),\n",
    "    'Alpha (8–12 Hz)': (8, 12),\n",
    "    'Beta (12–18 Hz)': (12, 18),\n",
    "    'Fast Beta (18–30 Hz)': (18, 30)\n",
    "}\n",
    "\n",
    "file_pairs = [\n",
    "    ('Sujeto1_R_processed.fif', 'Sujeto1_MF_processed.fif'),\n",
    "    ('Sujeto2_R_processed.fif', 'Sujeto2_MF_processed.fif'),\n",
    "    ('Sujeto3_R_processed.fif', 'Sujeto3_MF_processed.fif'),\n",
    "    ('Sujeto4_R_processed.fif', 'Sujeto4_MF_processed.fif'),\n",
    "    ('Sujeto5_R_processed.fif', 'Sujeto5_MF_processed.fif'),\n",
    "    ('Sujeto6_R_processed.fif', 'Sujeto6_MF_processed.fif'),\n",
    "    ('Sujeto7_R_processed.fif', 'Sujeto7_MF_processed.fif'),\n",
    "    ('Sujeto8_R_processed.fif', 'Sujeto8_MF_processed.fif'),\n",
    "    ('Sujeto9_R_processed.fif', 'Sujeto9_MF_processed.fif'),\n",
    "    ('Sujeto10_R_processed.fif', 'Sujeto10_MF_processed.fif'),\n",
    "    ('Sujeto11_R_processed.fif', 'Sujeto11_MF_processed.fif'),\n",
    "    #('Sujeto12_R_processed.fif', 'Sujeto12_MF_processed.fif'),  #always excluded\n",
    "    ('Sujeto13_R_processed.fif', 'Sujeto13_MF_processed.fif'),\n",
    "    ('Sujeto14_R_processed.fif', 'Sujeto14_MF_processed.fif'),\n",
    "    ('Sujeto15_R_processed.fif', 'Sujeto15_MF_processed.fif'),\n",
    "    ('Sujeto16_R_processed.fif', 'Sujeto16_MF_processed.fif'),\n",
    "    ('Sujeto17_R_processed.fif', 'Sujeto17_MF_processed.fif'),\n",
    "    ('Sujeto18_R_processed.fif', 'Sujeto18_MF_processed.fif'),\n",
    "    ('Sujeto19_R_processed.fif', 'Sujeto19_MF_processed.fif'),\n",
    "    ('Sujeto20_R_processed.fif', 'Sujeto20_MF_processed.fif'),\n",
    "    ('Sujeto21_R_processed.fif', 'Sujeto21_MF_processed.fif'),\n",
    "    ('Sujeto22_R_processed.fif', 'Sujeto22_MF_processed.fif'),\n",
    "    ('Sujeto23_R_processed.fif', 'Sujeto23_MF_processed.fif'),\n",
    "    ('Sujeto24_R_processed.fif', 'Sujeto24_MF_processed.fif'),\n",
    "    ('Sujeto25_R_processed.fif', 'Sujeto25_MF_processed.fif'),\n",
    "    ('Sujeto26_R_processed.fif', 'Sujeto26_MF_processed.fif'),\n",
    "    ('Sujeto27_R_processed.fif', 'Sujeto27_MF_processed.fif'),\n",
    "    ('Sujeto28_R_processed.fif', 'Sujeto28_MF_processed.fif'),\n",
    "    ('Sujeto29_R_processed.fif', 'Sujeto29_MF_processed.fif'),\n",
    "    ('Sujeto30_R_processed.fif', 'Sujeto30_MF_processed.fif'),\n",
    "    ('Sujeto31_R_processed.fif', 'Sujeto31_MF_processed.fif'),\n",
    "    ('Sujeto32_R_processed.fif', 'Sujeto32_MF_processed.fif'),\n",
    "    ('Sujeto33_R_processed.fif', 'Sujeto33_MF_processed.fif'),\n",
    "    ('Sujeto34_R_processed.fif', 'Sujeto34_MF_processed.fif'),\n",
    "    #('Sujeto35_R_processed.fif', 'Sujeto35_MF_processed.fif'), #always excluded\n",
    "    ('Sujeto36_R_processed.fif', 'Sujeto36_MF_processed.fif'),\n",
    "    ('Sujeto37_R_processed.fif', 'Sujeto37_MF_processed.fif')\n",
    "    ]\n",
    "#responses = np.array([4, 4, 6, 7, 7, 1, 8, 7, 9, 2, 5, 7, 4, 6, 8, 6, 7, 7, 6, 8, 8, 4, 8, 9, 7, 8, 5, 7, 5, 4, 7, 4, 7, 6])  #AR2-MF\n",
    "#responses = np.array([0, 3, 6, 1, 2, 4, 5, 6, 7, 1, 5, 8, 3, 1, 7, 4, 7, 8, 4, 4, 5, 1, 5, 2, 5, 6, 4, 1, 2, 1, 4, 0, 8, 1])  #AR3-MF\n",
    "#responses = np.array([2, 5, 5, 5, 5, 3, 5, 6, 7, 1, 6, 4, 2, 7, 7, 3, 6, 4, 7, 5, 6, 3, 8, 9, 6, 5, 7, 5, 4, 3, 5, 1, 7, 6])  #AR4-MF\n",
    "responses = np.array(responses_array.tolist())\n",
    "\n",
    "# file_pairs=file_pairs[:5]\n",
    "# responses=responses[:5]\n",
    "\n",
    "# Call the function\n",
    "topomap_correlation_with_questionnaire(file_pairs, responses, frequency_bands, title='MWQ5 Correlation')\n"
   ]
  },
  {
   "cell_type": "markdown",
   "metadata": {},
   "source": [
    "# Significance correlation in both states"
   ]
  },
  {
   "cell_type": "code",
   "execution_count": 19,
   "metadata": {},
   "outputs": [
    {
     "name": "stdout",
     "output_type": "stream",
     "text": [
      "Initial counts - Sujetos: 36, Responses: 36\n",
      "\n",
      "Eliminated due to NaN values:\n",
      "31    SUJ_33\n",
      "32    SUJ_34\n",
      "\n",
      "Additional subjects being excluded: ['SUJ_12', 'SUJ_35']\n",
      "These subjects will be removed:\n",
      "33    SUJ_35\n",
      "\n",
      "Final counts - Sujetos: 33, Responses: 33\n",
      "\n",
      "Cleaned Sujetos:\n",
      "0      SUJ_1\n",
      "1      SUJ_2\n",
      "2      SUJ_3\n",
      "3      SUJ_4\n",
      "4      SUJ_5\n",
      "5      SUJ_6\n",
      "6      SUJ_7\n",
      "7      SUJ_8\n",
      "8      SUJ_9\n",
      "9     SUJ_10\n",
      "10    SUJ_11\n",
      "11    SUJ_13\n",
      "12    SUJ_14\n",
      "13    SUJ_15\n",
      "14    SUJ_16\n",
      "15    SUJ_17\n",
      "16    SUJ_18\n",
      "17    SUJ_19\n",
      "18    SUJ_20\n",
      "19    SUJ_21\n",
      "20    SUJ_22\n",
      "21    SUJ_23\n",
      "22    SUJ_24\n",
      "23    SUJ_25\n",
      "24    SUJ_26\n",
      "25    SUJ_27\n",
      "26    SUJ_28\n",
      "27    SUJ_29\n",
      "28    SUJ_30\n",
      "29    SUJ_31\n",
      "30    SUJ_32\n",
      "34    SUJ_36\n",
      "35    SUJ_37\n",
      "\n",
      "Cleaned Data (first 10 values):\n",
      "0    17.0\n",
      "1    18.0\n",
      "2     8.0\n",
      "3    10.0\n",
      "4    22.0\n",
      "5    24.0\n",
      "6    13.0\n",
      "7    14.0\n",
      "8    12.0\n",
      "9    20.0\n",
      "\n",
      "NumPy array shape: (33,)\n",
      "First 5 array values: [17. 18.  8. 10. 22.]\n",
      "Reading c:\\Users\\afcad\\Downloads\\Sujeto1_R_processed.fif ...\n"
     ]
    },
    {
     "name": "stderr",
     "output_type": "stream",
     "text": [
      "C:\\Users\\afcad\\AppData\\Local\\Temp\\ipykernel_1044\\2763569990.py:57: RuntimeWarning: This filename (Sujeto1_R_processed.fif) does not conform to MNE naming conventions. All epochs files should end with -epo.fif, -epo.fif.gz, _epo.fif or _epo.fif.gz\n",
      "  info = mne.read_epochs(file_pairs[0][0]).info\n"
     ]
    },
    {
     "name": "stdout",
     "output_type": "stream",
     "text": [
      "    Found the data of interest:\n",
      "        t =   -2500.00 ...    2500.00 ms\n",
      "        0 CTF compensation matrices available\n",
      "Not setting metadata\n",
      "68 matching events found\n",
      "No baseline correction applied\n",
      "0 projection items activated\n",
      "Reading c:\\Users\\afcad\\Downloads\\Sujeto1_R_processed.fif ...\n"
     ]
    },
    {
     "name": "stderr",
     "output_type": "stream",
     "text": [
      "C:\\Users\\afcad\\AppData\\Local\\Temp\\ipykernel_1044\\2763569990.py:69: RuntimeWarning: This filename (Sujeto1_R_processed.fif) does not conform to MNE naming conventions. All epochs files should end with -epo.fif, -epo.fif.gz, _epo.fif or _epo.fif.gz\n",
      "  epochs_R = mne.read_epochs(file_R, preload=True)\n"
     ]
    },
    {
     "name": "stdout",
     "output_type": "stream",
     "text": [
      "    Found the data of interest:\n",
      "        t =   -2500.00 ...    2500.00 ms\n",
      "        0 CTF compensation matrices available\n",
      "Not setting metadata\n",
      "68 matching events found\n",
      "No baseline correction applied\n",
      "0 projection items activated\n",
      "Reading c:\\Users\\afcad\\Downloads\\Sujeto1_MF_processed.fif ...\n"
     ]
    },
    {
     "name": "stderr",
     "output_type": "stream",
     "text": [
      "C:\\Users\\afcad\\AppData\\Local\\Temp\\ipykernel_1044\\2763569990.py:70: RuntimeWarning: This filename (Sujeto1_MF_processed.fif) does not conform to MNE naming conventions. All epochs files should end with -epo.fif, -epo.fif.gz, _epo.fif or _epo.fif.gz\n",
      "  epochs_MF = mne.read_epochs(file_MF, preload=True)\n"
     ]
    },
    {
     "name": "stdout",
     "output_type": "stream",
     "text": [
      "    Found the data of interest:\n",
      "        t =   -2500.00 ...    2500.00 ms\n",
      "        0 CTF compensation matrices available\n",
      "Not setting metadata\n",
      "145 matching events found\n",
      "No baseline correction applied\n",
      "0 projection items activated\n",
      "Effective window size : 0.250 (s)\n",
      "Effective window size : 0.250 (s)\n",
      "Reading c:\\Users\\afcad\\Downloads\\Sujeto2_R_processed.fif ...\n"
     ]
    },
    {
     "name": "stderr",
     "output_type": "stream",
     "text": [
      "C:\\Users\\afcad\\AppData\\Local\\Temp\\ipykernel_1044\\2763569990.py:69: RuntimeWarning: This filename (Sujeto2_R_processed.fif) does not conform to MNE naming conventions. All epochs files should end with -epo.fif, -epo.fif.gz, _epo.fif or _epo.fif.gz\n",
      "  epochs_R = mne.read_epochs(file_R, preload=True)\n"
     ]
    },
    {
     "name": "stdout",
     "output_type": "stream",
     "text": [
      "    Found the data of interest:\n",
      "        t =   -2500.00 ...    2500.00 ms\n",
      "        0 CTF compensation matrices available\n",
      "Not setting metadata\n",
      "58 matching events found\n",
      "No baseline correction applied\n",
      "0 projection items activated\n",
      "Reading c:\\Users\\afcad\\Downloads\\Sujeto2_MF_processed.fif ...\n"
     ]
    },
    {
     "name": "stderr",
     "output_type": "stream",
     "text": [
      "C:\\Users\\afcad\\AppData\\Local\\Temp\\ipykernel_1044\\2763569990.py:70: RuntimeWarning: This filename (Sujeto2_MF_processed.fif) does not conform to MNE naming conventions. All epochs files should end with -epo.fif, -epo.fif.gz, _epo.fif or _epo.fif.gz\n",
      "  epochs_MF = mne.read_epochs(file_MF, preload=True)\n"
     ]
    },
    {
     "name": "stdout",
     "output_type": "stream",
     "text": [
      "    Found the data of interest:\n",
      "        t =   -2500.00 ...    2500.00 ms\n",
      "        0 CTF compensation matrices available\n",
      "Not setting metadata\n",
      "138 matching events found\n",
      "No baseline correction applied\n",
      "0 projection items activated\n",
      "Effective window size : 0.250 (s)\n",
      "Effective window size : 0.250 (s)\n",
      "Reading c:\\Users\\afcad\\Downloads\\Sujeto3_R_processed.fif ...\n",
      "    Found the data of interest:\n"
     ]
    },
    {
     "name": "stderr",
     "output_type": "stream",
     "text": [
      "C:\\Users\\afcad\\AppData\\Local\\Temp\\ipykernel_1044\\2763569990.py:69: RuntimeWarning: This filename (Sujeto3_R_processed.fif) does not conform to MNE naming conventions. All epochs files should end with -epo.fif, -epo.fif.gz, _epo.fif or _epo.fif.gz\n",
      "  epochs_R = mne.read_epochs(file_R, preload=True)\n"
     ]
    },
    {
     "name": "stdout",
     "output_type": "stream",
     "text": [
      "        t =   -2500.00 ...    2500.00 ms\n",
      "        0 CTF compensation matrices available\n",
      "Not setting metadata\n",
      "61 matching events found\n",
      "No baseline correction applied\n",
      "0 projection items activated\n",
      "Reading c:\\Users\\afcad\\Downloads\\Sujeto3_MF_processed.fif ...\n"
     ]
    },
    {
     "name": "stderr",
     "output_type": "stream",
     "text": [
      "C:\\Users\\afcad\\AppData\\Local\\Temp\\ipykernel_1044\\2763569990.py:70: RuntimeWarning: This filename (Sujeto3_MF_processed.fif) does not conform to MNE naming conventions. All epochs files should end with -epo.fif, -epo.fif.gz, _epo.fif or _epo.fif.gz\n",
      "  epochs_MF = mne.read_epochs(file_MF, preload=True)\n"
     ]
    },
    {
     "name": "stdout",
     "output_type": "stream",
     "text": [
      "    Found the data of interest:\n",
      "        t =   -2500.00 ...    2500.00 ms\n",
      "        0 CTF compensation matrices available\n",
      "Not setting metadata\n",
      "131 matching events found\n",
      "No baseline correction applied\n",
      "0 projection items activated\n",
      "Effective window size : 0.250 (s)\n",
      "Effective window size : 0.250 (s)\n",
      "Reading c:\\Users\\afcad\\Downloads\\Sujeto4_R_processed.fif ...\n",
      "    Found the data of interest:\n",
      "        t =   -2500.00 ...    2500.00 ms\n",
      "        0 CTF compensation matrices available\n"
     ]
    },
    {
     "name": "stderr",
     "output_type": "stream",
     "text": [
      "C:\\Users\\afcad\\AppData\\Local\\Temp\\ipykernel_1044\\2763569990.py:69: RuntimeWarning: This filename (Sujeto4_R_processed.fif) does not conform to MNE naming conventions. All epochs files should end with -epo.fif, -epo.fif.gz, _epo.fif or _epo.fif.gz\n",
      "  epochs_R = mne.read_epochs(file_R, preload=True)\n"
     ]
    },
    {
     "name": "stdout",
     "output_type": "stream",
     "text": [
      "Not setting metadata\n",
      "60 matching events found\n",
      "No baseline correction applied\n",
      "0 projection items activated\n",
      "Reading c:\\Users\\afcad\\Downloads\\Sujeto4_MF_processed.fif ...\n"
     ]
    },
    {
     "name": "stderr",
     "output_type": "stream",
     "text": [
      "C:\\Users\\afcad\\AppData\\Local\\Temp\\ipykernel_1044\\2763569990.py:70: RuntimeWarning: This filename (Sujeto4_MF_processed.fif) does not conform to MNE naming conventions. All epochs files should end with -epo.fif, -epo.fif.gz, _epo.fif or _epo.fif.gz\n",
      "  epochs_MF = mne.read_epochs(file_MF, preload=True)\n"
     ]
    },
    {
     "name": "stdout",
     "output_type": "stream",
     "text": [
      "    Found the data of interest:\n",
      "        t =   -2500.00 ...    2500.00 ms\n",
      "        0 CTF compensation matrices available\n",
      "Not setting metadata\n",
      "143 matching events found\n",
      "No baseline correction applied\n",
      "0 projection items activated\n",
      "Effective window size : 0.250 (s)\n",
      "Effective window size : 0.250 (s)\n",
      "Reading c:\\Users\\afcad\\Downloads\\Sujeto5_R_processed.fif ...\n",
      "    Found the data of interest:\n",
      "        t =   -2500.00 ...    2500.00 ms\n",
      "        0 CTF compensation matrices available\n"
     ]
    },
    {
     "name": "stderr",
     "output_type": "stream",
     "text": [
      "C:\\Users\\afcad\\AppData\\Local\\Temp\\ipykernel_1044\\2763569990.py:69: RuntimeWarning: This filename (Sujeto5_R_processed.fif) does not conform to MNE naming conventions. All epochs files should end with -epo.fif, -epo.fif.gz, _epo.fif or _epo.fif.gz\n",
      "  epochs_R = mne.read_epochs(file_R, preload=True)\n"
     ]
    },
    {
     "name": "stdout",
     "output_type": "stream",
     "text": [
      "Not setting metadata\n",
      "63 matching events found\n",
      "No baseline correction applied\n",
      "0 projection items activated\n",
      "Reading c:\\Users\\afcad\\Downloads\\Sujeto5_MF_processed.fif ...\n"
     ]
    },
    {
     "name": "stderr",
     "output_type": "stream",
     "text": [
      "C:\\Users\\afcad\\AppData\\Local\\Temp\\ipykernel_1044\\2763569990.py:70: RuntimeWarning: This filename (Sujeto5_MF_processed.fif) does not conform to MNE naming conventions. All epochs files should end with -epo.fif, -epo.fif.gz, _epo.fif or _epo.fif.gz\n",
      "  epochs_MF = mne.read_epochs(file_MF, preload=True)\n"
     ]
    },
    {
     "name": "stdout",
     "output_type": "stream",
     "text": [
      "    Found the data of interest:\n",
      "        t =   -2500.00 ...    2500.00 ms\n",
      "        0 CTF compensation matrices available\n",
      "Not setting metadata\n",
      "141 matching events found\n",
      "No baseline correction applied\n",
      "0 projection items activated\n",
      "Effective window size : 0.250 (s)\n",
      "Effective window size : 0.250 (s)\n",
      "Reading c:\\Users\\afcad\\Downloads\\Sujeto6_R_processed.fif ...\n"
     ]
    },
    {
     "name": "stderr",
     "output_type": "stream",
     "text": [
      "C:\\Users\\afcad\\AppData\\Local\\Temp\\ipykernel_1044\\2763569990.py:69: RuntimeWarning: This filename (Sujeto6_R_processed.fif) does not conform to MNE naming conventions. All epochs files should end with -epo.fif, -epo.fif.gz, _epo.fif or _epo.fif.gz\n",
      "  epochs_R = mne.read_epochs(file_R, preload=True)\n"
     ]
    },
    {
     "name": "stdout",
     "output_type": "stream",
     "text": [
      "    Found the data of interest:\n",
      "        t =   -2500.00 ...    2500.00 ms\n",
      "        0 CTF compensation matrices available\n",
      "Not setting metadata\n",
      "72 matching events found\n",
      "No baseline correction applied\n",
      "0 projection items activated\n",
      "Reading c:\\Users\\afcad\\Downloads\\Sujeto6_MF_processed.fif ...\n"
     ]
    },
    {
     "name": "stderr",
     "output_type": "stream",
     "text": [
      "C:\\Users\\afcad\\AppData\\Local\\Temp\\ipykernel_1044\\2763569990.py:70: RuntimeWarning: This filename (Sujeto6_MF_processed.fif) does not conform to MNE naming conventions. All epochs files should end with -epo.fif, -epo.fif.gz, _epo.fif or _epo.fif.gz\n",
      "  epochs_MF = mne.read_epochs(file_MF, preload=True)\n"
     ]
    },
    {
     "name": "stdout",
     "output_type": "stream",
     "text": [
      "    Found the data of interest:\n",
      "        t =   -2500.00 ...    2500.00 ms\n",
      "        0 CTF compensation matrices available\n",
      "Not setting metadata\n",
      "107 matching events found\n",
      "No baseline correction applied\n",
      "0 projection items activated\n",
      "Effective window size : 0.250 (s)\n",
      "Effective window size : 0.250 (s)\n",
      "Reading c:\\Users\\afcad\\Downloads\\Sujeto7_R_processed.fif ...\n",
      "    Found the data of interest:\n",
      "        t =   -2500.00 ...    2500.00 ms\n",
      "        0 CTF compensation matrices available\n"
     ]
    },
    {
     "name": "stderr",
     "output_type": "stream",
     "text": [
      "C:\\Users\\afcad\\AppData\\Local\\Temp\\ipykernel_1044\\2763569990.py:69: RuntimeWarning: This filename (Sujeto7_R_processed.fif) does not conform to MNE naming conventions. All epochs files should end with -epo.fif, -epo.fif.gz, _epo.fif or _epo.fif.gz\n",
      "  epochs_R = mne.read_epochs(file_R, preload=True)\n"
     ]
    },
    {
     "name": "stdout",
     "output_type": "stream",
     "text": [
      "Not setting metadata\n",
      "55 matching events found\n",
      "No baseline correction applied\n",
      "0 projection items activated\n",
      "Reading c:\\Users\\afcad\\Downloads\\Sujeto7_MF_processed.fif ...\n"
     ]
    },
    {
     "name": "stderr",
     "output_type": "stream",
     "text": [
      "C:\\Users\\afcad\\AppData\\Local\\Temp\\ipykernel_1044\\2763569990.py:70: RuntimeWarning: This filename (Sujeto7_MF_processed.fif) does not conform to MNE naming conventions. All epochs files should end with -epo.fif, -epo.fif.gz, _epo.fif or _epo.fif.gz\n",
      "  epochs_MF = mne.read_epochs(file_MF, preload=True)\n"
     ]
    },
    {
     "name": "stdout",
     "output_type": "stream",
     "text": [
      "    Found the data of interest:\n",
      "        t =   -2500.00 ...    2500.00 ms\n",
      "        0 CTF compensation matrices available\n",
      "Not setting metadata\n",
      "130 matching events found\n",
      "No baseline correction applied\n",
      "0 projection items activated\n",
      "Effective window size : 0.250 (s)\n",
      "Effective window size : 0.250 (s)\n",
      "Reading c:\\Users\\afcad\\Downloads\\Sujeto8_R_processed.fif ...\n",
      "    Found the data of interest:\n",
      "        t =   -2500.00 ...    2500.00 ms\n",
      "        0 CTF compensation matrices available\n"
     ]
    },
    {
     "name": "stderr",
     "output_type": "stream",
     "text": [
      "C:\\Users\\afcad\\AppData\\Local\\Temp\\ipykernel_1044\\2763569990.py:69: RuntimeWarning: This filename (Sujeto8_R_processed.fif) does not conform to MNE naming conventions. All epochs files should end with -epo.fif, -epo.fif.gz, _epo.fif or _epo.fif.gz\n",
      "  epochs_R = mne.read_epochs(file_R, preload=True)\n"
     ]
    },
    {
     "name": "stdout",
     "output_type": "stream",
     "text": [
      "Not setting metadata\n",
      "63 matching events found\n",
      "No baseline correction applied\n",
      "0 projection items activated\n",
      "Reading c:\\Users\\afcad\\Downloads\\Sujeto8_MF_processed.fif ...\n"
     ]
    },
    {
     "name": "stderr",
     "output_type": "stream",
     "text": [
      "C:\\Users\\afcad\\AppData\\Local\\Temp\\ipykernel_1044\\2763569990.py:70: RuntimeWarning: This filename (Sujeto8_MF_processed.fif) does not conform to MNE naming conventions. All epochs files should end with -epo.fif, -epo.fif.gz, _epo.fif or _epo.fif.gz\n",
      "  epochs_MF = mne.read_epochs(file_MF, preload=True)\n"
     ]
    },
    {
     "name": "stdout",
     "output_type": "stream",
     "text": [
      "    Found the data of interest:\n",
      "        t =   -2500.00 ...    2500.00 ms\n",
      "        0 CTF compensation matrices available\n",
      "Not setting metadata\n",
      "138 matching events found\n",
      "No baseline correction applied\n",
      "0 projection items activated\n",
      "Effective window size : 0.250 (s)\n",
      "Effective window size : 0.250 (s)\n",
      "Reading c:\\Users\\afcad\\Downloads\\Sujeto9_R_processed.fif ...\n",
      "    Found the data of interest:\n",
      "        t =   -2500.00 ...    2500.00 ms\n",
      "        0 CTF compensation matrices available\n"
     ]
    },
    {
     "name": "stderr",
     "output_type": "stream",
     "text": [
      "C:\\Users\\afcad\\AppData\\Local\\Temp\\ipykernel_1044\\2763569990.py:69: RuntimeWarning: This filename (Sujeto9_R_processed.fif) does not conform to MNE naming conventions. All epochs files should end with -epo.fif, -epo.fif.gz, _epo.fif or _epo.fif.gz\n",
      "  epochs_R = mne.read_epochs(file_R, preload=True)\n"
     ]
    },
    {
     "name": "stdout",
     "output_type": "stream",
     "text": [
      "Not setting metadata\n",
      "60 matching events found\n",
      "No baseline correction applied\n",
      "0 projection items activated\n",
      "Reading c:\\Users\\afcad\\Downloads\\Sujeto9_MF_processed.fif ...\n"
     ]
    },
    {
     "name": "stderr",
     "output_type": "stream",
     "text": [
      "C:\\Users\\afcad\\AppData\\Local\\Temp\\ipykernel_1044\\2763569990.py:70: RuntimeWarning: This filename (Sujeto9_MF_processed.fif) does not conform to MNE naming conventions. All epochs files should end with -epo.fif, -epo.fif.gz, _epo.fif or _epo.fif.gz\n",
      "  epochs_MF = mne.read_epochs(file_MF, preload=True)\n"
     ]
    },
    {
     "name": "stdout",
     "output_type": "stream",
     "text": [
      "    Found the data of interest:\n",
      "        t =   -2500.00 ...    2500.00 ms\n",
      "        0 CTF compensation matrices available\n",
      "Not setting metadata\n",
      "143 matching events found\n",
      "No baseline correction applied\n",
      "0 projection items activated\n",
      "Effective window size : 0.250 (s)\n",
      "Effective window size : 0.250 (s)\n",
      "Reading c:\\Users\\afcad\\Downloads\\Sujeto10_R_processed.fif ...\n",
      "    Found the data of interest:\n",
      "        t =   -2500.00 ...    2500.00 ms\n",
      "        0 CTF compensation matrices available\n"
     ]
    },
    {
     "name": "stderr",
     "output_type": "stream",
     "text": [
      "C:\\Users\\afcad\\AppData\\Local\\Temp\\ipykernel_1044\\2763569990.py:69: RuntimeWarning: This filename (Sujeto10_R_processed.fif) does not conform to MNE naming conventions. All epochs files should end with -epo.fif, -epo.fif.gz, _epo.fif or _epo.fif.gz\n",
      "  epochs_R = mne.read_epochs(file_R, preload=True)\n"
     ]
    },
    {
     "name": "stdout",
     "output_type": "stream",
     "text": [
      "Not setting metadata\n",
      "64 matching events found\n",
      "No baseline correction applied\n",
      "0 projection items activated\n",
      "Reading c:\\Users\\afcad\\Downloads\\Sujeto10_MF_processed.fif ...\n"
     ]
    },
    {
     "name": "stderr",
     "output_type": "stream",
     "text": [
      "C:\\Users\\afcad\\AppData\\Local\\Temp\\ipykernel_1044\\2763569990.py:70: RuntimeWarning: This filename (Sujeto10_MF_processed.fif) does not conform to MNE naming conventions. All epochs files should end with -epo.fif, -epo.fif.gz, _epo.fif or _epo.fif.gz\n",
      "  epochs_MF = mne.read_epochs(file_MF, preload=True)\n"
     ]
    },
    {
     "name": "stdout",
     "output_type": "stream",
     "text": [
      "    Found the data of interest:\n",
      "        t =   -2500.00 ...    2500.00 ms\n",
      "        0 CTF compensation matrices available\n",
      "Not setting metadata\n",
      "137 matching events found\n",
      "No baseline correction applied\n",
      "0 projection items activated\n",
      "Effective window size : 0.250 (s)\n",
      "Effective window size : 0.250 (s)\n",
      "Reading c:\\Users\\afcad\\Downloads\\Sujeto11_R_processed.fif ...\n",
      "    Found the data of interest:\n",
      "        t =   -2500.00 ...    2500.00 ms\n",
      "        0 CTF compensation matrices available\n"
     ]
    },
    {
     "name": "stderr",
     "output_type": "stream",
     "text": [
      "C:\\Users\\afcad\\AppData\\Local\\Temp\\ipykernel_1044\\2763569990.py:69: RuntimeWarning: This filename (Sujeto11_R_processed.fif) does not conform to MNE naming conventions. All epochs files should end with -epo.fif, -epo.fif.gz, _epo.fif or _epo.fif.gz\n",
      "  epochs_R = mne.read_epochs(file_R, preload=True)\n"
     ]
    },
    {
     "name": "stdout",
     "output_type": "stream",
     "text": [
      "Not setting metadata\n",
      "53 matching events found\n",
      "No baseline correction applied\n",
      "0 projection items activated\n",
      "Reading c:\\Users\\afcad\\Downloads\\Sujeto11_MF_processed.fif ...\n"
     ]
    },
    {
     "name": "stderr",
     "output_type": "stream",
     "text": [
      "C:\\Users\\afcad\\AppData\\Local\\Temp\\ipykernel_1044\\2763569990.py:70: RuntimeWarning: This filename (Sujeto11_MF_processed.fif) does not conform to MNE naming conventions. All epochs files should end with -epo.fif, -epo.fif.gz, _epo.fif or _epo.fif.gz\n",
      "  epochs_MF = mne.read_epochs(file_MF, preload=True)\n"
     ]
    },
    {
     "name": "stdout",
     "output_type": "stream",
     "text": [
      "    Found the data of interest:\n",
      "        t =   -2500.00 ...    2500.00 ms\n",
      "        0 CTF compensation matrices available\n",
      "Not setting metadata\n",
      "107 matching events found\n",
      "No baseline correction applied\n",
      "0 projection items activated\n",
      "Effective window size : 0.250 (s)\n",
      "Effective window size : 0.250 (s)\n",
      "Reading c:\\Users\\afcad\\Downloads\\Sujeto13_R_processed.fif ...\n",
      "    Found the data of interest:\n",
      "        t =   -2500.00 ...    2500.00 ms\n",
      "        0 CTF compensation matrices available\n"
     ]
    },
    {
     "name": "stderr",
     "output_type": "stream",
     "text": [
      "C:\\Users\\afcad\\AppData\\Local\\Temp\\ipykernel_1044\\2763569990.py:69: RuntimeWarning: This filename (Sujeto13_R_processed.fif) does not conform to MNE naming conventions. All epochs files should end with -epo.fif, -epo.fif.gz, _epo.fif or _epo.fif.gz\n",
      "  epochs_R = mne.read_epochs(file_R, preload=True)\n"
     ]
    },
    {
     "name": "stdout",
     "output_type": "stream",
     "text": [
      "Not setting metadata\n",
      "63 matching events found\n",
      "No baseline correction applied\n",
      "0 projection items activated\n",
      "Reading c:\\Users\\afcad\\Downloads\\Sujeto13_MF_processed.fif ...\n"
     ]
    },
    {
     "name": "stderr",
     "output_type": "stream",
     "text": [
      "C:\\Users\\afcad\\AppData\\Local\\Temp\\ipykernel_1044\\2763569990.py:70: RuntimeWarning: This filename (Sujeto13_MF_processed.fif) does not conform to MNE naming conventions. All epochs files should end with -epo.fif, -epo.fif.gz, _epo.fif or _epo.fif.gz\n",
      "  epochs_MF = mne.read_epochs(file_MF, preload=True)\n"
     ]
    },
    {
     "name": "stdout",
     "output_type": "stream",
     "text": [
      "    Found the data of interest:\n",
      "        t =   -2500.00 ...    2500.00 ms\n",
      "        0 CTF compensation matrices available\n",
      "Not setting metadata\n",
      "141 matching events found\n",
      "No baseline correction applied\n",
      "0 projection items activated\n",
      "Effective window size : 0.250 (s)\n",
      "Effective window size : 0.250 (s)\n",
      "Reading c:\\Users\\afcad\\Downloads\\Sujeto14_R_processed.fif ...\n",
      "    Found the data of interest:\n",
      "        t =   -2500.00 ...    2500.00 ms\n",
      "        0 CTF compensation matrices available\n"
     ]
    },
    {
     "name": "stderr",
     "output_type": "stream",
     "text": [
      "C:\\Users\\afcad\\AppData\\Local\\Temp\\ipykernel_1044\\2763569990.py:69: RuntimeWarning: This filename (Sujeto14_R_processed.fif) does not conform to MNE naming conventions. All epochs files should end with -epo.fif, -epo.fif.gz, _epo.fif or _epo.fif.gz\n",
      "  epochs_R = mne.read_epochs(file_R, preload=True)\n"
     ]
    },
    {
     "name": "stdout",
     "output_type": "stream",
     "text": [
      "Not setting metadata\n",
      "71 matching events found\n",
      "No baseline correction applied\n",
      "0 projection items activated\n",
      "Reading c:\\Users\\afcad\\Downloads\\Sujeto14_MF_processed.fif ...\n"
     ]
    },
    {
     "name": "stderr",
     "output_type": "stream",
     "text": [
      "C:\\Users\\afcad\\AppData\\Local\\Temp\\ipykernel_1044\\2763569990.py:70: RuntimeWarning: This filename (Sujeto14_MF_processed.fif) does not conform to MNE naming conventions. All epochs files should end with -epo.fif, -epo.fif.gz, _epo.fif or _epo.fif.gz\n",
      "  epochs_MF = mne.read_epochs(file_MF, preload=True)\n"
     ]
    },
    {
     "name": "stdout",
     "output_type": "stream",
     "text": [
      "    Found the data of interest:\n",
      "        t =   -2500.00 ...    2500.00 ms\n",
      "        0 CTF compensation matrices available\n",
      "Not setting metadata\n",
      "141 matching events found\n",
      "No baseline correction applied\n",
      "0 projection items activated\n",
      "Effective window size : 0.250 (s)\n",
      "Effective window size : 0.250 (s)\n",
      "Reading c:\\Users\\afcad\\Downloads\\Sujeto15_R_processed.fif ...\n",
      "    Found the data of interest:\n",
      "        t =   -2500.00 ...    2500.00 ms\n",
      "        0 CTF compensation matrices available\n"
     ]
    },
    {
     "name": "stderr",
     "output_type": "stream",
     "text": [
      "C:\\Users\\afcad\\AppData\\Local\\Temp\\ipykernel_1044\\2763569990.py:69: RuntimeWarning: This filename (Sujeto15_R_processed.fif) does not conform to MNE naming conventions. All epochs files should end with -epo.fif, -epo.fif.gz, _epo.fif or _epo.fif.gz\n",
      "  epochs_R = mne.read_epochs(file_R, preload=True)\n"
     ]
    },
    {
     "name": "stdout",
     "output_type": "stream",
     "text": [
      "Not setting metadata\n",
      "69 matching events found\n",
      "No baseline correction applied\n",
      "0 projection items activated\n",
      "Reading c:\\Users\\afcad\\Downloads\\Sujeto15_MF_processed.fif ...\n"
     ]
    },
    {
     "name": "stderr",
     "output_type": "stream",
     "text": [
      "C:\\Users\\afcad\\AppData\\Local\\Temp\\ipykernel_1044\\2763569990.py:70: RuntimeWarning: This filename (Sujeto15_MF_processed.fif) does not conform to MNE naming conventions. All epochs files should end with -epo.fif, -epo.fif.gz, _epo.fif or _epo.fif.gz\n",
      "  epochs_MF = mne.read_epochs(file_MF, preload=True)\n"
     ]
    },
    {
     "name": "stdout",
     "output_type": "stream",
     "text": [
      "    Found the data of interest:\n",
      "        t =   -2500.00 ...    2500.00 ms\n",
      "        0 CTF compensation matrices available\n",
      "Not setting metadata\n",
      "141 matching events found\n",
      "No baseline correction applied\n",
      "0 projection items activated\n",
      "Effective window size : 0.250 (s)\n",
      "Effective window size : 0.250 (s)\n",
      "Reading c:\\Users\\afcad\\Downloads\\Sujeto16_R_processed.fif ...\n",
      "    Found the data of interest:\n",
      "        t =   -2500.00 ...    2500.00 ms\n",
      "        0 CTF compensation matrices available\n"
     ]
    },
    {
     "name": "stderr",
     "output_type": "stream",
     "text": [
      "C:\\Users\\afcad\\AppData\\Local\\Temp\\ipykernel_1044\\2763569990.py:69: RuntimeWarning: This filename (Sujeto16_R_processed.fif) does not conform to MNE naming conventions. All epochs files should end with -epo.fif, -epo.fif.gz, _epo.fif or _epo.fif.gz\n",
      "  epochs_R = mne.read_epochs(file_R, preload=True)\n"
     ]
    },
    {
     "name": "stdout",
     "output_type": "stream",
     "text": [
      "Not setting metadata\n",
      "52 matching events found\n",
      "No baseline correction applied\n",
      "0 projection items activated\n",
      "Reading c:\\Users\\afcad\\Downloads\\Sujeto16_MF_processed.fif ...\n"
     ]
    },
    {
     "name": "stderr",
     "output_type": "stream",
     "text": [
      "C:\\Users\\afcad\\AppData\\Local\\Temp\\ipykernel_1044\\2763569990.py:70: RuntimeWarning: This filename (Sujeto16_MF_processed.fif) does not conform to MNE naming conventions. All epochs files should end with -epo.fif, -epo.fif.gz, _epo.fif or _epo.fif.gz\n",
      "  epochs_MF = mne.read_epochs(file_MF, preload=True)\n"
     ]
    },
    {
     "name": "stdout",
     "output_type": "stream",
     "text": [
      "    Found the data of interest:\n",
      "        t =   -2500.00 ...    2500.00 ms\n",
      "        0 CTF compensation matrices available\n",
      "Not setting metadata\n",
      "106 matching events found\n",
      "No baseline correction applied\n",
      "0 projection items activated\n",
      "Effective window size : 0.250 (s)\n",
      "Effective window size : 0.250 (s)\n",
      "Reading c:\\Users\\afcad\\Downloads\\Sujeto17_R_processed.fif ...\n",
      "    Found the data of interest:\n",
      "        t =   -2500.00 ...    2500.00 ms\n",
      "        0 CTF compensation matrices available\n"
     ]
    },
    {
     "name": "stderr",
     "output_type": "stream",
     "text": [
      "C:\\Users\\afcad\\AppData\\Local\\Temp\\ipykernel_1044\\2763569990.py:69: RuntimeWarning: This filename (Sujeto17_R_processed.fif) does not conform to MNE naming conventions. All epochs files should end with -epo.fif, -epo.fif.gz, _epo.fif or _epo.fif.gz\n",
      "  epochs_R = mne.read_epochs(file_R, preload=True)\n"
     ]
    },
    {
     "name": "stdout",
     "output_type": "stream",
     "text": [
      "Not setting metadata\n",
      "72 matching events found\n",
      "No baseline correction applied\n",
      "0 projection items activated\n",
      "Reading c:\\Users\\afcad\\Downloads\\Sujeto17_MF_processed.fif ...\n"
     ]
    },
    {
     "name": "stderr",
     "output_type": "stream",
     "text": [
      "C:\\Users\\afcad\\AppData\\Local\\Temp\\ipykernel_1044\\2763569990.py:70: RuntimeWarning: This filename (Sujeto17_MF_processed.fif) does not conform to MNE naming conventions. All epochs files should end with -epo.fif, -epo.fif.gz, _epo.fif or _epo.fif.gz\n",
      "  epochs_MF = mne.read_epochs(file_MF, preload=True)\n"
     ]
    },
    {
     "name": "stdout",
     "output_type": "stream",
     "text": [
      "    Found the data of interest:\n",
      "        t =   -2500.00 ...    2500.00 ms\n",
      "        0 CTF compensation matrices available\n",
      "Not setting metadata\n",
      "145 matching events found\n",
      "No baseline correction applied\n",
      "0 projection items activated\n",
      "Effective window size : 0.250 (s)\n",
      "Effective window size : 0.250 (s)\n",
      "Reading c:\\Users\\afcad\\Downloads\\Sujeto18_R_processed.fif ...\n",
      "    Found the data of interest:\n",
      "        t =   -2500.00 ...    2500.00 ms\n",
      "        0 CTF compensation matrices available\n"
     ]
    },
    {
     "name": "stderr",
     "output_type": "stream",
     "text": [
      "C:\\Users\\afcad\\AppData\\Local\\Temp\\ipykernel_1044\\2763569990.py:69: RuntimeWarning: This filename (Sujeto18_R_processed.fif) does not conform to MNE naming conventions. All epochs files should end with -epo.fif, -epo.fif.gz, _epo.fif or _epo.fif.gz\n",
      "  epochs_R = mne.read_epochs(file_R, preload=True)\n"
     ]
    },
    {
     "name": "stdout",
     "output_type": "stream",
     "text": [
      "Not setting metadata\n",
      "44 matching events found\n",
      "No baseline correction applied\n",
      "0 projection items activated\n",
      "Reading c:\\Users\\afcad\\Downloads\\Sujeto18_MF_processed.fif ...\n"
     ]
    },
    {
     "name": "stderr",
     "output_type": "stream",
     "text": [
      "C:\\Users\\afcad\\AppData\\Local\\Temp\\ipykernel_1044\\2763569990.py:70: RuntimeWarning: This filename (Sujeto18_MF_processed.fif) does not conform to MNE naming conventions. All epochs files should end with -epo.fif, -epo.fif.gz, _epo.fif or _epo.fif.gz\n",
      "  epochs_MF = mne.read_epochs(file_MF, preload=True)\n"
     ]
    },
    {
     "name": "stdout",
     "output_type": "stream",
     "text": [
      "    Found the data of interest:\n",
      "        t =   -2500.00 ...    2500.00 ms\n",
      "        0 CTF compensation matrices available\n",
      "Not setting metadata\n",
      "137 matching events found\n",
      "No baseline correction applied\n",
      "0 projection items activated\n",
      "Effective window size : 0.250 (s)\n",
      "Effective window size : 0.250 (s)\n",
      "Reading c:\\Users\\afcad\\Downloads\\Sujeto19_R_processed.fif ...\n",
      "    Found the data of interest:\n",
      "        t =   -2500.00 ...    2500.00 ms\n",
      "        0 CTF compensation matrices available\n"
     ]
    },
    {
     "name": "stderr",
     "output_type": "stream",
     "text": [
      "C:\\Users\\afcad\\AppData\\Local\\Temp\\ipykernel_1044\\2763569990.py:69: RuntimeWarning: This filename (Sujeto19_R_processed.fif) does not conform to MNE naming conventions. All epochs files should end with -epo.fif, -epo.fif.gz, _epo.fif or _epo.fif.gz\n",
      "  epochs_R = mne.read_epochs(file_R, preload=True)\n"
     ]
    },
    {
     "name": "stdout",
     "output_type": "stream",
     "text": [
      "Not setting metadata\n",
      "68 matching events found\n",
      "No baseline correction applied\n",
      "0 projection items activated\n",
      "Reading c:\\Users\\afcad\\Downloads\\Sujeto19_MF_processed.fif ...\n"
     ]
    },
    {
     "name": "stderr",
     "output_type": "stream",
     "text": [
      "C:\\Users\\afcad\\AppData\\Local\\Temp\\ipykernel_1044\\2763569990.py:70: RuntimeWarning: This filename (Sujeto19_MF_processed.fif) does not conform to MNE naming conventions. All epochs files should end with -epo.fif, -epo.fif.gz, _epo.fif or _epo.fif.gz\n",
      "  epochs_MF = mne.read_epochs(file_MF, preload=True)\n"
     ]
    },
    {
     "name": "stdout",
     "output_type": "stream",
     "text": [
      "    Found the data of interest:\n",
      "        t =   -2500.00 ...    2500.00 ms\n",
      "        0 CTF compensation matrices available\n",
      "Not setting metadata\n",
      "143 matching events found\n",
      "No baseline correction applied\n",
      "0 projection items activated\n",
      "Effective window size : 0.250 (s)\n",
      "Effective window size : 0.250 (s)\n",
      "Reading c:\\Users\\afcad\\Downloads\\Sujeto20_R_processed.fif ...\n",
      "    Found the data of interest:\n"
     ]
    },
    {
     "name": "stderr",
     "output_type": "stream",
     "text": [
      "C:\\Users\\afcad\\AppData\\Local\\Temp\\ipykernel_1044\\2763569990.py:69: RuntimeWarning: This filename (Sujeto20_R_processed.fif) does not conform to MNE naming conventions. All epochs files should end with -epo.fif, -epo.fif.gz, _epo.fif or _epo.fif.gz\n",
      "  epochs_R = mne.read_epochs(file_R, preload=True)\n"
     ]
    },
    {
     "name": "stdout",
     "output_type": "stream",
     "text": [
      "        t =   -2500.00 ...    2500.00 ms\n",
      "        0 CTF compensation matrices available\n",
      "Not setting metadata\n",
      "71 matching events found\n",
      "No baseline correction applied\n",
      "0 projection items activated\n",
      "Reading c:\\Users\\afcad\\Downloads\\Sujeto20_MF_processed.fif ...\n"
     ]
    },
    {
     "name": "stderr",
     "output_type": "stream",
     "text": [
      "C:\\Users\\afcad\\AppData\\Local\\Temp\\ipykernel_1044\\2763569990.py:70: RuntimeWarning: This filename (Sujeto20_MF_processed.fif) does not conform to MNE naming conventions. All epochs files should end with -epo.fif, -epo.fif.gz, _epo.fif or _epo.fif.gz\n",
      "  epochs_MF = mne.read_epochs(file_MF, preload=True)\n"
     ]
    },
    {
     "name": "stdout",
     "output_type": "stream",
     "text": [
      "    Found the data of interest:\n",
      "        t =   -2500.00 ...    2500.00 ms\n",
      "        0 CTF compensation matrices available\n",
      "Not setting metadata\n",
      "141 matching events found\n",
      "No baseline correction applied\n",
      "0 projection items activated\n",
      "Effective window size : 0.250 (s)\n",
      "Effective window size : 0.250 (s)\n",
      "Reading c:\\Users\\afcad\\Downloads\\Sujeto21_R_processed.fif ...\n",
      "    Found the data of interest:\n",
      "        t =   -2500.00 ...    2500.00 ms\n",
      "        0 CTF compensation matrices available\n"
     ]
    },
    {
     "name": "stderr",
     "output_type": "stream",
     "text": [
      "C:\\Users\\afcad\\AppData\\Local\\Temp\\ipykernel_1044\\2763569990.py:69: RuntimeWarning: This filename (Sujeto21_R_processed.fif) does not conform to MNE naming conventions. All epochs files should end with -epo.fif, -epo.fif.gz, _epo.fif or _epo.fif.gz\n",
      "  epochs_R = mne.read_epochs(file_R, preload=True)\n"
     ]
    },
    {
     "name": "stdout",
     "output_type": "stream",
     "text": [
      "Not setting metadata\n",
      "47 matching events found\n",
      "No baseline correction applied\n",
      "0 projection items activated\n",
      "Reading c:\\Users\\afcad\\Downloads\\Sujeto21_MF_processed.fif ...\n"
     ]
    },
    {
     "name": "stderr",
     "output_type": "stream",
     "text": [
      "C:\\Users\\afcad\\AppData\\Local\\Temp\\ipykernel_1044\\2763569990.py:70: RuntimeWarning: This filename (Sujeto21_MF_processed.fif) does not conform to MNE naming conventions. All epochs files should end with -epo.fif, -epo.fif.gz, _epo.fif or _epo.fif.gz\n",
      "  epochs_MF = mne.read_epochs(file_MF, preload=True)\n"
     ]
    },
    {
     "name": "stdout",
     "output_type": "stream",
     "text": [
      "    Found the data of interest:\n",
      "        t =   -2500.00 ...    2500.00 ms\n",
      "        0 CTF compensation matrices available\n",
      "Not setting metadata\n",
      "106 matching events found\n",
      "No baseline correction applied\n",
      "0 projection items activated\n",
      "Effective window size : 0.250 (s)\n",
      "Effective window size : 0.250 (s)\n",
      "Reading c:\\Users\\afcad\\Downloads\\Sujeto22_R_processed.fif ...\n",
      "    Found the data of interest:\n",
      "        t =   -2500.00 ...    2500.00 ms\n",
      "        0 CTF compensation matrices available\n"
     ]
    },
    {
     "name": "stderr",
     "output_type": "stream",
     "text": [
      "C:\\Users\\afcad\\AppData\\Local\\Temp\\ipykernel_1044\\2763569990.py:69: RuntimeWarning: This filename (Sujeto22_R_processed.fif) does not conform to MNE naming conventions. All epochs files should end with -epo.fif, -epo.fif.gz, _epo.fif or _epo.fif.gz\n",
      "  epochs_R = mne.read_epochs(file_R, preload=True)\n"
     ]
    },
    {
     "name": "stdout",
     "output_type": "stream",
     "text": [
      "Not setting metadata\n",
      "67 matching events found\n",
      "No baseline correction applied\n",
      "0 projection items activated\n",
      "Reading c:\\Users\\afcad\\Downloads\\Sujeto22_MF_processed.fif ...\n"
     ]
    },
    {
     "name": "stderr",
     "output_type": "stream",
     "text": [
      "C:\\Users\\afcad\\AppData\\Local\\Temp\\ipykernel_1044\\2763569990.py:70: RuntimeWarning: This filename (Sujeto22_MF_processed.fif) does not conform to MNE naming conventions. All epochs files should end with -epo.fif, -epo.fif.gz, _epo.fif or _epo.fif.gz\n",
      "  epochs_MF = mne.read_epochs(file_MF, preload=True)\n"
     ]
    },
    {
     "name": "stdout",
     "output_type": "stream",
     "text": [
      "    Found the data of interest:\n",
      "        t =   -2500.00 ...    2500.00 ms\n",
      "        0 CTF compensation matrices available\n",
      "Not setting metadata\n",
      "138 matching events found\n",
      "No baseline correction applied\n",
      "0 projection items activated\n",
      "Effective window size : 0.250 (s)\n",
      "Effective window size : 0.250 (s)\n",
      "Reading c:\\Users\\afcad\\Downloads\\Sujeto23_R_processed.fif ...\n",
      "    Found the data of interest:\n",
      "        t =   -2500.00 ...    2500.00 ms\n",
      "        0 CTF compensation matrices available\n",
      "Not setting metadata\n",
      "11 matching events found\n",
      "No baseline correction applied\n"
     ]
    },
    {
     "name": "stderr",
     "output_type": "stream",
     "text": [
      "C:\\Users\\afcad\\AppData\\Local\\Temp\\ipykernel_1044\\2763569990.py:69: RuntimeWarning: This filename (Sujeto23_R_processed.fif) does not conform to MNE naming conventions. All epochs files should end with -epo.fif, -epo.fif.gz, _epo.fif or _epo.fif.gz\n",
      "  epochs_R = mne.read_epochs(file_R, preload=True)\n"
     ]
    },
    {
     "name": "stdout",
     "output_type": "stream",
     "text": [
      "0 projection items activated\n",
      "Reading c:\\Users\\afcad\\Downloads\\Sujeto23_MF_processed.fif ...\n"
     ]
    },
    {
     "name": "stderr",
     "output_type": "stream",
     "text": [
      "C:\\Users\\afcad\\AppData\\Local\\Temp\\ipykernel_1044\\2763569990.py:70: RuntimeWarning: This filename (Sujeto23_MF_processed.fif) does not conform to MNE naming conventions. All epochs files should end with -epo.fif, -epo.fif.gz, _epo.fif or _epo.fif.gz\n",
      "  epochs_MF = mne.read_epochs(file_MF, preload=True)\n"
     ]
    },
    {
     "name": "stdout",
     "output_type": "stream",
     "text": [
      "    Found the data of interest:\n",
      "        t =   -2500.00 ...    2500.00 ms\n",
      "        0 CTF compensation matrices available\n",
      "Not setting metadata\n",
      "125 matching events found\n",
      "No baseline correction applied\n",
      "0 projection items activated\n",
      "Effective window size : 0.250 (s)\n",
      "Effective window size : 0.250 (s)\n",
      "Reading c:\\Users\\afcad\\Downloads\\Sujeto24_R_processed.fif ...\n",
      "    Found the data of interest:\n",
      "        t =   -2500.00 ...    2500.00 ms\n",
      "        0 CTF compensation matrices available\n"
     ]
    },
    {
     "name": "stderr",
     "output_type": "stream",
     "text": [
      "C:\\Users\\afcad\\AppData\\Local\\Temp\\ipykernel_1044\\2763569990.py:69: RuntimeWarning: This filename (Sujeto24_R_processed.fif) does not conform to MNE naming conventions. All epochs files should end with -epo.fif, -epo.fif.gz, _epo.fif or _epo.fif.gz\n",
      "  epochs_R = mne.read_epochs(file_R, preload=True)\n"
     ]
    },
    {
     "name": "stdout",
     "output_type": "stream",
     "text": [
      "Not setting metadata\n",
      "61 matching events found\n",
      "No baseline correction applied\n",
      "0 projection items activated\n",
      "Reading c:\\Users\\afcad\\Downloads\\Sujeto24_MF_processed.fif ...\n"
     ]
    },
    {
     "name": "stderr",
     "output_type": "stream",
     "text": [
      "C:\\Users\\afcad\\AppData\\Local\\Temp\\ipykernel_1044\\2763569990.py:70: RuntimeWarning: This filename (Sujeto24_MF_processed.fif) does not conform to MNE naming conventions. All epochs files should end with -epo.fif, -epo.fif.gz, _epo.fif or _epo.fif.gz\n",
      "  epochs_MF = mne.read_epochs(file_MF, preload=True)\n"
     ]
    },
    {
     "name": "stdout",
     "output_type": "stream",
     "text": [
      "    Found the data of interest:\n",
      "        t =   -2500.00 ...    2500.00 ms\n",
      "        0 CTF compensation matrices available\n",
      "Not setting metadata\n",
      "132 matching events found\n",
      "No baseline correction applied\n",
      "0 projection items activated\n",
      "Effective window size : 0.250 (s)\n",
      "Effective window size : 0.250 (s)\n",
      "Reading c:\\Users\\afcad\\Downloads\\Sujeto25_R_processed.fif ...\n"
     ]
    },
    {
     "name": "stderr",
     "output_type": "stream",
     "text": [
      "C:\\Users\\afcad\\AppData\\Local\\Temp\\ipykernel_1044\\2763569990.py:69: RuntimeWarning: This filename (Sujeto25_R_processed.fif) does not conform to MNE naming conventions. All epochs files should end with -epo.fif, -epo.fif.gz, _epo.fif or _epo.fif.gz\n",
      "  epochs_R = mne.read_epochs(file_R, preload=True)\n"
     ]
    },
    {
     "name": "stdout",
     "output_type": "stream",
     "text": [
      "    Found the data of interest:\n",
      "        t =   -2500.00 ...    2500.00 ms\n",
      "        0 CTF compensation matrices available\n",
      "Not setting metadata\n",
      "70 matching events found\n",
      "No baseline correction applied\n",
      "0 projection items activated\n",
      "Reading c:\\Users\\afcad\\Downloads\\Sujeto25_MF_processed.fif ...\n"
     ]
    },
    {
     "name": "stderr",
     "output_type": "stream",
     "text": [
      "C:\\Users\\afcad\\AppData\\Local\\Temp\\ipykernel_1044\\2763569990.py:70: RuntimeWarning: This filename (Sujeto25_MF_processed.fif) does not conform to MNE naming conventions. All epochs files should end with -epo.fif, -epo.fif.gz, _epo.fif or _epo.fif.gz\n",
      "  epochs_MF = mne.read_epochs(file_MF, preload=True)\n"
     ]
    },
    {
     "name": "stdout",
     "output_type": "stream",
     "text": [
      "    Found the data of interest:\n",
      "        t =   -2500.00 ...    2500.00 ms\n",
      "        0 CTF compensation matrices available\n",
      "Not setting metadata\n",
      "140 matching events found\n",
      "No baseline correction applied\n",
      "0 projection items activated\n",
      "Effective window size : 0.250 (s)\n",
      "Effective window size : 0.250 (s)\n",
      "Reading c:\\Users\\afcad\\Downloads\\Sujeto26_R_processed.fif ...\n",
      "    Found the data of interest:\n",
      "        t =   -2500.00 ...    2500.00 ms\n",
      "        0 CTF compensation matrices available\n"
     ]
    },
    {
     "name": "stderr",
     "output_type": "stream",
     "text": [
      "C:\\Users\\afcad\\AppData\\Local\\Temp\\ipykernel_1044\\2763569990.py:69: RuntimeWarning: This filename (Sujeto26_R_processed.fif) does not conform to MNE naming conventions. All epochs files should end with -epo.fif, -epo.fif.gz, _epo.fif or _epo.fif.gz\n",
      "  epochs_R = mne.read_epochs(file_R, preload=True)\n"
     ]
    },
    {
     "name": "stdout",
     "output_type": "stream",
     "text": [
      "Not setting metadata\n",
      "63 matching events found\n",
      "No baseline correction applied\n",
      "0 projection items activated\n",
      "Reading c:\\Users\\afcad\\Downloads\\Sujeto26_MF_processed.fif ...\n",
      "    Found the data of interest:\n"
     ]
    },
    {
     "name": "stderr",
     "output_type": "stream",
     "text": [
      "C:\\Users\\afcad\\AppData\\Local\\Temp\\ipykernel_1044\\2763569990.py:70: RuntimeWarning: This filename (Sujeto26_MF_processed.fif) does not conform to MNE naming conventions. All epochs files should end with -epo.fif, -epo.fif.gz, _epo.fif or _epo.fif.gz\n",
      "  epochs_MF = mne.read_epochs(file_MF, preload=True)\n"
     ]
    },
    {
     "name": "stdout",
     "output_type": "stream",
     "text": [
      "        t =   -2500.00 ...    2500.00 ms\n",
      "        0 CTF compensation matrices available\n",
      "Not setting metadata\n",
      "74 matching events found\n",
      "No baseline correction applied\n",
      "0 projection items activated\n",
      "Effective window size : 0.250 (s)\n",
      "Effective window size : 0.250 (s)\n",
      "Reading c:\\Users\\afcad\\Downloads\\Sujeto27_R_processed.fif ...\n",
      "    Found the data of interest:\n",
      "        t =   -2500.00 ...    2500.00 ms\n",
      "        0 CTF compensation matrices available\n"
     ]
    },
    {
     "name": "stderr",
     "output_type": "stream",
     "text": [
      "C:\\Users\\afcad\\AppData\\Local\\Temp\\ipykernel_1044\\2763569990.py:69: RuntimeWarning: This filename (Sujeto27_R_processed.fif) does not conform to MNE naming conventions. All epochs files should end with -epo.fif, -epo.fif.gz, _epo.fif or _epo.fif.gz\n",
      "  epochs_R = mne.read_epochs(file_R, preload=True)\n"
     ]
    },
    {
     "name": "stdout",
     "output_type": "stream",
     "text": [
      "Not setting metadata\n",
      "64 matching events found\n",
      "No baseline correction applied\n",
      "0 projection items activated\n",
      "Reading c:\\Users\\afcad\\Downloads\\Sujeto27_MF_processed.fif ...\n",
      "    Found the data of interest:\n",
      "        t =   -2500.00 ...    2500.00 ms\n",
      "        0 CTF compensation matrices available\n"
     ]
    },
    {
     "name": "stderr",
     "output_type": "stream",
     "text": [
      "C:\\Users\\afcad\\AppData\\Local\\Temp\\ipykernel_1044\\2763569990.py:70: RuntimeWarning: This filename (Sujeto27_MF_processed.fif) does not conform to MNE naming conventions. All epochs files should end with -epo.fif, -epo.fif.gz, _epo.fif or _epo.fif.gz\n",
      "  epochs_MF = mne.read_epochs(file_MF, preload=True)\n"
     ]
    },
    {
     "name": "stdout",
     "output_type": "stream",
     "text": [
      "Not setting metadata\n",
      "70 matching events found\n",
      "No baseline correction applied\n",
      "0 projection items activated\n",
      "Effective window size : 0.250 (s)\n",
      "Effective window size : 0.250 (s)\n",
      "Reading c:\\Users\\afcad\\Downloads\\Sujeto28_R_processed.fif ...\n",
      "    Found the data of interest:\n",
      "        t =   -2500.00 ...    2500.00 ms\n",
      "        0 CTF compensation matrices available\n"
     ]
    },
    {
     "name": "stderr",
     "output_type": "stream",
     "text": [
      "C:\\Users\\afcad\\AppData\\Local\\Temp\\ipykernel_1044\\2763569990.py:69: RuntimeWarning: This filename (Sujeto28_R_processed.fif) does not conform to MNE naming conventions. All epochs files should end with -epo.fif, -epo.fif.gz, _epo.fif or _epo.fif.gz\n",
      "  epochs_R = mne.read_epochs(file_R, preload=True)\n"
     ]
    },
    {
     "name": "stdout",
     "output_type": "stream",
     "text": [
      "Not setting metadata\n",
      "55 matching events found\n",
      "No baseline correction applied\n",
      "0 projection items activated\n",
      "Reading c:\\Users\\afcad\\Downloads\\Sujeto28_MF_processed.fif ...\n"
     ]
    },
    {
     "name": "stderr",
     "output_type": "stream",
     "text": [
      "C:\\Users\\afcad\\AppData\\Local\\Temp\\ipykernel_1044\\2763569990.py:70: RuntimeWarning: This filename (Sujeto28_MF_processed.fif) does not conform to MNE naming conventions. All epochs files should end with -epo.fif, -epo.fif.gz, _epo.fif or _epo.fif.gz\n",
      "  epochs_MF = mne.read_epochs(file_MF, preload=True)\n"
     ]
    },
    {
     "name": "stdout",
     "output_type": "stream",
     "text": [
      "    Found the data of interest:\n",
      "        t =   -2500.00 ...    2500.00 ms\n",
      "        0 CTF compensation matrices available\n",
      "Not setting metadata\n",
      "114 matching events found\n",
      "No baseline correction applied\n",
      "0 projection items activated\n",
      "Effective window size : 0.250 (s)\n",
      "Effective window size : 0.250 (s)\n",
      "Reading c:\\Users\\afcad\\Downloads\\Sujeto29_R_processed.fif ...\n",
      "    Found the data of interest:\n",
      "        t =   -2500.00 ...    2500.00 ms\n",
      "        0 CTF compensation matrices available\n"
     ]
    },
    {
     "name": "stderr",
     "output_type": "stream",
     "text": [
      "C:\\Users\\afcad\\AppData\\Local\\Temp\\ipykernel_1044\\2763569990.py:69: RuntimeWarning: This filename (Sujeto29_R_processed.fif) does not conform to MNE naming conventions. All epochs files should end with -epo.fif, -epo.fif.gz, _epo.fif or _epo.fif.gz\n",
      "  epochs_R = mne.read_epochs(file_R, preload=True)\n"
     ]
    },
    {
     "name": "stdout",
     "output_type": "stream",
     "text": [
      "Not setting metadata\n",
      "68 matching events found\n",
      "No baseline correction applied\n",
      "0 projection items activated\n",
      "Reading c:\\Users\\afcad\\Downloads\\Sujeto29_MF_processed.fif ...\n"
     ]
    },
    {
     "name": "stderr",
     "output_type": "stream",
     "text": [
      "C:\\Users\\afcad\\AppData\\Local\\Temp\\ipykernel_1044\\2763569990.py:70: RuntimeWarning: This filename (Sujeto29_MF_processed.fif) does not conform to MNE naming conventions. All epochs files should end with -epo.fif, -epo.fif.gz, _epo.fif or _epo.fif.gz\n",
      "  epochs_MF = mne.read_epochs(file_MF, preload=True)\n"
     ]
    },
    {
     "name": "stdout",
     "output_type": "stream",
     "text": [
      "    Found the data of interest:\n",
      "        t =   -2500.00 ...    2500.00 ms\n",
      "        0 CTF compensation matrices available\n",
      "Not setting metadata\n",
      "145 matching events found\n",
      "No baseline correction applied\n",
      "0 projection items activated\n",
      "Effective window size : 0.250 (s)\n",
      "Effective window size : 0.250 (s)\n",
      "Reading c:\\Users\\afcad\\Downloads\\Sujeto30_R_processed.fif ...\n",
      "    Found the data of interest:\n",
      "        t =   -2500.00 ...    2500.00 ms\n",
      "        0 CTF compensation matrices available\n"
     ]
    },
    {
     "name": "stderr",
     "output_type": "stream",
     "text": [
      "C:\\Users\\afcad\\AppData\\Local\\Temp\\ipykernel_1044\\2763569990.py:69: RuntimeWarning: This filename (Sujeto30_R_processed.fif) does not conform to MNE naming conventions. All epochs files should end with -epo.fif, -epo.fif.gz, _epo.fif or _epo.fif.gz\n",
      "  epochs_R = mne.read_epochs(file_R, preload=True)\n"
     ]
    },
    {
     "name": "stdout",
     "output_type": "stream",
     "text": [
      "Not setting metadata\n",
      "69 matching events found\n",
      "No baseline correction applied\n",
      "0 projection items activated\n",
      "Reading c:\\Users\\afcad\\Downloads\\Sujeto30_MF_processed.fif ...\n"
     ]
    },
    {
     "name": "stderr",
     "output_type": "stream",
     "text": [
      "C:\\Users\\afcad\\AppData\\Local\\Temp\\ipykernel_1044\\2763569990.py:70: RuntimeWarning: This filename (Sujeto30_MF_processed.fif) does not conform to MNE naming conventions. All epochs files should end with -epo.fif, -epo.fif.gz, _epo.fif or _epo.fif.gz\n",
      "  epochs_MF = mne.read_epochs(file_MF, preload=True)\n"
     ]
    },
    {
     "name": "stdout",
     "output_type": "stream",
     "text": [
      "    Found the data of interest:\n",
      "        t =   -2500.00 ...    2500.00 ms\n",
      "        0 CTF compensation matrices available\n",
      "Not setting metadata\n",
      "124 matching events found\n",
      "No baseline correction applied\n",
      "0 projection items activated\n",
      "Effective window size : 0.250 (s)\n",
      "Effective window size : 0.250 (s)\n",
      "Reading c:\\Users\\afcad\\Downloads\\Sujeto31_R_processed.fif ...\n",
      "    Found the data of interest:\n",
      "        t =   -2500.00 ...    2500.00 ms\n",
      "        0 CTF compensation matrices available\n"
     ]
    },
    {
     "name": "stderr",
     "output_type": "stream",
     "text": [
      "C:\\Users\\afcad\\AppData\\Local\\Temp\\ipykernel_1044\\2763569990.py:69: RuntimeWarning: This filename (Sujeto31_R_processed.fif) does not conform to MNE naming conventions. All epochs files should end with -epo.fif, -epo.fif.gz, _epo.fif or _epo.fif.gz\n",
      "  epochs_R = mne.read_epochs(file_R, preload=True)\n"
     ]
    },
    {
     "name": "stdout",
     "output_type": "stream",
     "text": [
      "Not setting metadata\n",
      "61 matching events found\n",
      "No baseline correction applied\n",
      "0 projection items activated\n",
      "Reading c:\\Users\\afcad\\Downloads\\Sujeto31_MF_processed.fif ...\n"
     ]
    },
    {
     "name": "stderr",
     "output_type": "stream",
     "text": [
      "C:\\Users\\afcad\\AppData\\Local\\Temp\\ipykernel_1044\\2763569990.py:70: RuntimeWarning: This filename (Sujeto31_MF_processed.fif) does not conform to MNE naming conventions. All epochs files should end with -epo.fif, -epo.fif.gz, _epo.fif or _epo.fif.gz\n",
      "  epochs_MF = mne.read_epochs(file_MF, preload=True)\n"
     ]
    },
    {
     "name": "stdout",
     "output_type": "stream",
     "text": [
      "    Found the data of interest:\n",
      "        t =   -2500.00 ...    2500.00 ms\n",
      "        0 CTF compensation matrices available\n",
      "Not setting metadata\n",
      "140 matching events found\n",
      "No baseline correction applied\n",
      "0 projection items activated\n",
      "Effective window size : 0.250 (s)\n",
      "Effective window size : 0.250 (s)\n",
      "Reading c:\\Users\\afcad\\Downloads\\Sujeto32_R_processed.fif ...\n"
     ]
    },
    {
     "name": "stderr",
     "output_type": "stream",
     "text": [
      "C:\\Users\\afcad\\AppData\\Local\\Temp\\ipykernel_1044\\2763569990.py:69: RuntimeWarning: This filename (Sujeto32_R_processed.fif) does not conform to MNE naming conventions. All epochs files should end with -epo.fif, -epo.fif.gz, _epo.fif or _epo.fif.gz\n",
      "  epochs_R = mne.read_epochs(file_R, preload=True)\n"
     ]
    },
    {
     "name": "stdout",
     "output_type": "stream",
     "text": [
      "    Found the data of interest:\n",
      "        t =   -2500.00 ...    2500.00 ms\n",
      "        0 CTF compensation matrices available\n",
      "Not setting metadata\n",
      "70 matching events found\n",
      "No baseline correction applied\n",
      "0 projection items activated\n",
      "Reading c:\\Users\\afcad\\Downloads\\Sujeto32_MF_processed.fif ...\n"
     ]
    },
    {
     "name": "stderr",
     "output_type": "stream",
     "text": [
      "C:\\Users\\afcad\\AppData\\Local\\Temp\\ipykernel_1044\\2763569990.py:70: RuntimeWarning: This filename (Sujeto32_MF_processed.fif) does not conform to MNE naming conventions. All epochs files should end with -epo.fif, -epo.fif.gz, _epo.fif or _epo.fif.gz\n",
      "  epochs_MF = mne.read_epochs(file_MF, preload=True)\n"
     ]
    },
    {
     "name": "stdout",
     "output_type": "stream",
     "text": [
      "    Found the data of interest:\n",
      "        t =   -2500.00 ...    2500.00 ms\n",
      "        0 CTF compensation matrices available\n",
      "Not setting metadata\n",
      "127 matching events found\n",
      "No baseline correction applied\n",
      "0 projection items activated\n",
      "Effective window size : 0.250 (s)\n",
      "Effective window size : 0.250 (s)\n",
      "Reading c:\\Users\\afcad\\Downloads\\Sujeto36_R_processed.fif ...\n",
      "    Found the data of interest:\n",
      "        t =   -2500.00 ...    2500.00 ms\n",
      "        0 CTF compensation matrices available\n"
     ]
    },
    {
     "name": "stderr",
     "output_type": "stream",
     "text": [
      "C:\\Users\\afcad\\AppData\\Local\\Temp\\ipykernel_1044\\2763569990.py:69: RuntimeWarning: This filename (Sujeto36_R_processed.fif) does not conform to MNE naming conventions. All epochs files should end with -epo.fif, -epo.fif.gz, _epo.fif or _epo.fif.gz\n",
      "  epochs_R = mne.read_epochs(file_R, preload=True)\n"
     ]
    },
    {
     "name": "stdout",
     "output_type": "stream",
     "text": [
      "Not setting metadata\n",
      "61 matching events found\n",
      "No baseline correction applied\n",
      "0 projection items activated\n",
      "Reading c:\\Users\\afcad\\Downloads\\Sujeto36_MF_processed.fif ...\n"
     ]
    },
    {
     "name": "stderr",
     "output_type": "stream",
     "text": [
      "C:\\Users\\afcad\\AppData\\Local\\Temp\\ipykernel_1044\\2763569990.py:70: RuntimeWarning: This filename (Sujeto36_MF_processed.fif) does not conform to MNE naming conventions. All epochs files should end with -epo.fif, -epo.fif.gz, _epo.fif or _epo.fif.gz\n",
      "  epochs_MF = mne.read_epochs(file_MF, preload=True)\n"
     ]
    },
    {
     "name": "stdout",
     "output_type": "stream",
     "text": [
      "    Found the data of interest:\n",
      "        t =   -2500.00 ...    2500.00 ms\n",
      "        0 CTF compensation matrices available\n",
      "Not setting metadata\n",
      "133 matching events found\n",
      "No baseline correction applied\n",
      "0 projection items activated\n",
      "Effective window size : 0.250 (s)\n",
      "Effective window size : 0.250 (s)\n",
      "Reading c:\\Users\\afcad\\Downloads\\Sujeto37_R_processed.fif ...\n",
      "    Found the data of interest:\n"
     ]
    },
    {
     "name": "stderr",
     "output_type": "stream",
     "text": [
      "C:\\Users\\afcad\\AppData\\Local\\Temp\\ipykernel_1044\\2763569990.py:69: RuntimeWarning: This filename (Sujeto37_R_processed.fif) does not conform to MNE naming conventions. All epochs files should end with -epo.fif, -epo.fif.gz, _epo.fif or _epo.fif.gz\n",
      "  epochs_R = mne.read_epochs(file_R, preload=True)\n"
     ]
    },
    {
     "name": "stdout",
     "output_type": "stream",
     "text": [
      "        t =   -2500.00 ...    2500.00 ms\n",
      "        0 CTF compensation matrices available\n",
      "Not setting metadata\n",
      "71 matching events found\n",
      "No baseline correction applied\n",
      "0 projection items activated\n",
      "Reading c:\\Users\\afcad\\Downloads\\Sujeto37_MF_processed.fif ...\n"
     ]
    },
    {
     "name": "stderr",
     "output_type": "stream",
     "text": [
      "C:\\Users\\afcad\\AppData\\Local\\Temp\\ipykernel_1044\\2763569990.py:70: RuntimeWarning: This filename (Sujeto37_MF_processed.fif) does not conform to MNE naming conventions. All epochs files should end with -epo.fif, -epo.fif.gz, _epo.fif or _epo.fif.gz\n",
      "  epochs_MF = mne.read_epochs(file_MF, preload=True)\n"
     ]
    },
    {
     "name": "stdout",
     "output_type": "stream",
     "text": [
      "    Found the data of interest:\n",
      "        t =   -2500.00 ...    2500.00 ms\n",
      "        0 CTF compensation matrices available\n",
      "Not setting metadata\n",
      "141 matching events found\n",
      "No baseline correction applied\n",
      "0 projection items activated\n",
      "Effective window size : 0.250 (s)\n",
      "Effective window size : 0.250 (s)\n",
      "Resting - Delta (0.5–4 Hz): 0 significant channels (p < 0.05)\n",
      "Mindfulness - Delta (0.5–4 Hz): 0 significant channels (p < 0.05)\n",
      "Difference (MF - R) - Delta (0.5–4 Hz): 25 significant channels (p < 0.05)\n",
      "Reading c:\\Users\\afcad\\Downloads\\Sujeto1_R_processed.fif ...\n",
      "    Found the data of interest:\n",
      "        t =   -2500.00 ...    2500.00 ms\n",
      "        0 CTF compensation matrices available\n"
     ]
    },
    {
     "name": "stderr",
     "output_type": "stream",
     "text": [
      "C:\\Users\\afcad\\AppData\\Local\\Temp\\ipykernel_1044\\2763569990.py:69: RuntimeWarning: This filename (Sujeto1_R_processed.fif) does not conform to MNE naming conventions. All epochs files should end with -epo.fif, -epo.fif.gz, _epo.fif or _epo.fif.gz\n",
      "  epochs_R = mne.read_epochs(file_R, preload=True)\n"
     ]
    },
    {
     "name": "stdout",
     "output_type": "stream",
     "text": [
      "Not setting metadata\n",
      "68 matching events found\n",
      "No baseline correction applied\n",
      "0 projection items activated\n",
      "Reading c:\\Users\\afcad\\Downloads\\Sujeto1_MF_processed.fif ...\n"
     ]
    },
    {
     "name": "stderr",
     "output_type": "stream",
     "text": [
      "C:\\Users\\afcad\\AppData\\Local\\Temp\\ipykernel_1044\\2763569990.py:70: RuntimeWarning: This filename (Sujeto1_MF_processed.fif) does not conform to MNE naming conventions. All epochs files should end with -epo.fif, -epo.fif.gz, _epo.fif or _epo.fif.gz\n",
      "  epochs_MF = mne.read_epochs(file_MF, preload=True)\n"
     ]
    },
    {
     "name": "stdout",
     "output_type": "stream",
     "text": [
      "    Found the data of interest:\n",
      "        t =   -2500.00 ...    2500.00 ms\n",
      "        0 CTF compensation matrices available\n",
      "Not setting metadata\n",
      "145 matching events found\n",
      "No baseline correction applied\n",
      "0 projection items activated\n",
      "Effective window size : 0.250 (s)\n",
      "Effective window size : 0.250 (s)\n",
      "Reading c:\\Users\\afcad\\Downloads\\Sujeto2_R_processed.fif ...\n",
      "    Found the data of interest:\n",
      "        t =   -2500.00 ...    2500.00 ms\n",
      "        0 CTF compensation matrices available\n"
     ]
    },
    {
     "name": "stderr",
     "output_type": "stream",
     "text": [
      "C:\\Users\\afcad\\AppData\\Local\\Temp\\ipykernel_1044\\2763569990.py:69: RuntimeWarning: This filename (Sujeto2_R_processed.fif) does not conform to MNE naming conventions. All epochs files should end with -epo.fif, -epo.fif.gz, _epo.fif or _epo.fif.gz\n",
      "  epochs_R = mne.read_epochs(file_R, preload=True)\n"
     ]
    },
    {
     "name": "stdout",
     "output_type": "stream",
     "text": [
      "Not setting metadata\n",
      "58 matching events found\n",
      "No baseline correction applied\n",
      "0 projection items activated\n",
      "Reading c:\\Users\\afcad\\Downloads\\Sujeto2_MF_processed.fif ...\n"
     ]
    },
    {
     "name": "stderr",
     "output_type": "stream",
     "text": [
      "C:\\Users\\afcad\\AppData\\Local\\Temp\\ipykernel_1044\\2763569990.py:70: RuntimeWarning: This filename (Sujeto2_MF_processed.fif) does not conform to MNE naming conventions. All epochs files should end with -epo.fif, -epo.fif.gz, _epo.fif or _epo.fif.gz\n",
      "  epochs_MF = mne.read_epochs(file_MF, preload=True)\n"
     ]
    },
    {
     "name": "stdout",
     "output_type": "stream",
     "text": [
      "    Found the data of interest:\n",
      "        t =   -2500.00 ...    2500.00 ms\n",
      "        0 CTF compensation matrices available\n",
      "Not setting metadata\n",
      "138 matching events found\n",
      "No baseline correction applied\n",
      "0 projection items activated\n",
      "Effective window size : 0.250 (s)\n",
      "Effective window size : 0.250 (s)\n",
      "Reading c:\\Users\\afcad\\Downloads\\Sujeto3_R_processed.fif ...\n",
      "    Found the data of interest:\n",
      "        t =   -2500.00 ...    2500.00 ms\n",
      "        0 CTF compensation matrices available\n"
     ]
    },
    {
     "name": "stderr",
     "output_type": "stream",
     "text": [
      "C:\\Users\\afcad\\AppData\\Local\\Temp\\ipykernel_1044\\2763569990.py:69: RuntimeWarning: This filename (Sujeto3_R_processed.fif) does not conform to MNE naming conventions. All epochs files should end with -epo.fif, -epo.fif.gz, _epo.fif or _epo.fif.gz\n",
      "  epochs_R = mne.read_epochs(file_R, preload=True)\n"
     ]
    },
    {
     "name": "stdout",
     "output_type": "stream",
     "text": [
      "Not setting metadata\n",
      "61 matching events found\n",
      "No baseline correction applied\n",
      "0 projection items activated\n",
      "Reading c:\\Users\\afcad\\Downloads\\Sujeto3_MF_processed.fif ...\n"
     ]
    },
    {
     "name": "stderr",
     "output_type": "stream",
     "text": [
      "C:\\Users\\afcad\\AppData\\Local\\Temp\\ipykernel_1044\\2763569990.py:70: RuntimeWarning: This filename (Sujeto3_MF_processed.fif) does not conform to MNE naming conventions. All epochs files should end with -epo.fif, -epo.fif.gz, _epo.fif or _epo.fif.gz\n",
      "  epochs_MF = mne.read_epochs(file_MF, preload=True)\n"
     ]
    },
    {
     "name": "stdout",
     "output_type": "stream",
     "text": [
      "    Found the data of interest:\n",
      "        t =   -2500.00 ...    2500.00 ms\n",
      "        0 CTF compensation matrices available\n",
      "Not setting metadata\n",
      "131 matching events found\n",
      "No baseline correction applied\n",
      "0 projection items activated\n",
      "Effective window size : 0.250 (s)\n",
      "Effective window size : 0.250 (s)\n",
      "Reading c:\\Users\\afcad\\Downloads\\Sujeto4_R_processed.fif ...\n",
      "    Found the data of interest:\n",
      "        t =   -2500.00 ...    2500.00 ms\n",
      "        0 CTF compensation matrices available\n"
     ]
    },
    {
     "name": "stderr",
     "output_type": "stream",
     "text": [
      "C:\\Users\\afcad\\AppData\\Local\\Temp\\ipykernel_1044\\2763569990.py:69: RuntimeWarning: This filename (Sujeto4_R_processed.fif) does not conform to MNE naming conventions. All epochs files should end with -epo.fif, -epo.fif.gz, _epo.fif or _epo.fif.gz\n",
      "  epochs_R = mne.read_epochs(file_R, preload=True)\n"
     ]
    },
    {
     "name": "stdout",
     "output_type": "stream",
     "text": [
      "Not setting metadata\n",
      "60 matching events found\n",
      "No baseline correction applied\n",
      "0 projection items activated\n",
      "Reading c:\\Users\\afcad\\Downloads\\Sujeto4_MF_processed.fif ...\n"
     ]
    },
    {
     "name": "stderr",
     "output_type": "stream",
     "text": [
      "C:\\Users\\afcad\\AppData\\Local\\Temp\\ipykernel_1044\\2763569990.py:70: RuntimeWarning: This filename (Sujeto4_MF_processed.fif) does not conform to MNE naming conventions. All epochs files should end with -epo.fif, -epo.fif.gz, _epo.fif or _epo.fif.gz\n",
      "  epochs_MF = mne.read_epochs(file_MF, preload=True)\n"
     ]
    },
    {
     "name": "stdout",
     "output_type": "stream",
     "text": [
      "    Found the data of interest:\n",
      "        t =   -2500.00 ...    2500.00 ms\n",
      "        0 CTF compensation matrices available\n",
      "Not setting metadata\n",
      "143 matching events found\n",
      "No baseline correction applied\n",
      "0 projection items activated\n",
      "Effective window size : 0.250 (s)\n",
      "Effective window size : 0.250 (s)\n",
      "Reading c:\\Users\\afcad\\Downloads\\Sujeto5_R_processed.fif ...\n",
      "    Found the data of interest:\n",
      "        t =   -2500.00 ...    2500.00 ms\n",
      "        0 CTF compensation matrices available\n"
     ]
    },
    {
     "name": "stderr",
     "output_type": "stream",
     "text": [
      "C:\\Users\\afcad\\AppData\\Local\\Temp\\ipykernel_1044\\2763569990.py:69: RuntimeWarning: This filename (Sujeto5_R_processed.fif) does not conform to MNE naming conventions. All epochs files should end with -epo.fif, -epo.fif.gz, _epo.fif or _epo.fif.gz\n",
      "  epochs_R = mne.read_epochs(file_R, preload=True)\n"
     ]
    },
    {
     "name": "stdout",
     "output_type": "stream",
     "text": [
      "Not setting metadata\n",
      "63 matching events found\n",
      "No baseline correction applied\n",
      "0 projection items activated\n",
      "Reading c:\\Users\\afcad\\Downloads\\Sujeto5_MF_processed.fif ...\n",
      "    Found the data of interest:\n"
     ]
    },
    {
     "name": "stderr",
     "output_type": "stream",
     "text": [
      "C:\\Users\\afcad\\AppData\\Local\\Temp\\ipykernel_1044\\2763569990.py:70: RuntimeWarning: This filename (Sujeto5_MF_processed.fif) does not conform to MNE naming conventions. All epochs files should end with -epo.fif, -epo.fif.gz, _epo.fif or _epo.fif.gz\n",
      "  epochs_MF = mne.read_epochs(file_MF, preload=True)\n"
     ]
    },
    {
     "name": "stdout",
     "output_type": "stream",
     "text": [
      "        t =   -2500.00 ...    2500.00 ms\n",
      "        0 CTF compensation matrices available\n",
      "Not setting metadata\n",
      "141 matching events found\n",
      "No baseline correction applied\n",
      "0 projection items activated\n",
      "Effective window size : 0.250 (s)\n",
      "Effective window size : 0.250 (s)\n",
      "Reading c:\\Users\\afcad\\Downloads\\Sujeto6_R_processed.fif ...\n",
      "    Found the data of interest:\n",
      "        t =   -2500.00 ...    2500.00 ms\n",
      "        0 CTF compensation matrices available\n"
     ]
    },
    {
     "name": "stderr",
     "output_type": "stream",
     "text": [
      "C:\\Users\\afcad\\AppData\\Local\\Temp\\ipykernel_1044\\2763569990.py:69: RuntimeWarning: This filename (Sujeto6_R_processed.fif) does not conform to MNE naming conventions. All epochs files should end with -epo.fif, -epo.fif.gz, _epo.fif or _epo.fif.gz\n",
      "  epochs_R = mne.read_epochs(file_R, preload=True)\n"
     ]
    },
    {
     "name": "stdout",
     "output_type": "stream",
     "text": [
      "Not setting metadata\n",
      "72 matching events found\n",
      "No baseline correction applied\n",
      "0 projection items activated\n",
      "Reading c:\\Users\\afcad\\Downloads\\Sujeto6_MF_processed.fif ...\n",
      "    Found the data of interest:\n",
      "        t =   -2500.00 ...    2500.00 ms\n",
      "        0 CTF compensation matrices available\n"
     ]
    },
    {
     "name": "stderr",
     "output_type": "stream",
     "text": [
      "C:\\Users\\afcad\\AppData\\Local\\Temp\\ipykernel_1044\\2763569990.py:70: RuntimeWarning: This filename (Sujeto6_MF_processed.fif) does not conform to MNE naming conventions. All epochs files should end with -epo.fif, -epo.fif.gz, _epo.fif or _epo.fif.gz\n",
      "  epochs_MF = mne.read_epochs(file_MF, preload=True)\n"
     ]
    },
    {
     "name": "stdout",
     "output_type": "stream",
     "text": [
      "Not setting metadata\n",
      "107 matching events found\n",
      "No baseline correction applied\n",
      "0 projection items activated\n",
      "Effective window size : 0.250 (s)\n",
      "Effective window size : 0.250 (s)\n",
      "Reading c:\\Users\\afcad\\Downloads\\Sujeto7_R_processed.fif ...\n",
      "    Found the data of interest:\n",
      "        t =   -2500.00 ...    2500.00 ms\n",
      "        0 CTF compensation matrices available\n"
     ]
    },
    {
     "name": "stderr",
     "output_type": "stream",
     "text": [
      "C:\\Users\\afcad\\AppData\\Local\\Temp\\ipykernel_1044\\2763569990.py:69: RuntimeWarning: This filename (Sujeto7_R_processed.fif) does not conform to MNE naming conventions. All epochs files should end with -epo.fif, -epo.fif.gz, _epo.fif or _epo.fif.gz\n",
      "  epochs_R = mne.read_epochs(file_R, preload=True)\n"
     ]
    },
    {
     "name": "stdout",
     "output_type": "stream",
     "text": [
      "Not setting metadata\n",
      "55 matching events found\n",
      "No baseline correction applied\n",
      "0 projection items activated\n",
      "Reading c:\\Users\\afcad\\Downloads\\Sujeto7_MF_processed.fif ...\n"
     ]
    },
    {
     "name": "stderr",
     "output_type": "stream",
     "text": [
      "C:\\Users\\afcad\\AppData\\Local\\Temp\\ipykernel_1044\\2763569990.py:70: RuntimeWarning: This filename (Sujeto7_MF_processed.fif) does not conform to MNE naming conventions. All epochs files should end with -epo.fif, -epo.fif.gz, _epo.fif or _epo.fif.gz\n",
      "  epochs_MF = mne.read_epochs(file_MF, preload=True)\n"
     ]
    },
    {
     "name": "stdout",
     "output_type": "stream",
     "text": [
      "    Found the data of interest:\n",
      "        t =   -2500.00 ...    2500.00 ms\n",
      "        0 CTF compensation matrices available\n",
      "Not setting metadata\n",
      "130 matching events found\n",
      "No baseline correction applied\n",
      "0 projection items activated\n",
      "Effective window size : 0.250 (s)\n",
      "Effective window size : 0.250 (s)\n",
      "Reading c:\\Users\\afcad\\Downloads\\Sujeto8_R_processed.fif ...\n",
      "    Found the data of interest:\n",
      "        t =   -2500.00 ...    2500.00 ms\n",
      "        0 CTF compensation matrices available\n"
     ]
    },
    {
     "name": "stderr",
     "output_type": "stream",
     "text": [
      "C:\\Users\\afcad\\AppData\\Local\\Temp\\ipykernel_1044\\2763569990.py:69: RuntimeWarning: This filename (Sujeto8_R_processed.fif) does not conform to MNE naming conventions. All epochs files should end with -epo.fif, -epo.fif.gz, _epo.fif or _epo.fif.gz\n",
      "  epochs_R = mne.read_epochs(file_R, preload=True)\n"
     ]
    },
    {
     "name": "stdout",
     "output_type": "stream",
     "text": [
      "Not setting metadata\n",
      "63 matching events found\n",
      "No baseline correction applied\n",
      "0 projection items activated\n",
      "Reading c:\\Users\\afcad\\Downloads\\Sujeto8_MF_processed.fif ...\n"
     ]
    },
    {
     "name": "stderr",
     "output_type": "stream",
     "text": [
      "C:\\Users\\afcad\\AppData\\Local\\Temp\\ipykernel_1044\\2763569990.py:70: RuntimeWarning: This filename (Sujeto8_MF_processed.fif) does not conform to MNE naming conventions. All epochs files should end with -epo.fif, -epo.fif.gz, _epo.fif or _epo.fif.gz\n",
      "  epochs_MF = mne.read_epochs(file_MF, preload=True)\n"
     ]
    },
    {
     "name": "stdout",
     "output_type": "stream",
     "text": [
      "    Found the data of interest:\n",
      "        t =   -2500.00 ...    2500.00 ms\n",
      "        0 CTF compensation matrices available\n",
      "Not setting metadata\n",
      "138 matching events found\n",
      "No baseline correction applied\n",
      "0 projection items activated\n",
      "Effective window size : 0.250 (s)\n",
      "Effective window size : 0.250 (s)\n",
      "Reading c:\\Users\\afcad\\Downloads\\Sujeto9_R_processed.fif ...\n",
      "    Found the data of interest:\n",
      "        t =   -2500.00 ...    2500.00 ms\n",
      "        0 CTF compensation matrices available\n"
     ]
    },
    {
     "name": "stderr",
     "output_type": "stream",
     "text": [
      "C:\\Users\\afcad\\AppData\\Local\\Temp\\ipykernel_1044\\2763569990.py:69: RuntimeWarning: This filename (Sujeto9_R_processed.fif) does not conform to MNE naming conventions. All epochs files should end with -epo.fif, -epo.fif.gz, _epo.fif or _epo.fif.gz\n",
      "  epochs_R = mne.read_epochs(file_R, preload=True)\n"
     ]
    },
    {
     "name": "stdout",
     "output_type": "stream",
     "text": [
      "Not setting metadata\n",
      "60 matching events found\n",
      "No baseline correction applied\n",
      "0 projection items activated\n",
      "Reading c:\\Users\\afcad\\Downloads\\Sujeto9_MF_processed.fif ...\n"
     ]
    },
    {
     "name": "stderr",
     "output_type": "stream",
     "text": [
      "C:\\Users\\afcad\\AppData\\Local\\Temp\\ipykernel_1044\\2763569990.py:70: RuntimeWarning: This filename (Sujeto9_MF_processed.fif) does not conform to MNE naming conventions. All epochs files should end with -epo.fif, -epo.fif.gz, _epo.fif or _epo.fif.gz\n",
      "  epochs_MF = mne.read_epochs(file_MF, preload=True)\n"
     ]
    },
    {
     "name": "stdout",
     "output_type": "stream",
     "text": [
      "    Found the data of interest:\n",
      "        t =   -2500.00 ...    2500.00 ms\n",
      "        0 CTF compensation matrices available\n",
      "Not setting metadata\n",
      "143 matching events found\n",
      "No baseline correction applied\n",
      "0 projection items activated\n",
      "Effective window size : 0.250 (s)\n",
      "Effective window size : 0.250 (s)\n",
      "Reading c:\\Users\\afcad\\Downloads\\Sujeto10_R_processed.fif ...\n",
      "    Found the data of interest:\n",
      "        t =   -2500.00 ...    2500.00 ms\n",
      "        0 CTF compensation matrices available\n"
     ]
    },
    {
     "name": "stderr",
     "output_type": "stream",
     "text": [
      "C:\\Users\\afcad\\AppData\\Local\\Temp\\ipykernel_1044\\2763569990.py:69: RuntimeWarning: This filename (Sujeto10_R_processed.fif) does not conform to MNE naming conventions. All epochs files should end with -epo.fif, -epo.fif.gz, _epo.fif or _epo.fif.gz\n",
      "  epochs_R = mne.read_epochs(file_R, preload=True)\n"
     ]
    },
    {
     "name": "stdout",
     "output_type": "stream",
     "text": [
      "Not setting metadata\n",
      "64 matching events found\n",
      "No baseline correction applied\n",
      "0 projection items activated\n",
      "Reading c:\\Users\\afcad\\Downloads\\Sujeto10_MF_processed.fif ...\n"
     ]
    },
    {
     "name": "stderr",
     "output_type": "stream",
     "text": [
      "C:\\Users\\afcad\\AppData\\Local\\Temp\\ipykernel_1044\\2763569990.py:70: RuntimeWarning: This filename (Sujeto10_MF_processed.fif) does not conform to MNE naming conventions. All epochs files should end with -epo.fif, -epo.fif.gz, _epo.fif or _epo.fif.gz\n",
      "  epochs_MF = mne.read_epochs(file_MF, preload=True)\n"
     ]
    },
    {
     "name": "stdout",
     "output_type": "stream",
     "text": [
      "    Found the data of interest:\n",
      "        t =   -2500.00 ...    2500.00 ms\n",
      "        0 CTF compensation matrices available\n",
      "Not setting metadata\n",
      "137 matching events found\n",
      "No baseline correction applied\n",
      "0 projection items activated\n",
      "Effective window size : 0.250 (s)\n",
      "Effective window size : 0.250 (s)\n",
      "Reading c:\\Users\\afcad\\Downloads\\Sujeto11_R_processed.fif ...\n",
      "    Found the data of interest:\n",
      "        t =   -2500.00 ...    2500.00 ms\n",
      "        0 CTF compensation matrices available\n"
     ]
    },
    {
     "name": "stderr",
     "output_type": "stream",
     "text": [
      "C:\\Users\\afcad\\AppData\\Local\\Temp\\ipykernel_1044\\2763569990.py:69: RuntimeWarning: This filename (Sujeto11_R_processed.fif) does not conform to MNE naming conventions. All epochs files should end with -epo.fif, -epo.fif.gz, _epo.fif or _epo.fif.gz\n",
      "  epochs_R = mne.read_epochs(file_R, preload=True)\n"
     ]
    },
    {
     "name": "stdout",
     "output_type": "stream",
     "text": [
      "Not setting metadata\n",
      "53 matching events found\n",
      "No baseline correction applied\n",
      "0 projection items activated\n",
      "Reading c:\\Users\\afcad\\Downloads\\Sujeto11_MF_processed.fif ...\n",
      "    Found the data of interest:\n"
     ]
    },
    {
     "name": "stderr",
     "output_type": "stream",
     "text": [
      "C:\\Users\\afcad\\AppData\\Local\\Temp\\ipykernel_1044\\2763569990.py:70: RuntimeWarning: This filename (Sujeto11_MF_processed.fif) does not conform to MNE naming conventions. All epochs files should end with -epo.fif, -epo.fif.gz, _epo.fif or _epo.fif.gz\n",
      "  epochs_MF = mne.read_epochs(file_MF, preload=True)\n"
     ]
    },
    {
     "name": "stdout",
     "output_type": "stream",
     "text": [
      "        t =   -2500.00 ...    2500.00 ms\n",
      "        0 CTF compensation matrices available\n",
      "Not setting metadata\n",
      "107 matching events found\n",
      "No baseline correction applied\n",
      "0 projection items activated\n",
      "Effective window size : 0.250 (s)\n",
      "Effective window size : 0.250 (s)\n",
      "Reading c:\\Users\\afcad\\Downloads\\Sujeto13_R_processed.fif ...\n",
      "    Found the data of interest:\n",
      "        t =   -2500.00 ...    2500.00 ms\n",
      "        0 CTF compensation matrices available\n"
     ]
    },
    {
     "name": "stderr",
     "output_type": "stream",
     "text": [
      "C:\\Users\\afcad\\AppData\\Local\\Temp\\ipykernel_1044\\2763569990.py:69: RuntimeWarning: This filename (Sujeto13_R_processed.fif) does not conform to MNE naming conventions. All epochs files should end with -epo.fif, -epo.fif.gz, _epo.fif or _epo.fif.gz\n",
      "  epochs_R = mne.read_epochs(file_R, preload=True)\n"
     ]
    },
    {
     "name": "stdout",
     "output_type": "stream",
     "text": [
      "Not setting metadata\n",
      "63 matching events found\n",
      "No baseline correction applied\n",
      "0 projection items activated\n",
      "Reading c:\\Users\\afcad\\Downloads\\Sujeto13_MF_processed.fif ...\n"
     ]
    },
    {
     "name": "stderr",
     "output_type": "stream",
     "text": [
      "C:\\Users\\afcad\\AppData\\Local\\Temp\\ipykernel_1044\\2763569990.py:70: RuntimeWarning: This filename (Sujeto13_MF_processed.fif) does not conform to MNE naming conventions. All epochs files should end with -epo.fif, -epo.fif.gz, _epo.fif or _epo.fif.gz\n",
      "  epochs_MF = mne.read_epochs(file_MF, preload=True)\n"
     ]
    },
    {
     "name": "stdout",
     "output_type": "stream",
     "text": [
      "    Found the data of interest:\n",
      "        t =   -2500.00 ...    2500.00 ms\n",
      "        0 CTF compensation matrices available\n",
      "Not setting metadata\n",
      "141 matching events found\n",
      "No baseline correction applied\n",
      "0 projection items activated\n",
      "Effective window size : 0.250 (s)\n",
      "Effective window size : 0.250 (s)\n",
      "Reading c:\\Users\\afcad\\Downloads\\Sujeto14_R_processed.fif ...\n",
      "    Found the data of interest:\n",
      "        t =   -2500.00 ...    2500.00 ms\n",
      "        0 CTF compensation matrices available\n"
     ]
    },
    {
     "name": "stderr",
     "output_type": "stream",
     "text": [
      "C:\\Users\\afcad\\AppData\\Local\\Temp\\ipykernel_1044\\2763569990.py:69: RuntimeWarning: This filename (Sujeto14_R_processed.fif) does not conform to MNE naming conventions. All epochs files should end with -epo.fif, -epo.fif.gz, _epo.fif or _epo.fif.gz\n",
      "  epochs_R = mne.read_epochs(file_R, preload=True)\n"
     ]
    },
    {
     "name": "stdout",
     "output_type": "stream",
     "text": [
      "Not setting metadata\n",
      "71 matching events found\n",
      "No baseline correction applied\n",
      "0 projection items activated\n",
      "Reading c:\\Users\\afcad\\Downloads\\Sujeto14_MF_processed.fif ...\n"
     ]
    },
    {
     "name": "stderr",
     "output_type": "stream",
     "text": [
      "C:\\Users\\afcad\\AppData\\Local\\Temp\\ipykernel_1044\\2763569990.py:70: RuntimeWarning: This filename (Sujeto14_MF_processed.fif) does not conform to MNE naming conventions. All epochs files should end with -epo.fif, -epo.fif.gz, _epo.fif or _epo.fif.gz\n",
      "  epochs_MF = mne.read_epochs(file_MF, preload=True)\n"
     ]
    },
    {
     "name": "stdout",
     "output_type": "stream",
     "text": [
      "    Found the data of interest:\n",
      "        t =   -2500.00 ...    2500.00 ms\n",
      "        0 CTF compensation matrices available\n",
      "Not setting metadata\n",
      "141 matching events found\n",
      "No baseline correction applied\n",
      "0 projection items activated\n",
      "Effective window size : 0.250 (s)\n",
      "Effective window size : 0.250 (s)\n",
      "Reading c:\\Users\\afcad\\Downloads\\Sujeto15_R_processed.fif ...\n",
      "    Found the data of interest:\n",
      "        t =   -2500.00 ...    2500.00 ms\n",
      "        0 CTF compensation matrices available\n"
     ]
    },
    {
     "name": "stderr",
     "output_type": "stream",
     "text": [
      "C:\\Users\\afcad\\AppData\\Local\\Temp\\ipykernel_1044\\2763569990.py:69: RuntimeWarning: This filename (Sujeto15_R_processed.fif) does not conform to MNE naming conventions. All epochs files should end with -epo.fif, -epo.fif.gz, _epo.fif or _epo.fif.gz\n",
      "  epochs_R = mne.read_epochs(file_R, preload=True)\n"
     ]
    },
    {
     "name": "stdout",
     "output_type": "stream",
     "text": [
      "Not setting metadata\n",
      "69 matching events found\n",
      "No baseline correction applied\n",
      "0 projection items activated\n",
      "Reading c:\\Users\\afcad\\Downloads\\Sujeto15_MF_processed.fif ...\n"
     ]
    },
    {
     "name": "stderr",
     "output_type": "stream",
     "text": [
      "C:\\Users\\afcad\\AppData\\Local\\Temp\\ipykernel_1044\\2763569990.py:70: RuntimeWarning: This filename (Sujeto15_MF_processed.fif) does not conform to MNE naming conventions. All epochs files should end with -epo.fif, -epo.fif.gz, _epo.fif or _epo.fif.gz\n",
      "  epochs_MF = mne.read_epochs(file_MF, preload=True)\n"
     ]
    },
    {
     "name": "stdout",
     "output_type": "stream",
     "text": [
      "    Found the data of interest:\n",
      "        t =   -2500.00 ...    2500.00 ms\n",
      "        0 CTF compensation matrices available\n",
      "Not setting metadata\n",
      "141 matching events found\n",
      "No baseline correction applied\n",
      "0 projection items activated\n",
      "Effective window size : 0.250 (s)\n",
      "Effective window size : 0.250 (s)\n",
      "Reading c:\\Users\\afcad\\Downloads\\Sujeto16_R_processed.fif ...\n",
      "    Found the data of interest:\n",
      "        t =   -2500.00 ...    2500.00 ms\n",
      "        0 CTF compensation matrices available\n"
     ]
    },
    {
     "name": "stderr",
     "output_type": "stream",
     "text": [
      "C:\\Users\\afcad\\AppData\\Local\\Temp\\ipykernel_1044\\2763569990.py:69: RuntimeWarning: This filename (Sujeto16_R_processed.fif) does not conform to MNE naming conventions. All epochs files should end with -epo.fif, -epo.fif.gz, _epo.fif or _epo.fif.gz\n",
      "  epochs_R = mne.read_epochs(file_R, preload=True)\n"
     ]
    },
    {
     "name": "stdout",
     "output_type": "stream",
     "text": [
      "Not setting metadata\n",
      "52 matching events found\n",
      "No baseline correction applied\n",
      "0 projection items activated\n",
      "Reading c:\\Users\\afcad\\Downloads\\Sujeto16_MF_processed.fif ...\n",
      "    Found the data of interest:\n"
     ]
    },
    {
     "name": "stderr",
     "output_type": "stream",
     "text": [
      "C:\\Users\\afcad\\AppData\\Local\\Temp\\ipykernel_1044\\2763569990.py:70: RuntimeWarning: This filename (Sujeto16_MF_processed.fif) does not conform to MNE naming conventions. All epochs files should end with -epo.fif, -epo.fif.gz, _epo.fif or _epo.fif.gz\n",
      "  epochs_MF = mne.read_epochs(file_MF, preload=True)\n"
     ]
    },
    {
     "name": "stdout",
     "output_type": "stream",
     "text": [
      "        t =   -2500.00 ...    2500.00 ms\n",
      "        0 CTF compensation matrices available\n",
      "Not setting metadata\n",
      "106 matching events found\n",
      "No baseline correction applied\n",
      "0 projection items activated\n",
      "Effective window size : 0.250 (s)\n",
      "Effective window size : 0.250 (s)\n",
      "Reading c:\\Users\\afcad\\Downloads\\Sujeto17_R_processed.fif ...\n",
      "    Found the data of interest:\n",
      "        t =   -2500.00 ...    2500.00 ms\n",
      "        0 CTF compensation matrices available\n"
     ]
    },
    {
     "name": "stderr",
     "output_type": "stream",
     "text": [
      "C:\\Users\\afcad\\AppData\\Local\\Temp\\ipykernel_1044\\2763569990.py:69: RuntimeWarning: This filename (Sujeto17_R_processed.fif) does not conform to MNE naming conventions. All epochs files should end with -epo.fif, -epo.fif.gz, _epo.fif or _epo.fif.gz\n",
      "  epochs_R = mne.read_epochs(file_R, preload=True)\n"
     ]
    },
    {
     "name": "stdout",
     "output_type": "stream",
     "text": [
      "Not setting metadata\n",
      "72 matching events found\n",
      "No baseline correction applied\n",
      "0 projection items activated\n",
      "Reading c:\\Users\\afcad\\Downloads\\Sujeto17_MF_processed.fif ...\n"
     ]
    },
    {
     "name": "stderr",
     "output_type": "stream",
     "text": [
      "C:\\Users\\afcad\\AppData\\Local\\Temp\\ipykernel_1044\\2763569990.py:70: RuntimeWarning: This filename (Sujeto17_MF_processed.fif) does not conform to MNE naming conventions. All epochs files should end with -epo.fif, -epo.fif.gz, _epo.fif or _epo.fif.gz\n",
      "  epochs_MF = mne.read_epochs(file_MF, preload=True)\n"
     ]
    },
    {
     "name": "stdout",
     "output_type": "stream",
     "text": [
      "    Found the data of interest:\n",
      "        t =   -2500.00 ...    2500.00 ms\n",
      "        0 CTF compensation matrices available\n",
      "Not setting metadata\n",
      "145 matching events found\n",
      "No baseline correction applied\n",
      "0 projection items activated\n",
      "Effective window size : 0.250 (s)\n",
      "Effective window size : 0.250 (s)\n",
      "Reading c:\\Users\\afcad\\Downloads\\Sujeto18_R_processed.fif ...\n",
      "    Found the data of interest:\n",
      "        t =   -2500.00 ...    2500.00 ms\n",
      "        0 CTF compensation matrices available\n"
     ]
    },
    {
     "name": "stderr",
     "output_type": "stream",
     "text": [
      "C:\\Users\\afcad\\AppData\\Local\\Temp\\ipykernel_1044\\2763569990.py:69: RuntimeWarning: This filename (Sujeto18_R_processed.fif) does not conform to MNE naming conventions. All epochs files should end with -epo.fif, -epo.fif.gz, _epo.fif or _epo.fif.gz\n",
      "  epochs_R = mne.read_epochs(file_R, preload=True)\n"
     ]
    },
    {
     "name": "stdout",
     "output_type": "stream",
     "text": [
      "Not setting metadata\n",
      "44 matching events found\n",
      "No baseline correction applied\n",
      "0 projection items activated\n",
      "Reading c:\\Users\\afcad\\Downloads\\Sujeto18_MF_processed.fif ...\n"
     ]
    },
    {
     "name": "stderr",
     "output_type": "stream",
     "text": [
      "C:\\Users\\afcad\\AppData\\Local\\Temp\\ipykernel_1044\\2763569990.py:70: RuntimeWarning: This filename (Sujeto18_MF_processed.fif) does not conform to MNE naming conventions. All epochs files should end with -epo.fif, -epo.fif.gz, _epo.fif or _epo.fif.gz\n",
      "  epochs_MF = mne.read_epochs(file_MF, preload=True)\n"
     ]
    },
    {
     "name": "stdout",
     "output_type": "stream",
     "text": [
      "    Found the data of interest:\n",
      "        t =   -2500.00 ...    2500.00 ms\n",
      "        0 CTF compensation matrices available\n",
      "Not setting metadata\n",
      "137 matching events found\n",
      "No baseline correction applied\n",
      "0 projection items activated\n",
      "Effective window size : 0.250 (s)\n",
      "Effective window size : 0.250 (s)\n",
      "Reading c:\\Users\\afcad\\Downloads\\Sujeto19_R_processed.fif ...\n",
      "    Found the data of interest:\n",
      "        t =   -2500.00 ...    2500.00 ms\n",
      "        0 CTF compensation matrices available\n"
     ]
    },
    {
     "name": "stderr",
     "output_type": "stream",
     "text": [
      "C:\\Users\\afcad\\AppData\\Local\\Temp\\ipykernel_1044\\2763569990.py:69: RuntimeWarning: This filename (Sujeto19_R_processed.fif) does not conform to MNE naming conventions. All epochs files should end with -epo.fif, -epo.fif.gz, _epo.fif or _epo.fif.gz\n",
      "  epochs_R = mne.read_epochs(file_R, preload=True)\n"
     ]
    },
    {
     "name": "stdout",
     "output_type": "stream",
     "text": [
      "Not setting metadata\n",
      "68 matching events found\n",
      "No baseline correction applied\n",
      "0 projection items activated\n",
      "Reading c:\\Users\\afcad\\Downloads\\Sujeto19_MF_processed.fif ...\n"
     ]
    },
    {
     "name": "stderr",
     "output_type": "stream",
     "text": [
      "C:\\Users\\afcad\\AppData\\Local\\Temp\\ipykernel_1044\\2763569990.py:70: RuntimeWarning: This filename (Sujeto19_MF_processed.fif) does not conform to MNE naming conventions. All epochs files should end with -epo.fif, -epo.fif.gz, _epo.fif or _epo.fif.gz\n",
      "  epochs_MF = mne.read_epochs(file_MF, preload=True)\n"
     ]
    },
    {
     "name": "stdout",
     "output_type": "stream",
     "text": [
      "    Found the data of interest:\n",
      "        t =   -2500.00 ...    2500.00 ms\n",
      "        0 CTF compensation matrices available\n",
      "Not setting metadata\n",
      "143 matching events found\n",
      "No baseline correction applied\n",
      "0 projection items activated\n",
      "Effective window size : 0.250 (s)\n",
      "Effective window size : 0.250 (s)\n",
      "Reading c:\\Users\\afcad\\Downloads\\Sujeto20_R_processed.fif ...\n",
      "    Found the data of interest:\n",
      "        t =   -2500.00 ...    2500.00 ms\n",
      "        0 CTF compensation matrices available\n"
     ]
    },
    {
     "name": "stderr",
     "output_type": "stream",
     "text": [
      "C:\\Users\\afcad\\AppData\\Local\\Temp\\ipykernel_1044\\2763569990.py:69: RuntimeWarning: This filename (Sujeto20_R_processed.fif) does not conform to MNE naming conventions. All epochs files should end with -epo.fif, -epo.fif.gz, _epo.fif or _epo.fif.gz\n",
      "  epochs_R = mne.read_epochs(file_R, preload=True)\n"
     ]
    },
    {
     "name": "stdout",
     "output_type": "stream",
     "text": [
      "Not setting metadata\n",
      "71 matching events found\n",
      "No baseline correction applied\n",
      "0 projection items activated\n",
      "Reading c:\\Users\\afcad\\Downloads\\Sujeto20_MF_processed.fif ...\n"
     ]
    },
    {
     "name": "stderr",
     "output_type": "stream",
     "text": [
      "C:\\Users\\afcad\\AppData\\Local\\Temp\\ipykernel_1044\\2763569990.py:70: RuntimeWarning: This filename (Sujeto20_MF_processed.fif) does not conform to MNE naming conventions. All epochs files should end with -epo.fif, -epo.fif.gz, _epo.fif or _epo.fif.gz\n",
      "  epochs_MF = mne.read_epochs(file_MF, preload=True)\n"
     ]
    },
    {
     "name": "stdout",
     "output_type": "stream",
     "text": [
      "    Found the data of interest:\n",
      "        t =   -2500.00 ...    2500.00 ms\n",
      "        0 CTF compensation matrices available\n",
      "Not setting metadata\n",
      "141 matching events found\n",
      "No baseline correction applied\n",
      "0 projection items activated\n",
      "Effective window size : 0.250 (s)\n",
      "Effective window size : 0.250 (s)\n",
      "Reading c:\\Users\\afcad\\Downloads\\Sujeto21_R_processed.fif ...\n",
      "    Found the data of interest:\n",
      "        t =   -2500.00 ...    2500.00 ms\n",
      "        0 CTF compensation matrices available\n"
     ]
    },
    {
     "name": "stderr",
     "output_type": "stream",
     "text": [
      "C:\\Users\\afcad\\AppData\\Local\\Temp\\ipykernel_1044\\2763569990.py:69: RuntimeWarning: This filename (Sujeto21_R_processed.fif) does not conform to MNE naming conventions. All epochs files should end with -epo.fif, -epo.fif.gz, _epo.fif or _epo.fif.gz\n",
      "  epochs_R = mne.read_epochs(file_R, preload=True)\n"
     ]
    },
    {
     "name": "stdout",
     "output_type": "stream",
     "text": [
      "Not setting metadata\n",
      "47 matching events found\n",
      "No baseline correction applied\n",
      "0 projection items activated\n",
      "Reading c:\\Users\\afcad\\Downloads\\Sujeto21_MF_processed.fif ...\n"
     ]
    },
    {
     "name": "stderr",
     "output_type": "stream",
     "text": [
      "C:\\Users\\afcad\\AppData\\Local\\Temp\\ipykernel_1044\\2763569990.py:70: RuntimeWarning: This filename (Sujeto21_MF_processed.fif) does not conform to MNE naming conventions. All epochs files should end with -epo.fif, -epo.fif.gz, _epo.fif or _epo.fif.gz\n",
      "  epochs_MF = mne.read_epochs(file_MF, preload=True)\n"
     ]
    },
    {
     "name": "stdout",
     "output_type": "stream",
     "text": [
      "    Found the data of interest:\n",
      "        t =   -2500.00 ...    2500.00 ms\n",
      "        0 CTF compensation matrices available\n",
      "Not setting metadata\n",
      "106 matching events found\n",
      "No baseline correction applied\n",
      "0 projection items activated\n",
      "Effective window size : 0.250 (s)\n",
      "Effective window size : 0.250 (s)\n",
      "Reading c:\\Users\\afcad\\Downloads\\Sujeto22_R_processed.fif ...\n",
      "    Found the data of interest:\n",
      "        t =   -2500.00 ...    2500.00 ms\n",
      "        0 CTF compensation matrices available\n"
     ]
    },
    {
     "name": "stderr",
     "output_type": "stream",
     "text": [
      "C:\\Users\\afcad\\AppData\\Local\\Temp\\ipykernel_1044\\2763569990.py:69: RuntimeWarning: This filename (Sujeto22_R_processed.fif) does not conform to MNE naming conventions. All epochs files should end with -epo.fif, -epo.fif.gz, _epo.fif or _epo.fif.gz\n",
      "  epochs_R = mne.read_epochs(file_R, preload=True)\n"
     ]
    },
    {
     "name": "stdout",
     "output_type": "stream",
     "text": [
      "Not setting metadata\n",
      "67 matching events found\n",
      "No baseline correction applied\n",
      "0 projection items activated\n",
      "Reading c:\\Users\\afcad\\Downloads\\Sujeto22_MF_processed.fif ...\n"
     ]
    },
    {
     "name": "stderr",
     "output_type": "stream",
     "text": [
      "C:\\Users\\afcad\\AppData\\Local\\Temp\\ipykernel_1044\\2763569990.py:70: RuntimeWarning: This filename (Sujeto22_MF_processed.fif) does not conform to MNE naming conventions. All epochs files should end with -epo.fif, -epo.fif.gz, _epo.fif or _epo.fif.gz\n",
      "  epochs_MF = mne.read_epochs(file_MF, preload=True)\n"
     ]
    },
    {
     "name": "stdout",
     "output_type": "stream",
     "text": [
      "    Found the data of interest:\n",
      "        t =   -2500.00 ...    2500.00 ms\n",
      "        0 CTF compensation matrices available\n",
      "Not setting metadata\n",
      "138 matching events found\n",
      "No baseline correction applied\n",
      "0 projection items activated\n",
      "Effective window size : 0.250 (s)\n",
      "Effective window size : 0.250 (s)\n",
      "Reading c:\\Users\\afcad\\Downloads\\Sujeto23_R_processed.fif ...\n",
      "    Found the data of interest:\n",
      "        t =   -2500.00 ...    2500.00 ms\n",
      "        0 CTF compensation matrices available\n",
      "Not setting metadata\n",
      "11 matching events found\n",
      "No baseline correction applied\n"
     ]
    },
    {
     "name": "stderr",
     "output_type": "stream",
     "text": [
      "C:\\Users\\afcad\\AppData\\Local\\Temp\\ipykernel_1044\\2763569990.py:69: RuntimeWarning: This filename (Sujeto23_R_processed.fif) does not conform to MNE naming conventions. All epochs files should end with -epo.fif, -epo.fif.gz, _epo.fif or _epo.fif.gz\n",
      "  epochs_R = mne.read_epochs(file_R, preload=True)\n"
     ]
    },
    {
     "name": "stdout",
     "output_type": "stream",
     "text": [
      "0 projection items activated\n",
      "Reading c:\\Users\\afcad\\Downloads\\Sujeto23_MF_processed.fif ...\n"
     ]
    },
    {
     "name": "stderr",
     "output_type": "stream",
     "text": [
      "C:\\Users\\afcad\\AppData\\Local\\Temp\\ipykernel_1044\\2763569990.py:70: RuntimeWarning: This filename (Sujeto23_MF_processed.fif) does not conform to MNE naming conventions. All epochs files should end with -epo.fif, -epo.fif.gz, _epo.fif or _epo.fif.gz\n",
      "  epochs_MF = mne.read_epochs(file_MF, preload=True)\n"
     ]
    },
    {
     "name": "stdout",
     "output_type": "stream",
     "text": [
      "    Found the data of interest:\n",
      "        t =   -2500.00 ...    2500.00 ms\n",
      "        0 CTF compensation matrices available\n",
      "Not setting metadata\n",
      "125 matching events found\n",
      "No baseline correction applied\n",
      "0 projection items activated\n",
      "Effective window size : 0.250 (s)\n",
      "Effective window size : 0.250 (s)\n",
      "Reading c:\\Users\\afcad\\Downloads\\Sujeto24_R_processed.fif ...\n",
      "    Found the data of interest:\n",
      "        t =   -2500.00 ...    2500.00 ms\n",
      "        0 CTF compensation matrices available\n"
     ]
    },
    {
     "name": "stderr",
     "output_type": "stream",
     "text": [
      "C:\\Users\\afcad\\AppData\\Local\\Temp\\ipykernel_1044\\2763569990.py:69: RuntimeWarning: This filename (Sujeto24_R_processed.fif) does not conform to MNE naming conventions. All epochs files should end with -epo.fif, -epo.fif.gz, _epo.fif or _epo.fif.gz\n",
      "  epochs_R = mne.read_epochs(file_R, preload=True)\n"
     ]
    },
    {
     "name": "stdout",
     "output_type": "stream",
     "text": [
      "Not setting metadata\n",
      "61 matching events found\n",
      "No baseline correction applied\n",
      "0 projection items activated\n",
      "Reading c:\\Users\\afcad\\Downloads\\Sujeto24_MF_processed.fif ...\n"
     ]
    },
    {
     "name": "stderr",
     "output_type": "stream",
     "text": [
      "C:\\Users\\afcad\\AppData\\Local\\Temp\\ipykernel_1044\\2763569990.py:70: RuntimeWarning: This filename (Sujeto24_MF_processed.fif) does not conform to MNE naming conventions. All epochs files should end with -epo.fif, -epo.fif.gz, _epo.fif or _epo.fif.gz\n",
      "  epochs_MF = mne.read_epochs(file_MF, preload=True)\n"
     ]
    },
    {
     "name": "stdout",
     "output_type": "stream",
     "text": [
      "    Found the data of interest:\n",
      "        t =   -2500.00 ...    2500.00 ms\n",
      "        0 CTF compensation matrices available\n",
      "Not setting metadata\n",
      "132 matching events found\n",
      "No baseline correction applied\n",
      "0 projection items activated\n",
      "Effective window size : 0.250 (s)\n",
      "Effective window size : 0.250 (s)\n",
      "Reading c:\\Users\\afcad\\Downloads\\Sujeto25_R_processed.fif ...\n"
     ]
    },
    {
     "name": "stderr",
     "output_type": "stream",
     "text": [
      "C:\\Users\\afcad\\AppData\\Local\\Temp\\ipykernel_1044\\2763569990.py:69: RuntimeWarning: This filename (Sujeto25_R_processed.fif) does not conform to MNE naming conventions. All epochs files should end with -epo.fif, -epo.fif.gz, _epo.fif or _epo.fif.gz\n",
      "  epochs_R = mne.read_epochs(file_R, preload=True)\n"
     ]
    },
    {
     "name": "stdout",
     "output_type": "stream",
     "text": [
      "    Found the data of interest:\n",
      "        t =   -2500.00 ...    2500.00 ms\n",
      "        0 CTF compensation matrices available\n",
      "Not setting metadata\n",
      "70 matching events found\n",
      "No baseline correction applied\n",
      "0 projection items activated\n",
      "Reading c:\\Users\\afcad\\Downloads\\Sujeto25_MF_processed.fif ...\n"
     ]
    },
    {
     "name": "stderr",
     "output_type": "stream",
     "text": [
      "C:\\Users\\afcad\\AppData\\Local\\Temp\\ipykernel_1044\\2763569990.py:70: RuntimeWarning: This filename (Sujeto25_MF_processed.fif) does not conform to MNE naming conventions. All epochs files should end with -epo.fif, -epo.fif.gz, _epo.fif or _epo.fif.gz\n",
      "  epochs_MF = mne.read_epochs(file_MF, preload=True)\n"
     ]
    },
    {
     "name": "stdout",
     "output_type": "stream",
     "text": [
      "    Found the data of interest:\n",
      "        t =   -2500.00 ...    2500.00 ms\n",
      "        0 CTF compensation matrices available\n",
      "Not setting metadata\n",
      "140 matching events found\n",
      "No baseline correction applied\n",
      "0 projection items activated\n",
      "Effective window size : 0.250 (s)\n",
      "Effective window size : 0.250 (s)\n",
      "Reading c:\\Users\\afcad\\Downloads\\Sujeto26_R_processed.fif ...\n",
      "    Found the data of interest:\n",
      "        t =   -2500.00 ...    2500.00 ms\n",
      "        0 CTF compensation matrices available\n"
     ]
    },
    {
     "name": "stderr",
     "output_type": "stream",
     "text": [
      "C:\\Users\\afcad\\AppData\\Local\\Temp\\ipykernel_1044\\2763569990.py:69: RuntimeWarning: This filename (Sujeto26_R_processed.fif) does not conform to MNE naming conventions. All epochs files should end with -epo.fif, -epo.fif.gz, _epo.fif or _epo.fif.gz\n",
      "  epochs_R = mne.read_epochs(file_R, preload=True)\n"
     ]
    },
    {
     "name": "stdout",
     "output_type": "stream",
     "text": [
      "Not setting metadata\n",
      "63 matching events found\n",
      "No baseline correction applied\n",
      "0 projection items activated\n",
      "Reading c:\\Users\\afcad\\Downloads\\Sujeto26_MF_processed.fif ...\n",
      "    Found the data of interest:\n"
     ]
    },
    {
     "name": "stderr",
     "output_type": "stream",
     "text": [
      "C:\\Users\\afcad\\AppData\\Local\\Temp\\ipykernel_1044\\2763569990.py:70: RuntimeWarning: This filename (Sujeto26_MF_processed.fif) does not conform to MNE naming conventions. All epochs files should end with -epo.fif, -epo.fif.gz, _epo.fif or _epo.fif.gz\n",
      "  epochs_MF = mne.read_epochs(file_MF, preload=True)\n"
     ]
    },
    {
     "name": "stdout",
     "output_type": "stream",
     "text": [
      "        t =   -2500.00 ...    2500.00 ms\n",
      "        0 CTF compensation matrices available\n",
      "Not setting metadata\n",
      "74 matching events found\n",
      "No baseline correction applied\n",
      "0 projection items activated\n",
      "Effective window size : 0.250 (s)\n",
      "Effective window size : 0.250 (s)\n",
      "Reading c:\\Users\\afcad\\Downloads\\Sujeto27_R_processed.fif ...\n",
      "    Found the data of interest:\n",
      "        t =   -2500.00 ...    2500.00 ms\n",
      "        0 CTF compensation matrices available\n"
     ]
    },
    {
     "name": "stderr",
     "output_type": "stream",
     "text": [
      "C:\\Users\\afcad\\AppData\\Local\\Temp\\ipykernel_1044\\2763569990.py:69: RuntimeWarning: This filename (Sujeto27_R_processed.fif) does not conform to MNE naming conventions. All epochs files should end with -epo.fif, -epo.fif.gz, _epo.fif or _epo.fif.gz\n",
      "  epochs_R = mne.read_epochs(file_R, preload=True)\n"
     ]
    },
    {
     "name": "stdout",
     "output_type": "stream",
     "text": [
      "Not setting metadata\n",
      "64 matching events found\n",
      "No baseline correction applied\n",
      "0 projection items activated\n",
      "Reading c:\\Users\\afcad\\Downloads\\Sujeto27_MF_processed.fif ...\n",
      "    Found the data of interest:\n",
      "        t =   -2500.00 ...    2500.00 ms\n"
     ]
    },
    {
     "name": "stderr",
     "output_type": "stream",
     "text": [
      "C:\\Users\\afcad\\AppData\\Local\\Temp\\ipykernel_1044\\2763569990.py:70: RuntimeWarning: This filename (Sujeto27_MF_processed.fif) does not conform to MNE naming conventions. All epochs files should end with -epo.fif, -epo.fif.gz, _epo.fif or _epo.fif.gz\n",
      "  epochs_MF = mne.read_epochs(file_MF, preload=True)\n"
     ]
    },
    {
     "name": "stdout",
     "output_type": "stream",
     "text": [
      "        0 CTF compensation matrices available\n",
      "Not setting metadata\n",
      "70 matching events found\n",
      "No baseline correction applied\n",
      "0 projection items activated\n",
      "Effective window size : 0.250 (s)\n",
      "Effective window size : 0.250 (s)\n",
      "Reading c:\\Users\\afcad\\Downloads\\Sujeto28_R_processed.fif ...\n"
     ]
    },
    {
     "name": "stderr",
     "output_type": "stream",
     "text": [
      "C:\\Users\\afcad\\AppData\\Local\\Temp\\ipykernel_1044\\2763569990.py:69: RuntimeWarning: This filename (Sujeto28_R_processed.fif) does not conform to MNE naming conventions. All epochs files should end with -epo.fif, -epo.fif.gz, _epo.fif or _epo.fif.gz\n",
      "  epochs_R = mne.read_epochs(file_R, preload=True)\n"
     ]
    },
    {
     "name": "stdout",
     "output_type": "stream",
     "text": [
      "    Found the data of interest:\n",
      "        t =   -2500.00 ...    2500.00 ms\n",
      "        0 CTF compensation matrices available\n",
      "Not setting metadata\n",
      "55 matching events found\n",
      "No baseline correction applied\n",
      "0 projection items activated\n",
      "Reading c:\\Users\\afcad\\Downloads\\Sujeto28_MF_processed.fif ...\n"
     ]
    },
    {
     "name": "stderr",
     "output_type": "stream",
     "text": [
      "C:\\Users\\afcad\\AppData\\Local\\Temp\\ipykernel_1044\\2763569990.py:70: RuntimeWarning: This filename (Sujeto28_MF_processed.fif) does not conform to MNE naming conventions. All epochs files should end with -epo.fif, -epo.fif.gz, _epo.fif or _epo.fif.gz\n",
      "  epochs_MF = mne.read_epochs(file_MF, preload=True)\n"
     ]
    },
    {
     "name": "stdout",
     "output_type": "stream",
     "text": [
      "    Found the data of interest:\n",
      "        t =   -2500.00 ...    2500.00 ms\n",
      "        0 CTF compensation matrices available\n",
      "Not setting metadata\n",
      "114 matching events found\n",
      "No baseline correction applied\n",
      "0 projection items activated\n",
      "Effective window size : 0.250 (s)\n",
      "Effective window size : 0.250 (s)\n",
      "Reading c:\\Users\\afcad\\Downloads\\Sujeto29_R_processed.fif ...\n",
      "    Found the data of interest:\n",
      "        t =   -2500.00 ...    2500.00 ms\n",
      "        0 CTF compensation matrices available\n"
     ]
    },
    {
     "name": "stderr",
     "output_type": "stream",
     "text": [
      "C:\\Users\\afcad\\AppData\\Local\\Temp\\ipykernel_1044\\2763569990.py:69: RuntimeWarning: This filename (Sujeto29_R_processed.fif) does not conform to MNE naming conventions. All epochs files should end with -epo.fif, -epo.fif.gz, _epo.fif or _epo.fif.gz\n",
      "  epochs_R = mne.read_epochs(file_R, preload=True)\n"
     ]
    },
    {
     "name": "stdout",
     "output_type": "stream",
     "text": [
      "Not setting metadata\n",
      "68 matching events found\n",
      "No baseline correction applied\n",
      "0 projection items activated\n",
      "Reading c:\\Users\\afcad\\Downloads\\Sujeto29_MF_processed.fif ...\n"
     ]
    },
    {
     "name": "stderr",
     "output_type": "stream",
     "text": [
      "C:\\Users\\afcad\\AppData\\Local\\Temp\\ipykernel_1044\\2763569990.py:70: RuntimeWarning: This filename (Sujeto29_MF_processed.fif) does not conform to MNE naming conventions. All epochs files should end with -epo.fif, -epo.fif.gz, _epo.fif or _epo.fif.gz\n",
      "  epochs_MF = mne.read_epochs(file_MF, preload=True)\n"
     ]
    },
    {
     "name": "stdout",
     "output_type": "stream",
     "text": [
      "    Found the data of interest:\n",
      "        t =   -2500.00 ...    2500.00 ms\n",
      "        0 CTF compensation matrices available\n",
      "Not setting metadata\n",
      "145 matching events found\n",
      "No baseline correction applied\n",
      "0 projection items activated\n",
      "Effective window size : 0.250 (s)\n",
      "Effective window size : 0.250 (s)\n",
      "Reading c:\\Users\\afcad\\Downloads\\Sujeto30_R_processed.fif ...\n",
      "    Found the data of interest:\n",
      "        t =   -2500.00 ...    2500.00 ms\n",
      "        0 CTF compensation matrices available\n"
     ]
    },
    {
     "name": "stderr",
     "output_type": "stream",
     "text": [
      "C:\\Users\\afcad\\AppData\\Local\\Temp\\ipykernel_1044\\2763569990.py:69: RuntimeWarning: This filename (Sujeto30_R_processed.fif) does not conform to MNE naming conventions. All epochs files should end with -epo.fif, -epo.fif.gz, _epo.fif or _epo.fif.gz\n",
      "  epochs_R = mne.read_epochs(file_R, preload=True)\n"
     ]
    },
    {
     "name": "stdout",
     "output_type": "stream",
     "text": [
      "Not setting metadata\n",
      "69 matching events found\n",
      "No baseline correction applied\n",
      "0 projection items activated\n",
      "Reading c:\\Users\\afcad\\Downloads\\Sujeto30_MF_processed.fif ...\n"
     ]
    },
    {
     "name": "stderr",
     "output_type": "stream",
     "text": [
      "C:\\Users\\afcad\\AppData\\Local\\Temp\\ipykernel_1044\\2763569990.py:70: RuntimeWarning: This filename (Sujeto30_MF_processed.fif) does not conform to MNE naming conventions. All epochs files should end with -epo.fif, -epo.fif.gz, _epo.fif or _epo.fif.gz\n",
      "  epochs_MF = mne.read_epochs(file_MF, preload=True)\n"
     ]
    },
    {
     "name": "stdout",
     "output_type": "stream",
     "text": [
      "    Found the data of interest:\n",
      "        t =   -2500.00 ...    2500.00 ms\n",
      "        0 CTF compensation matrices available\n",
      "Not setting metadata\n",
      "124 matching events found\n",
      "No baseline correction applied\n",
      "0 projection items activated\n",
      "Effective window size : 0.250 (s)\n",
      "Effective window size : 0.250 (s)\n",
      "Reading c:\\Users\\afcad\\Downloads\\Sujeto31_R_processed.fif ...\n",
      "    Found the data of interest:\n",
      "        t =   -2500.00 ...    2500.00 ms\n",
      "        0 CTF compensation matrices available\n"
     ]
    },
    {
     "name": "stderr",
     "output_type": "stream",
     "text": [
      "C:\\Users\\afcad\\AppData\\Local\\Temp\\ipykernel_1044\\2763569990.py:69: RuntimeWarning: This filename (Sujeto31_R_processed.fif) does not conform to MNE naming conventions. All epochs files should end with -epo.fif, -epo.fif.gz, _epo.fif or _epo.fif.gz\n",
      "  epochs_R = mne.read_epochs(file_R, preload=True)\n"
     ]
    },
    {
     "name": "stdout",
     "output_type": "stream",
     "text": [
      "Not setting metadata\n",
      "61 matching events found\n",
      "No baseline correction applied\n",
      "0 projection items activated\n",
      "Reading c:\\Users\\afcad\\Downloads\\Sujeto31_MF_processed.fif ...\n"
     ]
    },
    {
     "name": "stderr",
     "output_type": "stream",
     "text": [
      "C:\\Users\\afcad\\AppData\\Local\\Temp\\ipykernel_1044\\2763569990.py:70: RuntimeWarning: This filename (Sujeto31_MF_processed.fif) does not conform to MNE naming conventions. All epochs files should end with -epo.fif, -epo.fif.gz, _epo.fif or _epo.fif.gz\n",
      "  epochs_MF = mne.read_epochs(file_MF, preload=True)\n"
     ]
    },
    {
     "name": "stdout",
     "output_type": "stream",
     "text": [
      "    Found the data of interest:\n",
      "        t =   -2500.00 ...    2500.00 ms\n",
      "        0 CTF compensation matrices available\n",
      "Not setting metadata\n",
      "140 matching events found\n",
      "No baseline correction applied\n",
      "0 projection items activated\n",
      "Effective window size : 0.250 (s)\n",
      "Effective window size : 0.250 (s)\n",
      "Reading c:\\Users\\afcad\\Downloads\\Sujeto32_R_processed.fif ...\n"
     ]
    },
    {
     "name": "stderr",
     "output_type": "stream",
     "text": [
      "C:\\Users\\afcad\\AppData\\Local\\Temp\\ipykernel_1044\\2763569990.py:69: RuntimeWarning: This filename (Sujeto32_R_processed.fif) does not conform to MNE naming conventions. All epochs files should end with -epo.fif, -epo.fif.gz, _epo.fif or _epo.fif.gz\n",
      "  epochs_R = mne.read_epochs(file_R, preload=True)\n"
     ]
    },
    {
     "name": "stdout",
     "output_type": "stream",
     "text": [
      "    Found the data of interest:\n",
      "        t =   -2500.00 ...    2500.00 ms\n",
      "        0 CTF compensation matrices available\n",
      "Not setting metadata\n",
      "70 matching events found\n",
      "No baseline correction applied\n",
      "0 projection items activated\n",
      "Reading c:\\Users\\afcad\\Downloads\\Sujeto32_MF_processed.fif ...\n"
     ]
    },
    {
     "name": "stderr",
     "output_type": "stream",
     "text": [
      "C:\\Users\\afcad\\AppData\\Local\\Temp\\ipykernel_1044\\2763569990.py:70: RuntimeWarning: This filename (Sujeto32_MF_processed.fif) does not conform to MNE naming conventions. All epochs files should end with -epo.fif, -epo.fif.gz, _epo.fif or _epo.fif.gz\n",
      "  epochs_MF = mne.read_epochs(file_MF, preload=True)\n"
     ]
    },
    {
     "name": "stdout",
     "output_type": "stream",
     "text": [
      "    Found the data of interest:\n",
      "        t =   -2500.00 ...    2500.00 ms\n",
      "        0 CTF compensation matrices available\n",
      "Not setting metadata\n",
      "127 matching events found\n",
      "No baseline correction applied\n",
      "0 projection items activated\n",
      "Effective window size : 0.250 (s)\n",
      "Effective window size : 0.250 (s)\n",
      "Reading c:\\Users\\afcad\\Downloads\\Sujeto36_R_processed.fif ...\n",
      "    Found the data of interest:\n",
      "        t =   -2500.00 ...    2500.00 ms\n"
     ]
    },
    {
     "name": "stderr",
     "output_type": "stream",
     "text": [
      "C:\\Users\\afcad\\AppData\\Local\\Temp\\ipykernel_1044\\2763569990.py:69: RuntimeWarning: This filename (Sujeto36_R_processed.fif) does not conform to MNE naming conventions. All epochs files should end with -epo.fif, -epo.fif.gz, _epo.fif or _epo.fif.gz\n",
      "  epochs_R = mne.read_epochs(file_R, preload=True)\n"
     ]
    },
    {
     "name": "stdout",
     "output_type": "stream",
     "text": [
      "        0 CTF compensation matrices available\n",
      "Not setting metadata\n",
      "61 matching events found\n",
      "No baseline correction applied\n",
      "0 projection items activated\n",
      "Reading c:\\Users\\afcad\\Downloads\\Sujeto36_MF_processed.fif ...\n"
     ]
    },
    {
     "name": "stderr",
     "output_type": "stream",
     "text": [
      "C:\\Users\\afcad\\AppData\\Local\\Temp\\ipykernel_1044\\2763569990.py:70: RuntimeWarning: This filename (Sujeto36_MF_processed.fif) does not conform to MNE naming conventions. All epochs files should end with -epo.fif, -epo.fif.gz, _epo.fif or _epo.fif.gz\n",
      "  epochs_MF = mne.read_epochs(file_MF, preload=True)\n"
     ]
    },
    {
     "name": "stdout",
     "output_type": "stream",
     "text": [
      "    Found the data of interest:\n",
      "        t =   -2500.00 ...    2500.00 ms\n",
      "        0 CTF compensation matrices available\n",
      "Not setting metadata\n",
      "133 matching events found\n",
      "No baseline correction applied\n",
      "0 projection items activated\n",
      "Effective window size : 0.250 (s)\n",
      "Effective window size : 0.250 (s)\n",
      "Reading c:\\Users\\afcad\\Downloads\\Sujeto37_R_processed.fif ...\n"
     ]
    },
    {
     "name": "stderr",
     "output_type": "stream",
     "text": [
      "C:\\Users\\afcad\\AppData\\Local\\Temp\\ipykernel_1044\\2763569990.py:69: RuntimeWarning: This filename (Sujeto37_R_processed.fif) does not conform to MNE naming conventions. All epochs files should end with -epo.fif, -epo.fif.gz, _epo.fif or _epo.fif.gz\n",
      "  epochs_R = mne.read_epochs(file_R, preload=True)\n"
     ]
    },
    {
     "name": "stdout",
     "output_type": "stream",
     "text": [
      "    Found the data of interest:\n",
      "        t =   -2500.00 ...    2500.00 ms\n",
      "        0 CTF compensation matrices available\n",
      "Not setting metadata\n",
      "71 matching events found\n",
      "No baseline correction applied\n",
      "0 projection items activated\n",
      "Reading c:\\Users\\afcad\\Downloads\\Sujeto37_MF_processed.fif ...\n"
     ]
    },
    {
     "name": "stderr",
     "output_type": "stream",
     "text": [
      "C:\\Users\\afcad\\AppData\\Local\\Temp\\ipykernel_1044\\2763569990.py:70: RuntimeWarning: This filename (Sujeto37_MF_processed.fif) does not conform to MNE naming conventions. All epochs files should end with -epo.fif, -epo.fif.gz, _epo.fif or _epo.fif.gz\n",
      "  epochs_MF = mne.read_epochs(file_MF, preload=True)\n"
     ]
    },
    {
     "name": "stdout",
     "output_type": "stream",
     "text": [
      "    Found the data of interest:\n",
      "        t =   -2500.00 ...    2500.00 ms\n",
      "        0 CTF compensation matrices available\n",
      "Not setting metadata\n",
      "141 matching events found\n",
      "No baseline correction applied\n",
      "0 projection items activated\n",
      "Effective window size : 0.250 (s)\n",
      "Effective window size : 0.250 (s)\n",
      "Resting - Theta (4–8 Hz): 0 significant channels (p < 0.05)\n",
      "Mindfulness - Theta (4–8 Hz): 0 significant channels (p < 0.05)\n",
      "Difference (MF - R) - Theta (4–8 Hz): 25 significant channels (p < 0.05)\n",
      "Reading c:\\Users\\afcad\\Downloads\\Sujeto1_R_processed.fif ...\n",
      "    Found the data of interest:\n",
      "        t =   -2500.00 ...    2500.00 ms\n"
     ]
    },
    {
     "name": "stderr",
     "output_type": "stream",
     "text": [
      "C:\\Users\\afcad\\AppData\\Local\\Temp\\ipykernel_1044\\2763569990.py:69: RuntimeWarning: This filename (Sujeto1_R_processed.fif) does not conform to MNE naming conventions. All epochs files should end with -epo.fif, -epo.fif.gz, _epo.fif or _epo.fif.gz\n",
      "  epochs_R = mne.read_epochs(file_R, preload=True)\n"
     ]
    },
    {
     "name": "stdout",
     "output_type": "stream",
     "text": [
      "        0 CTF compensation matrices available\n",
      "Not setting metadata\n",
      "68 matching events found\n",
      "No baseline correction applied\n",
      "0 projection items activated\n",
      "Reading c:\\Users\\afcad\\Downloads\\Sujeto1_MF_processed.fif ...\n"
     ]
    },
    {
     "name": "stderr",
     "output_type": "stream",
     "text": [
      "C:\\Users\\afcad\\AppData\\Local\\Temp\\ipykernel_1044\\2763569990.py:70: RuntimeWarning: This filename (Sujeto1_MF_processed.fif) does not conform to MNE naming conventions. All epochs files should end with -epo.fif, -epo.fif.gz, _epo.fif or _epo.fif.gz\n",
      "  epochs_MF = mne.read_epochs(file_MF, preload=True)\n"
     ]
    },
    {
     "name": "stdout",
     "output_type": "stream",
     "text": [
      "    Found the data of interest:\n",
      "        t =   -2500.00 ...    2500.00 ms\n",
      "        0 CTF compensation matrices available\n",
      "Not setting metadata\n",
      "145 matching events found\n",
      "No baseline correction applied\n",
      "0 projection items activated\n",
      "Effective window size : 0.250 (s)\n",
      "Effective window size : 0.250 (s)\n",
      "Reading c:\\Users\\afcad\\Downloads\\Sujeto2_R_processed.fif ...\n",
      "    Found the data of interest:\n",
      "        t =   -2500.00 ...    2500.00 ms\n",
      "        0 CTF compensation matrices available\n"
     ]
    },
    {
     "name": "stderr",
     "output_type": "stream",
     "text": [
      "C:\\Users\\afcad\\AppData\\Local\\Temp\\ipykernel_1044\\2763569990.py:69: RuntimeWarning: This filename (Sujeto2_R_processed.fif) does not conform to MNE naming conventions. All epochs files should end with -epo.fif, -epo.fif.gz, _epo.fif or _epo.fif.gz\n",
      "  epochs_R = mne.read_epochs(file_R, preload=True)\n"
     ]
    },
    {
     "name": "stdout",
     "output_type": "stream",
     "text": [
      "Not setting metadata\n",
      "58 matching events found\n",
      "No baseline correction applied\n",
      "0 projection items activated\n",
      "Reading c:\\Users\\afcad\\Downloads\\Sujeto2_MF_processed.fif ...\n"
     ]
    },
    {
     "name": "stderr",
     "output_type": "stream",
     "text": [
      "C:\\Users\\afcad\\AppData\\Local\\Temp\\ipykernel_1044\\2763569990.py:70: RuntimeWarning: This filename (Sujeto2_MF_processed.fif) does not conform to MNE naming conventions. All epochs files should end with -epo.fif, -epo.fif.gz, _epo.fif or _epo.fif.gz\n",
      "  epochs_MF = mne.read_epochs(file_MF, preload=True)\n"
     ]
    },
    {
     "name": "stdout",
     "output_type": "stream",
     "text": [
      "    Found the data of interest:\n",
      "        t =   -2500.00 ...    2500.00 ms\n",
      "        0 CTF compensation matrices available\n",
      "Not setting metadata\n",
      "138 matching events found\n",
      "No baseline correction applied\n",
      "0 projection items activated\n",
      "Effective window size : 0.250 (s)\n",
      "Effective window size : 0.250 (s)\n",
      "Reading c:\\Users\\afcad\\Downloads\\Sujeto3_R_processed.fif ...\n",
      "    Found the data of interest:\n",
      "        t =   -2500.00 ...    2500.00 ms\n",
      "        0 CTF compensation matrices available\n"
     ]
    },
    {
     "name": "stderr",
     "output_type": "stream",
     "text": [
      "C:\\Users\\afcad\\AppData\\Local\\Temp\\ipykernel_1044\\2763569990.py:69: RuntimeWarning: This filename (Sujeto3_R_processed.fif) does not conform to MNE naming conventions. All epochs files should end with -epo.fif, -epo.fif.gz, _epo.fif or _epo.fif.gz\n",
      "  epochs_R = mne.read_epochs(file_R, preload=True)\n"
     ]
    },
    {
     "name": "stdout",
     "output_type": "stream",
     "text": [
      "Not setting metadata\n",
      "61 matching events found\n",
      "No baseline correction applied\n",
      "0 projection items activated\n",
      "Reading c:\\Users\\afcad\\Downloads\\Sujeto3_MF_processed.fif ...\n"
     ]
    },
    {
     "name": "stderr",
     "output_type": "stream",
     "text": [
      "C:\\Users\\afcad\\AppData\\Local\\Temp\\ipykernel_1044\\2763569990.py:70: RuntimeWarning: This filename (Sujeto3_MF_processed.fif) does not conform to MNE naming conventions. All epochs files should end with -epo.fif, -epo.fif.gz, _epo.fif or _epo.fif.gz\n",
      "  epochs_MF = mne.read_epochs(file_MF, preload=True)\n"
     ]
    },
    {
     "name": "stdout",
     "output_type": "stream",
     "text": [
      "    Found the data of interest:\n",
      "        t =   -2500.00 ...    2500.00 ms\n",
      "        0 CTF compensation matrices available\n",
      "Not setting metadata\n",
      "131 matching events found\n",
      "No baseline correction applied\n",
      "0 projection items activated\n",
      "Effective window size : 0.250 (s)\n",
      "Effective window size : 0.250 (s)\n",
      "Reading c:\\Users\\afcad\\Downloads\\Sujeto4_R_processed.fif ...\n",
      "    Found the data of interest:\n",
      "        t =   -2500.00 ...    2500.00 ms\n",
      "        0 CTF compensation matrices available\n"
     ]
    },
    {
     "name": "stderr",
     "output_type": "stream",
     "text": [
      "C:\\Users\\afcad\\AppData\\Local\\Temp\\ipykernel_1044\\2763569990.py:69: RuntimeWarning: This filename (Sujeto4_R_processed.fif) does not conform to MNE naming conventions. All epochs files should end with -epo.fif, -epo.fif.gz, _epo.fif or _epo.fif.gz\n",
      "  epochs_R = mne.read_epochs(file_R, preload=True)\n"
     ]
    },
    {
     "name": "stdout",
     "output_type": "stream",
     "text": [
      "Not setting metadata\n",
      "60 matching events found\n",
      "No baseline correction applied\n",
      "0 projection items activated\n",
      "Reading c:\\Users\\afcad\\Downloads\\Sujeto4_MF_processed.fif ...\n"
     ]
    },
    {
     "name": "stderr",
     "output_type": "stream",
     "text": [
      "C:\\Users\\afcad\\AppData\\Local\\Temp\\ipykernel_1044\\2763569990.py:70: RuntimeWarning: This filename (Sujeto4_MF_processed.fif) does not conform to MNE naming conventions. All epochs files should end with -epo.fif, -epo.fif.gz, _epo.fif or _epo.fif.gz\n",
      "  epochs_MF = mne.read_epochs(file_MF, preload=True)\n"
     ]
    },
    {
     "name": "stdout",
     "output_type": "stream",
     "text": [
      "    Found the data of interest:\n",
      "        t =   -2500.00 ...    2500.00 ms\n",
      "        0 CTF compensation matrices available\n",
      "Not setting metadata\n",
      "143 matching events found\n",
      "No baseline correction applied\n",
      "0 projection items activated\n",
      "Effective window size : 0.250 (s)\n",
      "Effective window size : 0.250 (s)\n",
      "Reading c:\\Users\\afcad\\Downloads\\Sujeto5_R_processed.fif ...\n",
      "    Found the data of interest:\n",
      "        t =   -2500.00 ...    2500.00 ms\n",
      "        0 CTF compensation matrices available\n"
     ]
    },
    {
     "name": "stderr",
     "output_type": "stream",
     "text": [
      "C:\\Users\\afcad\\AppData\\Local\\Temp\\ipykernel_1044\\2763569990.py:69: RuntimeWarning: This filename (Sujeto5_R_processed.fif) does not conform to MNE naming conventions. All epochs files should end with -epo.fif, -epo.fif.gz, _epo.fif or _epo.fif.gz\n",
      "  epochs_R = mne.read_epochs(file_R, preload=True)\n"
     ]
    },
    {
     "name": "stdout",
     "output_type": "stream",
     "text": [
      "Not setting metadata\n",
      "63 matching events found\n",
      "No baseline correction applied\n",
      "0 projection items activated\n",
      "Reading c:\\Users\\afcad\\Downloads\\Sujeto5_MF_processed.fif ...\n"
     ]
    },
    {
     "name": "stderr",
     "output_type": "stream",
     "text": [
      "C:\\Users\\afcad\\AppData\\Local\\Temp\\ipykernel_1044\\2763569990.py:70: RuntimeWarning: This filename (Sujeto5_MF_processed.fif) does not conform to MNE naming conventions. All epochs files should end with -epo.fif, -epo.fif.gz, _epo.fif or _epo.fif.gz\n",
      "  epochs_MF = mne.read_epochs(file_MF, preload=True)\n"
     ]
    },
    {
     "name": "stdout",
     "output_type": "stream",
     "text": [
      "    Found the data of interest:\n",
      "        t =   -2500.00 ...    2500.00 ms\n",
      "        0 CTF compensation matrices available\n",
      "Not setting metadata\n",
      "141 matching events found\n",
      "No baseline correction applied\n",
      "0 projection items activated\n",
      "Effective window size : 0.250 (s)\n",
      "Effective window size : 0.250 (s)\n",
      "Reading c:\\Users\\afcad\\Downloads\\Sujeto6_R_processed.fif ...\n",
      "    Found the data of interest:\n"
     ]
    },
    {
     "name": "stderr",
     "output_type": "stream",
     "text": [
      "C:\\Users\\afcad\\AppData\\Local\\Temp\\ipykernel_1044\\2763569990.py:69: RuntimeWarning: This filename (Sujeto6_R_processed.fif) does not conform to MNE naming conventions. All epochs files should end with -epo.fif, -epo.fif.gz, _epo.fif or _epo.fif.gz\n",
      "  epochs_R = mne.read_epochs(file_R, preload=True)\n"
     ]
    },
    {
     "name": "stdout",
     "output_type": "stream",
     "text": [
      "        t =   -2500.00 ...    2500.00 ms\n",
      "        0 CTF compensation matrices available\n",
      "Not setting metadata\n",
      "72 matching events found\n",
      "No baseline correction applied\n",
      "0 projection items activated\n",
      "Reading c:\\Users\\afcad\\Downloads\\Sujeto6_MF_processed.fif ...\n"
     ]
    },
    {
     "name": "stderr",
     "output_type": "stream",
     "text": [
      "C:\\Users\\afcad\\AppData\\Local\\Temp\\ipykernel_1044\\2763569990.py:70: RuntimeWarning: This filename (Sujeto6_MF_processed.fif) does not conform to MNE naming conventions. All epochs files should end with -epo.fif, -epo.fif.gz, _epo.fif or _epo.fif.gz\n",
      "  epochs_MF = mne.read_epochs(file_MF, preload=True)\n"
     ]
    },
    {
     "name": "stdout",
     "output_type": "stream",
     "text": [
      "    Found the data of interest:\n",
      "        t =   -2500.00 ...    2500.00 ms\n",
      "        0 CTF compensation matrices available\n",
      "Not setting metadata\n",
      "107 matching events found\n",
      "No baseline correction applied\n",
      "0 projection items activated\n",
      "Effective window size : 0.250 (s)\n",
      "Effective window size : 0.250 (s)\n",
      "Reading c:\\Users\\afcad\\Downloads\\Sujeto7_R_processed.fif ...\n",
      "    Found the data of interest:\n",
      "        t =   -2500.00 ...    2500.00 ms\n",
      "        0 CTF compensation matrices available\n"
     ]
    },
    {
     "name": "stderr",
     "output_type": "stream",
     "text": [
      "C:\\Users\\afcad\\AppData\\Local\\Temp\\ipykernel_1044\\2763569990.py:69: RuntimeWarning: This filename (Sujeto7_R_processed.fif) does not conform to MNE naming conventions. All epochs files should end with -epo.fif, -epo.fif.gz, _epo.fif or _epo.fif.gz\n",
      "  epochs_R = mne.read_epochs(file_R, preload=True)\n"
     ]
    },
    {
     "name": "stdout",
     "output_type": "stream",
     "text": [
      "Not setting metadata\n",
      "55 matching events found\n",
      "No baseline correction applied\n",
      "0 projection items activated\n",
      "Reading c:\\Users\\afcad\\Downloads\\Sujeto7_MF_processed.fif ...\n"
     ]
    },
    {
     "name": "stderr",
     "output_type": "stream",
     "text": [
      "C:\\Users\\afcad\\AppData\\Local\\Temp\\ipykernel_1044\\2763569990.py:70: RuntimeWarning: This filename (Sujeto7_MF_processed.fif) does not conform to MNE naming conventions. All epochs files should end with -epo.fif, -epo.fif.gz, _epo.fif or _epo.fif.gz\n",
      "  epochs_MF = mne.read_epochs(file_MF, preload=True)\n"
     ]
    },
    {
     "name": "stdout",
     "output_type": "stream",
     "text": [
      "    Found the data of interest:\n",
      "        t =   -2500.00 ...    2500.00 ms\n",
      "        0 CTF compensation matrices available\n",
      "Not setting metadata\n",
      "130 matching events found\n",
      "No baseline correction applied\n",
      "0 projection items activated\n",
      "Effective window size : 0.250 (s)\n",
      "Effective window size : 0.250 (s)\n",
      "Reading c:\\Users\\afcad\\Downloads\\Sujeto8_R_processed.fif ...\n",
      "    Found the data of interest:\n",
      "        t =   -2500.00 ...    2500.00 ms\n",
      "        0 CTF compensation matrices available\n"
     ]
    },
    {
     "name": "stderr",
     "output_type": "stream",
     "text": [
      "C:\\Users\\afcad\\AppData\\Local\\Temp\\ipykernel_1044\\2763569990.py:69: RuntimeWarning: This filename (Sujeto8_R_processed.fif) does not conform to MNE naming conventions. All epochs files should end with -epo.fif, -epo.fif.gz, _epo.fif or _epo.fif.gz\n",
      "  epochs_R = mne.read_epochs(file_R, preload=True)\n"
     ]
    },
    {
     "name": "stdout",
     "output_type": "stream",
     "text": [
      "Not setting metadata\n",
      "63 matching events found\n",
      "No baseline correction applied\n",
      "0 projection items activated\n",
      "Reading c:\\Users\\afcad\\Downloads\\Sujeto8_MF_processed.fif ...\n"
     ]
    },
    {
     "name": "stderr",
     "output_type": "stream",
     "text": [
      "C:\\Users\\afcad\\AppData\\Local\\Temp\\ipykernel_1044\\2763569990.py:70: RuntimeWarning: This filename (Sujeto8_MF_processed.fif) does not conform to MNE naming conventions. All epochs files should end with -epo.fif, -epo.fif.gz, _epo.fif or _epo.fif.gz\n",
      "  epochs_MF = mne.read_epochs(file_MF, preload=True)\n"
     ]
    },
    {
     "name": "stdout",
     "output_type": "stream",
     "text": [
      "    Found the data of interest:\n",
      "        t =   -2500.00 ...    2500.00 ms\n",
      "        0 CTF compensation matrices available\n",
      "Not setting metadata\n",
      "138 matching events found\n",
      "No baseline correction applied\n",
      "0 projection items activated\n",
      "Effective window size : 0.250 (s)\n",
      "Effective window size : 0.250 (s)\n",
      "Reading c:\\Users\\afcad\\Downloads\\Sujeto9_R_processed.fif ...\n",
      "    Found the data of interest:\n",
      "        t =   -2500.00 ...    2500.00 ms\n",
      "        0 CTF compensation matrices available\n"
     ]
    },
    {
     "name": "stderr",
     "output_type": "stream",
     "text": [
      "C:\\Users\\afcad\\AppData\\Local\\Temp\\ipykernel_1044\\2763569990.py:69: RuntimeWarning: This filename (Sujeto9_R_processed.fif) does not conform to MNE naming conventions. All epochs files should end with -epo.fif, -epo.fif.gz, _epo.fif or _epo.fif.gz\n",
      "  epochs_R = mne.read_epochs(file_R, preload=True)\n"
     ]
    },
    {
     "name": "stdout",
     "output_type": "stream",
     "text": [
      "Not setting metadata\n",
      "60 matching events found\n",
      "No baseline correction applied\n",
      "0 projection items activated\n",
      "Reading c:\\Users\\afcad\\Downloads\\Sujeto9_MF_processed.fif ...\n"
     ]
    },
    {
     "name": "stderr",
     "output_type": "stream",
     "text": [
      "C:\\Users\\afcad\\AppData\\Local\\Temp\\ipykernel_1044\\2763569990.py:70: RuntimeWarning: This filename (Sujeto9_MF_processed.fif) does not conform to MNE naming conventions. All epochs files should end with -epo.fif, -epo.fif.gz, _epo.fif or _epo.fif.gz\n",
      "  epochs_MF = mne.read_epochs(file_MF, preload=True)\n"
     ]
    },
    {
     "name": "stdout",
     "output_type": "stream",
     "text": [
      "    Found the data of interest:\n",
      "        t =   -2500.00 ...    2500.00 ms\n",
      "        0 CTF compensation matrices available\n",
      "Not setting metadata\n",
      "143 matching events found\n",
      "No baseline correction applied\n",
      "0 projection items activated\n",
      "Effective window size : 0.250 (s)\n",
      "Effective window size : 0.250 (s)\n",
      "Reading c:\\Users\\afcad\\Downloads\\Sujeto10_R_processed.fif ...\n",
      "    Found the data of interest:\n",
      "        t =   -2500.00 ...    2500.00 ms\n",
      "        0 CTF compensation matrices available\n"
     ]
    },
    {
     "name": "stderr",
     "output_type": "stream",
     "text": [
      "C:\\Users\\afcad\\AppData\\Local\\Temp\\ipykernel_1044\\2763569990.py:69: RuntimeWarning: This filename (Sujeto10_R_processed.fif) does not conform to MNE naming conventions. All epochs files should end with -epo.fif, -epo.fif.gz, _epo.fif or _epo.fif.gz\n",
      "  epochs_R = mne.read_epochs(file_R, preload=True)\n"
     ]
    },
    {
     "name": "stdout",
     "output_type": "stream",
     "text": [
      "Not setting metadata\n",
      "64 matching events found\n",
      "No baseline correction applied\n",
      "0 projection items activated\n",
      "Reading c:\\Users\\afcad\\Downloads\\Sujeto10_MF_processed.fif ...\n"
     ]
    },
    {
     "name": "stderr",
     "output_type": "stream",
     "text": [
      "C:\\Users\\afcad\\AppData\\Local\\Temp\\ipykernel_1044\\2763569990.py:70: RuntimeWarning: This filename (Sujeto10_MF_processed.fif) does not conform to MNE naming conventions. All epochs files should end with -epo.fif, -epo.fif.gz, _epo.fif or _epo.fif.gz\n",
      "  epochs_MF = mne.read_epochs(file_MF, preload=True)\n"
     ]
    },
    {
     "name": "stdout",
     "output_type": "stream",
     "text": [
      "    Found the data of interest:\n",
      "        t =   -2500.00 ...    2500.00 ms\n",
      "        0 CTF compensation matrices available\n",
      "Not setting metadata\n",
      "137 matching events found\n",
      "No baseline correction applied\n",
      "0 projection items activated\n",
      "Effective window size : 0.250 (s)\n",
      "Effective window size : 0.250 (s)\n",
      "Reading c:\\Users\\afcad\\Downloads\\Sujeto11_R_processed.fif ...\n",
      "    Found the data of interest:\n",
      "        t =   -2500.00 ...    2500.00 ms\n",
      "        0 CTF compensation matrices available\n"
     ]
    },
    {
     "name": "stderr",
     "output_type": "stream",
     "text": [
      "C:\\Users\\afcad\\AppData\\Local\\Temp\\ipykernel_1044\\2763569990.py:69: RuntimeWarning: This filename (Sujeto11_R_processed.fif) does not conform to MNE naming conventions. All epochs files should end with -epo.fif, -epo.fif.gz, _epo.fif or _epo.fif.gz\n",
      "  epochs_R = mne.read_epochs(file_R, preload=True)\n"
     ]
    },
    {
     "name": "stdout",
     "output_type": "stream",
     "text": [
      "Not setting metadata\n",
      "53 matching events found\n",
      "No baseline correction applied\n",
      "0 projection items activated\n",
      "Reading c:\\Users\\afcad\\Downloads\\Sujeto11_MF_processed.fif ...\n"
     ]
    },
    {
     "name": "stderr",
     "output_type": "stream",
     "text": [
      "C:\\Users\\afcad\\AppData\\Local\\Temp\\ipykernel_1044\\2763569990.py:70: RuntimeWarning: This filename (Sujeto11_MF_processed.fif) does not conform to MNE naming conventions. All epochs files should end with -epo.fif, -epo.fif.gz, _epo.fif or _epo.fif.gz\n",
      "  epochs_MF = mne.read_epochs(file_MF, preload=True)\n"
     ]
    },
    {
     "name": "stdout",
     "output_type": "stream",
     "text": [
      "    Found the data of interest:\n",
      "        t =   -2500.00 ...    2500.00 ms\n",
      "        0 CTF compensation matrices available\n",
      "Not setting metadata\n",
      "107 matching events found\n",
      "No baseline correction applied\n",
      "0 projection items activated\n",
      "Effective window size : 0.250 (s)\n",
      "Effective window size : 0.250 (s)\n",
      "Reading c:\\Users\\afcad\\Downloads\\Sujeto13_R_processed.fif ...\n",
      "    Found the data of interest:\n"
     ]
    },
    {
     "name": "stderr",
     "output_type": "stream",
     "text": [
      "C:\\Users\\afcad\\AppData\\Local\\Temp\\ipykernel_1044\\2763569990.py:69: RuntimeWarning: This filename (Sujeto13_R_processed.fif) does not conform to MNE naming conventions. All epochs files should end with -epo.fif, -epo.fif.gz, _epo.fif or _epo.fif.gz\n",
      "  epochs_R = mne.read_epochs(file_R, preload=True)\n"
     ]
    },
    {
     "name": "stdout",
     "output_type": "stream",
     "text": [
      "        t =   -2500.00 ...    2500.00 ms\n",
      "        0 CTF compensation matrices available\n",
      "Not setting metadata\n",
      "63 matching events found\n",
      "No baseline correction applied\n",
      "0 projection items activated\n",
      "Reading c:\\Users\\afcad\\Downloads\\Sujeto13_MF_processed.fif ...\n"
     ]
    },
    {
     "name": "stderr",
     "output_type": "stream",
     "text": [
      "C:\\Users\\afcad\\AppData\\Local\\Temp\\ipykernel_1044\\2763569990.py:70: RuntimeWarning: This filename (Sujeto13_MF_processed.fif) does not conform to MNE naming conventions. All epochs files should end with -epo.fif, -epo.fif.gz, _epo.fif or _epo.fif.gz\n",
      "  epochs_MF = mne.read_epochs(file_MF, preload=True)\n"
     ]
    },
    {
     "name": "stdout",
     "output_type": "stream",
     "text": [
      "    Found the data of interest:\n",
      "        t =   -2500.00 ...    2500.00 ms\n",
      "        0 CTF compensation matrices available\n",
      "Not setting metadata\n",
      "141 matching events found\n",
      "No baseline correction applied\n",
      "0 projection items activated\n",
      "Effective window size : 0.250 (s)\n",
      "Effective window size : 0.250 (s)\n",
      "Reading c:\\Users\\afcad\\Downloads\\Sujeto14_R_processed.fif ...\n",
      "    Found the data of interest:\n",
      "        t =   -2500.00 ...    2500.00 ms\n",
      "        0 CTF compensation matrices available\n"
     ]
    },
    {
     "name": "stderr",
     "output_type": "stream",
     "text": [
      "C:\\Users\\afcad\\AppData\\Local\\Temp\\ipykernel_1044\\2763569990.py:69: RuntimeWarning: This filename (Sujeto14_R_processed.fif) does not conform to MNE naming conventions. All epochs files should end with -epo.fif, -epo.fif.gz, _epo.fif or _epo.fif.gz\n",
      "  epochs_R = mne.read_epochs(file_R, preload=True)\n"
     ]
    },
    {
     "name": "stdout",
     "output_type": "stream",
     "text": [
      "Not setting metadata\n",
      "71 matching events found\n",
      "No baseline correction applied\n",
      "0 projection items activated\n",
      "Reading c:\\Users\\afcad\\Downloads\\Sujeto14_MF_processed.fif ...\n"
     ]
    },
    {
     "name": "stderr",
     "output_type": "stream",
     "text": [
      "C:\\Users\\afcad\\AppData\\Local\\Temp\\ipykernel_1044\\2763569990.py:70: RuntimeWarning: This filename (Sujeto14_MF_processed.fif) does not conform to MNE naming conventions. All epochs files should end with -epo.fif, -epo.fif.gz, _epo.fif or _epo.fif.gz\n",
      "  epochs_MF = mne.read_epochs(file_MF, preload=True)\n"
     ]
    },
    {
     "name": "stdout",
     "output_type": "stream",
     "text": [
      "    Found the data of interest:\n",
      "        t =   -2500.00 ...    2500.00 ms\n",
      "        0 CTF compensation matrices available\n",
      "Not setting metadata\n",
      "141 matching events found\n",
      "No baseline correction applied\n",
      "0 projection items activated\n",
      "Effective window size : 0.250 (s)\n",
      "Effective window size : 0.250 (s)\n",
      "Reading c:\\Users\\afcad\\Downloads\\Sujeto15_R_processed.fif ...\n",
      "    Found the data of interest:\n",
      "        t =   -2500.00 ...    2500.00 ms\n",
      "        0 CTF compensation matrices available\n"
     ]
    },
    {
     "name": "stderr",
     "output_type": "stream",
     "text": [
      "C:\\Users\\afcad\\AppData\\Local\\Temp\\ipykernel_1044\\2763569990.py:69: RuntimeWarning: This filename (Sujeto15_R_processed.fif) does not conform to MNE naming conventions. All epochs files should end with -epo.fif, -epo.fif.gz, _epo.fif or _epo.fif.gz\n",
      "  epochs_R = mne.read_epochs(file_R, preload=True)\n"
     ]
    },
    {
     "name": "stdout",
     "output_type": "stream",
     "text": [
      "Not setting metadata\n",
      "69 matching events found\n",
      "No baseline correction applied\n",
      "0 projection items activated\n",
      "Reading c:\\Users\\afcad\\Downloads\\Sujeto15_MF_processed.fif ...\n"
     ]
    },
    {
     "name": "stderr",
     "output_type": "stream",
     "text": [
      "C:\\Users\\afcad\\AppData\\Local\\Temp\\ipykernel_1044\\2763569990.py:70: RuntimeWarning: This filename (Sujeto15_MF_processed.fif) does not conform to MNE naming conventions. All epochs files should end with -epo.fif, -epo.fif.gz, _epo.fif or _epo.fif.gz\n",
      "  epochs_MF = mne.read_epochs(file_MF, preload=True)\n"
     ]
    },
    {
     "name": "stdout",
     "output_type": "stream",
     "text": [
      "    Found the data of interest:\n",
      "        t =   -2500.00 ...    2500.00 ms\n",
      "        0 CTF compensation matrices available\n",
      "Not setting metadata\n",
      "141 matching events found\n",
      "No baseline correction applied\n",
      "0 projection items activated\n",
      "Effective window size : 0.250 (s)\n",
      "Effective window size : 0.250 (s)\n",
      "Reading c:\\Users\\afcad\\Downloads\\Sujeto16_R_processed.fif ...\n",
      "    Found the data of interest:\n",
      "        t =   -2500.00 ...    2500.00 ms\n",
      "        0 CTF compensation matrices available\n"
     ]
    },
    {
     "name": "stderr",
     "output_type": "stream",
     "text": [
      "C:\\Users\\afcad\\AppData\\Local\\Temp\\ipykernel_1044\\2763569990.py:69: RuntimeWarning: This filename (Sujeto16_R_processed.fif) does not conform to MNE naming conventions. All epochs files should end with -epo.fif, -epo.fif.gz, _epo.fif or _epo.fif.gz\n",
      "  epochs_R = mne.read_epochs(file_R, preload=True)\n"
     ]
    },
    {
     "name": "stdout",
     "output_type": "stream",
     "text": [
      "Not setting metadata\n",
      "52 matching events found\n",
      "No baseline correction applied\n",
      "0 projection items activated\n",
      "Reading c:\\Users\\afcad\\Downloads\\Sujeto16_MF_processed.fif ...\n"
     ]
    },
    {
     "name": "stderr",
     "output_type": "stream",
     "text": [
      "C:\\Users\\afcad\\AppData\\Local\\Temp\\ipykernel_1044\\2763569990.py:70: RuntimeWarning: This filename (Sujeto16_MF_processed.fif) does not conform to MNE naming conventions. All epochs files should end with -epo.fif, -epo.fif.gz, _epo.fif or _epo.fif.gz\n",
      "  epochs_MF = mne.read_epochs(file_MF, preload=True)\n"
     ]
    },
    {
     "name": "stdout",
     "output_type": "stream",
     "text": [
      "    Found the data of interest:\n",
      "        t =   -2500.00 ...    2500.00 ms\n",
      "        0 CTF compensation matrices available\n",
      "Not setting metadata\n",
      "106 matching events found\n",
      "No baseline correction applied\n",
      "0 projection items activated\n",
      "Effective window size : 0.250 (s)\n",
      "Effective window size : 0.250 (s)\n",
      "Reading c:\\Users\\afcad\\Downloads\\Sujeto17_R_processed.fif ...\n",
      "    Found the data of interest:\n",
      "        t =   -2500.00 ...    2500.00 ms\n",
      "        0 CTF compensation matrices available\n"
     ]
    },
    {
     "name": "stderr",
     "output_type": "stream",
     "text": [
      "C:\\Users\\afcad\\AppData\\Local\\Temp\\ipykernel_1044\\2763569990.py:69: RuntimeWarning: This filename (Sujeto17_R_processed.fif) does not conform to MNE naming conventions. All epochs files should end with -epo.fif, -epo.fif.gz, _epo.fif or _epo.fif.gz\n",
      "  epochs_R = mne.read_epochs(file_R, preload=True)\n"
     ]
    },
    {
     "name": "stdout",
     "output_type": "stream",
     "text": [
      "Not setting metadata\n",
      "72 matching events found\n",
      "No baseline correction applied\n",
      "0 projection items activated\n",
      "Reading c:\\Users\\afcad\\Downloads\\Sujeto17_MF_processed.fif ...\n"
     ]
    },
    {
     "name": "stderr",
     "output_type": "stream",
     "text": [
      "C:\\Users\\afcad\\AppData\\Local\\Temp\\ipykernel_1044\\2763569990.py:70: RuntimeWarning: This filename (Sujeto17_MF_processed.fif) does not conform to MNE naming conventions. All epochs files should end with -epo.fif, -epo.fif.gz, _epo.fif or _epo.fif.gz\n",
      "  epochs_MF = mne.read_epochs(file_MF, preload=True)\n"
     ]
    },
    {
     "name": "stdout",
     "output_type": "stream",
     "text": [
      "    Found the data of interest:\n",
      "        t =   -2500.00 ...    2500.00 ms\n",
      "        0 CTF compensation matrices available\n",
      "Not setting metadata\n",
      "145 matching events found\n",
      "No baseline correction applied\n",
      "0 projection items activated\n",
      "Effective window size : 0.250 (s)\n",
      "Effective window size : 0.250 (s)\n",
      "Reading c:\\Users\\afcad\\Downloads\\Sujeto18_R_processed.fif ...\n",
      "    Found the data of interest:\n",
      "        t =   -2500.00 ...    2500.00 ms\n",
      "        0 CTF compensation matrices available\n"
     ]
    },
    {
     "name": "stderr",
     "output_type": "stream",
     "text": [
      "C:\\Users\\afcad\\AppData\\Local\\Temp\\ipykernel_1044\\2763569990.py:69: RuntimeWarning: This filename (Sujeto18_R_processed.fif) does not conform to MNE naming conventions. All epochs files should end with -epo.fif, -epo.fif.gz, _epo.fif or _epo.fif.gz\n",
      "  epochs_R = mne.read_epochs(file_R, preload=True)\n"
     ]
    },
    {
     "name": "stdout",
     "output_type": "stream",
     "text": [
      "Not setting metadata\n",
      "44 matching events found\n",
      "No baseline correction applied\n",
      "0 projection items activated\n",
      "Reading c:\\Users\\afcad\\Downloads\\Sujeto18_MF_processed.fif ...\n"
     ]
    },
    {
     "name": "stderr",
     "output_type": "stream",
     "text": [
      "C:\\Users\\afcad\\AppData\\Local\\Temp\\ipykernel_1044\\2763569990.py:70: RuntimeWarning: This filename (Sujeto18_MF_processed.fif) does not conform to MNE naming conventions. All epochs files should end with -epo.fif, -epo.fif.gz, _epo.fif or _epo.fif.gz\n",
      "  epochs_MF = mne.read_epochs(file_MF, preload=True)\n"
     ]
    },
    {
     "name": "stdout",
     "output_type": "stream",
     "text": [
      "    Found the data of interest:\n",
      "        t =   -2500.00 ...    2500.00 ms\n",
      "        0 CTF compensation matrices available\n",
      "Not setting metadata\n",
      "137 matching events found\n",
      "No baseline correction applied\n",
      "0 projection items activated\n",
      "Effective window size : 0.250 (s)\n",
      "Effective window size : 0.250 (s)\n",
      "Reading c:\\Users\\afcad\\Downloads\\Sujeto19_R_processed.fif ...\n",
      "    Found the data of interest:\n",
      "        t =   -2500.00 ...    2500.00 ms\n",
      "        0 CTF compensation matrices available\n"
     ]
    },
    {
     "name": "stderr",
     "output_type": "stream",
     "text": [
      "C:\\Users\\afcad\\AppData\\Local\\Temp\\ipykernel_1044\\2763569990.py:69: RuntimeWarning: This filename (Sujeto19_R_processed.fif) does not conform to MNE naming conventions. All epochs files should end with -epo.fif, -epo.fif.gz, _epo.fif or _epo.fif.gz\n",
      "  epochs_R = mne.read_epochs(file_R, preload=True)\n"
     ]
    },
    {
     "name": "stdout",
     "output_type": "stream",
     "text": [
      "Not setting metadata\n",
      "68 matching events found\n",
      "No baseline correction applied\n",
      "0 projection items activated\n",
      "Reading c:\\Users\\afcad\\Downloads\\Sujeto19_MF_processed.fif ...\n"
     ]
    },
    {
     "name": "stderr",
     "output_type": "stream",
     "text": [
      "C:\\Users\\afcad\\AppData\\Local\\Temp\\ipykernel_1044\\2763569990.py:70: RuntimeWarning: This filename (Sujeto19_MF_processed.fif) does not conform to MNE naming conventions. All epochs files should end with -epo.fif, -epo.fif.gz, _epo.fif or _epo.fif.gz\n",
      "  epochs_MF = mne.read_epochs(file_MF, preload=True)\n"
     ]
    },
    {
     "name": "stdout",
     "output_type": "stream",
     "text": [
      "    Found the data of interest:\n",
      "        t =   -2500.00 ...    2500.00 ms\n",
      "        0 CTF compensation matrices available\n",
      "Not setting metadata\n",
      "143 matching events found\n",
      "No baseline correction applied\n",
      "0 projection items activated\n",
      "Effective window size : 0.250 (s)\n",
      "Effective window size : 0.250 (s)\n",
      "Reading c:\\Users\\afcad\\Downloads\\Sujeto20_R_processed.fif ...\n",
      "    Found the data of interest:\n",
      "        t =   -2500.00 ...    2500.00 ms\n",
      "        0 CTF compensation matrices available\n"
     ]
    },
    {
     "name": "stderr",
     "output_type": "stream",
     "text": [
      "C:\\Users\\afcad\\AppData\\Local\\Temp\\ipykernel_1044\\2763569990.py:69: RuntimeWarning: This filename (Sujeto20_R_processed.fif) does not conform to MNE naming conventions. All epochs files should end with -epo.fif, -epo.fif.gz, _epo.fif or _epo.fif.gz\n",
      "  epochs_R = mne.read_epochs(file_R, preload=True)\n"
     ]
    },
    {
     "name": "stdout",
     "output_type": "stream",
     "text": [
      "Not setting metadata\n",
      "71 matching events found\n",
      "No baseline correction applied\n",
      "0 projection items activated\n",
      "Reading c:\\Users\\afcad\\Downloads\\Sujeto20_MF_processed.fif ...\n"
     ]
    },
    {
     "name": "stderr",
     "output_type": "stream",
     "text": [
      "C:\\Users\\afcad\\AppData\\Local\\Temp\\ipykernel_1044\\2763569990.py:70: RuntimeWarning: This filename (Sujeto20_MF_processed.fif) does not conform to MNE naming conventions. All epochs files should end with -epo.fif, -epo.fif.gz, _epo.fif or _epo.fif.gz\n",
      "  epochs_MF = mne.read_epochs(file_MF, preload=True)\n"
     ]
    },
    {
     "name": "stdout",
     "output_type": "stream",
     "text": [
      "    Found the data of interest:\n",
      "        t =   -2500.00 ...    2500.00 ms\n",
      "        0 CTF compensation matrices available\n",
      "Not setting metadata\n",
      "141 matching events found\n",
      "No baseline correction applied\n",
      "0 projection items activated\n",
      "Effective window size : 0.250 (s)\n",
      "Effective window size : 0.250 (s)\n",
      "Reading c:\\Users\\afcad\\Downloads\\Sujeto21_R_processed.fif ...\n",
      "    Found the data of interest:\n",
      "        t =   -2500.00 ...    2500.00 ms\n",
      "        0 CTF compensation matrices available\n"
     ]
    },
    {
     "name": "stderr",
     "output_type": "stream",
     "text": [
      "C:\\Users\\afcad\\AppData\\Local\\Temp\\ipykernel_1044\\2763569990.py:69: RuntimeWarning: This filename (Sujeto21_R_processed.fif) does not conform to MNE naming conventions. All epochs files should end with -epo.fif, -epo.fif.gz, _epo.fif or _epo.fif.gz\n",
      "  epochs_R = mne.read_epochs(file_R, preload=True)\n"
     ]
    },
    {
     "name": "stdout",
     "output_type": "stream",
     "text": [
      "Not setting metadata\n",
      "47 matching events found\n",
      "No baseline correction applied\n",
      "0 projection items activated\n",
      "Reading c:\\Users\\afcad\\Downloads\\Sujeto21_MF_processed.fif ...\n"
     ]
    },
    {
     "name": "stderr",
     "output_type": "stream",
     "text": [
      "C:\\Users\\afcad\\AppData\\Local\\Temp\\ipykernel_1044\\2763569990.py:70: RuntimeWarning: This filename (Sujeto21_MF_processed.fif) does not conform to MNE naming conventions. All epochs files should end with -epo.fif, -epo.fif.gz, _epo.fif or _epo.fif.gz\n",
      "  epochs_MF = mne.read_epochs(file_MF, preload=True)\n"
     ]
    },
    {
     "name": "stdout",
     "output_type": "stream",
     "text": [
      "    Found the data of interest:\n",
      "        t =   -2500.00 ...    2500.00 ms\n",
      "        0 CTF compensation matrices available\n",
      "Not setting metadata\n",
      "106 matching events found\n",
      "No baseline correction applied\n",
      "0 projection items activated\n",
      "Effective window size : 0.250 (s)\n",
      "Effective window size : 0.250 (s)\n",
      "Reading c:\\Users\\afcad\\Downloads\\Sujeto22_R_processed.fif ...\n",
      "    Found the data of interest:\n",
      "        t =   -2500.00 ...    2500.00 ms\n",
      "        0 CTF compensation matrices available\n"
     ]
    },
    {
     "name": "stderr",
     "output_type": "stream",
     "text": [
      "C:\\Users\\afcad\\AppData\\Local\\Temp\\ipykernel_1044\\2763569990.py:69: RuntimeWarning: This filename (Sujeto22_R_processed.fif) does not conform to MNE naming conventions. All epochs files should end with -epo.fif, -epo.fif.gz, _epo.fif or _epo.fif.gz\n",
      "  epochs_R = mne.read_epochs(file_R, preload=True)\n"
     ]
    },
    {
     "name": "stdout",
     "output_type": "stream",
     "text": [
      "Not setting metadata\n",
      "67 matching events found\n",
      "No baseline correction applied\n",
      "0 projection items activated\n",
      "Reading c:\\Users\\afcad\\Downloads\\Sujeto22_MF_processed.fif ...\n"
     ]
    },
    {
     "name": "stderr",
     "output_type": "stream",
     "text": [
      "C:\\Users\\afcad\\AppData\\Local\\Temp\\ipykernel_1044\\2763569990.py:70: RuntimeWarning: This filename (Sujeto22_MF_processed.fif) does not conform to MNE naming conventions. All epochs files should end with -epo.fif, -epo.fif.gz, _epo.fif or _epo.fif.gz\n",
      "  epochs_MF = mne.read_epochs(file_MF, preload=True)\n"
     ]
    },
    {
     "name": "stdout",
     "output_type": "stream",
     "text": [
      "    Found the data of interest:\n",
      "        t =   -2500.00 ...    2500.00 ms\n",
      "        0 CTF compensation matrices available\n",
      "Not setting metadata\n",
      "138 matching events found\n",
      "No baseline correction applied\n",
      "0 projection items activated\n",
      "Effective window size : 0.250 (s)\n",
      "Effective window size : 0.250 (s)\n",
      "Reading c:\\Users\\afcad\\Downloads\\Sujeto23_R_processed.fif ...\n",
      "    Found the data of interest:\n",
      "        t =   -2500.00 ...    2500.00 ms\n",
      "        0 CTF compensation matrices available\n",
      "Not setting metadata\n",
      "11 matching events found\n"
     ]
    },
    {
     "name": "stderr",
     "output_type": "stream",
     "text": [
      "C:\\Users\\afcad\\AppData\\Local\\Temp\\ipykernel_1044\\2763569990.py:69: RuntimeWarning: This filename (Sujeto23_R_processed.fif) does not conform to MNE naming conventions. All epochs files should end with -epo.fif, -epo.fif.gz, _epo.fif or _epo.fif.gz\n",
      "  epochs_R = mne.read_epochs(file_R, preload=True)\n"
     ]
    },
    {
     "name": "stdout",
     "output_type": "stream",
     "text": [
      "No baseline correction applied\n",
      "0 projection items activated\n",
      "Reading c:\\Users\\afcad\\Downloads\\Sujeto23_MF_processed.fif ...\n"
     ]
    },
    {
     "name": "stderr",
     "output_type": "stream",
     "text": [
      "C:\\Users\\afcad\\AppData\\Local\\Temp\\ipykernel_1044\\2763569990.py:70: RuntimeWarning: This filename (Sujeto23_MF_processed.fif) does not conform to MNE naming conventions. All epochs files should end with -epo.fif, -epo.fif.gz, _epo.fif or _epo.fif.gz\n",
      "  epochs_MF = mne.read_epochs(file_MF, preload=True)\n"
     ]
    },
    {
     "name": "stdout",
     "output_type": "stream",
     "text": [
      "    Found the data of interest:\n",
      "        t =   -2500.00 ...    2500.00 ms\n",
      "        0 CTF compensation matrices available\n",
      "Not setting metadata\n",
      "125 matching events found\n",
      "No baseline correction applied\n",
      "0 projection items activated\n",
      "Effective window size : 0.250 (s)\n",
      "Effective window size : 0.250 (s)\n",
      "Reading c:\\Users\\afcad\\Downloads\\Sujeto24_R_processed.fif ...\n",
      "    Found the data of interest:\n",
      "        t =   -2500.00 ...    2500.00 ms\n",
      "        0 CTF compensation matrices available\n"
     ]
    },
    {
     "name": "stderr",
     "output_type": "stream",
     "text": [
      "C:\\Users\\afcad\\AppData\\Local\\Temp\\ipykernel_1044\\2763569990.py:69: RuntimeWarning: This filename (Sujeto24_R_processed.fif) does not conform to MNE naming conventions. All epochs files should end with -epo.fif, -epo.fif.gz, _epo.fif or _epo.fif.gz\n",
      "  epochs_R = mne.read_epochs(file_R, preload=True)\n"
     ]
    },
    {
     "name": "stdout",
     "output_type": "stream",
     "text": [
      "Not setting metadata\n",
      "61 matching events found\n",
      "No baseline correction applied\n",
      "0 projection items activated\n",
      "Reading c:\\Users\\afcad\\Downloads\\Sujeto24_MF_processed.fif ...\n"
     ]
    },
    {
     "name": "stderr",
     "output_type": "stream",
     "text": [
      "C:\\Users\\afcad\\AppData\\Local\\Temp\\ipykernel_1044\\2763569990.py:70: RuntimeWarning: This filename (Sujeto24_MF_processed.fif) does not conform to MNE naming conventions. All epochs files should end with -epo.fif, -epo.fif.gz, _epo.fif or _epo.fif.gz\n",
      "  epochs_MF = mne.read_epochs(file_MF, preload=True)\n"
     ]
    },
    {
     "name": "stdout",
     "output_type": "stream",
     "text": [
      "    Found the data of interest:\n",
      "        t =   -2500.00 ...    2500.00 ms\n",
      "        0 CTF compensation matrices available\n",
      "Not setting metadata\n",
      "132 matching events found\n",
      "No baseline correction applied\n",
      "0 projection items activated\n",
      "Effective window size : 0.250 (s)\n",
      "Effective window size : 0.250 (s)\n",
      "Reading c:\\Users\\afcad\\Downloads\\Sujeto25_R_processed.fif ...\n"
     ]
    },
    {
     "name": "stderr",
     "output_type": "stream",
     "text": [
      "C:\\Users\\afcad\\AppData\\Local\\Temp\\ipykernel_1044\\2763569990.py:69: RuntimeWarning: This filename (Sujeto25_R_processed.fif) does not conform to MNE naming conventions. All epochs files should end with -epo.fif, -epo.fif.gz, _epo.fif or _epo.fif.gz\n",
      "  epochs_R = mne.read_epochs(file_R, preload=True)\n"
     ]
    },
    {
     "name": "stdout",
     "output_type": "stream",
     "text": [
      "    Found the data of interest:\n",
      "        t =   -2500.00 ...    2500.00 ms\n",
      "        0 CTF compensation matrices available\n",
      "Not setting metadata\n",
      "70 matching events found\n",
      "No baseline correction applied\n",
      "0 projection items activated\n",
      "Reading c:\\Users\\afcad\\Downloads\\Sujeto25_MF_processed.fif ...\n"
     ]
    },
    {
     "name": "stderr",
     "output_type": "stream",
     "text": [
      "C:\\Users\\afcad\\AppData\\Local\\Temp\\ipykernel_1044\\2763569990.py:70: RuntimeWarning: This filename (Sujeto25_MF_processed.fif) does not conform to MNE naming conventions. All epochs files should end with -epo.fif, -epo.fif.gz, _epo.fif or _epo.fif.gz\n",
      "  epochs_MF = mne.read_epochs(file_MF, preload=True)\n"
     ]
    },
    {
     "name": "stdout",
     "output_type": "stream",
     "text": [
      "    Found the data of interest:\n",
      "        t =   -2500.00 ...    2500.00 ms\n",
      "        0 CTF compensation matrices available\n",
      "Not setting metadata\n",
      "140 matching events found\n",
      "No baseline correction applied\n",
      "0 projection items activated\n",
      "Effective window size : 0.250 (s)\n",
      "Effective window size : 0.250 (s)\n",
      "Reading c:\\Users\\afcad\\Downloads\\Sujeto26_R_processed.fif ...\n",
      "    Found the data of interest:\n",
      "        t =   -2500.00 ...    2500.00 ms\n",
      "        0 CTF compensation matrices available\n"
     ]
    },
    {
     "name": "stderr",
     "output_type": "stream",
     "text": [
      "C:\\Users\\afcad\\AppData\\Local\\Temp\\ipykernel_1044\\2763569990.py:69: RuntimeWarning: This filename (Sujeto26_R_processed.fif) does not conform to MNE naming conventions. All epochs files should end with -epo.fif, -epo.fif.gz, _epo.fif or _epo.fif.gz\n",
      "  epochs_R = mne.read_epochs(file_R, preload=True)\n"
     ]
    },
    {
     "name": "stdout",
     "output_type": "stream",
     "text": [
      "Not setting metadata\n",
      "63 matching events found\n",
      "No baseline correction applied\n",
      "0 projection items activated\n",
      "Reading c:\\Users\\afcad\\Downloads\\Sujeto26_MF_processed.fif ...\n",
      "    Found the data of interest:\n"
     ]
    },
    {
     "name": "stderr",
     "output_type": "stream",
     "text": [
      "C:\\Users\\afcad\\AppData\\Local\\Temp\\ipykernel_1044\\2763569990.py:70: RuntimeWarning: This filename (Sujeto26_MF_processed.fif) does not conform to MNE naming conventions. All epochs files should end with -epo.fif, -epo.fif.gz, _epo.fif or _epo.fif.gz\n",
      "  epochs_MF = mne.read_epochs(file_MF, preload=True)\n"
     ]
    },
    {
     "name": "stdout",
     "output_type": "stream",
     "text": [
      "        t =   -2500.00 ...    2500.00 ms\n",
      "        0 CTF compensation matrices available\n",
      "Not setting metadata\n",
      "74 matching events found\n",
      "No baseline correction applied\n",
      "0 projection items activated\n",
      "Effective window size : 0.250 (s)\n",
      "Effective window size : 0.250 (s)\n",
      "Reading c:\\Users\\afcad\\Downloads\\Sujeto27_R_processed.fif ...\n",
      "    Found the data of interest:\n",
      "        t =   -2500.00 ...    2500.00 ms\n",
      "        0 CTF compensation matrices available\n"
     ]
    },
    {
     "name": "stderr",
     "output_type": "stream",
     "text": [
      "C:\\Users\\afcad\\AppData\\Local\\Temp\\ipykernel_1044\\2763569990.py:69: RuntimeWarning: This filename (Sujeto27_R_processed.fif) does not conform to MNE naming conventions. All epochs files should end with -epo.fif, -epo.fif.gz, _epo.fif or _epo.fif.gz\n",
      "  epochs_R = mne.read_epochs(file_R, preload=True)\n"
     ]
    },
    {
     "name": "stdout",
     "output_type": "stream",
     "text": [
      "Not setting metadata\n",
      "64 matching events found\n",
      "No baseline correction applied\n",
      "0 projection items activated\n",
      "Reading c:\\Users\\afcad\\Downloads\\Sujeto27_MF_processed.fif ...\n"
     ]
    },
    {
     "name": "stderr",
     "output_type": "stream",
     "text": [
      "C:\\Users\\afcad\\AppData\\Local\\Temp\\ipykernel_1044\\2763569990.py:70: RuntimeWarning: This filename (Sujeto27_MF_processed.fif) does not conform to MNE naming conventions. All epochs files should end with -epo.fif, -epo.fif.gz, _epo.fif or _epo.fif.gz\n",
      "  epochs_MF = mne.read_epochs(file_MF, preload=True)\n"
     ]
    },
    {
     "name": "stdout",
     "output_type": "stream",
     "text": [
      "    Found the data of interest:\n",
      "        t =   -2500.00 ...    2500.00 ms\n",
      "        0 CTF compensation matrices available\n",
      "Not setting metadata\n",
      "70 matching events found\n",
      "No baseline correction applied\n",
      "0 projection items activated\n",
      "Effective window size : 0.250 (s)\n",
      "Effective window size : 0.250 (s)\n",
      "Reading c:\\Users\\afcad\\Downloads\\Sujeto28_R_processed.fif ...\n",
      "    Found the data of interest:\n",
      "        t =   -2500.00 ...    2500.00 ms\n",
      "        0 CTF compensation matrices available\n"
     ]
    },
    {
     "name": "stderr",
     "output_type": "stream",
     "text": [
      "C:\\Users\\afcad\\AppData\\Local\\Temp\\ipykernel_1044\\2763569990.py:69: RuntimeWarning: This filename (Sujeto28_R_processed.fif) does not conform to MNE naming conventions. All epochs files should end with -epo.fif, -epo.fif.gz, _epo.fif or _epo.fif.gz\n",
      "  epochs_R = mne.read_epochs(file_R, preload=True)\n"
     ]
    },
    {
     "name": "stdout",
     "output_type": "stream",
     "text": [
      "Not setting metadata\n",
      "55 matching events found\n",
      "No baseline correction applied\n",
      "0 projection items activated\n",
      "Reading c:\\Users\\afcad\\Downloads\\Sujeto28_MF_processed.fif ...\n"
     ]
    },
    {
     "name": "stderr",
     "output_type": "stream",
     "text": [
      "C:\\Users\\afcad\\AppData\\Local\\Temp\\ipykernel_1044\\2763569990.py:70: RuntimeWarning: This filename (Sujeto28_MF_processed.fif) does not conform to MNE naming conventions. All epochs files should end with -epo.fif, -epo.fif.gz, _epo.fif or _epo.fif.gz\n",
      "  epochs_MF = mne.read_epochs(file_MF, preload=True)\n"
     ]
    },
    {
     "name": "stdout",
     "output_type": "stream",
     "text": [
      "    Found the data of interest:\n",
      "        t =   -2500.00 ...    2500.00 ms\n",
      "        0 CTF compensation matrices available\n",
      "Not setting metadata\n",
      "114 matching events found\n",
      "No baseline correction applied\n",
      "0 projection items activated\n",
      "Effective window size : 0.250 (s)\n",
      "Effective window size : 0.250 (s)\n",
      "Reading c:\\Users\\afcad\\Downloads\\Sujeto29_R_processed.fif ...\n",
      "    Found the data of interest:\n",
      "        t =   -2500.00 ...    2500.00 ms\n",
      "        0 CTF compensation matrices available\n"
     ]
    },
    {
     "name": "stderr",
     "output_type": "stream",
     "text": [
      "C:\\Users\\afcad\\AppData\\Local\\Temp\\ipykernel_1044\\2763569990.py:69: RuntimeWarning: This filename (Sujeto29_R_processed.fif) does not conform to MNE naming conventions. All epochs files should end with -epo.fif, -epo.fif.gz, _epo.fif or _epo.fif.gz\n",
      "  epochs_R = mne.read_epochs(file_R, preload=True)\n"
     ]
    },
    {
     "name": "stdout",
     "output_type": "stream",
     "text": [
      "Not setting metadata\n",
      "68 matching events found\n",
      "No baseline correction applied\n",
      "0 projection items activated\n",
      "Reading c:\\Users\\afcad\\Downloads\\Sujeto29_MF_processed.fif ...\n"
     ]
    },
    {
     "name": "stderr",
     "output_type": "stream",
     "text": [
      "C:\\Users\\afcad\\AppData\\Local\\Temp\\ipykernel_1044\\2763569990.py:70: RuntimeWarning: This filename (Sujeto29_MF_processed.fif) does not conform to MNE naming conventions. All epochs files should end with -epo.fif, -epo.fif.gz, _epo.fif or _epo.fif.gz\n",
      "  epochs_MF = mne.read_epochs(file_MF, preload=True)\n"
     ]
    },
    {
     "name": "stdout",
     "output_type": "stream",
     "text": [
      "    Found the data of interest:\n",
      "        t =   -2500.00 ...    2500.00 ms\n",
      "        0 CTF compensation matrices available\n",
      "Not setting metadata\n",
      "145 matching events found\n",
      "No baseline correction applied\n",
      "0 projection items activated\n",
      "Effective window size : 0.250 (s)\n",
      "Effective window size : 0.250 (s)\n",
      "Reading c:\\Users\\afcad\\Downloads\\Sujeto30_R_processed.fif ...\n",
      "    Found the data of interest:\n",
      "        t =   -2500.00 ...    2500.00 ms\n",
      "        0 CTF compensation matrices available\n"
     ]
    },
    {
     "name": "stderr",
     "output_type": "stream",
     "text": [
      "C:\\Users\\afcad\\AppData\\Local\\Temp\\ipykernel_1044\\2763569990.py:69: RuntimeWarning: This filename (Sujeto30_R_processed.fif) does not conform to MNE naming conventions. All epochs files should end with -epo.fif, -epo.fif.gz, _epo.fif or _epo.fif.gz\n",
      "  epochs_R = mne.read_epochs(file_R, preload=True)\n"
     ]
    },
    {
     "name": "stdout",
     "output_type": "stream",
     "text": [
      "Not setting metadata\n",
      "69 matching events found\n",
      "No baseline correction applied\n",
      "0 projection items activated\n",
      "Reading c:\\Users\\afcad\\Downloads\\Sujeto30_MF_processed.fif ...\n"
     ]
    },
    {
     "name": "stderr",
     "output_type": "stream",
     "text": [
      "C:\\Users\\afcad\\AppData\\Local\\Temp\\ipykernel_1044\\2763569990.py:70: RuntimeWarning: This filename (Sujeto30_MF_processed.fif) does not conform to MNE naming conventions. All epochs files should end with -epo.fif, -epo.fif.gz, _epo.fif or _epo.fif.gz\n",
      "  epochs_MF = mne.read_epochs(file_MF, preload=True)\n"
     ]
    },
    {
     "name": "stdout",
     "output_type": "stream",
     "text": [
      "    Found the data of interest:\n",
      "        t =   -2500.00 ...    2500.00 ms\n",
      "        0 CTF compensation matrices available\n",
      "Not setting metadata\n",
      "124 matching events found\n",
      "No baseline correction applied\n",
      "0 projection items activated\n",
      "Effective window size : 0.250 (s)\n",
      "Effective window size : 0.250 (s)\n",
      "Reading c:\\Users\\afcad\\Downloads\\Sujeto31_R_processed.fif ...\n",
      "    Found the data of interest:\n",
      "        t =   -2500.00 ...    2500.00 ms\n",
      "        0 CTF compensation matrices available\n"
     ]
    },
    {
     "name": "stderr",
     "output_type": "stream",
     "text": [
      "C:\\Users\\afcad\\AppData\\Local\\Temp\\ipykernel_1044\\2763569990.py:69: RuntimeWarning: This filename (Sujeto31_R_processed.fif) does not conform to MNE naming conventions. All epochs files should end with -epo.fif, -epo.fif.gz, _epo.fif or _epo.fif.gz\n",
      "  epochs_R = mne.read_epochs(file_R, preload=True)\n"
     ]
    },
    {
     "name": "stdout",
     "output_type": "stream",
     "text": [
      "Not setting metadata\n",
      "61 matching events found\n",
      "No baseline correction applied\n",
      "0 projection items activated\n",
      "Reading c:\\Users\\afcad\\Downloads\\Sujeto31_MF_processed.fif ...\n"
     ]
    },
    {
     "name": "stderr",
     "output_type": "stream",
     "text": [
      "C:\\Users\\afcad\\AppData\\Local\\Temp\\ipykernel_1044\\2763569990.py:70: RuntimeWarning: This filename (Sujeto31_MF_processed.fif) does not conform to MNE naming conventions. All epochs files should end with -epo.fif, -epo.fif.gz, _epo.fif or _epo.fif.gz\n",
      "  epochs_MF = mne.read_epochs(file_MF, preload=True)\n"
     ]
    },
    {
     "name": "stdout",
     "output_type": "stream",
     "text": [
      "    Found the data of interest:\n",
      "        t =   -2500.00 ...    2500.00 ms\n",
      "        0 CTF compensation matrices available\n",
      "Not setting metadata\n",
      "140 matching events found\n",
      "No baseline correction applied\n",
      "0 projection items activated\n",
      "Effective window size : 0.250 (s)\n",
      "Effective window size : 0.250 (s)\n",
      "Reading c:\\Users\\afcad\\Downloads\\Sujeto32_R_processed.fif ...\n"
     ]
    },
    {
     "name": "stderr",
     "output_type": "stream",
     "text": [
      "C:\\Users\\afcad\\AppData\\Local\\Temp\\ipykernel_1044\\2763569990.py:69: RuntimeWarning: This filename (Sujeto32_R_processed.fif) does not conform to MNE naming conventions. All epochs files should end with -epo.fif, -epo.fif.gz, _epo.fif or _epo.fif.gz\n",
      "  epochs_R = mne.read_epochs(file_R, preload=True)\n"
     ]
    },
    {
     "name": "stdout",
     "output_type": "stream",
     "text": [
      "    Found the data of interest:\n",
      "        t =   -2500.00 ...    2500.00 ms\n",
      "        0 CTF compensation matrices available\n",
      "Not setting metadata\n",
      "70 matching events found\n",
      "No baseline correction applied\n",
      "0 projection items activated\n",
      "Reading c:\\Users\\afcad\\Downloads\\Sujeto32_MF_processed.fif ...\n"
     ]
    },
    {
     "name": "stderr",
     "output_type": "stream",
     "text": [
      "C:\\Users\\afcad\\AppData\\Local\\Temp\\ipykernel_1044\\2763569990.py:70: RuntimeWarning: This filename (Sujeto32_MF_processed.fif) does not conform to MNE naming conventions. All epochs files should end with -epo.fif, -epo.fif.gz, _epo.fif or _epo.fif.gz\n",
      "  epochs_MF = mne.read_epochs(file_MF, preload=True)\n"
     ]
    },
    {
     "name": "stdout",
     "output_type": "stream",
     "text": [
      "    Found the data of interest:\n",
      "        t =   -2500.00 ...    2500.00 ms\n",
      "        0 CTF compensation matrices available\n",
      "Not setting metadata\n",
      "127 matching events found\n",
      "No baseline correction applied\n",
      "0 projection items activated\n",
      "Effective window size : 0.250 (s)\n",
      "Effective window size : 0.250 (s)\n",
      "Reading c:\\Users\\afcad\\Downloads\\Sujeto36_R_processed.fif ...\n",
      "    Found the data of interest:\n",
      "        t =   -2500.00 ...    2500.00 ms\n",
      "        0 CTF compensation matrices available\n"
     ]
    },
    {
     "name": "stderr",
     "output_type": "stream",
     "text": [
      "C:\\Users\\afcad\\AppData\\Local\\Temp\\ipykernel_1044\\2763569990.py:69: RuntimeWarning: This filename (Sujeto36_R_processed.fif) does not conform to MNE naming conventions. All epochs files should end with -epo.fif, -epo.fif.gz, _epo.fif or _epo.fif.gz\n",
      "  epochs_R = mne.read_epochs(file_R, preload=True)\n"
     ]
    },
    {
     "name": "stdout",
     "output_type": "stream",
     "text": [
      "Not setting metadata\n",
      "61 matching events found\n",
      "No baseline correction applied\n",
      "0 projection items activated\n",
      "Reading c:\\Users\\afcad\\Downloads\\Sujeto36_MF_processed.fif ...\n"
     ]
    },
    {
     "name": "stderr",
     "output_type": "stream",
     "text": [
      "C:\\Users\\afcad\\AppData\\Local\\Temp\\ipykernel_1044\\2763569990.py:70: RuntimeWarning: This filename (Sujeto36_MF_processed.fif) does not conform to MNE naming conventions. All epochs files should end with -epo.fif, -epo.fif.gz, _epo.fif or _epo.fif.gz\n",
      "  epochs_MF = mne.read_epochs(file_MF, preload=True)\n"
     ]
    },
    {
     "name": "stdout",
     "output_type": "stream",
     "text": [
      "    Found the data of interest:\n",
      "        t =   -2500.00 ...    2500.00 ms\n",
      "        0 CTF compensation matrices available\n",
      "Not setting metadata\n",
      "133 matching events found\n",
      "No baseline correction applied\n",
      "0 projection items activated\n",
      "Effective window size : 0.250 (s)\n",
      "Effective window size : 0.250 (s)\n",
      "Reading c:\\Users\\afcad\\Downloads\\Sujeto37_R_processed.fif ...\n",
      "    Found the data of interest:\n"
     ]
    },
    {
     "name": "stderr",
     "output_type": "stream",
     "text": [
      "C:\\Users\\afcad\\AppData\\Local\\Temp\\ipykernel_1044\\2763569990.py:69: RuntimeWarning: This filename (Sujeto37_R_processed.fif) does not conform to MNE naming conventions. All epochs files should end with -epo.fif, -epo.fif.gz, _epo.fif or _epo.fif.gz\n",
      "  epochs_R = mne.read_epochs(file_R, preload=True)\n"
     ]
    },
    {
     "name": "stdout",
     "output_type": "stream",
     "text": [
      "        t =   -2500.00 ...    2500.00 ms\n",
      "        0 CTF compensation matrices available\n",
      "Not setting metadata\n",
      "71 matching events found\n",
      "No baseline correction applied\n",
      "0 projection items activated\n",
      "Reading c:\\Users\\afcad\\Downloads\\Sujeto37_MF_processed.fif ...\n"
     ]
    },
    {
     "name": "stderr",
     "output_type": "stream",
     "text": [
      "C:\\Users\\afcad\\AppData\\Local\\Temp\\ipykernel_1044\\2763569990.py:70: RuntimeWarning: This filename (Sujeto37_MF_processed.fif) does not conform to MNE naming conventions. All epochs files should end with -epo.fif, -epo.fif.gz, _epo.fif or _epo.fif.gz\n",
      "  epochs_MF = mne.read_epochs(file_MF, preload=True)\n"
     ]
    },
    {
     "name": "stdout",
     "output_type": "stream",
     "text": [
      "    Found the data of interest:\n",
      "        t =   -2500.00 ...    2500.00 ms\n",
      "        0 CTF compensation matrices available\n",
      "Not setting metadata\n",
      "141 matching events found\n",
      "No baseline correction applied\n",
      "0 projection items activated\n",
      "Effective window size : 0.250 (s)\n",
      "Effective window size : 0.250 (s)\n",
      "Resting - Alpha (8–12 Hz): 0 significant channels (p < 0.05)\n",
      "Mindfulness - Alpha (8–12 Hz): 0 significant channels (p < 0.05)\n",
      "Difference (MF - R) - Alpha (8–12 Hz): 0 significant channels (p < 0.05)\n",
      "Reading c:\\Users\\afcad\\Downloads\\Sujeto1_R_processed.fif ...\n",
      "    Found the data of interest:\n"
     ]
    },
    {
     "name": "stderr",
     "output_type": "stream",
     "text": [
      "C:\\Users\\afcad\\AppData\\Local\\Temp\\ipykernel_1044\\2763569990.py:69: RuntimeWarning: This filename (Sujeto1_R_processed.fif) does not conform to MNE naming conventions. All epochs files should end with -epo.fif, -epo.fif.gz, _epo.fif or _epo.fif.gz\n",
      "  epochs_R = mne.read_epochs(file_R, preload=True)\n"
     ]
    },
    {
     "name": "stdout",
     "output_type": "stream",
     "text": [
      "        t =   -2500.00 ...    2500.00 ms\n",
      "        0 CTF compensation matrices available\n",
      "Not setting metadata\n",
      "68 matching events found\n",
      "No baseline correction applied\n",
      "0 projection items activated\n",
      "Reading c:\\Users\\afcad\\Downloads\\Sujeto1_MF_processed.fif ...\n"
     ]
    },
    {
     "name": "stderr",
     "output_type": "stream",
     "text": [
      "C:\\Users\\afcad\\AppData\\Local\\Temp\\ipykernel_1044\\2763569990.py:70: RuntimeWarning: This filename (Sujeto1_MF_processed.fif) does not conform to MNE naming conventions. All epochs files should end with -epo.fif, -epo.fif.gz, _epo.fif or _epo.fif.gz\n",
      "  epochs_MF = mne.read_epochs(file_MF, preload=True)\n"
     ]
    },
    {
     "name": "stdout",
     "output_type": "stream",
     "text": [
      "    Found the data of interest:\n",
      "        t =   -2500.00 ...    2500.00 ms\n",
      "        0 CTF compensation matrices available\n",
      "Not setting metadata\n",
      "145 matching events found\n",
      "No baseline correction applied\n",
      "0 projection items activated\n",
      "Effective window size : 0.250 (s)\n",
      "Effective window size : 0.250 (s)\n",
      "Reading c:\\Users\\afcad\\Downloads\\Sujeto2_R_processed.fif ...\n",
      "    Found the data of interest:\n",
      "        t =   -2500.00 ...    2500.00 ms\n",
      "        0 CTF compensation matrices available\n"
     ]
    },
    {
     "name": "stderr",
     "output_type": "stream",
     "text": [
      "C:\\Users\\afcad\\AppData\\Local\\Temp\\ipykernel_1044\\2763569990.py:69: RuntimeWarning: This filename (Sujeto2_R_processed.fif) does not conform to MNE naming conventions. All epochs files should end with -epo.fif, -epo.fif.gz, _epo.fif or _epo.fif.gz\n",
      "  epochs_R = mne.read_epochs(file_R, preload=True)\n"
     ]
    },
    {
     "name": "stdout",
     "output_type": "stream",
     "text": [
      "Not setting metadata\n",
      "58 matching events found\n",
      "No baseline correction applied\n",
      "0 projection items activated\n",
      "Reading c:\\Users\\afcad\\Downloads\\Sujeto2_MF_processed.fif ...\n"
     ]
    },
    {
     "name": "stderr",
     "output_type": "stream",
     "text": [
      "C:\\Users\\afcad\\AppData\\Local\\Temp\\ipykernel_1044\\2763569990.py:70: RuntimeWarning: This filename (Sujeto2_MF_processed.fif) does not conform to MNE naming conventions. All epochs files should end with -epo.fif, -epo.fif.gz, _epo.fif or _epo.fif.gz\n",
      "  epochs_MF = mne.read_epochs(file_MF, preload=True)\n"
     ]
    },
    {
     "name": "stdout",
     "output_type": "stream",
     "text": [
      "    Found the data of interest:\n",
      "        t =   -2500.00 ...    2500.00 ms\n",
      "        0 CTF compensation matrices available\n",
      "Not setting metadata\n",
      "138 matching events found\n",
      "No baseline correction applied\n",
      "0 projection items activated\n",
      "Effective window size : 0.250 (s)\n",
      "Effective window size : 0.250 (s)\n",
      "Reading c:\\Users\\afcad\\Downloads\\Sujeto3_R_processed.fif ...\n",
      "    Found the data of interest:\n",
      "        t =   -2500.00 ...    2500.00 ms\n",
      "        0 CTF compensation matrices available\n"
     ]
    },
    {
     "name": "stderr",
     "output_type": "stream",
     "text": [
      "C:\\Users\\afcad\\AppData\\Local\\Temp\\ipykernel_1044\\2763569990.py:69: RuntimeWarning: This filename (Sujeto3_R_processed.fif) does not conform to MNE naming conventions. All epochs files should end with -epo.fif, -epo.fif.gz, _epo.fif or _epo.fif.gz\n",
      "  epochs_R = mne.read_epochs(file_R, preload=True)\n"
     ]
    },
    {
     "name": "stdout",
     "output_type": "stream",
     "text": [
      "Not setting metadata\n",
      "61 matching events found\n",
      "No baseline correction applied\n",
      "0 projection items activated\n",
      "Reading c:\\Users\\afcad\\Downloads\\Sujeto3_MF_processed.fif ...\n"
     ]
    },
    {
     "name": "stderr",
     "output_type": "stream",
     "text": [
      "C:\\Users\\afcad\\AppData\\Local\\Temp\\ipykernel_1044\\2763569990.py:70: RuntimeWarning: This filename (Sujeto3_MF_processed.fif) does not conform to MNE naming conventions. All epochs files should end with -epo.fif, -epo.fif.gz, _epo.fif or _epo.fif.gz\n",
      "  epochs_MF = mne.read_epochs(file_MF, preload=True)\n"
     ]
    },
    {
     "name": "stdout",
     "output_type": "stream",
     "text": [
      "    Found the data of interest:\n",
      "        t =   -2500.00 ...    2500.00 ms\n",
      "        0 CTF compensation matrices available\n",
      "Not setting metadata\n",
      "131 matching events found\n",
      "No baseline correction applied\n",
      "0 projection items activated\n",
      "Effective window size : 0.250 (s)\n",
      "Effective window size : 0.250 (s)\n",
      "Reading c:\\Users\\afcad\\Downloads\\Sujeto4_R_processed.fif ...\n",
      "    Found the data of interest:\n",
      "        t =   -2500.00 ...    2500.00 ms\n",
      "        0 CTF compensation matrices available\n"
     ]
    },
    {
     "name": "stderr",
     "output_type": "stream",
     "text": [
      "C:\\Users\\afcad\\AppData\\Local\\Temp\\ipykernel_1044\\2763569990.py:69: RuntimeWarning: This filename (Sujeto4_R_processed.fif) does not conform to MNE naming conventions. All epochs files should end with -epo.fif, -epo.fif.gz, _epo.fif or _epo.fif.gz\n",
      "  epochs_R = mne.read_epochs(file_R, preload=True)\n"
     ]
    },
    {
     "name": "stdout",
     "output_type": "stream",
     "text": [
      "Not setting metadata\n",
      "60 matching events found\n",
      "No baseline correction applied\n",
      "0 projection items activated\n",
      "Reading c:\\Users\\afcad\\Downloads\\Sujeto4_MF_processed.fif ...\n"
     ]
    },
    {
     "name": "stderr",
     "output_type": "stream",
     "text": [
      "C:\\Users\\afcad\\AppData\\Local\\Temp\\ipykernel_1044\\2763569990.py:70: RuntimeWarning: This filename (Sujeto4_MF_processed.fif) does not conform to MNE naming conventions. All epochs files should end with -epo.fif, -epo.fif.gz, _epo.fif or _epo.fif.gz\n",
      "  epochs_MF = mne.read_epochs(file_MF, preload=True)\n"
     ]
    },
    {
     "name": "stdout",
     "output_type": "stream",
     "text": [
      "    Found the data of interest:\n",
      "        t =   -2500.00 ...    2500.00 ms\n",
      "        0 CTF compensation matrices available\n",
      "Not setting metadata\n",
      "143 matching events found\n",
      "No baseline correction applied\n",
      "0 projection items activated\n",
      "Effective window size : 0.250 (s)\n",
      "Effective window size : 0.250 (s)\n",
      "Reading c:\\Users\\afcad\\Downloads\\Sujeto5_R_processed.fif ...\n",
      "    Found the data of interest:\n",
      "        t =   -2500.00 ...    2500.00 ms\n",
      "        0 CTF compensation matrices available\n"
     ]
    },
    {
     "name": "stderr",
     "output_type": "stream",
     "text": [
      "C:\\Users\\afcad\\AppData\\Local\\Temp\\ipykernel_1044\\2763569990.py:69: RuntimeWarning: This filename (Sujeto5_R_processed.fif) does not conform to MNE naming conventions. All epochs files should end with -epo.fif, -epo.fif.gz, _epo.fif or _epo.fif.gz\n",
      "  epochs_R = mne.read_epochs(file_R, preload=True)\n"
     ]
    },
    {
     "name": "stdout",
     "output_type": "stream",
     "text": [
      "Not setting metadata\n",
      "63 matching events found\n",
      "No baseline correction applied\n",
      "0 projection items activated\n",
      "Reading c:\\Users\\afcad\\Downloads\\Sujeto5_MF_processed.fif ...\n"
     ]
    },
    {
     "name": "stderr",
     "output_type": "stream",
     "text": [
      "C:\\Users\\afcad\\AppData\\Local\\Temp\\ipykernel_1044\\2763569990.py:70: RuntimeWarning: This filename (Sujeto5_MF_processed.fif) does not conform to MNE naming conventions. All epochs files should end with -epo.fif, -epo.fif.gz, _epo.fif or _epo.fif.gz\n",
      "  epochs_MF = mne.read_epochs(file_MF, preload=True)\n"
     ]
    },
    {
     "name": "stdout",
     "output_type": "stream",
     "text": [
      "    Found the data of interest:\n",
      "        t =   -2500.00 ...    2500.00 ms\n",
      "        0 CTF compensation matrices available\n",
      "Not setting metadata\n",
      "141 matching events found\n",
      "No baseline correction applied\n",
      "0 projection items activated\n",
      "Effective window size : 0.250 (s)\n",
      "Effective window size : 0.250 (s)\n",
      "Reading c:\\Users\\afcad\\Downloads\\Sujeto6_R_processed.fif ...\n",
      "    Found the data of interest:\n"
     ]
    },
    {
     "name": "stderr",
     "output_type": "stream",
     "text": [
      "C:\\Users\\afcad\\AppData\\Local\\Temp\\ipykernel_1044\\2763569990.py:69: RuntimeWarning: This filename (Sujeto6_R_processed.fif) does not conform to MNE naming conventions. All epochs files should end with -epo.fif, -epo.fif.gz, _epo.fif or _epo.fif.gz\n",
      "  epochs_R = mne.read_epochs(file_R, preload=True)\n"
     ]
    },
    {
     "name": "stdout",
     "output_type": "stream",
     "text": [
      "        t =   -2500.00 ...    2500.00 ms\n",
      "        0 CTF compensation matrices available\n",
      "Not setting metadata\n",
      "72 matching events found\n",
      "No baseline correction applied\n",
      "0 projection items activated\n",
      "Reading c:\\Users\\afcad\\Downloads\\Sujeto6_MF_processed.fif ...\n"
     ]
    },
    {
     "name": "stderr",
     "output_type": "stream",
     "text": [
      "C:\\Users\\afcad\\AppData\\Local\\Temp\\ipykernel_1044\\2763569990.py:70: RuntimeWarning: This filename (Sujeto6_MF_processed.fif) does not conform to MNE naming conventions. All epochs files should end with -epo.fif, -epo.fif.gz, _epo.fif or _epo.fif.gz\n",
      "  epochs_MF = mne.read_epochs(file_MF, preload=True)\n"
     ]
    },
    {
     "name": "stdout",
     "output_type": "stream",
     "text": [
      "    Found the data of interest:\n",
      "        t =   -2500.00 ...    2500.00 ms\n",
      "        0 CTF compensation matrices available\n",
      "Not setting metadata\n",
      "107 matching events found\n",
      "No baseline correction applied\n",
      "0 projection items activated\n",
      "Effective window size : 0.250 (s)\n",
      "Effective window size : 0.250 (s)\n",
      "Reading c:\\Users\\afcad\\Downloads\\Sujeto7_R_processed.fif ...\n",
      "    Found the data of interest:\n",
      "        t =   -2500.00 ...    2500.00 ms\n",
      "        0 CTF compensation matrices available\n"
     ]
    },
    {
     "name": "stderr",
     "output_type": "stream",
     "text": [
      "C:\\Users\\afcad\\AppData\\Local\\Temp\\ipykernel_1044\\2763569990.py:69: RuntimeWarning: This filename (Sujeto7_R_processed.fif) does not conform to MNE naming conventions. All epochs files should end with -epo.fif, -epo.fif.gz, _epo.fif or _epo.fif.gz\n",
      "  epochs_R = mne.read_epochs(file_R, preload=True)\n"
     ]
    },
    {
     "name": "stdout",
     "output_type": "stream",
     "text": [
      "Not setting metadata\n",
      "55 matching events found\n",
      "No baseline correction applied\n",
      "0 projection items activated\n",
      "Reading c:\\Users\\afcad\\Downloads\\Sujeto7_MF_processed.fif ...\n"
     ]
    },
    {
     "name": "stderr",
     "output_type": "stream",
     "text": [
      "C:\\Users\\afcad\\AppData\\Local\\Temp\\ipykernel_1044\\2763569990.py:70: RuntimeWarning: This filename (Sujeto7_MF_processed.fif) does not conform to MNE naming conventions. All epochs files should end with -epo.fif, -epo.fif.gz, _epo.fif or _epo.fif.gz\n",
      "  epochs_MF = mne.read_epochs(file_MF, preload=True)\n"
     ]
    },
    {
     "name": "stdout",
     "output_type": "stream",
     "text": [
      "    Found the data of interest:\n",
      "        t =   -2500.00 ...    2500.00 ms\n",
      "        0 CTF compensation matrices available\n",
      "Not setting metadata\n",
      "130 matching events found\n",
      "No baseline correction applied\n",
      "0 projection items activated\n",
      "Effective window size : 0.250 (s)\n",
      "Effective window size : 0.250 (s)\n",
      "Reading c:\\Users\\afcad\\Downloads\\Sujeto8_R_processed.fif ...\n",
      "    Found the data of interest:\n",
      "        t =   -2500.00 ...    2500.00 ms\n",
      "        0 CTF compensation matrices available\n"
     ]
    },
    {
     "name": "stderr",
     "output_type": "stream",
     "text": [
      "C:\\Users\\afcad\\AppData\\Local\\Temp\\ipykernel_1044\\2763569990.py:69: RuntimeWarning: This filename (Sujeto8_R_processed.fif) does not conform to MNE naming conventions. All epochs files should end with -epo.fif, -epo.fif.gz, _epo.fif or _epo.fif.gz\n",
      "  epochs_R = mne.read_epochs(file_R, preload=True)\n"
     ]
    },
    {
     "name": "stdout",
     "output_type": "stream",
     "text": [
      "Not setting metadata\n",
      "63 matching events found\n",
      "No baseline correction applied\n",
      "0 projection items activated\n",
      "Reading c:\\Users\\afcad\\Downloads\\Sujeto8_MF_processed.fif ...\n"
     ]
    },
    {
     "name": "stderr",
     "output_type": "stream",
     "text": [
      "C:\\Users\\afcad\\AppData\\Local\\Temp\\ipykernel_1044\\2763569990.py:70: RuntimeWarning: This filename (Sujeto8_MF_processed.fif) does not conform to MNE naming conventions. All epochs files should end with -epo.fif, -epo.fif.gz, _epo.fif or _epo.fif.gz\n",
      "  epochs_MF = mne.read_epochs(file_MF, preload=True)\n"
     ]
    },
    {
     "name": "stdout",
     "output_type": "stream",
     "text": [
      "    Found the data of interest:\n",
      "        t =   -2500.00 ...    2500.00 ms\n",
      "        0 CTF compensation matrices available\n",
      "Not setting metadata\n",
      "138 matching events found\n",
      "No baseline correction applied\n",
      "0 projection items activated\n",
      "Effective window size : 0.250 (s)\n",
      "Effective window size : 0.250 (s)\n",
      "Reading c:\\Users\\afcad\\Downloads\\Sujeto9_R_processed.fif ...\n",
      "    Found the data of interest:\n",
      "        t =   -2500.00 ...    2500.00 ms\n",
      "        0 CTF compensation matrices available\n"
     ]
    },
    {
     "name": "stderr",
     "output_type": "stream",
     "text": [
      "C:\\Users\\afcad\\AppData\\Local\\Temp\\ipykernel_1044\\2763569990.py:69: RuntimeWarning: This filename (Sujeto9_R_processed.fif) does not conform to MNE naming conventions. All epochs files should end with -epo.fif, -epo.fif.gz, _epo.fif or _epo.fif.gz\n",
      "  epochs_R = mne.read_epochs(file_R, preload=True)\n"
     ]
    },
    {
     "name": "stdout",
     "output_type": "stream",
     "text": [
      "Not setting metadata\n",
      "60 matching events found\n",
      "No baseline correction applied\n",
      "0 projection items activated\n",
      "Reading c:\\Users\\afcad\\Downloads\\Sujeto9_MF_processed.fif ...\n"
     ]
    },
    {
     "name": "stderr",
     "output_type": "stream",
     "text": [
      "C:\\Users\\afcad\\AppData\\Local\\Temp\\ipykernel_1044\\2763569990.py:70: RuntimeWarning: This filename (Sujeto9_MF_processed.fif) does not conform to MNE naming conventions. All epochs files should end with -epo.fif, -epo.fif.gz, _epo.fif or _epo.fif.gz\n",
      "  epochs_MF = mne.read_epochs(file_MF, preload=True)\n"
     ]
    },
    {
     "name": "stdout",
     "output_type": "stream",
     "text": [
      "    Found the data of interest:\n",
      "        t =   -2500.00 ...    2500.00 ms\n",
      "        0 CTF compensation matrices available\n",
      "Not setting metadata\n",
      "143 matching events found\n",
      "No baseline correction applied\n",
      "0 projection items activated\n",
      "Effective window size : 0.250 (s)\n",
      "Effective window size : 0.250 (s)\n",
      "Reading c:\\Users\\afcad\\Downloads\\Sujeto10_R_processed.fif ...\n",
      "    Found the data of interest:\n",
      "        t =   -2500.00 ...    2500.00 ms\n",
      "        0 CTF compensation matrices available\n"
     ]
    },
    {
     "name": "stderr",
     "output_type": "stream",
     "text": [
      "C:\\Users\\afcad\\AppData\\Local\\Temp\\ipykernel_1044\\2763569990.py:69: RuntimeWarning: This filename (Sujeto10_R_processed.fif) does not conform to MNE naming conventions. All epochs files should end with -epo.fif, -epo.fif.gz, _epo.fif or _epo.fif.gz\n",
      "  epochs_R = mne.read_epochs(file_R, preload=True)\n"
     ]
    },
    {
     "name": "stdout",
     "output_type": "stream",
     "text": [
      "Not setting metadata\n",
      "64 matching events found\n",
      "No baseline correction applied\n",
      "0 projection items activated\n",
      "Reading c:\\Users\\afcad\\Downloads\\Sujeto10_MF_processed.fif ...\n"
     ]
    },
    {
     "name": "stderr",
     "output_type": "stream",
     "text": [
      "C:\\Users\\afcad\\AppData\\Local\\Temp\\ipykernel_1044\\2763569990.py:70: RuntimeWarning: This filename (Sujeto10_MF_processed.fif) does not conform to MNE naming conventions. All epochs files should end with -epo.fif, -epo.fif.gz, _epo.fif or _epo.fif.gz\n",
      "  epochs_MF = mne.read_epochs(file_MF, preload=True)\n"
     ]
    },
    {
     "name": "stdout",
     "output_type": "stream",
     "text": [
      "    Found the data of interest:\n",
      "        t =   -2500.00 ...    2500.00 ms\n",
      "        0 CTF compensation matrices available\n",
      "Not setting metadata\n",
      "137 matching events found\n",
      "No baseline correction applied\n",
      "0 projection items activated\n",
      "Effective window size : 0.250 (s)\n",
      "Effective window size : 0.250 (s)\n",
      "Reading c:\\Users\\afcad\\Downloads\\Sujeto11_R_processed.fif ...\n",
      "    Found the data of interest:\n",
      "        t =   -2500.00 ...    2500.00 ms\n",
      "        0 CTF compensation matrices available\n"
     ]
    },
    {
     "name": "stderr",
     "output_type": "stream",
     "text": [
      "C:\\Users\\afcad\\AppData\\Local\\Temp\\ipykernel_1044\\2763569990.py:69: RuntimeWarning: This filename (Sujeto11_R_processed.fif) does not conform to MNE naming conventions. All epochs files should end with -epo.fif, -epo.fif.gz, _epo.fif or _epo.fif.gz\n",
      "  epochs_R = mne.read_epochs(file_R, preload=True)\n"
     ]
    },
    {
     "name": "stdout",
     "output_type": "stream",
     "text": [
      "Not setting metadata\n",
      "53 matching events found\n",
      "No baseline correction applied\n",
      "0 projection items activated\n",
      "Reading c:\\Users\\afcad\\Downloads\\Sujeto11_MF_processed.fif ...\n"
     ]
    },
    {
     "name": "stderr",
     "output_type": "stream",
     "text": [
      "C:\\Users\\afcad\\AppData\\Local\\Temp\\ipykernel_1044\\2763569990.py:70: RuntimeWarning: This filename (Sujeto11_MF_processed.fif) does not conform to MNE naming conventions. All epochs files should end with -epo.fif, -epo.fif.gz, _epo.fif or _epo.fif.gz\n",
      "  epochs_MF = mne.read_epochs(file_MF, preload=True)\n"
     ]
    },
    {
     "name": "stdout",
     "output_type": "stream",
     "text": [
      "    Found the data of interest:\n",
      "        t =   -2500.00 ...    2500.00 ms\n",
      "        0 CTF compensation matrices available\n",
      "Not setting metadata\n",
      "107 matching events found\n",
      "No baseline correction applied\n",
      "0 projection items activated\n",
      "Effective window size : 0.250 (s)\n",
      "Effective window size : 0.250 (s)\n",
      "Reading c:\\Users\\afcad\\Downloads\\Sujeto13_R_processed.fif ...\n",
      "    Found the data of interest:\n",
      "        t =   -2500.00 ...    2500.00 ms\n",
      "        0 CTF compensation matrices available\n"
     ]
    },
    {
     "name": "stderr",
     "output_type": "stream",
     "text": [
      "C:\\Users\\afcad\\AppData\\Local\\Temp\\ipykernel_1044\\2763569990.py:69: RuntimeWarning: This filename (Sujeto13_R_processed.fif) does not conform to MNE naming conventions. All epochs files should end with -epo.fif, -epo.fif.gz, _epo.fif or _epo.fif.gz\n",
      "  epochs_R = mne.read_epochs(file_R, preload=True)\n"
     ]
    },
    {
     "name": "stdout",
     "output_type": "stream",
     "text": [
      "Not setting metadata\n",
      "63 matching events found\n",
      "No baseline correction applied\n",
      "0 projection items activated\n",
      "Reading c:\\Users\\afcad\\Downloads\\Sujeto13_MF_processed.fif ...\n"
     ]
    },
    {
     "name": "stderr",
     "output_type": "stream",
     "text": [
      "C:\\Users\\afcad\\AppData\\Local\\Temp\\ipykernel_1044\\2763569990.py:70: RuntimeWarning: This filename (Sujeto13_MF_processed.fif) does not conform to MNE naming conventions. All epochs files should end with -epo.fif, -epo.fif.gz, _epo.fif or _epo.fif.gz\n",
      "  epochs_MF = mne.read_epochs(file_MF, preload=True)\n"
     ]
    },
    {
     "name": "stdout",
     "output_type": "stream",
     "text": [
      "    Found the data of interest:\n",
      "        t =   -2500.00 ...    2500.00 ms\n",
      "        0 CTF compensation matrices available\n",
      "Not setting metadata\n",
      "141 matching events found\n",
      "No baseline correction applied\n",
      "0 projection items activated\n",
      "Effective window size : 0.250 (s)\n",
      "Effective window size : 0.250 (s)\n",
      "Reading c:\\Users\\afcad\\Downloads\\Sujeto14_R_processed.fif ...\n"
     ]
    },
    {
     "name": "stderr",
     "output_type": "stream",
     "text": [
      "C:\\Users\\afcad\\AppData\\Local\\Temp\\ipykernel_1044\\2763569990.py:69: RuntimeWarning: This filename (Sujeto14_R_processed.fif) does not conform to MNE naming conventions. All epochs files should end with -epo.fif, -epo.fif.gz, _epo.fif or _epo.fif.gz\n",
      "  epochs_R = mne.read_epochs(file_R, preload=True)\n"
     ]
    },
    {
     "name": "stdout",
     "output_type": "stream",
     "text": [
      "    Found the data of interest:\n",
      "        t =   -2500.00 ...    2500.00 ms\n",
      "        0 CTF compensation matrices available\n",
      "Not setting metadata\n",
      "71 matching events found\n",
      "No baseline correction applied\n",
      "0 projection items activated\n",
      "Reading c:\\Users\\afcad\\Downloads\\Sujeto14_MF_processed.fif ...\n"
     ]
    },
    {
     "name": "stderr",
     "output_type": "stream",
     "text": [
      "C:\\Users\\afcad\\AppData\\Local\\Temp\\ipykernel_1044\\2763569990.py:70: RuntimeWarning: This filename (Sujeto14_MF_processed.fif) does not conform to MNE naming conventions. All epochs files should end with -epo.fif, -epo.fif.gz, _epo.fif or _epo.fif.gz\n",
      "  epochs_MF = mne.read_epochs(file_MF, preload=True)\n"
     ]
    },
    {
     "name": "stdout",
     "output_type": "stream",
     "text": [
      "    Found the data of interest:\n",
      "        t =   -2500.00 ...    2500.00 ms\n",
      "        0 CTF compensation matrices available\n",
      "Not setting metadata\n",
      "141 matching events found\n",
      "No baseline correction applied\n",
      "0 projection items activated\n",
      "Effective window size : 0.250 (s)\n",
      "Effective window size : 0.250 (s)\n",
      "Reading c:\\Users\\afcad\\Downloads\\Sujeto15_R_processed.fif ...\n",
      "    Found the data of interest:\n"
     ]
    },
    {
     "name": "stderr",
     "output_type": "stream",
     "text": [
      "C:\\Users\\afcad\\AppData\\Local\\Temp\\ipykernel_1044\\2763569990.py:69: RuntimeWarning: This filename (Sujeto15_R_processed.fif) does not conform to MNE naming conventions. All epochs files should end with -epo.fif, -epo.fif.gz, _epo.fif or _epo.fif.gz\n",
      "  epochs_R = mne.read_epochs(file_R, preload=True)\n"
     ]
    },
    {
     "name": "stdout",
     "output_type": "stream",
     "text": [
      "        t =   -2500.00 ...    2500.00 ms\n",
      "        0 CTF compensation matrices available\n",
      "Not setting metadata\n",
      "69 matching events found\n",
      "No baseline correction applied\n",
      "0 projection items activated\n",
      "Reading c:\\Users\\afcad\\Downloads\\Sujeto15_MF_processed.fif ...\n"
     ]
    },
    {
     "name": "stderr",
     "output_type": "stream",
     "text": [
      "C:\\Users\\afcad\\AppData\\Local\\Temp\\ipykernel_1044\\2763569990.py:70: RuntimeWarning: This filename (Sujeto15_MF_processed.fif) does not conform to MNE naming conventions. All epochs files should end with -epo.fif, -epo.fif.gz, _epo.fif or _epo.fif.gz\n",
      "  epochs_MF = mne.read_epochs(file_MF, preload=True)\n"
     ]
    },
    {
     "name": "stdout",
     "output_type": "stream",
     "text": [
      "    Found the data of interest:\n",
      "        t =   -2500.00 ...    2500.00 ms\n",
      "        0 CTF compensation matrices available\n",
      "Not setting metadata\n",
      "141 matching events found\n",
      "No baseline correction applied\n",
      "0 projection items activated\n",
      "Effective window size : 0.250 (s)\n",
      "Effective window size : 0.250 (s)\n",
      "Reading c:\\Users\\afcad\\Downloads\\Sujeto16_R_processed.fif ...\n",
      "    Found the data of interest:\n",
      "        t =   -2500.00 ...    2500.00 ms\n",
      "        0 CTF compensation matrices available\n"
     ]
    },
    {
     "name": "stderr",
     "output_type": "stream",
     "text": [
      "C:\\Users\\afcad\\AppData\\Local\\Temp\\ipykernel_1044\\2763569990.py:69: RuntimeWarning: This filename (Sujeto16_R_processed.fif) does not conform to MNE naming conventions. All epochs files should end with -epo.fif, -epo.fif.gz, _epo.fif or _epo.fif.gz\n",
      "  epochs_R = mne.read_epochs(file_R, preload=True)\n"
     ]
    },
    {
     "name": "stdout",
     "output_type": "stream",
     "text": [
      "Not setting metadata\n",
      "52 matching events found\n",
      "No baseline correction applied\n",
      "0 projection items activated\n",
      "Reading c:\\Users\\afcad\\Downloads\\Sujeto16_MF_processed.fif ...\n"
     ]
    },
    {
     "name": "stderr",
     "output_type": "stream",
     "text": [
      "C:\\Users\\afcad\\AppData\\Local\\Temp\\ipykernel_1044\\2763569990.py:70: RuntimeWarning: This filename (Sujeto16_MF_processed.fif) does not conform to MNE naming conventions. All epochs files should end with -epo.fif, -epo.fif.gz, _epo.fif or _epo.fif.gz\n",
      "  epochs_MF = mne.read_epochs(file_MF, preload=True)\n"
     ]
    },
    {
     "name": "stdout",
     "output_type": "stream",
     "text": [
      "    Found the data of interest:\n",
      "        t =   -2500.00 ...    2500.00 ms\n",
      "        0 CTF compensation matrices available\n",
      "Not setting metadata\n",
      "106 matching events found\n",
      "No baseline correction applied\n",
      "0 projection items activated\n",
      "Effective window size : 0.250 (s)\n",
      "Effective window size : 0.250 (s)\n",
      "Reading c:\\Users\\afcad\\Downloads\\Sujeto17_R_processed.fif ...\n",
      "    Found the data of interest:\n",
      "        t =   -2500.00 ...    2500.00 ms\n",
      "        0 CTF compensation matrices available\n"
     ]
    },
    {
     "name": "stderr",
     "output_type": "stream",
     "text": [
      "C:\\Users\\afcad\\AppData\\Local\\Temp\\ipykernel_1044\\2763569990.py:69: RuntimeWarning: This filename (Sujeto17_R_processed.fif) does not conform to MNE naming conventions. All epochs files should end with -epo.fif, -epo.fif.gz, _epo.fif or _epo.fif.gz\n",
      "  epochs_R = mne.read_epochs(file_R, preload=True)\n"
     ]
    },
    {
     "name": "stdout",
     "output_type": "stream",
     "text": [
      "Not setting metadata\n",
      "72 matching events found\n",
      "No baseline correction applied\n",
      "0 projection items activated\n",
      "Reading c:\\Users\\afcad\\Downloads\\Sujeto17_MF_processed.fif ...\n"
     ]
    },
    {
     "name": "stderr",
     "output_type": "stream",
     "text": [
      "C:\\Users\\afcad\\AppData\\Local\\Temp\\ipykernel_1044\\2763569990.py:70: RuntimeWarning: This filename (Sujeto17_MF_processed.fif) does not conform to MNE naming conventions. All epochs files should end with -epo.fif, -epo.fif.gz, _epo.fif or _epo.fif.gz\n",
      "  epochs_MF = mne.read_epochs(file_MF, preload=True)\n"
     ]
    },
    {
     "name": "stdout",
     "output_type": "stream",
     "text": [
      "    Found the data of interest:\n",
      "        t =   -2500.00 ...    2500.00 ms\n",
      "        0 CTF compensation matrices available\n",
      "Not setting metadata\n",
      "145 matching events found\n",
      "No baseline correction applied\n",
      "0 projection items activated\n",
      "Effective window size : 0.250 (s)\n",
      "Effective window size : 0.250 (s)\n",
      "Reading c:\\Users\\afcad\\Downloads\\Sujeto18_R_processed.fif ...\n",
      "    Found the data of interest:\n",
      "        t =   -2500.00 ...    2500.00 ms\n",
      "        0 CTF compensation matrices available\n"
     ]
    },
    {
     "name": "stderr",
     "output_type": "stream",
     "text": [
      "C:\\Users\\afcad\\AppData\\Local\\Temp\\ipykernel_1044\\2763569990.py:69: RuntimeWarning: This filename (Sujeto18_R_processed.fif) does not conform to MNE naming conventions. All epochs files should end with -epo.fif, -epo.fif.gz, _epo.fif or _epo.fif.gz\n",
      "  epochs_R = mne.read_epochs(file_R, preload=True)\n"
     ]
    },
    {
     "name": "stdout",
     "output_type": "stream",
     "text": [
      "Not setting metadata\n",
      "44 matching events found\n",
      "No baseline correction applied\n",
      "0 projection items activated\n",
      "Reading c:\\Users\\afcad\\Downloads\\Sujeto18_MF_processed.fif ...\n"
     ]
    },
    {
     "name": "stderr",
     "output_type": "stream",
     "text": [
      "C:\\Users\\afcad\\AppData\\Local\\Temp\\ipykernel_1044\\2763569990.py:70: RuntimeWarning: This filename (Sujeto18_MF_processed.fif) does not conform to MNE naming conventions. All epochs files should end with -epo.fif, -epo.fif.gz, _epo.fif or _epo.fif.gz\n",
      "  epochs_MF = mne.read_epochs(file_MF, preload=True)\n"
     ]
    },
    {
     "name": "stdout",
     "output_type": "stream",
     "text": [
      "    Found the data of interest:\n",
      "        t =   -2500.00 ...    2500.00 ms\n",
      "        0 CTF compensation matrices available\n",
      "Not setting metadata\n",
      "137 matching events found\n",
      "No baseline correction applied\n",
      "0 projection items activated\n",
      "Effective window size : 0.250 (s)\n",
      "Effective window size : 0.250 (s)\n",
      "Reading c:\\Users\\afcad\\Downloads\\Sujeto19_R_processed.fif ...\n",
      "    Found the data of interest:\n",
      "        t =   -2500.00 ...    2500.00 ms\n",
      "        0 CTF compensation matrices available\n"
     ]
    },
    {
     "name": "stderr",
     "output_type": "stream",
     "text": [
      "C:\\Users\\afcad\\AppData\\Local\\Temp\\ipykernel_1044\\2763569990.py:69: RuntimeWarning: This filename (Sujeto19_R_processed.fif) does not conform to MNE naming conventions. All epochs files should end with -epo.fif, -epo.fif.gz, _epo.fif or _epo.fif.gz\n",
      "  epochs_R = mne.read_epochs(file_R, preload=True)\n"
     ]
    },
    {
     "name": "stdout",
     "output_type": "stream",
     "text": [
      "Not setting metadata\n",
      "68 matching events found\n",
      "No baseline correction applied\n",
      "0 projection items activated\n",
      "Reading c:\\Users\\afcad\\Downloads\\Sujeto19_MF_processed.fif ...\n"
     ]
    },
    {
     "name": "stderr",
     "output_type": "stream",
     "text": [
      "C:\\Users\\afcad\\AppData\\Local\\Temp\\ipykernel_1044\\2763569990.py:70: RuntimeWarning: This filename (Sujeto19_MF_processed.fif) does not conform to MNE naming conventions. All epochs files should end with -epo.fif, -epo.fif.gz, _epo.fif or _epo.fif.gz\n",
      "  epochs_MF = mne.read_epochs(file_MF, preload=True)\n"
     ]
    },
    {
     "name": "stdout",
     "output_type": "stream",
     "text": [
      "    Found the data of interest:\n",
      "        t =   -2500.00 ...    2500.00 ms\n",
      "        0 CTF compensation matrices available\n",
      "Not setting metadata\n",
      "143 matching events found\n",
      "No baseline correction applied\n",
      "0 projection items activated\n",
      "Effective window size : 0.250 (s)\n",
      "Effective window size : 0.250 (s)\n",
      "Reading c:\\Users\\afcad\\Downloads\\Sujeto20_R_processed.fif ...\n",
      "    Found the data of interest:\n",
      "        t =   -2500.00 ...    2500.00 ms\n",
      "        0 CTF compensation matrices available\n"
     ]
    },
    {
     "name": "stderr",
     "output_type": "stream",
     "text": [
      "C:\\Users\\afcad\\AppData\\Local\\Temp\\ipykernel_1044\\2763569990.py:69: RuntimeWarning: This filename (Sujeto20_R_processed.fif) does not conform to MNE naming conventions. All epochs files should end with -epo.fif, -epo.fif.gz, _epo.fif or _epo.fif.gz\n",
      "  epochs_R = mne.read_epochs(file_R, preload=True)\n"
     ]
    },
    {
     "name": "stdout",
     "output_type": "stream",
     "text": [
      "Not setting metadata\n",
      "71 matching events found\n",
      "No baseline correction applied\n",
      "0 projection items activated\n",
      "Reading c:\\Users\\afcad\\Downloads\\Sujeto20_MF_processed.fif ...\n"
     ]
    },
    {
     "name": "stderr",
     "output_type": "stream",
     "text": [
      "C:\\Users\\afcad\\AppData\\Local\\Temp\\ipykernel_1044\\2763569990.py:70: RuntimeWarning: This filename (Sujeto20_MF_processed.fif) does not conform to MNE naming conventions. All epochs files should end with -epo.fif, -epo.fif.gz, _epo.fif or _epo.fif.gz\n",
      "  epochs_MF = mne.read_epochs(file_MF, preload=True)\n"
     ]
    },
    {
     "name": "stdout",
     "output_type": "stream",
     "text": [
      "    Found the data of interest:\n",
      "        t =   -2500.00 ...    2500.00 ms\n",
      "        0 CTF compensation matrices available\n",
      "Not setting metadata\n",
      "141 matching events found\n",
      "No baseline correction applied\n",
      "0 projection items activated\n",
      "Effective window size : 0.250 (s)\n",
      "Effective window size : 0.250 (s)\n",
      "Reading c:\\Users\\afcad\\Downloads\\Sujeto21_R_processed.fif ...\n",
      "    Found the data of interest:\n",
      "        t =   -2500.00 ...    2500.00 ms\n",
      "        0 CTF compensation matrices available\n"
     ]
    },
    {
     "name": "stderr",
     "output_type": "stream",
     "text": [
      "C:\\Users\\afcad\\AppData\\Local\\Temp\\ipykernel_1044\\2763569990.py:69: RuntimeWarning: This filename (Sujeto21_R_processed.fif) does not conform to MNE naming conventions. All epochs files should end with -epo.fif, -epo.fif.gz, _epo.fif or _epo.fif.gz\n",
      "  epochs_R = mne.read_epochs(file_R, preload=True)\n"
     ]
    },
    {
     "name": "stdout",
     "output_type": "stream",
     "text": [
      "Not setting metadata\n",
      "47 matching events found\n",
      "No baseline correction applied\n",
      "0 projection items activated\n",
      "Reading c:\\Users\\afcad\\Downloads\\Sujeto21_MF_processed.fif ...\n"
     ]
    },
    {
     "name": "stderr",
     "output_type": "stream",
     "text": [
      "C:\\Users\\afcad\\AppData\\Local\\Temp\\ipykernel_1044\\2763569990.py:70: RuntimeWarning: This filename (Sujeto21_MF_processed.fif) does not conform to MNE naming conventions. All epochs files should end with -epo.fif, -epo.fif.gz, _epo.fif or _epo.fif.gz\n",
      "  epochs_MF = mne.read_epochs(file_MF, preload=True)\n"
     ]
    },
    {
     "name": "stdout",
     "output_type": "stream",
     "text": [
      "    Found the data of interest:\n",
      "        t =   -2500.00 ...    2500.00 ms\n",
      "        0 CTF compensation matrices available\n",
      "Not setting metadata\n",
      "106 matching events found\n",
      "No baseline correction applied\n",
      "0 projection items activated\n",
      "Effective window size : 0.250 (s)\n",
      "Effective window size : 0.250 (s)\n",
      "Reading c:\\Users\\afcad\\Downloads\\Sujeto22_R_processed.fif ...\n",
      "    Found the data of interest:\n",
      "        t =   -2500.00 ...    2500.00 ms\n"
     ]
    },
    {
     "name": "stderr",
     "output_type": "stream",
     "text": [
      "C:\\Users\\afcad\\AppData\\Local\\Temp\\ipykernel_1044\\2763569990.py:69: RuntimeWarning: This filename (Sujeto22_R_processed.fif) does not conform to MNE naming conventions. All epochs files should end with -epo.fif, -epo.fif.gz, _epo.fif or _epo.fif.gz\n",
      "  epochs_R = mne.read_epochs(file_R, preload=True)\n"
     ]
    },
    {
     "name": "stdout",
     "output_type": "stream",
     "text": [
      "        0 CTF compensation matrices available\n",
      "Not setting metadata\n",
      "67 matching events found\n",
      "No baseline correction applied\n",
      "0 projection items activated\n",
      "Reading c:\\Users\\afcad\\Downloads\\Sujeto22_MF_processed.fif ...\n"
     ]
    },
    {
     "name": "stderr",
     "output_type": "stream",
     "text": [
      "C:\\Users\\afcad\\AppData\\Local\\Temp\\ipykernel_1044\\2763569990.py:70: RuntimeWarning: This filename (Sujeto22_MF_processed.fif) does not conform to MNE naming conventions. All epochs files should end with -epo.fif, -epo.fif.gz, _epo.fif or _epo.fif.gz\n",
      "  epochs_MF = mne.read_epochs(file_MF, preload=True)\n"
     ]
    },
    {
     "name": "stdout",
     "output_type": "stream",
     "text": [
      "    Found the data of interest:\n",
      "        t =   -2500.00 ...    2500.00 ms\n",
      "        0 CTF compensation matrices available\n",
      "Not setting metadata\n",
      "138 matching events found\n",
      "No baseline correction applied\n",
      "0 projection items activated\n",
      "Effective window size : 0.250 (s)\n",
      "Effective window size : 0.250 (s)\n",
      "Reading c:\\Users\\afcad\\Downloads\\Sujeto23_R_processed.fif ...\n",
      "    Found the data of interest:\n",
      "        t =   -2500.00 ...    2500.00 ms\n",
      "        0 CTF compensation matrices available\n",
      "Not setting metadata\n",
      "11 matching events found\n",
      "No baseline correction applied\n",
      "0 projection items activated\n",
      "Reading c:\\Users\\afcad\\Downloads\\Sujeto23_MF_processed.fif ...\n"
     ]
    },
    {
     "name": "stderr",
     "output_type": "stream",
     "text": [
      "C:\\Users\\afcad\\AppData\\Local\\Temp\\ipykernel_1044\\2763569990.py:69: RuntimeWarning: This filename (Sujeto23_R_processed.fif) does not conform to MNE naming conventions. All epochs files should end with -epo.fif, -epo.fif.gz, _epo.fif or _epo.fif.gz\n",
      "  epochs_R = mne.read_epochs(file_R, preload=True)\n",
      "C:\\Users\\afcad\\AppData\\Local\\Temp\\ipykernel_1044\\2763569990.py:70: RuntimeWarning: This filename (Sujeto23_MF_processed.fif) does not conform to MNE naming conventions. All epochs files should end with -epo.fif, -epo.fif.gz, _epo.fif or _epo.fif.gz\n",
      "  epochs_MF = mne.read_epochs(file_MF, preload=True)\n"
     ]
    },
    {
     "name": "stdout",
     "output_type": "stream",
     "text": [
      "    Found the data of interest:\n",
      "        t =   -2500.00 ...    2500.00 ms\n",
      "        0 CTF compensation matrices available\n",
      "Not setting metadata\n",
      "125 matching events found\n",
      "No baseline correction applied\n",
      "0 projection items activated\n",
      "Effective window size : 0.250 (s)\n",
      "Effective window size : 0.250 (s)\n",
      "Reading c:\\Users\\afcad\\Downloads\\Sujeto24_R_processed.fif ...\n",
      "    Found the data of interest:\n",
      "        t =   -2500.00 ...    2500.00 ms\n",
      "        0 CTF compensation matrices available\n"
     ]
    },
    {
     "name": "stderr",
     "output_type": "stream",
     "text": [
      "C:\\Users\\afcad\\AppData\\Local\\Temp\\ipykernel_1044\\2763569990.py:69: RuntimeWarning: This filename (Sujeto24_R_processed.fif) does not conform to MNE naming conventions. All epochs files should end with -epo.fif, -epo.fif.gz, _epo.fif or _epo.fif.gz\n",
      "  epochs_R = mne.read_epochs(file_R, preload=True)\n"
     ]
    },
    {
     "name": "stdout",
     "output_type": "stream",
     "text": [
      "Not setting metadata\n",
      "61 matching events found\n",
      "No baseline correction applied\n",
      "0 projection items activated\n",
      "Reading c:\\Users\\afcad\\Downloads\\Sujeto24_MF_processed.fif ...\n"
     ]
    },
    {
     "name": "stderr",
     "output_type": "stream",
     "text": [
      "C:\\Users\\afcad\\AppData\\Local\\Temp\\ipykernel_1044\\2763569990.py:70: RuntimeWarning: This filename (Sujeto24_MF_processed.fif) does not conform to MNE naming conventions. All epochs files should end with -epo.fif, -epo.fif.gz, _epo.fif or _epo.fif.gz\n",
      "  epochs_MF = mne.read_epochs(file_MF, preload=True)\n"
     ]
    },
    {
     "name": "stdout",
     "output_type": "stream",
     "text": [
      "    Found the data of interest:\n",
      "        t =   -2500.00 ...    2500.00 ms\n",
      "        0 CTF compensation matrices available\n",
      "Not setting metadata\n",
      "132 matching events found\n",
      "No baseline correction applied\n",
      "0 projection items activated\n",
      "Effective window size : 0.250 (s)\n",
      "Effective window size : 0.250 (s)\n",
      "Reading c:\\Users\\afcad\\Downloads\\Sujeto25_R_processed.fif ...\n",
      "    Found the data of interest:\n"
     ]
    },
    {
     "name": "stderr",
     "output_type": "stream",
     "text": [
      "C:\\Users\\afcad\\AppData\\Local\\Temp\\ipykernel_1044\\2763569990.py:69: RuntimeWarning: This filename (Sujeto25_R_processed.fif) does not conform to MNE naming conventions. All epochs files should end with -epo.fif, -epo.fif.gz, _epo.fif or _epo.fif.gz\n",
      "  epochs_R = mne.read_epochs(file_R, preload=True)\n"
     ]
    },
    {
     "name": "stdout",
     "output_type": "stream",
     "text": [
      "        t =   -2500.00 ...    2500.00 ms\n",
      "        0 CTF compensation matrices available\n",
      "Not setting metadata\n",
      "70 matching events found\n",
      "No baseline correction applied\n",
      "0 projection items activated\n",
      "Reading c:\\Users\\afcad\\Downloads\\Sujeto25_MF_processed.fif ...\n"
     ]
    },
    {
     "name": "stderr",
     "output_type": "stream",
     "text": [
      "C:\\Users\\afcad\\AppData\\Local\\Temp\\ipykernel_1044\\2763569990.py:70: RuntimeWarning: This filename (Sujeto25_MF_processed.fif) does not conform to MNE naming conventions. All epochs files should end with -epo.fif, -epo.fif.gz, _epo.fif or _epo.fif.gz\n",
      "  epochs_MF = mne.read_epochs(file_MF, preload=True)\n"
     ]
    },
    {
     "name": "stdout",
     "output_type": "stream",
     "text": [
      "    Found the data of interest:\n",
      "        t =   -2500.00 ...    2500.00 ms\n",
      "        0 CTF compensation matrices available\n",
      "Not setting metadata\n",
      "140 matching events found\n",
      "No baseline correction applied\n",
      "0 projection items activated\n",
      "Effective window size : 0.250 (s)\n",
      "Effective window size : 0.250 (s)\n",
      "Reading c:\\Users\\afcad\\Downloads\\Sujeto26_R_processed.fif ...\n",
      "    Found the data of interest:\n",
      "        t =   -2500.00 ...    2500.00 ms\n",
      "        0 CTF compensation matrices available\n"
     ]
    },
    {
     "name": "stderr",
     "output_type": "stream",
     "text": [
      "C:\\Users\\afcad\\AppData\\Local\\Temp\\ipykernel_1044\\2763569990.py:69: RuntimeWarning: This filename (Sujeto26_R_processed.fif) does not conform to MNE naming conventions. All epochs files should end with -epo.fif, -epo.fif.gz, _epo.fif or _epo.fif.gz\n",
      "  epochs_R = mne.read_epochs(file_R, preload=True)\n"
     ]
    },
    {
     "name": "stdout",
     "output_type": "stream",
     "text": [
      "Not setting metadata\n",
      "63 matching events found\n",
      "No baseline correction applied\n",
      "0 projection items activated\n",
      "Reading c:\\Users\\afcad\\Downloads\\Sujeto26_MF_processed.fif ...\n",
      "    Found the data of interest:\n",
      "        t =   -2500.00 ...    2500.00 ms\n",
      "        0 CTF compensation matrices available\n"
     ]
    },
    {
     "name": "stderr",
     "output_type": "stream",
     "text": [
      "C:\\Users\\afcad\\AppData\\Local\\Temp\\ipykernel_1044\\2763569990.py:70: RuntimeWarning: This filename (Sujeto26_MF_processed.fif) does not conform to MNE naming conventions. All epochs files should end with -epo.fif, -epo.fif.gz, _epo.fif or _epo.fif.gz\n",
      "  epochs_MF = mne.read_epochs(file_MF, preload=True)\n"
     ]
    },
    {
     "name": "stdout",
     "output_type": "stream",
     "text": [
      "Not setting metadata\n",
      "74 matching events found\n",
      "No baseline correction applied\n",
      "0 projection items activated\n",
      "Effective window size : 0.250 (s)\n",
      "Effective window size : 0.250 (s)\n",
      "Reading c:\\Users\\afcad\\Downloads\\Sujeto27_R_processed.fif ...\n",
      "    Found the data of interest:\n",
      "        t =   -2500.00 ...    2500.00 ms\n",
      "        0 CTF compensation matrices available\n"
     ]
    },
    {
     "name": "stderr",
     "output_type": "stream",
     "text": [
      "C:\\Users\\afcad\\AppData\\Local\\Temp\\ipykernel_1044\\2763569990.py:69: RuntimeWarning: This filename (Sujeto27_R_processed.fif) does not conform to MNE naming conventions. All epochs files should end with -epo.fif, -epo.fif.gz, _epo.fif or _epo.fif.gz\n",
      "  epochs_R = mne.read_epochs(file_R, preload=True)\n"
     ]
    },
    {
     "name": "stdout",
     "output_type": "stream",
     "text": [
      "Not setting metadata\n",
      "64 matching events found\n",
      "No baseline correction applied\n",
      "0 projection items activated\n",
      "Reading c:\\Users\\afcad\\Downloads\\Sujeto27_MF_processed.fif ...\n",
      "    Found the data of interest:\n",
      "        t =   -2500.00 ...    2500.00 ms\n",
      "        0 CTF compensation matrices available\n"
     ]
    },
    {
     "name": "stderr",
     "output_type": "stream",
     "text": [
      "C:\\Users\\afcad\\AppData\\Local\\Temp\\ipykernel_1044\\2763569990.py:70: RuntimeWarning: This filename (Sujeto27_MF_processed.fif) does not conform to MNE naming conventions. All epochs files should end with -epo.fif, -epo.fif.gz, _epo.fif or _epo.fif.gz\n",
      "  epochs_MF = mne.read_epochs(file_MF, preload=True)\n"
     ]
    },
    {
     "name": "stdout",
     "output_type": "stream",
     "text": [
      "Not setting metadata\n",
      "70 matching events found\n",
      "No baseline correction applied\n",
      "0 projection items activated\n",
      "Effective window size : 0.250 (s)\n",
      "Effective window size : 0.250 (s)\n",
      "Reading c:\\Users\\afcad\\Downloads\\Sujeto28_R_processed.fif ...\n",
      "    Found the data of interest:\n",
      "        t =   -2500.00 ...    2500.00 ms\n",
      "        0 CTF compensation matrices available\n"
     ]
    },
    {
     "name": "stderr",
     "output_type": "stream",
     "text": [
      "C:\\Users\\afcad\\AppData\\Local\\Temp\\ipykernel_1044\\2763569990.py:69: RuntimeWarning: This filename (Sujeto28_R_processed.fif) does not conform to MNE naming conventions. All epochs files should end with -epo.fif, -epo.fif.gz, _epo.fif or _epo.fif.gz\n",
      "  epochs_R = mne.read_epochs(file_R, preload=True)\n"
     ]
    },
    {
     "name": "stdout",
     "output_type": "stream",
     "text": [
      "Not setting metadata\n",
      "55 matching events found\n",
      "No baseline correction applied\n",
      "0 projection items activated\n",
      "Reading c:\\Users\\afcad\\Downloads\\Sujeto28_MF_processed.fif ...\n",
      "    Found the data of interest:\n"
     ]
    },
    {
     "name": "stderr",
     "output_type": "stream",
     "text": [
      "C:\\Users\\afcad\\AppData\\Local\\Temp\\ipykernel_1044\\2763569990.py:70: RuntimeWarning: This filename (Sujeto28_MF_processed.fif) does not conform to MNE naming conventions. All epochs files should end with -epo.fif, -epo.fif.gz, _epo.fif or _epo.fif.gz\n",
      "  epochs_MF = mne.read_epochs(file_MF, preload=True)\n"
     ]
    },
    {
     "name": "stdout",
     "output_type": "stream",
     "text": [
      "        t =   -2500.00 ...    2500.00 ms\n",
      "        0 CTF compensation matrices available\n",
      "Not setting metadata\n",
      "114 matching events found\n",
      "No baseline correction applied\n",
      "0 projection items activated\n",
      "Effective window size : 0.250 (s)\n",
      "Effective window size : 0.250 (s)\n",
      "Reading c:\\Users\\afcad\\Downloads\\Sujeto29_R_processed.fif ...\n",
      "    Found the data of interest:\n",
      "        t =   -2500.00 ...    2500.00 ms\n",
      "        0 CTF compensation matrices available\n"
     ]
    },
    {
     "name": "stderr",
     "output_type": "stream",
     "text": [
      "C:\\Users\\afcad\\AppData\\Local\\Temp\\ipykernel_1044\\2763569990.py:69: RuntimeWarning: This filename (Sujeto29_R_processed.fif) does not conform to MNE naming conventions. All epochs files should end with -epo.fif, -epo.fif.gz, _epo.fif or _epo.fif.gz\n",
      "  epochs_R = mne.read_epochs(file_R, preload=True)\n"
     ]
    },
    {
     "name": "stdout",
     "output_type": "stream",
     "text": [
      "Not setting metadata\n",
      "68 matching events found\n",
      "No baseline correction applied\n",
      "0 projection items activated\n",
      "Reading c:\\Users\\afcad\\Downloads\\Sujeto29_MF_processed.fif ...\n"
     ]
    },
    {
     "name": "stderr",
     "output_type": "stream",
     "text": [
      "C:\\Users\\afcad\\AppData\\Local\\Temp\\ipykernel_1044\\2763569990.py:70: RuntimeWarning: This filename (Sujeto29_MF_processed.fif) does not conform to MNE naming conventions. All epochs files should end with -epo.fif, -epo.fif.gz, _epo.fif or _epo.fif.gz\n",
      "  epochs_MF = mne.read_epochs(file_MF, preload=True)\n"
     ]
    },
    {
     "name": "stdout",
     "output_type": "stream",
     "text": [
      "    Found the data of interest:\n",
      "        t =   -2500.00 ...    2500.00 ms\n",
      "        0 CTF compensation matrices available\n",
      "Not setting metadata\n",
      "145 matching events found\n",
      "No baseline correction applied\n",
      "0 projection items activated\n",
      "Effective window size : 0.250 (s)\n",
      "Effective window size : 0.250 (s)\n",
      "Reading c:\\Users\\afcad\\Downloads\\Sujeto30_R_processed.fif ...\n",
      "    Found the data of interest:\n",
      "        t =   -2500.00 ...    2500.00 ms\n",
      "        0 CTF compensation matrices available\n"
     ]
    },
    {
     "name": "stderr",
     "output_type": "stream",
     "text": [
      "C:\\Users\\afcad\\AppData\\Local\\Temp\\ipykernel_1044\\2763569990.py:69: RuntimeWarning: This filename (Sujeto30_R_processed.fif) does not conform to MNE naming conventions. All epochs files should end with -epo.fif, -epo.fif.gz, _epo.fif or _epo.fif.gz\n",
      "  epochs_R = mne.read_epochs(file_R, preload=True)\n"
     ]
    },
    {
     "name": "stdout",
     "output_type": "stream",
     "text": [
      "Not setting metadata\n",
      "69 matching events found\n",
      "No baseline correction applied\n",
      "0 projection items activated\n",
      "Reading c:\\Users\\afcad\\Downloads\\Sujeto30_MF_processed.fif ...\n"
     ]
    },
    {
     "name": "stderr",
     "output_type": "stream",
     "text": [
      "C:\\Users\\afcad\\AppData\\Local\\Temp\\ipykernel_1044\\2763569990.py:70: RuntimeWarning: This filename (Sujeto30_MF_processed.fif) does not conform to MNE naming conventions. All epochs files should end with -epo.fif, -epo.fif.gz, _epo.fif or _epo.fif.gz\n",
      "  epochs_MF = mne.read_epochs(file_MF, preload=True)\n"
     ]
    },
    {
     "name": "stdout",
     "output_type": "stream",
     "text": [
      "    Found the data of interest:\n",
      "        t =   -2500.00 ...    2500.00 ms\n",
      "        0 CTF compensation matrices available\n",
      "Not setting metadata\n",
      "124 matching events found\n",
      "No baseline correction applied\n",
      "0 projection items activated\n",
      "Effective window size : 0.250 (s)\n",
      "Effective window size : 0.250 (s)\n",
      "Reading c:\\Users\\afcad\\Downloads\\Sujeto31_R_processed.fif ...\n",
      "    Found the data of interest:\n",
      "        t =   -2500.00 ...    2500.00 ms\n",
      "        0 CTF compensation matrices available\n"
     ]
    },
    {
     "name": "stderr",
     "output_type": "stream",
     "text": [
      "C:\\Users\\afcad\\AppData\\Local\\Temp\\ipykernel_1044\\2763569990.py:69: RuntimeWarning: This filename (Sujeto31_R_processed.fif) does not conform to MNE naming conventions. All epochs files should end with -epo.fif, -epo.fif.gz, _epo.fif or _epo.fif.gz\n",
      "  epochs_R = mne.read_epochs(file_R, preload=True)\n"
     ]
    },
    {
     "name": "stdout",
     "output_type": "stream",
     "text": [
      "Not setting metadata\n",
      "61 matching events found\n",
      "No baseline correction applied\n",
      "0 projection items activated\n",
      "Reading c:\\Users\\afcad\\Downloads\\Sujeto31_MF_processed.fif ...\n"
     ]
    },
    {
     "name": "stderr",
     "output_type": "stream",
     "text": [
      "C:\\Users\\afcad\\AppData\\Local\\Temp\\ipykernel_1044\\2763569990.py:70: RuntimeWarning: This filename (Sujeto31_MF_processed.fif) does not conform to MNE naming conventions. All epochs files should end with -epo.fif, -epo.fif.gz, _epo.fif or _epo.fif.gz\n",
      "  epochs_MF = mne.read_epochs(file_MF, preload=True)\n"
     ]
    },
    {
     "name": "stdout",
     "output_type": "stream",
     "text": [
      "    Found the data of interest:\n",
      "        t =   -2500.00 ...    2500.00 ms\n",
      "        0 CTF compensation matrices available\n",
      "Not setting metadata\n",
      "140 matching events found\n",
      "No baseline correction applied\n",
      "0 projection items activated\n",
      "Effective window size : 0.250 (s)\n",
      "Effective window size : 0.250 (s)\n",
      "Reading c:\\Users\\afcad\\Downloads\\Sujeto32_R_processed.fif ...\n",
      "    Found the data of interest:\n"
     ]
    },
    {
     "name": "stderr",
     "output_type": "stream",
     "text": [
      "C:\\Users\\afcad\\AppData\\Local\\Temp\\ipykernel_1044\\2763569990.py:69: RuntimeWarning: This filename (Sujeto32_R_processed.fif) does not conform to MNE naming conventions. All epochs files should end with -epo.fif, -epo.fif.gz, _epo.fif or _epo.fif.gz\n",
      "  epochs_R = mne.read_epochs(file_R, preload=True)\n"
     ]
    },
    {
     "name": "stdout",
     "output_type": "stream",
     "text": [
      "        t =   -2500.00 ...    2500.00 ms\n",
      "        0 CTF compensation matrices available\n",
      "Not setting metadata\n",
      "70 matching events found\n",
      "No baseline correction applied\n",
      "0 projection items activated\n",
      "Reading c:\\Users\\afcad\\Downloads\\Sujeto32_MF_processed.fif ...\n"
     ]
    },
    {
     "name": "stderr",
     "output_type": "stream",
     "text": [
      "C:\\Users\\afcad\\AppData\\Local\\Temp\\ipykernel_1044\\2763569990.py:70: RuntimeWarning: This filename (Sujeto32_MF_processed.fif) does not conform to MNE naming conventions. All epochs files should end with -epo.fif, -epo.fif.gz, _epo.fif or _epo.fif.gz\n",
      "  epochs_MF = mne.read_epochs(file_MF, preload=True)\n"
     ]
    },
    {
     "name": "stdout",
     "output_type": "stream",
     "text": [
      "    Found the data of interest:\n",
      "        t =   -2500.00 ...    2500.00 ms\n",
      "        0 CTF compensation matrices available\n",
      "Not setting metadata\n",
      "127 matching events found\n",
      "No baseline correction applied\n",
      "0 projection items activated\n",
      "Effective window size : 0.250 (s)\n",
      "Effective window size : 0.250 (s)\n",
      "Reading c:\\Users\\afcad\\Downloads\\Sujeto36_R_processed.fif ...\n",
      "    Found the data of interest:\n",
      "        t =   -2500.00 ...    2500.00 ms\n",
      "        0 CTF compensation matrices available\n"
     ]
    },
    {
     "name": "stderr",
     "output_type": "stream",
     "text": [
      "C:\\Users\\afcad\\AppData\\Local\\Temp\\ipykernel_1044\\2763569990.py:69: RuntimeWarning: This filename (Sujeto36_R_processed.fif) does not conform to MNE naming conventions. All epochs files should end with -epo.fif, -epo.fif.gz, _epo.fif or _epo.fif.gz\n",
      "  epochs_R = mne.read_epochs(file_R, preload=True)\n"
     ]
    },
    {
     "name": "stdout",
     "output_type": "stream",
     "text": [
      "Not setting metadata\n",
      "61 matching events found\n",
      "No baseline correction applied\n",
      "0 projection items activated\n",
      "Reading c:\\Users\\afcad\\Downloads\\Sujeto36_MF_processed.fif ...\n"
     ]
    },
    {
     "name": "stderr",
     "output_type": "stream",
     "text": [
      "C:\\Users\\afcad\\AppData\\Local\\Temp\\ipykernel_1044\\2763569990.py:70: RuntimeWarning: This filename (Sujeto36_MF_processed.fif) does not conform to MNE naming conventions. All epochs files should end with -epo.fif, -epo.fif.gz, _epo.fif or _epo.fif.gz\n",
      "  epochs_MF = mne.read_epochs(file_MF, preload=True)\n"
     ]
    },
    {
     "name": "stdout",
     "output_type": "stream",
     "text": [
      "    Found the data of interest:\n",
      "        t =   -2500.00 ...    2500.00 ms\n",
      "        0 CTF compensation matrices available\n",
      "Not setting metadata\n",
      "133 matching events found\n",
      "No baseline correction applied\n",
      "0 projection items activated\n",
      "Effective window size : 0.250 (s)\n",
      "Effective window size : 0.250 (s)\n",
      "Reading c:\\Users\\afcad\\Downloads\\Sujeto37_R_processed.fif ...\n",
      "    Found the data of interest:\n",
      "        t =   -2500.00 ...    2500.00 ms\n",
      "        0 CTF compensation matrices available\n"
     ]
    },
    {
     "name": "stderr",
     "output_type": "stream",
     "text": [
      "C:\\Users\\afcad\\AppData\\Local\\Temp\\ipykernel_1044\\2763569990.py:69: RuntimeWarning: This filename (Sujeto37_R_processed.fif) does not conform to MNE naming conventions. All epochs files should end with -epo.fif, -epo.fif.gz, _epo.fif or _epo.fif.gz\n",
      "  epochs_R = mne.read_epochs(file_R, preload=True)\n"
     ]
    },
    {
     "name": "stdout",
     "output_type": "stream",
     "text": [
      "Not setting metadata\n",
      "71 matching events found\n",
      "No baseline correction applied\n",
      "0 projection items activated\n",
      "Reading c:\\Users\\afcad\\Downloads\\Sujeto37_MF_processed.fif ...\n"
     ]
    },
    {
     "name": "stderr",
     "output_type": "stream",
     "text": [
      "C:\\Users\\afcad\\AppData\\Local\\Temp\\ipykernel_1044\\2763569990.py:70: RuntimeWarning: This filename (Sujeto37_MF_processed.fif) does not conform to MNE naming conventions. All epochs files should end with -epo.fif, -epo.fif.gz, _epo.fif or _epo.fif.gz\n",
      "  epochs_MF = mne.read_epochs(file_MF, preload=True)\n"
     ]
    },
    {
     "name": "stdout",
     "output_type": "stream",
     "text": [
      "    Found the data of interest:\n",
      "        t =   -2500.00 ...    2500.00 ms\n",
      "        0 CTF compensation matrices available\n",
      "Not setting metadata\n",
      "141 matching events found\n",
      "No baseline correction applied\n",
      "0 projection items activated\n",
      "Effective window size : 0.250 (s)\n",
      "Effective window size : 0.250 (s)\n",
      "Resting - Beta (12–18 Hz): 0 significant channels (p < 0.05)\n",
      "Mindfulness - Beta (12–18 Hz): 0 significant channels (p < 0.05)\n",
      "Difference (MF - R) - Beta (12–18 Hz): 0 significant channels (p < 0.05)\n",
      "Reading c:\\Users\\afcad\\Downloads\\Sujeto1_R_processed.fif ...\n",
      "    Found the data of interest:\n",
      "        t =   -2500.00 ...    2500.00 ms\n",
      "        0 CTF compensation matrices available\n"
     ]
    },
    {
     "name": "stderr",
     "output_type": "stream",
     "text": [
      "C:\\Users\\afcad\\AppData\\Local\\Temp\\ipykernel_1044\\2763569990.py:69: RuntimeWarning: This filename (Sujeto1_R_processed.fif) does not conform to MNE naming conventions. All epochs files should end with -epo.fif, -epo.fif.gz, _epo.fif or _epo.fif.gz\n",
      "  epochs_R = mne.read_epochs(file_R, preload=True)\n"
     ]
    },
    {
     "name": "stdout",
     "output_type": "stream",
     "text": [
      "Not setting metadata\n",
      "68 matching events found\n",
      "No baseline correction applied\n",
      "0 projection items activated\n",
      "Reading c:\\Users\\afcad\\Downloads\\Sujeto1_MF_processed.fif ...\n"
     ]
    },
    {
     "name": "stderr",
     "output_type": "stream",
     "text": [
      "C:\\Users\\afcad\\AppData\\Local\\Temp\\ipykernel_1044\\2763569990.py:70: RuntimeWarning: This filename (Sujeto1_MF_processed.fif) does not conform to MNE naming conventions. All epochs files should end with -epo.fif, -epo.fif.gz, _epo.fif or _epo.fif.gz\n",
      "  epochs_MF = mne.read_epochs(file_MF, preload=True)\n"
     ]
    },
    {
     "name": "stdout",
     "output_type": "stream",
     "text": [
      "    Found the data of interest:\n",
      "        t =   -2500.00 ...    2500.00 ms\n",
      "        0 CTF compensation matrices available\n",
      "Not setting metadata\n",
      "145 matching events found\n",
      "No baseline correction applied\n",
      "0 projection items activated\n",
      "Effective window size : 0.250 (s)\n",
      "Effective window size : 0.250 (s)\n",
      "Reading c:\\Users\\afcad\\Downloads\\Sujeto2_R_processed.fif ...\n",
      "    Found the data of interest:\n",
      "        t =   -2500.00 ...    2500.00 ms\n",
      "        0 CTF compensation matrices available\n"
     ]
    },
    {
     "name": "stderr",
     "output_type": "stream",
     "text": [
      "C:\\Users\\afcad\\AppData\\Local\\Temp\\ipykernel_1044\\2763569990.py:69: RuntimeWarning: This filename (Sujeto2_R_processed.fif) does not conform to MNE naming conventions. All epochs files should end with -epo.fif, -epo.fif.gz, _epo.fif or _epo.fif.gz\n",
      "  epochs_R = mne.read_epochs(file_R, preload=True)\n"
     ]
    },
    {
     "name": "stdout",
     "output_type": "stream",
     "text": [
      "Not setting metadata\n",
      "58 matching events found\n",
      "No baseline correction applied\n",
      "0 projection items activated\n",
      "Reading c:\\Users\\afcad\\Downloads\\Sujeto2_MF_processed.fif ...\n"
     ]
    },
    {
     "name": "stderr",
     "output_type": "stream",
     "text": [
      "C:\\Users\\afcad\\AppData\\Local\\Temp\\ipykernel_1044\\2763569990.py:70: RuntimeWarning: This filename (Sujeto2_MF_processed.fif) does not conform to MNE naming conventions. All epochs files should end with -epo.fif, -epo.fif.gz, _epo.fif or _epo.fif.gz\n",
      "  epochs_MF = mne.read_epochs(file_MF, preload=True)\n"
     ]
    },
    {
     "name": "stdout",
     "output_type": "stream",
     "text": [
      "    Found the data of interest:\n",
      "        t =   -2500.00 ...    2500.00 ms\n",
      "        0 CTF compensation matrices available\n",
      "Not setting metadata\n",
      "138 matching events found\n",
      "No baseline correction applied\n",
      "0 projection items activated\n",
      "Effective window size : 0.250 (s)\n",
      "Effective window size : 0.250 (s)\n",
      "Reading c:\\Users\\afcad\\Downloads\\Sujeto3_R_processed.fif ...\n",
      "    Found the data of interest:\n",
      "        t =   -2500.00 ...    2500.00 ms\n",
      "        0 CTF compensation matrices available\n"
     ]
    },
    {
     "name": "stderr",
     "output_type": "stream",
     "text": [
      "C:\\Users\\afcad\\AppData\\Local\\Temp\\ipykernel_1044\\2763569990.py:69: RuntimeWarning: This filename (Sujeto3_R_processed.fif) does not conform to MNE naming conventions. All epochs files should end with -epo.fif, -epo.fif.gz, _epo.fif or _epo.fif.gz\n",
      "  epochs_R = mne.read_epochs(file_R, preload=True)\n"
     ]
    },
    {
     "name": "stdout",
     "output_type": "stream",
     "text": [
      "Not setting metadata\n",
      "61 matching events found\n",
      "No baseline correction applied\n",
      "0 projection items activated\n",
      "Reading c:\\Users\\afcad\\Downloads\\Sujeto3_MF_processed.fif ...\n"
     ]
    },
    {
     "name": "stderr",
     "output_type": "stream",
     "text": [
      "C:\\Users\\afcad\\AppData\\Local\\Temp\\ipykernel_1044\\2763569990.py:70: RuntimeWarning: This filename (Sujeto3_MF_processed.fif) does not conform to MNE naming conventions. All epochs files should end with -epo.fif, -epo.fif.gz, _epo.fif or _epo.fif.gz\n",
      "  epochs_MF = mne.read_epochs(file_MF, preload=True)\n"
     ]
    },
    {
     "name": "stdout",
     "output_type": "stream",
     "text": [
      "    Found the data of interest:\n",
      "        t =   -2500.00 ...    2500.00 ms\n",
      "        0 CTF compensation matrices available\n",
      "Not setting metadata\n",
      "131 matching events found\n",
      "No baseline correction applied\n",
      "0 projection items activated\n",
      "Effective window size : 0.250 (s)\n",
      "Effective window size : 0.250 (s)\n",
      "Reading c:\\Users\\afcad\\Downloads\\Sujeto4_R_processed.fif ...\n",
      "    Found the data of interest:\n",
      "        t =   -2500.00 ...    2500.00 ms\n",
      "        0 CTF compensation matrices available\n"
     ]
    },
    {
     "name": "stderr",
     "output_type": "stream",
     "text": [
      "C:\\Users\\afcad\\AppData\\Local\\Temp\\ipykernel_1044\\2763569990.py:69: RuntimeWarning: This filename (Sujeto4_R_processed.fif) does not conform to MNE naming conventions. All epochs files should end with -epo.fif, -epo.fif.gz, _epo.fif or _epo.fif.gz\n",
      "  epochs_R = mne.read_epochs(file_R, preload=True)\n"
     ]
    },
    {
     "name": "stdout",
     "output_type": "stream",
     "text": [
      "Not setting metadata\n",
      "60 matching events found\n",
      "No baseline correction applied\n",
      "0 projection items activated\n",
      "Reading c:\\Users\\afcad\\Downloads\\Sujeto4_MF_processed.fif ...\n"
     ]
    },
    {
     "name": "stderr",
     "output_type": "stream",
     "text": [
      "C:\\Users\\afcad\\AppData\\Local\\Temp\\ipykernel_1044\\2763569990.py:70: RuntimeWarning: This filename (Sujeto4_MF_processed.fif) does not conform to MNE naming conventions. All epochs files should end with -epo.fif, -epo.fif.gz, _epo.fif or _epo.fif.gz\n",
      "  epochs_MF = mne.read_epochs(file_MF, preload=True)\n"
     ]
    },
    {
     "name": "stdout",
     "output_type": "stream",
     "text": [
      "    Found the data of interest:\n",
      "        t =   -2500.00 ...    2500.00 ms\n",
      "        0 CTF compensation matrices available\n",
      "Not setting metadata\n",
      "143 matching events found\n",
      "No baseline correction applied\n",
      "0 projection items activated\n",
      "Effective window size : 0.250 (s)\n",
      "Effective window size : 0.250 (s)\n",
      "Reading c:\\Users\\afcad\\Downloads\\Sujeto5_R_processed.fif ...\n",
      "    Found the data of interest:\n",
      "        t =   -2500.00 ...    2500.00 ms\n",
      "        0 CTF compensation matrices available\n"
     ]
    },
    {
     "name": "stderr",
     "output_type": "stream",
     "text": [
      "C:\\Users\\afcad\\AppData\\Local\\Temp\\ipykernel_1044\\2763569990.py:69: RuntimeWarning: This filename (Sujeto5_R_processed.fif) does not conform to MNE naming conventions. All epochs files should end with -epo.fif, -epo.fif.gz, _epo.fif or _epo.fif.gz\n",
      "  epochs_R = mne.read_epochs(file_R, preload=True)\n"
     ]
    },
    {
     "name": "stdout",
     "output_type": "stream",
     "text": [
      "Not setting metadata\n",
      "63 matching events found\n",
      "No baseline correction applied\n",
      "0 projection items activated\n",
      "Reading c:\\Users\\afcad\\Downloads\\Sujeto5_MF_processed.fif ...\n"
     ]
    },
    {
     "name": "stderr",
     "output_type": "stream",
     "text": [
      "C:\\Users\\afcad\\AppData\\Local\\Temp\\ipykernel_1044\\2763569990.py:70: RuntimeWarning: This filename (Sujeto5_MF_processed.fif) does not conform to MNE naming conventions. All epochs files should end with -epo.fif, -epo.fif.gz, _epo.fif or _epo.fif.gz\n",
      "  epochs_MF = mne.read_epochs(file_MF, preload=True)\n"
     ]
    },
    {
     "name": "stdout",
     "output_type": "stream",
     "text": [
      "    Found the data of interest:\n",
      "        t =   -2500.00 ...    2500.00 ms\n",
      "        0 CTF compensation matrices available\n",
      "Not setting metadata\n",
      "141 matching events found\n",
      "No baseline correction applied\n",
      "0 projection items activated\n",
      "Effective window size : 0.250 (s)\n",
      "Effective window size : 0.250 (s)\n",
      "Reading c:\\Users\\afcad\\Downloads\\Sujeto6_R_processed.fif ...\n",
      "    Found the data of interest:\n",
      "        t =   -2500.00 ...    2500.00 ms\n",
      "        0 CTF compensation matrices available\n"
     ]
    },
    {
     "name": "stderr",
     "output_type": "stream",
     "text": [
      "C:\\Users\\afcad\\AppData\\Local\\Temp\\ipykernel_1044\\2763569990.py:69: RuntimeWarning: This filename (Sujeto6_R_processed.fif) does not conform to MNE naming conventions. All epochs files should end with -epo.fif, -epo.fif.gz, _epo.fif or _epo.fif.gz\n",
      "  epochs_R = mne.read_epochs(file_R, preload=True)\n"
     ]
    },
    {
     "name": "stdout",
     "output_type": "stream",
     "text": [
      "Not setting metadata\n",
      "72 matching events found\n",
      "No baseline correction applied\n",
      "0 projection items activated\n",
      "Reading c:\\Users\\afcad\\Downloads\\Sujeto6_MF_processed.fif ...\n",
      "    Found the data of interest:\n",
      "        t =   -2500.00 ...    2500.00 ms\n",
      "        0 CTF compensation matrices available\n"
     ]
    },
    {
     "name": "stderr",
     "output_type": "stream",
     "text": [
      "C:\\Users\\afcad\\AppData\\Local\\Temp\\ipykernel_1044\\2763569990.py:70: RuntimeWarning: This filename (Sujeto6_MF_processed.fif) does not conform to MNE naming conventions. All epochs files should end with -epo.fif, -epo.fif.gz, _epo.fif or _epo.fif.gz\n",
      "  epochs_MF = mne.read_epochs(file_MF, preload=True)\n"
     ]
    },
    {
     "name": "stdout",
     "output_type": "stream",
     "text": [
      "Not setting metadata\n",
      "107 matching events found\n",
      "No baseline correction applied\n",
      "0 projection items activated\n",
      "Effective window size : 0.250 (s)\n",
      "Effective window size : 0.250 (s)\n",
      "Reading c:\\Users\\afcad\\Downloads\\Sujeto7_R_processed.fif ...\n",
      "    Found the data of interest:\n",
      "        t =   -2500.00 ...    2500.00 ms\n",
      "        0 CTF compensation matrices available\n"
     ]
    },
    {
     "name": "stderr",
     "output_type": "stream",
     "text": [
      "C:\\Users\\afcad\\AppData\\Local\\Temp\\ipykernel_1044\\2763569990.py:69: RuntimeWarning: This filename (Sujeto7_R_processed.fif) does not conform to MNE naming conventions. All epochs files should end with -epo.fif, -epo.fif.gz, _epo.fif or _epo.fif.gz\n",
      "  epochs_R = mne.read_epochs(file_R, preload=True)\n"
     ]
    },
    {
     "name": "stdout",
     "output_type": "stream",
     "text": [
      "Not setting metadata\n",
      "55 matching events found\n",
      "No baseline correction applied\n",
      "0 projection items activated\n",
      "Reading c:\\Users\\afcad\\Downloads\\Sujeto7_MF_processed.fif ...\n"
     ]
    },
    {
     "name": "stderr",
     "output_type": "stream",
     "text": [
      "C:\\Users\\afcad\\AppData\\Local\\Temp\\ipykernel_1044\\2763569990.py:70: RuntimeWarning: This filename (Sujeto7_MF_processed.fif) does not conform to MNE naming conventions. All epochs files should end with -epo.fif, -epo.fif.gz, _epo.fif or _epo.fif.gz\n",
      "  epochs_MF = mne.read_epochs(file_MF, preload=True)\n"
     ]
    },
    {
     "name": "stdout",
     "output_type": "stream",
     "text": [
      "    Found the data of interest:\n",
      "        t =   -2500.00 ...    2500.00 ms\n",
      "        0 CTF compensation matrices available\n",
      "Not setting metadata\n",
      "130 matching events found\n",
      "No baseline correction applied\n",
      "0 projection items activated\n",
      "Effective window size : 0.250 (s)\n",
      "Effective window size : 0.250 (s)\n",
      "Reading c:\\Users\\afcad\\Downloads\\Sujeto8_R_processed.fif ...\n",
      "    Found the data of interest:\n",
      "        t =   -2500.00 ...    2500.00 ms\n",
      "        0 CTF compensation matrices available\n"
     ]
    },
    {
     "name": "stderr",
     "output_type": "stream",
     "text": [
      "C:\\Users\\afcad\\AppData\\Local\\Temp\\ipykernel_1044\\2763569990.py:69: RuntimeWarning: This filename (Sujeto8_R_processed.fif) does not conform to MNE naming conventions. All epochs files should end with -epo.fif, -epo.fif.gz, _epo.fif or _epo.fif.gz\n",
      "  epochs_R = mne.read_epochs(file_R, preload=True)\n"
     ]
    },
    {
     "name": "stdout",
     "output_type": "stream",
     "text": [
      "Not setting metadata\n",
      "63 matching events found\n",
      "No baseline correction applied\n",
      "0 projection items activated\n",
      "Reading c:\\Users\\afcad\\Downloads\\Sujeto8_MF_processed.fif ...\n"
     ]
    },
    {
     "name": "stderr",
     "output_type": "stream",
     "text": [
      "C:\\Users\\afcad\\AppData\\Local\\Temp\\ipykernel_1044\\2763569990.py:70: RuntimeWarning: This filename (Sujeto8_MF_processed.fif) does not conform to MNE naming conventions. All epochs files should end with -epo.fif, -epo.fif.gz, _epo.fif or _epo.fif.gz\n",
      "  epochs_MF = mne.read_epochs(file_MF, preload=True)\n"
     ]
    },
    {
     "name": "stdout",
     "output_type": "stream",
     "text": [
      "    Found the data of interest:\n",
      "        t =   -2500.00 ...    2500.00 ms\n",
      "        0 CTF compensation matrices available\n",
      "Not setting metadata\n",
      "138 matching events found\n",
      "No baseline correction applied\n",
      "0 projection items activated\n",
      "Effective window size : 0.250 (s)\n",
      "Effective window size : 0.250 (s)\n",
      "Reading c:\\Users\\afcad\\Downloads\\Sujeto9_R_processed.fif ...\n",
      "    Found the data of interest:\n",
      "        t =   -2500.00 ...    2500.00 ms\n",
      "        0 CTF compensation matrices available\n"
     ]
    },
    {
     "name": "stderr",
     "output_type": "stream",
     "text": [
      "C:\\Users\\afcad\\AppData\\Local\\Temp\\ipykernel_1044\\2763569990.py:69: RuntimeWarning: This filename (Sujeto9_R_processed.fif) does not conform to MNE naming conventions. All epochs files should end with -epo.fif, -epo.fif.gz, _epo.fif or _epo.fif.gz\n",
      "  epochs_R = mne.read_epochs(file_R, preload=True)\n"
     ]
    },
    {
     "name": "stdout",
     "output_type": "stream",
     "text": [
      "Not setting metadata\n",
      "60 matching events found\n",
      "No baseline correction applied\n",
      "0 projection items activated\n",
      "Reading c:\\Users\\afcad\\Downloads\\Sujeto9_MF_processed.fif ...\n"
     ]
    },
    {
     "name": "stderr",
     "output_type": "stream",
     "text": [
      "C:\\Users\\afcad\\AppData\\Local\\Temp\\ipykernel_1044\\2763569990.py:70: RuntimeWarning: This filename (Sujeto9_MF_processed.fif) does not conform to MNE naming conventions. All epochs files should end with -epo.fif, -epo.fif.gz, _epo.fif or _epo.fif.gz\n",
      "  epochs_MF = mne.read_epochs(file_MF, preload=True)\n"
     ]
    },
    {
     "name": "stdout",
     "output_type": "stream",
     "text": [
      "    Found the data of interest:\n",
      "        t =   -2500.00 ...    2500.00 ms\n",
      "        0 CTF compensation matrices available\n",
      "Not setting metadata\n",
      "143 matching events found\n",
      "No baseline correction applied\n",
      "0 projection items activated\n",
      "Effective window size : 0.250 (s)\n",
      "Effective window size : 0.250 (s)\n",
      "Reading c:\\Users\\afcad\\Downloads\\Sujeto10_R_processed.fif ...\n",
      "    Found the data of interest:\n",
      "        t =   -2500.00 ...    2500.00 ms\n",
      "        0 CTF compensation matrices available\n"
     ]
    },
    {
     "name": "stderr",
     "output_type": "stream",
     "text": [
      "C:\\Users\\afcad\\AppData\\Local\\Temp\\ipykernel_1044\\2763569990.py:69: RuntimeWarning: This filename (Sujeto10_R_processed.fif) does not conform to MNE naming conventions. All epochs files should end with -epo.fif, -epo.fif.gz, _epo.fif or _epo.fif.gz\n",
      "  epochs_R = mne.read_epochs(file_R, preload=True)\n"
     ]
    },
    {
     "name": "stdout",
     "output_type": "stream",
     "text": [
      "Not setting metadata\n",
      "64 matching events found\n",
      "No baseline correction applied\n",
      "0 projection items activated\n",
      "Reading c:\\Users\\afcad\\Downloads\\Sujeto10_MF_processed.fif ...\n"
     ]
    },
    {
     "name": "stderr",
     "output_type": "stream",
     "text": [
      "C:\\Users\\afcad\\AppData\\Local\\Temp\\ipykernel_1044\\2763569990.py:70: RuntimeWarning: This filename (Sujeto10_MF_processed.fif) does not conform to MNE naming conventions. All epochs files should end with -epo.fif, -epo.fif.gz, _epo.fif or _epo.fif.gz\n",
      "  epochs_MF = mne.read_epochs(file_MF, preload=True)\n"
     ]
    },
    {
     "name": "stdout",
     "output_type": "stream",
     "text": [
      "    Found the data of interest:\n",
      "        t =   -2500.00 ...    2500.00 ms\n",
      "        0 CTF compensation matrices available\n",
      "Not setting metadata\n",
      "137 matching events found\n",
      "No baseline correction applied\n",
      "0 projection items activated\n",
      "Effective window size : 0.250 (s)\n",
      "Effective window size : 0.250 (s)\n",
      "Reading c:\\Users\\afcad\\Downloads\\Sujeto11_R_processed.fif ...\n",
      "    Found the data of interest:\n",
      "        t =   -2500.00 ...    2500.00 ms\n",
      "        0 CTF compensation matrices available\n"
     ]
    },
    {
     "name": "stderr",
     "output_type": "stream",
     "text": [
      "C:\\Users\\afcad\\AppData\\Local\\Temp\\ipykernel_1044\\2763569990.py:69: RuntimeWarning: This filename (Sujeto11_R_processed.fif) does not conform to MNE naming conventions. All epochs files should end with -epo.fif, -epo.fif.gz, _epo.fif or _epo.fif.gz\n",
      "  epochs_R = mne.read_epochs(file_R, preload=True)\n"
     ]
    },
    {
     "name": "stdout",
     "output_type": "stream",
     "text": [
      "Not setting metadata\n",
      "53 matching events found\n",
      "No baseline correction applied\n",
      "0 projection items activated\n",
      "Reading c:\\Users\\afcad\\Downloads\\Sujeto11_MF_processed.fif ...\n"
     ]
    },
    {
     "name": "stderr",
     "output_type": "stream",
     "text": [
      "C:\\Users\\afcad\\AppData\\Local\\Temp\\ipykernel_1044\\2763569990.py:70: RuntimeWarning: This filename (Sujeto11_MF_processed.fif) does not conform to MNE naming conventions. All epochs files should end with -epo.fif, -epo.fif.gz, _epo.fif or _epo.fif.gz\n",
      "  epochs_MF = mne.read_epochs(file_MF, preload=True)\n"
     ]
    },
    {
     "name": "stdout",
     "output_type": "stream",
     "text": [
      "    Found the data of interest:\n",
      "        t =   -2500.00 ...    2500.00 ms\n",
      "        0 CTF compensation matrices available\n",
      "Not setting metadata\n",
      "107 matching events found\n",
      "No baseline correction applied\n",
      "0 projection items activated\n",
      "Effective window size : 0.250 (s)\n",
      "Effective window size : 0.250 (s)\n",
      "Reading c:\\Users\\afcad\\Downloads\\Sujeto13_R_processed.fif ...\n",
      "    Found the data of interest:\n",
      "        t =   -2500.00 ...    2500.00 ms\n",
      "        0 CTF compensation matrices available\n"
     ]
    },
    {
     "name": "stderr",
     "output_type": "stream",
     "text": [
      "C:\\Users\\afcad\\AppData\\Local\\Temp\\ipykernel_1044\\2763569990.py:69: RuntimeWarning: This filename (Sujeto13_R_processed.fif) does not conform to MNE naming conventions. All epochs files should end with -epo.fif, -epo.fif.gz, _epo.fif or _epo.fif.gz\n",
      "  epochs_R = mne.read_epochs(file_R, preload=True)\n"
     ]
    },
    {
     "name": "stdout",
     "output_type": "stream",
     "text": [
      "Not setting metadata\n",
      "63 matching events found\n",
      "No baseline correction applied\n",
      "0 projection items activated\n",
      "Reading c:\\Users\\afcad\\Downloads\\Sujeto13_MF_processed.fif ...\n"
     ]
    },
    {
     "name": "stderr",
     "output_type": "stream",
     "text": [
      "C:\\Users\\afcad\\AppData\\Local\\Temp\\ipykernel_1044\\2763569990.py:70: RuntimeWarning: This filename (Sujeto13_MF_processed.fif) does not conform to MNE naming conventions. All epochs files should end with -epo.fif, -epo.fif.gz, _epo.fif or _epo.fif.gz\n",
      "  epochs_MF = mne.read_epochs(file_MF, preload=True)\n"
     ]
    },
    {
     "name": "stdout",
     "output_type": "stream",
     "text": [
      "    Found the data of interest:\n",
      "        t =   -2500.00 ...    2500.00 ms\n",
      "        0 CTF compensation matrices available\n",
      "Not setting metadata\n",
      "141 matching events found\n",
      "No baseline correction applied\n",
      "0 projection items activated\n",
      "Effective window size : 0.250 (s)\n",
      "Effective window size : 0.250 (s)\n",
      "Reading c:\\Users\\afcad\\Downloads\\Sujeto14_R_processed.fif ...\n",
      "    Found the data of interest:\n",
      "        t =   -2500.00 ...    2500.00 ms\n",
      "        0 CTF compensation matrices available\n"
     ]
    },
    {
     "name": "stderr",
     "output_type": "stream",
     "text": [
      "C:\\Users\\afcad\\AppData\\Local\\Temp\\ipykernel_1044\\2763569990.py:69: RuntimeWarning: This filename (Sujeto14_R_processed.fif) does not conform to MNE naming conventions. All epochs files should end with -epo.fif, -epo.fif.gz, _epo.fif or _epo.fif.gz\n",
      "  epochs_R = mne.read_epochs(file_R, preload=True)\n"
     ]
    },
    {
     "name": "stdout",
     "output_type": "stream",
     "text": [
      "Not setting metadata\n",
      "71 matching events found\n",
      "No baseline correction applied\n",
      "0 projection items activated\n",
      "Reading c:\\Users\\afcad\\Downloads\\Sujeto14_MF_processed.fif ...\n"
     ]
    },
    {
     "name": "stderr",
     "output_type": "stream",
     "text": [
      "C:\\Users\\afcad\\AppData\\Local\\Temp\\ipykernel_1044\\2763569990.py:70: RuntimeWarning: This filename (Sujeto14_MF_processed.fif) does not conform to MNE naming conventions. All epochs files should end with -epo.fif, -epo.fif.gz, _epo.fif or _epo.fif.gz\n",
      "  epochs_MF = mne.read_epochs(file_MF, preload=True)\n"
     ]
    },
    {
     "name": "stdout",
     "output_type": "stream",
     "text": [
      "    Found the data of interest:\n",
      "        t =   -2500.00 ...    2500.00 ms\n",
      "        0 CTF compensation matrices available\n",
      "Not setting metadata\n",
      "141 matching events found\n",
      "No baseline correction applied\n",
      "0 projection items activated\n",
      "Effective window size : 0.250 (s)\n",
      "Effective window size : 0.250 (s)\n",
      "Reading c:\\Users\\afcad\\Downloads\\Sujeto15_R_processed.fif ...\n",
      "    Found the data of interest:\n",
      "        t =   -2500.00 ...    2500.00 ms\n",
      "        0 CTF compensation matrices available\n"
     ]
    },
    {
     "name": "stderr",
     "output_type": "stream",
     "text": [
      "C:\\Users\\afcad\\AppData\\Local\\Temp\\ipykernel_1044\\2763569990.py:69: RuntimeWarning: This filename (Sujeto15_R_processed.fif) does not conform to MNE naming conventions. All epochs files should end with -epo.fif, -epo.fif.gz, _epo.fif or _epo.fif.gz\n",
      "  epochs_R = mne.read_epochs(file_R, preload=True)\n"
     ]
    },
    {
     "name": "stdout",
     "output_type": "stream",
     "text": [
      "Not setting metadata\n",
      "69 matching events found\n",
      "No baseline correction applied\n",
      "0 projection items activated\n",
      "Reading c:\\Users\\afcad\\Downloads\\Sujeto15_MF_processed.fif ...\n"
     ]
    },
    {
     "name": "stderr",
     "output_type": "stream",
     "text": [
      "C:\\Users\\afcad\\AppData\\Local\\Temp\\ipykernel_1044\\2763569990.py:70: RuntimeWarning: This filename (Sujeto15_MF_processed.fif) does not conform to MNE naming conventions. All epochs files should end with -epo.fif, -epo.fif.gz, _epo.fif or _epo.fif.gz\n",
      "  epochs_MF = mne.read_epochs(file_MF, preload=True)\n"
     ]
    },
    {
     "name": "stdout",
     "output_type": "stream",
     "text": [
      "    Found the data of interest:\n",
      "        t =   -2500.00 ...    2500.00 ms\n",
      "        0 CTF compensation matrices available\n",
      "Not setting metadata\n",
      "141 matching events found\n",
      "No baseline correction applied\n",
      "0 projection items activated\n",
      "Effective window size : 0.250 (s)\n",
      "Effective window size : 0.250 (s)\n",
      "Reading c:\\Users\\afcad\\Downloads\\Sujeto16_R_processed.fif ...\n",
      "    Found the data of interest:\n",
      "        t =   -2500.00 ...    2500.00 ms\n",
      "        0 CTF compensation matrices available\n"
     ]
    },
    {
     "name": "stderr",
     "output_type": "stream",
     "text": [
      "C:\\Users\\afcad\\AppData\\Local\\Temp\\ipykernel_1044\\2763569990.py:69: RuntimeWarning: This filename (Sujeto16_R_processed.fif) does not conform to MNE naming conventions. All epochs files should end with -epo.fif, -epo.fif.gz, _epo.fif or _epo.fif.gz\n",
      "  epochs_R = mne.read_epochs(file_R, preload=True)\n"
     ]
    },
    {
     "name": "stdout",
     "output_type": "stream",
     "text": [
      "Not setting metadata\n",
      "52 matching events found\n",
      "No baseline correction applied\n",
      "0 projection items activated\n",
      "Reading c:\\Users\\afcad\\Downloads\\Sujeto16_MF_processed.fif ...\n"
     ]
    },
    {
     "name": "stderr",
     "output_type": "stream",
     "text": [
      "C:\\Users\\afcad\\AppData\\Local\\Temp\\ipykernel_1044\\2763569990.py:70: RuntimeWarning: This filename (Sujeto16_MF_processed.fif) does not conform to MNE naming conventions. All epochs files should end with -epo.fif, -epo.fif.gz, _epo.fif or _epo.fif.gz\n",
      "  epochs_MF = mne.read_epochs(file_MF, preload=True)\n"
     ]
    },
    {
     "name": "stdout",
     "output_type": "stream",
     "text": [
      "    Found the data of interest:\n",
      "        t =   -2500.00 ...    2500.00 ms\n",
      "        0 CTF compensation matrices available\n",
      "Not setting metadata\n",
      "106 matching events found\n",
      "No baseline correction applied\n",
      "0 projection items activated\n",
      "Effective window size : 0.250 (s)\n",
      "Effective window size : 0.250 (s)\n",
      "Reading c:\\Users\\afcad\\Downloads\\Sujeto17_R_processed.fif ...\n",
      "    Found the data of interest:\n"
     ]
    },
    {
     "name": "stderr",
     "output_type": "stream",
     "text": [
      "C:\\Users\\afcad\\AppData\\Local\\Temp\\ipykernel_1044\\2763569990.py:69: RuntimeWarning: This filename (Sujeto17_R_processed.fif) does not conform to MNE naming conventions. All epochs files should end with -epo.fif, -epo.fif.gz, _epo.fif or _epo.fif.gz\n",
      "  epochs_R = mne.read_epochs(file_R, preload=True)\n"
     ]
    },
    {
     "name": "stdout",
     "output_type": "stream",
     "text": [
      "        t =   -2500.00 ...    2500.00 ms\n",
      "        0 CTF compensation matrices available\n",
      "Not setting metadata\n",
      "72 matching events found\n",
      "No baseline correction applied\n",
      "0 projection items activated\n",
      "Reading c:\\Users\\afcad\\Downloads\\Sujeto17_MF_processed.fif ...\n"
     ]
    },
    {
     "name": "stderr",
     "output_type": "stream",
     "text": [
      "C:\\Users\\afcad\\AppData\\Local\\Temp\\ipykernel_1044\\2763569990.py:70: RuntimeWarning: This filename (Sujeto17_MF_processed.fif) does not conform to MNE naming conventions. All epochs files should end with -epo.fif, -epo.fif.gz, _epo.fif or _epo.fif.gz\n",
      "  epochs_MF = mne.read_epochs(file_MF, preload=True)\n"
     ]
    },
    {
     "name": "stdout",
     "output_type": "stream",
     "text": [
      "    Found the data of interest:\n",
      "        t =   -2500.00 ...    2500.00 ms\n",
      "        0 CTF compensation matrices available\n",
      "Not setting metadata\n",
      "145 matching events found\n",
      "No baseline correction applied\n",
      "0 projection items activated\n",
      "Effective window size : 0.250 (s)\n",
      "Effective window size : 0.250 (s)\n",
      "Reading c:\\Users\\afcad\\Downloads\\Sujeto18_R_processed.fif ...\n",
      "    Found the data of interest:\n",
      "        t =   -2500.00 ...    2500.00 ms\n",
      "        0 CTF compensation matrices available\n"
     ]
    },
    {
     "name": "stderr",
     "output_type": "stream",
     "text": [
      "C:\\Users\\afcad\\AppData\\Local\\Temp\\ipykernel_1044\\2763569990.py:69: RuntimeWarning: This filename (Sujeto18_R_processed.fif) does not conform to MNE naming conventions. All epochs files should end with -epo.fif, -epo.fif.gz, _epo.fif or _epo.fif.gz\n",
      "  epochs_R = mne.read_epochs(file_R, preload=True)\n"
     ]
    },
    {
     "name": "stdout",
     "output_type": "stream",
     "text": [
      "Not setting metadata\n",
      "44 matching events found\n",
      "No baseline correction applied\n",
      "0 projection items activated\n",
      "Reading c:\\Users\\afcad\\Downloads\\Sujeto18_MF_processed.fif ...\n"
     ]
    },
    {
     "name": "stderr",
     "output_type": "stream",
     "text": [
      "C:\\Users\\afcad\\AppData\\Local\\Temp\\ipykernel_1044\\2763569990.py:70: RuntimeWarning: This filename (Sujeto18_MF_processed.fif) does not conform to MNE naming conventions. All epochs files should end with -epo.fif, -epo.fif.gz, _epo.fif or _epo.fif.gz\n",
      "  epochs_MF = mne.read_epochs(file_MF, preload=True)\n"
     ]
    },
    {
     "name": "stdout",
     "output_type": "stream",
     "text": [
      "    Found the data of interest:\n",
      "        t =   -2500.00 ...    2500.00 ms\n",
      "        0 CTF compensation matrices available\n",
      "Not setting metadata\n",
      "137 matching events found\n",
      "No baseline correction applied\n",
      "0 projection items activated\n",
      "Effective window size : 0.250 (s)\n",
      "Effective window size : 0.250 (s)\n",
      "Reading c:\\Users\\afcad\\Downloads\\Sujeto19_R_processed.fif ...\n",
      "    Found the data of interest:\n",
      "        t =   -2500.00 ...    2500.00 ms\n",
      "        0 CTF compensation matrices available\n"
     ]
    },
    {
     "name": "stderr",
     "output_type": "stream",
     "text": [
      "C:\\Users\\afcad\\AppData\\Local\\Temp\\ipykernel_1044\\2763569990.py:69: RuntimeWarning: This filename (Sujeto19_R_processed.fif) does not conform to MNE naming conventions. All epochs files should end with -epo.fif, -epo.fif.gz, _epo.fif or _epo.fif.gz\n",
      "  epochs_R = mne.read_epochs(file_R, preload=True)\n"
     ]
    },
    {
     "name": "stdout",
     "output_type": "stream",
     "text": [
      "Not setting metadata\n",
      "68 matching events found\n",
      "No baseline correction applied\n",
      "0 projection items activated\n",
      "Reading c:\\Users\\afcad\\Downloads\\Sujeto19_MF_processed.fif ...\n"
     ]
    },
    {
     "name": "stderr",
     "output_type": "stream",
     "text": [
      "C:\\Users\\afcad\\AppData\\Local\\Temp\\ipykernel_1044\\2763569990.py:70: RuntimeWarning: This filename (Sujeto19_MF_processed.fif) does not conform to MNE naming conventions. All epochs files should end with -epo.fif, -epo.fif.gz, _epo.fif or _epo.fif.gz\n",
      "  epochs_MF = mne.read_epochs(file_MF, preload=True)\n"
     ]
    },
    {
     "name": "stdout",
     "output_type": "stream",
     "text": [
      "    Found the data of interest:\n",
      "        t =   -2500.00 ...    2500.00 ms\n",
      "        0 CTF compensation matrices available\n",
      "Not setting metadata\n",
      "143 matching events found\n",
      "No baseline correction applied\n",
      "0 projection items activated\n",
      "Effective window size : 0.250 (s)\n",
      "Effective window size : 0.250 (s)\n",
      "Reading c:\\Users\\afcad\\Downloads\\Sujeto20_R_processed.fif ...\n",
      "    Found the data of interest:\n",
      "        t =   -2500.00 ...    2500.00 ms\n",
      "        0 CTF compensation matrices available\n"
     ]
    },
    {
     "name": "stderr",
     "output_type": "stream",
     "text": [
      "C:\\Users\\afcad\\AppData\\Local\\Temp\\ipykernel_1044\\2763569990.py:69: RuntimeWarning: This filename (Sujeto20_R_processed.fif) does not conform to MNE naming conventions. All epochs files should end with -epo.fif, -epo.fif.gz, _epo.fif or _epo.fif.gz\n",
      "  epochs_R = mne.read_epochs(file_R, preload=True)\n"
     ]
    },
    {
     "name": "stdout",
     "output_type": "stream",
     "text": [
      "Not setting metadata\n",
      "71 matching events found\n",
      "No baseline correction applied\n",
      "0 projection items activated\n",
      "Reading c:\\Users\\afcad\\Downloads\\Sujeto20_MF_processed.fif ...\n"
     ]
    },
    {
     "name": "stderr",
     "output_type": "stream",
     "text": [
      "C:\\Users\\afcad\\AppData\\Local\\Temp\\ipykernel_1044\\2763569990.py:70: RuntimeWarning: This filename (Sujeto20_MF_processed.fif) does not conform to MNE naming conventions. All epochs files should end with -epo.fif, -epo.fif.gz, _epo.fif or _epo.fif.gz\n",
      "  epochs_MF = mne.read_epochs(file_MF, preload=True)\n"
     ]
    },
    {
     "name": "stdout",
     "output_type": "stream",
     "text": [
      "    Found the data of interest:\n",
      "        t =   -2500.00 ...    2500.00 ms\n",
      "        0 CTF compensation matrices available\n",
      "Not setting metadata\n",
      "141 matching events found\n",
      "No baseline correction applied\n",
      "0 projection items activated\n",
      "Effective window size : 0.250 (s)\n",
      "Effective window size : 0.250 (s)\n",
      "Reading c:\\Users\\afcad\\Downloads\\Sujeto21_R_processed.fif ...\n",
      "    Found the data of interest:\n",
      "        t =   -2500.00 ...    2500.00 ms\n",
      "        0 CTF compensation matrices available\n"
     ]
    },
    {
     "name": "stderr",
     "output_type": "stream",
     "text": [
      "C:\\Users\\afcad\\AppData\\Local\\Temp\\ipykernel_1044\\2763569990.py:69: RuntimeWarning: This filename (Sujeto21_R_processed.fif) does not conform to MNE naming conventions. All epochs files should end with -epo.fif, -epo.fif.gz, _epo.fif or _epo.fif.gz\n",
      "  epochs_R = mne.read_epochs(file_R, preload=True)\n"
     ]
    },
    {
     "name": "stdout",
     "output_type": "stream",
     "text": [
      "Not setting metadata\n",
      "47 matching events found\n",
      "No baseline correction applied\n",
      "0 projection items activated\n",
      "Reading c:\\Users\\afcad\\Downloads\\Sujeto21_MF_processed.fif ...\n"
     ]
    },
    {
     "name": "stderr",
     "output_type": "stream",
     "text": [
      "C:\\Users\\afcad\\AppData\\Local\\Temp\\ipykernel_1044\\2763569990.py:70: RuntimeWarning: This filename (Sujeto21_MF_processed.fif) does not conform to MNE naming conventions. All epochs files should end with -epo.fif, -epo.fif.gz, _epo.fif or _epo.fif.gz\n",
      "  epochs_MF = mne.read_epochs(file_MF, preload=True)\n"
     ]
    },
    {
     "name": "stdout",
     "output_type": "stream",
     "text": [
      "    Found the data of interest:\n",
      "        t =   -2500.00 ...    2500.00 ms\n",
      "        0 CTF compensation matrices available\n",
      "Not setting metadata\n",
      "106 matching events found\n",
      "No baseline correction applied\n",
      "0 projection items activated\n",
      "Effective window size : 0.250 (s)\n",
      "Effective window size : 0.250 (s)\n",
      "Reading c:\\Users\\afcad\\Downloads\\Sujeto22_R_processed.fif ...\n",
      "    Found the data of interest:\n",
      "        t =   -2500.00 ...    2500.00 ms\n",
      "        0 CTF compensation matrices available\n"
     ]
    },
    {
     "name": "stderr",
     "output_type": "stream",
     "text": [
      "C:\\Users\\afcad\\AppData\\Local\\Temp\\ipykernel_1044\\2763569990.py:69: RuntimeWarning: This filename (Sujeto22_R_processed.fif) does not conform to MNE naming conventions. All epochs files should end with -epo.fif, -epo.fif.gz, _epo.fif or _epo.fif.gz\n",
      "  epochs_R = mne.read_epochs(file_R, preload=True)\n"
     ]
    },
    {
     "name": "stdout",
     "output_type": "stream",
     "text": [
      "Not setting metadata\n",
      "67 matching events found\n",
      "No baseline correction applied\n",
      "0 projection items activated\n",
      "Reading c:\\Users\\afcad\\Downloads\\Sujeto22_MF_processed.fif ...\n"
     ]
    },
    {
     "name": "stderr",
     "output_type": "stream",
     "text": [
      "C:\\Users\\afcad\\AppData\\Local\\Temp\\ipykernel_1044\\2763569990.py:70: RuntimeWarning: This filename (Sujeto22_MF_processed.fif) does not conform to MNE naming conventions. All epochs files should end with -epo.fif, -epo.fif.gz, _epo.fif or _epo.fif.gz\n",
      "  epochs_MF = mne.read_epochs(file_MF, preload=True)\n"
     ]
    },
    {
     "name": "stdout",
     "output_type": "stream",
     "text": [
      "    Found the data of interest:\n",
      "        t =   -2500.00 ...    2500.00 ms\n",
      "        0 CTF compensation matrices available\n",
      "Not setting metadata\n",
      "138 matching events found\n",
      "No baseline correction applied\n",
      "0 projection items activated\n",
      "Effective window size : 0.250 (s)\n",
      "Effective window size : 0.250 (s)\n",
      "Reading c:\\Users\\afcad\\Downloads\\Sujeto23_R_processed.fif ...\n",
      "    Found the data of interest:\n",
      "        t =   -2500.00 ...    2500.00 ms\n",
      "        0 CTF compensation matrices available\n",
      "Not setting metadata\n",
      "11 matching events found\n",
      "No baseline correction applied\n",
      "0 projection items activated\n",
      "Reading c:\\Users\\afcad\\Downloads\\Sujeto23_MF_processed.fif ...\n"
     ]
    },
    {
     "name": "stderr",
     "output_type": "stream",
     "text": [
      "C:\\Users\\afcad\\AppData\\Local\\Temp\\ipykernel_1044\\2763569990.py:69: RuntimeWarning: This filename (Sujeto23_R_processed.fif) does not conform to MNE naming conventions. All epochs files should end with -epo.fif, -epo.fif.gz, _epo.fif or _epo.fif.gz\n",
      "  epochs_R = mne.read_epochs(file_R, preload=True)\n",
      "C:\\Users\\afcad\\AppData\\Local\\Temp\\ipykernel_1044\\2763569990.py:70: RuntimeWarning: This filename (Sujeto23_MF_processed.fif) does not conform to MNE naming conventions. All epochs files should end with -epo.fif, -epo.fif.gz, _epo.fif or _epo.fif.gz\n",
      "  epochs_MF = mne.read_epochs(file_MF, preload=True)\n"
     ]
    },
    {
     "name": "stdout",
     "output_type": "stream",
     "text": [
      "    Found the data of interest:\n",
      "        t =   -2500.00 ...    2500.00 ms\n",
      "        0 CTF compensation matrices available\n",
      "Not setting metadata\n",
      "125 matching events found\n",
      "No baseline correction applied\n",
      "0 projection items activated\n",
      "Effective window size : 0.250 (s)\n",
      "Effective window size : 0.250 (s)\n",
      "Reading c:\\Users\\afcad\\Downloads\\Sujeto24_R_processed.fif ...\n",
      "    Found the data of interest:\n",
      "        t =   -2500.00 ...    2500.00 ms\n",
      "        0 CTF compensation matrices available\n"
     ]
    },
    {
     "name": "stderr",
     "output_type": "stream",
     "text": [
      "C:\\Users\\afcad\\AppData\\Local\\Temp\\ipykernel_1044\\2763569990.py:69: RuntimeWarning: This filename (Sujeto24_R_processed.fif) does not conform to MNE naming conventions. All epochs files should end with -epo.fif, -epo.fif.gz, _epo.fif or _epo.fif.gz\n",
      "  epochs_R = mne.read_epochs(file_R, preload=True)\n"
     ]
    },
    {
     "name": "stdout",
     "output_type": "stream",
     "text": [
      "Not setting metadata\n",
      "61 matching events found\n",
      "No baseline correction applied\n",
      "0 projection items activated\n",
      "Reading c:\\Users\\afcad\\Downloads\\Sujeto24_MF_processed.fif ...\n"
     ]
    },
    {
     "name": "stderr",
     "output_type": "stream",
     "text": [
      "C:\\Users\\afcad\\AppData\\Local\\Temp\\ipykernel_1044\\2763569990.py:70: RuntimeWarning: This filename (Sujeto24_MF_processed.fif) does not conform to MNE naming conventions. All epochs files should end with -epo.fif, -epo.fif.gz, _epo.fif or _epo.fif.gz\n",
      "  epochs_MF = mne.read_epochs(file_MF, preload=True)\n"
     ]
    },
    {
     "name": "stdout",
     "output_type": "stream",
     "text": [
      "    Found the data of interest:\n",
      "        t =   -2500.00 ...    2500.00 ms\n",
      "        0 CTF compensation matrices available\n",
      "Not setting metadata\n",
      "132 matching events found\n",
      "No baseline correction applied\n",
      "0 projection items activated\n",
      "Effective window size : 0.250 (s)\n",
      "Effective window size : 0.250 (s)\n",
      "Reading c:\\Users\\afcad\\Downloads\\Sujeto25_R_processed.fif ...\n",
      "    Found the data of interest:\n"
     ]
    },
    {
     "name": "stderr",
     "output_type": "stream",
     "text": [
      "C:\\Users\\afcad\\AppData\\Local\\Temp\\ipykernel_1044\\2763569990.py:69: RuntimeWarning: This filename (Sujeto25_R_processed.fif) does not conform to MNE naming conventions. All epochs files should end with -epo.fif, -epo.fif.gz, _epo.fif or _epo.fif.gz\n",
      "  epochs_R = mne.read_epochs(file_R, preload=True)\n"
     ]
    },
    {
     "name": "stdout",
     "output_type": "stream",
     "text": [
      "        t =   -2500.00 ...    2500.00 ms\n",
      "        0 CTF compensation matrices available\n",
      "Not setting metadata\n",
      "70 matching events found\n",
      "No baseline correction applied\n",
      "0 projection items activated\n",
      "Reading c:\\Users\\afcad\\Downloads\\Sujeto25_MF_processed.fif ...\n"
     ]
    },
    {
     "name": "stderr",
     "output_type": "stream",
     "text": [
      "C:\\Users\\afcad\\AppData\\Local\\Temp\\ipykernel_1044\\2763569990.py:70: RuntimeWarning: This filename (Sujeto25_MF_processed.fif) does not conform to MNE naming conventions. All epochs files should end with -epo.fif, -epo.fif.gz, _epo.fif or _epo.fif.gz\n",
      "  epochs_MF = mne.read_epochs(file_MF, preload=True)\n"
     ]
    },
    {
     "name": "stdout",
     "output_type": "stream",
     "text": [
      "    Found the data of interest:\n",
      "        t =   -2500.00 ...    2500.00 ms\n",
      "        0 CTF compensation matrices available\n",
      "Not setting metadata\n",
      "140 matching events found\n",
      "No baseline correction applied\n",
      "0 projection items activated\n",
      "Effective window size : 0.250 (s)\n",
      "Effective window size : 0.250 (s)\n",
      "Reading c:\\Users\\afcad\\Downloads\\Sujeto26_R_processed.fif ...\n",
      "    Found the data of interest:\n",
      "        t =   -2500.00 ...    2500.00 ms\n",
      "        0 CTF compensation matrices available\n"
     ]
    },
    {
     "name": "stderr",
     "output_type": "stream",
     "text": [
      "C:\\Users\\afcad\\AppData\\Local\\Temp\\ipykernel_1044\\2763569990.py:69: RuntimeWarning: This filename (Sujeto26_R_processed.fif) does not conform to MNE naming conventions. All epochs files should end with -epo.fif, -epo.fif.gz, _epo.fif or _epo.fif.gz\n",
      "  epochs_R = mne.read_epochs(file_R, preload=True)\n"
     ]
    },
    {
     "name": "stdout",
     "output_type": "stream",
     "text": [
      "Not setting metadata\n",
      "63 matching events found\n",
      "No baseline correction applied\n",
      "0 projection items activated\n",
      "Reading c:\\Users\\afcad\\Downloads\\Sujeto26_MF_processed.fif ...\n",
      "    Found the data of interest:\n",
      "        t =   -2500.00 ...    2500.00 ms\n",
      "        0 CTF compensation matrices available\n"
     ]
    },
    {
     "name": "stderr",
     "output_type": "stream",
     "text": [
      "C:\\Users\\afcad\\AppData\\Local\\Temp\\ipykernel_1044\\2763569990.py:70: RuntimeWarning: This filename (Sujeto26_MF_processed.fif) does not conform to MNE naming conventions. All epochs files should end with -epo.fif, -epo.fif.gz, _epo.fif or _epo.fif.gz\n",
      "  epochs_MF = mne.read_epochs(file_MF, preload=True)\n"
     ]
    },
    {
     "name": "stdout",
     "output_type": "stream",
     "text": [
      "Not setting metadata\n",
      "74 matching events found\n",
      "No baseline correction applied\n",
      "0 projection items activated\n",
      "Effective window size : 0.250 (s)\n",
      "Effective window size : 0.250 (s)\n",
      "Reading c:\\Users\\afcad\\Downloads\\Sujeto27_R_processed.fif ...\n",
      "    Found the data of interest:\n",
      "        t =   -2500.00 ...    2500.00 ms\n",
      "        0 CTF compensation matrices available\n"
     ]
    },
    {
     "name": "stderr",
     "output_type": "stream",
     "text": [
      "C:\\Users\\afcad\\AppData\\Local\\Temp\\ipykernel_1044\\2763569990.py:69: RuntimeWarning: This filename (Sujeto27_R_processed.fif) does not conform to MNE naming conventions. All epochs files should end with -epo.fif, -epo.fif.gz, _epo.fif or _epo.fif.gz\n",
      "  epochs_R = mne.read_epochs(file_R, preload=True)\n"
     ]
    },
    {
     "name": "stdout",
     "output_type": "stream",
     "text": [
      "Not setting metadata\n",
      "64 matching events found\n",
      "No baseline correction applied\n",
      "0 projection items activated\n",
      "Reading c:\\Users\\afcad\\Downloads\\Sujeto27_MF_processed.fif ...\n",
      "    Found the data of interest:\n",
      "        t =   -2500.00 ...    2500.00 ms\n",
      "        0 CTF compensation matrices available\n"
     ]
    },
    {
     "name": "stderr",
     "output_type": "stream",
     "text": [
      "C:\\Users\\afcad\\AppData\\Local\\Temp\\ipykernel_1044\\2763569990.py:70: RuntimeWarning: This filename (Sujeto27_MF_processed.fif) does not conform to MNE naming conventions. All epochs files should end with -epo.fif, -epo.fif.gz, _epo.fif or _epo.fif.gz\n",
      "  epochs_MF = mne.read_epochs(file_MF, preload=True)\n"
     ]
    },
    {
     "name": "stdout",
     "output_type": "stream",
     "text": [
      "Not setting metadata\n",
      "70 matching events found\n",
      "No baseline correction applied\n",
      "0 projection items activated\n",
      "Effective window size : 0.250 (s)\n",
      "Effective window size : 0.250 (s)\n",
      "Reading c:\\Users\\afcad\\Downloads\\Sujeto28_R_processed.fif ...\n",
      "    Found the data of interest:\n",
      "        t =   -2500.00 ...    2500.00 ms\n",
      "        0 CTF compensation matrices available\n"
     ]
    },
    {
     "name": "stderr",
     "output_type": "stream",
     "text": [
      "C:\\Users\\afcad\\AppData\\Local\\Temp\\ipykernel_1044\\2763569990.py:69: RuntimeWarning: This filename (Sujeto28_R_processed.fif) does not conform to MNE naming conventions. All epochs files should end with -epo.fif, -epo.fif.gz, _epo.fif or _epo.fif.gz\n",
      "  epochs_R = mne.read_epochs(file_R, preload=True)\n"
     ]
    },
    {
     "name": "stdout",
     "output_type": "stream",
     "text": [
      "Not setting metadata\n",
      "55 matching events found\n",
      "No baseline correction applied\n",
      "0 projection items activated\n",
      "Reading c:\\Users\\afcad\\Downloads\\Sujeto28_MF_processed.fif ...\n"
     ]
    },
    {
     "name": "stderr",
     "output_type": "stream",
     "text": [
      "C:\\Users\\afcad\\AppData\\Local\\Temp\\ipykernel_1044\\2763569990.py:70: RuntimeWarning: This filename (Sujeto28_MF_processed.fif) does not conform to MNE naming conventions. All epochs files should end with -epo.fif, -epo.fif.gz, _epo.fif or _epo.fif.gz\n",
      "  epochs_MF = mne.read_epochs(file_MF, preload=True)\n"
     ]
    },
    {
     "name": "stdout",
     "output_type": "stream",
     "text": [
      "    Found the data of interest:\n",
      "        t =   -2500.00 ...    2500.00 ms\n",
      "        0 CTF compensation matrices available\n",
      "Not setting metadata\n",
      "114 matching events found\n",
      "No baseline correction applied\n",
      "0 projection items activated\n",
      "Effective window size : 0.250 (s)\n",
      "Effective window size : 0.250 (s)\n",
      "Reading c:\\Users\\afcad\\Downloads\\Sujeto29_R_processed.fif ...\n",
      "    Found the data of interest:\n",
      "        t =   -2500.00 ...    2500.00 ms\n"
     ]
    },
    {
     "name": "stderr",
     "output_type": "stream",
     "text": [
      "C:\\Users\\afcad\\AppData\\Local\\Temp\\ipykernel_1044\\2763569990.py:69: RuntimeWarning: This filename (Sujeto29_R_processed.fif) does not conform to MNE naming conventions. All epochs files should end with -epo.fif, -epo.fif.gz, _epo.fif or _epo.fif.gz\n",
      "  epochs_R = mne.read_epochs(file_R, preload=True)\n"
     ]
    },
    {
     "name": "stdout",
     "output_type": "stream",
     "text": [
      "        0 CTF compensation matrices available\n",
      "Not setting metadata\n",
      "68 matching events found\n",
      "No baseline correction applied\n",
      "0 projection items activated\n",
      "Reading c:\\Users\\afcad\\Downloads\\Sujeto29_MF_processed.fif ...\n"
     ]
    },
    {
     "name": "stderr",
     "output_type": "stream",
     "text": [
      "C:\\Users\\afcad\\AppData\\Local\\Temp\\ipykernel_1044\\2763569990.py:70: RuntimeWarning: This filename (Sujeto29_MF_processed.fif) does not conform to MNE naming conventions. All epochs files should end with -epo.fif, -epo.fif.gz, _epo.fif or _epo.fif.gz\n",
      "  epochs_MF = mne.read_epochs(file_MF, preload=True)\n"
     ]
    },
    {
     "name": "stdout",
     "output_type": "stream",
     "text": [
      "    Found the data of interest:\n",
      "        t =   -2500.00 ...    2500.00 ms\n",
      "        0 CTF compensation matrices available\n",
      "Not setting metadata\n",
      "145 matching events found\n",
      "No baseline correction applied\n",
      "0 projection items activated\n",
      "Effective window size : 0.250 (s)\n",
      "Effective window size : 0.250 (s)\n",
      "Reading c:\\Users\\afcad\\Downloads\\Sujeto30_R_processed.fif ...\n",
      "    Found the data of interest:\n",
      "        t =   -2500.00 ...    2500.00 ms\n",
      "        0 CTF compensation matrices available\n"
     ]
    },
    {
     "name": "stderr",
     "output_type": "stream",
     "text": [
      "C:\\Users\\afcad\\AppData\\Local\\Temp\\ipykernel_1044\\2763569990.py:69: RuntimeWarning: This filename (Sujeto30_R_processed.fif) does not conform to MNE naming conventions. All epochs files should end with -epo.fif, -epo.fif.gz, _epo.fif or _epo.fif.gz\n",
      "  epochs_R = mne.read_epochs(file_R, preload=True)\n"
     ]
    },
    {
     "name": "stdout",
     "output_type": "stream",
     "text": [
      "Not setting metadata\n",
      "69 matching events found\n",
      "No baseline correction applied\n",
      "0 projection items activated\n",
      "Reading c:\\Users\\afcad\\Downloads\\Sujeto30_MF_processed.fif ...\n"
     ]
    },
    {
     "name": "stderr",
     "output_type": "stream",
     "text": [
      "C:\\Users\\afcad\\AppData\\Local\\Temp\\ipykernel_1044\\2763569990.py:70: RuntimeWarning: This filename (Sujeto30_MF_processed.fif) does not conform to MNE naming conventions. All epochs files should end with -epo.fif, -epo.fif.gz, _epo.fif or _epo.fif.gz\n",
      "  epochs_MF = mne.read_epochs(file_MF, preload=True)\n"
     ]
    },
    {
     "name": "stdout",
     "output_type": "stream",
     "text": [
      "    Found the data of interest:\n",
      "        t =   -2500.00 ...    2500.00 ms\n",
      "        0 CTF compensation matrices available\n",
      "Not setting metadata\n",
      "124 matching events found\n",
      "No baseline correction applied\n",
      "0 projection items activated\n",
      "Effective window size : 0.250 (s)\n",
      "Effective window size : 0.250 (s)\n",
      "Reading c:\\Users\\afcad\\Downloads\\Sujeto31_R_processed.fif ...\n",
      "    Found the data of interest:\n",
      "        t =   -2500.00 ...    2500.00 ms\n",
      "        0 CTF compensation matrices available\n"
     ]
    },
    {
     "name": "stderr",
     "output_type": "stream",
     "text": [
      "C:\\Users\\afcad\\AppData\\Local\\Temp\\ipykernel_1044\\2763569990.py:69: RuntimeWarning: This filename (Sujeto31_R_processed.fif) does not conform to MNE naming conventions. All epochs files should end with -epo.fif, -epo.fif.gz, _epo.fif or _epo.fif.gz\n",
      "  epochs_R = mne.read_epochs(file_R, preload=True)\n"
     ]
    },
    {
     "name": "stdout",
     "output_type": "stream",
     "text": [
      "Not setting metadata\n",
      "61 matching events found\n",
      "No baseline correction applied\n",
      "0 projection items activated\n",
      "Reading c:\\Users\\afcad\\Downloads\\Sujeto31_MF_processed.fif ...\n"
     ]
    },
    {
     "name": "stderr",
     "output_type": "stream",
     "text": [
      "C:\\Users\\afcad\\AppData\\Local\\Temp\\ipykernel_1044\\2763569990.py:70: RuntimeWarning: This filename (Sujeto31_MF_processed.fif) does not conform to MNE naming conventions. All epochs files should end with -epo.fif, -epo.fif.gz, _epo.fif or _epo.fif.gz\n",
      "  epochs_MF = mne.read_epochs(file_MF, preload=True)\n"
     ]
    },
    {
     "name": "stdout",
     "output_type": "stream",
     "text": [
      "    Found the data of interest:\n",
      "        t =   -2500.00 ...    2500.00 ms\n",
      "        0 CTF compensation matrices available\n",
      "Not setting metadata\n",
      "140 matching events found\n",
      "No baseline correction applied\n",
      "0 projection items activated\n",
      "Effective window size : 0.250 (s)\n",
      "Effective window size : 0.250 (s)\n",
      "Reading c:\\Users\\afcad\\Downloads\\Sujeto32_R_processed.fif ...\n"
     ]
    },
    {
     "name": "stderr",
     "output_type": "stream",
     "text": [
      "C:\\Users\\afcad\\AppData\\Local\\Temp\\ipykernel_1044\\2763569990.py:69: RuntimeWarning: This filename (Sujeto32_R_processed.fif) does not conform to MNE naming conventions. All epochs files should end with -epo.fif, -epo.fif.gz, _epo.fif or _epo.fif.gz\n",
      "  epochs_R = mne.read_epochs(file_R, preload=True)\n"
     ]
    },
    {
     "name": "stdout",
     "output_type": "stream",
     "text": [
      "    Found the data of interest:\n",
      "        t =   -2500.00 ...    2500.00 ms\n",
      "        0 CTF compensation matrices available\n",
      "Not setting metadata\n",
      "70 matching events found\n",
      "No baseline correction applied\n",
      "0 projection items activated\n",
      "Reading c:\\Users\\afcad\\Downloads\\Sujeto32_MF_processed.fif ...\n"
     ]
    },
    {
     "name": "stderr",
     "output_type": "stream",
     "text": [
      "C:\\Users\\afcad\\AppData\\Local\\Temp\\ipykernel_1044\\2763569990.py:70: RuntimeWarning: This filename (Sujeto32_MF_processed.fif) does not conform to MNE naming conventions. All epochs files should end with -epo.fif, -epo.fif.gz, _epo.fif or _epo.fif.gz\n",
      "  epochs_MF = mne.read_epochs(file_MF, preload=True)\n"
     ]
    },
    {
     "name": "stdout",
     "output_type": "stream",
     "text": [
      "    Found the data of interest:\n",
      "        t =   -2500.00 ...    2500.00 ms\n",
      "        0 CTF compensation matrices available\n",
      "Not setting metadata\n",
      "127 matching events found\n",
      "No baseline correction applied\n",
      "0 projection items activated\n",
      "Effective window size : 0.250 (s)\n",
      "Effective window size : 0.250 (s)\n",
      "Reading c:\\Users\\afcad\\Downloads\\Sujeto36_R_processed.fif ...\n",
      "    Found the data of interest:\n",
      "        t =   -2500.00 ...    2500.00 ms\n",
      "        0 CTF compensation matrices available\n"
     ]
    },
    {
     "name": "stderr",
     "output_type": "stream",
     "text": [
      "C:\\Users\\afcad\\AppData\\Local\\Temp\\ipykernel_1044\\2763569990.py:69: RuntimeWarning: This filename (Sujeto36_R_processed.fif) does not conform to MNE naming conventions. All epochs files should end with -epo.fif, -epo.fif.gz, _epo.fif or _epo.fif.gz\n",
      "  epochs_R = mne.read_epochs(file_R, preload=True)\n"
     ]
    },
    {
     "name": "stdout",
     "output_type": "stream",
     "text": [
      "Not setting metadata\n",
      "61 matching events found\n",
      "No baseline correction applied\n",
      "0 projection items activated\n",
      "Reading c:\\Users\\afcad\\Downloads\\Sujeto36_MF_processed.fif ...\n"
     ]
    },
    {
     "name": "stderr",
     "output_type": "stream",
     "text": [
      "C:\\Users\\afcad\\AppData\\Local\\Temp\\ipykernel_1044\\2763569990.py:70: RuntimeWarning: This filename (Sujeto36_MF_processed.fif) does not conform to MNE naming conventions. All epochs files should end with -epo.fif, -epo.fif.gz, _epo.fif or _epo.fif.gz\n",
      "  epochs_MF = mne.read_epochs(file_MF, preload=True)\n"
     ]
    },
    {
     "name": "stdout",
     "output_type": "stream",
     "text": [
      "    Found the data of interest:\n",
      "        t =   -2500.00 ...    2500.00 ms\n",
      "        0 CTF compensation matrices available\n",
      "Not setting metadata\n",
      "133 matching events found\n",
      "No baseline correction applied\n",
      "0 projection items activated\n",
      "Effective window size : 0.250 (s)\n",
      "Effective window size : 0.250 (s)\n",
      "Reading c:\\Users\\afcad\\Downloads\\Sujeto37_R_processed.fif ...\n",
      "    Found the data of interest:\n",
      "        t =   -2500.00 ...    2500.00 ms\n",
      "        0 CTF compensation matrices available\n"
     ]
    },
    {
     "name": "stderr",
     "output_type": "stream",
     "text": [
      "C:\\Users\\afcad\\AppData\\Local\\Temp\\ipykernel_1044\\2763569990.py:69: RuntimeWarning: This filename (Sujeto37_R_processed.fif) does not conform to MNE naming conventions. All epochs files should end with -epo.fif, -epo.fif.gz, _epo.fif or _epo.fif.gz\n",
      "  epochs_R = mne.read_epochs(file_R, preload=True)\n"
     ]
    },
    {
     "name": "stdout",
     "output_type": "stream",
     "text": [
      "Not setting metadata\n",
      "71 matching events found\n",
      "No baseline correction applied\n",
      "0 projection items activated\n",
      "Reading c:\\Users\\afcad\\Downloads\\Sujeto37_MF_processed.fif ...\n"
     ]
    },
    {
     "name": "stderr",
     "output_type": "stream",
     "text": [
      "C:\\Users\\afcad\\AppData\\Local\\Temp\\ipykernel_1044\\2763569990.py:70: RuntimeWarning: This filename (Sujeto37_MF_processed.fif) does not conform to MNE naming conventions. All epochs files should end with -epo.fif, -epo.fif.gz, _epo.fif or _epo.fif.gz\n",
      "  epochs_MF = mne.read_epochs(file_MF, preload=True)\n"
     ]
    },
    {
     "name": "stdout",
     "output_type": "stream",
     "text": [
      "    Found the data of interest:\n",
      "        t =   -2500.00 ...    2500.00 ms\n",
      "        0 CTF compensation matrices available\n",
      "Not setting metadata\n",
      "141 matching events found\n",
      "No baseline correction applied\n",
      "0 projection items activated\n",
      "Effective window size : 0.250 (s)\n",
      "Effective window size : 0.250 (s)\n",
      "Resting - Fast Beta (18–30 Hz): 0 significant channels (p < 0.05)\n",
      "Mindfulness - Fast Beta (18–30 Hz): 0 significant channels (p < 0.05)\n",
      "Difference (MF - R) - Fast Beta (18–30 Hz): 19 significant channels (p < 0.05)\n"
     ]
    }
   ],
   "source": [
    "import numpy as np\n",
    "import mne\n",
    "import matplotlib.pyplot as plt\n",
    "from scipy.stats import pearsonr\n",
    "import pandas as pd\n",
    "\n",
    "\n",
    "# df = pd.read_excel('Analisis conductuales - Datos conductuales.xlsx')\n",
    "df = pd.read_excel('EEG-Datos conductuales.xlsx')\n",
    "#print(df.head())\n",
    "\n",
    "sujeto_column = df['Sujeto']\n",
    "data_column = df['MWQT'] #Auto-regulación Confianza Valencia positiva Valencia Negativa\n",
    "\n",
    "print(f\"Initial counts - Sujetos: {len(sujeto_column)}, Responses: {len(data_column)}\")\n",
    "\n",
    "# Create a mask where both columns are not NaN\n",
    "mask = sujeto_column.notna() & data_column.notna()\n",
    "\n",
    "eliminate_mask = sujeto_column.isna() | data_column.isna()\n",
    "# Get the Sujeto values that will be removed\n",
    "eliminated_sujetos = sujeto_column[eliminate_mask]\n",
    "\n",
    "print(\"\\nEliminated due to NaN values:\")\n",
    "print(eliminated_sujetos.to_string())  # to_string() shows all values\n",
    "\n",
    "# Apply the initial mask to both columns\n",
    "sujeto_clean = sujeto_column[mask]\n",
    "data_clean = data_column[mask]\n",
    "\n",
    "# Now exclude specific subjects\n",
    "subjects_to_exclude = ['SUJ_12', 'SUJ_35']  # Add more as needed\n",
    "additional_elim_mask = sujeto_clean.isin(subjects_to_exclude)\n",
    "\n",
    "print(f\"\\nAdditional subjects being excluded: {subjects_to_exclude}\")\n",
    "print(\"These subjects will be removed:\")\n",
    "print(sujeto_clean[additional_elim_mask].to_string())\n",
    "\n",
    "# Final clean mask\n",
    "final_mask = ~additional_elim_mask\n",
    "sujeto_final = sujeto_clean[final_mask]\n",
    "data_final = data_clean[final_mask]\n",
    "\n",
    "print(f\"\\nFinal counts - Sujetos: {len(sujeto_final)}, Responses: {len(data_final)}\")\n",
    "print(\"\\nCleaned Sujetos:\")\n",
    "print(sujeto_final.to_string())\n",
    "print(\"\\nCleaned Data (first 10 values):\")\n",
    "print(data_final.head(10).to_string())\n",
    "\n",
    "# Convert to numpy array\n",
    "responses_array = data_final.to_numpy()\n",
    "print(f\"\\nNumPy array shape: {responses_array.shape}\")\n",
    "print(f\"First 5 array values: {responses_array[:5]}\")\n",
    "\n",
    "def topomap_correlation_states(file_pairs, responses, frequency_bands, title='Correlation with Questionnaire'):\n",
    "\n",
    "    info = mne.read_epochs(file_pairs[0][0]).info\n",
    "    n_bands = len(frequency_bands)\n",
    "    n_channels = len(info['ch_names'])\n",
    "\n",
    "    fig, axes = plt.subplots(3, n_bands, figsize=(3.5 * n_bands, 10))\n",
    "\n",
    "    for col, (band_name, (fmin, fmax)) in enumerate(frequency_bands.items()):\n",
    "        psd_R_all = []\n",
    "        psd_MF_all = []\n",
    "\n",
    "        # --- Extract and average PSDs ---\n",
    "        for file_R, file_MF in file_pairs:\n",
    "            epochs_R = mne.read_epochs(file_R, preload=True)\n",
    "            epochs_MF = mne.read_epochs(file_MF, preload=True)\n",
    "\n",
    "            psd_R, freqs = epochs_R.compute_psd(method='welch', fmin=fmin, fmax=fmax).get_data(return_freqs=True)\n",
    "            psd_MF, _ = epochs_MF.compute_psd(method='welch', fmin=fmin, fmax=fmax).get_data(return_freqs=True)\n",
    "\n",
    "            avg_psd_R = np.mean(psd_R, axis=(0, 2))  # shape: (n_channels,)\n",
    "            avg_psd_MF = np.mean(psd_MF, axis=(0, 2))\n",
    "\n",
    "            psd_R_all.append(avg_psd_R)\n",
    "            psd_MF_all.append(avg_psd_MF)\n",
    "\n",
    "        psd_R_all = np.array(psd_R_all)      # shape: (n_subjects, n_channels)\n",
    "        psd_MF_all = np.array(psd_MF_all)\n",
    "        psd_diff = psd_MF_all - psd_R_all\n",
    "\n",
    "        # --- Correlation for each condition ---\n",
    "        for row, (state_name, data) in enumerate([\n",
    "            (\"Resting\", psd_R_all),\n",
    "            (\"Mindfulness\", psd_MF_all),\n",
    "            (\"Difference (MF - R)\", psd_diff)\n",
    "        ]):\n",
    "            r_vals = np.zeros(n_channels)\n",
    "            p_vals = np.zeros(n_channels)\n",
    "\n",
    "            for ch in range(n_channels):\n",
    "                r_vals[ch], p_vals[ch] = pearsonr(data[:, ch], responses)\n",
    "\n",
    "            sig_mask = p_vals < 0.05  # Threshold for significance\n",
    "\n",
    "            print(f'{state_name} - {band_name}: {np.sum(sig_mask)} significant channels (p < 0.05)')\n",
    "\n",
    "            im, cn = mne.viz.plot_topomap(\n",
    "                r_vals, info, axes=axes[row, col], cmap='jet', show=False,\n",
    "                names=info['ch_names'],\n",
    "                vlim=(-1, 1),\n",
    "                mask=sig_mask,\n",
    "                mask_params=dict(marker='*', markersize=25, markerfacecolor='black')\n",
    "            )\n",
    "            axes[row, col].set_title(f'{band_name}\\n{state_name}', fontsize=10)\n",
    "            plt.colorbar(im, ax=axes[row, col], orientation='horizontal', shrink=0.6)\n",
    "\n",
    "    # --- Row Labels ---\n",
    "    for ax, label in zip(axes[:, 0], ['Resting', 'Mindfulness', 'Difference']):\n",
    "        ax.annotate(label, xy=(-0.2, 0.5), xycoords='axes fraction',\n",
    "                    va='center', ha='right', rotation=90, fontsize=12)\n",
    "\n",
    "    plt.suptitle(title, fontsize=16)\n",
    "    plt.tight_layout()\n",
    "    plt.show()\n",
    "\n",
    "\n",
    "# Your frequency bands\n",
    "frequency_bands = {\n",
    "    'Delta (0.5–4 Hz)': (0.5, 4),\n",
    "    'Theta (4–8 Hz)': (4, 8),\n",
    "    'Alpha (8–12 Hz)': (8, 12),\n",
    "    'Beta (12–18 Hz)': (12, 18),\n",
    "    'Fast Beta (18–30 Hz)': (18, 30)\n",
    "}\n",
    "\n",
    "file_pairs = [\n",
    "    ('Sujeto1_R_processed.fif', 'Sujeto1_MF_processed.fif'),\n",
    "    ('Sujeto2_R_processed.fif', 'Sujeto2_MF_processed.fif'),\n",
    "    ('Sujeto3_R_processed.fif', 'Sujeto3_MF_processed.fif'),\n",
    "    ('Sujeto4_R_processed.fif', 'Sujeto4_MF_processed.fif'),\n",
    "    ('Sujeto5_R_processed.fif', 'Sujeto5_MF_processed.fif'),\n",
    "    ('Sujeto6_R_processed.fif', 'Sujeto6_MF_processed.fif'),\n",
    "    ('Sujeto7_R_processed.fif', 'Sujeto7_MF_processed.fif'),\n",
    "    ('Sujeto8_R_processed.fif', 'Sujeto8_MF_processed.fif'),\n",
    "    ('Sujeto9_R_processed.fif', 'Sujeto9_MF_processed.fif'),\n",
    "    ('Sujeto10_R_processed.fif', 'Sujeto10_MF_processed.fif'),\n",
    "    ('Sujeto11_R_processed.fif', 'Sujeto11_MF_processed.fif'),\n",
    "    #('Sujeto12_R_processed.fif', 'Sujeto12_MF_processed.fif'),  #always excluded\n",
    "    ('Sujeto13_R_processed.fif', 'Sujeto13_MF_processed.fif'),\n",
    "    ('Sujeto14_R_processed.fif', 'Sujeto14_MF_processed.fif'),\n",
    "    ('Sujeto15_R_processed.fif', 'Sujeto15_MF_processed.fif'),\n",
    "    ('Sujeto16_R_processed.fif', 'Sujeto16_MF_processed.fif'),\n",
    "    ('Sujeto17_R_processed.fif', 'Sujeto17_MF_processed.fif'),\n",
    "    ('Sujeto18_R_processed.fif', 'Sujeto18_MF_processed.fif'),\n",
    "    ('Sujeto19_R_processed.fif', 'Sujeto19_MF_processed.fif'),\n",
    "    ('Sujeto20_R_processed.fif', 'Sujeto20_MF_processed.fif'),\n",
    "    ('Sujeto21_R_processed.fif', 'Sujeto21_MF_processed.fif'),\n",
    "    ('Sujeto22_R_processed.fif', 'Sujeto22_MF_processed.fif'),\n",
    "    ('Sujeto23_R_processed.fif', 'Sujeto23_MF_processed.fif'),\n",
    "    ('Sujeto24_R_processed.fif', 'Sujeto24_MF_processed.fif'),\n",
    "    ('Sujeto25_R_processed.fif', 'Sujeto25_MF_processed.fif'),\n",
    "    ('Sujeto26_R_processed.fif', 'Sujeto26_MF_processed.fif'),\n",
    "    ('Sujeto27_R_processed.fif', 'Sujeto27_MF_processed.fif'),\n",
    "    ('Sujeto28_R_processed.fif', 'Sujeto28_MF_processed.fif'),\n",
    "    ('Sujeto29_R_processed.fif', 'Sujeto29_MF_processed.fif'),\n",
    "    ('Sujeto30_R_processed.fif', 'Sujeto30_MF_processed.fif'),\n",
    "    ('Sujeto31_R_processed.fif', 'Sujeto31_MF_processed.fif'),\n",
    "    ('Sujeto32_R_processed.fif', 'Sujeto32_MF_processed.fif'),\n",
    "    # ('Sujeto33_R_processed.fif', 'Sujeto33_MF_processed.fif'),\n",
    "    # ('Sujeto34_R_processed.fif', 'Sujeto34_MF_processed.fif'),\n",
    "    #('Sujeto35_R_processed.fif', 'Sujeto35_MF_processed.fif'), #always excluded\n",
    "    ('Sujeto36_R_processed.fif', 'Sujeto36_MF_processed.fif'),\n",
    "    ('Sujeto37_R_processed.fif', 'Sujeto37_MF_processed.fif')\n",
    "    ]\n",
    "\n",
    "#responses = np.array([4, 4, 6, 7, 7, 1, 8, 7, 9, 2, 5, 7, 4, 6, 8, 6, 7, 7, 6, 8, 8, 4, 8, 9, 7, 8, 5, 7, 5, 4, 7, 4, 7, 6])  #AR2-MF\n",
    "#responses = np.array([0, 3, 6, 1, 2, 4, 5, 6, 7, 1, 5, 8, 3, 1, 7, 4, 7, 8, 4, 4, 5, 1, 5, 2, 5, 6, 4, 1, 2, 1, 4, 0, 8, 1])  #AR3-MF\n",
    "#responses = np.array([2, 5, 5, 5, 5, 3, 5, 6, 7, 1, 6, 4, 2, 7, 7, 3, 6, 4, 7, 5, 6, 3, 8, 9, 6, 5, 7, 5, 4, 3, 5, 1, 7, 6])  #AR4-MF\n",
    "responses = np.array(responses_array.tolist())\n",
    "\n",
    "# file_pairs=file_pairs[:5]\n",
    "# responses=responses[:5]\n",
    "\n",
    "# Call the function\n",
    "topomap_correlation_states(file_pairs, responses, frequency_bands, title='Correlation with MWQT')\n"
   ]
  },
  {
   "cell_type": "code",
   "execution_count": 20,
   "metadata": {},
   "outputs": [
    {
     "name": "stdout",
     "output_type": "stream",
     "text": [
      "Initial counts - Sujetos: 36, Responses: 36\n",
      "\n",
      "Eliminated due to NaN values:\n",
      "31    SUJ_33\n",
      "32    SUJ_34\n",
      "\n",
      "Additional subjects being excluded: ['SUJ_12', 'SUJ_35']\n",
      "These subjects will be removed:\n",
      "33    SUJ_35\n",
      "\n",
      "Final counts - Sujetos: 33, Responses: 33\n",
      "\n",
      "Cleaned Sujetos:\n",
      "0      SUJ_1\n",
      "1      SUJ_2\n",
      "2      SUJ_3\n",
      "3      SUJ_4\n",
      "4      SUJ_5\n",
      "5      SUJ_6\n",
      "6      SUJ_7\n",
      "7      SUJ_8\n",
      "8      SUJ_9\n",
      "9     SUJ_10\n",
      "10    SUJ_11\n",
      "11    SUJ_13\n",
      "12    SUJ_14\n",
      "13    SUJ_15\n",
      "14    SUJ_16\n",
      "15    SUJ_17\n",
      "16    SUJ_18\n",
      "17    SUJ_19\n",
      "18    SUJ_20\n",
      "19    SUJ_21\n",
      "20    SUJ_22\n",
      "21    SUJ_23\n",
      "22    SUJ_24\n",
      "23    SUJ_25\n",
      "24    SUJ_26\n",
      "25    SUJ_27\n",
      "26    SUJ_28\n",
      "27    SUJ_29\n",
      "28    SUJ_30\n",
      "29    SUJ_31\n",
      "30    SUJ_32\n",
      "34    SUJ_36\n",
      "35    SUJ_37\n",
      "\n",
      "Cleaned Data (first 10 values):\n",
      "0    18.073810\n",
      "1    22.057143\n",
      "2    21.876190\n",
      "3     9.350000\n",
      "4    17.845238\n",
      "5    13.371429\n",
      "6    28.316667\n",
      "7    27.407143\n",
      "8    29.033333\n",
      "9    23.504762\n",
      "\n",
      "NumPy array shape: (33,)\n",
      "First 5 array values: [18.07380952 22.05714286 21.87619048  9.35       17.8452381 ]\n",
      "Reading c:\\Users\\afcad\\Downloads\\Sujeto1_R_processed.fif ...\n",
      "    Found the data of interest:\n"
     ]
    },
    {
     "name": "stderr",
     "output_type": "stream",
     "text": [
      "C:\\Users\\afcad\\AppData\\Local\\Temp\\ipykernel_1044\\2538836546.py:57: RuntimeWarning: This filename (Sujeto1_R_processed.fif) does not conform to MNE naming conventions. All epochs files should end with -epo.fif, -epo.fif.gz, _epo.fif or _epo.fif.gz\n",
      "  info = mne.read_epochs(file_pairs[0][0]).info\n"
     ]
    },
    {
     "name": "stdout",
     "output_type": "stream",
     "text": [
      "        t =   -2500.00 ...    2500.00 ms\n",
      "        0 CTF compensation matrices available\n",
      "Not setting metadata\n",
      "68 matching events found\n",
      "No baseline correction applied\n",
      "0 projection items activated\n",
      "Reading c:\\Users\\afcad\\Downloads\\Sujeto1_R_processed.fif ...\n",
      "    Found the data of interest:\n",
      "        t =   -2500.00 ...    2500.00 ms\n",
      "        0 CTF compensation matrices available\n"
     ]
    },
    {
     "name": "stderr",
     "output_type": "stream",
     "text": [
      "C:\\Users\\afcad\\AppData\\Local\\Temp\\ipykernel_1044\\2538836546.py:69: RuntimeWarning: This filename (Sujeto1_R_processed.fif) does not conform to MNE naming conventions. All epochs files should end with -epo.fif, -epo.fif.gz, _epo.fif or _epo.fif.gz\n",
      "  epochs_R = mne.read_epochs(file_R, preload=True)\n"
     ]
    },
    {
     "name": "stdout",
     "output_type": "stream",
     "text": [
      "Not setting metadata\n",
      "68 matching events found\n",
      "No baseline correction applied\n",
      "0 projection items activated\n",
      "Reading c:\\Users\\afcad\\Downloads\\Sujeto1_MF_processed.fif ...\n"
     ]
    },
    {
     "name": "stderr",
     "output_type": "stream",
     "text": [
      "C:\\Users\\afcad\\AppData\\Local\\Temp\\ipykernel_1044\\2538836546.py:70: RuntimeWarning: This filename (Sujeto1_MF_processed.fif) does not conform to MNE naming conventions. All epochs files should end with -epo.fif, -epo.fif.gz, _epo.fif or _epo.fif.gz\n",
      "  epochs_MF = mne.read_epochs(file_MF, preload=True)\n"
     ]
    },
    {
     "name": "stdout",
     "output_type": "stream",
     "text": [
      "    Found the data of interest:\n",
      "        t =   -2500.00 ...    2500.00 ms\n",
      "        0 CTF compensation matrices available\n",
      "Not setting metadata\n",
      "145 matching events found\n",
      "No baseline correction applied\n",
      "0 projection items activated\n",
      "Effective window size : 0.250 (s)\n",
      "Effective window size : 0.250 (s)\n",
      "Reading c:\\Users\\afcad\\Downloads\\Sujeto2_R_processed.fif ...\n"
     ]
    },
    {
     "name": "stderr",
     "output_type": "stream",
     "text": [
      "C:\\Users\\afcad\\AppData\\Local\\Temp\\ipykernel_1044\\2538836546.py:69: RuntimeWarning: This filename (Sujeto2_R_processed.fif) does not conform to MNE naming conventions. All epochs files should end with -epo.fif, -epo.fif.gz, _epo.fif or _epo.fif.gz\n",
      "  epochs_R = mne.read_epochs(file_R, preload=True)\n"
     ]
    },
    {
     "name": "stdout",
     "output_type": "stream",
     "text": [
      "    Found the data of interest:\n",
      "        t =   -2500.00 ...    2500.00 ms\n",
      "        0 CTF compensation matrices available\n",
      "Not setting metadata\n",
      "58 matching events found\n",
      "No baseline correction applied\n",
      "0 projection items activated\n",
      "Reading c:\\Users\\afcad\\Downloads\\Sujeto2_MF_processed.fif ...\n"
     ]
    },
    {
     "name": "stderr",
     "output_type": "stream",
     "text": [
      "C:\\Users\\afcad\\AppData\\Local\\Temp\\ipykernel_1044\\2538836546.py:70: RuntimeWarning: This filename (Sujeto2_MF_processed.fif) does not conform to MNE naming conventions. All epochs files should end with -epo.fif, -epo.fif.gz, _epo.fif or _epo.fif.gz\n",
      "  epochs_MF = mne.read_epochs(file_MF, preload=True)\n"
     ]
    },
    {
     "name": "stdout",
     "output_type": "stream",
     "text": [
      "    Found the data of interest:\n",
      "        t =   -2500.00 ...    2500.00 ms\n",
      "        0 CTF compensation matrices available\n",
      "Not setting metadata\n",
      "138 matching events found\n",
      "No baseline correction applied\n",
      "0 projection items activated\n",
      "Effective window size : 0.250 (s)\n",
      "Effective window size : 0.250 (s)\n",
      "Reading c:\\Users\\afcad\\Downloads\\Sujeto3_R_processed.fif ...\n",
      "    Found the data of interest:\n"
     ]
    },
    {
     "name": "stderr",
     "output_type": "stream",
     "text": [
      "C:\\Users\\afcad\\AppData\\Local\\Temp\\ipykernel_1044\\2538836546.py:69: RuntimeWarning: This filename (Sujeto3_R_processed.fif) does not conform to MNE naming conventions. All epochs files should end with -epo.fif, -epo.fif.gz, _epo.fif or _epo.fif.gz\n",
      "  epochs_R = mne.read_epochs(file_R, preload=True)\n"
     ]
    },
    {
     "name": "stdout",
     "output_type": "stream",
     "text": [
      "        t =   -2500.00 ...    2500.00 ms\n",
      "        0 CTF compensation matrices available\n",
      "Not setting metadata\n",
      "61 matching events found\n",
      "No baseline correction applied\n",
      "0 projection items activated\n",
      "Reading c:\\Users\\afcad\\Downloads\\Sujeto3_MF_processed.fif ...\n"
     ]
    },
    {
     "name": "stderr",
     "output_type": "stream",
     "text": [
      "C:\\Users\\afcad\\AppData\\Local\\Temp\\ipykernel_1044\\2538836546.py:70: RuntimeWarning: This filename (Sujeto3_MF_processed.fif) does not conform to MNE naming conventions. All epochs files should end with -epo.fif, -epo.fif.gz, _epo.fif or _epo.fif.gz\n",
      "  epochs_MF = mne.read_epochs(file_MF, preload=True)\n"
     ]
    },
    {
     "name": "stdout",
     "output_type": "stream",
     "text": [
      "    Found the data of interest:\n",
      "        t =   -2500.00 ...    2500.00 ms\n",
      "        0 CTF compensation matrices available\n",
      "Not setting metadata\n",
      "131 matching events found\n",
      "No baseline correction applied\n",
      "0 projection items activated\n",
      "Effective window size : 0.250 (s)\n",
      "Effective window size : 0.250 (s)\n",
      "Reading c:\\Users\\afcad\\Downloads\\Sujeto4_R_processed.fif ...\n",
      "    Found the data of interest:\n"
     ]
    },
    {
     "name": "stderr",
     "output_type": "stream",
     "text": [
      "C:\\Users\\afcad\\AppData\\Local\\Temp\\ipykernel_1044\\2538836546.py:69: RuntimeWarning: This filename (Sujeto4_R_processed.fif) does not conform to MNE naming conventions. All epochs files should end with -epo.fif, -epo.fif.gz, _epo.fif or _epo.fif.gz\n",
      "  epochs_R = mne.read_epochs(file_R, preload=True)\n"
     ]
    },
    {
     "name": "stdout",
     "output_type": "stream",
     "text": [
      "        t =   -2500.00 ...    2500.00 ms\n",
      "        0 CTF compensation matrices available\n",
      "Not setting metadata\n",
      "60 matching events found\n",
      "No baseline correction applied\n",
      "0 projection items activated\n",
      "Reading c:\\Users\\afcad\\Downloads\\Sujeto4_MF_processed.fif ...\n"
     ]
    },
    {
     "name": "stderr",
     "output_type": "stream",
     "text": [
      "C:\\Users\\afcad\\AppData\\Local\\Temp\\ipykernel_1044\\2538836546.py:70: RuntimeWarning: This filename (Sujeto4_MF_processed.fif) does not conform to MNE naming conventions. All epochs files should end with -epo.fif, -epo.fif.gz, _epo.fif or _epo.fif.gz\n",
      "  epochs_MF = mne.read_epochs(file_MF, preload=True)\n"
     ]
    },
    {
     "name": "stdout",
     "output_type": "stream",
     "text": [
      "    Found the data of interest:\n",
      "        t =   -2500.00 ...    2500.00 ms\n",
      "        0 CTF compensation matrices available\n",
      "Not setting metadata\n",
      "143 matching events found\n",
      "No baseline correction applied\n",
      "0 projection items activated\n",
      "Effective window size : 0.250 (s)\n",
      "Effective window size : 0.250 (s)\n",
      "Reading c:\\Users\\afcad\\Downloads\\Sujeto5_R_processed.fif ...\n",
      "    Found the data of interest:\n"
     ]
    },
    {
     "name": "stderr",
     "output_type": "stream",
     "text": [
      "C:\\Users\\afcad\\AppData\\Local\\Temp\\ipykernel_1044\\2538836546.py:69: RuntimeWarning: This filename (Sujeto5_R_processed.fif) does not conform to MNE naming conventions. All epochs files should end with -epo.fif, -epo.fif.gz, _epo.fif or _epo.fif.gz\n",
      "  epochs_R = mne.read_epochs(file_R, preload=True)\n"
     ]
    },
    {
     "name": "stdout",
     "output_type": "stream",
     "text": [
      "        t =   -2500.00 ...    2500.00 ms\n",
      "        0 CTF compensation matrices available\n",
      "Not setting metadata\n",
      "63 matching events found\n",
      "No baseline correction applied\n",
      "0 projection items activated\n",
      "Reading c:\\Users\\afcad\\Downloads\\Sujeto5_MF_processed.fif ...\n"
     ]
    },
    {
     "name": "stderr",
     "output_type": "stream",
     "text": [
      "C:\\Users\\afcad\\AppData\\Local\\Temp\\ipykernel_1044\\2538836546.py:70: RuntimeWarning: This filename (Sujeto5_MF_processed.fif) does not conform to MNE naming conventions. All epochs files should end with -epo.fif, -epo.fif.gz, _epo.fif or _epo.fif.gz\n",
      "  epochs_MF = mne.read_epochs(file_MF, preload=True)\n"
     ]
    },
    {
     "name": "stdout",
     "output_type": "stream",
     "text": [
      "    Found the data of interest:\n",
      "        t =   -2500.00 ...    2500.00 ms\n",
      "        0 CTF compensation matrices available\n",
      "Not setting metadata\n",
      "141 matching events found\n",
      "No baseline correction applied\n",
      "0 projection items activated\n",
      "Effective window size : 0.250 (s)\n",
      "Effective window size : 0.250 (s)\n",
      "Reading c:\\Users\\afcad\\Downloads\\Sujeto6_R_processed.fif ...\n"
     ]
    },
    {
     "name": "stderr",
     "output_type": "stream",
     "text": [
      "C:\\Users\\afcad\\AppData\\Local\\Temp\\ipykernel_1044\\2538836546.py:69: RuntimeWarning: This filename (Sujeto6_R_processed.fif) does not conform to MNE naming conventions. All epochs files should end with -epo.fif, -epo.fif.gz, _epo.fif or _epo.fif.gz\n",
      "  epochs_R = mne.read_epochs(file_R, preload=True)\n"
     ]
    },
    {
     "name": "stdout",
     "output_type": "stream",
     "text": [
      "    Found the data of interest:\n",
      "        t =   -2500.00 ...    2500.00 ms\n",
      "        0 CTF compensation matrices available\n",
      "Not setting metadata\n",
      "72 matching events found\n",
      "No baseline correction applied\n",
      "0 projection items activated\n",
      "Reading c:\\Users\\afcad\\Downloads\\Sujeto6_MF_processed.fif ...\n"
     ]
    },
    {
     "name": "stderr",
     "output_type": "stream",
     "text": [
      "C:\\Users\\afcad\\AppData\\Local\\Temp\\ipykernel_1044\\2538836546.py:70: RuntimeWarning: This filename (Sujeto6_MF_processed.fif) does not conform to MNE naming conventions. All epochs files should end with -epo.fif, -epo.fif.gz, _epo.fif or _epo.fif.gz\n",
      "  epochs_MF = mne.read_epochs(file_MF, preload=True)\n"
     ]
    },
    {
     "name": "stdout",
     "output_type": "stream",
     "text": [
      "    Found the data of interest:\n",
      "        t =   -2500.00 ...    2500.00 ms\n",
      "        0 CTF compensation matrices available\n",
      "Not setting metadata\n",
      "107 matching events found\n",
      "No baseline correction applied\n",
      "0 projection items activated\n",
      "Effective window size : 0.250 (s)\n",
      "Effective window size : 0.250 (s)\n",
      "Reading c:\\Users\\afcad\\Downloads\\Sujeto7_R_processed.fif ...\n",
      "    Found the data of interest:\n",
      "        t =   -2500.00 ...    2500.00 ms\n",
      "        0 CTF compensation matrices available\n"
     ]
    },
    {
     "name": "stderr",
     "output_type": "stream",
     "text": [
      "C:\\Users\\afcad\\AppData\\Local\\Temp\\ipykernel_1044\\2538836546.py:69: RuntimeWarning: This filename (Sujeto7_R_processed.fif) does not conform to MNE naming conventions. All epochs files should end with -epo.fif, -epo.fif.gz, _epo.fif or _epo.fif.gz\n",
      "  epochs_R = mne.read_epochs(file_R, preload=True)\n"
     ]
    },
    {
     "name": "stdout",
     "output_type": "stream",
     "text": [
      "Not setting metadata\n",
      "55 matching events found\n",
      "No baseline correction applied\n",
      "0 projection items activated\n",
      "Reading c:\\Users\\afcad\\Downloads\\Sujeto7_MF_processed.fif ...\n"
     ]
    },
    {
     "name": "stderr",
     "output_type": "stream",
     "text": [
      "C:\\Users\\afcad\\AppData\\Local\\Temp\\ipykernel_1044\\2538836546.py:70: RuntimeWarning: This filename (Sujeto7_MF_processed.fif) does not conform to MNE naming conventions. All epochs files should end with -epo.fif, -epo.fif.gz, _epo.fif or _epo.fif.gz\n",
      "  epochs_MF = mne.read_epochs(file_MF, preload=True)\n"
     ]
    },
    {
     "name": "stdout",
     "output_type": "stream",
     "text": [
      "    Found the data of interest:\n",
      "        t =   -2500.00 ...    2500.00 ms\n",
      "        0 CTF compensation matrices available\n",
      "Not setting metadata\n",
      "130 matching events found\n",
      "No baseline correction applied\n",
      "0 projection items activated\n",
      "Effective window size : 0.250 (s)\n",
      "Effective window size : 0.250 (s)\n",
      "Reading c:\\Users\\afcad\\Downloads\\Sujeto8_R_processed.fif ...\n",
      "    Found the data of interest:\n"
     ]
    },
    {
     "name": "stderr",
     "output_type": "stream",
     "text": [
      "C:\\Users\\afcad\\AppData\\Local\\Temp\\ipykernel_1044\\2538836546.py:69: RuntimeWarning: This filename (Sujeto8_R_processed.fif) does not conform to MNE naming conventions. All epochs files should end with -epo.fif, -epo.fif.gz, _epo.fif or _epo.fif.gz\n",
      "  epochs_R = mne.read_epochs(file_R, preload=True)\n"
     ]
    },
    {
     "name": "stdout",
     "output_type": "stream",
     "text": [
      "        t =   -2500.00 ...    2500.00 ms\n",
      "        0 CTF compensation matrices available\n",
      "Not setting metadata\n",
      "63 matching events found\n",
      "No baseline correction applied\n",
      "0 projection items activated\n",
      "Reading c:\\Users\\afcad\\Downloads\\Sujeto8_MF_processed.fif ...\n"
     ]
    },
    {
     "name": "stderr",
     "output_type": "stream",
     "text": [
      "C:\\Users\\afcad\\AppData\\Local\\Temp\\ipykernel_1044\\2538836546.py:70: RuntimeWarning: This filename (Sujeto8_MF_processed.fif) does not conform to MNE naming conventions. All epochs files should end with -epo.fif, -epo.fif.gz, _epo.fif or _epo.fif.gz\n",
      "  epochs_MF = mne.read_epochs(file_MF, preload=True)\n"
     ]
    },
    {
     "name": "stdout",
     "output_type": "stream",
     "text": [
      "    Found the data of interest:\n",
      "        t =   -2500.00 ...    2500.00 ms\n",
      "        0 CTF compensation matrices available\n",
      "Not setting metadata\n",
      "138 matching events found\n",
      "No baseline correction applied\n",
      "0 projection items activated\n",
      "Effective window size : 0.250 (s)\n",
      "Effective window size : 0.250 (s)\n",
      "Reading c:\\Users\\afcad\\Downloads\\Sujeto9_R_processed.fif ...\n"
     ]
    },
    {
     "name": "stderr",
     "output_type": "stream",
     "text": [
      "C:\\Users\\afcad\\AppData\\Local\\Temp\\ipykernel_1044\\2538836546.py:69: RuntimeWarning: This filename (Sujeto9_R_processed.fif) does not conform to MNE naming conventions. All epochs files should end with -epo.fif, -epo.fif.gz, _epo.fif or _epo.fif.gz\n",
      "  epochs_R = mne.read_epochs(file_R, preload=True)\n"
     ]
    },
    {
     "name": "stdout",
     "output_type": "stream",
     "text": [
      "    Found the data of interest:\n",
      "        t =   -2500.00 ...    2500.00 ms\n",
      "        0 CTF compensation matrices available\n",
      "Not setting metadata\n",
      "60 matching events found\n",
      "No baseline correction applied\n",
      "0 projection items activated\n",
      "Reading c:\\Users\\afcad\\Downloads\\Sujeto9_MF_processed.fif ...\n"
     ]
    },
    {
     "name": "stderr",
     "output_type": "stream",
     "text": [
      "C:\\Users\\afcad\\AppData\\Local\\Temp\\ipykernel_1044\\2538836546.py:70: RuntimeWarning: This filename (Sujeto9_MF_processed.fif) does not conform to MNE naming conventions. All epochs files should end with -epo.fif, -epo.fif.gz, _epo.fif or _epo.fif.gz\n",
      "  epochs_MF = mne.read_epochs(file_MF, preload=True)\n"
     ]
    },
    {
     "name": "stdout",
     "output_type": "stream",
     "text": [
      "    Found the data of interest:\n",
      "        t =   -2500.00 ...    2500.00 ms\n",
      "        0 CTF compensation matrices available\n",
      "Not setting metadata\n",
      "143 matching events found\n",
      "No baseline correction applied\n",
      "0 projection items activated\n",
      "Effective window size : 0.250 (s)\n",
      "Effective window size : 0.250 (s)\n",
      "Reading c:\\Users\\afcad\\Downloads\\Sujeto10_R_processed.fif ...\n"
     ]
    },
    {
     "name": "stderr",
     "output_type": "stream",
     "text": [
      "C:\\Users\\afcad\\AppData\\Local\\Temp\\ipykernel_1044\\2538836546.py:69: RuntimeWarning: This filename (Sujeto10_R_processed.fif) does not conform to MNE naming conventions. All epochs files should end with -epo.fif, -epo.fif.gz, _epo.fif or _epo.fif.gz\n",
      "  epochs_R = mne.read_epochs(file_R, preload=True)\n"
     ]
    },
    {
     "name": "stdout",
     "output_type": "stream",
     "text": [
      "    Found the data of interest:\n",
      "        t =   -2500.00 ...    2500.00 ms\n",
      "        0 CTF compensation matrices available\n",
      "Not setting metadata\n",
      "64 matching events found\n",
      "No baseline correction applied\n",
      "0 projection items activated\n",
      "Reading c:\\Users\\afcad\\Downloads\\Sujeto10_MF_processed.fif ...\n"
     ]
    },
    {
     "name": "stderr",
     "output_type": "stream",
     "text": [
      "C:\\Users\\afcad\\AppData\\Local\\Temp\\ipykernel_1044\\2538836546.py:70: RuntimeWarning: This filename (Sujeto10_MF_processed.fif) does not conform to MNE naming conventions. All epochs files should end with -epo.fif, -epo.fif.gz, _epo.fif or _epo.fif.gz\n",
      "  epochs_MF = mne.read_epochs(file_MF, preload=True)\n"
     ]
    },
    {
     "name": "stdout",
     "output_type": "stream",
     "text": [
      "    Found the data of interest:\n",
      "        t =   -2500.00 ...    2500.00 ms\n",
      "        0 CTF compensation matrices available\n",
      "Not setting metadata\n",
      "137 matching events found\n",
      "No baseline correction applied\n",
      "0 projection items activated\n",
      "Effective window size : 0.250 (s)\n",
      "Effective window size : 0.250 (s)\n",
      "Reading c:\\Users\\afcad\\Downloads\\Sujeto11_R_processed.fif ...\n",
      "    Found the data of interest:\n",
      "        t =   -2500.00 ...    2500.00 ms\n",
      "        0 CTF compensation matrices available\n"
     ]
    },
    {
     "name": "stderr",
     "output_type": "stream",
     "text": [
      "C:\\Users\\afcad\\AppData\\Local\\Temp\\ipykernel_1044\\2538836546.py:69: RuntimeWarning: This filename (Sujeto11_R_processed.fif) does not conform to MNE naming conventions. All epochs files should end with -epo.fif, -epo.fif.gz, _epo.fif or _epo.fif.gz\n",
      "  epochs_R = mne.read_epochs(file_R, preload=True)\n"
     ]
    },
    {
     "name": "stdout",
     "output_type": "stream",
     "text": [
      "Not setting metadata\n",
      "53 matching events found\n",
      "No baseline correction applied\n",
      "0 projection items activated\n",
      "Reading c:\\Users\\afcad\\Downloads\\Sujeto11_MF_processed.fif ...\n"
     ]
    },
    {
     "name": "stderr",
     "output_type": "stream",
     "text": [
      "C:\\Users\\afcad\\AppData\\Local\\Temp\\ipykernel_1044\\2538836546.py:70: RuntimeWarning: This filename (Sujeto11_MF_processed.fif) does not conform to MNE naming conventions. All epochs files should end with -epo.fif, -epo.fif.gz, _epo.fif or _epo.fif.gz\n",
      "  epochs_MF = mne.read_epochs(file_MF, preload=True)\n"
     ]
    },
    {
     "name": "stdout",
     "output_type": "stream",
     "text": [
      "    Found the data of interest:\n",
      "        t =   -2500.00 ...    2500.00 ms\n",
      "        0 CTF compensation matrices available\n",
      "Not setting metadata\n",
      "107 matching events found\n",
      "No baseline correction applied\n",
      "0 projection items activated\n",
      "Effective window size : 0.250 (s)\n",
      "Effective window size : 0.250 (s)\n",
      "Reading c:\\Users\\afcad\\Downloads\\Sujeto13_R_processed.fif ...\n",
      "    Found the data of interest:\n"
     ]
    },
    {
     "name": "stderr",
     "output_type": "stream",
     "text": [
      "C:\\Users\\afcad\\AppData\\Local\\Temp\\ipykernel_1044\\2538836546.py:69: RuntimeWarning: This filename (Sujeto13_R_processed.fif) does not conform to MNE naming conventions. All epochs files should end with -epo.fif, -epo.fif.gz, _epo.fif or _epo.fif.gz\n",
      "  epochs_R = mne.read_epochs(file_R, preload=True)\n"
     ]
    },
    {
     "name": "stdout",
     "output_type": "stream",
     "text": [
      "        t =   -2500.00 ...    2500.00 ms\n",
      "        0 CTF compensation matrices available\n",
      "Not setting metadata\n",
      "63 matching events found\n",
      "No baseline correction applied\n",
      "0 projection items activated\n",
      "Reading c:\\Users\\afcad\\Downloads\\Sujeto13_MF_processed.fif ...\n"
     ]
    },
    {
     "name": "stderr",
     "output_type": "stream",
     "text": [
      "C:\\Users\\afcad\\AppData\\Local\\Temp\\ipykernel_1044\\2538836546.py:70: RuntimeWarning: This filename (Sujeto13_MF_processed.fif) does not conform to MNE naming conventions. All epochs files should end with -epo.fif, -epo.fif.gz, _epo.fif or _epo.fif.gz\n",
      "  epochs_MF = mne.read_epochs(file_MF, preload=True)\n"
     ]
    },
    {
     "name": "stdout",
     "output_type": "stream",
     "text": [
      "    Found the data of interest:\n",
      "        t =   -2500.00 ...    2500.00 ms\n",
      "        0 CTF compensation matrices available\n",
      "Not setting metadata\n",
      "141 matching events found\n",
      "No baseline correction applied\n",
      "0 projection items activated\n",
      "Effective window size : 0.250 (s)\n",
      "Effective window size : 0.250 (s)\n",
      "Reading c:\\Users\\afcad\\Downloads\\Sujeto14_R_processed.fif ...\n"
     ]
    },
    {
     "name": "stderr",
     "output_type": "stream",
     "text": [
      "C:\\Users\\afcad\\AppData\\Local\\Temp\\ipykernel_1044\\2538836546.py:69: RuntimeWarning: This filename (Sujeto14_R_processed.fif) does not conform to MNE naming conventions. All epochs files should end with -epo.fif, -epo.fif.gz, _epo.fif or _epo.fif.gz\n",
      "  epochs_R = mne.read_epochs(file_R, preload=True)\n"
     ]
    },
    {
     "name": "stdout",
     "output_type": "stream",
     "text": [
      "    Found the data of interest:\n",
      "        t =   -2500.00 ...    2500.00 ms\n",
      "        0 CTF compensation matrices available\n",
      "Not setting metadata\n",
      "71 matching events found\n",
      "No baseline correction applied\n",
      "0 projection items activated\n",
      "Reading c:\\Users\\afcad\\Downloads\\Sujeto14_MF_processed.fif ...\n"
     ]
    },
    {
     "name": "stderr",
     "output_type": "stream",
     "text": [
      "C:\\Users\\afcad\\AppData\\Local\\Temp\\ipykernel_1044\\2538836546.py:70: RuntimeWarning: This filename (Sujeto14_MF_processed.fif) does not conform to MNE naming conventions. All epochs files should end with -epo.fif, -epo.fif.gz, _epo.fif or _epo.fif.gz\n",
      "  epochs_MF = mne.read_epochs(file_MF, preload=True)\n"
     ]
    },
    {
     "name": "stdout",
     "output_type": "stream",
     "text": [
      "    Found the data of interest:\n",
      "        t =   -2500.00 ...    2500.00 ms\n",
      "        0 CTF compensation matrices available\n",
      "Not setting metadata\n",
      "141 matching events found\n",
      "No baseline correction applied\n",
      "0 projection items activated\n",
      "Effective window size : 0.250 (s)\n",
      "Effective window size : 0.250 (s)\n",
      "Reading c:\\Users\\afcad\\Downloads\\Sujeto15_R_processed.fif ...\n",
      "    Found the data of interest:\n"
     ]
    },
    {
     "name": "stderr",
     "output_type": "stream",
     "text": [
      "C:\\Users\\afcad\\AppData\\Local\\Temp\\ipykernel_1044\\2538836546.py:69: RuntimeWarning: This filename (Sujeto15_R_processed.fif) does not conform to MNE naming conventions. All epochs files should end with -epo.fif, -epo.fif.gz, _epo.fif or _epo.fif.gz\n",
      "  epochs_R = mne.read_epochs(file_R, preload=True)\n"
     ]
    },
    {
     "name": "stdout",
     "output_type": "stream",
     "text": [
      "        t =   -2500.00 ...    2500.00 ms\n",
      "        0 CTF compensation matrices available\n",
      "Not setting metadata\n",
      "69 matching events found\n",
      "No baseline correction applied\n",
      "0 projection items activated\n",
      "Reading c:\\Users\\afcad\\Downloads\\Sujeto15_MF_processed.fif ...\n"
     ]
    },
    {
     "name": "stderr",
     "output_type": "stream",
     "text": [
      "C:\\Users\\afcad\\AppData\\Local\\Temp\\ipykernel_1044\\2538836546.py:70: RuntimeWarning: This filename (Sujeto15_MF_processed.fif) does not conform to MNE naming conventions. All epochs files should end with -epo.fif, -epo.fif.gz, _epo.fif or _epo.fif.gz\n",
      "  epochs_MF = mne.read_epochs(file_MF, preload=True)\n"
     ]
    },
    {
     "name": "stdout",
     "output_type": "stream",
     "text": [
      "    Found the data of interest:\n",
      "        t =   -2500.00 ...    2500.00 ms\n",
      "        0 CTF compensation matrices available\n",
      "Not setting metadata\n",
      "141 matching events found\n",
      "No baseline correction applied\n",
      "0 projection items activated\n",
      "Effective window size : 0.250 (s)\n",
      "Effective window size : 0.250 (s)\n",
      "Reading c:\\Users\\afcad\\Downloads\\Sujeto16_R_processed.fif ...\n",
      "    Found the data of interest:\n",
      "        t =   -2500.00 ...    2500.00 ms\n",
      "        0 CTF compensation matrices available\n"
     ]
    },
    {
     "name": "stderr",
     "output_type": "stream",
     "text": [
      "C:\\Users\\afcad\\AppData\\Local\\Temp\\ipykernel_1044\\2538836546.py:69: RuntimeWarning: This filename (Sujeto16_R_processed.fif) does not conform to MNE naming conventions. All epochs files should end with -epo.fif, -epo.fif.gz, _epo.fif or _epo.fif.gz\n",
      "  epochs_R = mne.read_epochs(file_R, preload=True)\n"
     ]
    },
    {
     "name": "stdout",
     "output_type": "stream",
     "text": [
      "Not setting metadata\n",
      "52 matching events found\n",
      "No baseline correction applied\n",
      "0 projection items activated\n",
      "Reading c:\\Users\\afcad\\Downloads\\Sujeto16_MF_processed.fif ...\n"
     ]
    },
    {
     "name": "stderr",
     "output_type": "stream",
     "text": [
      "C:\\Users\\afcad\\AppData\\Local\\Temp\\ipykernel_1044\\2538836546.py:70: RuntimeWarning: This filename (Sujeto16_MF_processed.fif) does not conform to MNE naming conventions. All epochs files should end with -epo.fif, -epo.fif.gz, _epo.fif or _epo.fif.gz\n",
      "  epochs_MF = mne.read_epochs(file_MF, preload=True)\n"
     ]
    },
    {
     "name": "stdout",
     "output_type": "stream",
     "text": [
      "    Found the data of interest:\n",
      "        t =   -2500.00 ...    2500.00 ms\n",
      "        0 CTF compensation matrices available\n",
      "Not setting metadata\n",
      "106 matching events found\n",
      "No baseline correction applied\n",
      "0 projection items activated\n",
      "Effective window size : 0.250 (s)\n",
      "Effective window size : 0.250 (s)\n",
      "Reading c:\\Users\\afcad\\Downloads\\Sujeto17_R_processed.fif ...\n"
     ]
    },
    {
     "name": "stderr",
     "output_type": "stream",
     "text": [
      "C:\\Users\\afcad\\AppData\\Local\\Temp\\ipykernel_1044\\2538836546.py:69: RuntimeWarning: This filename (Sujeto17_R_processed.fif) does not conform to MNE naming conventions. All epochs files should end with -epo.fif, -epo.fif.gz, _epo.fif or _epo.fif.gz\n",
      "  epochs_R = mne.read_epochs(file_R, preload=True)\n"
     ]
    },
    {
     "name": "stdout",
     "output_type": "stream",
     "text": [
      "    Found the data of interest:\n",
      "        t =   -2500.00 ...    2500.00 ms\n",
      "        0 CTF compensation matrices available\n",
      "Not setting metadata\n",
      "72 matching events found\n",
      "No baseline correction applied\n",
      "0 projection items activated\n",
      "Reading c:\\Users\\afcad\\Downloads\\Sujeto17_MF_processed.fif ...\n"
     ]
    },
    {
     "name": "stderr",
     "output_type": "stream",
     "text": [
      "C:\\Users\\afcad\\AppData\\Local\\Temp\\ipykernel_1044\\2538836546.py:70: RuntimeWarning: This filename (Sujeto17_MF_processed.fif) does not conform to MNE naming conventions. All epochs files should end with -epo.fif, -epo.fif.gz, _epo.fif or _epo.fif.gz\n",
      "  epochs_MF = mne.read_epochs(file_MF, preload=True)\n"
     ]
    },
    {
     "name": "stdout",
     "output_type": "stream",
     "text": [
      "    Found the data of interest:\n",
      "        t =   -2500.00 ...    2500.00 ms\n",
      "        0 CTF compensation matrices available\n",
      "Not setting metadata\n",
      "145 matching events found\n",
      "No baseline correction applied\n",
      "0 projection items activated\n",
      "Effective window size : 0.250 (s)\n",
      "Effective window size : 0.250 (s)\n",
      "Reading c:\\Users\\afcad\\Downloads\\Sujeto18_R_processed.fif ...\n",
      "    Found the data of interest:\n",
      "        t =   -2500.00 ...    2500.00 ms\n",
      "        0 CTF compensation matrices available\n"
     ]
    },
    {
     "name": "stderr",
     "output_type": "stream",
     "text": [
      "C:\\Users\\afcad\\AppData\\Local\\Temp\\ipykernel_1044\\2538836546.py:69: RuntimeWarning: This filename (Sujeto18_R_processed.fif) does not conform to MNE naming conventions. All epochs files should end with -epo.fif, -epo.fif.gz, _epo.fif or _epo.fif.gz\n",
      "  epochs_R = mne.read_epochs(file_R, preload=True)\n"
     ]
    },
    {
     "name": "stdout",
     "output_type": "stream",
     "text": [
      "Not setting metadata\n",
      "44 matching events found\n",
      "No baseline correction applied\n",
      "0 projection items activated\n",
      "Reading c:\\Users\\afcad\\Downloads\\Sujeto18_MF_processed.fif ...\n"
     ]
    },
    {
     "name": "stderr",
     "output_type": "stream",
     "text": [
      "C:\\Users\\afcad\\AppData\\Local\\Temp\\ipykernel_1044\\2538836546.py:70: RuntimeWarning: This filename (Sujeto18_MF_processed.fif) does not conform to MNE naming conventions. All epochs files should end with -epo.fif, -epo.fif.gz, _epo.fif or _epo.fif.gz\n",
      "  epochs_MF = mne.read_epochs(file_MF, preload=True)\n"
     ]
    },
    {
     "name": "stdout",
     "output_type": "stream",
     "text": [
      "    Found the data of interest:\n",
      "        t =   -2500.00 ...    2500.00 ms\n",
      "        0 CTF compensation matrices available\n",
      "Not setting metadata\n",
      "137 matching events found\n",
      "No baseline correction applied\n",
      "0 projection items activated\n",
      "Effective window size : 0.250 (s)\n",
      "Effective window size : 0.250 (s)\n",
      "Reading c:\\Users\\afcad\\Downloads\\Sujeto19_R_processed.fif ...\n"
     ]
    },
    {
     "name": "stderr",
     "output_type": "stream",
     "text": [
      "C:\\Users\\afcad\\AppData\\Local\\Temp\\ipykernel_1044\\2538836546.py:69: RuntimeWarning: This filename (Sujeto19_R_processed.fif) does not conform to MNE naming conventions. All epochs files should end with -epo.fif, -epo.fif.gz, _epo.fif or _epo.fif.gz\n",
      "  epochs_R = mne.read_epochs(file_R, preload=True)\n"
     ]
    },
    {
     "name": "stdout",
     "output_type": "stream",
     "text": [
      "    Found the data of interest:\n",
      "        t =   -2500.00 ...    2500.00 ms\n",
      "        0 CTF compensation matrices available\n",
      "Not setting metadata\n",
      "68 matching events found\n",
      "No baseline correction applied\n",
      "0 projection items activated\n",
      "Reading c:\\Users\\afcad\\Downloads\\Sujeto19_MF_processed.fif ...\n"
     ]
    },
    {
     "name": "stderr",
     "output_type": "stream",
     "text": [
      "C:\\Users\\afcad\\AppData\\Local\\Temp\\ipykernel_1044\\2538836546.py:70: RuntimeWarning: This filename (Sujeto19_MF_processed.fif) does not conform to MNE naming conventions. All epochs files should end with -epo.fif, -epo.fif.gz, _epo.fif or _epo.fif.gz\n",
      "  epochs_MF = mne.read_epochs(file_MF, preload=True)\n"
     ]
    },
    {
     "name": "stdout",
     "output_type": "stream",
     "text": [
      "    Found the data of interest:\n",
      "        t =   -2500.00 ...    2500.00 ms\n",
      "        0 CTF compensation matrices available\n",
      "Not setting metadata\n",
      "143 matching events found\n",
      "No baseline correction applied\n",
      "0 projection items activated\n",
      "Effective window size : 0.250 (s)\n",
      "Effective window size : 0.250 (s)\n",
      "Reading c:\\Users\\afcad\\Downloads\\Sujeto20_R_processed.fif ...\n",
      "    Found the data of interest:\n"
     ]
    },
    {
     "name": "stderr",
     "output_type": "stream",
     "text": [
      "C:\\Users\\afcad\\AppData\\Local\\Temp\\ipykernel_1044\\2538836546.py:69: RuntimeWarning: This filename (Sujeto20_R_processed.fif) does not conform to MNE naming conventions. All epochs files should end with -epo.fif, -epo.fif.gz, _epo.fif or _epo.fif.gz\n",
      "  epochs_R = mne.read_epochs(file_R, preload=True)\n"
     ]
    },
    {
     "name": "stdout",
     "output_type": "stream",
     "text": [
      "        t =   -2500.00 ...    2500.00 ms\n",
      "        0 CTF compensation matrices available\n",
      "Not setting metadata\n",
      "71 matching events found\n",
      "No baseline correction applied\n",
      "0 projection items activated\n",
      "Reading c:\\Users\\afcad\\Downloads\\Sujeto20_MF_processed.fif ...\n"
     ]
    },
    {
     "name": "stderr",
     "output_type": "stream",
     "text": [
      "C:\\Users\\afcad\\AppData\\Local\\Temp\\ipykernel_1044\\2538836546.py:70: RuntimeWarning: This filename (Sujeto20_MF_processed.fif) does not conform to MNE naming conventions. All epochs files should end with -epo.fif, -epo.fif.gz, _epo.fif or _epo.fif.gz\n",
      "  epochs_MF = mne.read_epochs(file_MF, preload=True)\n"
     ]
    },
    {
     "name": "stdout",
     "output_type": "stream",
     "text": [
      "    Found the data of interest:\n",
      "        t =   -2500.00 ...    2500.00 ms\n",
      "        0 CTF compensation matrices available\n",
      "Not setting metadata\n",
      "141 matching events found\n",
      "No baseline correction applied\n",
      "0 projection items activated\n",
      "Effective window size : 0.250 (s)\n",
      "Effective window size : 0.250 (s)\n",
      "Reading c:\\Users\\afcad\\Downloads\\Sujeto21_R_processed.fif ...\n",
      "    Found the data of interest:\n",
      "        t =   -2500.00 ...    2500.00 ms\n",
      "        0 CTF compensation matrices available\n"
     ]
    },
    {
     "name": "stderr",
     "output_type": "stream",
     "text": [
      "C:\\Users\\afcad\\AppData\\Local\\Temp\\ipykernel_1044\\2538836546.py:69: RuntimeWarning: This filename (Sujeto21_R_processed.fif) does not conform to MNE naming conventions. All epochs files should end with -epo.fif, -epo.fif.gz, _epo.fif or _epo.fif.gz\n",
      "  epochs_R = mne.read_epochs(file_R, preload=True)\n"
     ]
    },
    {
     "name": "stdout",
     "output_type": "stream",
     "text": [
      "Not setting metadata\n",
      "47 matching events found\n",
      "No baseline correction applied\n",
      "0 projection items activated\n",
      "Reading c:\\Users\\afcad\\Downloads\\Sujeto21_MF_processed.fif ...\n",
      "    Found the data of interest:\n"
     ]
    },
    {
     "name": "stderr",
     "output_type": "stream",
     "text": [
      "C:\\Users\\afcad\\AppData\\Local\\Temp\\ipykernel_1044\\2538836546.py:70: RuntimeWarning: This filename (Sujeto21_MF_processed.fif) does not conform to MNE naming conventions. All epochs files should end with -epo.fif, -epo.fif.gz, _epo.fif or _epo.fif.gz\n",
      "  epochs_MF = mne.read_epochs(file_MF, preload=True)\n"
     ]
    },
    {
     "name": "stdout",
     "output_type": "stream",
     "text": [
      "        t =   -2500.00 ...    2500.00 ms\n",
      "        0 CTF compensation matrices available\n",
      "Not setting metadata\n",
      "106 matching events found\n",
      "No baseline correction applied\n",
      "0 projection items activated\n",
      "Effective window size : 0.250 (s)\n",
      "Effective window size : 0.250 (s)\n",
      "Reading c:\\Users\\afcad\\Downloads\\Sujeto22_R_processed.fif ...\n",
      "    Found the data of interest:\n",
      "        t =   -2500.00 ...    2500.00 ms\n",
      "        0 CTF compensation matrices available\n"
     ]
    },
    {
     "name": "stderr",
     "output_type": "stream",
     "text": [
      "C:\\Users\\afcad\\AppData\\Local\\Temp\\ipykernel_1044\\2538836546.py:69: RuntimeWarning: This filename (Sujeto22_R_processed.fif) does not conform to MNE naming conventions. All epochs files should end with -epo.fif, -epo.fif.gz, _epo.fif or _epo.fif.gz\n",
      "  epochs_R = mne.read_epochs(file_R, preload=True)\n"
     ]
    },
    {
     "name": "stdout",
     "output_type": "stream",
     "text": [
      "Not setting metadata\n",
      "67 matching events found\n",
      "No baseline correction applied\n",
      "0 projection items activated\n",
      "Reading c:\\Users\\afcad\\Downloads\\Sujeto22_MF_processed.fif ...\n"
     ]
    },
    {
     "name": "stderr",
     "output_type": "stream",
     "text": [
      "C:\\Users\\afcad\\AppData\\Local\\Temp\\ipykernel_1044\\2538836546.py:70: RuntimeWarning: This filename (Sujeto22_MF_processed.fif) does not conform to MNE naming conventions. All epochs files should end with -epo.fif, -epo.fif.gz, _epo.fif or _epo.fif.gz\n",
      "  epochs_MF = mne.read_epochs(file_MF, preload=True)\n"
     ]
    },
    {
     "name": "stdout",
     "output_type": "stream",
     "text": [
      "    Found the data of interest:\n",
      "        t =   -2500.00 ...    2500.00 ms\n",
      "        0 CTF compensation matrices available\n",
      "Not setting metadata\n",
      "138 matching events found\n",
      "No baseline correction applied\n",
      "0 projection items activated\n",
      "Effective window size : 0.250 (s)\n",
      "Effective window size : 0.250 (s)\n",
      "Reading c:\\Users\\afcad\\Downloads\\Sujeto23_R_processed.fif ...\n",
      "    Found the data of interest:\n",
      "        t =   -2500.00 ...    2500.00 ms\n",
      "        0 CTF compensation matrices available\n",
      "Not setting metadata\n",
      "11 matching events found\n",
      "No baseline correction applied\n",
      "0 projection items activated\n",
      "Reading c:\\Users\\afcad\\Downloads\\Sujeto23_MF_processed.fif ...\n"
     ]
    },
    {
     "name": "stderr",
     "output_type": "stream",
     "text": [
      "C:\\Users\\afcad\\AppData\\Local\\Temp\\ipykernel_1044\\2538836546.py:69: RuntimeWarning: This filename (Sujeto23_R_processed.fif) does not conform to MNE naming conventions. All epochs files should end with -epo.fif, -epo.fif.gz, _epo.fif or _epo.fif.gz\n",
      "  epochs_R = mne.read_epochs(file_R, preload=True)\n",
      "C:\\Users\\afcad\\AppData\\Local\\Temp\\ipykernel_1044\\2538836546.py:70: RuntimeWarning: This filename (Sujeto23_MF_processed.fif) does not conform to MNE naming conventions. All epochs files should end with -epo.fif, -epo.fif.gz, _epo.fif or _epo.fif.gz\n",
      "  epochs_MF = mne.read_epochs(file_MF, preload=True)\n"
     ]
    },
    {
     "name": "stdout",
     "output_type": "stream",
     "text": [
      "    Found the data of interest:\n",
      "        t =   -2500.00 ...    2500.00 ms\n",
      "        0 CTF compensation matrices available\n",
      "Not setting metadata\n",
      "125 matching events found\n",
      "No baseline correction applied\n",
      "0 projection items activated\n",
      "Effective window size : 0.250 (s)\n",
      "Effective window size : 0.250 (s)\n",
      "Reading c:\\Users\\afcad\\Downloads\\Sujeto24_R_processed.fif ...\n",
      "    Found the data of interest:\n",
      "        t =   -2500.00 ...    2500.00 ms\n",
      "        0 CTF compensation matrices available\n"
     ]
    },
    {
     "name": "stderr",
     "output_type": "stream",
     "text": [
      "C:\\Users\\afcad\\AppData\\Local\\Temp\\ipykernel_1044\\2538836546.py:69: RuntimeWarning: This filename (Sujeto24_R_processed.fif) does not conform to MNE naming conventions. All epochs files should end with -epo.fif, -epo.fif.gz, _epo.fif or _epo.fif.gz\n",
      "  epochs_R = mne.read_epochs(file_R, preload=True)\n"
     ]
    },
    {
     "name": "stdout",
     "output_type": "stream",
     "text": [
      "Not setting metadata\n",
      "61 matching events found\n",
      "No baseline correction applied\n",
      "0 projection items activated\n",
      "Reading c:\\Users\\afcad\\Downloads\\Sujeto24_MF_processed.fif ...\n"
     ]
    },
    {
     "name": "stderr",
     "output_type": "stream",
     "text": [
      "C:\\Users\\afcad\\AppData\\Local\\Temp\\ipykernel_1044\\2538836546.py:70: RuntimeWarning: This filename (Sujeto24_MF_processed.fif) does not conform to MNE naming conventions. All epochs files should end with -epo.fif, -epo.fif.gz, _epo.fif or _epo.fif.gz\n",
      "  epochs_MF = mne.read_epochs(file_MF, preload=True)\n"
     ]
    },
    {
     "name": "stdout",
     "output_type": "stream",
     "text": [
      "    Found the data of interest:\n",
      "        t =   -2500.00 ...    2500.00 ms\n",
      "        0 CTF compensation matrices available\n",
      "Not setting metadata\n",
      "132 matching events found\n",
      "No baseline correction applied\n",
      "0 projection items activated\n",
      "Effective window size : 0.250 (s)\n",
      "Effective window size : 0.250 (s)\n",
      "Reading c:\\Users\\afcad\\Downloads\\Sujeto25_R_processed.fif ...\n",
      "    Found the data of interest:\n"
     ]
    },
    {
     "name": "stderr",
     "output_type": "stream",
     "text": [
      "C:\\Users\\afcad\\AppData\\Local\\Temp\\ipykernel_1044\\2538836546.py:69: RuntimeWarning: This filename (Sujeto25_R_processed.fif) does not conform to MNE naming conventions. All epochs files should end with -epo.fif, -epo.fif.gz, _epo.fif or _epo.fif.gz\n",
      "  epochs_R = mne.read_epochs(file_R, preload=True)\n"
     ]
    },
    {
     "name": "stdout",
     "output_type": "stream",
     "text": [
      "        t =   -2500.00 ...    2500.00 ms\n",
      "        0 CTF compensation matrices available\n",
      "Not setting metadata\n",
      "70 matching events found\n",
      "No baseline correction applied\n",
      "0 projection items activated\n",
      "Reading c:\\Users\\afcad\\Downloads\\Sujeto25_MF_processed.fif ...\n"
     ]
    },
    {
     "name": "stderr",
     "output_type": "stream",
     "text": [
      "C:\\Users\\afcad\\AppData\\Local\\Temp\\ipykernel_1044\\2538836546.py:70: RuntimeWarning: This filename (Sujeto25_MF_processed.fif) does not conform to MNE naming conventions. All epochs files should end with -epo.fif, -epo.fif.gz, _epo.fif or _epo.fif.gz\n",
      "  epochs_MF = mne.read_epochs(file_MF, preload=True)\n"
     ]
    },
    {
     "name": "stdout",
     "output_type": "stream",
     "text": [
      "    Found the data of interest:\n",
      "        t =   -2500.00 ...    2500.00 ms\n",
      "        0 CTF compensation matrices available\n",
      "Not setting metadata\n",
      "140 matching events found\n",
      "No baseline correction applied\n",
      "0 projection items activated\n",
      "Effective window size : 0.250 (s)\n",
      "Effective window size : 0.250 (s)\n",
      "Reading c:\\Users\\afcad\\Downloads\\Sujeto26_R_processed.fif ...\n",
      "    Found the data of interest:\n"
     ]
    },
    {
     "name": "stderr",
     "output_type": "stream",
     "text": [
      "C:\\Users\\afcad\\AppData\\Local\\Temp\\ipykernel_1044\\2538836546.py:69: RuntimeWarning: This filename (Sujeto26_R_processed.fif) does not conform to MNE naming conventions. All epochs files should end with -epo.fif, -epo.fif.gz, _epo.fif or _epo.fif.gz\n",
      "  epochs_R = mne.read_epochs(file_R, preload=True)\n"
     ]
    },
    {
     "name": "stdout",
     "output_type": "stream",
     "text": [
      "        t =   -2500.00 ...    2500.00 ms\n",
      "        0 CTF compensation matrices available\n",
      "Not setting metadata\n",
      "63 matching events found\n",
      "No baseline correction applied\n",
      "0 projection items activated\n",
      "Reading c:\\Users\\afcad\\Downloads\\Sujeto26_MF_processed.fif ...\n",
      "    Found the data of interest:\n",
      "        t =   -2500.00 ...    2500.00 ms\n"
     ]
    },
    {
     "name": "stderr",
     "output_type": "stream",
     "text": [
      "C:\\Users\\afcad\\AppData\\Local\\Temp\\ipykernel_1044\\2538836546.py:70: RuntimeWarning: This filename (Sujeto26_MF_processed.fif) does not conform to MNE naming conventions. All epochs files should end with -epo.fif, -epo.fif.gz, _epo.fif or _epo.fif.gz\n",
      "  epochs_MF = mne.read_epochs(file_MF, preload=True)\n"
     ]
    },
    {
     "name": "stdout",
     "output_type": "stream",
     "text": [
      "        0 CTF compensation matrices available\n",
      "Not setting metadata\n",
      "74 matching events found\n",
      "No baseline correction applied\n",
      "0 projection items activated\n",
      "Effective window size : 0.250 (s)\n",
      "Effective window size : 0.250 (s)\n",
      "Reading c:\\Users\\afcad\\Downloads\\Sujeto27_R_processed.fif ...\n",
      "    Found the data of interest:\n",
      "        t =   -2500.00 ...    2500.00 ms\n",
      "        0 CTF compensation matrices available\n"
     ]
    },
    {
     "name": "stderr",
     "output_type": "stream",
     "text": [
      "C:\\Users\\afcad\\AppData\\Local\\Temp\\ipykernel_1044\\2538836546.py:69: RuntimeWarning: This filename (Sujeto27_R_processed.fif) does not conform to MNE naming conventions. All epochs files should end with -epo.fif, -epo.fif.gz, _epo.fif or _epo.fif.gz\n",
      "  epochs_R = mne.read_epochs(file_R, preload=True)\n"
     ]
    },
    {
     "name": "stdout",
     "output_type": "stream",
     "text": [
      "Not setting metadata\n",
      "64 matching events found\n",
      "No baseline correction applied\n",
      "0 projection items activated\n",
      "Reading c:\\Users\\afcad\\Downloads\\Sujeto27_MF_processed.fif ...\n",
      "    Found the data of interest:\n",
      "        t =   -2500.00 ...    2500.00 ms\n",
      "        0 CTF compensation matrices available\n"
     ]
    },
    {
     "name": "stderr",
     "output_type": "stream",
     "text": [
      "C:\\Users\\afcad\\AppData\\Local\\Temp\\ipykernel_1044\\2538836546.py:70: RuntimeWarning: This filename (Sujeto27_MF_processed.fif) does not conform to MNE naming conventions. All epochs files should end with -epo.fif, -epo.fif.gz, _epo.fif or _epo.fif.gz\n",
      "  epochs_MF = mne.read_epochs(file_MF, preload=True)\n"
     ]
    },
    {
     "name": "stdout",
     "output_type": "stream",
     "text": [
      "Not setting metadata\n",
      "70 matching events found\n",
      "No baseline correction applied\n",
      "0 projection items activated\n",
      "Effective window size : 0.250 (s)\n",
      "Effective window size : 0.250 (s)\n",
      "Reading c:\\Users\\afcad\\Downloads\\Sujeto28_R_processed.fif ...\n",
      "    Found the data of interest:\n",
      "        t =   -2500.00 ...    2500.00 ms\n",
      "        0 CTF compensation matrices available\n"
     ]
    },
    {
     "name": "stderr",
     "output_type": "stream",
     "text": [
      "C:\\Users\\afcad\\AppData\\Local\\Temp\\ipykernel_1044\\2538836546.py:69: RuntimeWarning: This filename (Sujeto28_R_processed.fif) does not conform to MNE naming conventions. All epochs files should end with -epo.fif, -epo.fif.gz, _epo.fif or _epo.fif.gz\n",
      "  epochs_R = mne.read_epochs(file_R, preload=True)\n"
     ]
    },
    {
     "name": "stdout",
     "output_type": "stream",
     "text": [
      "Not setting metadata\n",
      "55 matching events found\n",
      "No baseline correction applied\n",
      "0 projection items activated\n",
      "Reading c:\\Users\\afcad\\Downloads\\Sujeto28_MF_processed.fif ...\n"
     ]
    },
    {
     "name": "stderr",
     "output_type": "stream",
     "text": [
      "C:\\Users\\afcad\\AppData\\Local\\Temp\\ipykernel_1044\\2538836546.py:70: RuntimeWarning: This filename (Sujeto28_MF_processed.fif) does not conform to MNE naming conventions. All epochs files should end with -epo.fif, -epo.fif.gz, _epo.fif or _epo.fif.gz\n",
      "  epochs_MF = mne.read_epochs(file_MF, preload=True)\n"
     ]
    },
    {
     "name": "stdout",
     "output_type": "stream",
     "text": [
      "    Found the data of interest:\n",
      "        t =   -2500.00 ...    2500.00 ms\n",
      "        0 CTF compensation matrices available\n",
      "Not setting metadata\n",
      "114 matching events found\n",
      "No baseline correction applied\n",
      "0 projection items activated\n",
      "Effective window size : 0.250 (s)\n",
      "Effective window size : 0.250 (s)\n",
      "Reading c:\\Users\\afcad\\Downloads\\Sujeto29_R_processed.fif ...\n",
      "    Found the data of interest:\n",
      "        t =   -2500.00 ...    2500.00 ms\n",
      "        0 CTF compensation matrices available\n"
     ]
    },
    {
     "name": "stderr",
     "output_type": "stream",
     "text": [
      "C:\\Users\\afcad\\AppData\\Local\\Temp\\ipykernel_1044\\2538836546.py:69: RuntimeWarning: This filename (Sujeto29_R_processed.fif) does not conform to MNE naming conventions. All epochs files should end with -epo.fif, -epo.fif.gz, _epo.fif or _epo.fif.gz\n",
      "  epochs_R = mne.read_epochs(file_R, preload=True)\n"
     ]
    },
    {
     "name": "stdout",
     "output_type": "stream",
     "text": [
      "Not setting metadata\n",
      "68 matching events found\n",
      "No baseline correction applied\n",
      "0 projection items activated\n",
      "Reading c:\\Users\\afcad\\Downloads\\Sujeto29_MF_processed.fif ...\n"
     ]
    },
    {
     "name": "stderr",
     "output_type": "stream",
     "text": [
      "C:\\Users\\afcad\\AppData\\Local\\Temp\\ipykernel_1044\\2538836546.py:70: RuntimeWarning: This filename (Sujeto29_MF_processed.fif) does not conform to MNE naming conventions. All epochs files should end with -epo.fif, -epo.fif.gz, _epo.fif or _epo.fif.gz\n",
      "  epochs_MF = mne.read_epochs(file_MF, preload=True)\n"
     ]
    },
    {
     "name": "stdout",
     "output_type": "stream",
     "text": [
      "    Found the data of interest:\n",
      "        t =   -2500.00 ...    2500.00 ms\n",
      "        0 CTF compensation matrices available\n",
      "Not setting metadata\n",
      "145 matching events found\n",
      "No baseline correction applied\n",
      "0 projection items activated\n",
      "Effective window size : 0.250 (s)\n",
      "Effective window size : 0.250 (s)\n",
      "Reading c:\\Users\\afcad\\Downloads\\Sujeto30_R_processed.fif ...\n",
      "    Found the data of interest:\n",
      "        t =   -2500.00 ...    2500.00 ms\n",
      "        0 CTF compensation matrices available\n"
     ]
    },
    {
     "name": "stderr",
     "output_type": "stream",
     "text": [
      "C:\\Users\\afcad\\AppData\\Local\\Temp\\ipykernel_1044\\2538836546.py:69: RuntimeWarning: This filename (Sujeto30_R_processed.fif) does not conform to MNE naming conventions. All epochs files should end with -epo.fif, -epo.fif.gz, _epo.fif or _epo.fif.gz\n",
      "  epochs_R = mne.read_epochs(file_R, preload=True)\n"
     ]
    },
    {
     "name": "stdout",
     "output_type": "stream",
     "text": [
      "Not setting metadata\n",
      "69 matching events found\n",
      "No baseline correction applied\n",
      "0 projection items activated\n",
      "Reading c:\\Users\\afcad\\Downloads\\Sujeto30_MF_processed.fif ...\n"
     ]
    },
    {
     "name": "stderr",
     "output_type": "stream",
     "text": [
      "C:\\Users\\afcad\\AppData\\Local\\Temp\\ipykernel_1044\\2538836546.py:70: RuntimeWarning: This filename (Sujeto30_MF_processed.fif) does not conform to MNE naming conventions. All epochs files should end with -epo.fif, -epo.fif.gz, _epo.fif or _epo.fif.gz\n",
      "  epochs_MF = mne.read_epochs(file_MF, preload=True)\n"
     ]
    },
    {
     "name": "stdout",
     "output_type": "stream",
     "text": [
      "    Found the data of interest:\n",
      "        t =   -2500.00 ...    2500.00 ms\n",
      "        0 CTF compensation matrices available\n",
      "Not setting metadata\n",
      "124 matching events found\n",
      "No baseline correction applied\n",
      "0 projection items activated\n",
      "Effective window size : 0.250 (s)\n",
      "Effective window size : 0.250 (s)\n",
      "Reading c:\\Users\\afcad\\Downloads\\Sujeto31_R_processed.fif ...\n",
      "    Found the data of interest:\n",
      "        t =   -2500.00 ...    2500.00 ms\n",
      "        0 CTF compensation matrices available\n"
     ]
    },
    {
     "name": "stderr",
     "output_type": "stream",
     "text": [
      "C:\\Users\\afcad\\AppData\\Local\\Temp\\ipykernel_1044\\2538836546.py:69: RuntimeWarning: This filename (Sujeto31_R_processed.fif) does not conform to MNE naming conventions. All epochs files should end with -epo.fif, -epo.fif.gz, _epo.fif or _epo.fif.gz\n",
      "  epochs_R = mne.read_epochs(file_R, preload=True)\n"
     ]
    },
    {
     "name": "stdout",
     "output_type": "stream",
     "text": [
      "Not setting metadata\n",
      "61 matching events found\n",
      "No baseline correction applied\n",
      "0 projection items activated\n",
      "Reading c:\\Users\\afcad\\Downloads\\Sujeto31_MF_processed.fif ...\n"
     ]
    },
    {
     "name": "stderr",
     "output_type": "stream",
     "text": [
      "C:\\Users\\afcad\\AppData\\Local\\Temp\\ipykernel_1044\\2538836546.py:70: RuntimeWarning: This filename (Sujeto31_MF_processed.fif) does not conform to MNE naming conventions. All epochs files should end with -epo.fif, -epo.fif.gz, _epo.fif or _epo.fif.gz\n",
      "  epochs_MF = mne.read_epochs(file_MF, preload=True)\n"
     ]
    },
    {
     "name": "stdout",
     "output_type": "stream",
     "text": [
      "    Found the data of interest:\n",
      "        t =   -2500.00 ...    2500.00 ms\n",
      "        0 CTF compensation matrices available\n",
      "Not setting metadata\n",
      "140 matching events found\n",
      "No baseline correction applied\n",
      "0 projection items activated\n",
      "Effective window size : 0.250 (s)\n",
      "Effective window size : 0.250 (s)\n",
      "Reading c:\\Users\\afcad\\Downloads\\Sujeto32_R_processed.fif ...\n"
     ]
    },
    {
     "name": "stderr",
     "output_type": "stream",
     "text": [
      "C:\\Users\\afcad\\AppData\\Local\\Temp\\ipykernel_1044\\2538836546.py:69: RuntimeWarning: This filename (Sujeto32_R_processed.fif) does not conform to MNE naming conventions. All epochs files should end with -epo.fif, -epo.fif.gz, _epo.fif or _epo.fif.gz\n",
      "  epochs_R = mne.read_epochs(file_R, preload=True)\n"
     ]
    },
    {
     "name": "stdout",
     "output_type": "stream",
     "text": [
      "    Found the data of interest:\n",
      "        t =   -2500.00 ...    2500.00 ms\n",
      "        0 CTF compensation matrices available\n",
      "Not setting metadata\n",
      "70 matching events found\n",
      "No baseline correction applied\n",
      "0 projection items activated\n",
      "Reading c:\\Users\\afcad\\Downloads\\Sujeto32_MF_processed.fif ...\n"
     ]
    },
    {
     "name": "stderr",
     "output_type": "stream",
     "text": [
      "C:\\Users\\afcad\\AppData\\Local\\Temp\\ipykernel_1044\\2538836546.py:70: RuntimeWarning: This filename (Sujeto32_MF_processed.fif) does not conform to MNE naming conventions. All epochs files should end with -epo.fif, -epo.fif.gz, _epo.fif or _epo.fif.gz\n",
      "  epochs_MF = mne.read_epochs(file_MF, preload=True)\n"
     ]
    },
    {
     "name": "stdout",
     "output_type": "stream",
     "text": [
      "    Found the data of interest:\n",
      "        t =   -2500.00 ...    2500.00 ms\n",
      "        0 CTF compensation matrices available\n",
      "Not setting metadata\n",
      "127 matching events found\n",
      "No baseline correction applied\n",
      "0 projection items activated\n",
      "Effective window size : 0.250 (s)\n",
      "Effective window size : 0.250 (s)\n",
      "Reading c:\\Users\\afcad\\Downloads\\Sujeto36_R_processed.fif ...\n",
      "    Found the data of interest:\n",
      "        t =   -2500.00 ...    2500.00 ms\n"
     ]
    },
    {
     "name": "stderr",
     "output_type": "stream",
     "text": [
      "C:\\Users\\afcad\\AppData\\Local\\Temp\\ipykernel_1044\\2538836546.py:69: RuntimeWarning: This filename (Sujeto36_R_processed.fif) does not conform to MNE naming conventions. All epochs files should end with -epo.fif, -epo.fif.gz, _epo.fif or _epo.fif.gz\n",
      "  epochs_R = mne.read_epochs(file_R, preload=True)\n"
     ]
    },
    {
     "name": "stdout",
     "output_type": "stream",
     "text": [
      "        0 CTF compensation matrices available\n",
      "Not setting metadata\n",
      "61 matching events found\n",
      "No baseline correction applied\n",
      "0 projection items activated\n",
      "Reading c:\\Users\\afcad\\Downloads\\Sujeto36_MF_processed.fif ...\n"
     ]
    },
    {
     "name": "stderr",
     "output_type": "stream",
     "text": [
      "C:\\Users\\afcad\\AppData\\Local\\Temp\\ipykernel_1044\\2538836546.py:70: RuntimeWarning: This filename (Sujeto36_MF_processed.fif) does not conform to MNE naming conventions. All epochs files should end with -epo.fif, -epo.fif.gz, _epo.fif or _epo.fif.gz\n",
      "  epochs_MF = mne.read_epochs(file_MF, preload=True)\n"
     ]
    },
    {
     "name": "stdout",
     "output_type": "stream",
     "text": [
      "    Found the data of interest:\n",
      "        t =   -2500.00 ...    2500.00 ms\n",
      "        0 CTF compensation matrices available\n",
      "Not setting metadata\n",
      "133 matching events found\n",
      "No baseline correction applied\n",
      "0 projection items activated\n",
      "Effective window size : 0.250 (s)\n",
      "Effective window size : 0.250 (s)\n",
      "Reading c:\\Users\\afcad\\Downloads\\Sujeto37_R_processed.fif ...\n",
      "    Found the data of interest:\n",
      "        t =   -2500.00 ...    2500.00 ms\n",
      "        0 CTF compensation matrices available\n"
     ]
    },
    {
     "name": "stderr",
     "output_type": "stream",
     "text": [
      "C:\\Users\\afcad\\AppData\\Local\\Temp\\ipykernel_1044\\2538836546.py:69: RuntimeWarning: This filename (Sujeto37_R_processed.fif) does not conform to MNE naming conventions. All epochs files should end with -epo.fif, -epo.fif.gz, _epo.fif or _epo.fif.gz\n",
      "  epochs_R = mne.read_epochs(file_R, preload=True)\n"
     ]
    },
    {
     "name": "stdout",
     "output_type": "stream",
     "text": [
      "Not setting metadata\n",
      "71 matching events found\n",
      "No baseline correction applied\n",
      "0 projection items activated\n",
      "Reading c:\\Users\\afcad\\Downloads\\Sujeto37_MF_processed.fif ...\n"
     ]
    },
    {
     "name": "stderr",
     "output_type": "stream",
     "text": [
      "C:\\Users\\afcad\\AppData\\Local\\Temp\\ipykernel_1044\\2538836546.py:70: RuntimeWarning: This filename (Sujeto37_MF_processed.fif) does not conform to MNE naming conventions. All epochs files should end with -epo.fif, -epo.fif.gz, _epo.fif or _epo.fif.gz\n",
      "  epochs_MF = mne.read_epochs(file_MF, preload=True)\n"
     ]
    },
    {
     "name": "stdout",
     "output_type": "stream",
     "text": [
      "    Found the data of interest:\n",
      "        t =   -2500.00 ...    2500.00 ms\n",
      "        0 CTF compensation matrices available\n",
      "Not setting metadata\n",
      "141 matching events found\n",
      "No baseline correction applied\n",
      "0 projection items activated\n",
      "Effective window size : 0.250 (s)\n",
      "Effective window size : 0.250 (s)\n",
      "Resting - Delta (0.5–4 Hz): 0 significant channels (p < 0.05)\n",
      "Mindfulness - Delta (0.5–4 Hz): 0 significant channels (p < 0.05)\n",
      "Difference (MF - R) - Delta (0.5–4 Hz): 0 significant channels (p < 0.05)\n",
      "Reading c:\\Users\\afcad\\Downloads\\Sujeto1_R_processed.fif ...\n",
      "    Found the data of interest:\n"
     ]
    },
    {
     "name": "stderr",
     "output_type": "stream",
     "text": [
      "C:\\Users\\afcad\\AppData\\Local\\Temp\\ipykernel_1044\\2538836546.py:69: RuntimeWarning: This filename (Sujeto1_R_processed.fif) does not conform to MNE naming conventions. All epochs files should end with -epo.fif, -epo.fif.gz, _epo.fif or _epo.fif.gz\n",
      "  epochs_R = mne.read_epochs(file_R, preload=True)\n"
     ]
    },
    {
     "name": "stdout",
     "output_type": "stream",
     "text": [
      "        t =   -2500.00 ...    2500.00 ms\n",
      "        0 CTF compensation matrices available\n",
      "Not setting metadata\n",
      "68 matching events found\n",
      "No baseline correction applied\n",
      "0 projection items activated\n",
      "Reading c:\\Users\\afcad\\Downloads\\Sujeto1_MF_processed.fif ...\n"
     ]
    },
    {
     "name": "stderr",
     "output_type": "stream",
     "text": [
      "C:\\Users\\afcad\\AppData\\Local\\Temp\\ipykernel_1044\\2538836546.py:70: RuntimeWarning: This filename (Sujeto1_MF_processed.fif) does not conform to MNE naming conventions. All epochs files should end with -epo.fif, -epo.fif.gz, _epo.fif or _epo.fif.gz\n",
      "  epochs_MF = mne.read_epochs(file_MF, preload=True)\n"
     ]
    },
    {
     "name": "stdout",
     "output_type": "stream",
     "text": [
      "    Found the data of interest:\n",
      "        t =   -2500.00 ...    2500.00 ms\n",
      "        0 CTF compensation matrices available\n",
      "Not setting metadata\n",
      "145 matching events found\n",
      "No baseline correction applied\n",
      "0 projection items activated\n",
      "Effective window size : 0.250 (s)\n",
      "Effective window size : 0.250 (s)\n",
      "Reading c:\\Users\\afcad\\Downloads\\Sujeto2_R_processed.fif ...\n",
      "    Found the data of interest:\n",
      "        t =   -2500.00 ...    2500.00 ms\n",
      "        0 CTF compensation matrices available\n"
     ]
    },
    {
     "name": "stderr",
     "output_type": "stream",
     "text": [
      "C:\\Users\\afcad\\AppData\\Local\\Temp\\ipykernel_1044\\2538836546.py:69: RuntimeWarning: This filename (Sujeto2_R_processed.fif) does not conform to MNE naming conventions. All epochs files should end with -epo.fif, -epo.fif.gz, _epo.fif or _epo.fif.gz\n",
      "  epochs_R = mne.read_epochs(file_R, preload=True)\n"
     ]
    },
    {
     "name": "stdout",
     "output_type": "stream",
     "text": [
      "Not setting metadata\n",
      "58 matching events found\n",
      "No baseline correction applied\n",
      "0 projection items activated\n",
      "Reading c:\\Users\\afcad\\Downloads\\Sujeto2_MF_processed.fif ...\n"
     ]
    },
    {
     "name": "stderr",
     "output_type": "stream",
     "text": [
      "C:\\Users\\afcad\\AppData\\Local\\Temp\\ipykernel_1044\\2538836546.py:70: RuntimeWarning: This filename (Sujeto2_MF_processed.fif) does not conform to MNE naming conventions. All epochs files should end with -epo.fif, -epo.fif.gz, _epo.fif or _epo.fif.gz\n",
      "  epochs_MF = mne.read_epochs(file_MF, preload=True)\n"
     ]
    },
    {
     "name": "stdout",
     "output_type": "stream",
     "text": [
      "    Found the data of interest:\n",
      "        t =   -2500.00 ...    2500.00 ms\n",
      "        0 CTF compensation matrices available\n",
      "Not setting metadata\n",
      "138 matching events found\n",
      "No baseline correction applied\n",
      "0 projection items activated\n",
      "Effective window size : 0.250 (s)\n",
      "Effective window size : 0.250 (s)\n",
      "Reading c:\\Users\\afcad\\Downloads\\Sujeto3_R_processed.fif ...\n",
      "    Found the data of interest:\n",
      "        t =   -2500.00 ...    2500.00 ms\n",
      "        0 CTF compensation matrices available\n"
     ]
    },
    {
     "name": "stderr",
     "output_type": "stream",
     "text": [
      "C:\\Users\\afcad\\AppData\\Local\\Temp\\ipykernel_1044\\2538836546.py:69: RuntimeWarning: This filename (Sujeto3_R_processed.fif) does not conform to MNE naming conventions. All epochs files should end with -epo.fif, -epo.fif.gz, _epo.fif or _epo.fif.gz\n",
      "  epochs_R = mne.read_epochs(file_R, preload=True)\n"
     ]
    },
    {
     "name": "stdout",
     "output_type": "stream",
     "text": [
      "Not setting metadata\n",
      "61 matching events found\n",
      "No baseline correction applied\n",
      "0 projection items activated\n",
      "Reading c:\\Users\\afcad\\Downloads\\Sujeto3_MF_processed.fif ...\n"
     ]
    },
    {
     "name": "stderr",
     "output_type": "stream",
     "text": [
      "C:\\Users\\afcad\\AppData\\Local\\Temp\\ipykernel_1044\\2538836546.py:70: RuntimeWarning: This filename (Sujeto3_MF_processed.fif) does not conform to MNE naming conventions. All epochs files should end with -epo.fif, -epo.fif.gz, _epo.fif or _epo.fif.gz\n",
      "  epochs_MF = mne.read_epochs(file_MF, preload=True)\n"
     ]
    },
    {
     "name": "stdout",
     "output_type": "stream",
     "text": [
      "    Found the data of interest:\n",
      "        t =   -2500.00 ...    2500.00 ms\n",
      "        0 CTF compensation matrices available\n",
      "Not setting metadata\n",
      "131 matching events found\n",
      "No baseline correction applied\n",
      "0 projection items activated\n",
      "Effective window size : 0.250 (s)\n",
      "Effective window size : 0.250 (s)\n",
      "Reading c:\\Users\\afcad\\Downloads\\Sujeto4_R_processed.fif ...\n",
      "    Found the data of interest:\n",
      "        t =   -2500.00 ...    2500.00 ms\n",
      "        0 CTF compensation matrices available\n"
     ]
    },
    {
     "name": "stderr",
     "output_type": "stream",
     "text": [
      "C:\\Users\\afcad\\AppData\\Local\\Temp\\ipykernel_1044\\2538836546.py:69: RuntimeWarning: This filename (Sujeto4_R_processed.fif) does not conform to MNE naming conventions. All epochs files should end with -epo.fif, -epo.fif.gz, _epo.fif or _epo.fif.gz\n",
      "  epochs_R = mne.read_epochs(file_R, preload=True)\n"
     ]
    },
    {
     "name": "stdout",
     "output_type": "stream",
     "text": [
      "Not setting metadata\n",
      "60 matching events found\n",
      "No baseline correction applied\n",
      "0 projection items activated\n",
      "Reading c:\\Users\\afcad\\Downloads\\Sujeto4_MF_processed.fif ...\n"
     ]
    },
    {
     "name": "stderr",
     "output_type": "stream",
     "text": [
      "C:\\Users\\afcad\\AppData\\Local\\Temp\\ipykernel_1044\\2538836546.py:70: RuntimeWarning: This filename (Sujeto4_MF_processed.fif) does not conform to MNE naming conventions. All epochs files should end with -epo.fif, -epo.fif.gz, _epo.fif or _epo.fif.gz\n",
      "  epochs_MF = mne.read_epochs(file_MF, preload=True)\n"
     ]
    },
    {
     "name": "stdout",
     "output_type": "stream",
     "text": [
      "    Found the data of interest:\n",
      "        t =   -2500.00 ...    2500.00 ms\n",
      "        0 CTF compensation matrices available\n",
      "Not setting metadata\n",
      "143 matching events found\n",
      "No baseline correction applied\n",
      "0 projection items activated\n",
      "Effective window size : 0.250 (s)\n",
      "Effective window size : 0.250 (s)\n",
      "Reading c:\\Users\\afcad\\Downloads\\Sujeto5_R_processed.fif ...\n",
      "    Found the data of interest:\n",
      "        t =   -2500.00 ...    2500.00 ms\n",
      "        0 CTF compensation matrices available\n"
     ]
    },
    {
     "name": "stderr",
     "output_type": "stream",
     "text": [
      "C:\\Users\\afcad\\AppData\\Local\\Temp\\ipykernel_1044\\2538836546.py:69: RuntimeWarning: This filename (Sujeto5_R_processed.fif) does not conform to MNE naming conventions. All epochs files should end with -epo.fif, -epo.fif.gz, _epo.fif or _epo.fif.gz\n",
      "  epochs_R = mne.read_epochs(file_R, preload=True)\n"
     ]
    },
    {
     "name": "stdout",
     "output_type": "stream",
     "text": [
      "Not setting metadata\n",
      "63 matching events found\n",
      "No baseline correction applied\n",
      "0 projection items activated\n",
      "Reading c:\\Users\\afcad\\Downloads\\Sujeto5_MF_processed.fif ...\n"
     ]
    },
    {
     "name": "stderr",
     "output_type": "stream",
     "text": [
      "C:\\Users\\afcad\\AppData\\Local\\Temp\\ipykernel_1044\\2538836546.py:70: RuntimeWarning: This filename (Sujeto5_MF_processed.fif) does not conform to MNE naming conventions. All epochs files should end with -epo.fif, -epo.fif.gz, _epo.fif or _epo.fif.gz\n",
      "  epochs_MF = mne.read_epochs(file_MF, preload=True)\n"
     ]
    },
    {
     "name": "stdout",
     "output_type": "stream",
     "text": [
      "    Found the data of interest:\n",
      "        t =   -2500.00 ...    2500.00 ms\n",
      "        0 CTF compensation matrices available\n",
      "Not setting metadata\n",
      "141 matching events found\n",
      "No baseline correction applied\n",
      "0 projection items activated\n",
      "Effective window size : 0.250 (s)\n",
      "Effective window size : 0.250 (s)\n",
      "Reading c:\\Users\\afcad\\Downloads\\Sujeto6_R_processed.fif ...\n",
      "    Found the data of interest:\n",
      "        t =   -2500.00 ...    2500.00 ms\n",
      "        0 CTF compensation matrices available\n"
     ]
    },
    {
     "name": "stderr",
     "output_type": "stream",
     "text": [
      "C:\\Users\\afcad\\AppData\\Local\\Temp\\ipykernel_1044\\2538836546.py:69: RuntimeWarning: This filename (Sujeto6_R_processed.fif) does not conform to MNE naming conventions. All epochs files should end with -epo.fif, -epo.fif.gz, _epo.fif or _epo.fif.gz\n",
      "  epochs_R = mne.read_epochs(file_R, preload=True)\n"
     ]
    },
    {
     "name": "stdout",
     "output_type": "stream",
     "text": [
      "Not setting metadata\n",
      "72 matching events found\n",
      "No baseline correction applied\n",
      "0 projection items activated\n",
      "Reading c:\\Users\\afcad\\Downloads\\Sujeto6_MF_processed.fif ...\n"
     ]
    },
    {
     "name": "stderr",
     "output_type": "stream",
     "text": [
      "C:\\Users\\afcad\\AppData\\Local\\Temp\\ipykernel_1044\\2538836546.py:70: RuntimeWarning: This filename (Sujeto6_MF_processed.fif) does not conform to MNE naming conventions. All epochs files should end with -epo.fif, -epo.fif.gz, _epo.fif or _epo.fif.gz\n",
      "  epochs_MF = mne.read_epochs(file_MF, preload=True)\n"
     ]
    },
    {
     "name": "stdout",
     "output_type": "stream",
     "text": [
      "    Found the data of interest:\n",
      "        t =   -2500.00 ...    2500.00 ms\n",
      "        0 CTF compensation matrices available\n",
      "Not setting metadata\n",
      "107 matching events found\n",
      "No baseline correction applied\n",
      "0 projection items activated\n",
      "Effective window size : 0.250 (s)\n",
      "Effective window size : 0.250 (s)\n",
      "Reading c:\\Users\\afcad\\Downloads\\Sujeto7_R_processed.fif ...\n",
      "    Found the data of interest:\n",
      "        t =   -2500.00 ...    2500.00 ms\n",
      "        0 CTF compensation matrices available\n"
     ]
    },
    {
     "name": "stderr",
     "output_type": "stream",
     "text": [
      "C:\\Users\\afcad\\AppData\\Local\\Temp\\ipykernel_1044\\2538836546.py:69: RuntimeWarning: This filename (Sujeto7_R_processed.fif) does not conform to MNE naming conventions. All epochs files should end with -epo.fif, -epo.fif.gz, _epo.fif or _epo.fif.gz\n",
      "  epochs_R = mne.read_epochs(file_R, preload=True)\n"
     ]
    },
    {
     "name": "stdout",
     "output_type": "stream",
     "text": [
      "Not setting metadata\n",
      "55 matching events found\n",
      "No baseline correction applied\n",
      "0 projection items activated\n",
      "Reading c:\\Users\\afcad\\Downloads\\Sujeto7_MF_processed.fif ...\n"
     ]
    },
    {
     "name": "stderr",
     "output_type": "stream",
     "text": [
      "C:\\Users\\afcad\\AppData\\Local\\Temp\\ipykernel_1044\\2538836546.py:70: RuntimeWarning: This filename (Sujeto7_MF_processed.fif) does not conform to MNE naming conventions. All epochs files should end with -epo.fif, -epo.fif.gz, _epo.fif or _epo.fif.gz\n",
      "  epochs_MF = mne.read_epochs(file_MF, preload=True)\n"
     ]
    },
    {
     "name": "stdout",
     "output_type": "stream",
     "text": [
      "    Found the data of interest:\n",
      "        t =   -2500.00 ...    2500.00 ms\n",
      "        0 CTF compensation matrices available\n",
      "Not setting metadata\n",
      "130 matching events found\n",
      "No baseline correction applied\n",
      "0 projection items activated\n",
      "Effective window size : 0.250 (s)\n",
      "Effective window size : 0.250 (s)\n",
      "Reading c:\\Users\\afcad\\Downloads\\Sujeto8_R_processed.fif ...\n",
      "    Found the data of interest:\n",
      "        t =   -2500.00 ...    2500.00 ms\n",
      "        0 CTF compensation matrices available\n"
     ]
    },
    {
     "name": "stderr",
     "output_type": "stream",
     "text": [
      "C:\\Users\\afcad\\AppData\\Local\\Temp\\ipykernel_1044\\2538836546.py:69: RuntimeWarning: This filename (Sujeto8_R_processed.fif) does not conform to MNE naming conventions. All epochs files should end with -epo.fif, -epo.fif.gz, _epo.fif or _epo.fif.gz\n",
      "  epochs_R = mne.read_epochs(file_R, preload=True)\n"
     ]
    },
    {
     "name": "stdout",
     "output_type": "stream",
     "text": [
      "Not setting metadata\n",
      "63 matching events found\n",
      "No baseline correction applied\n",
      "0 projection items activated\n",
      "Reading c:\\Users\\afcad\\Downloads\\Sujeto8_MF_processed.fif ...\n"
     ]
    },
    {
     "name": "stderr",
     "output_type": "stream",
     "text": [
      "C:\\Users\\afcad\\AppData\\Local\\Temp\\ipykernel_1044\\2538836546.py:70: RuntimeWarning: This filename (Sujeto8_MF_processed.fif) does not conform to MNE naming conventions. All epochs files should end with -epo.fif, -epo.fif.gz, _epo.fif or _epo.fif.gz\n",
      "  epochs_MF = mne.read_epochs(file_MF, preload=True)\n"
     ]
    },
    {
     "name": "stdout",
     "output_type": "stream",
     "text": [
      "    Found the data of interest:\n",
      "        t =   -2500.00 ...    2500.00 ms\n",
      "        0 CTF compensation matrices available\n",
      "Not setting metadata\n",
      "138 matching events found\n",
      "No baseline correction applied\n",
      "0 projection items activated\n",
      "Effective window size : 0.250 (s)\n",
      "Effective window size : 0.250 (s)\n",
      "Reading c:\\Users\\afcad\\Downloads\\Sujeto9_R_processed.fif ...\n",
      "    Found the data of interest:\n",
      "        t =   -2500.00 ...    2500.00 ms\n",
      "        0 CTF compensation matrices available\n"
     ]
    },
    {
     "name": "stderr",
     "output_type": "stream",
     "text": [
      "C:\\Users\\afcad\\AppData\\Local\\Temp\\ipykernel_1044\\2538836546.py:69: RuntimeWarning: This filename (Sujeto9_R_processed.fif) does not conform to MNE naming conventions. All epochs files should end with -epo.fif, -epo.fif.gz, _epo.fif or _epo.fif.gz\n",
      "  epochs_R = mne.read_epochs(file_R, preload=True)\n"
     ]
    },
    {
     "name": "stdout",
     "output_type": "stream",
     "text": [
      "Not setting metadata\n",
      "60 matching events found\n",
      "No baseline correction applied\n",
      "0 projection items activated\n",
      "Reading c:\\Users\\afcad\\Downloads\\Sujeto9_MF_processed.fif ...\n"
     ]
    },
    {
     "name": "stderr",
     "output_type": "stream",
     "text": [
      "C:\\Users\\afcad\\AppData\\Local\\Temp\\ipykernel_1044\\2538836546.py:70: RuntimeWarning: This filename (Sujeto9_MF_processed.fif) does not conform to MNE naming conventions. All epochs files should end with -epo.fif, -epo.fif.gz, _epo.fif or _epo.fif.gz\n",
      "  epochs_MF = mne.read_epochs(file_MF, preload=True)\n"
     ]
    },
    {
     "name": "stdout",
     "output_type": "stream",
     "text": [
      "    Found the data of interest:\n",
      "        t =   -2500.00 ...    2500.00 ms\n",
      "        0 CTF compensation matrices available\n",
      "Not setting metadata\n",
      "143 matching events found\n",
      "No baseline correction applied\n",
      "0 projection items activated\n",
      "Effective window size : 0.250 (s)\n",
      "Effective window size : 0.250 (s)\n",
      "Reading c:\\Users\\afcad\\Downloads\\Sujeto10_R_processed.fif ...\n",
      "    Found the data of interest:\n",
      "        t =   -2500.00 ...    2500.00 ms\n",
      "        0 CTF compensation matrices available\n"
     ]
    },
    {
     "name": "stderr",
     "output_type": "stream",
     "text": [
      "C:\\Users\\afcad\\AppData\\Local\\Temp\\ipykernel_1044\\2538836546.py:69: RuntimeWarning: This filename (Sujeto10_R_processed.fif) does not conform to MNE naming conventions. All epochs files should end with -epo.fif, -epo.fif.gz, _epo.fif or _epo.fif.gz\n",
      "  epochs_R = mne.read_epochs(file_R, preload=True)\n"
     ]
    },
    {
     "name": "stdout",
     "output_type": "stream",
     "text": [
      "Not setting metadata\n",
      "64 matching events found\n",
      "No baseline correction applied\n",
      "0 projection items activated\n",
      "Reading c:\\Users\\afcad\\Downloads\\Sujeto10_MF_processed.fif ...\n"
     ]
    },
    {
     "name": "stderr",
     "output_type": "stream",
     "text": [
      "C:\\Users\\afcad\\AppData\\Local\\Temp\\ipykernel_1044\\2538836546.py:70: RuntimeWarning: This filename (Sujeto10_MF_processed.fif) does not conform to MNE naming conventions. All epochs files should end with -epo.fif, -epo.fif.gz, _epo.fif or _epo.fif.gz\n",
      "  epochs_MF = mne.read_epochs(file_MF, preload=True)\n"
     ]
    },
    {
     "name": "stdout",
     "output_type": "stream",
     "text": [
      "    Found the data of interest:\n",
      "        t =   -2500.00 ...    2500.00 ms\n",
      "        0 CTF compensation matrices available\n",
      "Not setting metadata\n",
      "137 matching events found\n",
      "No baseline correction applied\n",
      "0 projection items activated\n",
      "Effective window size : 0.250 (s)\n",
      "Effective window size : 0.250 (s)\n",
      "Reading c:\\Users\\afcad\\Downloads\\Sujeto11_R_processed.fif ...\n",
      "    Found the data of interest:\n",
      "        t =   -2500.00 ...    2500.00 ms\n",
      "        0 CTF compensation matrices available\n"
     ]
    },
    {
     "name": "stderr",
     "output_type": "stream",
     "text": [
      "C:\\Users\\afcad\\AppData\\Local\\Temp\\ipykernel_1044\\2538836546.py:69: RuntimeWarning: This filename (Sujeto11_R_processed.fif) does not conform to MNE naming conventions. All epochs files should end with -epo.fif, -epo.fif.gz, _epo.fif or _epo.fif.gz\n",
      "  epochs_R = mne.read_epochs(file_R, preload=True)\n"
     ]
    },
    {
     "name": "stdout",
     "output_type": "stream",
     "text": [
      "Not setting metadata\n",
      "53 matching events found\n",
      "No baseline correction applied\n",
      "0 projection items activated\n",
      "Reading c:\\Users\\afcad\\Downloads\\Sujeto11_MF_processed.fif ...\n",
      "    Found the data of interest:\n"
     ]
    },
    {
     "name": "stderr",
     "output_type": "stream",
     "text": [
      "C:\\Users\\afcad\\AppData\\Local\\Temp\\ipykernel_1044\\2538836546.py:70: RuntimeWarning: This filename (Sujeto11_MF_processed.fif) does not conform to MNE naming conventions. All epochs files should end with -epo.fif, -epo.fif.gz, _epo.fif or _epo.fif.gz\n",
      "  epochs_MF = mne.read_epochs(file_MF, preload=True)\n"
     ]
    },
    {
     "name": "stdout",
     "output_type": "stream",
     "text": [
      "        t =   -2500.00 ...    2500.00 ms\n",
      "        0 CTF compensation matrices available\n",
      "Not setting metadata\n",
      "107 matching events found\n",
      "No baseline correction applied\n",
      "0 projection items activated\n",
      "Effective window size : 0.250 (s)\n",
      "Effective window size : 0.250 (s)\n",
      "Reading c:\\Users\\afcad\\Downloads\\Sujeto13_R_processed.fif ...\n",
      "    Found the data of interest:\n",
      "        t =   -2500.00 ...    2500.00 ms\n",
      "        0 CTF compensation matrices available\n"
     ]
    },
    {
     "name": "stderr",
     "output_type": "stream",
     "text": [
      "C:\\Users\\afcad\\AppData\\Local\\Temp\\ipykernel_1044\\2538836546.py:69: RuntimeWarning: This filename (Sujeto13_R_processed.fif) does not conform to MNE naming conventions. All epochs files should end with -epo.fif, -epo.fif.gz, _epo.fif or _epo.fif.gz\n",
      "  epochs_R = mne.read_epochs(file_R, preload=True)\n"
     ]
    },
    {
     "name": "stdout",
     "output_type": "stream",
     "text": [
      "Not setting metadata\n",
      "63 matching events found\n",
      "No baseline correction applied\n",
      "0 projection items activated\n",
      "Reading c:\\Users\\afcad\\Downloads\\Sujeto13_MF_processed.fif ...\n"
     ]
    },
    {
     "name": "stderr",
     "output_type": "stream",
     "text": [
      "C:\\Users\\afcad\\AppData\\Local\\Temp\\ipykernel_1044\\2538836546.py:70: RuntimeWarning: This filename (Sujeto13_MF_processed.fif) does not conform to MNE naming conventions. All epochs files should end with -epo.fif, -epo.fif.gz, _epo.fif or _epo.fif.gz\n",
      "  epochs_MF = mne.read_epochs(file_MF, preload=True)\n"
     ]
    },
    {
     "name": "stdout",
     "output_type": "stream",
     "text": [
      "    Found the data of interest:\n",
      "        t =   -2500.00 ...    2500.00 ms\n",
      "        0 CTF compensation matrices available\n",
      "Not setting metadata\n",
      "141 matching events found\n",
      "No baseline correction applied\n",
      "0 projection items activated\n",
      "Effective window size : 0.250 (s)\n",
      "Effective window size : 0.250 (s)\n",
      "Reading c:\\Users\\afcad\\Downloads\\Sujeto14_R_processed.fif ...\n",
      "    Found the data of interest:\n",
      "        t =   -2500.00 ...    2500.00 ms\n",
      "        0 CTF compensation matrices available\n"
     ]
    },
    {
     "name": "stderr",
     "output_type": "stream",
     "text": [
      "C:\\Users\\afcad\\AppData\\Local\\Temp\\ipykernel_1044\\2538836546.py:69: RuntimeWarning: This filename (Sujeto14_R_processed.fif) does not conform to MNE naming conventions. All epochs files should end with -epo.fif, -epo.fif.gz, _epo.fif or _epo.fif.gz\n",
      "  epochs_R = mne.read_epochs(file_R, preload=True)\n"
     ]
    },
    {
     "name": "stdout",
     "output_type": "stream",
     "text": [
      "Not setting metadata\n",
      "71 matching events found\n",
      "No baseline correction applied\n",
      "0 projection items activated\n",
      "Reading c:\\Users\\afcad\\Downloads\\Sujeto14_MF_processed.fif ...\n"
     ]
    },
    {
     "name": "stderr",
     "output_type": "stream",
     "text": [
      "C:\\Users\\afcad\\AppData\\Local\\Temp\\ipykernel_1044\\2538836546.py:70: RuntimeWarning: This filename (Sujeto14_MF_processed.fif) does not conform to MNE naming conventions. All epochs files should end with -epo.fif, -epo.fif.gz, _epo.fif or _epo.fif.gz\n",
      "  epochs_MF = mne.read_epochs(file_MF, preload=True)\n"
     ]
    },
    {
     "name": "stdout",
     "output_type": "stream",
     "text": [
      "    Found the data of interest:\n",
      "        t =   -2500.00 ...    2500.00 ms\n",
      "        0 CTF compensation matrices available\n",
      "Not setting metadata\n",
      "141 matching events found\n",
      "No baseline correction applied\n",
      "0 projection items activated\n",
      "Effective window size : 0.250 (s)\n",
      "Effective window size : 0.250 (s)\n",
      "Reading c:\\Users\\afcad\\Downloads\\Sujeto15_R_processed.fif ...\n",
      "    Found the data of interest:\n",
      "        t =   -2500.00 ...    2500.00 ms\n",
      "        0 CTF compensation matrices available\n"
     ]
    },
    {
     "name": "stderr",
     "output_type": "stream",
     "text": [
      "C:\\Users\\afcad\\AppData\\Local\\Temp\\ipykernel_1044\\2538836546.py:69: RuntimeWarning: This filename (Sujeto15_R_processed.fif) does not conform to MNE naming conventions. All epochs files should end with -epo.fif, -epo.fif.gz, _epo.fif or _epo.fif.gz\n",
      "  epochs_R = mne.read_epochs(file_R, preload=True)\n"
     ]
    },
    {
     "name": "stdout",
     "output_type": "stream",
     "text": [
      "Not setting metadata\n",
      "69 matching events found\n",
      "No baseline correction applied\n",
      "0 projection items activated\n",
      "Reading c:\\Users\\afcad\\Downloads\\Sujeto15_MF_processed.fif ...\n"
     ]
    },
    {
     "name": "stderr",
     "output_type": "stream",
     "text": [
      "C:\\Users\\afcad\\AppData\\Local\\Temp\\ipykernel_1044\\2538836546.py:70: RuntimeWarning: This filename (Sujeto15_MF_processed.fif) does not conform to MNE naming conventions. All epochs files should end with -epo.fif, -epo.fif.gz, _epo.fif or _epo.fif.gz\n",
      "  epochs_MF = mne.read_epochs(file_MF, preload=True)\n"
     ]
    },
    {
     "name": "stdout",
     "output_type": "stream",
     "text": [
      "    Found the data of interest:\n",
      "        t =   -2500.00 ...    2500.00 ms\n",
      "        0 CTF compensation matrices available\n",
      "Not setting metadata\n",
      "141 matching events found\n",
      "No baseline correction applied\n",
      "0 projection items activated\n",
      "Effective window size : 0.250 (s)\n",
      "Effective window size : 0.250 (s)\n",
      "Reading c:\\Users\\afcad\\Downloads\\Sujeto16_R_processed.fif ...\n",
      "    Found the data of interest:\n",
      "        t =   -2500.00 ...    2500.00 ms\n",
      "        0 CTF compensation matrices available\n"
     ]
    },
    {
     "name": "stderr",
     "output_type": "stream",
     "text": [
      "C:\\Users\\afcad\\AppData\\Local\\Temp\\ipykernel_1044\\2538836546.py:69: RuntimeWarning: This filename (Sujeto16_R_processed.fif) does not conform to MNE naming conventions. All epochs files should end with -epo.fif, -epo.fif.gz, _epo.fif or _epo.fif.gz\n",
      "  epochs_R = mne.read_epochs(file_R, preload=True)\n"
     ]
    },
    {
     "name": "stdout",
     "output_type": "stream",
     "text": [
      "Not setting metadata\n",
      "52 matching events found\n",
      "No baseline correction applied\n",
      "0 projection items activated\n",
      "Reading c:\\Users\\afcad\\Downloads\\Sujeto16_MF_processed.fif ...\n"
     ]
    },
    {
     "name": "stderr",
     "output_type": "stream",
     "text": [
      "C:\\Users\\afcad\\AppData\\Local\\Temp\\ipykernel_1044\\2538836546.py:70: RuntimeWarning: This filename (Sujeto16_MF_processed.fif) does not conform to MNE naming conventions. All epochs files should end with -epo.fif, -epo.fif.gz, _epo.fif or _epo.fif.gz\n",
      "  epochs_MF = mne.read_epochs(file_MF, preload=True)\n"
     ]
    },
    {
     "name": "stdout",
     "output_type": "stream",
     "text": [
      "    Found the data of interest:\n",
      "        t =   -2500.00 ...    2500.00 ms\n",
      "        0 CTF compensation matrices available\n",
      "Not setting metadata\n",
      "106 matching events found\n",
      "No baseline correction applied\n",
      "0 projection items activated\n",
      "Effective window size : 0.250 (s)\n",
      "Effective window size : 0.250 (s)\n",
      "Reading c:\\Users\\afcad\\Downloads\\Sujeto17_R_processed.fif ...\n",
      "    Found the data of interest:\n",
      "        t =   -2500.00 ...    2500.00 ms\n",
      "        0 CTF compensation matrices available\n"
     ]
    },
    {
     "name": "stderr",
     "output_type": "stream",
     "text": [
      "C:\\Users\\afcad\\AppData\\Local\\Temp\\ipykernel_1044\\2538836546.py:69: RuntimeWarning: This filename (Sujeto17_R_processed.fif) does not conform to MNE naming conventions. All epochs files should end with -epo.fif, -epo.fif.gz, _epo.fif or _epo.fif.gz\n",
      "  epochs_R = mne.read_epochs(file_R, preload=True)\n"
     ]
    },
    {
     "name": "stdout",
     "output_type": "stream",
     "text": [
      "Not setting metadata\n",
      "72 matching events found\n",
      "No baseline correction applied\n",
      "0 projection items activated\n",
      "Reading c:\\Users\\afcad\\Downloads\\Sujeto17_MF_processed.fif ...\n"
     ]
    },
    {
     "name": "stderr",
     "output_type": "stream",
     "text": [
      "C:\\Users\\afcad\\AppData\\Local\\Temp\\ipykernel_1044\\2538836546.py:70: RuntimeWarning: This filename (Sujeto17_MF_processed.fif) does not conform to MNE naming conventions. All epochs files should end with -epo.fif, -epo.fif.gz, _epo.fif or _epo.fif.gz\n",
      "  epochs_MF = mne.read_epochs(file_MF, preload=True)\n"
     ]
    },
    {
     "name": "stdout",
     "output_type": "stream",
     "text": [
      "    Found the data of interest:\n",
      "        t =   -2500.00 ...    2500.00 ms\n",
      "        0 CTF compensation matrices available\n",
      "Not setting metadata\n",
      "145 matching events found\n",
      "No baseline correction applied\n",
      "0 projection items activated\n",
      "Effective window size : 0.250 (s)\n",
      "Effective window size : 0.250 (s)\n",
      "Reading c:\\Users\\afcad\\Downloads\\Sujeto18_R_processed.fif ...\n",
      "    Found the data of interest:\n",
      "        t =   -2500.00 ...    2500.00 ms\n",
      "        0 CTF compensation matrices available\n"
     ]
    },
    {
     "name": "stderr",
     "output_type": "stream",
     "text": [
      "C:\\Users\\afcad\\AppData\\Local\\Temp\\ipykernel_1044\\2538836546.py:69: RuntimeWarning: This filename (Sujeto18_R_processed.fif) does not conform to MNE naming conventions. All epochs files should end with -epo.fif, -epo.fif.gz, _epo.fif or _epo.fif.gz\n",
      "  epochs_R = mne.read_epochs(file_R, preload=True)\n"
     ]
    },
    {
     "name": "stdout",
     "output_type": "stream",
     "text": [
      "Not setting metadata\n",
      "44 matching events found\n",
      "No baseline correction applied\n",
      "0 projection items activated\n",
      "Reading c:\\Users\\afcad\\Downloads\\Sujeto18_MF_processed.fif ...\n"
     ]
    },
    {
     "name": "stderr",
     "output_type": "stream",
     "text": [
      "C:\\Users\\afcad\\AppData\\Local\\Temp\\ipykernel_1044\\2538836546.py:70: RuntimeWarning: This filename (Sujeto18_MF_processed.fif) does not conform to MNE naming conventions. All epochs files should end with -epo.fif, -epo.fif.gz, _epo.fif or _epo.fif.gz\n",
      "  epochs_MF = mne.read_epochs(file_MF, preload=True)\n"
     ]
    },
    {
     "name": "stdout",
     "output_type": "stream",
     "text": [
      "    Found the data of interest:\n",
      "        t =   -2500.00 ...    2500.00 ms\n",
      "        0 CTF compensation matrices available\n",
      "Not setting metadata\n",
      "137 matching events found\n",
      "No baseline correction applied\n",
      "0 projection items activated\n",
      "Effective window size : 0.250 (s)\n",
      "Effective window size : 0.250 (s)\n",
      "Reading c:\\Users\\afcad\\Downloads\\Sujeto19_R_processed.fif ...\n",
      "    Found the data of interest:\n",
      "        t =   -2500.00 ...    2500.00 ms\n",
      "        0 CTF compensation matrices available\n"
     ]
    },
    {
     "name": "stderr",
     "output_type": "stream",
     "text": [
      "C:\\Users\\afcad\\AppData\\Local\\Temp\\ipykernel_1044\\2538836546.py:69: RuntimeWarning: This filename (Sujeto19_R_processed.fif) does not conform to MNE naming conventions. All epochs files should end with -epo.fif, -epo.fif.gz, _epo.fif or _epo.fif.gz\n",
      "  epochs_R = mne.read_epochs(file_R, preload=True)\n"
     ]
    },
    {
     "name": "stdout",
     "output_type": "stream",
     "text": [
      "Not setting metadata\n",
      "68 matching events found\n",
      "No baseline correction applied\n",
      "0 projection items activated\n",
      "Reading c:\\Users\\afcad\\Downloads\\Sujeto19_MF_processed.fif ...\n"
     ]
    },
    {
     "name": "stderr",
     "output_type": "stream",
     "text": [
      "C:\\Users\\afcad\\AppData\\Local\\Temp\\ipykernel_1044\\2538836546.py:70: RuntimeWarning: This filename (Sujeto19_MF_processed.fif) does not conform to MNE naming conventions. All epochs files should end with -epo.fif, -epo.fif.gz, _epo.fif or _epo.fif.gz\n",
      "  epochs_MF = mne.read_epochs(file_MF, preload=True)\n"
     ]
    },
    {
     "name": "stdout",
     "output_type": "stream",
     "text": [
      "    Found the data of interest:\n",
      "        t =   -2500.00 ...    2500.00 ms\n",
      "        0 CTF compensation matrices available\n",
      "Not setting metadata\n",
      "143 matching events found\n",
      "No baseline correction applied\n",
      "0 projection items activated\n",
      "Effective window size : 0.250 (s)\n",
      "Effective window size : 0.250 (s)\n",
      "Reading c:\\Users\\afcad\\Downloads\\Sujeto20_R_processed.fif ...\n",
      "    Found the data of interest:\n",
      "        t =   -2500.00 ...    2500.00 ms\n",
      "        0 CTF compensation matrices available\n"
     ]
    },
    {
     "name": "stderr",
     "output_type": "stream",
     "text": [
      "C:\\Users\\afcad\\AppData\\Local\\Temp\\ipykernel_1044\\2538836546.py:69: RuntimeWarning: This filename (Sujeto20_R_processed.fif) does not conform to MNE naming conventions. All epochs files should end with -epo.fif, -epo.fif.gz, _epo.fif or _epo.fif.gz\n",
      "  epochs_R = mne.read_epochs(file_R, preload=True)\n"
     ]
    },
    {
     "name": "stdout",
     "output_type": "stream",
     "text": [
      "Not setting metadata\n",
      "71 matching events found\n",
      "No baseline correction applied\n",
      "0 projection items activated\n",
      "Reading c:\\Users\\afcad\\Downloads\\Sujeto20_MF_processed.fif ...\n"
     ]
    },
    {
     "name": "stderr",
     "output_type": "stream",
     "text": [
      "C:\\Users\\afcad\\AppData\\Local\\Temp\\ipykernel_1044\\2538836546.py:70: RuntimeWarning: This filename (Sujeto20_MF_processed.fif) does not conform to MNE naming conventions. All epochs files should end with -epo.fif, -epo.fif.gz, _epo.fif or _epo.fif.gz\n",
      "  epochs_MF = mne.read_epochs(file_MF, preload=True)\n"
     ]
    },
    {
     "name": "stdout",
     "output_type": "stream",
     "text": [
      "    Found the data of interest:\n",
      "        t =   -2500.00 ...    2500.00 ms\n",
      "        0 CTF compensation matrices available\n",
      "Not setting metadata\n",
      "141 matching events found\n",
      "No baseline correction applied\n",
      "0 projection items activated\n",
      "Effective window size : 0.250 (s)\n",
      "Effective window size : 0.250 (s)\n",
      "Reading c:\\Users\\afcad\\Downloads\\Sujeto21_R_processed.fif ...\n",
      "    Found the data of interest:\n",
      "        t =   -2500.00 ...    2500.00 ms\n",
      "        0 CTF compensation matrices available\n"
     ]
    },
    {
     "name": "stderr",
     "output_type": "stream",
     "text": [
      "C:\\Users\\afcad\\AppData\\Local\\Temp\\ipykernel_1044\\2538836546.py:69: RuntimeWarning: This filename (Sujeto21_R_processed.fif) does not conform to MNE naming conventions. All epochs files should end with -epo.fif, -epo.fif.gz, _epo.fif or _epo.fif.gz\n",
      "  epochs_R = mne.read_epochs(file_R, preload=True)\n"
     ]
    },
    {
     "name": "stdout",
     "output_type": "stream",
     "text": [
      "Not setting metadata\n",
      "47 matching events found\n",
      "No baseline correction applied\n",
      "0 projection items activated\n",
      "Reading c:\\Users\\afcad\\Downloads\\Sujeto21_MF_processed.fif ...\n"
     ]
    },
    {
     "name": "stderr",
     "output_type": "stream",
     "text": [
      "C:\\Users\\afcad\\AppData\\Local\\Temp\\ipykernel_1044\\2538836546.py:70: RuntimeWarning: This filename (Sujeto21_MF_processed.fif) does not conform to MNE naming conventions. All epochs files should end with -epo.fif, -epo.fif.gz, _epo.fif or _epo.fif.gz\n",
      "  epochs_MF = mne.read_epochs(file_MF, preload=True)\n"
     ]
    },
    {
     "name": "stdout",
     "output_type": "stream",
     "text": [
      "    Found the data of interest:\n",
      "        t =   -2500.00 ...    2500.00 ms\n",
      "        0 CTF compensation matrices available\n",
      "Not setting metadata\n",
      "106 matching events found\n",
      "No baseline correction applied\n",
      "0 projection items activated\n",
      "Effective window size : 0.250 (s)\n",
      "Effective window size : 0.250 (s)\n",
      "Reading c:\\Users\\afcad\\Downloads\\Sujeto22_R_processed.fif ...\n",
      "    Found the data of interest:\n",
      "        t =   -2500.00 ...    2500.00 ms\n",
      "        0 CTF compensation matrices available\n"
     ]
    },
    {
     "name": "stderr",
     "output_type": "stream",
     "text": [
      "C:\\Users\\afcad\\AppData\\Local\\Temp\\ipykernel_1044\\2538836546.py:69: RuntimeWarning: This filename (Sujeto22_R_processed.fif) does not conform to MNE naming conventions. All epochs files should end with -epo.fif, -epo.fif.gz, _epo.fif or _epo.fif.gz\n",
      "  epochs_R = mne.read_epochs(file_R, preload=True)\n"
     ]
    },
    {
     "name": "stdout",
     "output_type": "stream",
     "text": [
      "Not setting metadata\n",
      "67 matching events found\n",
      "No baseline correction applied\n",
      "0 projection items activated\n",
      "Reading c:\\Users\\afcad\\Downloads\\Sujeto22_MF_processed.fif ...\n"
     ]
    },
    {
     "name": "stderr",
     "output_type": "stream",
     "text": [
      "C:\\Users\\afcad\\AppData\\Local\\Temp\\ipykernel_1044\\2538836546.py:70: RuntimeWarning: This filename (Sujeto22_MF_processed.fif) does not conform to MNE naming conventions. All epochs files should end with -epo.fif, -epo.fif.gz, _epo.fif or _epo.fif.gz\n",
      "  epochs_MF = mne.read_epochs(file_MF, preload=True)\n"
     ]
    },
    {
     "name": "stdout",
     "output_type": "stream",
     "text": [
      "    Found the data of interest:\n",
      "        t =   -2500.00 ...    2500.00 ms\n",
      "        0 CTF compensation matrices available\n",
      "Not setting metadata\n",
      "138 matching events found\n",
      "No baseline correction applied\n",
      "0 projection items activated\n",
      "Effective window size : 0.250 (s)\n",
      "Effective window size : 0.250 (s)\n",
      "Reading c:\\Users\\afcad\\Downloads\\Sujeto23_R_processed.fif ...\n",
      "    Found the data of interest:\n",
      "        t =   -2500.00 ...    2500.00 ms\n",
      "        0 CTF compensation matrices available\n",
      "Not setting metadata\n",
      "11 matching events found\n",
      "No baseline correction applied\n",
      "0 projection items activated\n",
      "Reading c:\\Users\\afcad\\Downloads\\Sujeto23_MF_processed.fif ...\n"
     ]
    },
    {
     "name": "stderr",
     "output_type": "stream",
     "text": [
      "C:\\Users\\afcad\\AppData\\Local\\Temp\\ipykernel_1044\\2538836546.py:69: RuntimeWarning: This filename (Sujeto23_R_processed.fif) does not conform to MNE naming conventions. All epochs files should end with -epo.fif, -epo.fif.gz, _epo.fif or _epo.fif.gz\n",
      "  epochs_R = mne.read_epochs(file_R, preload=True)\n",
      "C:\\Users\\afcad\\AppData\\Local\\Temp\\ipykernel_1044\\2538836546.py:70: RuntimeWarning: This filename (Sujeto23_MF_processed.fif) does not conform to MNE naming conventions. All epochs files should end with -epo.fif, -epo.fif.gz, _epo.fif or _epo.fif.gz\n",
      "  epochs_MF = mne.read_epochs(file_MF, preload=True)\n"
     ]
    },
    {
     "name": "stdout",
     "output_type": "stream",
     "text": [
      "    Found the data of interest:\n",
      "        t =   -2500.00 ...    2500.00 ms\n",
      "        0 CTF compensation matrices available\n",
      "Not setting metadata\n",
      "125 matching events found\n",
      "No baseline correction applied\n",
      "0 projection items activated\n",
      "Effective window size : 0.250 (s)\n",
      "Effective window size : 0.250 (s)\n",
      "Reading c:\\Users\\afcad\\Downloads\\Sujeto24_R_processed.fif ...\n",
      "    Found the data of interest:\n",
      "        t =   -2500.00 ...    2500.00 ms\n",
      "        0 CTF compensation matrices available\n"
     ]
    },
    {
     "name": "stderr",
     "output_type": "stream",
     "text": [
      "C:\\Users\\afcad\\AppData\\Local\\Temp\\ipykernel_1044\\2538836546.py:69: RuntimeWarning: This filename (Sujeto24_R_processed.fif) does not conform to MNE naming conventions. All epochs files should end with -epo.fif, -epo.fif.gz, _epo.fif or _epo.fif.gz\n",
      "  epochs_R = mne.read_epochs(file_R, preload=True)\n"
     ]
    },
    {
     "name": "stdout",
     "output_type": "stream",
     "text": [
      "Not setting metadata\n",
      "61 matching events found\n",
      "No baseline correction applied\n",
      "0 projection items activated\n",
      "Reading c:\\Users\\afcad\\Downloads\\Sujeto24_MF_processed.fif ...\n"
     ]
    },
    {
     "name": "stderr",
     "output_type": "stream",
     "text": [
      "C:\\Users\\afcad\\AppData\\Local\\Temp\\ipykernel_1044\\2538836546.py:70: RuntimeWarning: This filename (Sujeto24_MF_processed.fif) does not conform to MNE naming conventions. All epochs files should end with -epo.fif, -epo.fif.gz, _epo.fif or _epo.fif.gz\n",
      "  epochs_MF = mne.read_epochs(file_MF, preload=True)\n"
     ]
    },
    {
     "name": "stdout",
     "output_type": "stream",
     "text": [
      "    Found the data of interest:\n",
      "        t =   -2500.00 ...    2500.00 ms\n",
      "        0 CTF compensation matrices available\n",
      "Not setting metadata\n",
      "132 matching events found\n",
      "No baseline correction applied\n",
      "0 projection items activated\n",
      "Effective window size : 0.250 (s)\n",
      "Effective window size : 0.250 (s)\n",
      "Reading c:\\Users\\afcad\\Downloads\\Sujeto25_R_processed.fif ...\n",
      "    Found the data of interest:\n"
     ]
    },
    {
     "name": "stderr",
     "output_type": "stream",
     "text": [
      "C:\\Users\\afcad\\AppData\\Local\\Temp\\ipykernel_1044\\2538836546.py:69: RuntimeWarning: This filename (Sujeto25_R_processed.fif) does not conform to MNE naming conventions. All epochs files should end with -epo.fif, -epo.fif.gz, _epo.fif or _epo.fif.gz\n",
      "  epochs_R = mne.read_epochs(file_R, preload=True)\n"
     ]
    },
    {
     "name": "stdout",
     "output_type": "stream",
     "text": [
      "        t =   -2500.00 ...    2500.00 ms\n",
      "        0 CTF compensation matrices available\n",
      "Not setting metadata\n",
      "70 matching events found\n",
      "No baseline correction applied\n",
      "0 projection items activated\n",
      "Reading c:\\Users\\afcad\\Downloads\\Sujeto25_MF_processed.fif ...\n"
     ]
    },
    {
     "name": "stderr",
     "output_type": "stream",
     "text": [
      "C:\\Users\\afcad\\AppData\\Local\\Temp\\ipykernel_1044\\2538836546.py:70: RuntimeWarning: This filename (Sujeto25_MF_processed.fif) does not conform to MNE naming conventions. All epochs files should end with -epo.fif, -epo.fif.gz, _epo.fif or _epo.fif.gz\n",
      "  epochs_MF = mne.read_epochs(file_MF, preload=True)\n"
     ]
    },
    {
     "name": "stdout",
     "output_type": "stream",
     "text": [
      "    Found the data of interest:\n",
      "        t =   -2500.00 ...    2500.00 ms\n",
      "        0 CTF compensation matrices available\n",
      "Not setting metadata\n",
      "140 matching events found\n",
      "No baseline correction applied\n",
      "0 projection items activated\n",
      "Effective window size : 0.250 (s)\n",
      "Effective window size : 0.250 (s)\n",
      "Reading c:\\Users\\afcad\\Downloads\\Sujeto26_R_processed.fif ...\n",
      "    Found the data of interest:\n",
      "        t =   -2500.00 ...    2500.00 ms\n",
      "        0 CTF compensation matrices available\n"
     ]
    },
    {
     "name": "stderr",
     "output_type": "stream",
     "text": [
      "C:\\Users\\afcad\\AppData\\Local\\Temp\\ipykernel_1044\\2538836546.py:69: RuntimeWarning: This filename (Sujeto26_R_processed.fif) does not conform to MNE naming conventions. All epochs files should end with -epo.fif, -epo.fif.gz, _epo.fif or _epo.fif.gz\n",
      "  epochs_R = mne.read_epochs(file_R, preload=True)\n"
     ]
    },
    {
     "name": "stdout",
     "output_type": "stream",
     "text": [
      "Not setting metadata\n",
      "63 matching events found\n",
      "No baseline correction applied\n",
      "0 projection items activated\n",
      "Reading c:\\Users\\afcad\\Downloads\\Sujeto26_MF_processed.fif ...\n",
      "    Found the data of interest:\n",
      "        t =   -2500.00 ...    2500.00 ms\n",
      "        0 CTF compensation matrices available\n"
     ]
    },
    {
     "name": "stderr",
     "output_type": "stream",
     "text": [
      "C:\\Users\\afcad\\AppData\\Local\\Temp\\ipykernel_1044\\2538836546.py:70: RuntimeWarning: This filename (Sujeto26_MF_processed.fif) does not conform to MNE naming conventions. All epochs files should end with -epo.fif, -epo.fif.gz, _epo.fif or _epo.fif.gz\n",
      "  epochs_MF = mne.read_epochs(file_MF, preload=True)\n"
     ]
    },
    {
     "name": "stdout",
     "output_type": "stream",
     "text": [
      "Not setting metadata\n",
      "74 matching events found\n",
      "No baseline correction applied\n",
      "0 projection items activated\n",
      "Effective window size : 0.250 (s)\n",
      "Effective window size : 0.250 (s)\n",
      "Reading c:\\Users\\afcad\\Downloads\\Sujeto27_R_processed.fif ...\n",
      "    Found the data of interest:\n",
      "        t =   -2500.00 ...    2500.00 ms\n",
      "        0 CTF compensation matrices available\n"
     ]
    },
    {
     "name": "stderr",
     "output_type": "stream",
     "text": [
      "C:\\Users\\afcad\\AppData\\Local\\Temp\\ipykernel_1044\\2538836546.py:69: RuntimeWarning: This filename (Sujeto27_R_processed.fif) does not conform to MNE naming conventions. All epochs files should end with -epo.fif, -epo.fif.gz, _epo.fif or _epo.fif.gz\n",
      "  epochs_R = mne.read_epochs(file_R, preload=True)\n"
     ]
    },
    {
     "name": "stdout",
     "output_type": "stream",
     "text": [
      "Not setting metadata\n",
      "64 matching events found\n",
      "No baseline correction applied\n",
      "0 projection items activated\n",
      "Reading c:\\Users\\afcad\\Downloads\\Sujeto27_MF_processed.fif ...\n",
      "    Found the data of interest:\n",
      "        t =   -2500.00 ...    2500.00 ms\n",
      "        0 CTF compensation matrices available\n"
     ]
    },
    {
     "name": "stderr",
     "output_type": "stream",
     "text": [
      "C:\\Users\\afcad\\AppData\\Local\\Temp\\ipykernel_1044\\2538836546.py:70: RuntimeWarning: This filename (Sujeto27_MF_processed.fif) does not conform to MNE naming conventions. All epochs files should end with -epo.fif, -epo.fif.gz, _epo.fif or _epo.fif.gz\n",
      "  epochs_MF = mne.read_epochs(file_MF, preload=True)\n"
     ]
    },
    {
     "name": "stdout",
     "output_type": "stream",
     "text": [
      "Not setting metadata\n",
      "70 matching events found\n",
      "No baseline correction applied\n",
      "0 projection items activated\n",
      "Effective window size : 0.250 (s)\n",
      "Effective window size : 0.250 (s)\n",
      "Reading c:\\Users\\afcad\\Downloads\\Sujeto28_R_processed.fif ...\n",
      "    Found the data of interest:\n",
      "        t =   -2500.00 ...    2500.00 ms\n",
      "        0 CTF compensation matrices available\n"
     ]
    },
    {
     "name": "stderr",
     "output_type": "stream",
     "text": [
      "C:\\Users\\afcad\\AppData\\Local\\Temp\\ipykernel_1044\\2538836546.py:69: RuntimeWarning: This filename (Sujeto28_R_processed.fif) does not conform to MNE naming conventions. All epochs files should end with -epo.fif, -epo.fif.gz, _epo.fif or _epo.fif.gz\n",
      "  epochs_R = mne.read_epochs(file_R, preload=True)\n"
     ]
    },
    {
     "name": "stdout",
     "output_type": "stream",
     "text": [
      "Not setting metadata\n",
      "55 matching events found\n",
      "No baseline correction applied\n",
      "0 projection items activated\n",
      "Reading c:\\Users\\afcad\\Downloads\\Sujeto28_MF_processed.fif ...\n",
      "    Found the data of interest:\n"
     ]
    },
    {
     "name": "stderr",
     "output_type": "stream",
     "text": [
      "C:\\Users\\afcad\\AppData\\Local\\Temp\\ipykernel_1044\\2538836546.py:70: RuntimeWarning: This filename (Sujeto28_MF_processed.fif) does not conform to MNE naming conventions. All epochs files should end with -epo.fif, -epo.fif.gz, _epo.fif or _epo.fif.gz\n",
      "  epochs_MF = mne.read_epochs(file_MF, preload=True)\n"
     ]
    },
    {
     "name": "stdout",
     "output_type": "stream",
     "text": [
      "        t =   -2500.00 ...    2500.00 ms\n",
      "        0 CTF compensation matrices available\n",
      "Not setting metadata\n",
      "114 matching events found\n",
      "No baseline correction applied\n",
      "0 projection items activated\n",
      "Effective window size : 0.250 (s)\n",
      "Effective window size : 0.250 (s)\n",
      "Reading c:\\Users\\afcad\\Downloads\\Sujeto29_R_processed.fif ...\n",
      "    Found the data of interest:\n",
      "        t =   -2500.00 ...    2500.00 ms\n",
      "        0 CTF compensation matrices available\n"
     ]
    },
    {
     "name": "stderr",
     "output_type": "stream",
     "text": [
      "C:\\Users\\afcad\\AppData\\Local\\Temp\\ipykernel_1044\\2538836546.py:69: RuntimeWarning: This filename (Sujeto29_R_processed.fif) does not conform to MNE naming conventions. All epochs files should end with -epo.fif, -epo.fif.gz, _epo.fif or _epo.fif.gz\n",
      "  epochs_R = mne.read_epochs(file_R, preload=True)\n"
     ]
    },
    {
     "name": "stdout",
     "output_type": "stream",
     "text": [
      "Not setting metadata\n",
      "68 matching events found\n",
      "No baseline correction applied\n",
      "0 projection items activated\n",
      "Reading c:\\Users\\afcad\\Downloads\\Sujeto29_MF_processed.fif ...\n"
     ]
    },
    {
     "name": "stderr",
     "output_type": "stream",
     "text": [
      "C:\\Users\\afcad\\AppData\\Local\\Temp\\ipykernel_1044\\2538836546.py:70: RuntimeWarning: This filename (Sujeto29_MF_processed.fif) does not conform to MNE naming conventions. All epochs files should end with -epo.fif, -epo.fif.gz, _epo.fif or _epo.fif.gz\n",
      "  epochs_MF = mne.read_epochs(file_MF, preload=True)\n"
     ]
    },
    {
     "name": "stdout",
     "output_type": "stream",
     "text": [
      "    Found the data of interest:\n",
      "        t =   -2500.00 ...    2500.00 ms\n",
      "        0 CTF compensation matrices available\n",
      "Not setting metadata\n",
      "145 matching events found\n",
      "No baseline correction applied\n",
      "0 projection items activated\n",
      "Effective window size : 0.250 (s)\n",
      "Effective window size : 0.250 (s)\n",
      "Reading c:\\Users\\afcad\\Downloads\\Sujeto30_R_processed.fif ...\n",
      "    Found the data of interest:\n",
      "        t =   -2500.00 ...    2500.00 ms\n",
      "        0 CTF compensation matrices available\n"
     ]
    },
    {
     "name": "stderr",
     "output_type": "stream",
     "text": [
      "C:\\Users\\afcad\\AppData\\Local\\Temp\\ipykernel_1044\\2538836546.py:69: RuntimeWarning: This filename (Sujeto30_R_processed.fif) does not conform to MNE naming conventions. All epochs files should end with -epo.fif, -epo.fif.gz, _epo.fif or _epo.fif.gz\n",
      "  epochs_R = mne.read_epochs(file_R, preload=True)\n"
     ]
    },
    {
     "name": "stdout",
     "output_type": "stream",
     "text": [
      "Not setting metadata\n",
      "69 matching events found\n",
      "No baseline correction applied\n",
      "0 projection items activated\n",
      "Reading c:\\Users\\afcad\\Downloads\\Sujeto30_MF_processed.fif ...\n"
     ]
    },
    {
     "name": "stderr",
     "output_type": "stream",
     "text": [
      "C:\\Users\\afcad\\AppData\\Local\\Temp\\ipykernel_1044\\2538836546.py:70: RuntimeWarning: This filename (Sujeto30_MF_processed.fif) does not conform to MNE naming conventions. All epochs files should end with -epo.fif, -epo.fif.gz, _epo.fif or _epo.fif.gz\n",
      "  epochs_MF = mne.read_epochs(file_MF, preload=True)\n"
     ]
    },
    {
     "name": "stdout",
     "output_type": "stream",
     "text": [
      "    Found the data of interest:\n",
      "        t =   -2500.00 ...    2500.00 ms\n",
      "        0 CTF compensation matrices available\n",
      "Not setting metadata\n",
      "124 matching events found\n",
      "No baseline correction applied\n",
      "0 projection items activated\n",
      "Effective window size : 0.250 (s)\n",
      "Effective window size : 0.250 (s)\n",
      "Reading c:\\Users\\afcad\\Downloads\\Sujeto31_R_processed.fif ...\n",
      "    Found the data of interest:\n",
      "        t =   -2500.00 ...    2500.00 ms\n",
      "        0 CTF compensation matrices available\n"
     ]
    },
    {
     "name": "stderr",
     "output_type": "stream",
     "text": [
      "C:\\Users\\afcad\\AppData\\Local\\Temp\\ipykernel_1044\\2538836546.py:69: RuntimeWarning: This filename (Sujeto31_R_processed.fif) does not conform to MNE naming conventions. All epochs files should end with -epo.fif, -epo.fif.gz, _epo.fif or _epo.fif.gz\n",
      "  epochs_R = mne.read_epochs(file_R, preload=True)\n"
     ]
    },
    {
     "name": "stdout",
     "output_type": "stream",
     "text": [
      "Not setting metadata\n",
      "61 matching events found\n",
      "No baseline correction applied\n",
      "0 projection items activated\n",
      "Reading c:\\Users\\afcad\\Downloads\\Sujeto31_MF_processed.fif ...\n"
     ]
    },
    {
     "name": "stderr",
     "output_type": "stream",
     "text": [
      "C:\\Users\\afcad\\AppData\\Local\\Temp\\ipykernel_1044\\2538836546.py:70: RuntimeWarning: This filename (Sujeto31_MF_processed.fif) does not conform to MNE naming conventions. All epochs files should end with -epo.fif, -epo.fif.gz, _epo.fif or _epo.fif.gz\n",
      "  epochs_MF = mne.read_epochs(file_MF, preload=True)\n"
     ]
    },
    {
     "name": "stdout",
     "output_type": "stream",
     "text": [
      "    Found the data of interest:\n",
      "        t =   -2500.00 ...    2500.00 ms\n",
      "        0 CTF compensation matrices available\n",
      "Not setting metadata\n",
      "140 matching events found\n",
      "No baseline correction applied\n",
      "0 projection items activated\n",
      "Effective window size : 0.250 (s)\n",
      "Effective window size : 0.250 (s)\n",
      "Reading c:\\Users\\afcad\\Downloads\\Sujeto32_R_processed.fif ...\n",
      "    Found the data of interest:\n",
      "        t =   -2500.00 ...    2500.00 ms\n",
      "        0 CTF compensation matrices available\n"
     ]
    },
    {
     "name": "stderr",
     "output_type": "stream",
     "text": [
      "C:\\Users\\afcad\\AppData\\Local\\Temp\\ipykernel_1044\\2538836546.py:69: RuntimeWarning: This filename (Sujeto32_R_processed.fif) does not conform to MNE naming conventions. All epochs files should end with -epo.fif, -epo.fif.gz, _epo.fif or _epo.fif.gz\n",
      "  epochs_R = mne.read_epochs(file_R, preload=True)\n"
     ]
    },
    {
     "name": "stdout",
     "output_type": "stream",
     "text": [
      "Not setting metadata\n",
      "70 matching events found\n",
      "No baseline correction applied\n",
      "0 projection items activated\n",
      "Reading c:\\Users\\afcad\\Downloads\\Sujeto32_MF_processed.fif ...\n"
     ]
    },
    {
     "name": "stderr",
     "output_type": "stream",
     "text": [
      "C:\\Users\\afcad\\AppData\\Local\\Temp\\ipykernel_1044\\2538836546.py:70: RuntimeWarning: This filename (Sujeto32_MF_processed.fif) does not conform to MNE naming conventions. All epochs files should end with -epo.fif, -epo.fif.gz, _epo.fif or _epo.fif.gz\n",
      "  epochs_MF = mne.read_epochs(file_MF, preload=True)\n"
     ]
    },
    {
     "name": "stdout",
     "output_type": "stream",
     "text": [
      "    Found the data of interest:\n",
      "        t =   -2500.00 ...    2500.00 ms\n",
      "        0 CTF compensation matrices available\n",
      "Not setting metadata\n",
      "127 matching events found\n",
      "No baseline correction applied\n",
      "0 projection items activated\n",
      "Effective window size : 0.250 (s)\n",
      "Effective window size : 0.250 (s)\n",
      "Reading c:\\Users\\afcad\\Downloads\\Sujeto36_R_processed.fif ...\n",
      "    Found the data of interest:\n",
      "        t =   -2500.00 ...    2500.00 ms\n",
      "        0 CTF compensation matrices available\n"
     ]
    },
    {
     "name": "stderr",
     "output_type": "stream",
     "text": [
      "C:\\Users\\afcad\\AppData\\Local\\Temp\\ipykernel_1044\\2538836546.py:69: RuntimeWarning: This filename (Sujeto36_R_processed.fif) does not conform to MNE naming conventions. All epochs files should end with -epo.fif, -epo.fif.gz, _epo.fif or _epo.fif.gz\n",
      "  epochs_R = mne.read_epochs(file_R, preload=True)\n"
     ]
    },
    {
     "name": "stdout",
     "output_type": "stream",
     "text": [
      "Not setting metadata\n",
      "61 matching events found\n",
      "No baseline correction applied\n",
      "0 projection items activated\n",
      "Reading c:\\Users\\afcad\\Downloads\\Sujeto36_MF_processed.fif ...\n"
     ]
    },
    {
     "name": "stderr",
     "output_type": "stream",
     "text": [
      "C:\\Users\\afcad\\AppData\\Local\\Temp\\ipykernel_1044\\2538836546.py:70: RuntimeWarning: This filename (Sujeto36_MF_processed.fif) does not conform to MNE naming conventions. All epochs files should end with -epo.fif, -epo.fif.gz, _epo.fif or _epo.fif.gz\n",
      "  epochs_MF = mne.read_epochs(file_MF, preload=True)\n"
     ]
    },
    {
     "name": "stdout",
     "output_type": "stream",
     "text": [
      "    Found the data of interest:\n",
      "        t =   -2500.00 ...    2500.00 ms\n",
      "        0 CTF compensation matrices available\n",
      "Not setting metadata\n",
      "133 matching events found\n",
      "No baseline correction applied\n",
      "0 projection items activated\n",
      "Effective window size : 0.250 (s)\n",
      "Effective window size : 0.250 (s)\n",
      "Reading c:\\Users\\afcad\\Downloads\\Sujeto37_R_processed.fif ...\n",
      "    Found the data of interest:\n",
      "        t =   -2500.00 ...    2500.00 ms\n",
      "        0 CTF compensation matrices available\n"
     ]
    },
    {
     "name": "stderr",
     "output_type": "stream",
     "text": [
      "C:\\Users\\afcad\\AppData\\Local\\Temp\\ipykernel_1044\\2538836546.py:69: RuntimeWarning: This filename (Sujeto37_R_processed.fif) does not conform to MNE naming conventions. All epochs files should end with -epo.fif, -epo.fif.gz, _epo.fif or _epo.fif.gz\n",
      "  epochs_R = mne.read_epochs(file_R, preload=True)\n"
     ]
    },
    {
     "name": "stdout",
     "output_type": "stream",
     "text": [
      "Not setting metadata\n",
      "71 matching events found\n",
      "No baseline correction applied\n",
      "0 projection items activated\n",
      "Reading c:\\Users\\afcad\\Downloads\\Sujeto37_MF_processed.fif ...\n"
     ]
    },
    {
     "name": "stderr",
     "output_type": "stream",
     "text": [
      "C:\\Users\\afcad\\AppData\\Local\\Temp\\ipykernel_1044\\2538836546.py:70: RuntimeWarning: This filename (Sujeto37_MF_processed.fif) does not conform to MNE naming conventions. All epochs files should end with -epo.fif, -epo.fif.gz, _epo.fif or _epo.fif.gz\n",
      "  epochs_MF = mne.read_epochs(file_MF, preload=True)\n"
     ]
    },
    {
     "name": "stdout",
     "output_type": "stream",
     "text": [
      "    Found the data of interest:\n",
      "        t =   -2500.00 ...    2500.00 ms\n",
      "        0 CTF compensation matrices available\n",
      "Not setting metadata\n",
      "141 matching events found\n",
      "No baseline correction applied\n",
      "0 projection items activated\n",
      "Effective window size : 0.250 (s)\n",
      "Effective window size : 0.250 (s)\n",
      "Resting - Theta (4–8 Hz): 0 significant channels (p < 0.05)\n",
      "Mindfulness - Theta (4–8 Hz): 0 significant channels (p < 0.05)\n",
      "Difference (MF - R) - Theta (4–8 Hz): 0 significant channels (p < 0.05)\n",
      "Reading c:\\Users\\afcad\\Downloads\\Sujeto1_R_processed.fif ...\n",
      "    Found the data of interest:\n",
      "        t =   -2500.00 ...    2500.00 ms\n",
      "        0 CTF compensation matrices available\n"
     ]
    },
    {
     "name": "stderr",
     "output_type": "stream",
     "text": [
      "C:\\Users\\afcad\\AppData\\Local\\Temp\\ipykernel_1044\\2538836546.py:69: RuntimeWarning: This filename (Sujeto1_R_processed.fif) does not conform to MNE naming conventions. All epochs files should end with -epo.fif, -epo.fif.gz, _epo.fif or _epo.fif.gz\n",
      "  epochs_R = mne.read_epochs(file_R, preload=True)\n"
     ]
    },
    {
     "name": "stdout",
     "output_type": "stream",
     "text": [
      "Not setting metadata\n",
      "68 matching events found\n",
      "No baseline correction applied\n",
      "0 projection items activated\n",
      "Reading c:\\Users\\afcad\\Downloads\\Sujeto1_MF_processed.fif ...\n"
     ]
    },
    {
     "name": "stderr",
     "output_type": "stream",
     "text": [
      "C:\\Users\\afcad\\AppData\\Local\\Temp\\ipykernel_1044\\2538836546.py:70: RuntimeWarning: This filename (Sujeto1_MF_processed.fif) does not conform to MNE naming conventions. All epochs files should end with -epo.fif, -epo.fif.gz, _epo.fif or _epo.fif.gz\n",
      "  epochs_MF = mne.read_epochs(file_MF, preload=True)\n"
     ]
    },
    {
     "name": "stdout",
     "output_type": "stream",
     "text": [
      "    Found the data of interest:\n",
      "        t =   -2500.00 ...    2500.00 ms\n",
      "        0 CTF compensation matrices available\n",
      "Not setting metadata\n",
      "145 matching events found\n",
      "No baseline correction applied\n",
      "0 projection items activated\n",
      "Effective window size : 0.250 (s)\n",
      "Effective window size : 0.250 (s)\n",
      "Reading c:\\Users\\afcad\\Downloads\\Sujeto2_R_processed.fif ...\n",
      "    Found the data of interest:\n",
      "        t =   -2500.00 ...    2500.00 ms\n",
      "        0 CTF compensation matrices available\n"
     ]
    },
    {
     "name": "stderr",
     "output_type": "stream",
     "text": [
      "C:\\Users\\afcad\\AppData\\Local\\Temp\\ipykernel_1044\\2538836546.py:69: RuntimeWarning: This filename (Sujeto2_R_processed.fif) does not conform to MNE naming conventions. All epochs files should end with -epo.fif, -epo.fif.gz, _epo.fif or _epo.fif.gz\n",
      "  epochs_R = mne.read_epochs(file_R, preload=True)\n"
     ]
    },
    {
     "name": "stdout",
     "output_type": "stream",
     "text": [
      "Not setting metadata\n",
      "58 matching events found\n",
      "No baseline correction applied\n",
      "0 projection items activated\n",
      "Reading c:\\Users\\afcad\\Downloads\\Sujeto2_MF_processed.fif ...\n"
     ]
    },
    {
     "name": "stderr",
     "output_type": "stream",
     "text": [
      "C:\\Users\\afcad\\AppData\\Local\\Temp\\ipykernel_1044\\2538836546.py:70: RuntimeWarning: This filename (Sujeto2_MF_processed.fif) does not conform to MNE naming conventions. All epochs files should end with -epo.fif, -epo.fif.gz, _epo.fif or _epo.fif.gz\n",
      "  epochs_MF = mne.read_epochs(file_MF, preload=True)\n"
     ]
    },
    {
     "name": "stdout",
     "output_type": "stream",
     "text": [
      "    Found the data of interest:\n",
      "        t =   -2500.00 ...    2500.00 ms\n",
      "        0 CTF compensation matrices available\n",
      "Not setting metadata\n",
      "138 matching events found\n",
      "No baseline correction applied\n",
      "0 projection items activated\n",
      "Effective window size : 0.250 (s)\n",
      "Effective window size : 0.250 (s)\n",
      "Reading c:\\Users\\afcad\\Downloads\\Sujeto3_R_processed.fif ...\n",
      "    Found the data of interest:\n",
      "        t =   -2500.00 ...    2500.00 ms\n",
      "        0 CTF compensation matrices available\n"
     ]
    },
    {
     "name": "stderr",
     "output_type": "stream",
     "text": [
      "C:\\Users\\afcad\\AppData\\Local\\Temp\\ipykernel_1044\\2538836546.py:69: RuntimeWarning: This filename (Sujeto3_R_processed.fif) does not conform to MNE naming conventions. All epochs files should end with -epo.fif, -epo.fif.gz, _epo.fif or _epo.fif.gz\n",
      "  epochs_R = mne.read_epochs(file_R, preload=True)\n"
     ]
    },
    {
     "name": "stdout",
     "output_type": "stream",
     "text": [
      "Not setting metadata\n",
      "61 matching events found\n",
      "No baseline correction applied\n",
      "0 projection items activated\n",
      "Reading c:\\Users\\afcad\\Downloads\\Sujeto3_MF_processed.fif ...\n"
     ]
    },
    {
     "name": "stderr",
     "output_type": "stream",
     "text": [
      "C:\\Users\\afcad\\AppData\\Local\\Temp\\ipykernel_1044\\2538836546.py:70: RuntimeWarning: This filename (Sujeto3_MF_processed.fif) does not conform to MNE naming conventions. All epochs files should end with -epo.fif, -epo.fif.gz, _epo.fif or _epo.fif.gz\n",
      "  epochs_MF = mne.read_epochs(file_MF, preload=True)\n"
     ]
    },
    {
     "name": "stdout",
     "output_type": "stream",
     "text": [
      "    Found the data of interest:\n",
      "        t =   -2500.00 ...    2500.00 ms\n",
      "        0 CTF compensation matrices available\n",
      "Not setting metadata\n",
      "131 matching events found\n",
      "No baseline correction applied\n",
      "0 projection items activated\n",
      "Effective window size : 0.250 (s)\n",
      "Effective window size : 0.250 (s)\n",
      "Reading c:\\Users\\afcad\\Downloads\\Sujeto4_R_processed.fif ...\n",
      "    Found the data of interest:\n",
      "        t =   -2500.00 ...    2500.00 ms\n",
      "        0 CTF compensation matrices available\n"
     ]
    },
    {
     "name": "stderr",
     "output_type": "stream",
     "text": [
      "C:\\Users\\afcad\\AppData\\Local\\Temp\\ipykernel_1044\\2538836546.py:69: RuntimeWarning: This filename (Sujeto4_R_processed.fif) does not conform to MNE naming conventions. All epochs files should end with -epo.fif, -epo.fif.gz, _epo.fif or _epo.fif.gz\n",
      "  epochs_R = mne.read_epochs(file_R, preload=True)\n"
     ]
    },
    {
     "name": "stdout",
     "output_type": "stream",
     "text": [
      "Not setting metadata\n",
      "60 matching events found\n",
      "No baseline correction applied\n",
      "0 projection items activated\n",
      "Reading c:\\Users\\afcad\\Downloads\\Sujeto4_MF_processed.fif ...\n"
     ]
    },
    {
     "name": "stderr",
     "output_type": "stream",
     "text": [
      "C:\\Users\\afcad\\AppData\\Local\\Temp\\ipykernel_1044\\2538836546.py:70: RuntimeWarning: This filename (Sujeto4_MF_processed.fif) does not conform to MNE naming conventions. All epochs files should end with -epo.fif, -epo.fif.gz, _epo.fif or _epo.fif.gz\n",
      "  epochs_MF = mne.read_epochs(file_MF, preload=True)\n"
     ]
    },
    {
     "name": "stdout",
     "output_type": "stream",
     "text": [
      "    Found the data of interest:\n",
      "        t =   -2500.00 ...    2500.00 ms\n",
      "        0 CTF compensation matrices available\n",
      "Not setting metadata\n",
      "143 matching events found\n",
      "No baseline correction applied\n",
      "0 projection items activated\n",
      "Effective window size : 0.250 (s)\n",
      "Effective window size : 0.250 (s)\n",
      "Reading c:\\Users\\afcad\\Downloads\\Sujeto5_R_processed.fif ...\n",
      "    Found the data of interest:\n",
      "        t =   -2500.00 ...    2500.00 ms\n",
      "        0 CTF compensation matrices available\n"
     ]
    },
    {
     "name": "stderr",
     "output_type": "stream",
     "text": [
      "C:\\Users\\afcad\\AppData\\Local\\Temp\\ipykernel_1044\\2538836546.py:69: RuntimeWarning: This filename (Sujeto5_R_processed.fif) does not conform to MNE naming conventions. All epochs files should end with -epo.fif, -epo.fif.gz, _epo.fif or _epo.fif.gz\n",
      "  epochs_R = mne.read_epochs(file_R, preload=True)\n"
     ]
    },
    {
     "name": "stdout",
     "output_type": "stream",
     "text": [
      "Not setting metadata\n",
      "63 matching events found\n",
      "No baseline correction applied\n",
      "0 projection items activated\n",
      "Reading c:\\Users\\afcad\\Downloads\\Sujeto5_MF_processed.fif ...\n"
     ]
    },
    {
     "name": "stderr",
     "output_type": "stream",
     "text": [
      "C:\\Users\\afcad\\AppData\\Local\\Temp\\ipykernel_1044\\2538836546.py:70: RuntimeWarning: This filename (Sujeto5_MF_processed.fif) does not conform to MNE naming conventions. All epochs files should end with -epo.fif, -epo.fif.gz, _epo.fif or _epo.fif.gz\n",
      "  epochs_MF = mne.read_epochs(file_MF, preload=True)\n"
     ]
    },
    {
     "name": "stdout",
     "output_type": "stream",
     "text": [
      "    Found the data of interest:\n",
      "        t =   -2500.00 ...    2500.00 ms\n",
      "        0 CTF compensation matrices available\n",
      "Not setting metadata\n",
      "141 matching events found\n",
      "No baseline correction applied\n",
      "0 projection items activated\n",
      "Effective window size : 0.250 (s)\n",
      "Effective window size : 0.250 (s)\n",
      "Reading c:\\Users\\afcad\\Downloads\\Sujeto6_R_processed.fif ...\n",
      "    Found the data of interest:\n",
      "        t =   -2500.00 ...    2500.00 ms\n",
      "        0 CTF compensation matrices available\n"
     ]
    },
    {
     "name": "stderr",
     "output_type": "stream",
     "text": [
      "C:\\Users\\afcad\\AppData\\Local\\Temp\\ipykernel_1044\\2538836546.py:69: RuntimeWarning: This filename (Sujeto6_R_processed.fif) does not conform to MNE naming conventions. All epochs files should end with -epo.fif, -epo.fif.gz, _epo.fif or _epo.fif.gz\n",
      "  epochs_R = mne.read_epochs(file_R, preload=True)\n"
     ]
    },
    {
     "name": "stdout",
     "output_type": "stream",
     "text": [
      "Not setting metadata\n",
      "72 matching events found\n",
      "No baseline correction applied\n",
      "0 projection items activated\n",
      "Reading c:\\Users\\afcad\\Downloads\\Sujeto6_MF_processed.fif ...\n",
      "    Found the data of interest:\n"
     ]
    },
    {
     "name": "stderr",
     "output_type": "stream",
     "text": [
      "C:\\Users\\afcad\\AppData\\Local\\Temp\\ipykernel_1044\\2538836546.py:70: RuntimeWarning: This filename (Sujeto6_MF_processed.fif) does not conform to MNE naming conventions. All epochs files should end with -epo.fif, -epo.fif.gz, _epo.fif or _epo.fif.gz\n",
      "  epochs_MF = mne.read_epochs(file_MF, preload=True)\n"
     ]
    },
    {
     "name": "stdout",
     "output_type": "stream",
     "text": [
      "        t =   -2500.00 ...    2500.00 ms\n",
      "        0 CTF compensation matrices available\n",
      "Not setting metadata\n",
      "107 matching events found\n",
      "No baseline correction applied\n",
      "0 projection items activated\n",
      "Effective window size : 0.250 (s)\n",
      "Effective window size : 0.250 (s)\n",
      "Reading c:\\Users\\afcad\\Downloads\\Sujeto7_R_processed.fif ...\n",
      "    Found the data of interest:\n",
      "        t =   -2500.00 ...    2500.00 ms\n",
      "        0 CTF compensation matrices available\n"
     ]
    },
    {
     "name": "stderr",
     "output_type": "stream",
     "text": [
      "C:\\Users\\afcad\\AppData\\Local\\Temp\\ipykernel_1044\\2538836546.py:69: RuntimeWarning: This filename (Sujeto7_R_processed.fif) does not conform to MNE naming conventions. All epochs files should end with -epo.fif, -epo.fif.gz, _epo.fif or _epo.fif.gz\n",
      "  epochs_R = mne.read_epochs(file_R, preload=True)\n"
     ]
    },
    {
     "name": "stdout",
     "output_type": "stream",
     "text": [
      "Not setting metadata\n",
      "55 matching events found\n",
      "No baseline correction applied\n",
      "0 projection items activated\n",
      "Reading c:\\Users\\afcad\\Downloads\\Sujeto7_MF_processed.fif ...\n"
     ]
    },
    {
     "name": "stderr",
     "output_type": "stream",
     "text": [
      "C:\\Users\\afcad\\AppData\\Local\\Temp\\ipykernel_1044\\2538836546.py:70: RuntimeWarning: This filename (Sujeto7_MF_processed.fif) does not conform to MNE naming conventions. All epochs files should end with -epo.fif, -epo.fif.gz, _epo.fif or _epo.fif.gz\n",
      "  epochs_MF = mne.read_epochs(file_MF, preload=True)\n"
     ]
    },
    {
     "name": "stdout",
     "output_type": "stream",
     "text": [
      "    Found the data of interest:\n",
      "        t =   -2500.00 ...    2500.00 ms\n",
      "        0 CTF compensation matrices available\n",
      "Not setting metadata\n",
      "130 matching events found\n",
      "No baseline correction applied\n",
      "0 projection items activated\n",
      "Effective window size : 0.250 (s)\n",
      "Effective window size : 0.250 (s)\n",
      "Reading c:\\Users\\afcad\\Downloads\\Sujeto8_R_processed.fif ...\n",
      "    Found the data of interest:\n",
      "        t =   -2500.00 ...    2500.00 ms\n",
      "        0 CTF compensation matrices available\n"
     ]
    },
    {
     "name": "stderr",
     "output_type": "stream",
     "text": [
      "C:\\Users\\afcad\\AppData\\Local\\Temp\\ipykernel_1044\\2538836546.py:69: RuntimeWarning: This filename (Sujeto8_R_processed.fif) does not conform to MNE naming conventions. All epochs files should end with -epo.fif, -epo.fif.gz, _epo.fif or _epo.fif.gz\n",
      "  epochs_R = mne.read_epochs(file_R, preload=True)\n"
     ]
    },
    {
     "name": "stdout",
     "output_type": "stream",
     "text": [
      "Not setting metadata\n",
      "63 matching events found\n",
      "No baseline correction applied\n",
      "0 projection items activated\n",
      "Reading c:\\Users\\afcad\\Downloads\\Sujeto8_MF_processed.fif ...\n"
     ]
    },
    {
     "name": "stderr",
     "output_type": "stream",
     "text": [
      "C:\\Users\\afcad\\AppData\\Local\\Temp\\ipykernel_1044\\2538836546.py:70: RuntimeWarning: This filename (Sujeto8_MF_processed.fif) does not conform to MNE naming conventions. All epochs files should end with -epo.fif, -epo.fif.gz, _epo.fif or _epo.fif.gz\n",
      "  epochs_MF = mne.read_epochs(file_MF, preload=True)\n"
     ]
    },
    {
     "name": "stdout",
     "output_type": "stream",
     "text": [
      "    Found the data of interest:\n",
      "        t =   -2500.00 ...    2500.00 ms\n",
      "        0 CTF compensation matrices available\n",
      "Not setting metadata\n",
      "138 matching events found\n",
      "No baseline correction applied\n",
      "0 projection items activated\n",
      "Effective window size : 0.250 (s)\n",
      "Effective window size : 0.250 (s)\n",
      "Reading c:\\Users\\afcad\\Downloads\\Sujeto9_R_processed.fif ...\n",
      "    Found the data of interest:\n",
      "        t =   -2500.00 ...    2500.00 ms\n",
      "        0 CTF compensation matrices available\n"
     ]
    },
    {
     "name": "stderr",
     "output_type": "stream",
     "text": [
      "C:\\Users\\afcad\\AppData\\Local\\Temp\\ipykernel_1044\\2538836546.py:69: RuntimeWarning: This filename (Sujeto9_R_processed.fif) does not conform to MNE naming conventions. All epochs files should end with -epo.fif, -epo.fif.gz, _epo.fif or _epo.fif.gz\n",
      "  epochs_R = mne.read_epochs(file_R, preload=True)\n"
     ]
    },
    {
     "name": "stdout",
     "output_type": "stream",
     "text": [
      "Not setting metadata\n",
      "60 matching events found\n",
      "No baseline correction applied\n",
      "0 projection items activated\n",
      "Reading c:\\Users\\afcad\\Downloads\\Sujeto9_MF_processed.fif ...\n"
     ]
    },
    {
     "name": "stderr",
     "output_type": "stream",
     "text": [
      "C:\\Users\\afcad\\AppData\\Local\\Temp\\ipykernel_1044\\2538836546.py:70: RuntimeWarning: This filename (Sujeto9_MF_processed.fif) does not conform to MNE naming conventions. All epochs files should end with -epo.fif, -epo.fif.gz, _epo.fif or _epo.fif.gz\n",
      "  epochs_MF = mne.read_epochs(file_MF, preload=True)\n"
     ]
    },
    {
     "name": "stdout",
     "output_type": "stream",
     "text": [
      "    Found the data of interest:\n",
      "        t =   -2500.00 ...    2500.00 ms\n",
      "        0 CTF compensation matrices available\n",
      "Not setting metadata\n",
      "143 matching events found\n",
      "No baseline correction applied\n",
      "0 projection items activated\n",
      "Effective window size : 0.250 (s)\n",
      "Effective window size : 0.250 (s)\n",
      "Reading c:\\Users\\afcad\\Downloads\\Sujeto10_R_processed.fif ...\n",
      "    Found the data of interest:\n",
      "        t =   -2500.00 ...    2500.00 ms\n",
      "        0 CTF compensation matrices available\n"
     ]
    },
    {
     "name": "stderr",
     "output_type": "stream",
     "text": [
      "C:\\Users\\afcad\\AppData\\Local\\Temp\\ipykernel_1044\\2538836546.py:69: RuntimeWarning: This filename (Sujeto10_R_processed.fif) does not conform to MNE naming conventions. All epochs files should end with -epo.fif, -epo.fif.gz, _epo.fif or _epo.fif.gz\n",
      "  epochs_R = mne.read_epochs(file_R, preload=True)\n"
     ]
    },
    {
     "name": "stdout",
     "output_type": "stream",
     "text": [
      "Not setting metadata\n",
      "64 matching events found\n",
      "No baseline correction applied\n",
      "0 projection items activated\n",
      "Reading c:\\Users\\afcad\\Downloads\\Sujeto10_MF_processed.fif ...\n"
     ]
    },
    {
     "name": "stderr",
     "output_type": "stream",
     "text": [
      "C:\\Users\\afcad\\AppData\\Local\\Temp\\ipykernel_1044\\2538836546.py:70: RuntimeWarning: This filename (Sujeto10_MF_processed.fif) does not conform to MNE naming conventions. All epochs files should end with -epo.fif, -epo.fif.gz, _epo.fif or _epo.fif.gz\n",
      "  epochs_MF = mne.read_epochs(file_MF, preload=True)\n"
     ]
    },
    {
     "name": "stdout",
     "output_type": "stream",
     "text": [
      "    Found the data of interest:\n",
      "        t =   -2500.00 ...    2500.00 ms\n",
      "        0 CTF compensation matrices available\n",
      "Not setting metadata\n",
      "137 matching events found\n",
      "No baseline correction applied\n",
      "0 projection items activated\n",
      "Effective window size : 0.250 (s)\n",
      "Effective window size : 0.250 (s)\n",
      "Reading c:\\Users\\afcad\\Downloads\\Sujeto11_R_processed.fif ...\n",
      "    Found the data of interest:\n",
      "        t =   -2500.00 ...    2500.00 ms\n",
      "        0 CTF compensation matrices available\n"
     ]
    },
    {
     "name": "stderr",
     "output_type": "stream",
     "text": [
      "C:\\Users\\afcad\\AppData\\Local\\Temp\\ipykernel_1044\\2538836546.py:69: RuntimeWarning: This filename (Sujeto11_R_processed.fif) does not conform to MNE naming conventions. All epochs files should end with -epo.fif, -epo.fif.gz, _epo.fif or _epo.fif.gz\n",
      "  epochs_R = mne.read_epochs(file_R, preload=True)\n"
     ]
    },
    {
     "name": "stdout",
     "output_type": "stream",
     "text": [
      "Not setting metadata\n",
      "53 matching events found\n",
      "No baseline correction applied\n",
      "0 projection items activated\n",
      "Reading c:\\Users\\afcad\\Downloads\\Sujeto11_MF_processed.fif ...\n",
      "    Found the data of interest:\n"
     ]
    },
    {
     "name": "stderr",
     "output_type": "stream",
     "text": [
      "C:\\Users\\afcad\\AppData\\Local\\Temp\\ipykernel_1044\\2538836546.py:70: RuntimeWarning: This filename (Sujeto11_MF_processed.fif) does not conform to MNE naming conventions. All epochs files should end with -epo.fif, -epo.fif.gz, _epo.fif or _epo.fif.gz\n",
      "  epochs_MF = mne.read_epochs(file_MF, preload=True)\n"
     ]
    },
    {
     "name": "stdout",
     "output_type": "stream",
     "text": [
      "        t =   -2500.00 ...    2500.00 ms\n",
      "        0 CTF compensation matrices available\n",
      "Not setting metadata\n",
      "107 matching events found\n",
      "No baseline correction applied\n",
      "0 projection items activated\n",
      "Effective window size : 0.250 (s)\n",
      "Effective window size : 0.250 (s)\n",
      "Reading c:\\Users\\afcad\\Downloads\\Sujeto13_R_processed.fif ...\n",
      "    Found the data of interest:\n",
      "        t =   -2500.00 ...    2500.00 ms\n",
      "        0 CTF compensation matrices available\n"
     ]
    },
    {
     "name": "stderr",
     "output_type": "stream",
     "text": [
      "C:\\Users\\afcad\\AppData\\Local\\Temp\\ipykernel_1044\\2538836546.py:69: RuntimeWarning: This filename (Sujeto13_R_processed.fif) does not conform to MNE naming conventions. All epochs files should end with -epo.fif, -epo.fif.gz, _epo.fif or _epo.fif.gz\n",
      "  epochs_R = mne.read_epochs(file_R, preload=True)\n"
     ]
    },
    {
     "name": "stdout",
     "output_type": "stream",
     "text": [
      "Not setting metadata\n",
      "63 matching events found\n",
      "No baseline correction applied\n",
      "0 projection items activated\n",
      "Reading c:\\Users\\afcad\\Downloads\\Sujeto13_MF_processed.fif ...\n"
     ]
    },
    {
     "name": "stderr",
     "output_type": "stream",
     "text": [
      "C:\\Users\\afcad\\AppData\\Local\\Temp\\ipykernel_1044\\2538836546.py:70: RuntimeWarning: This filename (Sujeto13_MF_processed.fif) does not conform to MNE naming conventions. All epochs files should end with -epo.fif, -epo.fif.gz, _epo.fif or _epo.fif.gz\n",
      "  epochs_MF = mne.read_epochs(file_MF, preload=True)\n"
     ]
    },
    {
     "name": "stdout",
     "output_type": "stream",
     "text": [
      "    Found the data of interest:\n",
      "        t =   -2500.00 ...    2500.00 ms\n",
      "        0 CTF compensation matrices available\n",
      "Not setting metadata\n",
      "141 matching events found\n",
      "No baseline correction applied\n",
      "0 projection items activated\n",
      "Effective window size : 0.250 (s)\n",
      "Effective window size : 0.250 (s)\n",
      "Reading c:\\Users\\afcad\\Downloads\\Sujeto14_R_processed.fif ...\n",
      "    Found the data of interest:\n",
      "        t =   -2500.00 ...    2500.00 ms\n",
      "        0 CTF compensation matrices available\n"
     ]
    },
    {
     "name": "stderr",
     "output_type": "stream",
     "text": [
      "C:\\Users\\afcad\\AppData\\Local\\Temp\\ipykernel_1044\\2538836546.py:69: RuntimeWarning: This filename (Sujeto14_R_processed.fif) does not conform to MNE naming conventions. All epochs files should end with -epo.fif, -epo.fif.gz, _epo.fif or _epo.fif.gz\n",
      "  epochs_R = mne.read_epochs(file_R, preload=True)\n"
     ]
    },
    {
     "name": "stdout",
     "output_type": "stream",
     "text": [
      "Not setting metadata\n",
      "71 matching events found\n",
      "No baseline correction applied\n",
      "0 projection items activated\n",
      "Reading c:\\Users\\afcad\\Downloads\\Sujeto14_MF_processed.fif ...\n"
     ]
    },
    {
     "name": "stderr",
     "output_type": "stream",
     "text": [
      "C:\\Users\\afcad\\AppData\\Local\\Temp\\ipykernel_1044\\2538836546.py:70: RuntimeWarning: This filename (Sujeto14_MF_processed.fif) does not conform to MNE naming conventions. All epochs files should end with -epo.fif, -epo.fif.gz, _epo.fif or _epo.fif.gz\n",
      "  epochs_MF = mne.read_epochs(file_MF, preload=True)\n"
     ]
    },
    {
     "name": "stdout",
     "output_type": "stream",
     "text": [
      "    Found the data of interest:\n",
      "        t =   -2500.00 ...    2500.00 ms\n",
      "        0 CTF compensation matrices available\n",
      "Not setting metadata\n",
      "141 matching events found\n",
      "No baseline correction applied\n",
      "0 projection items activated\n",
      "Effective window size : 0.250 (s)\n",
      "Effective window size : 0.250 (s)\n",
      "Reading c:\\Users\\afcad\\Downloads\\Sujeto15_R_processed.fif ...\n",
      "    Found the data of interest:\n",
      "        t =   -2500.00 ...    2500.00 ms\n",
      "        0 CTF compensation matrices available\n"
     ]
    },
    {
     "name": "stderr",
     "output_type": "stream",
     "text": [
      "C:\\Users\\afcad\\AppData\\Local\\Temp\\ipykernel_1044\\2538836546.py:69: RuntimeWarning: This filename (Sujeto15_R_processed.fif) does not conform to MNE naming conventions. All epochs files should end with -epo.fif, -epo.fif.gz, _epo.fif or _epo.fif.gz\n",
      "  epochs_R = mne.read_epochs(file_R, preload=True)\n"
     ]
    },
    {
     "name": "stdout",
     "output_type": "stream",
     "text": [
      "Not setting metadata\n",
      "69 matching events found\n",
      "No baseline correction applied\n",
      "0 projection items activated\n",
      "Reading c:\\Users\\afcad\\Downloads\\Sujeto15_MF_processed.fif ...\n"
     ]
    },
    {
     "name": "stderr",
     "output_type": "stream",
     "text": [
      "C:\\Users\\afcad\\AppData\\Local\\Temp\\ipykernel_1044\\2538836546.py:70: RuntimeWarning: This filename (Sujeto15_MF_processed.fif) does not conform to MNE naming conventions. All epochs files should end with -epo.fif, -epo.fif.gz, _epo.fif or _epo.fif.gz\n",
      "  epochs_MF = mne.read_epochs(file_MF, preload=True)\n"
     ]
    },
    {
     "name": "stdout",
     "output_type": "stream",
     "text": [
      "    Found the data of interest:\n",
      "        t =   -2500.00 ...    2500.00 ms\n",
      "        0 CTF compensation matrices available\n",
      "Not setting metadata\n",
      "141 matching events found\n",
      "No baseline correction applied\n",
      "0 projection items activated\n",
      "Effective window size : 0.250 (s)\n",
      "Effective window size : 0.250 (s)\n",
      "Reading c:\\Users\\afcad\\Downloads\\Sujeto16_R_processed.fif ...\n",
      "    Found the data of interest:\n",
      "        t =   -2500.00 ...    2500.00 ms\n",
      "        0 CTF compensation matrices available\n"
     ]
    },
    {
     "name": "stderr",
     "output_type": "stream",
     "text": [
      "C:\\Users\\afcad\\AppData\\Local\\Temp\\ipykernel_1044\\2538836546.py:69: RuntimeWarning: This filename (Sujeto16_R_processed.fif) does not conform to MNE naming conventions. All epochs files should end with -epo.fif, -epo.fif.gz, _epo.fif or _epo.fif.gz\n",
      "  epochs_R = mne.read_epochs(file_R, preload=True)\n"
     ]
    },
    {
     "name": "stdout",
     "output_type": "stream",
     "text": [
      "Not setting metadata\n",
      "52 matching events found\n",
      "No baseline correction applied\n",
      "0 projection items activated\n",
      "Reading c:\\Users\\afcad\\Downloads\\Sujeto16_MF_processed.fif ...\n",
      "    Found the data of interest:\n"
     ]
    },
    {
     "name": "stderr",
     "output_type": "stream",
     "text": [
      "C:\\Users\\afcad\\AppData\\Local\\Temp\\ipykernel_1044\\2538836546.py:70: RuntimeWarning: This filename (Sujeto16_MF_processed.fif) does not conform to MNE naming conventions. All epochs files should end with -epo.fif, -epo.fif.gz, _epo.fif or _epo.fif.gz\n",
      "  epochs_MF = mne.read_epochs(file_MF, preload=True)\n"
     ]
    },
    {
     "name": "stdout",
     "output_type": "stream",
     "text": [
      "        t =   -2500.00 ...    2500.00 ms\n",
      "        0 CTF compensation matrices available\n",
      "Not setting metadata\n",
      "106 matching events found\n",
      "No baseline correction applied\n",
      "0 projection items activated\n",
      "Effective window size : 0.250 (s)\n",
      "Effective window size : 0.250 (s)\n",
      "Reading c:\\Users\\afcad\\Downloads\\Sujeto17_R_processed.fif ...\n",
      "    Found the data of interest:\n",
      "        t =   -2500.00 ...    2500.00 ms\n",
      "        0 CTF compensation matrices available\n"
     ]
    },
    {
     "name": "stderr",
     "output_type": "stream",
     "text": [
      "C:\\Users\\afcad\\AppData\\Local\\Temp\\ipykernel_1044\\2538836546.py:69: RuntimeWarning: This filename (Sujeto17_R_processed.fif) does not conform to MNE naming conventions. All epochs files should end with -epo.fif, -epo.fif.gz, _epo.fif or _epo.fif.gz\n",
      "  epochs_R = mne.read_epochs(file_R, preload=True)\n"
     ]
    },
    {
     "name": "stdout",
     "output_type": "stream",
     "text": [
      "Not setting metadata\n",
      "72 matching events found\n",
      "No baseline correction applied\n",
      "0 projection items activated\n",
      "Reading c:\\Users\\afcad\\Downloads\\Sujeto17_MF_processed.fif ...\n"
     ]
    },
    {
     "name": "stderr",
     "output_type": "stream",
     "text": [
      "C:\\Users\\afcad\\AppData\\Local\\Temp\\ipykernel_1044\\2538836546.py:70: RuntimeWarning: This filename (Sujeto17_MF_processed.fif) does not conform to MNE naming conventions. All epochs files should end with -epo.fif, -epo.fif.gz, _epo.fif or _epo.fif.gz\n",
      "  epochs_MF = mne.read_epochs(file_MF, preload=True)\n"
     ]
    },
    {
     "name": "stdout",
     "output_type": "stream",
     "text": [
      "    Found the data of interest:\n",
      "        t =   -2500.00 ...    2500.00 ms\n",
      "        0 CTF compensation matrices available\n",
      "Not setting metadata\n",
      "145 matching events found\n",
      "No baseline correction applied\n",
      "0 projection items activated\n",
      "Effective window size : 0.250 (s)\n",
      "Effective window size : 0.250 (s)\n",
      "Reading c:\\Users\\afcad\\Downloads\\Sujeto18_R_processed.fif ...\n",
      "    Found the data of interest:\n",
      "        t =   -2500.00 ...    2500.00 ms\n",
      "        0 CTF compensation matrices available\n"
     ]
    },
    {
     "name": "stderr",
     "output_type": "stream",
     "text": [
      "C:\\Users\\afcad\\AppData\\Local\\Temp\\ipykernel_1044\\2538836546.py:69: RuntimeWarning: This filename (Sujeto18_R_processed.fif) does not conform to MNE naming conventions. All epochs files should end with -epo.fif, -epo.fif.gz, _epo.fif or _epo.fif.gz\n",
      "  epochs_R = mne.read_epochs(file_R, preload=True)\n"
     ]
    },
    {
     "name": "stdout",
     "output_type": "stream",
     "text": [
      "Not setting metadata\n",
      "44 matching events found\n",
      "No baseline correction applied\n",
      "0 projection items activated\n",
      "Reading c:\\Users\\afcad\\Downloads\\Sujeto18_MF_processed.fif ...\n"
     ]
    },
    {
     "name": "stderr",
     "output_type": "stream",
     "text": [
      "C:\\Users\\afcad\\AppData\\Local\\Temp\\ipykernel_1044\\2538836546.py:70: RuntimeWarning: This filename (Sujeto18_MF_processed.fif) does not conform to MNE naming conventions. All epochs files should end with -epo.fif, -epo.fif.gz, _epo.fif or _epo.fif.gz\n",
      "  epochs_MF = mne.read_epochs(file_MF, preload=True)\n"
     ]
    },
    {
     "name": "stdout",
     "output_type": "stream",
     "text": [
      "    Found the data of interest:\n",
      "        t =   -2500.00 ...    2500.00 ms\n",
      "        0 CTF compensation matrices available\n",
      "Not setting metadata\n",
      "137 matching events found\n",
      "No baseline correction applied\n",
      "0 projection items activated\n",
      "Effective window size : 0.250 (s)\n",
      "Effective window size : 0.250 (s)\n",
      "Reading c:\\Users\\afcad\\Downloads\\Sujeto19_R_processed.fif ...\n",
      "    Found the data of interest:\n",
      "        t =   -2500.00 ...    2500.00 ms\n",
      "        0 CTF compensation matrices available\n"
     ]
    },
    {
     "name": "stderr",
     "output_type": "stream",
     "text": [
      "C:\\Users\\afcad\\AppData\\Local\\Temp\\ipykernel_1044\\2538836546.py:69: RuntimeWarning: This filename (Sujeto19_R_processed.fif) does not conform to MNE naming conventions. All epochs files should end with -epo.fif, -epo.fif.gz, _epo.fif or _epo.fif.gz\n",
      "  epochs_R = mne.read_epochs(file_R, preload=True)\n"
     ]
    },
    {
     "name": "stdout",
     "output_type": "stream",
     "text": [
      "Not setting metadata\n",
      "68 matching events found\n",
      "No baseline correction applied\n",
      "0 projection items activated\n",
      "Reading c:\\Users\\afcad\\Downloads\\Sujeto19_MF_processed.fif ...\n"
     ]
    },
    {
     "name": "stderr",
     "output_type": "stream",
     "text": [
      "C:\\Users\\afcad\\AppData\\Local\\Temp\\ipykernel_1044\\2538836546.py:70: RuntimeWarning: This filename (Sujeto19_MF_processed.fif) does not conform to MNE naming conventions. All epochs files should end with -epo.fif, -epo.fif.gz, _epo.fif or _epo.fif.gz\n",
      "  epochs_MF = mne.read_epochs(file_MF, preload=True)\n"
     ]
    },
    {
     "name": "stdout",
     "output_type": "stream",
     "text": [
      "    Found the data of interest:\n",
      "        t =   -2500.00 ...    2500.00 ms\n",
      "        0 CTF compensation matrices available\n",
      "Not setting metadata\n",
      "143 matching events found\n",
      "No baseline correction applied\n",
      "0 projection items activated\n",
      "Effective window size : 0.250 (s)\n",
      "Effective window size : 0.250 (s)\n",
      "Reading c:\\Users\\afcad\\Downloads\\Sujeto20_R_processed.fif ...\n",
      "    Found the data of interest:\n",
      "        t =   -2500.00 ...    2500.00 ms\n",
      "        0 CTF compensation matrices available\n"
     ]
    },
    {
     "name": "stderr",
     "output_type": "stream",
     "text": [
      "C:\\Users\\afcad\\AppData\\Local\\Temp\\ipykernel_1044\\2538836546.py:69: RuntimeWarning: This filename (Sujeto20_R_processed.fif) does not conform to MNE naming conventions. All epochs files should end with -epo.fif, -epo.fif.gz, _epo.fif or _epo.fif.gz\n",
      "  epochs_R = mne.read_epochs(file_R, preload=True)\n"
     ]
    },
    {
     "name": "stdout",
     "output_type": "stream",
     "text": [
      "Not setting metadata\n",
      "71 matching events found\n",
      "No baseline correction applied\n",
      "0 projection items activated\n",
      "Reading c:\\Users\\afcad\\Downloads\\Sujeto20_MF_processed.fif ...\n"
     ]
    },
    {
     "name": "stderr",
     "output_type": "stream",
     "text": [
      "C:\\Users\\afcad\\AppData\\Local\\Temp\\ipykernel_1044\\2538836546.py:70: RuntimeWarning: This filename (Sujeto20_MF_processed.fif) does not conform to MNE naming conventions. All epochs files should end with -epo.fif, -epo.fif.gz, _epo.fif or _epo.fif.gz\n",
      "  epochs_MF = mne.read_epochs(file_MF, preload=True)\n"
     ]
    },
    {
     "name": "stdout",
     "output_type": "stream",
     "text": [
      "    Found the data of interest:\n",
      "        t =   -2500.00 ...    2500.00 ms\n",
      "        0 CTF compensation matrices available\n",
      "Not setting metadata\n",
      "141 matching events found\n",
      "No baseline correction applied\n",
      "0 projection items activated\n",
      "Effective window size : 0.250 (s)\n",
      "Effective window size : 0.250 (s)\n",
      "Reading c:\\Users\\afcad\\Downloads\\Sujeto21_R_processed.fif ...\n",
      "    Found the data of interest:\n",
      "        t =   -2500.00 ...    2500.00 ms\n",
      "        0 CTF compensation matrices available\n"
     ]
    },
    {
     "name": "stderr",
     "output_type": "stream",
     "text": [
      "C:\\Users\\afcad\\AppData\\Local\\Temp\\ipykernel_1044\\2538836546.py:69: RuntimeWarning: This filename (Sujeto21_R_processed.fif) does not conform to MNE naming conventions. All epochs files should end with -epo.fif, -epo.fif.gz, _epo.fif or _epo.fif.gz\n",
      "  epochs_R = mne.read_epochs(file_R, preload=True)\n"
     ]
    },
    {
     "name": "stdout",
     "output_type": "stream",
     "text": [
      "Not setting metadata\n",
      "47 matching events found\n",
      "No baseline correction applied\n",
      "0 projection items activated\n",
      "Reading c:\\Users\\afcad\\Downloads\\Sujeto21_MF_processed.fif ...\n",
      "    Found the data of interest:\n"
     ]
    },
    {
     "name": "stderr",
     "output_type": "stream",
     "text": [
      "C:\\Users\\afcad\\AppData\\Local\\Temp\\ipykernel_1044\\2538836546.py:70: RuntimeWarning: This filename (Sujeto21_MF_processed.fif) does not conform to MNE naming conventions. All epochs files should end with -epo.fif, -epo.fif.gz, _epo.fif or _epo.fif.gz\n",
      "  epochs_MF = mne.read_epochs(file_MF, preload=True)\n"
     ]
    },
    {
     "name": "stdout",
     "output_type": "stream",
     "text": [
      "        t =   -2500.00 ...    2500.00 ms\n",
      "        0 CTF compensation matrices available\n",
      "Not setting metadata\n",
      "106 matching events found\n",
      "No baseline correction applied\n",
      "0 projection items activated\n",
      "Effective window size : 0.250 (s)\n",
      "Effective window size : 0.250 (s)\n",
      "Reading c:\\Users\\afcad\\Downloads\\Sujeto22_R_processed.fif ...\n",
      "    Found the data of interest:\n",
      "        t =   -2500.00 ...    2500.00 ms\n",
      "        0 CTF compensation matrices available\n"
     ]
    },
    {
     "name": "stderr",
     "output_type": "stream",
     "text": [
      "C:\\Users\\afcad\\AppData\\Local\\Temp\\ipykernel_1044\\2538836546.py:69: RuntimeWarning: This filename (Sujeto22_R_processed.fif) does not conform to MNE naming conventions. All epochs files should end with -epo.fif, -epo.fif.gz, _epo.fif or _epo.fif.gz\n",
      "  epochs_R = mne.read_epochs(file_R, preload=True)\n"
     ]
    },
    {
     "name": "stdout",
     "output_type": "stream",
     "text": [
      "Not setting metadata\n",
      "67 matching events found\n",
      "No baseline correction applied\n",
      "0 projection items activated\n",
      "Reading c:\\Users\\afcad\\Downloads\\Sujeto22_MF_processed.fif ...\n"
     ]
    },
    {
     "name": "stderr",
     "output_type": "stream",
     "text": [
      "C:\\Users\\afcad\\AppData\\Local\\Temp\\ipykernel_1044\\2538836546.py:70: RuntimeWarning: This filename (Sujeto22_MF_processed.fif) does not conform to MNE naming conventions. All epochs files should end with -epo.fif, -epo.fif.gz, _epo.fif or _epo.fif.gz\n",
      "  epochs_MF = mne.read_epochs(file_MF, preload=True)\n"
     ]
    },
    {
     "name": "stdout",
     "output_type": "stream",
     "text": [
      "    Found the data of interest:\n",
      "        t =   -2500.00 ...    2500.00 ms\n",
      "        0 CTF compensation matrices available\n",
      "Not setting metadata\n",
      "138 matching events found\n",
      "No baseline correction applied\n",
      "0 projection items activated\n",
      "Effective window size : 0.250 (s)\n",
      "Effective window size : 0.250 (s)\n",
      "Reading c:\\Users\\afcad\\Downloads\\Sujeto23_R_processed.fif ...\n",
      "    Found the data of interest:\n",
      "        t =   -2500.00 ...    2500.00 ms\n",
      "        0 CTF compensation matrices available\n",
      "Not setting metadata\n",
      "11 matching events found\n",
      "No baseline correction applied\n",
      "0 projection items activated\n",
      "Reading c:\\Users\\afcad\\Downloads\\Sujeto23_MF_processed.fif ...\n"
     ]
    },
    {
     "name": "stderr",
     "output_type": "stream",
     "text": [
      "C:\\Users\\afcad\\AppData\\Local\\Temp\\ipykernel_1044\\2538836546.py:69: RuntimeWarning: This filename (Sujeto23_R_processed.fif) does not conform to MNE naming conventions. All epochs files should end with -epo.fif, -epo.fif.gz, _epo.fif or _epo.fif.gz\n",
      "  epochs_R = mne.read_epochs(file_R, preload=True)\n",
      "C:\\Users\\afcad\\AppData\\Local\\Temp\\ipykernel_1044\\2538836546.py:70: RuntimeWarning: This filename (Sujeto23_MF_processed.fif) does not conform to MNE naming conventions. All epochs files should end with -epo.fif, -epo.fif.gz, _epo.fif or _epo.fif.gz\n",
      "  epochs_MF = mne.read_epochs(file_MF, preload=True)\n"
     ]
    },
    {
     "name": "stdout",
     "output_type": "stream",
     "text": [
      "    Found the data of interest:\n",
      "        t =   -2500.00 ...    2500.00 ms\n",
      "        0 CTF compensation matrices available\n",
      "Not setting metadata\n",
      "125 matching events found\n",
      "No baseline correction applied\n",
      "0 projection items activated\n",
      "Effective window size : 0.250 (s)\n",
      "Effective window size : 0.250 (s)\n",
      "Reading c:\\Users\\afcad\\Downloads\\Sujeto24_R_processed.fif ...\n",
      "    Found the data of interest:\n",
      "        t =   -2500.00 ...    2500.00 ms\n",
      "        0 CTF compensation matrices available\n"
     ]
    },
    {
     "name": "stderr",
     "output_type": "stream",
     "text": [
      "C:\\Users\\afcad\\AppData\\Local\\Temp\\ipykernel_1044\\2538836546.py:69: RuntimeWarning: This filename (Sujeto24_R_processed.fif) does not conform to MNE naming conventions. All epochs files should end with -epo.fif, -epo.fif.gz, _epo.fif or _epo.fif.gz\n",
      "  epochs_R = mne.read_epochs(file_R, preload=True)\n"
     ]
    },
    {
     "name": "stdout",
     "output_type": "stream",
     "text": [
      "Not setting metadata\n",
      "61 matching events found\n",
      "No baseline correction applied\n",
      "0 projection items activated\n",
      "Reading c:\\Users\\afcad\\Downloads\\Sujeto24_MF_processed.fif ...\n"
     ]
    },
    {
     "name": "stderr",
     "output_type": "stream",
     "text": [
      "C:\\Users\\afcad\\AppData\\Local\\Temp\\ipykernel_1044\\2538836546.py:70: RuntimeWarning: This filename (Sujeto24_MF_processed.fif) does not conform to MNE naming conventions. All epochs files should end with -epo.fif, -epo.fif.gz, _epo.fif or _epo.fif.gz\n",
      "  epochs_MF = mne.read_epochs(file_MF, preload=True)\n"
     ]
    },
    {
     "name": "stdout",
     "output_type": "stream",
     "text": [
      "    Found the data of interest:\n",
      "        t =   -2500.00 ...    2500.00 ms\n",
      "        0 CTF compensation matrices available\n",
      "Not setting metadata\n",
      "132 matching events found\n",
      "No baseline correction applied\n",
      "0 projection items activated\n",
      "Effective window size : 0.250 (s)\n",
      "Effective window size : 0.250 (s)\n",
      "Reading c:\\Users\\afcad\\Downloads\\Sujeto25_R_processed.fif ...\n",
      "    Found the data of interest:\n"
     ]
    },
    {
     "name": "stderr",
     "output_type": "stream",
     "text": [
      "C:\\Users\\afcad\\AppData\\Local\\Temp\\ipykernel_1044\\2538836546.py:69: RuntimeWarning: This filename (Sujeto25_R_processed.fif) does not conform to MNE naming conventions. All epochs files should end with -epo.fif, -epo.fif.gz, _epo.fif or _epo.fif.gz\n",
      "  epochs_R = mne.read_epochs(file_R, preload=True)\n"
     ]
    },
    {
     "name": "stdout",
     "output_type": "stream",
     "text": [
      "        t =   -2500.00 ...    2500.00 ms\n",
      "        0 CTF compensation matrices available\n",
      "Not setting metadata\n",
      "70 matching events found\n",
      "No baseline correction applied\n",
      "0 projection items activated\n",
      "Reading c:\\Users\\afcad\\Downloads\\Sujeto25_MF_processed.fif ...\n"
     ]
    },
    {
     "name": "stderr",
     "output_type": "stream",
     "text": [
      "C:\\Users\\afcad\\AppData\\Local\\Temp\\ipykernel_1044\\2538836546.py:70: RuntimeWarning: This filename (Sujeto25_MF_processed.fif) does not conform to MNE naming conventions. All epochs files should end with -epo.fif, -epo.fif.gz, _epo.fif or _epo.fif.gz\n",
      "  epochs_MF = mne.read_epochs(file_MF, preload=True)\n"
     ]
    },
    {
     "name": "stdout",
     "output_type": "stream",
     "text": [
      "    Found the data of interest:\n",
      "        t =   -2500.00 ...    2500.00 ms\n",
      "        0 CTF compensation matrices available\n",
      "Not setting metadata\n",
      "140 matching events found\n",
      "No baseline correction applied\n",
      "0 projection items activated\n",
      "Effective window size : 0.250 (s)\n",
      "Effective window size : 0.250 (s)\n",
      "Reading c:\\Users\\afcad\\Downloads\\Sujeto26_R_processed.fif ...\n",
      "    Found the data of interest:\n",
      "        t =   -2500.00 ...    2500.00 ms\n",
      "        0 CTF compensation matrices available\n"
     ]
    },
    {
     "name": "stderr",
     "output_type": "stream",
     "text": [
      "C:\\Users\\afcad\\AppData\\Local\\Temp\\ipykernel_1044\\2538836546.py:69: RuntimeWarning: This filename (Sujeto26_R_processed.fif) does not conform to MNE naming conventions. All epochs files should end with -epo.fif, -epo.fif.gz, _epo.fif or _epo.fif.gz\n",
      "  epochs_R = mne.read_epochs(file_R, preload=True)\n"
     ]
    },
    {
     "name": "stdout",
     "output_type": "stream",
     "text": [
      "Not setting metadata\n",
      "63 matching events found\n",
      "No baseline correction applied\n",
      "0 projection items activated\n",
      "Reading c:\\Users\\afcad\\Downloads\\Sujeto26_MF_processed.fif ...\n",
      "    Found the data of interest:\n",
      "        t =   -2500.00 ...    2500.00 ms\n",
      "        0 CTF compensation matrices available\n"
     ]
    },
    {
     "name": "stderr",
     "output_type": "stream",
     "text": [
      "C:\\Users\\afcad\\AppData\\Local\\Temp\\ipykernel_1044\\2538836546.py:70: RuntimeWarning: This filename (Sujeto26_MF_processed.fif) does not conform to MNE naming conventions. All epochs files should end with -epo.fif, -epo.fif.gz, _epo.fif or _epo.fif.gz\n",
      "  epochs_MF = mne.read_epochs(file_MF, preload=True)\n"
     ]
    },
    {
     "name": "stdout",
     "output_type": "stream",
     "text": [
      "Not setting metadata\n",
      "74 matching events found\n",
      "No baseline correction applied\n",
      "0 projection items activated\n",
      "Effective window size : 0.250 (s)\n",
      "Effective window size : 0.250 (s)\n",
      "Reading c:\\Users\\afcad\\Downloads\\Sujeto27_R_processed.fif ...\n",
      "    Found the data of interest:\n",
      "        t =   -2500.00 ...    2500.00 ms\n",
      "        0 CTF compensation matrices available\n"
     ]
    },
    {
     "name": "stderr",
     "output_type": "stream",
     "text": [
      "C:\\Users\\afcad\\AppData\\Local\\Temp\\ipykernel_1044\\2538836546.py:69: RuntimeWarning: This filename (Sujeto27_R_processed.fif) does not conform to MNE naming conventions. All epochs files should end with -epo.fif, -epo.fif.gz, _epo.fif or _epo.fif.gz\n",
      "  epochs_R = mne.read_epochs(file_R, preload=True)\n"
     ]
    },
    {
     "name": "stdout",
     "output_type": "stream",
     "text": [
      "Not setting metadata\n",
      "64 matching events found\n",
      "No baseline correction applied\n",
      "0 projection items activated\n",
      "Reading c:\\Users\\afcad\\Downloads\\Sujeto27_MF_processed.fif ...\n",
      "    Found the data of interest:\n"
     ]
    },
    {
     "name": "stderr",
     "output_type": "stream",
     "text": [
      "C:\\Users\\afcad\\AppData\\Local\\Temp\\ipykernel_1044\\2538836546.py:70: RuntimeWarning: This filename (Sujeto27_MF_processed.fif) does not conform to MNE naming conventions. All epochs files should end with -epo.fif, -epo.fif.gz, _epo.fif or _epo.fif.gz\n",
      "  epochs_MF = mne.read_epochs(file_MF, preload=True)\n"
     ]
    },
    {
     "name": "stdout",
     "output_type": "stream",
     "text": [
      "        t =   -2500.00 ...    2500.00 ms\n",
      "        0 CTF compensation matrices available\n",
      "Not setting metadata\n",
      "70 matching events found\n",
      "No baseline correction applied\n",
      "0 projection items activated\n",
      "Effective window size : 0.250 (s)\n",
      "Effective window size : 0.250 (s)\n",
      "Reading c:\\Users\\afcad\\Downloads\\Sujeto28_R_processed.fif ...\n",
      "    Found the data of interest:\n",
      "        t =   -2500.00 ...    2500.00 ms\n",
      "        0 CTF compensation matrices available\n"
     ]
    },
    {
     "name": "stderr",
     "output_type": "stream",
     "text": [
      "C:\\Users\\afcad\\AppData\\Local\\Temp\\ipykernel_1044\\2538836546.py:69: RuntimeWarning: This filename (Sujeto28_R_processed.fif) does not conform to MNE naming conventions. All epochs files should end with -epo.fif, -epo.fif.gz, _epo.fif or _epo.fif.gz\n",
      "  epochs_R = mne.read_epochs(file_R, preload=True)\n"
     ]
    },
    {
     "name": "stdout",
     "output_type": "stream",
     "text": [
      "Not setting metadata\n",
      "55 matching events found\n",
      "No baseline correction applied\n",
      "0 projection items activated\n",
      "Reading c:\\Users\\afcad\\Downloads\\Sujeto28_MF_processed.fif ...\n"
     ]
    },
    {
     "name": "stderr",
     "output_type": "stream",
     "text": [
      "C:\\Users\\afcad\\AppData\\Local\\Temp\\ipykernel_1044\\2538836546.py:70: RuntimeWarning: This filename (Sujeto28_MF_processed.fif) does not conform to MNE naming conventions. All epochs files should end with -epo.fif, -epo.fif.gz, _epo.fif or _epo.fif.gz\n",
      "  epochs_MF = mne.read_epochs(file_MF, preload=True)\n"
     ]
    },
    {
     "name": "stdout",
     "output_type": "stream",
     "text": [
      "    Found the data of interest:\n",
      "        t =   -2500.00 ...    2500.00 ms\n",
      "        0 CTF compensation matrices available\n",
      "Not setting metadata\n",
      "114 matching events found\n",
      "No baseline correction applied\n",
      "0 projection items activated\n",
      "Effective window size : 0.250 (s)\n",
      "Effective window size : 0.250 (s)\n",
      "Reading c:\\Users\\afcad\\Downloads\\Sujeto29_R_processed.fif ...\n",
      "    Found the data of interest:\n",
      "        t =   -2500.00 ...    2500.00 ms\n",
      "        0 CTF compensation matrices available\n"
     ]
    },
    {
     "name": "stderr",
     "output_type": "stream",
     "text": [
      "C:\\Users\\afcad\\AppData\\Local\\Temp\\ipykernel_1044\\2538836546.py:69: RuntimeWarning: This filename (Sujeto29_R_processed.fif) does not conform to MNE naming conventions. All epochs files should end with -epo.fif, -epo.fif.gz, _epo.fif or _epo.fif.gz\n",
      "  epochs_R = mne.read_epochs(file_R, preload=True)\n"
     ]
    },
    {
     "name": "stdout",
     "output_type": "stream",
     "text": [
      "Not setting metadata\n",
      "68 matching events found\n",
      "No baseline correction applied\n",
      "0 projection items activated\n",
      "Reading c:\\Users\\afcad\\Downloads\\Sujeto29_MF_processed.fif ...\n"
     ]
    },
    {
     "name": "stderr",
     "output_type": "stream",
     "text": [
      "C:\\Users\\afcad\\AppData\\Local\\Temp\\ipykernel_1044\\2538836546.py:70: RuntimeWarning: This filename (Sujeto29_MF_processed.fif) does not conform to MNE naming conventions. All epochs files should end with -epo.fif, -epo.fif.gz, _epo.fif or _epo.fif.gz\n",
      "  epochs_MF = mne.read_epochs(file_MF, preload=True)\n"
     ]
    },
    {
     "name": "stdout",
     "output_type": "stream",
     "text": [
      "    Found the data of interest:\n",
      "        t =   -2500.00 ...    2500.00 ms\n",
      "        0 CTF compensation matrices available\n",
      "Not setting metadata\n",
      "145 matching events found\n",
      "No baseline correction applied\n",
      "0 projection items activated\n",
      "Effective window size : 0.250 (s)\n",
      "Effective window size : 0.250 (s)\n",
      "Reading c:\\Users\\afcad\\Downloads\\Sujeto30_R_processed.fif ...\n",
      "    Found the data of interest:\n",
      "        t =   -2500.00 ...    2500.00 ms\n",
      "        0 CTF compensation matrices available\n"
     ]
    },
    {
     "name": "stderr",
     "output_type": "stream",
     "text": [
      "C:\\Users\\afcad\\AppData\\Local\\Temp\\ipykernel_1044\\2538836546.py:69: RuntimeWarning: This filename (Sujeto30_R_processed.fif) does not conform to MNE naming conventions. All epochs files should end with -epo.fif, -epo.fif.gz, _epo.fif or _epo.fif.gz\n",
      "  epochs_R = mne.read_epochs(file_R, preload=True)\n"
     ]
    },
    {
     "name": "stdout",
     "output_type": "stream",
     "text": [
      "Not setting metadata\n",
      "69 matching events found\n",
      "No baseline correction applied\n",
      "0 projection items activated\n",
      "Reading c:\\Users\\afcad\\Downloads\\Sujeto30_MF_processed.fif ...\n"
     ]
    },
    {
     "name": "stderr",
     "output_type": "stream",
     "text": [
      "C:\\Users\\afcad\\AppData\\Local\\Temp\\ipykernel_1044\\2538836546.py:70: RuntimeWarning: This filename (Sujeto30_MF_processed.fif) does not conform to MNE naming conventions. All epochs files should end with -epo.fif, -epo.fif.gz, _epo.fif or _epo.fif.gz\n",
      "  epochs_MF = mne.read_epochs(file_MF, preload=True)\n"
     ]
    },
    {
     "name": "stdout",
     "output_type": "stream",
     "text": [
      "    Found the data of interest:\n",
      "        t =   -2500.00 ...    2500.00 ms\n",
      "        0 CTF compensation matrices available\n",
      "Not setting metadata\n",
      "124 matching events found\n",
      "No baseline correction applied\n",
      "0 projection items activated\n",
      "Effective window size : 0.250 (s)\n",
      "Effective window size : 0.250 (s)\n",
      "Reading c:\\Users\\afcad\\Downloads\\Sujeto31_R_processed.fif ...\n",
      "    Found the data of interest:\n",
      "        t =   -2500.00 ...    2500.00 ms\n",
      "        0 CTF compensation matrices available\n"
     ]
    },
    {
     "name": "stderr",
     "output_type": "stream",
     "text": [
      "C:\\Users\\afcad\\AppData\\Local\\Temp\\ipykernel_1044\\2538836546.py:69: RuntimeWarning: This filename (Sujeto31_R_processed.fif) does not conform to MNE naming conventions. All epochs files should end with -epo.fif, -epo.fif.gz, _epo.fif or _epo.fif.gz\n",
      "  epochs_R = mne.read_epochs(file_R, preload=True)\n"
     ]
    },
    {
     "name": "stdout",
     "output_type": "stream",
     "text": [
      "Not setting metadata\n",
      "61 matching events found\n",
      "No baseline correction applied\n",
      "0 projection items activated\n",
      "Reading c:\\Users\\afcad\\Downloads\\Sujeto31_MF_processed.fif ...\n"
     ]
    },
    {
     "name": "stderr",
     "output_type": "stream",
     "text": [
      "C:\\Users\\afcad\\AppData\\Local\\Temp\\ipykernel_1044\\2538836546.py:70: RuntimeWarning: This filename (Sujeto31_MF_processed.fif) does not conform to MNE naming conventions. All epochs files should end with -epo.fif, -epo.fif.gz, _epo.fif or _epo.fif.gz\n",
      "  epochs_MF = mne.read_epochs(file_MF, preload=True)\n"
     ]
    },
    {
     "name": "stdout",
     "output_type": "stream",
     "text": [
      "    Found the data of interest:\n",
      "        t =   -2500.00 ...    2500.00 ms\n",
      "        0 CTF compensation matrices available\n",
      "Not setting metadata\n",
      "140 matching events found\n",
      "No baseline correction applied\n",
      "0 projection items activated\n",
      "Effective window size : 0.250 (s)\n",
      "Effective window size : 0.250 (s)\n",
      "Reading c:\\Users\\afcad\\Downloads\\Sujeto32_R_processed.fif ...\n",
      "    Found the data of interest:\n",
      "        t =   -2500.00 ...    2500.00 ms\n"
     ]
    },
    {
     "name": "stderr",
     "output_type": "stream",
     "text": [
      "C:\\Users\\afcad\\AppData\\Local\\Temp\\ipykernel_1044\\2538836546.py:69: RuntimeWarning: This filename (Sujeto32_R_processed.fif) does not conform to MNE naming conventions. All epochs files should end with -epo.fif, -epo.fif.gz, _epo.fif or _epo.fif.gz\n",
      "  epochs_R = mne.read_epochs(file_R, preload=True)\n"
     ]
    },
    {
     "name": "stdout",
     "output_type": "stream",
     "text": [
      "        0 CTF compensation matrices available\n",
      "Not setting metadata\n",
      "70 matching events found\n",
      "No baseline correction applied\n",
      "0 projection items activated\n",
      "Reading c:\\Users\\afcad\\Downloads\\Sujeto32_MF_processed.fif ...\n"
     ]
    },
    {
     "name": "stderr",
     "output_type": "stream",
     "text": [
      "C:\\Users\\afcad\\AppData\\Local\\Temp\\ipykernel_1044\\2538836546.py:70: RuntimeWarning: This filename (Sujeto32_MF_processed.fif) does not conform to MNE naming conventions. All epochs files should end with -epo.fif, -epo.fif.gz, _epo.fif or _epo.fif.gz\n",
      "  epochs_MF = mne.read_epochs(file_MF, preload=True)\n"
     ]
    },
    {
     "name": "stdout",
     "output_type": "stream",
     "text": [
      "    Found the data of interest:\n",
      "        t =   -2500.00 ...    2500.00 ms\n",
      "        0 CTF compensation matrices available\n",
      "Not setting metadata\n",
      "127 matching events found\n",
      "No baseline correction applied\n",
      "0 projection items activated\n",
      "Effective window size : 0.250 (s)\n",
      "Effective window size : 0.250 (s)\n",
      "Reading c:\\Users\\afcad\\Downloads\\Sujeto36_R_processed.fif ...\n",
      "    Found the data of interest:\n",
      "        t =   -2500.00 ...    2500.00 ms\n",
      "        0 CTF compensation matrices available\n"
     ]
    },
    {
     "name": "stderr",
     "output_type": "stream",
     "text": [
      "C:\\Users\\afcad\\AppData\\Local\\Temp\\ipykernel_1044\\2538836546.py:69: RuntimeWarning: This filename (Sujeto36_R_processed.fif) does not conform to MNE naming conventions. All epochs files should end with -epo.fif, -epo.fif.gz, _epo.fif or _epo.fif.gz\n",
      "  epochs_R = mne.read_epochs(file_R, preload=True)\n"
     ]
    },
    {
     "name": "stdout",
     "output_type": "stream",
     "text": [
      "Not setting metadata\n",
      "61 matching events found\n",
      "No baseline correction applied\n",
      "0 projection items activated\n",
      "Reading c:\\Users\\afcad\\Downloads\\Sujeto36_MF_processed.fif ...\n"
     ]
    },
    {
     "name": "stderr",
     "output_type": "stream",
     "text": [
      "C:\\Users\\afcad\\AppData\\Local\\Temp\\ipykernel_1044\\2538836546.py:70: RuntimeWarning: This filename (Sujeto36_MF_processed.fif) does not conform to MNE naming conventions. All epochs files should end with -epo.fif, -epo.fif.gz, _epo.fif or _epo.fif.gz\n",
      "  epochs_MF = mne.read_epochs(file_MF, preload=True)\n"
     ]
    },
    {
     "name": "stdout",
     "output_type": "stream",
     "text": [
      "    Found the data of interest:\n",
      "        t =   -2500.00 ...    2500.00 ms\n",
      "        0 CTF compensation matrices available\n",
      "Not setting metadata\n",
      "133 matching events found\n",
      "No baseline correction applied\n",
      "0 projection items activated\n",
      "Effective window size : 0.250 (s)\n",
      "Effective window size : 0.250 (s)\n",
      "Reading c:\\Users\\afcad\\Downloads\\Sujeto37_R_processed.fif ...\n",
      "    Found the data of interest:\n",
      "        t =   -2500.00 ...    2500.00 ms\n",
      "        0 CTF compensation matrices available\n"
     ]
    },
    {
     "name": "stderr",
     "output_type": "stream",
     "text": [
      "C:\\Users\\afcad\\AppData\\Local\\Temp\\ipykernel_1044\\2538836546.py:69: RuntimeWarning: This filename (Sujeto37_R_processed.fif) does not conform to MNE naming conventions. All epochs files should end with -epo.fif, -epo.fif.gz, _epo.fif or _epo.fif.gz\n",
      "  epochs_R = mne.read_epochs(file_R, preload=True)\n"
     ]
    },
    {
     "name": "stdout",
     "output_type": "stream",
     "text": [
      "Not setting metadata\n",
      "71 matching events found\n",
      "No baseline correction applied\n",
      "0 projection items activated\n",
      "Reading c:\\Users\\afcad\\Downloads\\Sujeto37_MF_processed.fif ...\n"
     ]
    },
    {
     "name": "stderr",
     "output_type": "stream",
     "text": [
      "C:\\Users\\afcad\\AppData\\Local\\Temp\\ipykernel_1044\\2538836546.py:70: RuntimeWarning: This filename (Sujeto37_MF_processed.fif) does not conform to MNE naming conventions. All epochs files should end with -epo.fif, -epo.fif.gz, _epo.fif or _epo.fif.gz\n",
      "  epochs_MF = mne.read_epochs(file_MF, preload=True)\n"
     ]
    },
    {
     "name": "stdout",
     "output_type": "stream",
     "text": [
      "    Found the data of interest:\n",
      "        t =   -2500.00 ...    2500.00 ms\n",
      "        0 CTF compensation matrices available\n",
      "Not setting metadata\n",
      "141 matching events found\n",
      "No baseline correction applied\n",
      "0 projection items activated\n",
      "Effective window size : 0.250 (s)\n",
      "Effective window size : 0.250 (s)\n",
      "Resting - Alpha (8–12 Hz): 0 significant channels (p < 0.05)\n",
      "Mindfulness - Alpha (8–12 Hz): 0 significant channels (p < 0.05)\n",
      "Difference (MF - R) - Alpha (8–12 Hz): 0 significant channels (p < 0.05)\n",
      "Reading c:\\Users\\afcad\\Downloads\\Sujeto1_R_processed.fif ...\n",
      "    Found the data of interest:\n",
      "        t =   -2500.00 ...    2500.00 ms\n",
      "        0 CTF compensation matrices available\n"
     ]
    },
    {
     "name": "stderr",
     "output_type": "stream",
     "text": [
      "C:\\Users\\afcad\\AppData\\Local\\Temp\\ipykernel_1044\\2538836546.py:69: RuntimeWarning: This filename (Sujeto1_R_processed.fif) does not conform to MNE naming conventions. All epochs files should end with -epo.fif, -epo.fif.gz, _epo.fif or _epo.fif.gz\n",
      "  epochs_R = mne.read_epochs(file_R, preload=True)\n"
     ]
    },
    {
     "name": "stdout",
     "output_type": "stream",
     "text": [
      "Not setting metadata\n",
      "68 matching events found\n",
      "No baseline correction applied\n",
      "0 projection items activated\n",
      "Reading c:\\Users\\afcad\\Downloads\\Sujeto1_MF_processed.fif ...\n"
     ]
    },
    {
     "name": "stderr",
     "output_type": "stream",
     "text": [
      "C:\\Users\\afcad\\AppData\\Local\\Temp\\ipykernel_1044\\2538836546.py:70: RuntimeWarning: This filename (Sujeto1_MF_processed.fif) does not conform to MNE naming conventions. All epochs files should end with -epo.fif, -epo.fif.gz, _epo.fif or _epo.fif.gz\n",
      "  epochs_MF = mne.read_epochs(file_MF, preload=True)\n"
     ]
    },
    {
     "name": "stdout",
     "output_type": "stream",
     "text": [
      "    Found the data of interest:\n",
      "        t =   -2500.00 ...    2500.00 ms\n",
      "        0 CTF compensation matrices available\n",
      "Not setting metadata\n",
      "145 matching events found\n",
      "No baseline correction applied\n",
      "0 projection items activated\n",
      "Effective window size : 0.250 (s)\n",
      "Effective window size : 0.250 (s)\n",
      "Reading c:\\Users\\afcad\\Downloads\\Sujeto2_R_processed.fif ...\n",
      "    Found the data of interest:\n",
      "        t =   -2500.00 ...    2500.00 ms\n",
      "        0 CTF compensation matrices available\n"
     ]
    },
    {
     "name": "stderr",
     "output_type": "stream",
     "text": [
      "C:\\Users\\afcad\\AppData\\Local\\Temp\\ipykernel_1044\\2538836546.py:69: RuntimeWarning: This filename (Sujeto2_R_processed.fif) does not conform to MNE naming conventions. All epochs files should end with -epo.fif, -epo.fif.gz, _epo.fif or _epo.fif.gz\n",
      "  epochs_R = mne.read_epochs(file_R, preload=True)\n"
     ]
    },
    {
     "name": "stdout",
     "output_type": "stream",
     "text": [
      "Not setting metadata\n",
      "58 matching events found\n",
      "No baseline correction applied\n",
      "0 projection items activated\n",
      "Reading c:\\Users\\afcad\\Downloads\\Sujeto2_MF_processed.fif ...\n"
     ]
    },
    {
     "name": "stderr",
     "output_type": "stream",
     "text": [
      "C:\\Users\\afcad\\AppData\\Local\\Temp\\ipykernel_1044\\2538836546.py:70: RuntimeWarning: This filename (Sujeto2_MF_processed.fif) does not conform to MNE naming conventions. All epochs files should end with -epo.fif, -epo.fif.gz, _epo.fif or _epo.fif.gz\n",
      "  epochs_MF = mne.read_epochs(file_MF, preload=True)\n"
     ]
    },
    {
     "name": "stdout",
     "output_type": "stream",
     "text": [
      "    Found the data of interest:\n",
      "        t =   -2500.00 ...    2500.00 ms\n",
      "        0 CTF compensation matrices available\n",
      "Not setting metadata\n",
      "138 matching events found\n",
      "No baseline correction applied\n",
      "0 projection items activated\n",
      "Effective window size : 0.250 (s)\n",
      "Effective window size : 0.250 (s)\n",
      "Reading c:\\Users\\afcad\\Downloads\\Sujeto3_R_processed.fif ...\n",
      "    Found the data of interest:\n",
      "        t =   -2500.00 ...    2500.00 ms\n",
      "        0 CTF compensation matrices available\n"
     ]
    },
    {
     "name": "stderr",
     "output_type": "stream",
     "text": [
      "C:\\Users\\afcad\\AppData\\Local\\Temp\\ipykernel_1044\\2538836546.py:69: RuntimeWarning: This filename (Sujeto3_R_processed.fif) does not conform to MNE naming conventions. All epochs files should end with -epo.fif, -epo.fif.gz, _epo.fif or _epo.fif.gz\n",
      "  epochs_R = mne.read_epochs(file_R, preload=True)\n"
     ]
    },
    {
     "name": "stdout",
     "output_type": "stream",
     "text": [
      "Not setting metadata\n",
      "61 matching events found\n",
      "No baseline correction applied\n",
      "0 projection items activated\n",
      "Reading c:\\Users\\afcad\\Downloads\\Sujeto3_MF_processed.fif ...\n"
     ]
    },
    {
     "name": "stderr",
     "output_type": "stream",
     "text": [
      "C:\\Users\\afcad\\AppData\\Local\\Temp\\ipykernel_1044\\2538836546.py:70: RuntimeWarning: This filename (Sujeto3_MF_processed.fif) does not conform to MNE naming conventions. All epochs files should end with -epo.fif, -epo.fif.gz, _epo.fif or _epo.fif.gz\n",
      "  epochs_MF = mne.read_epochs(file_MF, preload=True)\n"
     ]
    },
    {
     "name": "stdout",
     "output_type": "stream",
     "text": [
      "    Found the data of interest:\n",
      "        t =   -2500.00 ...    2500.00 ms\n",
      "        0 CTF compensation matrices available\n",
      "Not setting metadata\n",
      "131 matching events found\n",
      "No baseline correction applied\n",
      "0 projection items activated\n",
      "Effective window size : 0.250 (s)\n",
      "Effective window size : 0.250 (s)\n",
      "Reading c:\\Users\\afcad\\Downloads\\Sujeto4_R_processed.fif ...\n",
      "    Found the data of interest:\n",
      "        t =   -2500.00 ...    2500.00 ms\n",
      "        0 CTF compensation matrices available\n"
     ]
    },
    {
     "name": "stderr",
     "output_type": "stream",
     "text": [
      "C:\\Users\\afcad\\AppData\\Local\\Temp\\ipykernel_1044\\2538836546.py:69: RuntimeWarning: This filename (Sujeto4_R_processed.fif) does not conform to MNE naming conventions. All epochs files should end with -epo.fif, -epo.fif.gz, _epo.fif or _epo.fif.gz\n",
      "  epochs_R = mne.read_epochs(file_R, preload=True)\n"
     ]
    },
    {
     "name": "stdout",
     "output_type": "stream",
     "text": [
      "Not setting metadata\n",
      "60 matching events found\n",
      "No baseline correction applied\n",
      "0 projection items activated\n",
      "Reading c:\\Users\\afcad\\Downloads\\Sujeto4_MF_processed.fif ...\n"
     ]
    },
    {
     "name": "stderr",
     "output_type": "stream",
     "text": [
      "C:\\Users\\afcad\\AppData\\Local\\Temp\\ipykernel_1044\\2538836546.py:70: RuntimeWarning: This filename (Sujeto4_MF_processed.fif) does not conform to MNE naming conventions. All epochs files should end with -epo.fif, -epo.fif.gz, _epo.fif or _epo.fif.gz\n",
      "  epochs_MF = mne.read_epochs(file_MF, preload=True)\n"
     ]
    },
    {
     "name": "stdout",
     "output_type": "stream",
     "text": [
      "    Found the data of interest:\n",
      "        t =   -2500.00 ...    2500.00 ms\n",
      "        0 CTF compensation matrices available\n",
      "Not setting metadata\n",
      "143 matching events found\n",
      "No baseline correction applied\n",
      "0 projection items activated\n",
      "Effective window size : 0.250 (s)\n",
      "Effective window size : 0.250 (s)\n",
      "Reading c:\\Users\\afcad\\Downloads\\Sujeto5_R_processed.fif ...\n",
      "    Found the data of interest:\n",
      "        t =   -2500.00 ...    2500.00 ms\n",
      "        0 CTF compensation matrices available\n"
     ]
    },
    {
     "name": "stderr",
     "output_type": "stream",
     "text": [
      "C:\\Users\\afcad\\AppData\\Local\\Temp\\ipykernel_1044\\2538836546.py:69: RuntimeWarning: This filename (Sujeto5_R_processed.fif) does not conform to MNE naming conventions. All epochs files should end with -epo.fif, -epo.fif.gz, _epo.fif or _epo.fif.gz\n",
      "  epochs_R = mne.read_epochs(file_R, preload=True)\n"
     ]
    },
    {
     "name": "stdout",
     "output_type": "stream",
     "text": [
      "Not setting metadata\n",
      "63 matching events found\n",
      "No baseline correction applied\n",
      "0 projection items activated\n",
      "Reading c:\\Users\\afcad\\Downloads\\Sujeto5_MF_processed.fif ...\n"
     ]
    },
    {
     "name": "stderr",
     "output_type": "stream",
     "text": [
      "C:\\Users\\afcad\\AppData\\Local\\Temp\\ipykernel_1044\\2538836546.py:70: RuntimeWarning: This filename (Sujeto5_MF_processed.fif) does not conform to MNE naming conventions. All epochs files should end with -epo.fif, -epo.fif.gz, _epo.fif or _epo.fif.gz\n",
      "  epochs_MF = mne.read_epochs(file_MF, preload=True)\n"
     ]
    },
    {
     "name": "stdout",
     "output_type": "stream",
     "text": [
      "    Found the data of interest:\n",
      "        t =   -2500.00 ...    2500.00 ms\n",
      "        0 CTF compensation matrices available\n",
      "Not setting metadata\n",
      "141 matching events found\n",
      "No baseline correction applied\n",
      "0 projection items activated\n",
      "Effective window size : 0.250 (s)\n",
      "Effective window size : 0.250 (s)\n",
      "Reading c:\\Users\\afcad\\Downloads\\Sujeto6_R_processed.fif ...\n",
      "    Found the data of interest:\n",
      "        t =   -2500.00 ...    2500.00 ms\n",
      "        0 CTF compensation matrices available\n"
     ]
    },
    {
     "name": "stderr",
     "output_type": "stream",
     "text": [
      "C:\\Users\\afcad\\AppData\\Local\\Temp\\ipykernel_1044\\2538836546.py:69: RuntimeWarning: This filename (Sujeto6_R_processed.fif) does not conform to MNE naming conventions. All epochs files should end with -epo.fif, -epo.fif.gz, _epo.fif or _epo.fif.gz\n",
      "  epochs_R = mne.read_epochs(file_R, preload=True)\n"
     ]
    },
    {
     "name": "stdout",
     "output_type": "stream",
     "text": [
      "Not setting metadata\n",
      "72 matching events found\n",
      "No baseline correction applied\n",
      "0 projection items activated\n",
      "Reading c:\\Users\\afcad\\Downloads\\Sujeto6_MF_processed.fif ...\n"
     ]
    },
    {
     "name": "stderr",
     "output_type": "stream",
     "text": [
      "C:\\Users\\afcad\\AppData\\Local\\Temp\\ipykernel_1044\\2538836546.py:70: RuntimeWarning: This filename (Sujeto6_MF_processed.fif) does not conform to MNE naming conventions. All epochs files should end with -epo.fif, -epo.fif.gz, _epo.fif or _epo.fif.gz\n",
      "  epochs_MF = mne.read_epochs(file_MF, preload=True)\n"
     ]
    },
    {
     "name": "stdout",
     "output_type": "stream",
     "text": [
      "    Found the data of interest:\n",
      "        t =   -2500.00 ...    2500.00 ms\n",
      "        0 CTF compensation matrices available\n",
      "Not setting metadata\n",
      "107 matching events found\n",
      "No baseline correction applied\n",
      "0 projection items activated\n",
      "Effective window size : 0.250 (s)\n",
      "Effective window size : 0.250 (s)\n",
      "Reading c:\\Users\\afcad\\Downloads\\Sujeto7_R_processed.fif ...\n",
      "    Found the data of interest:\n",
      "        t =   -2500.00 ...    2500.00 ms\n",
      "        0 CTF compensation matrices available\n"
     ]
    },
    {
     "name": "stderr",
     "output_type": "stream",
     "text": [
      "C:\\Users\\afcad\\AppData\\Local\\Temp\\ipykernel_1044\\2538836546.py:69: RuntimeWarning: This filename (Sujeto7_R_processed.fif) does not conform to MNE naming conventions. All epochs files should end with -epo.fif, -epo.fif.gz, _epo.fif or _epo.fif.gz\n",
      "  epochs_R = mne.read_epochs(file_R, preload=True)\n"
     ]
    },
    {
     "name": "stdout",
     "output_type": "stream",
     "text": [
      "Not setting metadata\n",
      "55 matching events found\n",
      "No baseline correction applied\n",
      "0 projection items activated\n",
      "Reading c:\\Users\\afcad\\Downloads\\Sujeto7_MF_processed.fif ...\n"
     ]
    },
    {
     "name": "stderr",
     "output_type": "stream",
     "text": [
      "C:\\Users\\afcad\\AppData\\Local\\Temp\\ipykernel_1044\\2538836546.py:70: RuntimeWarning: This filename (Sujeto7_MF_processed.fif) does not conform to MNE naming conventions. All epochs files should end with -epo.fif, -epo.fif.gz, _epo.fif or _epo.fif.gz\n",
      "  epochs_MF = mne.read_epochs(file_MF, preload=True)\n"
     ]
    },
    {
     "name": "stdout",
     "output_type": "stream",
     "text": [
      "    Found the data of interest:\n",
      "        t =   -2500.00 ...    2500.00 ms\n",
      "        0 CTF compensation matrices available\n",
      "Not setting metadata\n",
      "130 matching events found\n",
      "No baseline correction applied\n",
      "0 projection items activated\n",
      "Effective window size : 0.250 (s)\n",
      "Effective window size : 0.250 (s)\n",
      "Reading c:\\Users\\afcad\\Downloads\\Sujeto8_R_processed.fif ...\n",
      "    Found the data of interest:\n",
      "        t =   -2500.00 ...    2500.00 ms\n",
      "        0 CTF compensation matrices available\n"
     ]
    },
    {
     "name": "stderr",
     "output_type": "stream",
     "text": [
      "C:\\Users\\afcad\\AppData\\Local\\Temp\\ipykernel_1044\\2538836546.py:69: RuntimeWarning: This filename (Sujeto8_R_processed.fif) does not conform to MNE naming conventions. All epochs files should end with -epo.fif, -epo.fif.gz, _epo.fif or _epo.fif.gz\n",
      "  epochs_R = mne.read_epochs(file_R, preload=True)\n"
     ]
    },
    {
     "name": "stdout",
     "output_type": "stream",
     "text": [
      "Not setting metadata\n",
      "63 matching events found\n",
      "No baseline correction applied\n",
      "0 projection items activated\n",
      "Reading c:\\Users\\afcad\\Downloads\\Sujeto8_MF_processed.fif ...\n"
     ]
    },
    {
     "name": "stderr",
     "output_type": "stream",
     "text": [
      "C:\\Users\\afcad\\AppData\\Local\\Temp\\ipykernel_1044\\2538836546.py:70: RuntimeWarning: This filename (Sujeto8_MF_processed.fif) does not conform to MNE naming conventions. All epochs files should end with -epo.fif, -epo.fif.gz, _epo.fif or _epo.fif.gz\n",
      "  epochs_MF = mne.read_epochs(file_MF, preload=True)\n"
     ]
    },
    {
     "name": "stdout",
     "output_type": "stream",
     "text": [
      "    Found the data of interest:\n",
      "        t =   -2500.00 ...    2500.00 ms\n",
      "        0 CTF compensation matrices available\n",
      "Not setting metadata\n",
      "138 matching events found\n",
      "No baseline correction applied\n",
      "0 projection items activated\n",
      "Effective window size : 0.250 (s)\n",
      "Effective window size : 0.250 (s)\n",
      "Reading c:\\Users\\afcad\\Downloads\\Sujeto9_R_processed.fif ...\n",
      "    Found the data of interest:\n",
      "        t =   -2500.00 ...    2500.00 ms\n",
      "        0 CTF compensation matrices available\n"
     ]
    },
    {
     "name": "stderr",
     "output_type": "stream",
     "text": [
      "C:\\Users\\afcad\\AppData\\Local\\Temp\\ipykernel_1044\\2538836546.py:69: RuntimeWarning: This filename (Sujeto9_R_processed.fif) does not conform to MNE naming conventions. All epochs files should end with -epo.fif, -epo.fif.gz, _epo.fif or _epo.fif.gz\n",
      "  epochs_R = mne.read_epochs(file_R, preload=True)\n"
     ]
    },
    {
     "name": "stdout",
     "output_type": "stream",
     "text": [
      "Not setting metadata\n",
      "60 matching events found\n",
      "No baseline correction applied\n",
      "0 projection items activated\n",
      "Reading c:\\Users\\afcad\\Downloads\\Sujeto9_MF_processed.fif ...\n"
     ]
    },
    {
     "name": "stderr",
     "output_type": "stream",
     "text": [
      "C:\\Users\\afcad\\AppData\\Local\\Temp\\ipykernel_1044\\2538836546.py:70: RuntimeWarning: This filename (Sujeto9_MF_processed.fif) does not conform to MNE naming conventions. All epochs files should end with -epo.fif, -epo.fif.gz, _epo.fif or _epo.fif.gz\n",
      "  epochs_MF = mne.read_epochs(file_MF, preload=True)\n"
     ]
    },
    {
     "name": "stdout",
     "output_type": "stream",
     "text": [
      "    Found the data of interest:\n",
      "        t =   -2500.00 ...    2500.00 ms\n",
      "        0 CTF compensation matrices available\n",
      "Not setting metadata\n",
      "143 matching events found\n",
      "No baseline correction applied\n",
      "0 projection items activated\n",
      "Effective window size : 0.250 (s)\n",
      "Effective window size : 0.250 (s)\n",
      "Reading c:\\Users\\afcad\\Downloads\\Sujeto10_R_processed.fif ...\n",
      "    Found the data of interest:\n",
      "        t =   -2500.00 ...    2500.00 ms\n",
      "        0 CTF compensation matrices available\n"
     ]
    },
    {
     "name": "stderr",
     "output_type": "stream",
     "text": [
      "C:\\Users\\afcad\\AppData\\Local\\Temp\\ipykernel_1044\\2538836546.py:69: RuntimeWarning: This filename (Sujeto10_R_processed.fif) does not conform to MNE naming conventions. All epochs files should end with -epo.fif, -epo.fif.gz, _epo.fif or _epo.fif.gz\n",
      "  epochs_R = mne.read_epochs(file_R, preload=True)\n"
     ]
    },
    {
     "name": "stdout",
     "output_type": "stream",
     "text": [
      "Not setting metadata\n",
      "64 matching events found\n",
      "No baseline correction applied\n",
      "0 projection items activated\n",
      "Reading c:\\Users\\afcad\\Downloads\\Sujeto10_MF_processed.fif ...\n"
     ]
    },
    {
     "name": "stderr",
     "output_type": "stream",
     "text": [
      "C:\\Users\\afcad\\AppData\\Local\\Temp\\ipykernel_1044\\2538836546.py:70: RuntimeWarning: This filename (Sujeto10_MF_processed.fif) does not conform to MNE naming conventions. All epochs files should end with -epo.fif, -epo.fif.gz, _epo.fif or _epo.fif.gz\n",
      "  epochs_MF = mne.read_epochs(file_MF, preload=True)\n"
     ]
    },
    {
     "name": "stdout",
     "output_type": "stream",
     "text": [
      "    Found the data of interest:\n",
      "        t =   -2500.00 ...    2500.00 ms\n",
      "        0 CTF compensation matrices available\n",
      "Not setting metadata\n",
      "137 matching events found\n",
      "No baseline correction applied\n",
      "0 projection items activated\n",
      "Effective window size : 0.250 (s)\n",
      "Effective window size : 0.250 (s)\n",
      "Reading c:\\Users\\afcad\\Downloads\\Sujeto11_R_processed.fif ...\n",
      "    Found the data of interest:\n",
      "        t =   -2500.00 ...    2500.00 ms\n",
      "        0 CTF compensation matrices available\n"
     ]
    },
    {
     "name": "stderr",
     "output_type": "stream",
     "text": [
      "C:\\Users\\afcad\\AppData\\Local\\Temp\\ipykernel_1044\\2538836546.py:69: RuntimeWarning: This filename (Sujeto11_R_processed.fif) does not conform to MNE naming conventions. All epochs files should end with -epo.fif, -epo.fif.gz, _epo.fif or _epo.fif.gz\n",
      "  epochs_R = mne.read_epochs(file_R, preload=True)\n"
     ]
    },
    {
     "name": "stdout",
     "output_type": "stream",
     "text": [
      "Not setting metadata\n",
      "53 matching events found\n",
      "No baseline correction applied\n",
      "0 projection items activated\n",
      "Reading c:\\Users\\afcad\\Downloads\\Sujeto11_MF_processed.fif ...\n",
      "    Found the data of interest:\n"
     ]
    },
    {
     "name": "stderr",
     "output_type": "stream",
     "text": [
      "C:\\Users\\afcad\\AppData\\Local\\Temp\\ipykernel_1044\\2538836546.py:70: RuntimeWarning: This filename (Sujeto11_MF_processed.fif) does not conform to MNE naming conventions. All epochs files should end with -epo.fif, -epo.fif.gz, _epo.fif or _epo.fif.gz\n",
      "  epochs_MF = mne.read_epochs(file_MF, preload=True)\n"
     ]
    },
    {
     "name": "stdout",
     "output_type": "stream",
     "text": [
      "        t =   -2500.00 ...    2500.00 ms\n",
      "        0 CTF compensation matrices available\n",
      "Not setting metadata\n",
      "107 matching events found\n",
      "No baseline correction applied\n",
      "0 projection items activated\n",
      "Effective window size : 0.250 (s)\n",
      "Effective window size : 0.250 (s)\n",
      "Reading c:\\Users\\afcad\\Downloads\\Sujeto13_R_processed.fif ...\n",
      "    Found the data of interest:\n",
      "        t =   -2500.00 ...    2500.00 ms\n",
      "        0 CTF compensation matrices available\n"
     ]
    },
    {
     "name": "stderr",
     "output_type": "stream",
     "text": [
      "C:\\Users\\afcad\\AppData\\Local\\Temp\\ipykernel_1044\\2538836546.py:69: RuntimeWarning: This filename (Sujeto13_R_processed.fif) does not conform to MNE naming conventions. All epochs files should end with -epo.fif, -epo.fif.gz, _epo.fif or _epo.fif.gz\n",
      "  epochs_R = mne.read_epochs(file_R, preload=True)\n"
     ]
    },
    {
     "name": "stdout",
     "output_type": "stream",
     "text": [
      "Not setting metadata\n",
      "63 matching events found\n",
      "No baseline correction applied\n",
      "0 projection items activated\n",
      "Reading c:\\Users\\afcad\\Downloads\\Sujeto13_MF_processed.fif ...\n"
     ]
    },
    {
     "name": "stderr",
     "output_type": "stream",
     "text": [
      "C:\\Users\\afcad\\AppData\\Local\\Temp\\ipykernel_1044\\2538836546.py:70: RuntimeWarning: This filename (Sujeto13_MF_processed.fif) does not conform to MNE naming conventions. All epochs files should end with -epo.fif, -epo.fif.gz, _epo.fif or _epo.fif.gz\n",
      "  epochs_MF = mne.read_epochs(file_MF, preload=True)\n"
     ]
    },
    {
     "name": "stdout",
     "output_type": "stream",
     "text": [
      "    Found the data of interest:\n",
      "        t =   -2500.00 ...    2500.00 ms\n",
      "        0 CTF compensation matrices available\n",
      "Not setting metadata\n",
      "141 matching events found\n",
      "No baseline correction applied\n",
      "0 projection items activated\n",
      "Effective window size : 0.250 (s)\n",
      "Effective window size : 0.250 (s)\n",
      "Reading c:\\Users\\afcad\\Downloads\\Sujeto14_R_processed.fif ...\n",
      "    Found the data of interest:\n",
      "        t =   -2500.00 ...    2500.00 ms\n",
      "        0 CTF compensation matrices available\n"
     ]
    },
    {
     "name": "stderr",
     "output_type": "stream",
     "text": [
      "C:\\Users\\afcad\\AppData\\Local\\Temp\\ipykernel_1044\\2538836546.py:69: RuntimeWarning: This filename (Sujeto14_R_processed.fif) does not conform to MNE naming conventions. All epochs files should end with -epo.fif, -epo.fif.gz, _epo.fif or _epo.fif.gz\n",
      "  epochs_R = mne.read_epochs(file_R, preload=True)\n"
     ]
    },
    {
     "name": "stdout",
     "output_type": "stream",
     "text": [
      "Not setting metadata\n",
      "71 matching events found\n",
      "No baseline correction applied\n",
      "0 projection items activated\n",
      "Reading c:\\Users\\afcad\\Downloads\\Sujeto14_MF_processed.fif ...\n"
     ]
    },
    {
     "name": "stderr",
     "output_type": "stream",
     "text": [
      "C:\\Users\\afcad\\AppData\\Local\\Temp\\ipykernel_1044\\2538836546.py:70: RuntimeWarning: This filename (Sujeto14_MF_processed.fif) does not conform to MNE naming conventions. All epochs files should end with -epo.fif, -epo.fif.gz, _epo.fif or _epo.fif.gz\n",
      "  epochs_MF = mne.read_epochs(file_MF, preload=True)\n"
     ]
    },
    {
     "name": "stdout",
     "output_type": "stream",
     "text": [
      "    Found the data of interest:\n",
      "        t =   -2500.00 ...    2500.00 ms\n",
      "        0 CTF compensation matrices available\n",
      "Not setting metadata\n",
      "141 matching events found\n",
      "No baseline correction applied\n",
      "0 projection items activated\n",
      "Effective window size : 0.250 (s)\n",
      "Effective window size : 0.250 (s)\n",
      "Reading c:\\Users\\afcad\\Downloads\\Sujeto15_R_processed.fif ...\n",
      "    Found the data of interest:\n",
      "        t =   -2500.00 ...    2500.00 ms\n",
      "        0 CTF compensation matrices available\n"
     ]
    },
    {
     "name": "stderr",
     "output_type": "stream",
     "text": [
      "C:\\Users\\afcad\\AppData\\Local\\Temp\\ipykernel_1044\\2538836546.py:69: RuntimeWarning: This filename (Sujeto15_R_processed.fif) does not conform to MNE naming conventions. All epochs files should end with -epo.fif, -epo.fif.gz, _epo.fif or _epo.fif.gz\n",
      "  epochs_R = mne.read_epochs(file_R, preload=True)\n"
     ]
    },
    {
     "name": "stdout",
     "output_type": "stream",
     "text": [
      "Not setting metadata\n",
      "69 matching events found\n",
      "No baseline correction applied\n",
      "0 projection items activated\n",
      "Reading c:\\Users\\afcad\\Downloads\\Sujeto15_MF_processed.fif ...\n"
     ]
    },
    {
     "name": "stderr",
     "output_type": "stream",
     "text": [
      "C:\\Users\\afcad\\AppData\\Local\\Temp\\ipykernel_1044\\2538836546.py:70: RuntimeWarning: This filename (Sujeto15_MF_processed.fif) does not conform to MNE naming conventions. All epochs files should end with -epo.fif, -epo.fif.gz, _epo.fif or _epo.fif.gz\n",
      "  epochs_MF = mne.read_epochs(file_MF, preload=True)\n"
     ]
    },
    {
     "name": "stdout",
     "output_type": "stream",
     "text": [
      "    Found the data of interest:\n",
      "        t =   -2500.00 ...    2500.00 ms\n",
      "        0 CTF compensation matrices available\n",
      "Not setting metadata\n",
      "141 matching events found\n",
      "No baseline correction applied\n",
      "0 projection items activated\n",
      "Effective window size : 0.250 (s)\n",
      "Effective window size : 0.250 (s)\n",
      "Reading c:\\Users\\afcad\\Downloads\\Sujeto16_R_processed.fif ...\n",
      "    Found the data of interest:\n",
      "        t =   -2500.00 ...    2500.00 ms\n",
      "        0 CTF compensation matrices available\n"
     ]
    },
    {
     "name": "stderr",
     "output_type": "stream",
     "text": [
      "C:\\Users\\afcad\\AppData\\Local\\Temp\\ipykernel_1044\\2538836546.py:69: RuntimeWarning: This filename (Sujeto16_R_processed.fif) does not conform to MNE naming conventions. All epochs files should end with -epo.fif, -epo.fif.gz, _epo.fif or _epo.fif.gz\n",
      "  epochs_R = mne.read_epochs(file_R, preload=True)\n"
     ]
    },
    {
     "name": "stdout",
     "output_type": "stream",
     "text": [
      "Not setting metadata\n",
      "52 matching events found\n",
      "No baseline correction applied\n",
      "0 projection items activated\n",
      "Reading c:\\Users\\afcad\\Downloads\\Sujeto16_MF_processed.fif ...\n",
      "    Found the data of interest:\n"
     ]
    },
    {
     "name": "stderr",
     "output_type": "stream",
     "text": [
      "C:\\Users\\afcad\\AppData\\Local\\Temp\\ipykernel_1044\\2538836546.py:70: RuntimeWarning: This filename (Sujeto16_MF_processed.fif) does not conform to MNE naming conventions. All epochs files should end with -epo.fif, -epo.fif.gz, _epo.fif or _epo.fif.gz\n",
      "  epochs_MF = mne.read_epochs(file_MF, preload=True)\n"
     ]
    },
    {
     "name": "stdout",
     "output_type": "stream",
     "text": [
      "        t =   -2500.00 ...    2500.00 ms\n",
      "        0 CTF compensation matrices available\n",
      "Not setting metadata\n",
      "106 matching events found\n",
      "No baseline correction applied\n",
      "0 projection items activated\n",
      "Effective window size : 0.250 (s)\n",
      "Effective window size : 0.250 (s)\n",
      "Reading c:\\Users\\afcad\\Downloads\\Sujeto17_R_processed.fif ...\n",
      "    Found the data of interest:\n",
      "        t =   -2500.00 ...    2500.00 ms\n",
      "        0 CTF compensation matrices available\n"
     ]
    },
    {
     "name": "stderr",
     "output_type": "stream",
     "text": [
      "C:\\Users\\afcad\\AppData\\Local\\Temp\\ipykernel_1044\\2538836546.py:69: RuntimeWarning: This filename (Sujeto17_R_processed.fif) does not conform to MNE naming conventions. All epochs files should end with -epo.fif, -epo.fif.gz, _epo.fif or _epo.fif.gz\n",
      "  epochs_R = mne.read_epochs(file_R, preload=True)\n"
     ]
    },
    {
     "name": "stdout",
     "output_type": "stream",
     "text": [
      "Not setting metadata\n",
      "72 matching events found\n",
      "No baseline correction applied\n",
      "0 projection items activated\n",
      "Reading c:\\Users\\afcad\\Downloads\\Sujeto17_MF_processed.fif ...\n"
     ]
    },
    {
     "name": "stderr",
     "output_type": "stream",
     "text": [
      "C:\\Users\\afcad\\AppData\\Local\\Temp\\ipykernel_1044\\2538836546.py:70: RuntimeWarning: This filename (Sujeto17_MF_processed.fif) does not conform to MNE naming conventions. All epochs files should end with -epo.fif, -epo.fif.gz, _epo.fif or _epo.fif.gz\n",
      "  epochs_MF = mne.read_epochs(file_MF, preload=True)\n"
     ]
    },
    {
     "name": "stdout",
     "output_type": "stream",
     "text": [
      "    Found the data of interest:\n",
      "        t =   -2500.00 ...    2500.00 ms\n",
      "        0 CTF compensation matrices available\n",
      "Not setting metadata\n",
      "145 matching events found\n",
      "No baseline correction applied\n",
      "0 projection items activated\n",
      "Effective window size : 0.250 (s)\n",
      "Effective window size : 0.250 (s)\n",
      "Reading c:\\Users\\afcad\\Downloads\\Sujeto18_R_processed.fif ...\n",
      "    Found the data of interest:\n",
      "        t =   -2500.00 ...    2500.00 ms\n",
      "        0 CTF compensation matrices available\n"
     ]
    },
    {
     "name": "stderr",
     "output_type": "stream",
     "text": [
      "C:\\Users\\afcad\\AppData\\Local\\Temp\\ipykernel_1044\\2538836546.py:69: RuntimeWarning: This filename (Sujeto18_R_processed.fif) does not conform to MNE naming conventions. All epochs files should end with -epo.fif, -epo.fif.gz, _epo.fif or _epo.fif.gz\n",
      "  epochs_R = mne.read_epochs(file_R, preload=True)\n"
     ]
    },
    {
     "name": "stdout",
     "output_type": "stream",
     "text": [
      "Not setting metadata\n",
      "44 matching events found\n",
      "No baseline correction applied\n",
      "0 projection items activated\n",
      "Reading c:\\Users\\afcad\\Downloads\\Sujeto18_MF_processed.fif ...\n"
     ]
    },
    {
     "name": "stderr",
     "output_type": "stream",
     "text": [
      "C:\\Users\\afcad\\AppData\\Local\\Temp\\ipykernel_1044\\2538836546.py:70: RuntimeWarning: This filename (Sujeto18_MF_processed.fif) does not conform to MNE naming conventions. All epochs files should end with -epo.fif, -epo.fif.gz, _epo.fif or _epo.fif.gz\n",
      "  epochs_MF = mne.read_epochs(file_MF, preload=True)\n"
     ]
    },
    {
     "name": "stdout",
     "output_type": "stream",
     "text": [
      "    Found the data of interest:\n",
      "        t =   -2500.00 ...    2500.00 ms\n",
      "        0 CTF compensation matrices available\n",
      "Not setting metadata\n",
      "137 matching events found\n",
      "No baseline correction applied\n",
      "0 projection items activated\n",
      "Effective window size : 0.250 (s)\n",
      "Effective window size : 0.250 (s)\n",
      "Reading c:\\Users\\afcad\\Downloads\\Sujeto19_R_processed.fif ...\n",
      "    Found the data of interest:\n",
      "        t =   -2500.00 ...    2500.00 ms\n",
      "        0 CTF compensation matrices available\n"
     ]
    },
    {
     "name": "stderr",
     "output_type": "stream",
     "text": [
      "C:\\Users\\afcad\\AppData\\Local\\Temp\\ipykernel_1044\\2538836546.py:69: RuntimeWarning: This filename (Sujeto19_R_processed.fif) does not conform to MNE naming conventions. All epochs files should end with -epo.fif, -epo.fif.gz, _epo.fif or _epo.fif.gz\n",
      "  epochs_R = mne.read_epochs(file_R, preload=True)\n"
     ]
    },
    {
     "name": "stdout",
     "output_type": "stream",
     "text": [
      "Not setting metadata\n",
      "68 matching events found\n",
      "No baseline correction applied\n",
      "0 projection items activated\n",
      "Reading c:\\Users\\afcad\\Downloads\\Sujeto19_MF_processed.fif ...\n"
     ]
    },
    {
     "name": "stderr",
     "output_type": "stream",
     "text": [
      "C:\\Users\\afcad\\AppData\\Local\\Temp\\ipykernel_1044\\2538836546.py:70: RuntimeWarning: This filename (Sujeto19_MF_processed.fif) does not conform to MNE naming conventions. All epochs files should end with -epo.fif, -epo.fif.gz, _epo.fif or _epo.fif.gz\n",
      "  epochs_MF = mne.read_epochs(file_MF, preload=True)\n"
     ]
    },
    {
     "name": "stdout",
     "output_type": "stream",
     "text": [
      "    Found the data of interest:\n",
      "        t =   -2500.00 ...    2500.00 ms\n",
      "        0 CTF compensation matrices available\n",
      "Not setting metadata\n",
      "143 matching events found\n",
      "No baseline correction applied\n",
      "0 projection items activated\n",
      "Effective window size : 0.250 (s)\n",
      "Effective window size : 0.250 (s)\n",
      "Reading c:\\Users\\afcad\\Downloads\\Sujeto20_R_processed.fif ...\n",
      "    Found the data of interest:\n",
      "        t =   -2500.00 ...    2500.00 ms\n",
      "        0 CTF compensation matrices available\n"
     ]
    },
    {
     "name": "stderr",
     "output_type": "stream",
     "text": [
      "C:\\Users\\afcad\\AppData\\Local\\Temp\\ipykernel_1044\\2538836546.py:69: RuntimeWarning: This filename (Sujeto20_R_processed.fif) does not conform to MNE naming conventions. All epochs files should end with -epo.fif, -epo.fif.gz, _epo.fif or _epo.fif.gz\n",
      "  epochs_R = mne.read_epochs(file_R, preload=True)\n"
     ]
    },
    {
     "name": "stdout",
     "output_type": "stream",
     "text": [
      "Not setting metadata\n",
      "71 matching events found\n",
      "No baseline correction applied\n",
      "0 projection items activated\n",
      "Reading c:\\Users\\afcad\\Downloads\\Sujeto20_MF_processed.fif ...\n"
     ]
    },
    {
     "name": "stderr",
     "output_type": "stream",
     "text": [
      "C:\\Users\\afcad\\AppData\\Local\\Temp\\ipykernel_1044\\2538836546.py:70: RuntimeWarning: This filename (Sujeto20_MF_processed.fif) does not conform to MNE naming conventions. All epochs files should end with -epo.fif, -epo.fif.gz, _epo.fif or _epo.fif.gz\n",
      "  epochs_MF = mne.read_epochs(file_MF, preload=True)\n"
     ]
    },
    {
     "name": "stdout",
     "output_type": "stream",
     "text": [
      "    Found the data of interest:\n",
      "        t =   -2500.00 ...    2500.00 ms\n",
      "        0 CTF compensation matrices available\n",
      "Not setting metadata\n",
      "141 matching events found\n",
      "No baseline correction applied\n",
      "0 projection items activated\n",
      "Effective window size : 0.250 (s)\n",
      "Effective window size : 0.250 (s)\n",
      "Reading c:\\Users\\afcad\\Downloads\\Sujeto21_R_processed.fif ...\n",
      "    Found the data of interest:\n",
      "        t =   -2500.00 ...    2500.00 ms\n",
      "        0 CTF compensation matrices available\n"
     ]
    },
    {
     "name": "stderr",
     "output_type": "stream",
     "text": [
      "C:\\Users\\afcad\\AppData\\Local\\Temp\\ipykernel_1044\\2538836546.py:69: RuntimeWarning: This filename (Sujeto21_R_processed.fif) does not conform to MNE naming conventions. All epochs files should end with -epo.fif, -epo.fif.gz, _epo.fif or _epo.fif.gz\n",
      "  epochs_R = mne.read_epochs(file_R, preload=True)\n"
     ]
    },
    {
     "name": "stdout",
     "output_type": "stream",
     "text": [
      "Not setting metadata\n",
      "47 matching events found\n",
      "No baseline correction applied\n",
      "0 projection items activated\n",
      "Reading c:\\Users\\afcad\\Downloads\\Sujeto21_MF_processed.fif ...\n",
      "    Found the data of interest:\n"
     ]
    },
    {
     "name": "stderr",
     "output_type": "stream",
     "text": [
      "C:\\Users\\afcad\\AppData\\Local\\Temp\\ipykernel_1044\\2538836546.py:70: RuntimeWarning: This filename (Sujeto21_MF_processed.fif) does not conform to MNE naming conventions. All epochs files should end with -epo.fif, -epo.fif.gz, _epo.fif or _epo.fif.gz\n",
      "  epochs_MF = mne.read_epochs(file_MF, preload=True)\n"
     ]
    },
    {
     "name": "stdout",
     "output_type": "stream",
     "text": [
      "        t =   -2500.00 ...    2500.00 ms\n",
      "        0 CTF compensation matrices available\n",
      "Not setting metadata\n",
      "106 matching events found\n",
      "No baseline correction applied\n",
      "0 projection items activated\n",
      "Effective window size : 0.250 (s)\n",
      "Effective window size : 0.250 (s)\n",
      "Reading c:\\Users\\afcad\\Downloads\\Sujeto22_R_processed.fif ...\n",
      "    Found the data of interest:\n",
      "        t =   -2500.00 ...    2500.00 ms\n",
      "        0 CTF compensation matrices available\n"
     ]
    },
    {
     "name": "stderr",
     "output_type": "stream",
     "text": [
      "C:\\Users\\afcad\\AppData\\Local\\Temp\\ipykernel_1044\\2538836546.py:69: RuntimeWarning: This filename (Sujeto22_R_processed.fif) does not conform to MNE naming conventions. All epochs files should end with -epo.fif, -epo.fif.gz, _epo.fif or _epo.fif.gz\n",
      "  epochs_R = mne.read_epochs(file_R, preload=True)\n"
     ]
    },
    {
     "name": "stdout",
     "output_type": "stream",
     "text": [
      "Not setting metadata\n",
      "67 matching events found\n",
      "No baseline correction applied\n",
      "0 projection items activated\n",
      "Reading c:\\Users\\afcad\\Downloads\\Sujeto22_MF_processed.fif ...\n"
     ]
    },
    {
     "name": "stderr",
     "output_type": "stream",
     "text": [
      "C:\\Users\\afcad\\AppData\\Local\\Temp\\ipykernel_1044\\2538836546.py:70: RuntimeWarning: This filename (Sujeto22_MF_processed.fif) does not conform to MNE naming conventions. All epochs files should end with -epo.fif, -epo.fif.gz, _epo.fif or _epo.fif.gz\n",
      "  epochs_MF = mne.read_epochs(file_MF, preload=True)\n"
     ]
    },
    {
     "name": "stdout",
     "output_type": "stream",
     "text": [
      "    Found the data of interest:\n",
      "        t =   -2500.00 ...    2500.00 ms\n",
      "        0 CTF compensation matrices available\n",
      "Not setting metadata\n",
      "138 matching events found\n",
      "No baseline correction applied\n",
      "0 projection items activated\n",
      "Effective window size : 0.250 (s)\n",
      "Effective window size : 0.250 (s)\n",
      "Reading c:\\Users\\afcad\\Downloads\\Sujeto23_R_processed.fif ...\n",
      "    Found the data of interest:\n",
      "        t =   -2500.00 ...    2500.00 ms\n",
      "        0 CTF compensation matrices available\n",
      "Not setting metadata\n",
      "11 matching events found\n",
      "No baseline correction applied\n",
      "0 projection items activated\n",
      "Reading c:\\Users\\afcad\\Downloads\\Sujeto23_MF_processed.fif ...\n"
     ]
    },
    {
     "name": "stderr",
     "output_type": "stream",
     "text": [
      "C:\\Users\\afcad\\AppData\\Local\\Temp\\ipykernel_1044\\2538836546.py:69: RuntimeWarning: This filename (Sujeto23_R_processed.fif) does not conform to MNE naming conventions. All epochs files should end with -epo.fif, -epo.fif.gz, _epo.fif or _epo.fif.gz\n",
      "  epochs_R = mne.read_epochs(file_R, preload=True)\n",
      "C:\\Users\\afcad\\AppData\\Local\\Temp\\ipykernel_1044\\2538836546.py:70: RuntimeWarning: This filename (Sujeto23_MF_processed.fif) does not conform to MNE naming conventions. All epochs files should end with -epo.fif, -epo.fif.gz, _epo.fif or _epo.fif.gz\n",
      "  epochs_MF = mne.read_epochs(file_MF, preload=True)\n"
     ]
    },
    {
     "name": "stdout",
     "output_type": "stream",
     "text": [
      "    Found the data of interest:\n",
      "        t =   -2500.00 ...    2500.00 ms\n",
      "        0 CTF compensation matrices available\n",
      "Not setting metadata\n",
      "125 matching events found\n",
      "No baseline correction applied\n",
      "0 projection items activated\n",
      "Effective window size : 0.250 (s)\n",
      "Effective window size : 0.250 (s)\n",
      "Reading c:\\Users\\afcad\\Downloads\\Sujeto24_R_processed.fif ...\n",
      "    Found the data of interest:\n",
      "        t =   -2500.00 ...    2500.00 ms\n",
      "        0 CTF compensation matrices available\n"
     ]
    },
    {
     "name": "stderr",
     "output_type": "stream",
     "text": [
      "C:\\Users\\afcad\\AppData\\Local\\Temp\\ipykernel_1044\\2538836546.py:69: RuntimeWarning: This filename (Sujeto24_R_processed.fif) does not conform to MNE naming conventions. All epochs files should end with -epo.fif, -epo.fif.gz, _epo.fif or _epo.fif.gz\n",
      "  epochs_R = mne.read_epochs(file_R, preload=True)\n"
     ]
    },
    {
     "name": "stdout",
     "output_type": "stream",
     "text": [
      "Not setting metadata\n",
      "61 matching events found\n",
      "No baseline correction applied\n",
      "0 projection items activated\n",
      "Reading c:\\Users\\afcad\\Downloads\\Sujeto24_MF_processed.fif ...\n"
     ]
    },
    {
     "name": "stderr",
     "output_type": "stream",
     "text": [
      "C:\\Users\\afcad\\AppData\\Local\\Temp\\ipykernel_1044\\2538836546.py:70: RuntimeWarning: This filename (Sujeto24_MF_processed.fif) does not conform to MNE naming conventions. All epochs files should end with -epo.fif, -epo.fif.gz, _epo.fif or _epo.fif.gz\n",
      "  epochs_MF = mne.read_epochs(file_MF, preload=True)\n"
     ]
    },
    {
     "name": "stdout",
     "output_type": "stream",
     "text": [
      "    Found the data of interest:\n",
      "        t =   -2500.00 ...    2500.00 ms\n",
      "        0 CTF compensation matrices available\n",
      "Not setting metadata\n",
      "132 matching events found\n",
      "No baseline correction applied\n",
      "0 projection items activated\n",
      "Effective window size : 0.250 (s)\n",
      "Effective window size : 0.250 (s)\n",
      "Reading c:\\Users\\afcad\\Downloads\\Sujeto25_R_processed.fif ...\n",
      "    Found the data of interest:\n"
     ]
    },
    {
     "name": "stderr",
     "output_type": "stream",
     "text": [
      "C:\\Users\\afcad\\AppData\\Local\\Temp\\ipykernel_1044\\2538836546.py:69: RuntimeWarning: This filename (Sujeto25_R_processed.fif) does not conform to MNE naming conventions. All epochs files should end with -epo.fif, -epo.fif.gz, _epo.fif or _epo.fif.gz\n",
      "  epochs_R = mne.read_epochs(file_R, preload=True)\n"
     ]
    },
    {
     "name": "stdout",
     "output_type": "stream",
     "text": [
      "        t =   -2500.00 ...    2500.00 ms\n",
      "        0 CTF compensation matrices available\n",
      "Not setting metadata\n",
      "70 matching events found\n",
      "No baseline correction applied\n",
      "0 projection items activated\n",
      "Reading c:\\Users\\afcad\\Downloads\\Sujeto25_MF_processed.fif ...\n"
     ]
    },
    {
     "name": "stderr",
     "output_type": "stream",
     "text": [
      "C:\\Users\\afcad\\AppData\\Local\\Temp\\ipykernel_1044\\2538836546.py:70: RuntimeWarning: This filename (Sujeto25_MF_processed.fif) does not conform to MNE naming conventions. All epochs files should end with -epo.fif, -epo.fif.gz, _epo.fif or _epo.fif.gz\n",
      "  epochs_MF = mne.read_epochs(file_MF, preload=True)\n"
     ]
    },
    {
     "name": "stdout",
     "output_type": "stream",
     "text": [
      "    Found the data of interest:\n",
      "        t =   -2500.00 ...    2500.00 ms\n",
      "        0 CTF compensation matrices available\n",
      "Not setting metadata\n",
      "140 matching events found\n",
      "No baseline correction applied\n",
      "0 projection items activated\n",
      "Effective window size : 0.250 (s)\n",
      "Effective window size : 0.250 (s)\n",
      "Reading c:\\Users\\afcad\\Downloads\\Sujeto26_R_processed.fif ...\n",
      "    Found the data of interest:\n",
      "        t =   -2500.00 ...    2500.00 ms\n",
      "        0 CTF compensation matrices available\n"
     ]
    },
    {
     "name": "stderr",
     "output_type": "stream",
     "text": [
      "C:\\Users\\afcad\\AppData\\Local\\Temp\\ipykernel_1044\\2538836546.py:69: RuntimeWarning: This filename (Sujeto26_R_processed.fif) does not conform to MNE naming conventions. All epochs files should end with -epo.fif, -epo.fif.gz, _epo.fif or _epo.fif.gz\n",
      "  epochs_R = mne.read_epochs(file_R, preload=True)\n"
     ]
    },
    {
     "name": "stdout",
     "output_type": "stream",
     "text": [
      "Not setting metadata\n",
      "63 matching events found\n",
      "No baseline correction applied\n",
      "0 projection items activated\n",
      "Reading c:\\Users\\afcad\\Downloads\\Sujeto26_MF_processed.fif ...\n",
      "    Found the data of interest:\n",
      "        t =   -2500.00 ...    2500.00 ms\n",
      "        0 CTF compensation matrices available\n"
     ]
    },
    {
     "name": "stderr",
     "output_type": "stream",
     "text": [
      "C:\\Users\\afcad\\AppData\\Local\\Temp\\ipykernel_1044\\2538836546.py:70: RuntimeWarning: This filename (Sujeto26_MF_processed.fif) does not conform to MNE naming conventions. All epochs files should end with -epo.fif, -epo.fif.gz, _epo.fif or _epo.fif.gz\n",
      "  epochs_MF = mne.read_epochs(file_MF, preload=True)\n"
     ]
    },
    {
     "name": "stdout",
     "output_type": "stream",
     "text": [
      "Not setting metadata\n",
      "74 matching events found\n",
      "No baseline correction applied\n",
      "0 projection items activated\n",
      "Effective window size : 0.250 (s)\n",
      "Effective window size : 0.250 (s)\n",
      "Reading c:\\Users\\afcad\\Downloads\\Sujeto27_R_processed.fif ...\n",
      "    Found the data of interest:\n",
      "        t =   -2500.00 ...    2500.00 ms\n",
      "        0 CTF compensation matrices available\n"
     ]
    },
    {
     "name": "stderr",
     "output_type": "stream",
     "text": [
      "C:\\Users\\afcad\\AppData\\Local\\Temp\\ipykernel_1044\\2538836546.py:69: RuntimeWarning: This filename (Sujeto27_R_processed.fif) does not conform to MNE naming conventions. All epochs files should end with -epo.fif, -epo.fif.gz, _epo.fif or _epo.fif.gz\n",
      "  epochs_R = mne.read_epochs(file_R, preload=True)\n"
     ]
    },
    {
     "name": "stdout",
     "output_type": "stream",
     "text": [
      "Not setting metadata\n",
      "64 matching events found\n",
      "No baseline correction applied\n",
      "0 projection items activated\n",
      "Reading c:\\Users\\afcad\\Downloads\\Sujeto27_MF_processed.fif ...\n",
      "    Found the data of interest:\n",
      "        t =   -2500.00 ...    2500.00 ms\n",
      "        0 CTF compensation matrices available\n"
     ]
    },
    {
     "name": "stderr",
     "output_type": "stream",
     "text": [
      "C:\\Users\\afcad\\AppData\\Local\\Temp\\ipykernel_1044\\2538836546.py:70: RuntimeWarning: This filename (Sujeto27_MF_processed.fif) does not conform to MNE naming conventions. All epochs files should end with -epo.fif, -epo.fif.gz, _epo.fif or _epo.fif.gz\n",
      "  epochs_MF = mne.read_epochs(file_MF, preload=True)\n"
     ]
    },
    {
     "name": "stdout",
     "output_type": "stream",
     "text": [
      "Not setting metadata\n",
      "70 matching events found\n",
      "No baseline correction applied\n",
      "0 projection items activated\n",
      "Effective window size : 0.250 (s)\n",
      "Effective window size : 0.250 (s)\n",
      "Reading c:\\Users\\afcad\\Downloads\\Sujeto28_R_processed.fif ...\n",
      "    Found the data of interest:\n",
      "        t =   -2500.00 ...    2500.00 ms\n",
      "        0 CTF compensation matrices available\n"
     ]
    },
    {
     "name": "stderr",
     "output_type": "stream",
     "text": [
      "C:\\Users\\afcad\\AppData\\Local\\Temp\\ipykernel_1044\\2538836546.py:69: RuntimeWarning: This filename (Sujeto28_R_processed.fif) does not conform to MNE naming conventions. All epochs files should end with -epo.fif, -epo.fif.gz, _epo.fif or _epo.fif.gz\n",
      "  epochs_R = mne.read_epochs(file_R, preload=True)\n"
     ]
    },
    {
     "name": "stdout",
     "output_type": "stream",
     "text": [
      "Not setting metadata\n",
      "55 matching events found\n",
      "No baseline correction applied\n",
      "0 projection items activated\n",
      "Reading c:\\Users\\afcad\\Downloads\\Sujeto28_MF_processed.fif ...\n"
     ]
    },
    {
     "name": "stderr",
     "output_type": "stream",
     "text": [
      "C:\\Users\\afcad\\AppData\\Local\\Temp\\ipykernel_1044\\2538836546.py:70: RuntimeWarning: This filename (Sujeto28_MF_processed.fif) does not conform to MNE naming conventions. All epochs files should end with -epo.fif, -epo.fif.gz, _epo.fif or _epo.fif.gz\n",
      "  epochs_MF = mne.read_epochs(file_MF, preload=True)\n"
     ]
    },
    {
     "name": "stdout",
     "output_type": "stream",
     "text": [
      "    Found the data of interest:\n",
      "        t =   -2500.00 ...    2500.00 ms\n",
      "        0 CTF compensation matrices available\n",
      "Not setting metadata\n",
      "114 matching events found\n",
      "No baseline correction applied\n",
      "0 projection items activated\n",
      "Effective window size : 0.250 (s)\n",
      "Effective window size : 0.250 (s)\n",
      "Reading c:\\Users\\afcad\\Downloads\\Sujeto29_R_processed.fif ...\n",
      "    Found the data of interest:\n",
      "        t =   -2500.00 ...    2500.00 ms\n",
      "        0 CTF compensation matrices available\n"
     ]
    },
    {
     "name": "stderr",
     "output_type": "stream",
     "text": [
      "C:\\Users\\afcad\\AppData\\Local\\Temp\\ipykernel_1044\\2538836546.py:69: RuntimeWarning: This filename (Sujeto29_R_processed.fif) does not conform to MNE naming conventions. All epochs files should end with -epo.fif, -epo.fif.gz, _epo.fif or _epo.fif.gz\n",
      "  epochs_R = mne.read_epochs(file_R, preload=True)\n"
     ]
    },
    {
     "name": "stdout",
     "output_type": "stream",
     "text": [
      "Not setting metadata\n",
      "68 matching events found\n",
      "No baseline correction applied\n",
      "0 projection items activated\n",
      "Reading c:\\Users\\afcad\\Downloads\\Sujeto29_MF_processed.fif ...\n"
     ]
    },
    {
     "name": "stderr",
     "output_type": "stream",
     "text": [
      "C:\\Users\\afcad\\AppData\\Local\\Temp\\ipykernel_1044\\2538836546.py:70: RuntimeWarning: This filename (Sujeto29_MF_processed.fif) does not conform to MNE naming conventions. All epochs files should end with -epo.fif, -epo.fif.gz, _epo.fif or _epo.fif.gz\n",
      "  epochs_MF = mne.read_epochs(file_MF, preload=True)\n"
     ]
    },
    {
     "name": "stdout",
     "output_type": "stream",
     "text": [
      "    Found the data of interest:\n",
      "        t =   -2500.00 ...    2500.00 ms\n",
      "        0 CTF compensation matrices available\n",
      "Not setting metadata\n",
      "145 matching events found\n",
      "No baseline correction applied\n",
      "0 projection items activated\n",
      "Effective window size : 0.250 (s)\n",
      "Effective window size : 0.250 (s)\n",
      "Reading c:\\Users\\afcad\\Downloads\\Sujeto30_R_processed.fif ...\n",
      "    Found the data of interest:\n",
      "        t =   -2500.00 ...    2500.00 ms\n",
      "        0 CTF compensation matrices available\n"
     ]
    },
    {
     "name": "stderr",
     "output_type": "stream",
     "text": [
      "C:\\Users\\afcad\\AppData\\Local\\Temp\\ipykernel_1044\\2538836546.py:69: RuntimeWarning: This filename (Sujeto30_R_processed.fif) does not conform to MNE naming conventions. All epochs files should end with -epo.fif, -epo.fif.gz, _epo.fif or _epo.fif.gz\n",
      "  epochs_R = mne.read_epochs(file_R, preload=True)\n"
     ]
    },
    {
     "name": "stdout",
     "output_type": "stream",
     "text": [
      "Not setting metadata\n",
      "69 matching events found\n",
      "No baseline correction applied\n",
      "0 projection items activated\n",
      "Reading c:\\Users\\afcad\\Downloads\\Sujeto30_MF_processed.fif ...\n"
     ]
    },
    {
     "name": "stderr",
     "output_type": "stream",
     "text": [
      "C:\\Users\\afcad\\AppData\\Local\\Temp\\ipykernel_1044\\2538836546.py:70: RuntimeWarning: This filename (Sujeto30_MF_processed.fif) does not conform to MNE naming conventions. All epochs files should end with -epo.fif, -epo.fif.gz, _epo.fif or _epo.fif.gz\n",
      "  epochs_MF = mne.read_epochs(file_MF, preload=True)\n"
     ]
    },
    {
     "name": "stdout",
     "output_type": "stream",
     "text": [
      "    Found the data of interest:\n",
      "        t =   -2500.00 ...    2500.00 ms\n",
      "        0 CTF compensation matrices available\n",
      "Not setting metadata\n",
      "124 matching events found\n",
      "No baseline correction applied\n",
      "0 projection items activated\n",
      "Effective window size : 0.250 (s)\n",
      "Effective window size : 0.250 (s)\n",
      "Reading c:\\Users\\afcad\\Downloads\\Sujeto31_R_processed.fif ...\n"
     ]
    },
    {
     "name": "stderr",
     "output_type": "stream",
     "text": [
      "C:\\Users\\afcad\\AppData\\Local\\Temp\\ipykernel_1044\\2538836546.py:69: RuntimeWarning: This filename (Sujeto31_R_processed.fif) does not conform to MNE naming conventions. All epochs files should end with -epo.fif, -epo.fif.gz, _epo.fif or _epo.fif.gz\n",
      "  epochs_R = mne.read_epochs(file_R, preload=True)\n"
     ]
    },
    {
     "name": "stdout",
     "output_type": "stream",
     "text": [
      "    Found the data of interest:\n",
      "        t =   -2500.00 ...    2500.00 ms\n",
      "        0 CTF compensation matrices available\n",
      "Not setting metadata\n",
      "61 matching events found\n",
      "No baseline correction applied\n",
      "0 projection items activated\n",
      "Reading c:\\Users\\afcad\\Downloads\\Sujeto31_MF_processed.fif ...\n"
     ]
    },
    {
     "name": "stderr",
     "output_type": "stream",
     "text": [
      "C:\\Users\\afcad\\AppData\\Local\\Temp\\ipykernel_1044\\2538836546.py:70: RuntimeWarning: This filename (Sujeto31_MF_processed.fif) does not conform to MNE naming conventions. All epochs files should end with -epo.fif, -epo.fif.gz, _epo.fif or _epo.fif.gz\n",
      "  epochs_MF = mne.read_epochs(file_MF, preload=True)\n"
     ]
    },
    {
     "name": "stdout",
     "output_type": "stream",
     "text": [
      "    Found the data of interest:\n",
      "        t =   -2500.00 ...    2500.00 ms\n",
      "        0 CTF compensation matrices available\n",
      "Not setting metadata\n",
      "140 matching events found\n",
      "No baseline correction applied\n",
      "0 projection items activated\n",
      "Effective window size : 0.250 (s)\n",
      "Effective window size : 0.250 (s)\n",
      "Reading c:\\Users\\afcad\\Downloads\\Sujeto32_R_processed.fif ...\n"
     ]
    },
    {
     "name": "stderr",
     "output_type": "stream",
     "text": [
      "C:\\Users\\afcad\\AppData\\Local\\Temp\\ipykernel_1044\\2538836546.py:69: RuntimeWarning: This filename (Sujeto32_R_processed.fif) does not conform to MNE naming conventions. All epochs files should end with -epo.fif, -epo.fif.gz, _epo.fif or _epo.fif.gz\n",
      "  epochs_R = mne.read_epochs(file_R, preload=True)\n"
     ]
    },
    {
     "name": "stdout",
     "output_type": "stream",
     "text": [
      "    Found the data of interest:\n",
      "        t =   -2500.00 ...    2500.00 ms\n",
      "        0 CTF compensation matrices available\n",
      "Not setting metadata\n",
      "70 matching events found\n",
      "No baseline correction applied\n",
      "0 projection items activated\n",
      "Reading c:\\Users\\afcad\\Downloads\\Sujeto32_MF_processed.fif ...\n"
     ]
    },
    {
     "name": "stderr",
     "output_type": "stream",
     "text": [
      "C:\\Users\\afcad\\AppData\\Local\\Temp\\ipykernel_1044\\2538836546.py:70: RuntimeWarning: This filename (Sujeto32_MF_processed.fif) does not conform to MNE naming conventions. All epochs files should end with -epo.fif, -epo.fif.gz, _epo.fif or _epo.fif.gz\n",
      "  epochs_MF = mne.read_epochs(file_MF, preload=True)\n"
     ]
    },
    {
     "name": "stdout",
     "output_type": "stream",
     "text": [
      "    Found the data of interest:\n",
      "        t =   -2500.00 ...    2500.00 ms\n",
      "        0 CTF compensation matrices available\n",
      "Not setting metadata\n",
      "127 matching events found\n",
      "No baseline correction applied\n",
      "0 projection items activated\n",
      "Effective window size : 0.250 (s)\n",
      "Effective window size : 0.250 (s)\n",
      "Reading c:\\Users\\afcad\\Downloads\\Sujeto36_R_processed.fif ...\n",
      "    Found the data of interest:\n",
      "        t =   -2500.00 ...    2500.00 ms\n",
      "        0 CTF compensation matrices available\n"
     ]
    },
    {
     "name": "stderr",
     "output_type": "stream",
     "text": [
      "C:\\Users\\afcad\\AppData\\Local\\Temp\\ipykernel_1044\\2538836546.py:69: RuntimeWarning: This filename (Sujeto36_R_processed.fif) does not conform to MNE naming conventions. All epochs files should end with -epo.fif, -epo.fif.gz, _epo.fif or _epo.fif.gz\n",
      "  epochs_R = mne.read_epochs(file_R, preload=True)\n"
     ]
    },
    {
     "name": "stdout",
     "output_type": "stream",
     "text": [
      "Not setting metadata\n",
      "61 matching events found\n",
      "No baseline correction applied\n",
      "0 projection items activated\n",
      "Reading c:\\Users\\afcad\\Downloads\\Sujeto36_MF_processed.fif ...\n"
     ]
    },
    {
     "name": "stderr",
     "output_type": "stream",
     "text": [
      "C:\\Users\\afcad\\AppData\\Local\\Temp\\ipykernel_1044\\2538836546.py:70: RuntimeWarning: This filename (Sujeto36_MF_processed.fif) does not conform to MNE naming conventions. All epochs files should end with -epo.fif, -epo.fif.gz, _epo.fif or _epo.fif.gz\n",
      "  epochs_MF = mne.read_epochs(file_MF, preload=True)\n"
     ]
    },
    {
     "name": "stdout",
     "output_type": "stream",
     "text": [
      "    Found the data of interest:\n",
      "        t =   -2500.00 ...    2500.00 ms\n",
      "        0 CTF compensation matrices available\n",
      "Not setting metadata\n",
      "133 matching events found\n",
      "No baseline correction applied\n",
      "0 projection items activated\n",
      "Effective window size : 0.250 (s)\n",
      "Effective window size : 0.250 (s)\n",
      "Reading c:\\Users\\afcad\\Downloads\\Sujeto37_R_processed.fif ...\n",
      "    Found the data of interest:\n",
      "        t =   -2500.00 ...    2500.00 ms\n",
      "        0 CTF compensation matrices available\n"
     ]
    },
    {
     "name": "stderr",
     "output_type": "stream",
     "text": [
      "C:\\Users\\afcad\\AppData\\Local\\Temp\\ipykernel_1044\\2538836546.py:69: RuntimeWarning: This filename (Sujeto37_R_processed.fif) does not conform to MNE naming conventions. All epochs files should end with -epo.fif, -epo.fif.gz, _epo.fif or _epo.fif.gz\n",
      "  epochs_R = mne.read_epochs(file_R, preload=True)\n"
     ]
    },
    {
     "name": "stdout",
     "output_type": "stream",
     "text": [
      "Not setting metadata\n",
      "71 matching events found\n",
      "No baseline correction applied\n",
      "0 projection items activated\n",
      "Reading c:\\Users\\afcad\\Downloads\\Sujeto37_MF_processed.fif ...\n"
     ]
    },
    {
     "name": "stderr",
     "output_type": "stream",
     "text": [
      "C:\\Users\\afcad\\AppData\\Local\\Temp\\ipykernel_1044\\2538836546.py:70: RuntimeWarning: This filename (Sujeto37_MF_processed.fif) does not conform to MNE naming conventions. All epochs files should end with -epo.fif, -epo.fif.gz, _epo.fif or _epo.fif.gz\n",
      "  epochs_MF = mne.read_epochs(file_MF, preload=True)\n"
     ]
    },
    {
     "name": "stdout",
     "output_type": "stream",
     "text": [
      "    Found the data of interest:\n",
      "        t =   -2500.00 ...    2500.00 ms\n",
      "        0 CTF compensation matrices available\n",
      "Not setting metadata\n",
      "141 matching events found\n",
      "No baseline correction applied\n",
      "0 projection items activated\n",
      "Effective window size : 0.250 (s)\n",
      "Effective window size : 0.250 (s)\n",
      "Resting - Beta (12–18 Hz): 0 significant channels (p < 0.05)\n",
      "Mindfulness - Beta (12–18 Hz): 0 significant channels (p < 0.05)\n",
      "Difference (MF - R) - Beta (12–18 Hz): 0 significant channels (p < 0.05)\n",
      "Reading c:\\Users\\afcad\\Downloads\\Sujeto1_R_processed.fif ...\n",
      "    Found the data of interest:\n",
      "        t =   -2500.00 ...    2500.00 ms\n",
      "        0 CTF compensation matrices available\n"
     ]
    },
    {
     "name": "stderr",
     "output_type": "stream",
     "text": [
      "C:\\Users\\afcad\\AppData\\Local\\Temp\\ipykernel_1044\\2538836546.py:69: RuntimeWarning: This filename (Sujeto1_R_processed.fif) does not conform to MNE naming conventions. All epochs files should end with -epo.fif, -epo.fif.gz, _epo.fif or _epo.fif.gz\n",
      "  epochs_R = mne.read_epochs(file_R, preload=True)\n"
     ]
    },
    {
     "name": "stdout",
     "output_type": "stream",
     "text": [
      "Not setting metadata\n",
      "68 matching events found\n",
      "No baseline correction applied\n",
      "0 projection items activated\n",
      "Reading c:\\Users\\afcad\\Downloads\\Sujeto1_MF_processed.fif ...\n"
     ]
    },
    {
     "name": "stderr",
     "output_type": "stream",
     "text": [
      "C:\\Users\\afcad\\AppData\\Local\\Temp\\ipykernel_1044\\2538836546.py:70: RuntimeWarning: This filename (Sujeto1_MF_processed.fif) does not conform to MNE naming conventions. All epochs files should end with -epo.fif, -epo.fif.gz, _epo.fif or _epo.fif.gz\n",
      "  epochs_MF = mne.read_epochs(file_MF, preload=True)\n"
     ]
    },
    {
     "name": "stdout",
     "output_type": "stream",
     "text": [
      "    Found the data of interest:\n",
      "        t =   -2500.00 ...    2500.00 ms\n",
      "        0 CTF compensation matrices available\n",
      "Not setting metadata\n",
      "145 matching events found\n",
      "No baseline correction applied\n",
      "0 projection items activated\n",
      "Effective window size : 0.250 (s)\n",
      "Effective window size : 0.250 (s)\n",
      "Reading c:\\Users\\afcad\\Downloads\\Sujeto2_R_processed.fif ...\n",
      "    Found the data of interest:\n"
     ]
    },
    {
     "name": "stderr",
     "output_type": "stream",
     "text": [
      "C:\\Users\\afcad\\AppData\\Local\\Temp\\ipykernel_1044\\2538836546.py:69: RuntimeWarning: This filename (Sujeto2_R_processed.fif) does not conform to MNE naming conventions. All epochs files should end with -epo.fif, -epo.fif.gz, _epo.fif or _epo.fif.gz\n",
      "  epochs_R = mne.read_epochs(file_R, preload=True)\n"
     ]
    },
    {
     "name": "stdout",
     "output_type": "stream",
     "text": [
      "        t =   -2500.00 ...    2500.00 ms\n",
      "        0 CTF compensation matrices available\n",
      "Not setting metadata\n",
      "58 matching events found\n",
      "No baseline correction applied\n",
      "0 projection items activated\n",
      "Reading c:\\Users\\afcad\\Downloads\\Sujeto2_MF_processed.fif ...\n"
     ]
    },
    {
     "name": "stderr",
     "output_type": "stream",
     "text": [
      "C:\\Users\\afcad\\AppData\\Local\\Temp\\ipykernel_1044\\2538836546.py:70: RuntimeWarning: This filename (Sujeto2_MF_processed.fif) does not conform to MNE naming conventions. All epochs files should end with -epo.fif, -epo.fif.gz, _epo.fif or _epo.fif.gz\n",
      "  epochs_MF = mne.read_epochs(file_MF, preload=True)\n"
     ]
    },
    {
     "name": "stdout",
     "output_type": "stream",
     "text": [
      "    Found the data of interest:\n",
      "        t =   -2500.00 ...    2500.00 ms\n",
      "        0 CTF compensation matrices available\n",
      "Not setting metadata\n",
      "138 matching events found\n",
      "No baseline correction applied\n",
      "0 projection items activated\n",
      "Effective window size : 0.250 (s)\n",
      "Effective window size : 0.250 (s)\n",
      "Reading c:\\Users\\afcad\\Downloads\\Sujeto3_R_processed.fif ...\n",
      "    Found the data of interest:\n",
      "        t =   -2500.00 ...    2500.00 ms\n",
      "        0 CTF compensation matrices available\n"
     ]
    },
    {
     "name": "stderr",
     "output_type": "stream",
     "text": [
      "C:\\Users\\afcad\\AppData\\Local\\Temp\\ipykernel_1044\\2538836546.py:69: RuntimeWarning: This filename (Sujeto3_R_processed.fif) does not conform to MNE naming conventions. All epochs files should end with -epo.fif, -epo.fif.gz, _epo.fif or _epo.fif.gz\n",
      "  epochs_R = mne.read_epochs(file_R, preload=True)\n"
     ]
    },
    {
     "name": "stdout",
     "output_type": "stream",
     "text": [
      "Not setting metadata\n",
      "61 matching events found\n",
      "No baseline correction applied\n",
      "0 projection items activated\n",
      "Reading c:\\Users\\afcad\\Downloads\\Sujeto3_MF_processed.fif ...\n"
     ]
    },
    {
     "name": "stderr",
     "output_type": "stream",
     "text": [
      "C:\\Users\\afcad\\AppData\\Local\\Temp\\ipykernel_1044\\2538836546.py:70: RuntimeWarning: This filename (Sujeto3_MF_processed.fif) does not conform to MNE naming conventions. All epochs files should end with -epo.fif, -epo.fif.gz, _epo.fif or _epo.fif.gz\n",
      "  epochs_MF = mne.read_epochs(file_MF, preload=True)\n"
     ]
    },
    {
     "name": "stdout",
     "output_type": "stream",
     "text": [
      "    Found the data of interest:\n",
      "        t =   -2500.00 ...    2500.00 ms\n",
      "        0 CTF compensation matrices available\n",
      "Not setting metadata\n",
      "131 matching events found\n",
      "No baseline correction applied\n",
      "0 projection items activated\n",
      "Effective window size : 0.250 (s)\n",
      "Effective window size : 0.250 (s)\n",
      "Reading c:\\Users\\afcad\\Downloads\\Sujeto4_R_processed.fif ...\n",
      "    Found the data of interest:\n",
      "        t =   -2500.00 ...    2500.00 ms\n",
      "        0 CTF compensation matrices available\n"
     ]
    },
    {
     "name": "stderr",
     "output_type": "stream",
     "text": [
      "C:\\Users\\afcad\\AppData\\Local\\Temp\\ipykernel_1044\\2538836546.py:69: RuntimeWarning: This filename (Sujeto4_R_processed.fif) does not conform to MNE naming conventions. All epochs files should end with -epo.fif, -epo.fif.gz, _epo.fif or _epo.fif.gz\n",
      "  epochs_R = mne.read_epochs(file_R, preload=True)\n"
     ]
    },
    {
     "name": "stdout",
     "output_type": "stream",
     "text": [
      "Not setting metadata\n",
      "60 matching events found\n",
      "No baseline correction applied\n",
      "0 projection items activated\n",
      "Reading c:\\Users\\afcad\\Downloads\\Sujeto4_MF_processed.fif ...\n"
     ]
    },
    {
     "name": "stderr",
     "output_type": "stream",
     "text": [
      "C:\\Users\\afcad\\AppData\\Local\\Temp\\ipykernel_1044\\2538836546.py:70: RuntimeWarning: This filename (Sujeto4_MF_processed.fif) does not conform to MNE naming conventions. All epochs files should end with -epo.fif, -epo.fif.gz, _epo.fif or _epo.fif.gz\n",
      "  epochs_MF = mne.read_epochs(file_MF, preload=True)\n"
     ]
    },
    {
     "name": "stdout",
     "output_type": "stream",
     "text": [
      "    Found the data of interest:\n",
      "        t =   -2500.00 ...    2500.00 ms\n",
      "        0 CTF compensation matrices available\n",
      "Not setting metadata\n",
      "143 matching events found\n",
      "No baseline correction applied\n",
      "0 projection items activated\n",
      "Effective window size : 0.250 (s)\n",
      "Effective window size : 0.250 (s)\n",
      "Reading c:\\Users\\afcad\\Downloads\\Sujeto5_R_processed.fif ...\n",
      "    Found the data of interest:\n",
      "        t =   -2500.00 ...    2500.00 ms\n",
      "        0 CTF compensation matrices available\n"
     ]
    },
    {
     "name": "stderr",
     "output_type": "stream",
     "text": [
      "C:\\Users\\afcad\\AppData\\Local\\Temp\\ipykernel_1044\\2538836546.py:69: RuntimeWarning: This filename (Sujeto5_R_processed.fif) does not conform to MNE naming conventions. All epochs files should end with -epo.fif, -epo.fif.gz, _epo.fif or _epo.fif.gz\n",
      "  epochs_R = mne.read_epochs(file_R, preload=True)\n"
     ]
    },
    {
     "name": "stdout",
     "output_type": "stream",
     "text": [
      "Not setting metadata\n",
      "63 matching events found\n",
      "No baseline correction applied\n",
      "0 projection items activated\n",
      "Reading c:\\Users\\afcad\\Downloads\\Sujeto5_MF_processed.fif ...\n"
     ]
    },
    {
     "name": "stderr",
     "output_type": "stream",
     "text": [
      "C:\\Users\\afcad\\AppData\\Local\\Temp\\ipykernel_1044\\2538836546.py:70: RuntimeWarning: This filename (Sujeto5_MF_processed.fif) does not conform to MNE naming conventions. All epochs files should end with -epo.fif, -epo.fif.gz, _epo.fif or _epo.fif.gz\n",
      "  epochs_MF = mne.read_epochs(file_MF, preload=True)\n"
     ]
    },
    {
     "name": "stdout",
     "output_type": "stream",
     "text": [
      "    Found the data of interest:\n",
      "        t =   -2500.00 ...    2500.00 ms\n",
      "        0 CTF compensation matrices available\n",
      "Not setting metadata\n",
      "141 matching events found\n",
      "No baseline correction applied\n",
      "0 projection items activated\n",
      "Effective window size : 0.250 (s)\n",
      "Effective window size : 0.250 (s)\n",
      "Reading c:\\Users\\afcad\\Downloads\\Sujeto6_R_processed.fif ...\n",
      "    Found the data of interest:\n",
      "        t =   -2500.00 ...    2500.00 ms\n",
      "        0 CTF compensation matrices available\n"
     ]
    },
    {
     "name": "stderr",
     "output_type": "stream",
     "text": [
      "C:\\Users\\afcad\\AppData\\Local\\Temp\\ipykernel_1044\\2538836546.py:69: RuntimeWarning: This filename (Sujeto6_R_processed.fif) does not conform to MNE naming conventions. All epochs files should end with -epo.fif, -epo.fif.gz, _epo.fif or _epo.fif.gz\n",
      "  epochs_R = mne.read_epochs(file_R, preload=True)\n"
     ]
    },
    {
     "name": "stdout",
     "output_type": "stream",
     "text": [
      "Not setting metadata\n",
      "72 matching events found\n",
      "No baseline correction applied\n",
      "0 projection items activated\n",
      "Reading c:\\Users\\afcad\\Downloads\\Sujeto6_MF_processed.fif ...\n"
     ]
    },
    {
     "name": "stderr",
     "output_type": "stream",
     "text": [
      "C:\\Users\\afcad\\AppData\\Local\\Temp\\ipykernel_1044\\2538836546.py:70: RuntimeWarning: This filename (Sujeto6_MF_processed.fif) does not conform to MNE naming conventions. All epochs files should end with -epo.fif, -epo.fif.gz, _epo.fif or _epo.fif.gz\n",
      "  epochs_MF = mne.read_epochs(file_MF, preload=True)\n"
     ]
    },
    {
     "name": "stdout",
     "output_type": "stream",
     "text": [
      "    Found the data of interest:\n",
      "        t =   -2500.00 ...    2500.00 ms\n",
      "        0 CTF compensation matrices available\n",
      "Not setting metadata\n",
      "107 matching events found\n",
      "No baseline correction applied\n",
      "0 projection items activated\n",
      "Effective window size : 0.250 (s)\n",
      "Effective window size : 0.250 (s)\n",
      "Reading c:\\Users\\afcad\\Downloads\\Sujeto7_R_processed.fif ...\n",
      "    Found the data of interest:\n"
     ]
    },
    {
     "name": "stderr",
     "output_type": "stream",
     "text": [
      "C:\\Users\\afcad\\AppData\\Local\\Temp\\ipykernel_1044\\2538836546.py:69: RuntimeWarning: This filename (Sujeto7_R_processed.fif) does not conform to MNE naming conventions. All epochs files should end with -epo.fif, -epo.fif.gz, _epo.fif or _epo.fif.gz\n",
      "  epochs_R = mne.read_epochs(file_R, preload=True)\n"
     ]
    },
    {
     "name": "stdout",
     "output_type": "stream",
     "text": [
      "        t =   -2500.00 ...    2500.00 ms\n",
      "        0 CTF compensation matrices available\n",
      "Not setting metadata\n",
      "55 matching events found\n",
      "No baseline correction applied\n",
      "0 projection items activated\n",
      "Reading c:\\Users\\afcad\\Downloads\\Sujeto7_MF_processed.fif ...\n"
     ]
    },
    {
     "name": "stderr",
     "output_type": "stream",
     "text": [
      "C:\\Users\\afcad\\AppData\\Local\\Temp\\ipykernel_1044\\2538836546.py:70: RuntimeWarning: This filename (Sujeto7_MF_processed.fif) does not conform to MNE naming conventions. All epochs files should end with -epo.fif, -epo.fif.gz, _epo.fif or _epo.fif.gz\n",
      "  epochs_MF = mne.read_epochs(file_MF, preload=True)\n"
     ]
    },
    {
     "name": "stdout",
     "output_type": "stream",
     "text": [
      "    Found the data of interest:\n",
      "        t =   -2500.00 ...    2500.00 ms\n",
      "        0 CTF compensation matrices available\n",
      "Not setting metadata\n",
      "130 matching events found\n",
      "No baseline correction applied\n",
      "0 projection items activated\n",
      "Effective window size : 0.250 (s)\n",
      "Effective window size : 0.250 (s)\n",
      "Reading c:\\Users\\afcad\\Downloads\\Sujeto8_R_processed.fif ...\n",
      "    Found the data of interest:\n",
      "        t =   -2500.00 ...    2500.00 ms\n",
      "        0 CTF compensation matrices available\n"
     ]
    },
    {
     "name": "stderr",
     "output_type": "stream",
     "text": [
      "C:\\Users\\afcad\\AppData\\Local\\Temp\\ipykernel_1044\\2538836546.py:69: RuntimeWarning: This filename (Sujeto8_R_processed.fif) does not conform to MNE naming conventions. All epochs files should end with -epo.fif, -epo.fif.gz, _epo.fif or _epo.fif.gz\n",
      "  epochs_R = mne.read_epochs(file_R, preload=True)\n"
     ]
    },
    {
     "name": "stdout",
     "output_type": "stream",
     "text": [
      "Not setting metadata\n",
      "63 matching events found\n",
      "No baseline correction applied\n",
      "0 projection items activated\n",
      "Reading c:\\Users\\afcad\\Downloads\\Sujeto8_MF_processed.fif ...\n"
     ]
    },
    {
     "name": "stderr",
     "output_type": "stream",
     "text": [
      "C:\\Users\\afcad\\AppData\\Local\\Temp\\ipykernel_1044\\2538836546.py:70: RuntimeWarning: This filename (Sujeto8_MF_processed.fif) does not conform to MNE naming conventions. All epochs files should end with -epo.fif, -epo.fif.gz, _epo.fif or _epo.fif.gz\n",
      "  epochs_MF = mne.read_epochs(file_MF, preload=True)\n"
     ]
    },
    {
     "name": "stdout",
     "output_type": "stream",
     "text": [
      "    Found the data of interest:\n",
      "        t =   -2500.00 ...    2500.00 ms\n",
      "        0 CTF compensation matrices available\n",
      "Not setting metadata\n",
      "138 matching events found\n",
      "No baseline correction applied\n",
      "0 projection items activated\n",
      "Effective window size : 0.250 (s)\n",
      "Effective window size : 0.250 (s)\n",
      "Reading c:\\Users\\afcad\\Downloads\\Sujeto9_R_processed.fif ...\n",
      "    Found the data of interest:\n",
      "        t =   -2500.00 ...    2500.00 ms\n",
      "        0 CTF compensation matrices available\n"
     ]
    },
    {
     "name": "stderr",
     "output_type": "stream",
     "text": [
      "C:\\Users\\afcad\\AppData\\Local\\Temp\\ipykernel_1044\\2538836546.py:69: RuntimeWarning: This filename (Sujeto9_R_processed.fif) does not conform to MNE naming conventions. All epochs files should end with -epo.fif, -epo.fif.gz, _epo.fif or _epo.fif.gz\n",
      "  epochs_R = mne.read_epochs(file_R, preload=True)\n"
     ]
    },
    {
     "name": "stdout",
     "output_type": "stream",
     "text": [
      "Not setting metadata\n",
      "60 matching events found\n",
      "No baseline correction applied\n",
      "0 projection items activated\n",
      "Reading c:\\Users\\afcad\\Downloads\\Sujeto9_MF_processed.fif ...\n"
     ]
    },
    {
     "name": "stderr",
     "output_type": "stream",
     "text": [
      "C:\\Users\\afcad\\AppData\\Local\\Temp\\ipykernel_1044\\2538836546.py:70: RuntimeWarning: This filename (Sujeto9_MF_processed.fif) does not conform to MNE naming conventions. All epochs files should end with -epo.fif, -epo.fif.gz, _epo.fif or _epo.fif.gz\n",
      "  epochs_MF = mne.read_epochs(file_MF, preload=True)\n"
     ]
    },
    {
     "name": "stdout",
     "output_type": "stream",
     "text": [
      "    Found the data of interest:\n",
      "        t =   -2500.00 ...    2500.00 ms\n",
      "        0 CTF compensation matrices available\n",
      "Not setting metadata\n",
      "143 matching events found\n",
      "No baseline correction applied\n",
      "0 projection items activated\n",
      "Effective window size : 0.250 (s)\n",
      "Effective window size : 0.250 (s)\n",
      "Reading c:\\Users\\afcad\\Downloads\\Sujeto10_R_processed.fif ...\n"
     ]
    },
    {
     "name": "stderr",
     "output_type": "stream",
     "text": [
      "C:\\Users\\afcad\\AppData\\Local\\Temp\\ipykernel_1044\\2538836546.py:69: RuntimeWarning: This filename (Sujeto10_R_processed.fif) does not conform to MNE naming conventions. All epochs files should end with -epo.fif, -epo.fif.gz, _epo.fif or _epo.fif.gz\n",
      "  epochs_R = mne.read_epochs(file_R, preload=True)\n"
     ]
    },
    {
     "name": "stdout",
     "output_type": "stream",
     "text": [
      "    Found the data of interest:\n",
      "        t =   -2500.00 ...    2500.00 ms\n",
      "        0 CTF compensation matrices available\n",
      "Not setting metadata\n",
      "64 matching events found\n",
      "No baseline correction applied\n",
      "0 projection items activated\n",
      "Reading c:\\Users\\afcad\\Downloads\\Sujeto10_MF_processed.fif ...\n"
     ]
    },
    {
     "name": "stderr",
     "output_type": "stream",
     "text": [
      "C:\\Users\\afcad\\AppData\\Local\\Temp\\ipykernel_1044\\2538836546.py:70: RuntimeWarning: This filename (Sujeto10_MF_processed.fif) does not conform to MNE naming conventions. All epochs files should end with -epo.fif, -epo.fif.gz, _epo.fif or _epo.fif.gz\n",
      "  epochs_MF = mne.read_epochs(file_MF, preload=True)\n"
     ]
    },
    {
     "name": "stdout",
     "output_type": "stream",
     "text": [
      "    Found the data of interest:\n",
      "        t =   -2500.00 ...    2500.00 ms\n",
      "        0 CTF compensation matrices available\n",
      "Not setting metadata\n",
      "137 matching events found\n",
      "No baseline correction applied\n",
      "0 projection items activated\n",
      "Effective window size : 0.250 (s)\n",
      "Effective window size : 0.250 (s)\n",
      "Reading c:\\Users\\afcad\\Downloads\\Sujeto11_R_processed.fif ...\n",
      "    Found the data of interest:\n",
      "        t =   -2500.00 ...    2500.00 ms\n",
      "        0 CTF compensation matrices available\n"
     ]
    },
    {
     "name": "stderr",
     "output_type": "stream",
     "text": [
      "C:\\Users\\afcad\\AppData\\Local\\Temp\\ipykernel_1044\\2538836546.py:69: RuntimeWarning: This filename (Sujeto11_R_processed.fif) does not conform to MNE naming conventions. All epochs files should end with -epo.fif, -epo.fif.gz, _epo.fif or _epo.fif.gz\n",
      "  epochs_R = mne.read_epochs(file_R, preload=True)\n"
     ]
    },
    {
     "name": "stdout",
     "output_type": "stream",
     "text": [
      "Not setting metadata\n",
      "53 matching events found\n",
      "No baseline correction applied\n",
      "0 projection items activated\n",
      "Reading c:\\Users\\afcad\\Downloads\\Sujeto11_MF_processed.fif ...\n"
     ]
    },
    {
     "name": "stderr",
     "output_type": "stream",
     "text": [
      "C:\\Users\\afcad\\AppData\\Local\\Temp\\ipykernel_1044\\2538836546.py:70: RuntimeWarning: This filename (Sujeto11_MF_processed.fif) does not conform to MNE naming conventions. All epochs files should end with -epo.fif, -epo.fif.gz, _epo.fif or _epo.fif.gz\n",
      "  epochs_MF = mne.read_epochs(file_MF, preload=True)\n"
     ]
    },
    {
     "name": "stdout",
     "output_type": "stream",
     "text": [
      "    Found the data of interest:\n",
      "        t =   -2500.00 ...    2500.00 ms\n",
      "        0 CTF compensation matrices available\n",
      "Not setting metadata\n",
      "107 matching events found\n",
      "No baseline correction applied\n",
      "0 projection items activated\n",
      "Effective window size : 0.250 (s)\n",
      "Effective window size : 0.250 (s)\n",
      "Reading c:\\Users\\afcad\\Downloads\\Sujeto13_R_processed.fif ...\n",
      "    Found the data of interest:\n",
      "        t =   -2500.00 ...    2500.00 ms\n",
      "        0 CTF compensation matrices available\n"
     ]
    },
    {
     "name": "stderr",
     "output_type": "stream",
     "text": [
      "C:\\Users\\afcad\\AppData\\Local\\Temp\\ipykernel_1044\\2538836546.py:69: RuntimeWarning: This filename (Sujeto13_R_processed.fif) does not conform to MNE naming conventions. All epochs files should end with -epo.fif, -epo.fif.gz, _epo.fif or _epo.fif.gz\n",
      "  epochs_R = mne.read_epochs(file_R, preload=True)\n"
     ]
    },
    {
     "name": "stdout",
     "output_type": "stream",
     "text": [
      "Not setting metadata\n",
      "63 matching events found\n",
      "No baseline correction applied\n",
      "0 projection items activated\n",
      "Reading c:\\Users\\afcad\\Downloads\\Sujeto13_MF_processed.fif ...\n"
     ]
    },
    {
     "name": "stderr",
     "output_type": "stream",
     "text": [
      "C:\\Users\\afcad\\AppData\\Local\\Temp\\ipykernel_1044\\2538836546.py:70: RuntimeWarning: This filename (Sujeto13_MF_processed.fif) does not conform to MNE naming conventions. All epochs files should end with -epo.fif, -epo.fif.gz, _epo.fif or _epo.fif.gz\n",
      "  epochs_MF = mne.read_epochs(file_MF, preload=True)\n"
     ]
    },
    {
     "name": "stdout",
     "output_type": "stream",
     "text": [
      "    Found the data of interest:\n",
      "        t =   -2500.00 ...    2500.00 ms\n",
      "        0 CTF compensation matrices available\n",
      "Not setting metadata\n",
      "141 matching events found\n",
      "No baseline correction applied\n",
      "0 projection items activated\n",
      "Effective window size : 0.250 (s)\n",
      "Effective window size : 0.250 (s)\n",
      "Reading c:\\Users\\afcad\\Downloads\\Sujeto14_R_processed.fif ...\n",
      "    Found the data of interest:\n",
      "        t =   -2500.00 ...    2500.00 ms\n",
      "        0 CTF compensation matrices available\n"
     ]
    },
    {
     "name": "stderr",
     "output_type": "stream",
     "text": [
      "C:\\Users\\afcad\\AppData\\Local\\Temp\\ipykernel_1044\\2538836546.py:69: RuntimeWarning: This filename (Sujeto14_R_processed.fif) does not conform to MNE naming conventions. All epochs files should end with -epo.fif, -epo.fif.gz, _epo.fif or _epo.fif.gz\n",
      "  epochs_R = mne.read_epochs(file_R, preload=True)\n"
     ]
    },
    {
     "name": "stdout",
     "output_type": "stream",
     "text": [
      "Not setting metadata\n",
      "71 matching events found\n",
      "No baseline correction applied\n",
      "0 projection items activated\n",
      "Reading c:\\Users\\afcad\\Downloads\\Sujeto14_MF_processed.fif ...\n",
      "    Found the data of interest:\n"
     ]
    },
    {
     "name": "stderr",
     "output_type": "stream",
     "text": [
      "C:\\Users\\afcad\\AppData\\Local\\Temp\\ipykernel_1044\\2538836546.py:70: RuntimeWarning: This filename (Sujeto14_MF_processed.fif) does not conform to MNE naming conventions. All epochs files should end with -epo.fif, -epo.fif.gz, _epo.fif or _epo.fif.gz\n",
      "  epochs_MF = mne.read_epochs(file_MF, preload=True)\n"
     ]
    },
    {
     "name": "stdout",
     "output_type": "stream",
     "text": [
      "        t =   -2500.00 ...    2500.00 ms\n",
      "        0 CTF compensation matrices available\n",
      "Not setting metadata\n",
      "141 matching events found\n",
      "No baseline correction applied\n",
      "0 projection items activated\n",
      "Effective window size : 0.250 (s)\n",
      "Effective window size : 0.250 (s)\n",
      "Reading c:\\Users\\afcad\\Downloads\\Sujeto15_R_processed.fif ...\n",
      "    Found the data of interest:\n",
      "        t =   -2500.00 ...    2500.00 ms\n",
      "        0 CTF compensation matrices available\n"
     ]
    },
    {
     "name": "stderr",
     "output_type": "stream",
     "text": [
      "C:\\Users\\afcad\\AppData\\Local\\Temp\\ipykernel_1044\\2538836546.py:69: RuntimeWarning: This filename (Sujeto15_R_processed.fif) does not conform to MNE naming conventions. All epochs files should end with -epo.fif, -epo.fif.gz, _epo.fif or _epo.fif.gz\n",
      "  epochs_R = mne.read_epochs(file_R, preload=True)\n"
     ]
    },
    {
     "name": "stdout",
     "output_type": "stream",
     "text": [
      "Not setting metadata\n",
      "69 matching events found\n",
      "No baseline correction applied\n",
      "0 projection items activated\n",
      "Reading c:\\Users\\afcad\\Downloads\\Sujeto15_MF_processed.fif ...\n"
     ]
    },
    {
     "name": "stderr",
     "output_type": "stream",
     "text": [
      "C:\\Users\\afcad\\AppData\\Local\\Temp\\ipykernel_1044\\2538836546.py:70: RuntimeWarning: This filename (Sujeto15_MF_processed.fif) does not conform to MNE naming conventions. All epochs files should end with -epo.fif, -epo.fif.gz, _epo.fif or _epo.fif.gz\n",
      "  epochs_MF = mne.read_epochs(file_MF, preload=True)\n"
     ]
    },
    {
     "name": "stdout",
     "output_type": "stream",
     "text": [
      "    Found the data of interest:\n",
      "        t =   -2500.00 ...    2500.00 ms\n",
      "        0 CTF compensation matrices available\n",
      "Not setting metadata\n",
      "141 matching events found\n",
      "No baseline correction applied\n",
      "0 projection items activated\n",
      "Effective window size : 0.250 (s)\n",
      "Effective window size : 0.250 (s)\n",
      "Reading c:\\Users\\afcad\\Downloads\\Sujeto16_R_processed.fif ...\n",
      "    Found the data of interest:\n"
     ]
    },
    {
     "name": "stderr",
     "output_type": "stream",
     "text": [
      "C:\\Users\\afcad\\AppData\\Local\\Temp\\ipykernel_1044\\2538836546.py:69: RuntimeWarning: This filename (Sujeto16_R_processed.fif) does not conform to MNE naming conventions. All epochs files should end with -epo.fif, -epo.fif.gz, _epo.fif or _epo.fif.gz\n",
      "  epochs_R = mne.read_epochs(file_R, preload=True)\n"
     ]
    },
    {
     "name": "stdout",
     "output_type": "stream",
     "text": [
      "        t =   -2500.00 ...    2500.00 ms\n",
      "        0 CTF compensation matrices available\n",
      "Not setting metadata\n",
      "52 matching events found\n",
      "No baseline correction applied\n",
      "0 projection items activated\n",
      "Reading c:\\Users\\afcad\\Downloads\\Sujeto16_MF_processed.fif ...\n"
     ]
    },
    {
     "name": "stderr",
     "output_type": "stream",
     "text": [
      "C:\\Users\\afcad\\AppData\\Local\\Temp\\ipykernel_1044\\2538836546.py:70: RuntimeWarning: This filename (Sujeto16_MF_processed.fif) does not conform to MNE naming conventions. All epochs files should end with -epo.fif, -epo.fif.gz, _epo.fif or _epo.fif.gz\n",
      "  epochs_MF = mne.read_epochs(file_MF, preload=True)\n"
     ]
    },
    {
     "name": "stdout",
     "output_type": "stream",
     "text": [
      "    Found the data of interest:\n",
      "        t =   -2500.00 ...    2500.00 ms\n",
      "        0 CTF compensation matrices available\n",
      "Not setting metadata\n",
      "106 matching events found\n",
      "No baseline correction applied\n",
      "0 projection items activated\n",
      "Effective window size : 0.250 (s)\n",
      "Effective window size : 0.250 (s)\n",
      "Reading c:\\Users\\afcad\\Downloads\\Sujeto17_R_processed.fif ...\n",
      "    Found the data of interest:\n",
      "        t =   -2500.00 ...    2500.00 ms\n",
      "        0 CTF compensation matrices available\n"
     ]
    },
    {
     "name": "stderr",
     "output_type": "stream",
     "text": [
      "C:\\Users\\afcad\\AppData\\Local\\Temp\\ipykernel_1044\\2538836546.py:69: RuntimeWarning: This filename (Sujeto17_R_processed.fif) does not conform to MNE naming conventions. All epochs files should end with -epo.fif, -epo.fif.gz, _epo.fif or _epo.fif.gz\n",
      "  epochs_R = mne.read_epochs(file_R, preload=True)\n"
     ]
    },
    {
     "name": "stdout",
     "output_type": "stream",
     "text": [
      "Not setting metadata\n",
      "72 matching events found\n",
      "No baseline correction applied\n",
      "0 projection items activated\n",
      "Reading c:\\Users\\afcad\\Downloads\\Sujeto17_MF_processed.fif ...\n"
     ]
    },
    {
     "name": "stderr",
     "output_type": "stream",
     "text": [
      "C:\\Users\\afcad\\AppData\\Local\\Temp\\ipykernel_1044\\2538836546.py:70: RuntimeWarning: This filename (Sujeto17_MF_processed.fif) does not conform to MNE naming conventions. All epochs files should end with -epo.fif, -epo.fif.gz, _epo.fif or _epo.fif.gz\n",
      "  epochs_MF = mne.read_epochs(file_MF, preload=True)\n"
     ]
    },
    {
     "name": "stdout",
     "output_type": "stream",
     "text": [
      "    Found the data of interest:\n",
      "        t =   -2500.00 ...    2500.00 ms\n",
      "        0 CTF compensation matrices available\n",
      "Not setting metadata\n",
      "145 matching events found\n",
      "No baseline correction applied\n",
      "0 projection items activated\n",
      "Effective window size : 0.250 (s)\n",
      "Effective window size : 0.250 (s)\n",
      "Reading c:\\Users\\afcad\\Downloads\\Sujeto18_R_processed.fif ...\n",
      "    Found the data of interest:\n",
      "        t =   -2500.00 ...    2500.00 ms\n",
      "        0 CTF compensation matrices available\n"
     ]
    },
    {
     "name": "stderr",
     "output_type": "stream",
     "text": [
      "C:\\Users\\afcad\\AppData\\Local\\Temp\\ipykernel_1044\\2538836546.py:69: RuntimeWarning: This filename (Sujeto18_R_processed.fif) does not conform to MNE naming conventions. All epochs files should end with -epo.fif, -epo.fif.gz, _epo.fif or _epo.fif.gz\n",
      "  epochs_R = mne.read_epochs(file_R, preload=True)\n"
     ]
    },
    {
     "name": "stdout",
     "output_type": "stream",
     "text": [
      "Not setting metadata\n",
      "44 matching events found\n",
      "No baseline correction applied\n",
      "0 projection items activated\n",
      "Reading c:\\Users\\afcad\\Downloads\\Sujeto18_MF_processed.fif ...\n"
     ]
    },
    {
     "name": "stderr",
     "output_type": "stream",
     "text": [
      "C:\\Users\\afcad\\AppData\\Local\\Temp\\ipykernel_1044\\2538836546.py:70: RuntimeWarning: This filename (Sujeto18_MF_processed.fif) does not conform to MNE naming conventions. All epochs files should end with -epo.fif, -epo.fif.gz, _epo.fif or _epo.fif.gz\n",
      "  epochs_MF = mne.read_epochs(file_MF, preload=True)\n"
     ]
    },
    {
     "name": "stdout",
     "output_type": "stream",
     "text": [
      "    Found the data of interest:\n",
      "        t =   -2500.00 ...    2500.00 ms\n",
      "        0 CTF compensation matrices available\n",
      "Not setting metadata\n",
      "137 matching events found\n",
      "No baseline correction applied\n",
      "0 projection items activated\n",
      "Effective window size : 0.250 (s)\n",
      "Effective window size : 0.250 (s)\n",
      "Reading c:\\Users\\afcad\\Downloads\\Sujeto19_R_processed.fif ...\n",
      "    Found the data of interest:\n",
      "        t =   -2500.00 ...    2500.00 ms\n",
      "        0 CTF compensation matrices available\n"
     ]
    },
    {
     "name": "stderr",
     "output_type": "stream",
     "text": [
      "C:\\Users\\afcad\\AppData\\Local\\Temp\\ipykernel_1044\\2538836546.py:69: RuntimeWarning: This filename (Sujeto19_R_processed.fif) does not conform to MNE naming conventions. All epochs files should end with -epo.fif, -epo.fif.gz, _epo.fif or _epo.fif.gz\n",
      "  epochs_R = mne.read_epochs(file_R, preload=True)\n"
     ]
    },
    {
     "name": "stdout",
     "output_type": "stream",
     "text": [
      "Not setting metadata\n",
      "68 matching events found\n",
      "No baseline correction applied\n",
      "0 projection items activated\n",
      "Reading c:\\Users\\afcad\\Downloads\\Sujeto19_MF_processed.fif ...\n"
     ]
    },
    {
     "name": "stderr",
     "output_type": "stream",
     "text": [
      "C:\\Users\\afcad\\AppData\\Local\\Temp\\ipykernel_1044\\2538836546.py:70: RuntimeWarning: This filename (Sujeto19_MF_processed.fif) does not conform to MNE naming conventions. All epochs files should end with -epo.fif, -epo.fif.gz, _epo.fif or _epo.fif.gz\n",
      "  epochs_MF = mne.read_epochs(file_MF, preload=True)\n"
     ]
    },
    {
     "name": "stdout",
     "output_type": "stream",
     "text": [
      "    Found the data of interest:\n",
      "        t =   -2500.00 ...    2500.00 ms\n",
      "        0 CTF compensation matrices available\n",
      "Not setting metadata\n",
      "143 matching events found\n",
      "No baseline correction applied\n",
      "0 projection items activated\n",
      "Effective window size : 0.250 (s)\n",
      "Effective window size : 0.250 (s)\n",
      "Reading c:\\Users\\afcad\\Downloads\\Sujeto20_R_processed.fif ...\n",
      "    Found the data of interest:\n",
      "        t =   -2500.00 ...    2500.00 ms\n",
      "        0 CTF compensation matrices available\n"
     ]
    },
    {
     "name": "stderr",
     "output_type": "stream",
     "text": [
      "C:\\Users\\afcad\\AppData\\Local\\Temp\\ipykernel_1044\\2538836546.py:69: RuntimeWarning: This filename (Sujeto20_R_processed.fif) does not conform to MNE naming conventions. All epochs files should end with -epo.fif, -epo.fif.gz, _epo.fif or _epo.fif.gz\n",
      "  epochs_R = mne.read_epochs(file_R, preload=True)\n"
     ]
    },
    {
     "name": "stdout",
     "output_type": "stream",
     "text": [
      "Not setting metadata\n",
      "71 matching events found\n",
      "No baseline correction applied\n",
      "0 projection items activated\n",
      "Reading c:\\Users\\afcad\\Downloads\\Sujeto20_MF_processed.fif ...\n"
     ]
    },
    {
     "name": "stderr",
     "output_type": "stream",
     "text": [
      "C:\\Users\\afcad\\AppData\\Local\\Temp\\ipykernel_1044\\2538836546.py:70: RuntimeWarning: This filename (Sujeto20_MF_processed.fif) does not conform to MNE naming conventions. All epochs files should end with -epo.fif, -epo.fif.gz, _epo.fif or _epo.fif.gz\n",
      "  epochs_MF = mne.read_epochs(file_MF, preload=True)\n"
     ]
    },
    {
     "name": "stdout",
     "output_type": "stream",
     "text": [
      "    Found the data of interest:\n",
      "        t =   -2500.00 ...    2500.00 ms\n",
      "        0 CTF compensation matrices available\n",
      "Not setting metadata\n",
      "141 matching events found\n",
      "No baseline correction applied\n",
      "0 projection items activated\n",
      "Effective window size : 0.250 (s)\n",
      "Effective window size : 0.250 (s)\n",
      "Reading c:\\Users\\afcad\\Downloads\\Sujeto21_R_processed.fif ...\n",
      "    Found the data of interest:\n",
      "        t =   -2500.00 ...    2500.00 ms\n",
      "        0 CTF compensation matrices available\n"
     ]
    },
    {
     "name": "stderr",
     "output_type": "stream",
     "text": [
      "C:\\Users\\afcad\\AppData\\Local\\Temp\\ipykernel_1044\\2538836546.py:69: RuntimeWarning: This filename (Sujeto21_R_processed.fif) does not conform to MNE naming conventions. All epochs files should end with -epo.fif, -epo.fif.gz, _epo.fif or _epo.fif.gz\n",
      "  epochs_R = mne.read_epochs(file_R, preload=True)\n"
     ]
    },
    {
     "name": "stdout",
     "output_type": "stream",
     "text": [
      "Not setting metadata\n",
      "47 matching events found\n",
      "No baseline correction applied\n",
      "0 projection items activated\n",
      "Reading c:\\Users\\afcad\\Downloads\\Sujeto21_MF_processed.fif ...\n"
     ]
    },
    {
     "name": "stderr",
     "output_type": "stream",
     "text": [
      "C:\\Users\\afcad\\AppData\\Local\\Temp\\ipykernel_1044\\2538836546.py:70: RuntimeWarning: This filename (Sujeto21_MF_processed.fif) does not conform to MNE naming conventions. All epochs files should end with -epo.fif, -epo.fif.gz, _epo.fif or _epo.fif.gz\n",
      "  epochs_MF = mne.read_epochs(file_MF, preload=True)\n"
     ]
    },
    {
     "name": "stdout",
     "output_type": "stream",
     "text": [
      "    Found the data of interest:\n",
      "        t =   -2500.00 ...    2500.00 ms\n",
      "        0 CTF compensation matrices available\n",
      "Not setting metadata\n",
      "106 matching events found\n",
      "No baseline correction applied\n",
      "0 projection items activated\n",
      "Effective window size : 0.250 (s)\n",
      "Effective window size : 0.250 (s)\n",
      "Reading c:\\Users\\afcad\\Downloads\\Sujeto22_R_processed.fif ...\n",
      "    Found the data of interest:\n",
      "        t =   -2500.00 ...    2500.00 ms\n",
      "        0 CTF compensation matrices available\n"
     ]
    },
    {
     "name": "stderr",
     "output_type": "stream",
     "text": [
      "C:\\Users\\afcad\\AppData\\Local\\Temp\\ipykernel_1044\\2538836546.py:69: RuntimeWarning: This filename (Sujeto22_R_processed.fif) does not conform to MNE naming conventions. All epochs files should end with -epo.fif, -epo.fif.gz, _epo.fif or _epo.fif.gz\n",
      "  epochs_R = mne.read_epochs(file_R, preload=True)\n"
     ]
    },
    {
     "name": "stdout",
     "output_type": "stream",
     "text": [
      "Not setting metadata\n",
      "67 matching events found\n",
      "No baseline correction applied\n",
      "0 projection items activated\n",
      "Reading c:\\Users\\afcad\\Downloads\\Sujeto22_MF_processed.fif ...\n"
     ]
    },
    {
     "name": "stderr",
     "output_type": "stream",
     "text": [
      "C:\\Users\\afcad\\AppData\\Local\\Temp\\ipykernel_1044\\2538836546.py:70: RuntimeWarning: This filename (Sujeto22_MF_processed.fif) does not conform to MNE naming conventions. All epochs files should end with -epo.fif, -epo.fif.gz, _epo.fif or _epo.fif.gz\n",
      "  epochs_MF = mne.read_epochs(file_MF, preload=True)\n"
     ]
    },
    {
     "name": "stdout",
     "output_type": "stream",
     "text": [
      "    Found the data of interest:\n",
      "        t =   -2500.00 ...    2500.00 ms\n",
      "        0 CTF compensation matrices available\n",
      "Not setting metadata\n",
      "138 matching events found\n",
      "No baseline correction applied\n",
      "0 projection items activated\n",
      "Effective window size : 0.250 (s)\n",
      "Effective window size : 0.250 (s)\n",
      "Reading c:\\Users\\afcad\\Downloads\\Sujeto23_R_processed.fif ...\n",
      "    Found the data of interest:\n",
      "        t =   -2500.00 ...    2500.00 ms\n",
      "        0 CTF compensation matrices available\n",
      "Not setting metadata\n",
      "11 matching events found\n",
      "No baseline correction applied\n",
      "0 projection items activated\n",
      "Reading c:\\Users\\afcad\\Downloads\\Sujeto23_MF_processed.fif ...\n"
     ]
    },
    {
     "name": "stderr",
     "output_type": "stream",
     "text": [
      "C:\\Users\\afcad\\AppData\\Local\\Temp\\ipykernel_1044\\2538836546.py:69: RuntimeWarning: This filename (Sujeto23_R_processed.fif) does not conform to MNE naming conventions. All epochs files should end with -epo.fif, -epo.fif.gz, _epo.fif or _epo.fif.gz\n",
      "  epochs_R = mne.read_epochs(file_R, preload=True)\n",
      "C:\\Users\\afcad\\AppData\\Local\\Temp\\ipykernel_1044\\2538836546.py:70: RuntimeWarning: This filename (Sujeto23_MF_processed.fif) does not conform to MNE naming conventions. All epochs files should end with -epo.fif, -epo.fif.gz, _epo.fif or _epo.fif.gz\n",
      "  epochs_MF = mne.read_epochs(file_MF, preload=True)\n"
     ]
    },
    {
     "name": "stdout",
     "output_type": "stream",
     "text": [
      "    Found the data of interest:\n",
      "        t =   -2500.00 ...    2500.00 ms\n",
      "        0 CTF compensation matrices available\n",
      "Not setting metadata\n",
      "125 matching events found\n",
      "No baseline correction applied\n",
      "0 projection items activated\n",
      "Effective window size : 0.250 (s)\n",
      "Effective window size : 0.250 (s)\n",
      "Reading c:\\Users\\afcad\\Downloads\\Sujeto24_R_processed.fif ...\n",
      "    Found the data of interest:\n",
      "        t =   -2500.00 ...    2500.00 ms\n",
      "        0 CTF compensation matrices available\n"
     ]
    },
    {
     "name": "stderr",
     "output_type": "stream",
     "text": [
      "C:\\Users\\afcad\\AppData\\Local\\Temp\\ipykernel_1044\\2538836546.py:69: RuntimeWarning: This filename (Sujeto24_R_processed.fif) does not conform to MNE naming conventions. All epochs files should end with -epo.fif, -epo.fif.gz, _epo.fif or _epo.fif.gz\n",
      "  epochs_R = mne.read_epochs(file_R, preload=True)\n"
     ]
    },
    {
     "name": "stdout",
     "output_type": "stream",
     "text": [
      "Not setting metadata\n",
      "61 matching events found\n",
      "No baseline correction applied\n",
      "0 projection items activated\n",
      "Reading c:\\Users\\afcad\\Downloads\\Sujeto24_MF_processed.fif ...\n"
     ]
    },
    {
     "name": "stderr",
     "output_type": "stream",
     "text": [
      "C:\\Users\\afcad\\AppData\\Local\\Temp\\ipykernel_1044\\2538836546.py:70: RuntimeWarning: This filename (Sujeto24_MF_processed.fif) does not conform to MNE naming conventions. All epochs files should end with -epo.fif, -epo.fif.gz, _epo.fif or _epo.fif.gz\n",
      "  epochs_MF = mne.read_epochs(file_MF, preload=True)\n"
     ]
    },
    {
     "name": "stdout",
     "output_type": "stream",
     "text": [
      "    Found the data of interest:\n",
      "        t =   -2500.00 ...    2500.00 ms\n",
      "        0 CTF compensation matrices available\n",
      "Not setting metadata\n",
      "132 matching events found\n",
      "No baseline correction applied\n",
      "0 projection items activated\n",
      "Effective window size : 0.250 (s)\n",
      "Effective window size : 0.250 (s)\n",
      "Reading c:\\Users\\afcad\\Downloads\\Sujeto25_R_processed.fif ...\n",
      "    Found the data of interest:\n",
      "        t =   -2500.00 ...    2500.00 ms\n",
      "        0 CTF compensation matrices available\n"
     ]
    },
    {
     "name": "stderr",
     "output_type": "stream",
     "text": [
      "C:\\Users\\afcad\\AppData\\Local\\Temp\\ipykernel_1044\\2538836546.py:69: RuntimeWarning: This filename (Sujeto25_R_processed.fif) does not conform to MNE naming conventions. All epochs files should end with -epo.fif, -epo.fif.gz, _epo.fif or _epo.fif.gz\n",
      "  epochs_R = mne.read_epochs(file_R, preload=True)\n"
     ]
    },
    {
     "name": "stdout",
     "output_type": "stream",
     "text": [
      "Not setting metadata\n",
      "70 matching events found\n",
      "No baseline correction applied\n",
      "0 projection items activated\n",
      "Reading c:\\Users\\afcad\\Downloads\\Sujeto25_MF_processed.fif ...\n"
     ]
    },
    {
     "name": "stderr",
     "output_type": "stream",
     "text": [
      "C:\\Users\\afcad\\AppData\\Local\\Temp\\ipykernel_1044\\2538836546.py:70: RuntimeWarning: This filename (Sujeto25_MF_processed.fif) does not conform to MNE naming conventions. All epochs files should end with -epo.fif, -epo.fif.gz, _epo.fif or _epo.fif.gz\n",
      "  epochs_MF = mne.read_epochs(file_MF, preload=True)\n"
     ]
    },
    {
     "name": "stdout",
     "output_type": "stream",
     "text": [
      "    Found the data of interest:\n",
      "        t =   -2500.00 ...    2500.00 ms\n",
      "        0 CTF compensation matrices available\n",
      "Not setting metadata\n",
      "140 matching events found\n",
      "No baseline correction applied\n",
      "0 projection items activated\n",
      "Effective window size : 0.250 (s)\n",
      "Effective window size : 0.250 (s)\n",
      "Reading c:\\Users\\afcad\\Downloads\\Sujeto26_R_processed.fif ...\n",
      "    Found the data of interest:\n",
      "        t =   -2500.00 ...    2500.00 ms\n",
      "        0 CTF compensation matrices available\n"
     ]
    },
    {
     "name": "stderr",
     "output_type": "stream",
     "text": [
      "C:\\Users\\afcad\\AppData\\Local\\Temp\\ipykernel_1044\\2538836546.py:69: RuntimeWarning: This filename (Sujeto26_R_processed.fif) does not conform to MNE naming conventions. All epochs files should end with -epo.fif, -epo.fif.gz, _epo.fif or _epo.fif.gz\n",
      "  epochs_R = mne.read_epochs(file_R, preload=True)\n"
     ]
    },
    {
     "name": "stdout",
     "output_type": "stream",
     "text": [
      "Not setting metadata\n",
      "63 matching events found\n",
      "No baseline correction applied\n",
      "0 projection items activated\n",
      "Reading c:\\Users\\afcad\\Downloads\\Sujeto26_MF_processed.fif ...\n",
      "    Found the data of interest:\n",
      "        t =   -2500.00 ...    2500.00 ms\n",
      "        0 CTF compensation matrices available\n"
     ]
    },
    {
     "name": "stderr",
     "output_type": "stream",
     "text": [
      "C:\\Users\\afcad\\AppData\\Local\\Temp\\ipykernel_1044\\2538836546.py:70: RuntimeWarning: This filename (Sujeto26_MF_processed.fif) does not conform to MNE naming conventions. All epochs files should end with -epo.fif, -epo.fif.gz, _epo.fif or _epo.fif.gz\n",
      "  epochs_MF = mne.read_epochs(file_MF, preload=True)\n"
     ]
    },
    {
     "name": "stdout",
     "output_type": "stream",
     "text": [
      "Not setting metadata\n",
      "74 matching events found\n",
      "No baseline correction applied\n",
      "0 projection items activated\n",
      "Effective window size : 0.250 (s)\n",
      "Effective window size : 0.250 (s)\n",
      "Reading c:\\Users\\afcad\\Downloads\\Sujeto27_R_processed.fif ...\n",
      "    Found the data of interest:\n",
      "        t =   -2500.00 ...    2500.00 ms\n",
      "        0 CTF compensation matrices available\n"
     ]
    },
    {
     "name": "stderr",
     "output_type": "stream",
     "text": [
      "C:\\Users\\afcad\\AppData\\Local\\Temp\\ipykernel_1044\\2538836546.py:69: RuntimeWarning: This filename (Sujeto27_R_processed.fif) does not conform to MNE naming conventions. All epochs files should end with -epo.fif, -epo.fif.gz, _epo.fif or _epo.fif.gz\n",
      "  epochs_R = mne.read_epochs(file_R, preload=True)\n"
     ]
    },
    {
     "name": "stdout",
     "output_type": "stream",
     "text": [
      "Not setting metadata\n",
      "64 matching events found\n",
      "No baseline correction applied\n",
      "0 projection items activated\n",
      "Reading c:\\Users\\afcad\\Downloads\\Sujeto27_MF_processed.fif ...\n",
      "    Found the data of interest:\n",
      "        t =   -2500.00 ...    2500.00 ms\n",
      "        0 CTF compensation matrices available\n"
     ]
    },
    {
     "name": "stderr",
     "output_type": "stream",
     "text": [
      "C:\\Users\\afcad\\AppData\\Local\\Temp\\ipykernel_1044\\2538836546.py:70: RuntimeWarning: This filename (Sujeto27_MF_processed.fif) does not conform to MNE naming conventions. All epochs files should end with -epo.fif, -epo.fif.gz, _epo.fif or _epo.fif.gz\n",
      "  epochs_MF = mne.read_epochs(file_MF, preload=True)\n"
     ]
    },
    {
     "name": "stdout",
     "output_type": "stream",
     "text": [
      "Not setting metadata\n",
      "70 matching events found\n",
      "No baseline correction applied\n",
      "0 projection items activated\n",
      "Effective window size : 0.250 (s)\n",
      "Effective window size : 0.250 (s)\n",
      "Reading c:\\Users\\afcad\\Downloads\\Sujeto28_R_processed.fif ...\n",
      "    Found the data of interest:\n",
      "        t =   -2500.00 ...    2500.00 ms\n",
      "        0 CTF compensation matrices available\n"
     ]
    },
    {
     "name": "stderr",
     "output_type": "stream",
     "text": [
      "C:\\Users\\afcad\\AppData\\Local\\Temp\\ipykernel_1044\\2538836546.py:69: RuntimeWarning: This filename (Sujeto28_R_processed.fif) does not conform to MNE naming conventions. All epochs files should end with -epo.fif, -epo.fif.gz, _epo.fif or _epo.fif.gz\n",
      "  epochs_R = mne.read_epochs(file_R, preload=True)\n"
     ]
    },
    {
     "name": "stdout",
     "output_type": "stream",
     "text": [
      "Not setting metadata\n",
      "55 matching events found\n",
      "No baseline correction applied\n",
      "0 projection items activated\n",
      "Reading c:\\Users\\afcad\\Downloads\\Sujeto28_MF_processed.fif ...\n",
      "    Found the data of interest:\n"
     ]
    },
    {
     "name": "stderr",
     "output_type": "stream",
     "text": [
      "C:\\Users\\afcad\\AppData\\Local\\Temp\\ipykernel_1044\\2538836546.py:70: RuntimeWarning: This filename (Sujeto28_MF_processed.fif) does not conform to MNE naming conventions. All epochs files should end with -epo.fif, -epo.fif.gz, _epo.fif or _epo.fif.gz\n",
      "  epochs_MF = mne.read_epochs(file_MF, preload=True)\n"
     ]
    },
    {
     "name": "stdout",
     "output_type": "stream",
     "text": [
      "        t =   -2500.00 ...    2500.00 ms\n",
      "        0 CTF compensation matrices available\n",
      "Not setting metadata\n",
      "114 matching events found\n",
      "No baseline correction applied\n",
      "0 projection items activated\n",
      "Effective window size : 0.250 (s)\n",
      "Effective window size : 0.250 (s)\n",
      "Reading c:\\Users\\afcad\\Downloads\\Sujeto29_R_processed.fif ...\n",
      "    Found the data of interest:\n",
      "        t =   -2500.00 ...    2500.00 ms\n",
      "        0 CTF compensation matrices available\n"
     ]
    },
    {
     "name": "stderr",
     "output_type": "stream",
     "text": [
      "C:\\Users\\afcad\\AppData\\Local\\Temp\\ipykernel_1044\\2538836546.py:69: RuntimeWarning: This filename (Sujeto29_R_processed.fif) does not conform to MNE naming conventions. All epochs files should end with -epo.fif, -epo.fif.gz, _epo.fif or _epo.fif.gz\n",
      "  epochs_R = mne.read_epochs(file_R, preload=True)\n"
     ]
    },
    {
     "name": "stdout",
     "output_type": "stream",
     "text": [
      "Not setting metadata\n",
      "68 matching events found\n",
      "No baseline correction applied\n",
      "0 projection items activated\n",
      "Reading c:\\Users\\afcad\\Downloads\\Sujeto29_MF_processed.fif ...\n"
     ]
    },
    {
     "name": "stderr",
     "output_type": "stream",
     "text": [
      "C:\\Users\\afcad\\AppData\\Local\\Temp\\ipykernel_1044\\2538836546.py:70: RuntimeWarning: This filename (Sujeto29_MF_processed.fif) does not conform to MNE naming conventions. All epochs files should end with -epo.fif, -epo.fif.gz, _epo.fif or _epo.fif.gz\n",
      "  epochs_MF = mne.read_epochs(file_MF, preload=True)\n"
     ]
    },
    {
     "name": "stdout",
     "output_type": "stream",
     "text": [
      "    Found the data of interest:\n",
      "        t =   -2500.00 ...    2500.00 ms\n",
      "        0 CTF compensation matrices available\n",
      "Not setting metadata\n",
      "145 matching events found\n",
      "No baseline correction applied\n",
      "0 projection items activated\n",
      "Effective window size : 0.250 (s)\n",
      "Effective window size : 0.250 (s)\n",
      "Reading c:\\Users\\afcad\\Downloads\\Sujeto30_R_processed.fif ...\n",
      "    Found the data of interest:\n",
      "        t =   -2500.00 ...    2500.00 ms\n",
      "        0 CTF compensation matrices available\n"
     ]
    },
    {
     "name": "stderr",
     "output_type": "stream",
     "text": [
      "C:\\Users\\afcad\\AppData\\Local\\Temp\\ipykernel_1044\\2538836546.py:69: RuntimeWarning: This filename (Sujeto30_R_processed.fif) does not conform to MNE naming conventions. All epochs files should end with -epo.fif, -epo.fif.gz, _epo.fif or _epo.fif.gz\n",
      "  epochs_R = mne.read_epochs(file_R, preload=True)\n"
     ]
    },
    {
     "name": "stdout",
     "output_type": "stream",
     "text": [
      "Not setting metadata\n",
      "69 matching events found\n",
      "No baseline correction applied\n",
      "0 projection items activated\n",
      "Reading c:\\Users\\afcad\\Downloads\\Sujeto30_MF_processed.fif ...\n"
     ]
    },
    {
     "name": "stderr",
     "output_type": "stream",
     "text": [
      "C:\\Users\\afcad\\AppData\\Local\\Temp\\ipykernel_1044\\2538836546.py:70: RuntimeWarning: This filename (Sujeto30_MF_processed.fif) does not conform to MNE naming conventions. All epochs files should end with -epo.fif, -epo.fif.gz, _epo.fif or _epo.fif.gz\n",
      "  epochs_MF = mne.read_epochs(file_MF, preload=True)\n"
     ]
    },
    {
     "name": "stdout",
     "output_type": "stream",
     "text": [
      "    Found the data of interest:\n",
      "        t =   -2500.00 ...    2500.00 ms\n",
      "        0 CTF compensation matrices available\n",
      "Not setting metadata\n",
      "124 matching events found\n",
      "No baseline correction applied\n",
      "0 projection items activated\n",
      "Effective window size : 0.250 (s)\n",
      "Effective window size : 0.250 (s)\n",
      "Reading c:\\Users\\afcad\\Downloads\\Sujeto31_R_processed.fif ...\n",
      "    Found the data of interest:\n",
      "        t =   -2500.00 ...    2500.00 ms\n",
      "        0 CTF compensation matrices available\n"
     ]
    },
    {
     "name": "stderr",
     "output_type": "stream",
     "text": [
      "C:\\Users\\afcad\\AppData\\Local\\Temp\\ipykernel_1044\\2538836546.py:69: RuntimeWarning: This filename (Sujeto31_R_processed.fif) does not conform to MNE naming conventions. All epochs files should end with -epo.fif, -epo.fif.gz, _epo.fif or _epo.fif.gz\n",
      "  epochs_R = mne.read_epochs(file_R, preload=True)\n"
     ]
    },
    {
     "name": "stdout",
     "output_type": "stream",
     "text": [
      "Not setting metadata\n",
      "61 matching events found\n",
      "No baseline correction applied\n",
      "0 projection items activated\n",
      "Reading c:\\Users\\afcad\\Downloads\\Sujeto31_MF_processed.fif ...\n"
     ]
    },
    {
     "name": "stderr",
     "output_type": "stream",
     "text": [
      "C:\\Users\\afcad\\AppData\\Local\\Temp\\ipykernel_1044\\2538836546.py:70: RuntimeWarning: This filename (Sujeto31_MF_processed.fif) does not conform to MNE naming conventions. All epochs files should end with -epo.fif, -epo.fif.gz, _epo.fif or _epo.fif.gz\n",
      "  epochs_MF = mne.read_epochs(file_MF, preload=True)\n"
     ]
    },
    {
     "name": "stdout",
     "output_type": "stream",
     "text": [
      "    Found the data of interest:\n",
      "        t =   -2500.00 ...    2500.00 ms\n",
      "        0 CTF compensation matrices available\n",
      "Not setting metadata\n",
      "140 matching events found\n",
      "No baseline correction applied\n",
      "0 projection items activated\n",
      "Effective window size : 0.250 (s)\n",
      "Effective window size : 0.250 (s)\n",
      "Reading c:\\Users\\afcad\\Downloads\\Sujeto32_R_processed.fif ...\n",
      "    Found the data of interest:\n"
     ]
    },
    {
     "name": "stderr",
     "output_type": "stream",
     "text": [
      "C:\\Users\\afcad\\AppData\\Local\\Temp\\ipykernel_1044\\2538836546.py:69: RuntimeWarning: This filename (Sujeto32_R_processed.fif) does not conform to MNE naming conventions. All epochs files should end with -epo.fif, -epo.fif.gz, _epo.fif or _epo.fif.gz\n",
      "  epochs_R = mne.read_epochs(file_R, preload=True)\n"
     ]
    },
    {
     "name": "stdout",
     "output_type": "stream",
     "text": [
      "        t =   -2500.00 ...    2500.00 ms\n",
      "        0 CTF compensation matrices available\n",
      "Not setting metadata\n",
      "70 matching events found\n",
      "No baseline correction applied\n",
      "0 projection items activated\n",
      "Reading c:\\Users\\afcad\\Downloads\\Sujeto32_MF_processed.fif ...\n"
     ]
    },
    {
     "name": "stderr",
     "output_type": "stream",
     "text": [
      "C:\\Users\\afcad\\AppData\\Local\\Temp\\ipykernel_1044\\2538836546.py:70: RuntimeWarning: This filename (Sujeto32_MF_processed.fif) does not conform to MNE naming conventions. All epochs files should end with -epo.fif, -epo.fif.gz, _epo.fif or _epo.fif.gz\n",
      "  epochs_MF = mne.read_epochs(file_MF, preload=True)\n"
     ]
    },
    {
     "name": "stdout",
     "output_type": "stream",
     "text": [
      "    Found the data of interest:\n",
      "        t =   -2500.00 ...    2500.00 ms\n",
      "        0 CTF compensation matrices available\n",
      "Not setting metadata\n",
      "127 matching events found\n",
      "No baseline correction applied\n",
      "0 projection items activated\n",
      "Effective window size : 0.250 (s)\n",
      "Effective window size : 0.250 (s)\n",
      "Reading c:\\Users\\afcad\\Downloads\\Sujeto36_R_processed.fif ...\n",
      "    Found the data of interest:\n",
      "        t =   -2500.00 ...    2500.00 ms\n",
      "        0 CTF compensation matrices available\n"
     ]
    },
    {
     "name": "stderr",
     "output_type": "stream",
     "text": [
      "C:\\Users\\afcad\\AppData\\Local\\Temp\\ipykernel_1044\\2538836546.py:69: RuntimeWarning: This filename (Sujeto36_R_processed.fif) does not conform to MNE naming conventions. All epochs files should end with -epo.fif, -epo.fif.gz, _epo.fif or _epo.fif.gz\n",
      "  epochs_R = mne.read_epochs(file_R, preload=True)\n"
     ]
    },
    {
     "name": "stdout",
     "output_type": "stream",
     "text": [
      "Not setting metadata\n",
      "61 matching events found\n",
      "No baseline correction applied\n",
      "0 projection items activated\n",
      "Reading c:\\Users\\afcad\\Downloads\\Sujeto36_MF_processed.fif ...\n"
     ]
    },
    {
     "name": "stderr",
     "output_type": "stream",
     "text": [
      "C:\\Users\\afcad\\AppData\\Local\\Temp\\ipykernel_1044\\2538836546.py:70: RuntimeWarning: This filename (Sujeto36_MF_processed.fif) does not conform to MNE naming conventions. All epochs files should end with -epo.fif, -epo.fif.gz, _epo.fif or _epo.fif.gz\n",
      "  epochs_MF = mne.read_epochs(file_MF, preload=True)\n"
     ]
    },
    {
     "name": "stdout",
     "output_type": "stream",
     "text": [
      "    Found the data of interest:\n",
      "        t =   -2500.00 ...    2500.00 ms\n",
      "        0 CTF compensation matrices available\n",
      "Not setting metadata\n",
      "133 matching events found\n",
      "No baseline correction applied\n",
      "0 projection items activated\n",
      "Effective window size : 0.250 (s)\n",
      "Effective window size : 0.250 (s)\n",
      "Reading c:\\Users\\afcad\\Downloads\\Sujeto37_R_processed.fif ...\n",
      "    Found the data of interest:\n",
      "        t =   -2500.00 ...    2500.00 ms\n",
      "        0 CTF compensation matrices available\n"
     ]
    },
    {
     "name": "stderr",
     "output_type": "stream",
     "text": [
      "C:\\Users\\afcad\\AppData\\Local\\Temp\\ipykernel_1044\\2538836546.py:69: RuntimeWarning: This filename (Sujeto37_R_processed.fif) does not conform to MNE naming conventions. All epochs files should end with -epo.fif, -epo.fif.gz, _epo.fif or _epo.fif.gz\n",
      "  epochs_R = mne.read_epochs(file_R, preload=True)\n"
     ]
    },
    {
     "name": "stdout",
     "output_type": "stream",
     "text": [
      "Not setting metadata\n",
      "71 matching events found\n",
      "No baseline correction applied\n",
      "0 projection items activated\n",
      "Reading c:\\Users\\afcad\\Downloads\\Sujeto37_MF_processed.fif ...\n"
     ]
    },
    {
     "name": "stderr",
     "output_type": "stream",
     "text": [
      "C:\\Users\\afcad\\AppData\\Local\\Temp\\ipykernel_1044\\2538836546.py:70: RuntimeWarning: This filename (Sujeto37_MF_processed.fif) does not conform to MNE naming conventions. All epochs files should end with -epo.fif, -epo.fif.gz, _epo.fif or _epo.fif.gz\n",
      "  epochs_MF = mne.read_epochs(file_MF, preload=True)\n"
     ]
    },
    {
     "name": "stdout",
     "output_type": "stream",
     "text": [
      "    Found the data of interest:\n",
      "        t =   -2500.00 ...    2500.00 ms\n",
      "        0 CTF compensation matrices available\n",
      "Not setting metadata\n",
      "141 matching events found\n",
      "No baseline correction applied\n",
      "0 projection items activated\n",
      "Effective window size : 0.250 (s)\n",
      "Effective window size : 0.250 (s)\n",
      "Resting - Fast Beta (18–30 Hz): 0 significant channels (p < 0.05)\n",
      "Mindfulness - Fast Beta (18–30 Hz): 0 significant channels (p < 0.05)\n",
      "Difference (MF - R) - Fast Beta (18–30 Hz): 6 significant channels (p < 0.05)\n"
     ]
    }
   ],
   "source": [
    "import numpy as np\n",
    "import mne\n",
    "import matplotlib.pyplot as plt\n",
    "from scipy.stats import pearsonr\n",
    "import pandas as pd\n",
    "\n",
    "\n",
    "# df = pd.read_excel('Analisis conductuales - Datos conductuales.xlsx')\n",
    "df = pd.read_excel('EEG-Datos conductuales.xlsx')\n",
    "#print(df.head())\n",
    "\n",
    "sujeto_column = df['Sujeto']\n",
    "data_column = df['MAIA'] #Auto-regulación Confianza Valencia positiva Valencia Negativa\n",
    "\n",
    "print(f\"Initial counts - Sujetos: {len(sujeto_column)}, Responses: {len(data_column)}\")\n",
    "\n",
    "# Create a mask where both columns are not NaN\n",
    "mask = sujeto_column.notna() & data_column.notna()\n",
    "\n",
    "eliminate_mask = sujeto_column.isna() | data_column.isna()\n",
    "# Get the Sujeto values that will be removed\n",
    "eliminated_sujetos = sujeto_column[eliminate_mask]\n",
    "\n",
    "print(\"\\nEliminated due to NaN values:\")\n",
    "print(eliminated_sujetos.to_string())  # to_string() shows all values\n",
    "\n",
    "# Apply the initial mask to both columns\n",
    "sujeto_clean = sujeto_column[mask]\n",
    "data_clean = data_column[mask]\n",
    "\n",
    "# Now exclude specific subjects\n",
    "subjects_to_exclude = ['SUJ_12', 'SUJ_35']  # Add more as needed\n",
    "additional_elim_mask = sujeto_clean.isin(subjects_to_exclude)\n",
    "\n",
    "print(f\"\\nAdditional subjects being excluded: {subjects_to_exclude}\")\n",
    "print(\"These subjects will be removed:\")\n",
    "print(sujeto_clean[additional_elim_mask].to_string())\n",
    "\n",
    "# Final clean mask\n",
    "final_mask = ~additional_elim_mask\n",
    "sujeto_final = sujeto_clean[final_mask]\n",
    "data_final = data_clean[final_mask]\n",
    "\n",
    "print(f\"\\nFinal counts - Sujetos: {len(sujeto_final)}, Responses: {len(data_final)}\")\n",
    "print(\"\\nCleaned Sujetos:\")\n",
    "print(sujeto_final.to_string())\n",
    "print(\"\\nCleaned Data (first 10 values):\")\n",
    "print(data_final.head(10).to_string())\n",
    "\n",
    "# Convert to numpy array\n",
    "responses_array = data_final.to_numpy()\n",
    "print(f\"\\nNumPy array shape: {responses_array.shape}\")\n",
    "print(f\"First 5 array values: {responses_array[:5]}\")\n",
    "\n",
    "def topomap_correlation_states(file_pairs, responses, frequency_bands, title='Correlation with Questionnaire'):\n",
    "\n",
    "    info = mne.read_epochs(file_pairs[0][0]).info\n",
    "    n_bands = len(frequency_bands)\n",
    "    n_channels = len(info['ch_names'])\n",
    "\n",
    "    fig, axes = plt.subplots(3, n_bands, figsize=(3.5 * n_bands, 10))\n",
    "\n",
    "    for col, (band_name, (fmin, fmax)) in enumerate(frequency_bands.items()):\n",
    "        psd_R_all = []\n",
    "        psd_MF_all = []\n",
    "\n",
    "        # --- Extract and average PSDs ---\n",
    "        for file_R, file_MF in file_pairs:\n",
    "            epochs_R = mne.read_epochs(file_R, preload=True)\n",
    "            epochs_MF = mne.read_epochs(file_MF, preload=True)\n",
    "\n",
    "            psd_R, freqs = epochs_R.compute_psd(method='welch', fmin=fmin, fmax=fmax).get_data(return_freqs=True)\n",
    "            psd_MF, _ = epochs_MF.compute_psd(method='welch', fmin=fmin, fmax=fmax).get_data(return_freqs=True)\n",
    "\n",
    "            avg_psd_R = np.mean(psd_R, axis=(0, 2))  # shape: (n_channels,)\n",
    "            avg_psd_MF = np.mean(psd_MF, axis=(0, 2))\n",
    "\n",
    "            psd_R_all.append(avg_psd_R)\n",
    "            psd_MF_all.append(avg_psd_MF)\n",
    "\n",
    "        psd_R_all = np.array(psd_R_all)      # shape: (n_subjects, n_channels)\n",
    "        psd_MF_all = np.array(psd_MF_all)\n",
    "        psd_diff = psd_MF_all - psd_R_all\n",
    "\n",
    "        # --- Correlation for each condition ---\n",
    "        for row, (state_name, data) in enumerate([\n",
    "            (\"Resting\", psd_R_all),\n",
    "            (\"Mindfulness\", psd_MF_all),\n",
    "            (\"Difference (MF - R)\", psd_diff)\n",
    "        ]):\n",
    "            r_vals = np.zeros(n_channels)\n",
    "            p_vals = np.zeros(n_channels)\n",
    "\n",
    "            for ch in range(n_channels):\n",
    "                r_vals[ch], p_vals[ch] = pearsonr(data[:, ch], responses)\n",
    "\n",
    "            sig_mask = p_vals < 0.05  # Threshold for significance\n",
    "\n",
    "            print(f'{state_name} - {band_name}: {np.sum(sig_mask)} significant channels (p < 0.05)')\n",
    "\n",
    "            im, cn = mne.viz.plot_topomap(\n",
    "                r_vals, info, axes=axes[row, col], cmap='jet', show=False,\n",
    "                names=info['ch_names'],\n",
    "                vlim=(-1, 1),\n",
    "                mask=sig_mask,\n",
    "                mask_params=dict(marker='*', markersize=25, markerfacecolor='black')\n",
    "            )\n",
    "            axes[row, col].set_title(f'{band_name}\\n{state_name}', fontsize=10)\n",
    "            plt.colorbar(im, ax=axes[row, col], orientation='horizontal', shrink=0.6)\n",
    "\n",
    "    # --- Row Labels ---\n",
    "    for ax, label in zip(axes[:, 0], ['Resting', 'Mindfulness', 'Difference']):\n",
    "        ax.annotate(label, xy=(-0.2, 0.5), xycoords='axes fraction',\n",
    "                    va='center', ha='right', rotation=90, fontsize=12)\n",
    "\n",
    "    plt.suptitle(title, fontsize=16)\n",
    "    plt.tight_layout()\n",
    "    plt.show()\n",
    "\n",
    "\n",
    "# Your frequency bands\n",
    "frequency_bands = {\n",
    "    'Delta (0.5–4 Hz)': (0.5, 4),\n",
    "    'Theta (4–8 Hz)': (4, 8),\n",
    "    'Alpha (8–12 Hz)': (8, 12),\n",
    "    'Beta (12–18 Hz)': (12, 18),\n",
    "    'Fast Beta (18–30 Hz)': (18, 30)\n",
    "}\n",
    "\n",
    "file_pairs = [\n",
    "    ('Sujeto1_R_processed.fif', 'Sujeto1_MF_processed.fif'),\n",
    "    ('Sujeto2_R_processed.fif', 'Sujeto2_MF_processed.fif'),\n",
    "    ('Sujeto3_R_processed.fif', 'Sujeto3_MF_processed.fif'),\n",
    "    ('Sujeto4_R_processed.fif', 'Sujeto4_MF_processed.fif'),\n",
    "    ('Sujeto5_R_processed.fif', 'Sujeto5_MF_processed.fif'),\n",
    "    ('Sujeto6_R_processed.fif', 'Sujeto6_MF_processed.fif'),\n",
    "    ('Sujeto7_R_processed.fif', 'Sujeto7_MF_processed.fif'),\n",
    "    ('Sujeto8_R_processed.fif', 'Sujeto8_MF_processed.fif'),\n",
    "    ('Sujeto9_R_processed.fif', 'Sujeto9_MF_processed.fif'),\n",
    "    ('Sujeto10_R_processed.fif', 'Sujeto10_MF_processed.fif'),\n",
    "    ('Sujeto11_R_processed.fif', 'Sujeto11_MF_processed.fif'),\n",
    "    #('Sujeto12_R_processed.fif', 'Sujeto12_MF_processed.fif'),  #always excluded\n",
    "    ('Sujeto13_R_processed.fif', 'Sujeto13_MF_processed.fif'),\n",
    "    ('Sujeto14_R_processed.fif', 'Sujeto14_MF_processed.fif'),\n",
    "    ('Sujeto15_R_processed.fif', 'Sujeto15_MF_processed.fif'),\n",
    "    ('Sujeto16_R_processed.fif', 'Sujeto16_MF_processed.fif'),\n",
    "    ('Sujeto17_R_processed.fif', 'Sujeto17_MF_processed.fif'),\n",
    "    ('Sujeto18_R_processed.fif', 'Sujeto18_MF_processed.fif'),\n",
    "    ('Sujeto19_R_processed.fif', 'Sujeto19_MF_processed.fif'),\n",
    "    ('Sujeto20_R_processed.fif', 'Sujeto20_MF_processed.fif'),\n",
    "    ('Sujeto21_R_processed.fif', 'Sujeto21_MF_processed.fif'),\n",
    "    ('Sujeto22_R_processed.fif', 'Sujeto22_MF_processed.fif'),\n",
    "    ('Sujeto23_R_processed.fif', 'Sujeto23_MF_processed.fif'),\n",
    "    ('Sujeto24_R_processed.fif', 'Sujeto24_MF_processed.fif'),\n",
    "    ('Sujeto25_R_processed.fif', 'Sujeto25_MF_processed.fif'),\n",
    "    ('Sujeto26_R_processed.fif', 'Sujeto26_MF_processed.fif'),\n",
    "    ('Sujeto27_R_processed.fif', 'Sujeto27_MF_processed.fif'),\n",
    "    ('Sujeto28_R_processed.fif', 'Sujeto28_MF_processed.fif'),\n",
    "    ('Sujeto29_R_processed.fif', 'Sujeto29_MF_processed.fif'),\n",
    "    ('Sujeto30_R_processed.fif', 'Sujeto30_MF_processed.fif'),\n",
    "    ('Sujeto31_R_processed.fif', 'Sujeto31_MF_processed.fif'),\n",
    "    ('Sujeto32_R_processed.fif', 'Sujeto32_MF_processed.fif'),\n",
    "    # ('Sujeto33_R_processed.fif', 'Sujeto33_MF_processed.fif'),\n",
    "    # ('Sujeto34_R_processed.fif', 'Sujeto34_MF_processed.fif'),\n",
    "    #('Sujeto35_R_processed.fif', 'Sujeto35_MF_processed.fif'), #always excluded\n",
    "    ('Sujeto36_R_processed.fif', 'Sujeto36_MF_processed.fif'),\n",
    "    ('Sujeto37_R_processed.fif', 'Sujeto37_MF_processed.fif')\n",
    "    ]\n",
    "\n",
    "#responses = np.array([4, 4, 6, 7, 7, 1, 8, 7, 9, 2, 5, 7, 4, 6, 8, 6, 7, 7, 6, 8, 8, 4, 8, 9, 7, 8, 5, 7, 5, 4, 7, 4, 7, 6])  #AR2-MF\n",
    "#responses = np.array([0, 3, 6, 1, 2, 4, 5, 6, 7, 1, 5, 8, 3, 1, 7, 4, 7, 8, 4, 4, 5, 1, 5, 2, 5, 6, 4, 1, 2, 1, 4, 0, 8, 1])  #AR3-MF\n",
    "#responses = np.array([2, 5, 5, 5, 5, 3, 5, 6, 7, 1, 6, 4, 2, 7, 7, 3, 6, 4, 7, 5, 6, 3, 8, 9, 6, 5, 7, 5, 4, 3, 5, 1, 7, 6])  #AR4-MF\n",
    "responses = np.array(responses_array.tolist())\n",
    "\n",
    "# file_pairs=file_pairs[:5]\n",
    "# responses=responses[:5]\n",
    "\n",
    "# Call the function\n",
    "topomap_correlation_states(file_pairs, responses, frequency_bands, title='Correlation with MWQT')\n"
   ]
  }
 ],
 "metadata": {
  "kernelspec": {
   "display_name": "base",
   "language": "python",
   "name": "python3"
  },
  "language_info": {
   "codemirror_mode": {
    "name": "ipython",
    "version": 3
   },
   "file_extension": ".py",
   "mimetype": "text/x-python",
   "name": "python",
   "nbconvert_exporter": "python",
   "pygments_lexer": "ipython3",
   "version": "3.10.9"
  }
 },
 "nbformat": 4,
 "nbformat_minor": 2
}
